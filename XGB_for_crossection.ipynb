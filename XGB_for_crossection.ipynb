{
 "cells": [
  {
   "cell_type": "markdown",
   "id": "d76838d3",
   "metadata": {},
   "source": [
    "# Import and Read"
   ]
  },
  {
   "cell_type": "code",
   "execution_count": 1,
   "id": "96d672de",
   "metadata": {},
   "outputs": [
    {
     "data": {
      "text/html": [
       "<style>#notebook { padding-top:0px !important;margin-left:-30px !important; } .container { width:100% !important; } .end_space { min-height:0px !important; } </style>"
      ],
      "text/plain": [
       "<IPython.core.display.HTML object>"
      ]
     },
     "metadata": {},
     "output_type": "display_data"
    }
   ],
   "source": [
    "from IPython.core.display import display, HTML\n",
    "from IPython import get_ipython as get_ipython\n",
    "display(HTML(\n",
    "    '<style>'\n",
    "        '#notebook { padding-top:0px !important;margin-left:-30px !important; } ' \n",
    "        '.container { width:100% !important; } '\n",
    "        '.end_space { min-height:0px !important; } '\n",
    "    '</style>'\n",
    "))\n"
   ]
  },
  {
   "cell_type": "code",
   "execution_count": 5,
   "id": "43d8a294",
   "metadata": {},
   "outputs": [
    {
     "name": "stderr",
     "output_type": "stream",
     "text": [
      "/Users/andrey.golda/.pyenv/versions/3.9.0/lib/python3.9/site-packages/xgboost/compat.py:31: FutureWarning: pandas.Int64Index is deprecated and will be removed from pandas in a future version. Use pandas.Index with the appropriate dtype instead.\n",
      "  from pandas import MultiIndex, Int64Index\n"
     ]
    }
   ],
   "source": [
    "import numpy as np\n",
    "import pandas as pd\n",
    "import seaborn as sns\n",
    "import matplotlib.pyplot as plt\n",
    "import xgboost as xgb\n",
    "from sklearn.model_selection import train_test_split\n",
    "from sklearn.metrics import mean_squared_error"
   ]
  },
  {
   "cell_type": "code",
   "execution_count": 22,
   "id": "a8b29fe4",
   "metadata": {},
   "outputs": [],
   "source": [
    "df = pd.read_csv('./data/clasdb_pi_plus_n.txt', delimiter='\\t', header=None)\n",
    "df.columns = ['Ebeam', 'W', 'Q2', 'cos_theta', 'phi', 'dsigma_dOmega', 'error', 'id']"
   ]
  },
  {
   "cell_type": "code",
   "execution_count": 23,
   "id": "ecffe394",
   "metadata": {},
   "outputs": [],
   "source": [
    "df.loc[8314:65671, 'Ebeam'] = 5.754"
   ]
  },
  {
   "cell_type": "code",
   "execution_count": 24,
   "id": "8dd213a3",
   "metadata": {},
   "outputs": [
    {
     "data": {
      "text/html": [
       "<div>\n",
       "<style scoped>\n",
       "    .dataframe tbody tr th:only-of-type {\n",
       "        vertical-align: middle;\n",
       "    }\n",
       "\n",
       "    .dataframe tbody tr th {\n",
       "        vertical-align: top;\n",
       "    }\n",
       "\n",
       "    .dataframe thead th {\n",
       "        text-align: right;\n",
       "    }\n",
       "</style>\n",
       "<table border=\"1\" class=\"dataframe\">\n",
       "  <thead>\n",
       "    <tr style=\"text-align: right;\">\n",
       "      <th></th>\n",
       "      <th>Ebeam</th>\n",
       "      <th>W</th>\n",
       "      <th>Q2</th>\n",
       "      <th>cos_theta</th>\n",
       "      <th>phi</th>\n",
       "      <th>dsigma_dOmega</th>\n",
       "      <th>error</th>\n",
       "      <th>id</th>\n",
       "    </tr>\n",
       "  </thead>\n",
       "  <tbody>\n",
       "    <tr>\n",
       "      <th>8314</th>\n",
       "      <td>5.754</td>\n",
       "      <td>1.11</td>\n",
       "      <td>1.715</td>\n",
       "      <td>-0.1</td>\n",
       "      <td>7.5</td>\n",
       "      <td>0.24835</td>\n",
       "      <td>0.08115</td>\n",
       "      <td>E13M1</td>\n",
       "    </tr>\n",
       "    <tr>\n",
       "      <th>8315</th>\n",
       "      <td>5.754</td>\n",
       "      <td>1.11</td>\n",
       "      <td>1.715</td>\n",
       "      <td>-0.1</td>\n",
       "      <td>22.5</td>\n",
       "      <td>0.31508</td>\n",
       "      <td>0.08929</td>\n",
       "      <td>E13M1</td>\n",
       "    </tr>\n",
       "    <tr>\n",
       "      <th>8316</th>\n",
       "      <td>5.754</td>\n",
       "      <td>1.11</td>\n",
       "      <td>1.715</td>\n",
       "      <td>-0.1</td>\n",
       "      <td>37.5</td>\n",
       "      <td>0.33037</td>\n",
       "      <td>0.09702</td>\n",
       "      <td>E13M1</td>\n",
       "    </tr>\n",
       "  </tbody>\n",
       "</table>\n",
       "</div>"
      ],
      "text/plain": [
       "      Ebeam     W     Q2  cos_theta   phi  dsigma_dOmega    error     id\n",
       "8314  5.754  1.11  1.715       -0.1   7.5        0.24835  0.08115  E13M1\n",
       "8315  5.754  1.11  1.715       -0.1  22.5        0.31508  0.08929  E13M1\n",
       "8316  5.754  1.11  1.715       -0.1  37.5        0.33037  0.09702  E13M1"
      ]
     },
     "execution_count": 24,
     "metadata": {},
     "output_type": "execute_result"
    }
   ],
   "source": [
    "df.iloc[8314:8317]"
   ]
  },
  {
   "cell_type": "markdown",
   "id": "2799960b",
   "metadata": {},
   "source": [
    "# XGB"
   ]
  },
  {
   "cell_type": "code",
   "execution_count": 25,
   "id": "b08590d1",
   "metadata": {},
   "outputs": [],
   "source": [
    "df_se = df[df.Ebeam == 5.754]"
   ]
  },
  {
   "cell_type": "code",
   "execution_count": 26,
   "id": "ac94eca8",
   "metadata": {},
   "outputs": [
    {
     "name": "stderr",
     "output_type": "stream",
     "text": [
      "/Users/andrey.golda/.pyenv/versions/3.9.0/lib/python3.9/site-packages/xgboost/data.py:192: FutureWarning: pandas.Int64Index is deprecated and will be removed from pandas in a future version. Use pandas.Index with the appropriate dtype instead.\n",
      "  from pandas import MultiIndex, Int64Index\n"
     ]
    },
    {
     "name": "stdout",
     "output_type": "stream",
     "text": [
      "Mean Squared Error: 0.011048374969677944\n"
     ]
    }
   ],
   "source": [
    "# Extract the features and target column\n",
    "X = df_se[['Ebeam', 'W', 'Q2', 'cos_theta', 'phi']]\n",
    "y = df_se['dsigma_dOmega']\n",
    "\n",
    "# Split the dataset into training and testing sets\n",
    "X_train, X_test, y_train, y_test = train_test_split(X, y, test_size=0.3, random_state=42)\n",
    "\n",
    "# Train the XGBoost model\n",
    "xgb_model = xgb.XGBRegressor(objective='reg:squarederror', )\n",
    "xgb_model.fit(X_train, y_train)\n",
    "\n",
    "# Make predictions on the testing set and calculate the mean squared error\n",
    "y_pred = xgb_model.predict(X_test)\n",
    "mse = mean_squared_error(y_test, y_pred)\n",
    "print(\"Mean Squared Error:\", mse)"
   ]
  },
  {
   "cell_type": "code",
   "execution_count": 33,
   "id": "cccc546e",
   "metadata": {},
   "outputs": [],
   "source": [
    "df_fix = df_se[(df_se.Ebeam == 5.754)&(df_se.W == 1.110)&(df_se.Q2 == 1.715)&(df_se.cos_theta==0.7)]"
   ]
  },
  {
   "cell_type": "code",
   "execution_count": 34,
   "id": "ff1fa5a1",
   "metadata": {},
   "outputs": [
    {
     "data": {
      "text/plain": [
       "<matplotlib.collections.PathCollection at 0x12efbf8e0>"
      ]
     },
     "execution_count": 34,
     "metadata": {},
     "output_type": "execute_result"
    },
    {
     "data": {
      "image/png": "[encoded data removed]",
      "text/plain": [
       "<Figure size 432x288 with 1 Axes>"
      ]
     },
     "metadata": {
      "needs_background": "light"
     },
     "output_type": "display_data"
    }
   ],
   "source": [
    "plt.scatter(x=df_fix.phi, \n",
    "            y=df_fix.dsigma_dOmega)"
   ]
  },
  {
   "cell_type": "code",
   "execution_count": null,
   "id": "3250fb23",
   "metadata": {},
   "outputs": [],
   "source": []
  },
  {
   "cell_type": "code",
   "execution_count": null,
   "id": "0737d987",
   "metadata": {},
   "outputs": [],
   "source": []
  },
  {
   "cell_type": "code",
   "execution_count": null,
   "id": "d7bfdac3",
   "metadata": {},
   "outputs": [],
   "source": []
  },
  {
   "cell_type": "code",
   "execution_count": null,
   "id": "7736a935",
   "metadata": {},
   "outputs": [],
   "source": []
  },
  {
   "cell_type": "code",
   "execution_count": null,
   "id": "3118f492",
   "metadata": {},
   "outputs": [],
   "source": []
  },
  {
   "cell_type": "code",
   "execution_count": null,
   "id": "5e0225cd",
   "metadata": {},
   "outputs": [],
   "source": []
  }
 ],
 "metadata": {
  "kernelspec": {
   "display_name": "Python 3",
   "language": "python",
   "name": "python3"
  },
  "language_info": {
   "codemirror_mode": {
    "name": "ipython",
    "version": 3
   },
   "file_extension": ".py",
   "mimetype": "text/x-python",
   "name": "python",
   "nbconvert_exporter": "python",
   "pygments_lexer": "ipython3",
   "version": "3.9.0"
  }
 },
 "nbformat": 4,
 "nbformat_minor": 5
}
