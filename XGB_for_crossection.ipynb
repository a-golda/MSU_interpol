{
 "cells": [
  {
   "cell_type": "markdown",
   "id": "ccf2c1b1",
   "metadata": {},
   "source": [
    "# Import and Read"
   ]
  },
  {
   "cell_type": "code",
   "execution_count": 101,
   "id": "9b752763",
   "metadata": {},
   "outputs": [
    {
     "data": {
      "text/html": [
       "<style>#notebook { padding-top:0px !important;margin-left:-30px !important; } .container { width:100% !important; } .end_space { min-height:0px !important; } </style>"
      ],
      "text/plain": [
       "<IPython.core.display.HTML object>"
      ]
     },
     "metadata": {},
     "output_type": "display_data"
    }
   ],
   "source": [
    "from IPython.core.display import display, HTML\n",
    "from IPython import get_ipython as get_ipython\n",
    "display(HTML(\n",
    "    '<style>'\n",
    "        '#notebook { padding-top:0px !important;margin-left:-30px !important; } ' \n",
    "        '.container { width:100% !important; } '\n",
    "        '.end_space { min-height:0px !important; } '\n",
    "    '</style>'\n",
    "))\n"
   ]
  },
  {
   "cell_type": "code",
   "execution_count": 109,
   "id": "f24fbdcb",
   "metadata": {},
   "outputs": [],
   "source": [
    "import numpy as np\n",
    "import pandas as pd\n",
    "import seaborn as sns\n",
    "import matplotlib.pyplot as plt\n",
    "import xgboost as xgb\n",
    "from sklearn.model_selection import train_test_split\n",
    "from sklearn.metrics import mean_squared_error"
   ]
  },
  {
   "cell_type": "code",
   "execution_count": 110,
   "id": "cdd73a23",
   "metadata": {},
   "outputs": [],
   "source": [
    "df = pd.read_csv('./data/clasdb_pi_plus_n.txt', delimiter='\\t', header=None)\n",
    "df.columns = ['Ebeam', 'W', 'Q2', 'cos_theta', 'phi', 'dsigma_dOmega', 'error', 'id']"
   ]
  },
  {
   "cell_type": "code",
   "execution_count": 111,
   "id": "49d5e724",
   "metadata": {},
   "outputs": [],
   "source": [
    "df.loc[8314:65671, 'Ebeam'] = 5.754"
   ]
  },
  {
   "cell_type": "code",
   "execution_count": 112,
   "id": "e2ae5ea3",
   "metadata": {},
   "outputs": [
    {
     "data": {
      "text/html": [
       "<div>\n",
       "<style scoped>\n",
       "    .dataframe tbody tr th:only-of-type {\n",
       "        vertical-align: middle;\n",
       "    }\n",
       "\n",
       "    .dataframe tbody tr th {\n",
       "        vertical-align: top;\n",
       "    }\n",
       "\n",
       "    .dataframe thead th {\n",
       "        text-align: right;\n",
       "    }\n",
       "</style>\n",
       "<table border=\"1\" class=\"dataframe\">\n",
       "  <thead>\n",
       "    <tr style=\"text-align: right;\">\n",
       "      <th></th>\n",
       "      <th>Ebeam</th>\n",
       "      <th>W</th>\n",
       "      <th>Q2</th>\n",
       "      <th>cos_theta</th>\n",
       "      <th>phi</th>\n",
       "      <th>dsigma_dOmega</th>\n",
       "      <th>error</th>\n",
       "      <th>id</th>\n",
       "    </tr>\n",
       "  </thead>\n",
       "  <tbody>\n",
       "    <tr>\n",
       "      <th>8314</th>\n",
       "      <td>5.754</td>\n",
       "      <td>1.11</td>\n",
       "      <td>1.715</td>\n",
       "      <td>-0.1</td>\n",
       "      <td>7.5</td>\n",
       "      <td>0.24835</td>\n",
       "      <td>0.08115</td>\n",
       "      <td>E13M1</td>\n",
       "    </tr>\n",
       "    <tr>\n",
       "      <th>8315</th>\n",
       "      <td>5.754</td>\n",
       "      <td>1.11</td>\n",
       "      <td>1.715</td>\n",
       "      <td>-0.1</td>\n",
       "      <td>22.5</td>\n",
       "      <td>0.31508</td>\n",
       "      <td>0.08929</td>\n",
       "      <td>E13M1</td>\n",
       "    </tr>\n",
       "    <tr>\n",
       "      <th>8316</th>\n",
       "      <td>5.754</td>\n",
       "      <td>1.11</td>\n",
       "      <td>1.715</td>\n",
       "      <td>-0.1</td>\n",
       "      <td>37.5</td>\n",
       "      <td>0.33037</td>\n",
       "      <td>0.09702</td>\n",
       "      <td>E13M1</td>\n",
       "    </tr>\n",
       "  </tbody>\n",
       "</table>\n",
       "</div>"
      ],
      "text/plain": [
       "      Ebeam     W     Q2  cos_theta   phi  dsigma_dOmega    error     id\n",
       "8314  5.754  1.11  1.715       -0.1   7.5        0.24835  0.08115  E13M1\n",
       "8315  5.754  1.11  1.715       -0.1  22.5        0.31508  0.08929  E13M1\n",
       "8316  5.754  1.11  1.715       -0.1  37.5        0.33037  0.09702  E13M1"
      ]
     },
     "execution_count": 112,
     "metadata": {},
     "output_type": "execute_result"
    }
   ],
   "source": [
    "df.iloc[8314:8317]"
   ]
  },
  {
   "cell_type": "code",
   "execution_count": 118,
   "id": "38d57d30",
   "metadata": {},
   "outputs": [
    {
     "data": {
      "text/html": [
       "<div>\n",
       "<style scoped>\n",
       "    .dataframe tbody tr th:only-of-type {\n",
       "        vertical-align: middle;\n",
       "    }\n",
       "\n",
       "    .dataframe tbody tr th {\n",
       "        vertical-align: top;\n",
       "    }\n",
       "\n",
       "    .dataframe thead th {\n",
       "        text-align: right;\n",
       "    }\n",
       "</style>\n",
       "<table border=\"1\" class=\"dataframe\">\n",
       "  <thead>\n",
       "    <tr style=\"text-align: right;\">\n",
       "      <th></th>\n",
       "      <th>Ebeam</th>\n",
       "      <th>W</th>\n",
       "      <th>Q2</th>\n",
       "      <th>cos_theta</th>\n",
       "      <th>phi</th>\n",
       "      <th>dsigma_dOmega</th>\n",
       "      <th>error</th>\n",
       "      <th>id</th>\n",
       "    </tr>\n",
       "  </thead>\n",
       "  <tbody>\n",
       "    <tr>\n",
       "      <th>15346</th>\n",
       "      <td>5.754</td>\n",
       "      <td>1.27</td>\n",
       "      <td>2.05</td>\n",
       "      <td>0.9</td>\n",
       "      <td>7.5</td>\n",
       "      <td>1.72870</td>\n",
       "      <td>0.10616</td>\n",
       "      <td>E13M44</td>\n",
       "    </tr>\n",
       "    <tr>\n",
       "      <th>53610</th>\n",
       "      <td>5.754</td>\n",
       "      <td>1.27</td>\n",
       "      <td>2.05</td>\n",
       "      <td>0.9</td>\n",
       "      <td>7.5</td>\n",
       "      <td>1.17904</td>\n",
       "      <td>0.07595</td>\n",
       "      <td>E14M35</td>\n",
       "    </tr>\n",
       "  </tbody>\n",
       "</table>\n",
       "</div>"
      ],
      "text/plain": [
       "       Ebeam     W    Q2  cos_theta  phi  dsigma_dOmega    error      id\n",
       "15346  5.754  1.27  2.05        0.9  7.5        1.72870  0.10616  E13M44\n",
       "53610  5.754  1.27  2.05        0.9  7.5        1.17904  0.07595  E14M35"
      ]
     },
     "execution_count": 118,
     "metadata": {},
     "output_type": "execute_result"
    }
   ],
   "source": [
    "df[(df.Ebeam == 5.754)&\n",
    "  (df.W == 1.27)&\n",
    "  (df.Q2 == 2.05)&\n",
    "  (df.cos_theta == 0.9)&\n",
    "  (df.phi == 7.5)]"
   ]
  },
  {
   "cell_type": "markdown",
   "id": "5a95f14c",
   "metadata": {},
   "source": [
    "# Preprocessing (remove soft dups)"
   ]
  },
  {
   "cell_type": "code",
   "execution_count": null,
   "id": "4dc1fc15",
   "metadata": {},
   "outputs": [],
   "source": []
  },
  {
   "cell_type": "markdown",
   "id": "04825afc",
   "metadata": {},
   "source": [
    "# XGB Ebeam == 5.754"
   ]
  },
  {
   "cell_type": "code",
   "execution_count": 113,
   "id": "efea0868",
   "metadata": {},
   "outputs": [],
   "source": [
    "df_se = df[df.Ebeam == 5.754]"
   ]
  },
  {
   "cell_type": "code",
   "execution_count": 114,
   "id": "c606cc6b",
   "metadata": {},
   "outputs": [
    {
     "name": "stderr",
     "output_type": "stream",
     "text": [
      "/Users/andrey.golda/.pyenv/versions/3.9.0/lib/python3.9/site-packages/xgboost/data.py:192: FutureWarning: pandas.Int64Index is deprecated and will be removed from pandas in a future version. Use pandas.Index with the appropriate dtype instead.\n",
      "  from pandas import MultiIndex, Int64Index\n"
     ]
    },
    {
     "name": "stdout",
     "output_type": "stream",
     "text": [
      "Mean Squared Error: 0.011048374969677944\n"
     ]
    }
   ],
   "source": [
    "# Extract the features and target column\n",
    "X = df_se[['Ebeam', 'W', 'Q2', 'cos_theta', 'phi']]\n",
    "y = df_se['dsigma_dOmega']\n",
    "\n",
    "# Split the dataset into training and testing sets\n",
    "X_train, X_test, y_train, y_test = train_test_split(X, y, test_size=0.3, random_state=42)\n",
    "\n",
    "# Train the XGBoost model\n",
    "xgb_model = xgb.XGBRegressor(objective='reg:squarederror', )\n",
    "xgb_model.fit(X_train, y_train)\n",
    "\n",
    "# Make predictions on the testing set and calculate the mean squared error\n",
    "y_pred = xgb_model.predict(X_test)\n",
    "mse = mean_squared_error(y_test, y_pred)\n",
    "print(\"Mean Squared Error:\", mse)"
   ]
  },
  {
   "cell_type": "code",
   "execution_count": 115,
   "id": "beb68b36",
   "metadata": {},
   "outputs": [
    {
     "data": {
      "text/plain": [
       "1.27"
      ]
     },
     "execution_count": 115,
     "metadata": {},
     "output_type": "execute_result"
    }
   ],
   "source": [
    "df_se.W.value_counts(1).index[0]"
   ]
  },
  {
   "cell_type": "code",
   "execution_count": 116,
   "id": "755352cb",
   "metadata": {},
   "outputs": [],
   "source": [
    "df_fix = df_se[(df_se.Ebeam == 5.754)&\n",
    "               (df_se.W == df_se.W.value_counts(1).index[0])&\n",
    "               (df_se.Q2 == df_se.Q2.value_counts(1).index[0])&\n",
    "               (df_se.cos_theta == df_se.cos_theta.value_counts(1).index[0])]"
   ]
  },
  {
   "cell_type": "code",
   "execution_count": 90,
   "id": "0ad8822d",
   "metadata": {},
   "outputs": [],
   "source": [
    "df_fix = df_fix.sort_values('phi')"
   ]
  },
  {
   "cell_type": "code",
   "execution_count": 91,
   "id": "062310de",
   "metadata": {},
   "outputs": [
    {
     "data": {
      "text/plain": [
       "<matplotlib.collections.PathCollection at 0x13d21c3a0>"
      ]
     },
     "execution_count": 91,
     "metadata": {},
     "output_type": "execute_result"
    },
    {
     "data": {
      "image/png": "[encoded data removed]",
      "text/plain": [
       "<Figure size 432x288 with 1 Axes>"
      ]
     },
     "metadata": {
      "needs_background": "light"
     },
     "output_type": "display_data"
    }
   ],
   "source": [
    "plt.scatter(x=df_fix.phi, \n",
    "            y=df_fix.dsigma_dOmega)"
   ]
  },
  {
   "cell_type": "markdown",
   "id": "e809aa94",
   "metadata": {},
   "source": [
    "# Fit a + b * cos(2*phi) + c * cos(phi) "
   ]
  },
  {
   "cell_type": "code",
   "execution_count": 92,
   "id": "95c2757f",
   "metadata": {},
   "outputs": [
    {
     "name": "stdout",
     "output_type": "stream",
     "text": [
      "a = 1.653996466048903 , b = 0.002358451326365252, c = -0.0050445866457646815\n"
     ]
    }
   ],
   "source": [
    "#importing necessary libraries \n",
    "import numpy as np\n",
    "from scipy.optimize import curve_fit\n",
    " \n",
    "#define the function \n",
    "def func(x, a, b, c): \n",
    "    return a + b*np.cos(2*x) + c*np.cos(x) \n",
    " \n",
    "#input data \n",
    "xdata = df_fix.phi\n",
    "ydata = df_fix.dsigma_dOmega \n",
    " \n",
    "#fitting the data \n",
    "popt, pcov = curve_fit(func, xdata, ydata, p0= [0, 2, 12]) \n",
    " \n",
    "a, b, c = popt[0], popt[1], popt[2]\n",
    "#print the fitted parameters \n",
    "print(\"a = %s , b = %s, c = %s\" % (a, b, c))"
   ]
  },
  {
   "cell_type": "code",
   "execution_count": 93,
   "id": "187617ed",
   "metadata": {},
   "outputs": [],
   "source": [
    "phi_theory = [i for i in range(0,361,)]\n",
    "dsigma_dOmega_theory = [func(x, a, b, c) for x in phi_theory]"
   ]
  },
  {
   "cell_type": "code",
   "execution_count": 94,
   "id": "ef081f41",
   "metadata": {},
   "outputs": [
    {
     "data": {
      "text/plain": [
       "1.653448738336732"
      ]
     },
     "execution_count": 94,
     "metadata": {},
     "output_type": "execute_result"
    }
   ],
   "source": [
    "func(360, a, b, c)"
   ]
  },
  {
   "cell_type": "code",
   "execution_count": 95,
   "id": "555f540e",
   "metadata": {},
   "outputs": [
    {
     "data": {
      "text/plain": [
       "<matplotlib.collections.PathCollection at 0x13d1fbeb0>"
      ]
     },
     "execution_count": 95,
     "metadata": {},
     "output_type": "execute_result"
    },
    {
     "data": {
      "image/png": "[encoded data removed]",
      "text/plain": [
       "<Figure size 1760x480 with 1 Axes>"
      ]
     },
     "metadata": {
      "needs_background": "light"
     },
     "output_type": "display_data"
    }
   ],
   "source": [
    "plt.figure(figsize=(22, 6), dpi=80)\n",
    "plt.plot(phi_theory, dsigma_dOmega_theory)\n",
    "plt.scatter(x=df_fix.phi, \n",
    "            y=df_fix.dsigma_dOmega)"
   ]
  },
  {
   "cell_type": "code",
   "execution_count": 96,
   "id": "d648b4c3",
   "metadata": {},
   "outputs": [
    {
     "data": {
      "text/plain": [
       "<matplotlib.collections.PathCollection at 0x13d4fd7f0>"
      ]
     },
     "execution_count": 96,
     "metadata": {},
     "output_type": "execute_result"
    },
    {
     "data": {
      "image/png": "[encoded data removed]",
      "text/plain": [
       "<Figure size 1760x480 with 1 Axes>"
      ]
     },
     "metadata": {
      "needs_background": "light"
     },
     "output_type": "display_data"
    }
   ],
   "source": [
    "from scipy.interpolate import UnivariateSpline\n",
    "plt.figure(figsize=(22, 6), dpi=80)\n",
    "plt.scatter(x=df_fix.phi, \n",
    "            y=df_fix.dsigma_dOmega)"
   ]
  },
  {
   "cell_type": "code",
   "execution_count": 98,
   "id": "d6576e50",
   "metadata": {},
   "outputs": [
    {
     "name": "stdout",
     "output_type": "stream",
     "text": [
      "nan\n"
     ]
    }
   ],
   "source": [
    "from scipy import interpolate\n",
    "\n",
    "def f(x):\n",
    "    x_points = df_fix.phi.to_numpy()\n",
    "    y_points = df_fix.dsigma_dOmega.to_numpy()\n",
    "\n",
    "    tck = interpolate.splrep(x_points, y_points)\n",
    "    return interpolate.splev(x, tck)\n",
    "\n",
    "print(f())"
   ]
  },
  {
   "cell_type": "code",
   "execution_count": null,
   "id": "0daead67",
   "metadata": {},
   "outputs": [],
   "source": []
  },
  {
   "cell_type": "code",
   "execution_count": null,
   "id": "953536e9",
   "metadata": {},
   "outputs": [],
   "source": []
  },
  {
   "cell_type": "code",
   "execution_count": null,
   "id": "a1e55bb8",
   "metadata": {},
   "outputs": [],
   "source": []
  },
  {
   "cell_type": "code",
   "execution_count": null,
   "id": "a78a9786",
   "metadata": {},
   "outputs": [],
   "source": []
  }
 ],
 "metadata": {
  "kernelspec": {
   "display_name": "Python 3",
   "language": "python",
   "name": "python3"
  },
  "language_info": {
   "codemirror_mode": {
    "name": "ipython",
    "version": 3
   },
   "file_extension": ".py",
   "mimetype": "text/x-python",
   "name": "python",
   "nbconvert_exporter": "python",
   "pygments_lexer": "ipython3",
   "version": "3.9.0"
  }
 },
 "nbformat": 4,
 "nbformat_minor": 5
}
