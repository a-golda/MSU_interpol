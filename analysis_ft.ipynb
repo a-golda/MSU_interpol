{
 "cells": [
  {
   "cell_type": "markdown",
   "id": "6b97b98c",
   "metadata": {},
   "source": [
    "# Import and Read"
   ]
  },
  {
   "cell_type": "code",
   "execution_count": 88,
   "id": "e679cbf0",
   "metadata": {},
   "outputs": [
    {
     "data": {
      "text/html": [
       "<style>#notebook { padding-top:0px !important;margin-left:-30px !important; } .container { width:100% !important; } .end_space { min-height:0px !important; } </style>"
      ],
      "text/plain": [
       "<IPython.core.display.HTML object>"
      ]
     },
     "metadata": {},
     "output_type": "display_data"
    }
   ],
   "source": [
    "from IPython.core.display import display, HTML\n",
    "from IPython import get_ipython as get_ipython\n",
    "display(HTML(\n",
    "    '<style>'\n",
    "        '#notebook { padding-top:0px !important;margin-left:-30px !important; } ' \n",
    "        '.container { width:100% !important; } '\n",
    "        '.end_space { min-height:0px !important; } '\n",
    "    '</style>'\n",
    "))\n"
   ]
  },
  {
   "cell_type": "code",
   "execution_count": 75,
   "id": "af85f04a",
   "metadata": {},
   "outputs": [],
   "source": [
    "import numpy as np\n",
    "import pandas as pd\n",
    "import seaborn as sns\n",
    "import matplotlib.pyplot as plt"
   ]
  },
  {
   "cell_type": "code",
   "execution_count": 14,
   "id": "445fa79a",
   "metadata": {},
   "outputs": [],
   "source": [
    "df = pd.read_csv('./data/clasdb_pi_plus_n.txt', delimiter='\\t', header=None)\n",
    "df.columns = ['Ebeam', 'W', 'Q2', 'cos(theta)', 'phi', 'dsigma/dOmega', 'error', 'id']"
   ]
  },
  {
   "cell_type": "code",
   "execution_count": 66,
   "id": "dd1c37ae",
   "metadata": {},
   "outputs": [],
   "source": [
    "df.loc[8314:65671, 'Ebeam'] = 5.754"
   ]
  },
  {
   "cell_type": "markdown",
   "id": "742ca03e",
   "metadata": {},
   "source": [
    "# Top level analysis"
   ]
  },
  {
   "cell_type": "code",
   "execution_count": 97,
   "id": "aada1f84",
   "metadata": {},
   "outputs": [
    {
     "data": {
      "text/html": [
       "<div>\n",
       "<style scoped>\n",
       "    .dataframe tbody tr th:only-of-type {\n",
       "        vertical-align: middle;\n",
       "    }\n",
       "\n",
       "    .dataframe tbody tr th {\n",
       "        vertical-align: top;\n",
       "    }\n",
       "\n",
       "    .dataframe thead th {\n",
       "        text-align: right;\n",
       "    }\n",
       "</style>\n",
       "<table border=\"1\" class=\"dataframe\">\n",
       "  <thead>\n",
       "    <tr style=\"text-align: right;\">\n",
       "      <th></th>\n",
       "      <th>Ebeam</th>\n",
       "      <th>W</th>\n",
       "      <th>Q2</th>\n",
       "      <th>cos(theta)</th>\n",
       "      <th>phi</th>\n",
       "      <th>dsigma/dOmega</th>\n",
       "      <th>error</th>\n",
       "      <th>id</th>\n",
       "    </tr>\n",
       "  </thead>\n",
       "  <tbody>\n",
       "    <tr>\n",
       "      <th>0</th>\n",
       "      <td>1.515</td>\n",
       "      <td>1.11</td>\n",
       "      <td>0.3</td>\n",
       "      <td>0.991445</td>\n",
       "      <td>15.0</td>\n",
       "      <td>15.370</td>\n",
       "      <td>5.264366</td>\n",
       "      <td>E8M1</td>\n",
       "    </tr>\n",
       "    <tr>\n",
       "      <th>1</th>\n",
       "      <td>1.515</td>\n",
       "      <td>1.11</td>\n",
       "      <td>0.3</td>\n",
       "      <td>0.991445</td>\n",
       "      <td>45.0</td>\n",
       "      <td>4.511</td>\n",
       "      <td>1.743136</td>\n",
       "      <td>E8M1</td>\n",
       "    </tr>\n",
       "    <tr>\n",
       "      <th>2</th>\n",
       "      <td>1.515</td>\n",
       "      <td>1.11</td>\n",
       "      <td>0.3</td>\n",
       "      <td>0.991445</td>\n",
       "      <td>75.0</td>\n",
       "      <td>4.478</td>\n",
       "      <td>1.611260</td>\n",
       "      <td>E8M1</td>\n",
       "    </tr>\n",
       "    <tr>\n",
       "      <th>3</th>\n",
       "      <td>1.515</td>\n",
       "      <td>1.11</td>\n",
       "      <td>0.3</td>\n",
       "      <td>0.991445</td>\n",
       "      <td>105.0</td>\n",
       "      <td>5.136</td>\n",
       "      <td>1.523529</td>\n",
       "      <td>E8M1</td>\n",
       "    </tr>\n",
       "    <tr>\n",
       "      <th>4</th>\n",
       "      <td>1.515</td>\n",
       "      <td>1.11</td>\n",
       "      <td>0.3</td>\n",
       "      <td>0.991445</td>\n",
       "      <td>135.0</td>\n",
       "      <td>5.078</td>\n",
       "      <td>1.219442</td>\n",
       "      <td>E8M1</td>\n",
       "    </tr>\n",
       "  </tbody>\n",
       "</table>\n",
       "</div>"
      ],
      "text/plain": [
       "   Ebeam     W   Q2  cos(theta)    phi  dsigma/dOmega     error    id\n",
       "0  1.515  1.11  0.3    0.991445   15.0         15.370  5.264366  E8M1\n",
       "1  1.515  1.11  0.3    0.991445   45.0          4.511  1.743136  E8M1\n",
       "2  1.515  1.11  0.3    0.991445   75.0          4.478  1.611260  E8M1\n",
       "3  1.515  1.11  0.3    0.991445  105.0          5.136  1.523529  E8M1\n",
       "4  1.515  1.11  0.3    0.991445  135.0          5.078  1.219442  E8M1"
      ]
     },
     "execution_count": 97,
     "metadata": {},
     "output_type": "execute_result"
    }
   ],
   "source": [
    "df.head(5)"
   ]
  },
  {
   "cell_type": "code",
   "execution_count": 29,
   "id": "1c7399ea",
   "metadata": {},
   "outputs": [
    {
     "data": {
      "text/html": [
       "<div>\n",
       "<style scoped>\n",
       "    .dataframe tbody tr th:only-of-type {\n",
       "        vertical-align: middle;\n",
       "    }\n",
       "\n",
       "    .dataframe tbody tr th {\n",
       "        vertical-align: top;\n",
       "    }\n",
       "\n",
       "    .dataframe thead th {\n",
       "        text-align: right;\n",
       "    }\n",
       "</style>\n",
       "<table border=\"1\" class=\"dataframe\">\n",
       "  <thead>\n",
       "    <tr style=\"text-align: right;\">\n",
       "      <th></th>\n",
       "      <th>isnull</th>\n",
       "      <th>dtypes</th>\n",
       "    </tr>\n",
       "  </thead>\n",
       "  <tbody>\n",
       "    <tr>\n",
       "      <th>Ebeam</th>\n",
       "      <td>0</td>\n",
       "      <td>float64</td>\n",
       "    </tr>\n",
       "    <tr>\n",
       "      <th>W</th>\n",
       "      <td>0</td>\n",
       "      <td>float64</td>\n",
       "    </tr>\n",
       "    <tr>\n",
       "      <th>Q2</th>\n",
       "      <td>0</td>\n",
       "      <td>float64</td>\n",
       "    </tr>\n",
       "    <tr>\n",
       "      <th>cos(theta)</th>\n",
       "      <td>0</td>\n",
       "      <td>float64</td>\n",
       "    </tr>\n",
       "    <tr>\n",
       "      <th>phi</th>\n",
       "      <td>0</td>\n",
       "      <td>float64</td>\n",
       "    </tr>\n",
       "    <tr>\n",
       "      <th>dsigma/dOmega</th>\n",
       "      <td>0</td>\n",
       "      <td>float64</td>\n",
       "    </tr>\n",
       "    <tr>\n",
       "      <th>error</th>\n",
       "      <td>0</td>\n",
       "      <td>float64</td>\n",
       "    </tr>\n",
       "    <tr>\n",
       "      <th>id</th>\n",
       "      <td>0</td>\n",
       "      <td>object</td>\n",
       "    </tr>\n",
       "  </tbody>\n",
       "</table>\n",
       "</div>"
      ],
      "text/plain": [
       "               isnull   dtypes\n",
       "Ebeam               0  float64\n",
       "W                   0  float64\n",
       "Q2                  0  float64\n",
       "cos(theta)          0  float64\n",
       "phi                 0  float64\n",
       "dsigma/dOmega       0  float64\n",
       "error               0  float64\n",
       "id                  0   object"
      ]
     },
     "execution_count": 29,
     "metadata": {},
     "output_type": "execute_result"
    }
   ],
   "source": [
    "pd.DataFrame({'isnull': df.isnull().sum(), 'dtypes': df.dtypes})"
   ]
  },
  {
   "cell_type": "code",
   "execution_count": 89,
   "id": "84f10047",
   "metadata": {},
   "outputs": [
    {
     "data": {
      "text/plain": [
       "E141M119    465\n",
       "E141M121    460\n",
       "E141M128    456\n",
       "E141M120    452\n",
       "E141M116    452\n",
       "           ... \n",
       "E8M68        73\n",
       "E13M210      71\n",
       "E8M84        37\n",
       "E8M47        27\n",
       "E141M160     24\n",
       "Name: id, Length: 561, dtype: int64"
      ]
     },
     "execution_count": 89,
     "metadata": {},
     "output_type": "execute_result"
    }
   ],
   "source": [
    "df.id.value_counts()"
   ]
  },
  {
   "cell_type": "code",
   "execution_count": 84,
   "id": "dfd7eaba",
   "metadata": {},
   "outputs": [
    {
     "data": {
      "image/png": "[encoded data removed]",
      "text/plain": [
       "<Figure size 432x288 with 1 Axes>"
      ]
     },
     "metadata": {
      "needs_background": "light"
     },
     "output_type": "display_data"
    },
    {
     "data": {
      "image/png": "[encoded data removed]",
      "text/plain": [
       "<Figure size 432x288 with 1 Axes>"
      ]
     },
     "metadata": {
      "needs_background": "light"
     },
     "output_type": "display_data"
    },
    {
     "data": {
      "image/png": "[encoded data removed]",
      "text/plain": [
       "<Figure size 432x288 with 1 Axes>"
      ]
     },
     "metadata": {
      "needs_background": "light"
     },
     "output_type": "display_data"
    },
    {
     "data": {
      "image/png": "[encoded data removed]",
      "text/plain": [
       "<Figure size 432x288 with 1 Axes>"
      ]
     },
     "metadata": {
      "needs_background": "light"
     },
     "output_type": "display_data"
    },
    {
     "data": {
      "image/png": "[encoded data removed]",
      "text/plain": [
       "<Figure size 432x288 with 1 Axes>"
      ]
     },
     "metadata": {
      "needs_background": "light"
     },
     "output_type": "display_data"
    },
    {
     "data": {
      "image/png": "[encoded data removed]",
      "text/plain": [
       "<Figure size 432x288 with 1 Axes>"
      ]
     },
     "metadata": {
      "needs_background": "light"
     },
     "output_type": "display_data"
    },
    {
     "data": {
      "image/png": "[encoded data removed]",
      "text/plain": [
       "<Figure size 432x288 with 1 Axes>"
      ]
     },
     "metadata": {
      "needs_background": "light"
     },
     "output_type": "display_data"
    }
   ],
   "source": [
    "for i, col in enumerate(df.drop('id', axis=1).columns):\n",
    "    sns.histplot(df[df.Ebeam==5.754][col], label=f'{col}', bins=100)\n",
    "    plt.legend()\n",
    "    plt.show()"
   ]
  },
  {
   "cell_type": "code",
   "execution_count": 91,
   "id": "f24ab9f3",
   "metadata": {},
   "outputs": [
    {
     "data": {
      "text/plain": [
       "5.754    0.585125\n",
       "5.499    0.330062\n",
       "1.515    0.084813\n",
       "Name: Ebeam, dtype: float64"
      ]
     },
     "execution_count": 91,
     "metadata": {},
     "output_type": "execute_result"
    }
   ],
   "source": [
    "df.Ebeam.value_counts(1)"
   ]
  },
  {
   "cell_type": "code",
   "execution_count": 94,
   "id": "adbc07db",
   "metadata": {},
   "outputs": [
    {
     "data": {
      "text/plain": [
       "2.050    0.203616\n",
       "3.480    0.126661\n",
       "2.915    0.126103\n",
       "2.445    0.123313\n",
       "4.155    0.122651\n",
       "1.715    0.097737\n",
       "2.440    0.095052\n",
       "1.720    0.076746\n",
       "2.910    0.024025\n",
       "2.115    0.004080\n",
       "1.800    0.000017\n",
       "Name: Q2, dtype: float64"
      ]
     },
     "execution_count": 94,
     "metadata": {},
     "output_type": "execute_result"
    }
   ],
   "source": [
    "df[df.Ebeam==5.754].Q2.value_counts(1)"
   ]
  },
  {
   "cell_type": "code",
   "execution_count": 96,
   "id": "a689fe9d",
   "metadata": {},
   "outputs": [
    {
     "data": {
      "text/plain": [
       "1.270    0.033300\n",
       "1.290    0.032881\n",
       "1.250    0.032585\n",
       "1.570    0.032288\n",
       "1.690    0.032201\n",
       "1.530    0.032184\n",
       "1.670    0.032166\n",
       "1.650    0.032079\n",
       "1.550    0.032027\n",
       "1.630    0.032027\n",
       "1.150    0.031731\n",
       "1.610    0.031678\n",
       "1.590    0.031626\n",
       "1.230    0.031382\n",
       "1.510    0.031173\n",
       "1.490    0.030824\n",
       "1.470    0.030789\n",
       "1.210    0.030702\n",
       "1.450    0.030702\n",
       "1.410    0.030022\n",
       "1.430    0.030022\n",
       "1.390    0.029691\n",
       "1.370    0.029551\n",
       "1.310    0.029359\n",
       "1.190    0.029028\n",
       "1.350    0.028680\n",
       "1.330    0.028279\n",
       "1.170    0.027389\n",
       "1.710    0.023484\n",
       "1.730    0.022403\n",
       "1.130    0.022211\n",
       "1.110    0.020485\n",
       "1.750    0.019230\n",
       "1.770    0.014401\n",
       "1.790    0.011402\n",
       "1.605    0.000017\n",
       "Name: W, dtype: float64"
      ]
     },
     "execution_count": 96,
     "metadata": {},
     "output_type": "execute_result"
    }
   ],
   "source": [
    "df[df.Ebeam==5.754].W.value_counts(1)"
   ]
  },
  {
   "cell_type": "code",
   "execution_count": 87,
   "id": "de8127d2",
   "metadata": {},
   "outputs": [
    {
     "data": {
      "text/plain": [
       "292.5    2604\n",
       "277.5    2579\n",
       "67.5     2573\n",
       "307.5    2564\n",
       "82.5     2555\n",
       "262.5    2550\n",
       "247.5    2540\n",
       "52.5     2538\n",
       "97.5     2512\n",
       "112.5    2496\n",
       "232.5    2461\n",
       "322.5    2447\n",
       "127.5    2435\n",
       "37.5     2430\n",
       "337.5    2338\n",
       "22.5     2333\n",
       "7.5      2319\n",
       "352.5    2313\n",
       "217.5    2243\n",
       "142.5    2221\n",
       "202.5    1861\n",
       "157.5    1851\n",
       "187.5    1696\n",
       "172.5    1665\n",
       "165.0      90\n",
       "255.0      90\n",
       "195.0      90\n",
       "75.0       90\n",
       "135.0      90\n",
       "285.0      89\n",
       "225.0      89\n",
       "105.0      89\n",
       "315.0      86\n",
       "45.0       83\n",
       "15.0       80\n",
       "345.0      77\n",
       "210.0      42\n",
       "150.0      41\n",
       "270.0      37\n",
       "90.0       36\n",
       "30.0       20\n",
       "330.0      15\n",
       "Name: phi, dtype: int64"
      ]
     },
     "execution_count": 87,
     "metadata": {},
     "output_type": "execute_result"
    }
   ],
   "source": [
    "df[df.Ebeam==5.754].phi.value_counts()"
   ]
  },
  {
   "cell_type": "markdown",
   "id": "aeff6299",
   "metadata": {},
   "source": [
    "# Questions/Tasks"
   ]
  },
  {
   "cell_type": "markdown",
   "id": "077ee8de",
   "metadata": {},
   "source": [
    " 1.Target? dsigma/dOmega? <br> 2.Discrete set for Q2 and Phi, why? <br> 3.Any previous approaches? <br> 4.Representaion? <br>"
   ]
  },
  {
   "cell_type": "code",
   "execution_count": null,
   "id": "8716d3b6",
   "metadata": {},
   "outputs": [],
   "source": []
  },
  {
   "cell_type": "code",
   "execution_count": null,
   "id": "ac411db7",
   "metadata": {},
   "outputs": [],
   "source": []
  }
 ],
 "metadata": {
  "kernelspec": {
   "display_name": "Python 3",
   "language": "python",
   "name": "python3"
  },
  "language_info": {
   "codemirror_mode": {
    "name": "ipython",
    "version": 3
   },
   "file_extension": ".py",
   "mimetype": "text/x-python",
   "name": "python",
   "nbconvert_exporter": "python",
   "pygments_lexer": "ipython3",
   "version": "3.9.0"
  }
 },
 "nbformat": 4,
 "nbformat_minor": 5
}
