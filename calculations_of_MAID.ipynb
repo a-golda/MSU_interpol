{
 "cells": [
  {
   "cell_type": "code",
   "id": "initial_id",
   "metadata": {
    "collapsed": true,
    "ExecuteTime": {
     "end_time": "2024-12-03T22:08:50.319287Z",
     "start_time": "2024-12-03T22:08:46.001831Z"
    }
   },
   "source": [
    "import numpy as np\n",
    "import matplotlib.pyplot as plt\n",
    "\n",
    "def E_prime_f(W, E, Q_2, M_p):\n",
    "    E_prime = E - (W**2 + Q_2 - M_p**2)/(2*M_p)\n",
    "    # E_prime = (M_p**2+2*M_p*E -Q_2 - W**2)/(2*M_p)\n",
    "    return E_prime\n",
    "\n",
    "def theta_el_f(E, E_prime, Q_2):\n",
    "    theta_el = 2*np.arcsin((Q_2/(4*E*E_prime))**0.5)\n",
    "    return theta_el\n",
    "\n",
    "def eps_f(nu, Q_2, theta_el):\n",
    "    eps = (1+2*(1+nu**2/Q_2)*(np.tan(theta_el/2))**2)**(-1)\n",
    "    return eps\n",
    "\n",
    "def nu_f(E, E_prime):\n",
    "    return E-E_prime\n",
    "\n",
    "def MAID_cross_section_f(sigma_t, sigma_l, sigma_lt, sigma_tt, phi, eps):\n",
    "    cross_section = sigma_t+eps*(sigma_l) + (2*eps*(1+eps))**0.5*sigma_lt*np.cos(phi) + eps*sigma_tt*np.cos(2*phi)\n",
    "    return cross_section\n",
    "\n",
    "E = 5.754\n",
    "W = 1.23\n",
    "Q_2 = 1.715\n",
    "cos_theta = -0.5\n",
    "M_p = 0.938\n",
    "\n",
    "E_prime=E_prime_f(W=W, E=E, Q_2=Q_2, M_p=M_p)\n",
    "\n",
    "eps = eps_f(nu=nu_f(E=E, E_prime=E_prime),\n",
    "            Q_2=Q_2,\n",
    "            theta_el=theta_el_f(E=E, E_prime=E_prime, Q_2=Q_2))\n",
    "\n",
    "phi_r = np.arange(start=0, stop=2*np.pi, step=0.1)\n",
    "\n",
    "theta_el = theta_el_f(E=E, E_prime=E_prime, Q_2=Q_2)\n",
    "\n",
    "print(f'W:{W}')\n",
    "print(f'Q2:{Q_2}')\n",
    "print(f'E_prime:{E_prime}')\n",
    "print(f'theta_el:{theta_el*180/np.pi}')\n",
    "print(f'theta:{np.arccos(cos_theta)*180/np.pi}')\n",
    "print(f'eps:{eps}')"
   ],
   "outputs": [
    {
     "name": "stdout",
     "output_type": "stream",
     "text": [
      "W:1.23\n",
      "Q2:1.715\n",
      "E_prime:4.502371002132196\n",
      "theta_el:14.782720917530039\n",
      "theta:120.00000000000001\n",
      "eps:0.939496039085786\n"
     ]
    }
   ],
   "execution_count": 1
  },
  {
   "metadata": {
    "ExecuteTime": {
     "end_time": "2024-12-03T22:08:52.110510Z",
     "start_time": "2024-12-03T22:08:51.799406Z"
    }
   },
   "cell_type": "code",
   "source": [
    "# 5.754, 1.23, 2.915, -0.7\n",
    "sigma_t = 0.5043 \n",
    "sigma_l = 0.0447\n",
    "sigma_tt = -0.1699\n",
    "sigma_lt = 0.0216\n",
    "\n",
    "# 5.754, 1.23, 2.915, -0.1\n",
    "# sigma_t = 0.7566\n",
    "# sigma_l = 0.0207\n",
    "# sigma_tt = -0.3441\n",
    "# sigma_lt = -0.0236\n",
    "\n",
    "# 5.754, 1.53, 1.715, 0.1\n",
    "# sigma_t = 0.9243\n",
    "# sigma_l = 0.0512\n",
    "# sigma_tt = -0.1758\n",
    "# sigma_lt = -0.0813\n",
    "\n",
    "MAID_cross_section = []\n",
    "for phi in phi_r:\n",
    "    MAID_cross_section.append(MAID_cross_section_f(sigma_t=sigma_t, sigma_l=sigma_l, sigma_lt=sigma_lt, sigma_tt=sigma_t, phi=phi, eps=eps))\n",
    "\n",
    "plt.scatter(phi_r, MAID_cross_section)"
   ],
   "id": "70fe7a9cfe12b887",
   "outputs": [
    {
     "data": {
      "text/plain": [
       "<matplotlib.collections.PathCollection at 0x11709cf50>"
      ]
     },
     "execution_count": 2,
     "metadata": {},
     "output_type": "execute_result"
    },
    {
     "data": {
      "text/plain": [
       "<Figure size 640x480 with 1 Axes>"
      ],
      "image/png": "[encoded data removed]"
     },
     "metadata": {},
     "output_type": "display_data"
    }
   ],
   "execution_count": 2
  },
  {
   "metadata": {},
   "cell_type": "code",
   "outputs": [],
   "execution_count": null,
   "source": "",
   "id": "8d57edb94d1891b6"
  },
  {
   "metadata": {},
   "cell_type": "code",
   "outputs": [],
   "execution_count": null,
   "source": "",
   "id": "109fb729ab4b7fd"
  }
 ],
 "metadata": {
  "kernelspec": {
   "display_name": "Python 3",
   "language": "python",
   "name": "python3"
  },
  "language_info": {
   "codemirror_mode": {
    "name": "ipython",
    "version": 2
   },
   "file_extension": ".py",
   "mimetype": "text/x-python",
   "name": "python",
   "nbconvert_exporter": "python",
   "pygments_lexer": "ipython2",
   "version": "2.7.6"
  }
 },
 "nbformat": 4,
 "nbformat_minor": 5
}
