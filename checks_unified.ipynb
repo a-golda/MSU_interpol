{
 "cells": [
  {
   "cell_type": "code",
   "metadata": {
    "collapsed": true,
    "ExecuteTime": {
     "end_time": "2024-10-24T21:21:21.419375Z",
     "start_time": "2024-10-24T21:21:17.202576Z"
    }
   },
   "source": [
    "#import\n",
    "import os\n",
    "import sys\n",
    "\n",
    "import tqdm\n",
    "import math\n",
    "import torch\n",
    "import logging\n",
    "\n",
    "import numpy as np\n",
    "import pandas as pd\n",
    "import torch.nn as nn\n",
    "import lightning.pytorch as pl\n",
    "import matplotlib.pyplot as plt\n",
    "\n",
    "from scipy import spatial\n",
    "from scipy.stats import chisquare, kstest\n",
    "from scipy.optimize import curve_fit\n",
    "from torchmetrics import MeanAbsoluteError\n",
    "from sklearn.preprocessing import StandardScaler\n",
    "from torch.utils.data import Dataset, DataLoader\n",
    "from sklearn.model_selection import train_test_split\n",
    "from torch.optim.lr_scheduler import ReduceLROnPlateau\n",
    "from lightning.pytorch.callbacks.early_stopping import EarlyStopping\n",
    "from lightning.pytorch.callbacks import Callback, LearningRateMonitor, ModelCheckpoint"
   ],
   "outputs": [],
   "execution_count": 1
  },
  {
   "cell_type": "code",
   "source": [
    "#model\n",
    "hyperparams_dict = {\n",
    "        'energy': 5.754,\n",
    "        'scale_data': False,\n",
    "        'augment': False,\n",
    "        'add_abc': False,\n",
    "        'abc_loss_factor': 1,\n",
    "        'augment_factor': 20,\n",
    "        'test_size': 0.1,\n",
    "        'batch_size': 256,\n",
    "        'net_architecture': [5,60,80,100,120,140,240,340,440,640,2000,1040,640,340,240,140,100,80,60,20,1],\n",
    "        'activation_function': nn.ReLU(),\n",
    "        'loss_func': 'RMSELoss()',\n",
    "        'optim_func': torch.optim.Adam,\n",
    "        'max_epochs': 2000,\n",
    "        'es_min_delta': 0.00001,\n",
    "        'es_patience': 50,\n",
    "        'lr': 0.001,\n",
    "        'lr_factor':0.5,\n",
    "        'lr_patience': 5,\n",
    "        'lr_cooldown': 20,\n",
    "    }\n",
    "\n",
    "if True:\n",
    "    class RMSELoss(torch.nn.Module):\n",
    "        def __init__(self, add_abc=False):\n",
    "            super(RMSELoss,self).__init__()\n",
    "            self.add_abc = add_abc\n",
    "\n",
    "        @staticmethod\n",
    "        def func_cos(x, a, b, c):\n",
    "            return a + b*torch.cos(2*x) + c*torch.cos(x)\n",
    "\n",
    "        def forward(self, x, y_hat, y, w, A, B, C):\n",
    "            if self.add_abc:\n",
    "                phi = x[:, 4]\n",
    "                criterion = torch.sqrt(torch.mean(w*(y_hat - y)**2)/torch.sum(w)) + \\\n",
    "                            torch.mul(hyperparams_dict.get('abc_loss_factor'), torch.mean(torch.abs(w*y - self.func_cos(phi,A,B,C)))/torch.sum(w))\n",
    "            else:\n",
    "                criterion = torch.sqrt(torch.mean(w * (y_hat - y) ** 2) / torch.sum(w))\n",
    "            return criterion\n",
    "\n",
    "    #params\n",
    "    project_name = \"MSU_interpol_unified_notebooks\"\n",
    "\n",
    "    logger_path = './wandb_local_logs'\n",
    "    data_path = './data/clasdb_pi_plus_n.txt'\n",
    "\n",
    "\n",
    "    logger_full_path = os.path.join(logger_path, project_name, 'spring-feather-42')\n",
    "\n",
    "    os.makedirs(logger_full_path, exist_ok=True)\n",
    "    logging.basicConfig(encoding='utf-8',\n",
    "                        level=logging.DEBUG,\n",
    "                        format='%(asctime)s : %(levelname)s : %(message)s',\n",
    "                        handlers=[logging.FileHandler(os.path.join(logger_full_path, 'logs.log'), mode='w'),\n",
    "                                  logging.StreamHandler(sys.stdout)],\n",
    "                        force=True)\n",
    "\n",
    "    class InterpolDataSet(Dataset):\n",
    "        def __init__(self, features, labels, weights):\n",
    "            self.features = features\n",
    "            self.labels = labels\n",
    "            self.weights = weights\n",
    "            self.len = len(labels)\n",
    "\n",
    "        def __getitem__(self, index):\n",
    "            feature = self.features[index]\n",
    "            label = self.labels[index]\n",
    "            weights = self.weights[index]\n",
    "            return feature, label, weights\n",
    "\n",
    "        def __len__(self):\n",
    "            return self.len\n",
    "\n",
    "    class InterpolDataModule(pl.LightningDataModule):\n",
    "        def __init__(self, hyperparams):\n",
    "            super().__init__()\n",
    "            self.df = None\n",
    "            self.hyperparams = hyperparams\n",
    "            self.train_dataset = None\n",
    "            self.val_dataset = None\n",
    "\n",
    "        def augment(self, new_augm):\n",
    "            augm = pd.Series({'Ebeam': np.random.normal(loc=new_augm.Ebeam, scale=new_augm.Ebeam/30),\n",
    "                               'W': np.random.normal(loc=new_augm.W, scale=new_augm.W/30),\n",
    "                               'Q2': np.random.normal(loc=new_augm.Q2, scale=new_augm.Q2/30),\n",
    "                               'cos_theta': np.clip(np.random.normal(loc=new_augm.cos_theta, scale=abs(new_augm.cos_theta/30)), -1, 1),\n",
    "                               'phi': np.clip(np.random.normal(loc=new_augm.phi, scale=new_augm.phi/30), 0, 2*np.pi),\n",
    "                               'dsigma_dOmega': np.random.normal(loc=new_augm.dsigma_dOmega, scale=new_augm.error/3),\n",
    "                               'error': new_augm.error,\n",
    "                               'weight': new_augm.weight,\n",
    "                              })\n",
    "            return augm\n",
    "\n",
    "        def setup(self, stage):\n",
    "            # data reading and preprocessing\n",
    "            df = pd.read_csv(data_path, delimiter='\\t', header=None)\n",
    "            df.columns = ['Ebeam', 'W', 'Q2', 'cos_theta', 'phi', 'dsigma_dOmega', 'error', 'id']\n",
    "            df.loc[8314:65671, 'Ebeam'] = 5.754  # peculiarity of this dataset.\n",
    "            df = df[~((df.Ebeam == 5.754) & (~df.Q2.isin([1.715, 2.050, 2.445, 2.915, 3.480, 4.155])))] # peculiarity of this dataset #2\n",
    "            df['phi'] = df.phi.apply(lambda x: math.radians(x))\n",
    "            df['weight'] = df['error'].apply(lambda x: x and 1 / x or 100)  # x and 1 / x or 100  is just a reversed error but with validation 1/0 error in this case it will return 100\n",
    "            df = df.drop('id', axis=1)\n",
    "            df = df.drop_duplicates(subset=['Ebeam', 'W', 'Q2', 'cos_theta', 'phi'])\n",
    "    \n",
    "            df = df[df.Ebeam==hyperparams_dict.get('energy')]\n",
    "    \n",
    "            # #train test split\n",
    "            feature_columns = ['Ebeam', 'W', 'Q2', 'cos_theta', 'phi']\n",
    "    \n",
    "            df['A'] = None\n",
    "            df['B'] = None\n",
    "            df['C'] = None\n",
    "            feature_columns_with_additional = ['Ebeam', 'W', 'Q2', 'cos_theta', 'phi', 'weight', 'A', 'B', 'C']\n",
    "    \n",
    "            if self.hyperparams.get('add_abc'):\n",
    "                for Ebeam in df.Ebeam.unique():\n",
    "                    for Q2 in tqdm.tqdm(df[df.Ebeam == Ebeam].Q2.unique(), desc='ABC Q cycle'):\n",
    "                        for W in df[(df.Ebeam == Ebeam) & (df.Q2 == Q2)].W.unique():\n",
    "                            for cos_theta in df[(df.Ebeam == Ebeam) & (df.Q2 == Q2) & (df.W == W)].cos_theta.unique():\n",
    "                                try:\n",
    "                                    if df.loc[(df.Ebeam == Ebeam) & (df.Q2 == Q2) & (df.W == W) & (\n",
    "                                            df.cos_theta == cos_theta), 'A'].iloc[0] is None:\n",
    "                                        A, B, C = self.get_abc(df, Ebeam, Q2, W, cos_theta)\n",
    "                                        df.loc[(df.Ebeam == Ebeam) & (df.Q2 == Q2) & (df.W == W) & (\n",
    "                                                df.cos_theta == cos_theta), 'A'] = A\n",
    "                                        df.loc[(df.Ebeam == Ebeam) & (df.Q2 == Q2) & (df.W == W) & (\n",
    "                                                df.cos_theta == cos_theta), 'B'] = B\n",
    "                                        df.loc[(df.Ebeam == Ebeam) & (df.Q2 == Q2) & (df.W == W) & (\n",
    "                                                df.cos_theta == cos_theta), 'C'] = C\n",
    "                                    else:\n",
    "                                        pass\n",
    "                                except Exception as e:\n",
    "                                    df.loc[(df.Ebeam == Ebeam) & (df.Q2 == Q2) & (df.W == W) & (\n",
    "                                            df.cos_theta == cos_theta), 'A'] = 0\n",
    "                                    df.loc[(df.Ebeam == Ebeam) & (df.Q2 == Q2) & (df.W == W) & (\n",
    "                                            df.cos_theta == cos_theta), 'B'] = 0\n",
    "                                    df.loc[(df.Ebeam == Ebeam) & (df.Q2 == Q2) & (df.W == W) & (\n",
    "                                            df.cos_theta == cos_theta), 'C'] = 0\n",
    "            else:\n",
    "                pass\n",
    "    \n",
    "            feature_data = df[feature_columns_with_additional]\n",
    "            label_data = df['dsigma_dOmega']\n",
    "    \n",
    "            if self.hyperparams.get('scale_data'):\n",
    "                scaler_feature = StandardScaler()\n",
    "                scaler_target = StandardScaler()\n",
    "                feature_data = scaler_feature.fit_transform(feature_data)\n",
    "                label_data = scaler_target.fit_transform(label_data.values.reshape(-1, 1))\n",
    "            else:\n",
    "                pass\n",
    "    \n",
    "            if self.hyperparams.get('augment'):\n",
    "                aug_series_list = []\n",
    "                for i in tqdm.tqdm(df.itertuples()):\n",
    "                    for _ in range(self.hyperparams.get('augment_factor')):\n",
    "                        aug_series_list.append(self.augment(i))\n",
    "    \n",
    "                aug_df = pd.DataFrame(aug_series_list)\n",
    "                df = pd.concat([df, aug_df])\n",
    "            else:\n",
    "                pass\n",
    "    \n",
    "            self.df = df\n",
    "    \n",
    "            train_feature_data, val_feature_data, train_label_data, val_label_data = train_test_split(feature_data,\n",
    "                                                                                                      label_data,\n",
    "                                                                                                      test_size=self.hyperparams.get(\n",
    "                                                                                                          'test_size'),\n",
    "                                                                                                      random_state=1438)\n",
    "    \n",
    "            self.train_dataset = InterpolDataSet(\n",
    "                torch.tensor(train_feature_data[feature_columns].values, dtype=torch.float32),\n",
    "                torch.tensor(train_label_data.values, dtype=torch.float32),\n",
    "                torch.tensor(train_feature_data['weight'].values, dtype=torch.float32))\n",
    "    \n",
    "            self.val_dataset = InterpolDataSet(torch.tensor(val_feature_data[feature_columns].values, dtype=torch.float32),\n",
    "                                               torch.tensor(val_label_data.values, dtype=torch.float32),\n",
    "                                               torch.tensor(val_feature_data['weight'].values, dtype=torch.float32))\n",
    "            \n",
    "        def train_dataloader(self):\n",
    "            return DataLoader(dataset = self.train_dataset, batch_size = self.hyperparams.get('batch_size'), shuffle = False, num_workers=0)\n",
    "\n",
    "        def val_dataloader(self):\n",
    "            return DataLoader(dataset = self.val_dataset, batch_size = self.hyperparams.get('batch_size'), shuffle = False, num_workers=0)\n",
    "\n",
    "    class PrintCallbacks(Callback):\n",
    "        def on_train_start(self, trainer, pl_module):\n",
    "            logging.info(\"Training is starting\")\n",
    "\n",
    "        def on_train_end(self, trainer, pl_module):\n",
    "            logging.info(\"Training is ending\")\n",
    "\n",
    "        def on_train_epoch_end(self, trainer, pl_module):\n",
    "            epoch_mean = torch.stack(pl_module.training_step_outputs).mean()\n",
    "            logging.info(f\"epoch: {pl_module.current_epoch}; train_loss: {epoch_mean}\")\n",
    "            pl_module.training_step_outputs.clear()\n",
    "\n",
    "        def on_validation_epoch_end(self, trainer, pl_module):\n",
    "            epoch_mean = torch.stack(pl_module.validation_step_outputs).mean()\n",
    "            logging.info(f\"epoch: {pl_module.current_epoch}; val_loss: {epoch_mean}\")\n",
    "            pl_module.validation_step_outputs.clear()\n",
    "\n",
    "    class InterpolRegressor(pl.LightningModule):\n",
    "        def __init__(self, hyperparams):\n",
    "            super(InterpolRegressor, self).__init__()\n",
    "\n",
    "            self.train_loss, self.train_mae, self.val_loss, self.val_mae = 0,0,0,0\n",
    "            self.hyperparams = hyperparams\n",
    "            self.save_hyperparameters(self.hyperparams)\n",
    "\n",
    "            self.mae = MeanAbsoluteError()\n",
    "            self.loss_func = self.hyperparams.get('loss_func')\n",
    "\n",
    "            self.optim = self.hyperparams.get('optim_func')\n",
    "\n",
    "            self.net_architecture = self.hyperparams.get('net_architecture')\n",
    "            self.activation_function = self.hyperparams.get('activation_function')\n",
    "\n",
    "            self.training_step_outputs = []\n",
    "            self.validation_step_outputs = []\n",
    "\n",
    "            self.net = nn.Sequential()\n",
    "            for i in range(1,len(self.net_architecture)):\n",
    "                self.net.append(nn.Linear(self.net_architecture[i-1], self.net_architecture[i]))\n",
    "                if i!=len(self.net_architecture)-1:\n",
    "                    self.net.append(self.activation_function)\n",
    "                else:\n",
    "                    pass\n",
    "\n",
    "        def forward(self, x):\n",
    "            return self.net(x)\n",
    "\n",
    "        def training_step(self, batch, batch_idx):\n",
    "            x, y, w = batch\n",
    "            y_hat = self.forward(x)\n",
    "\n",
    "            loss = self.loss_func\n",
    "            self.train_loss = loss.forward(y_hat.reshape(-1), y, w)\n",
    "            self.train_mae = self.mae(y_hat.reshape(-1), y)\n",
    "\n",
    "            self.log('train_loss', self.train_loss, batch_size=self.hyperparams['batch_size'],\n",
    "                     on_step=False, on_epoch=True, prog_bar=True, sync_dist=True, logger=True)\n",
    "            self.log('train_mae', self.train_mae, batch_size=self.hyperparams['batch_size'],\n",
    "                     on_step=False, on_epoch=True, prog_bar=True, sync_dist=True, logger=True)\n",
    "\n",
    "            self.training_step_outputs.append(self.train_loss)\n",
    "            return self.train_loss\n",
    "\n",
    "        def validation_step(self, batch, batch_idx):\n",
    "            x, y, w = batch\n",
    "            y_hat = self.forward(x)\n",
    "\n",
    "            loss = self.loss_func\n",
    "            self.val_loss = loss.forward(y_hat.reshape(-1), y, w)\n",
    "            self.val_mae = self.mae(y_hat.reshape(-1), y)\n",
    "\n",
    "            self.log('val_loss', self.val_loss, batch_size=self.hyperparams['batch_size'],\n",
    "                     on_step=False, on_epoch=True, prog_bar=True, sync_dist=True, logger=True)\n",
    "            self.log('val_mae', self.val_mae, batch_size=self.hyperparams['batch_size'],\n",
    "                     on_step=False, on_epoch=True, prog_bar=True, sync_dist=True, logger=True)\n",
    "\n",
    "            self.validation_step_outputs.append(self.val_loss)\n",
    "            return self.val_loss\n",
    "\n",
    "        def on_validation_epoch_end(self):\n",
    "            sch = self.lr_schedulers()\n",
    "            if isinstance(sch, torch.optim.lr_scheduler.ReduceLROnPlateau) and self.trainer.current_epoch!=0:\n",
    "                    sch.step(self.trainer.callback_metrics[\"val_loss\"])\n",
    "\n",
    "        def configure_callbacks(self):\n",
    "            early_stop_callback = EarlyStopping(monitor=\"val_loss\", mode=\"min\",\n",
    "                                                min_delta=self.hyperparams.get('es_min_delta'),\n",
    "                                                patience=self.hyperparams.get('es_patience'),\n",
    "                                                verbose=True)\n",
    "\n",
    "            checkpoint_callback = ModelCheckpoint(save_top_k=3,\n",
    "                                                  monitor=\"val_loss\",\n",
    "                                                  mode=\"min\",\n",
    "                                                  dirpath=f\"{logger_full_path}/checkpoints\",\n",
    "                                                  filename=\"{exp_name}{val_loss:.5f}-{epoch:02d}\")\n",
    "\n",
    "            lr_monitor = LearningRateMonitor(logging_interval='epoch')\n",
    "\n",
    "            print_callback = PrintCallbacks()\n",
    "\n",
    "            return [early_stop_callback, checkpoint_callback, print_callback, lr_monitor]\n",
    "\n",
    "        def configure_optimizers(self):\n",
    "            optimizer = self.optim(self.parameters(), lr=self.hyperparams.get('lr'))\n",
    "            lr_optim = ReduceLROnPlateau(optimizer = optimizer,\n",
    "                                         mode = 'min',\n",
    "                                         factor = self.hyperparams.get('lr_factor'),\n",
    "                                         patience = self.hyperparams.get('lr_patience'),\n",
    "                                         cooldown=self.hyperparams.get('lr_cooldown'),\n",
    "                                         threshold=0.01,\n",
    "                                         verbose= True)\n",
    "            return {\"optimizer\": optimizer,\n",
    "                    \"lr_scheduler\": {\n",
    "                        \"scheduler\": lr_optim,\n",
    "                        \"interval\": \"epoch\",\n",
    "                        \"monitor\": \"val_loss\",\n",
    "                        \"frequency\": 2,\n",
    "                        \"name\": 'lr_scheduler_monitoring'}\n",
    "                    }\n",
    "\n",
    "    data = InterpolDataModule(hyperparams_dict)\n",
    "    data.setup('test')\n",
    "    df = data.df\n",
    "    df_all = df[['Ebeam', 'W', 'Q2', 'cos_theta', 'phi']]\n",
    "    df_target = df[['dsigma_dOmega']]"
   ],
   "metadata": {
    "collapsed": false,
    "ExecuteTime": {
     "end_time": "2024-10-25T14:09:09.381667Z",
     "start_time": "2024-10-25T14:09:09.286064Z"
    }
   },
   "outputs": [],
   "execution_count": 22
  },
  {
   "metadata": {
    "ExecuteTime": {
     "end_time": "2024-10-25T14:09:10.423110Z",
     "start_time": "2024-10-25T14:09:10.348402Z"
    }
   },
   "cell_type": "code",
   "source": [
    "df.dsigma_dOmega.hist()\n",
    "plt.xlabel('dsigma_dOmega, mcb/str')\n",
    "plt.title('E_beam = 5.754 GeV')"
   ],
   "outputs": [
    {
     "data": {
      "text/plain": [
       "Text(0.5, 1.0, 'E_beam = 5.754 GeV')"
      ]
     },
     "execution_count": 23,
     "metadata": {},
     "output_type": "execute_result"
    },
    {
     "data": {
      "text/plain": [
       "<Figure size 640x480 with 1 Axes>"
      ],
      "image/png": "[encoded data removed]"
     },
     "metadata": {},
     "output_type": "display_data"
    }
   ],
   "execution_count": 23
  },
  {
   "cell_type": "code",
   "source": [
    "model = InterpolRegressor.load_from_checkpoint(f'./data/models/wandering-wind-26/checkpoints/exp_name=0val_loss=1.38199-epoch=233.ckpt', hyperparams=hyperparams_dict)\n",
    "model.eval()\n",
    "type(model)"
   ],
   "metadata": {
    "collapsed": false,
    "ExecuteTime": {
     "end_time": "2024-07-24T08:56:26.966271Z",
     "start_time": "2024-07-24T08:56:26.880029Z"
    }
   },
   "outputs": [
    {
     "name": "stdout",
     "output_type": "stream",
     "text": [
      "2024-07-24 09:56:26,913 : DEBUG : open file: /Users/andrey.golda/Documents/Study/MSU_interpol/data/models/wandering-wind-26/checkpoints/exp_name=0val_loss=1.38199-epoch=233.ckpt\n"
     ]
    },
    {
     "name": "stderr",
     "output_type": "stream",
     "text": [
      "/Users/andrey.golda/projects/algo_surge/venv/lib/python3.11/site-packages/lightning/pytorch/utilities/parsing.py:208: Attribute 'activation_function' is an instance of `nn.Module` and is already saved during checkpointing. It is recommended to ignore them using `self.save_hyperparameters(ignore=['activation_function'])`.\n"
     ]
    },
    {
     "data": {
      "text/plain": [
       "__main__.InterpolRegressor"
      ]
     },
     "execution_count": 22,
     "metadata": {},
     "output_type": "execute_result"
    }
   ],
   "execution_count": 22
  },
  {
   "metadata": {
    "ExecuteTime": {
     "end_time": "2024-07-24T09:00:28.043005Z",
     "start_time": "2024-07-24T09:00:27.586429Z"
    }
   },
   "cell_type": "code",
   "source": [
    "plt.scatter(df[df.Ebeam==5.754].W, df[df.Ebeam==5.754].Q2, label='E_e = 5.754')\n",
    "plt.scatter(df[df.Ebeam==5.499].W, df[df.Ebeam==5.499].Q2, label='E_e = 5.499')\n",
    "plt.scatter(df[df.Ebeam==1.515].W, df[df.Ebeam==1.515].Q2, label='E_e = 1.515')\n",
    "plt.legend()\n",
    "plt.xlabel('W, ГэВ')\n",
    "plt.ylabel('Q^2, ГэВ^2')"
   ],
   "outputs": [
    {
     "data": {
      "text/plain": [
       "Text(0, 0.5, 'Q^2, ГэВ^2')"
      ]
     },
     "execution_count": 34,
     "metadata": {},
     "output_type": "execute_result"
    },
    {
     "data": {
      "text/plain": [
       "<Figure size 640x480 with 1 Axes>"
      ],
      "image/png": "[encoded data removed]"
     },
     "metadata": {},
     "output_type": "display_data"
    }
   ],
   "execution_count": 34
  },
  {
   "cell_type": "markdown",
   "source": "# Cross sections",
   "metadata": {
    "collapsed": false
   }
  },
  {
   "cell_type": "code",
   "source": [
    "# generate grid\n",
    "if True:\n",
    "    Ebeam = hyperparams_dict.get('energy')\n",
    "    step_W = 0.005\n",
    "    step_Q2 = 0.1\n",
    "    step_cos_theta = 0.1\n",
    "    step_phi = 0.05\n",
    "\n",
    "    W_min = df[df.Ebeam==Ebeam].W.min() - 0.1\n",
    "    W_max = df[df.Ebeam==Ebeam].W.max() + 0.1 + step_W\n",
    "\n",
    "    Q2_min = df[df.Ebeam==Ebeam].Q2.min() - 0.1\n",
    "    Q2_max = df[df.Ebeam==Ebeam].Q2.max() + 0.1 + step_Q2\n",
    "\n",
    "    data_grid = []\n",
    "    for W in tqdm.tqdm(np.arange(W_min, W_max, step_W)):\n",
    "        for Q2 in np.arange(Q2_min, Q2_max, step_Q2):\n",
    "             for cos_theta in np.arange(-1, 1+step_cos_theta, step_cos_theta):\n",
    "                    for phi in np.arange(0, 2*np.pi, step_phi):\n",
    "                        data_grid.append([Ebeam,W,Q2,cos_theta,phi])\n",
    "\n",
    "    df_grid = pd.DataFrame(data_grid)\n",
    "    df_grid.columns = ['Ebeam', 'W', 'Q2', 'cos_theta', 'phi']\n",
    "\n",
    "    df_grid.W = np.round(df_grid.W, 3)\n",
    "    df_grid.Q2 = np.round(df_grid.Q2, 3)\n",
    "    df_grid.cos_theta = np.round(df_grid.cos_theta, 3)\n",
    "    df_grid.phi = np.round(df_grid.phi, 3)"
   ],
   "metadata": {
    "collapsed": false,
    "ExecuteTime": {
     "end_time": "2024-07-19T16:31:19.512796Z",
     "start_time": "2024-07-19T16:31:17.264303Z"
    }
   },
   "outputs": [
    {
     "name": "stderr",
     "output_type": "stream",
     "text": [
      "100%|██████████| 133/133 [00:01<00:00, 87.99it/s]\n"
     ]
    }
   ],
   "execution_count": 5
  },
  {
   "cell_type": "code",
   "source": [
    "# predict crosssections\n",
    "if True:\n",
    "    df_grid_parts = np.array_split(df_grid, 100)\n",
    "    df_grid_parts_preds = []\n",
    "    for df_grid_part in tqdm.tqdm(df_grid_parts):\n",
    "        dsigma_dOmega_predicted = model.forward(torch.tensor(df_grid_part.to_numpy(),dtype=torch.float32)).detach()\n",
    "\n",
    "        df_grid_part['dsigma_dOmega_predicted'] = dsigma_dOmega_predicted\n",
    "        df_grid_part.dsigma_dOmega_predicted = abs(df_grid_part.dsigma_dOmega_predicted)\n",
    "\n",
    "        df_grid_part['A'] = 0\n",
    "        df_grid_part['B'] = 0\n",
    "        df_grid_part['C'] = 0\n",
    "        df_grid_parts_preds.append(df_grid_part)\n",
    "\n",
    "    df_grid = pd.concat(df_grid_parts_preds)"
   ],
   "metadata": {
    "collapsed": false,
    "ExecuteTime": {
     "end_time": "2024-07-19T16:39:23.726305Z",
     "start_time": "2024-07-19T16:31:21.128391Z"
    }
   },
   "outputs": [
    {
     "name": "stderr",
     "output_type": "stream",
     "text": [
      "/Users/andrey.golda/Library/Caches/pypoetry/virtualenvs/msu-interpol--lw2ADYE-py3.11/lib/python3.11/site-packages/numpy/core/fromnumeric.py:59: FutureWarning: 'DataFrame.swapaxes' is deprecated and will be removed in a future version. Please use 'DataFrame.transpose' instead.\n",
      "  return bound(*args, **kwds)\n",
      "100%|██████████| 100/100 [08:02<00:00,  4.82s/it]\n"
     ]
    }
   ],
   "execution_count": 6
  },
  {
   "cell_type": "code",
   "source": [
    "# calculate structure functions\n",
    "if True:\n",
    "    phi_min_index = df_grid[df_grid.phi == df_grid.phi.min()].index.to_numpy()\n",
    "    phi_max_index = df_grid[df_grid.phi == df_grid.phi.max()].index.to_numpy()\n",
    "\n",
    "    for i in tqdm.tqdm(range(len(phi_min_index))):\n",
    "        cross_section_chunk = df_grid.iloc[phi_min_index[i]:phi_max_index[i]].dsigma_dOmega_predicted\n",
    "        cos_phi = np.cos(df_grid.iloc[phi_min_index[i]:phi_max_index[i]].phi)\n",
    "        cos_2_phi = np.cos(2*df_grid.iloc[phi_min_index[i]:phi_max_index[i]].phi)\n",
    "\n",
    "        trapz_A = np.trapz(cross_section_chunk, dx=step_phi)\n",
    "        trapz_B = np.trapz(cross_section_chunk*cos_2_phi, dx=step_phi)\n",
    "        trapz_C = np.trapz(cross_section_chunk*cos_phi, dx=step_phi)\n",
    "\n",
    "        A = trapz_A/(2*np.pi)\n",
    "        B = trapz_B/(np.pi)\n",
    "        C = trapz_C/(np.pi)\n",
    "\n",
    "        df_grid.loc[phi_min_index[i]:phi_max_index[i], 'A'] = A\n",
    "        df_grid.loc[phi_min_index[i]:phi_max_index[i], 'B'] = B\n",
    "        df_grid.loc[phi_min_index[i]:phi_max_index[i], 'C'] = C"
   ],
   "metadata": {
    "collapsed": false,
    "ExecuteTime": {
     "end_time": "2024-07-19T16:41:09.743953Z",
     "start_time": "2024-07-19T16:41:01.199760Z"
    }
   },
   "outputs": [
    {
     "name": "stderr",
     "output_type": "stream",
     "text": [
      "  0%|          | 0/16758 [00:00<?, ?it/s]/var/folders/tj/2cbzjkv53dj9l4yrll73xw400000gq/T/ipykernel_72196/1944332864.py:19: FutureWarning: Setting an item of incompatible dtype is deprecated and will raise an error in a future version of pandas. Value '4.067279599582508' has dtype incompatible with int64, please explicitly cast to a compatible dtype first.\n",
      "  df_grid.loc[phi_min_index[i]:phi_max_index[i], 'A'] = A\n",
      "/var/folders/tj/2cbzjkv53dj9l4yrll73xw400000gq/T/ipykernel_72196/1944332864.py:20: FutureWarning: Setting an item of incompatible dtype is deprecated and will raise an error in a future version of pandas. Value '-0.2106604470249227' has dtype incompatible with int64, please explicitly cast to a compatible dtype first.\n",
      "  df_grid.loc[phi_min_index[i]:phi_max_index[i], 'B'] = B\n",
      "/var/folders/tj/2cbzjkv53dj9l4yrll73xw400000gq/T/ipykernel_72196/1944332864.py:21: FutureWarning: Setting an item of incompatible dtype is deprecated and will raise an error in a future version of pandas. Value '-0.31687028323450744' has dtype incompatible with int64, please explicitly cast to a compatible dtype first.\n",
      "  df_grid.loc[phi_min_index[i]:phi_max_index[i], 'C'] = C\n",
      "100%|██████████| 16758/16758 [00:08<00:00, 1966.25it/s]\n"
     ]
    }
   ],
   "execution_count": 8
  },
  {
   "cell_type": "code",
   "source": [
    "df_grid['dsigma_dOmega_sf'] = df_grid['A'] + df_grid['B']*np.cos(2*df_grid['phi']) + df_grid['C']*np.cos(df_grid['phi'])\n",
    "df = df.drop_duplicates(['Ebeam', 'W', 'Q2', 'cos_theta', 'phi'])"
   ],
   "metadata": {
    "collapsed": false,
    "ExecuteTime": {
     "end_time": "2024-07-19T16:41:11.052691Z",
     "start_time": "2024-07-19T16:41:11.016178Z"
    }
   },
   "outputs": [],
   "execution_count": 9
  },
  {
   "metadata": {
    "ExecuteTime": {
     "end_time": "2024-07-19T16:41:12.943847Z",
     "start_time": "2024-07-19T16:41:12.932884Z"
    }
   },
   "cell_type": "code",
   "source": [
    "def find_closest(df_for_search, W_for_search, Q2_for_search):\n",
    "    global closest_index\n",
    "    closest_index = df_for_search[['W', 'Q2']].drop_duplicates(). \\\n",
    "                    apply(lambda x: spatial.distance.euclidean([W_for_search, Q2_for_search], [x.W, x.Q2]), axis=1).idxmin() \n",
    "    assert isinstance(closest_index, tuple([int, np.int64])) \n",
    "    return (df_for_search.loc[closest_index, 'W'], df_for_search.loc[closest_index, 'Q2'])\n",
    "\n",
    "def plot_joint_cross_sections(df, E_beam, W, Q2, cos_theta, df_grid):\n",
    "    W_df, Q2_df = find_closest(df, W, Q2)\n",
    "    W_df_grid, Q2_df_grid = find_closest(df_grid, W, Q2)\n",
    "    \n",
    "    df_instance_set = df[(df.Ebeam == E_beam)&\n",
    "                        (df.W == W_df)&\n",
    "                        (df.Q2 == Q2_df)&\n",
    "                        (df.cos_theta == cos_theta)].sort_values('phi')\n",
    "\n",
    "    df_grid_instance_set = df_grid[(df_grid.Ebeam == E_beam)&\n",
    "                                    (df_grid.W == W_df_grid)&\n",
    "                                    (df_grid.Q2 == Q2_df_grid)&\n",
    "                                    (np.round(df_grid.cos_theta, 1) == cos_theta)].sort_values('phi')\n",
    " \n",
    "            \n",
    "    if len(df_instance_set)==0:\n",
    "        print(len(df_instance_set), E_beam, W, Q2, cos_theta)\n",
    "        raise ValueError('len(df_instance_set)==0')\n",
    "\n",
    "    if len(df_grid_instance_set)==0:\n",
    "        print(len(df_grid_instance_set), E_beam, W, Q2, cos_theta)\n",
    "        raise ValueError('len(df_grid_instance_set)==0')\n",
    "\n",
    "    def func_cos(x, a, b, c):\n",
    "        return a + b*np.cos(2*x) + c*np.cos(x)\n",
    "\n",
    "    #input data\n",
    "    xdata_real = df_instance_set.phi\n",
    "    ydata_real = df_instance_set.dsigma_dOmega\n",
    "    ydata_error_real = df_instance_set.error\n",
    "\n",
    "    xdata_preds = df_grid_instance_set.phi\n",
    "    ydata_preds = df_grid_instance_set.dsigma_dOmega_predicted\n",
    "\n",
    "    xdata_preds_sf = xdata_preds\n",
    "    ydata_preds_sf = df_grid_instance_set.dsigma_dOmega_sf\n",
    "\n",
    "    #fitting the data\n",
    "    popt, pcov = curve_fit(func_cos, xdata_real, ydata_real, sigma=ydata_error_real, absolute_sigma=True)\n",
    "    a, b, c = popt[0], popt[1], popt[2]\n",
    "\n",
    "    # recovered\n",
    "\n",
    "    xdata_fitted = [i for i in np.arange(0, 2*np.pi, 0.01)]\n",
    "    ydata_fitted = [func_cos(x, a, b, c) for x in xdata_fitted]\n",
    "    \n",
    "    df_fitted = pd.DataFrame({'phi_fitted': xdata_fitted,\n",
    "                              'dsigma_dOmega_fitted': ydata_fitted})\n",
    "    \n",
    "    df_chi_2 = pd.merge_asof(df_instance_set, df_fitted, left_on='phi', right_on='phi_fitted')\n",
    "    df_chi_2 = pd.merge_asof(df_chi_2, df_grid_instance_set, on='phi')\n",
    "    df_chi_2 = df_chi_2[['phi', 'dsigma_dOmega', 'dsigma_dOmega_fitted', 'dsigma_dOmega_predicted', 'dsigma_dOmega_sf']]\n",
    "\n",
    "    real = df_chi_2['dsigma_dOmega'].apply(lambda x: np.round(x, 6)).values\n",
    "    fitted = df_chi_2['dsigma_dOmega_fitted'].apply(lambda x: np.round(x, 6)).values\n",
    "    preds = df_chi_2['dsigma_dOmega_predicted'].apply(lambda x: np.round(x, 6)).values\n",
    "    preds_sf = df_chi_2['dsigma_dOmega_sf'].apply(lambda x: np.round(x, 6)).values\n",
    "    \n",
    "    stat_fitted_chi, p_value_fitted_chi = np.round(chisquare(real, np.sum(real)/np.sum(fitted)*fitted), 3)\n",
    "    stat_preds_chi, p_value_preds_chi = np.round(chisquare(real, np.sum(real)/np.sum(preds)*preds), 3)\n",
    "    stat_preds_sf_chi, p_value_preds_sf_chi = np.round(chisquare(real, np.sum(real)/np.sum(preds_sf)*preds_sf), 3)\n",
    "\n",
    "    plt.figure(figsize=(22, 6), dpi=80)\n",
    "    \n",
    "    # plt.figtext(0.13, 0.83, f'Params (exp, preds). W({W_df},{W_df_grid}); Q2({Q2_df},{Q2_df_grid})')\n",
    "    \n",
    "    # real data\n",
    "    plt.scatter(x=xdata_real,\n",
    "                y=ydata_real,\n",
    "                color='red', marker='*', label=f\"Experimental data. Params: Ebeam: {E_beam}, W: {W}, Q2: {Q2}, cos_theta: {cos_theta}\")\n",
    "    plt.errorbar(x=xdata_real,\n",
    "                 y=ydata_real,\n",
    "                 yerr=ydata_error_real,\n",
    "                 color='red',\n",
    "                 fmt='o')\n",
    "\n",
    "    plt.plot(xdata_fitted,\n",
    "             ydata_fitted,\n",
    "             color='blue',\n",
    "             label=f'Fitted data'\n",
    "             # label=f'Fitted data, chi^2 = {stat_fitted_chi}, p_value = {p_value_fitted_chi}'\n",
    "             )\n",
    "\n",
    "    plt.plot(xdata_preds,\n",
    "             ydata_preds,\n",
    "             color='green',\n",
    "             label=f'Predicted data'\n",
    "             # label=f'Predicted data, chi^2 = {stat_preds_chi}, p_value = {p_value_preds_chi}'\n",
    "             )\n",
    "\n",
    "    plt.plot(xdata_preds_sf,\n",
    "             ydata_preds_sf,\n",
    "             color='black',\n",
    "             label=f'Predictions and recovered data'\n",
    "             # label=f'Predictions and recovered data, chi^2 = {stat_preds_sf_chi}, p_value = {p_value_preds_sf_chi}'\n",
    "             )\n",
    "\n",
    "    plt.ylim(ymin=0)\n",
    "    plt.xlim(xmin=0, xmax=2*np.pi)\n",
    "\n",
    "    plt.xlabel(\"phi: rad\", fontsize=\"20\")\n",
    "    plt.ylabel(\"dsigma_dOmega: microbarn/sterad\", fontsize=\"20\")\n",
    "    \n",
    "    plt.legend(loc =\"upper right\", fontsize=\"15\")\n",
    "    # plt.savefig(f'./final_checks/3_models/cross_sections/E_beam={E_beam}/Q2={Q2}/W={W}/E_beam={E_beam}_Q2={Q2}_W={W}_cos_theta={cos_theta}.png')\n",
    "    plt.show()\n",
    "    plt.close()\n",
    "    return None"
   ],
   "outputs": [],
   "execution_count": 10
  },
  {
   "cell_type": "code",
   "source": [
    "for Q2 in tqdm.tqdm(df[df.Ebeam==Ebeam].Q2.unique()):\n",
    "    os.makedirs(f\"./final_checks/3_models/cross_sections/E_beam={Ebeam}/Q2={Q2}\")\n",
    "    for W in tqdm.tqdm([1.23, 1.53, 1.715, 1.95]):\n",
    "        os.makedirs(f\"./final_checks/3_models/cross_sections/E_beam={Ebeam}/Q2={Q2}/W={W}\")\n",
    "        for cos_theta in [-0.9,-0.8,-0.7,-0.6,-0.5,-0.4,-0.3,-0.2,-0.1,0.1,0.2,0.3,0.4,0.5,0.6,0.7,0.8,0.9]:\n",
    "            try:\n",
    "                plot_joint_cross_sections(df, Ebeam, W, Q2, cos_theta, df_grid)\n",
    "            except:\n",
    "                print(Ebeam, W, Q2, cos_theta)"
   ],
   "metadata": {
    "collapsed": false,
    "ExecuteTime": {
     "end_time": "2024-07-19T16:46:40.666737Z",
     "start_time": "2024-07-19T16:46:40.662371Z"
    }
   },
   "outputs": [],
   "execution_count": 1
  },
  {
   "metadata": {},
   "cell_type": "markdown",
   "source": "## Structure functions"
  },
  {
   "cell_type": "code",
   "source": [
    "def func_cos(x, a, b, c):\n",
    "        return a + b*np.cos(2*x) + c*np.cos(x)\n",
    "\n",
    "def fit_to_func(x):\n",
    "    try:\n",
    "        popt, pcov = curve_fit(func_cos, x.phi, x.dsigma_dOmega, sigma=x.error, absolute_sigma=True)\n",
    "        a, b, c = popt[0], popt[1], popt[2]\n",
    "        \n",
    "        a_error, b_error, c_error = np.sqrt(pcov[0][0]), np.sqrt(pcov[1][1]), np.sqrt(pcov[2][2])\n",
    "        \n",
    "        return a, b, c, a_error, b_error, c_error\n",
    "    except Exception as e:\n",
    "        return None, None, None, None, None, None\n",
    "    \n",
    "df_sf = df.groupby(['Ebeam', 'W', 'Q2', 'cos_theta']).apply(lambda x: fit_to_func(x)).reset_index()"
   ],
   "metadata": {
    "collapsed": false,
    "ExecuteTime": {
     "end_time": "2024-07-19T16:03:49.549408Z",
     "start_time": "2024-07-19T16:03:47.526821Z"
    }
   },
   "outputs": [
    {
     "name": "stderr",
     "output_type": "stream",
     "text": [
      "/var/folders/tj/2cbzjkv53dj9l4yrll73xw400000gq/T/ipykernel_10535/473085029.py:15: DeprecationWarning: DataFrameGroupBy.apply operated on the grouping columns. This behavior is deprecated, and in a future version of pandas the grouping columns will be excluded from the operation. Either pass `include_groups=False` to exclude the groupings or explicitly select the grouping columns after groupby to silence this warning.\n",
      "  df_sf = df.groupby(['Ebeam', 'W', 'Q2', 'cos_theta']).apply(lambda x: fit_to_func(x)).reset_index()\n"
     ]
    }
   ],
   "execution_count": 226
  },
  {
   "cell_type": "code",
   "source": [
    "df_sf['A'] = df_sf[0].apply(lambda x: x[0])\n",
    "df_sf['B'] = df_sf[0].apply(lambda x: x[1])\n",
    "df_sf['C'] = df_sf[0].apply(lambda x: x[2])\n",
    "\n",
    "df_sf['A_error'] = df_sf[0].apply(lambda x: x[3])\n",
    "df_sf['B_error'] = df_sf[0].apply(lambda x: x[4])\n",
    "df_sf['C_error'] = df_sf[0].apply(lambda x: x[5])\n",
    "\n",
    "df_sf.drop(0, axis=1, inplace=True)\n",
    "df_sf.dropna(inplace=True)"
   ],
   "metadata": {
    "collapsed": false,
    "ExecuteTime": {
     "end_time": "2024-07-19T16:03:49.556579Z",
     "start_time": "2024-07-19T16:03:49.550476Z"
    }
   },
   "outputs": [],
   "execution_count": 227
  },
  {
   "metadata": {
    "ExecuteTime": {
     "end_time": "2024-07-19T16:03:51.505014Z",
     "start_time": "2024-07-19T16:03:51.500002Z"
    }
   },
   "cell_type": "code",
   "source": [
    "def plot_joint_sf(df, E_beam, Q2, cos_theta, df_grid, func, func_error):\n",
    "    \n",
    "    W_df, Q2_df = find_closest(df, W, Q2)\n",
    "    W_df_grid, Q2_df_grid = find_closest(df_grid, W, Q2)\n",
    "    \n",
    "    df_instance_set = df[(df.Ebeam == E_beam)&\n",
    "                        (df.Q2 == Q2)&\n",
    "                        (df.cos_theta == cos_theta)].sort_values('W')\n",
    "\n",
    "    df_grid_instance_set = df_grid[(df_grid.Ebeam == E_beam)&\n",
    "                                    (df_grid.Q2 == Q2_df_grid)&\n",
    "                                    (np.round(df_grid.cos_theta, 1) == cos_theta)].sort_values('W')\n",
    "    \n",
    "    df_grid_instance_set = df_grid_instance_set[(df_grid_instance_set['W']>=df_instance_set.W.min() - 0.2)&\n",
    "                                                (df_grid_instance_set['W']<=df_instance_set.W.max() + 0.2)]\n",
    "    \n",
    "    if len(df_instance_set)==0:\n",
    "        print(E_beam, Q2, cos_theta)\n",
    "        raise ValueError('len(df_instance_set)==0')\n",
    "\n",
    "    if len(df_grid_instance_set)==0:\n",
    "        print(E_beam, Q2, cos_theta)\n",
    "        raise ValueError('len(df_grid_instance_set)==0')\n",
    "    \n",
    "    xdata_real = df_instance_set.W\n",
    "    ydata_real = df_instance_set[func]\n",
    "    ydata_real_error = df_instance_set[func_error]\n",
    "\n",
    "    xdata_preds = df_grid_instance_set.W\n",
    "    ydata_preds = df_grid_instance_set[func]\n",
    "    \n",
    "    plt.figure(figsize=(22, 6), dpi=80)\n",
    "    \n",
    "    # real data\n",
    "    plt.scatter(x=xdata_real,\n",
    "                y=ydata_real,\n",
    "                color='red', marker='*', label=f\"Experimental data. Params: Ebeam: {E_beam}, Q2: {Q2}, cos_theta: {cos_theta}\")\n",
    "    plt.errorbar(x=xdata_real,\n",
    "                 y=ydata_real,\n",
    "                 yerr=ydata_real_error,\n",
    "                 color='red',\n",
    "                 fmt='o')\n",
    "    \n",
    "    plt.scatter(x=xdata_preds,\n",
    "                y=ydata_preds,\n",
    "                color='black', marker='^', label=f\"AI prediction\")\n",
    "    \n",
    "    plt.xlabel(\"W: GeV\", fontsize=\"20\")\n",
    "    plt.ylabel(\"A: microbarn/sterad\", fontsize=\"20\")\n",
    "    plt.legend(loc =\"upper right\", fontsize=\"15\")\n",
    "    \n",
    "    plt.savefig(f'./final_checks/3_models/structure_functions/E_beam={E_beam}/Q2={Q2}/{func}/E_beam={E_beam}_Q2={Q2}_cos_theta={cos_theta}.png')\n",
    "    plt.show()\n",
    "    plt.close()\n",
    "    return None"
   ],
   "outputs": [],
   "execution_count": 229
  },
  {
   "metadata": {
    "ExecuteTime": {
     "end_time": "2024-07-19T16:13:56.304448Z",
     "start_time": "2024-07-19T16:13:56.302227Z"
    }
   },
   "cell_type": "code",
   "source": [
    "func, func_error = 'A', 'A_error'\n",
    "# func, func_error = 'B', 'B_error'\n",
    "# func, func_error = 'C', 'C_error'\n",
    "\n",
    "for Q2 in tqdm.tqdm(df[df.Ebeam==Ebeam].Q2.unique()):\n",
    "    os.makedirs(f\"./final_checks/3_models/structure_functions/E_beam={Ebeam}/Q2={Q2}/{func}\", exist_ok=True)\n",
    "    for cos_theta in [-0.9, -0.8, -0.7, -0.6, -0.5, -0.4, -0.3, -0.2, -0.1, -0.0, 0.1, 0.2, 0.3, 0.4, 0.5, 0.6, 0.7, 0.8, 0.9]:\n",
    "        try:\n",
    "            plot_joint_sf(df_sf, Ebeam, Q2, cos_theta, df_grid, func, func_error)\n",
    "        except Exception as e:\n",
    "            print(Ebeam, Q2, cos_theta)\n",
    "            print(e)"
   ],
   "outputs": [],
   "execution_count": 234
  }
 ],
 "metadata": {
  "kernelspec": {
   "display_name": "Python 3",
   "language": "python",
   "name": "python3"
  },
  "language_info": {
   "codemirror_mode": {
    "name": "ipython",
    "version": 2
   },
   "file_extension": ".py",
   "mimetype": "text/x-python",
   "name": "python",
   "nbconvert_exporter": "python",
   "pygments_lexer": "ipython2",
   "version": "2.7.6"
  }
 },
 "nbformat": 4,
 "nbformat_minor": 0
}
