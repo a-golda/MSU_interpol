{
 "cells": [
  {
   "cell_type": "markdown",
   "id": "710f2a4c",
   "metadata": {},
   "source": [
    "# Import and Read"
   ]
  },
  {
   "cell_type": "code",
   "execution_count": 1,
   "id": "e8504058",
   "metadata": {},
   "outputs": [
    {
     "data": {
      "text/html": [
       "<style>#notebook { padding-top:0px !important;margin-left:-30px !important; } .container { width:100% !important; } .end_space { min-height:0px !important; } </style>"
      ],
      "text/plain": [
       "<IPython.core.display.HTML object>"
      ]
     },
     "metadata": {},
     "output_type": "display_data"
    }
   ],
   "source": [
    "from IPython.core.display import display, HTML\n",
    "from IPython import get_ipython as get_ipython\n",
    "display(HTML(\n",
    "    '<style>'\n",
    "        '#notebook { padding-top:0px !important;margin-left:-30px !important; } ' \n",
    "        '.container { width:100% !important; } '\n",
    "        '.end_space { min-height:0px !important; } '\n",
    "    '</style>'\n",
    "))\n"
   ]
  },
  {
   "cell_type": "code",
   "execution_count": 2,
   "id": "68b45f86",
   "metadata": {},
   "outputs": [],
   "source": [
    "import numpy as np\n",
    "import pandas as pd\n",
    "import seaborn as sns\n",
    "import matplotlib.pyplot as plt"
   ]
  },
  {
   "cell_type": "code",
   "execution_count": 3,
   "id": "a38056b3",
   "metadata": {},
   "outputs": [],
   "source": [
    "df = pd.read_csv('./data/clasdb_pi_plus_n.txt', delimiter='\\t', header=None)\n",
    "df.columns = ['Ebeam', 'W', 'Q2', 'cos(theta)', 'phi', 'dsigma/dOmega', 'error', 'id']"
   ]
  },
  {
   "cell_type": "code",
   "execution_count": 4,
   "id": "0c930c33",
   "metadata": {},
   "outputs": [],
   "source": [
    "df.loc[8314:65671, 'Ebeam'] = 5.754"
   ]
  },
  {
   "cell_type": "markdown",
   "id": "e02f98ad",
   "metadata": {},
   "source": [
    "# Top level analysis"
   ]
  },
  {
   "cell_type": "code",
   "execution_count": 5,
   "id": "daa83058",
   "metadata": {},
   "outputs": [
    {
     "data": {
      "text/html": [
       "<div>\n",
       "<style scoped>\n",
       "    .dataframe tbody tr th:only-of-type {\n",
       "        vertical-align: middle;\n",
       "    }\n",
       "\n",
       "    .dataframe tbody tr th {\n",
       "        vertical-align: top;\n",
       "    }\n",
       "\n",
       "    .dataframe thead th {\n",
       "        text-align: right;\n",
       "    }\n",
       "</style>\n",
       "<table border=\"1\" class=\"dataframe\">\n",
       "  <thead>\n",
       "    <tr style=\"text-align: right;\">\n",
       "      <th></th>\n",
       "      <th>Ebeam</th>\n",
       "      <th>W</th>\n",
       "      <th>Q2</th>\n",
       "      <th>cos(theta)</th>\n",
       "      <th>phi</th>\n",
       "      <th>dsigma/dOmega</th>\n",
       "      <th>error</th>\n",
       "      <th>id</th>\n",
       "    </tr>\n",
       "  </thead>\n",
       "  <tbody>\n",
       "    <tr>\n",
       "      <th>0</th>\n",
       "      <td>1.515</td>\n",
       "      <td>1.11</td>\n",
       "      <td>0.3</td>\n",
       "      <td>0.991445</td>\n",
       "      <td>15.0</td>\n",
       "      <td>15.370</td>\n",
       "      <td>5.264366</td>\n",
       "      <td>E8M1</td>\n",
       "    </tr>\n",
       "    <tr>\n",
       "      <th>1</th>\n",
       "      <td>1.515</td>\n",
       "      <td>1.11</td>\n",
       "      <td>0.3</td>\n",
       "      <td>0.991445</td>\n",
       "      <td>45.0</td>\n",
       "      <td>4.511</td>\n",
       "      <td>1.743136</td>\n",
       "      <td>E8M1</td>\n",
       "    </tr>\n",
       "    <tr>\n",
       "      <th>2</th>\n",
       "      <td>1.515</td>\n",
       "      <td>1.11</td>\n",
       "      <td>0.3</td>\n",
       "      <td>0.991445</td>\n",
       "      <td>75.0</td>\n",
       "      <td>4.478</td>\n",
       "      <td>1.611260</td>\n",
       "      <td>E8M1</td>\n",
       "    </tr>\n",
       "    <tr>\n",
       "      <th>3</th>\n",
       "      <td>1.515</td>\n",
       "      <td>1.11</td>\n",
       "      <td>0.3</td>\n",
       "      <td>0.991445</td>\n",
       "      <td>105.0</td>\n",
       "      <td>5.136</td>\n",
       "      <td>1.523529</td>\n",
       "      <td>E8M1</td>\n",
       "    </tr>\n",
       "    <tr>\n",
       "      <th>4</th>\n",
       "      <td>1.515</td>\n",
       "      <td>1.11</td>\n",
       "      <td>0.3</td>\n",
       "      <td>0.991445</td>\n",
       "      <td>135.0</td>\n",
       "      <td>5.078</td>\n",
       "      <td>1.219442</td>\n",
       "      <td>E8M1</td>\n",
       "    </tr>\n",
       "  </tbody>\n",
       "</table>\n",
       "</div>"
      ],
      "text/plain": [
       "   Ebeam     W   Q2  cos(theta)    phi  dsigma/dOmega     error    id\n",
       "0  1.515  1.11  0.3    0.991445   15.0         15.370  5.264366  E8M1\n",
       "1  1.515  1.11  0.3    0.991445   45.0          4.511  1.743136  E8M1\n",
       "2  1.515  1.11  0.3    0.991445   75.0          4.478  1.611260  E8M1\n",
       "3  1.515  1.11  0.3    0.991445  105.0          5.136  1.523529  E8M1\n",
       "4  1.515  1.11  0.3    0.991445  135.0          5.078  1.219442  E8M1"
      ]
     },
     "execution_count": 5,
     "metadata": {},
     "output_type": "execute_result"
    }
   ],
   "source": [
    "df.head(5)"
   ]
  },
  {
   "cell_type": "code",
   "execution_count": 6,
   "id": "4db08e92",
   "metadata": {},
   "outputs": [
    {
     "data": {
      "text/html": [
       "<div>\n",
       "<style scoped>\n",
       "    .dataframe tbody tr th:only-of-type {\n",
       "        vertical-align: middle;\n",
       "    }\n",
       "\n",
       "    .dataframe tbody tr th {\n",
       "        vertical-align: top;\n",
       "    }\n",
       "\n",
       "    .dataframe thead th {\n",
       "        text-align: right;\n",
       "    }\n",
       "</style>\n",
       "<table border=\"1\" class=\"dataframe\">\n",
       "  <thead>\n",
       "    <tr style=\"text-align: right;\">\n",
       "      <th></th>\n",
       "      <th>isnull</th>\n",
       "      <th>dtypes</th>\n",
       "    </tr>\n",
       "  </thead>\n",
       "  <tbody>\n",
       "    <tr>\n",
       "      <th>Ebeam</th>\n",
       "      <td>0</td>\n",
       "      <td>float64</td>\n",
       "    </tr>\n",
       "    <tr>\n",
       "      <th>W</th>\n",
       "      <td>0</td>\n",
       "      <td>float64</td>\n",
       "    </tr>\n",
       "    <tr>\n",
       "      <th>Q2</th>\n",
       "      <td>0</td>\n",
       "      <td>float64</td>\n",
       "    </tr>\n",
       "    <tr>\n",
       "      <th>cos(theta)</th>\n",
       "      <td>0</td>\n",
       "      <td>float64</td>\n",
       "    </tr>\n",
       "    <tr>\n",
       "      <th>phi</th>\n",
       "      <td>0</td>\n",
       "      <td>float64</td>\n",
       "    </tr>\n",
       "    <tr>\n",
       "      <th>dsigma/dOmega</th>\n",
       "      <td>0</td>\n",
       "      <td>float64</td>\n",
       "    </tr>\n",
       "    <tr>\n",
       "      <th>error</th>\n",
       "      <td>0</td>\n",
       "      <td>float64</td>\n",
       "    </tr>\n",
       "    <tr>\n",
       "      <th>id</th>\n",
       "      <td>0</td>\n",
       "      <td>object</td>\n",
       "    </tr>\n",
       "  </tbody>\n",
       "</table>\n",
       "</div>"
      ],
      "text/plain": [
       "               isnull   dtypes\n",
       "Ebeam               0  float64\n",
       "W                   0  float64\n",
       "Q2                  0  float64\n",
       "cos(theta)          0  float64\n",
       "phi                 0  float64\n",
       "dsigma/dOmega       0  float64\n",
       "error               0  float64\n",
       "id                  0   object"
      ]
     },
     "execution_count": 6,
     "metadata": {},
     "output_type": "execute_result"
    }
   ],
   "source": [
    "pd.DataFrame({'isnull': df.isnull().sum(), 'dtypes': df.dtypes})"
   ]
  },
  {
   "cell_type": "code",
   "execution_count": 7,
   "id": "f53cde4a",
   "metadata": {},
   "outputs": [
    {
     "data": {
      "text/plain": [
       "E141M119    465\n",
       "E141M121    460\n",
       "E141M128    456\n",
       "E141M120    452\n",
       "E141M116    452\n",
       "           ... \n",
       "E8M68        73\n",
       "E13M210      71\n",
       "E8M84        37\n",
       "E8M47        27\n",
       "E141M160     24\n",
       "Name: id, Length: 561, dtype: int64"
      ]
     },
     "execution_count": 7,
     "metadata": {},
     "output_type": "execute_result"
    }
   ],
   "source": [
    "df.id.value_counts()"
   ]
  },
  {
   "cell_type": "code",
   "execution_count": 8,
   "id": "f0cb766a",
   "metadata": {},
   "outputs": [
    {
     "data": {
      "image/png": "[encoded data removed]",
      "text/plain": [
       "<Figure size 432x288 with 1 Axes>"
      ]
     },
     "metadata": {
      "needs_background": "light"
     },
     "output_type": "display_data"
    },
    {
     "data": {
      "image/png": "[encoded data removed]",
      "text/plain": [
       "<Figure size 432x288 with 1 Axes>"
      ]
     },
     "metadata": {
      "needs_background": "light"
     },
     "output_type": "display_data"
    },
    {
     "data": {
      "image/png": "[encoded data removed]",
      "text/plain": [
       "<Figure size 432x288 with 1 Axes>"
      ]
     },
     "metadata": {
      "needs_background": "light"
     },
     "output_type": "display_data"
    },
    {
     "data": {
      "image/png": "[encoded data removed]",
      "text/plain": [
       "<Figure size 432x288 with 1 Axes>"
      ]
     },
     "metadata": {
      "needs_background": "light"
     },
     "output_type": "display_data"
    },
    {
     "data": {
      "image/png": "[encoded data removed]",
      "text/plain": [
       "<Figure size 432x288 with 1 Axes>"
      ]
     },
     "metadata": {
      "needs_background": "light"
     },
     "output_type": "display_data"
    },
    {
     "data": {
      "image/png": "[encoded data removed]",
      "text/plain": [
       "<Figure size 432x288 with 1 Axes>"
      ]
     },
     "metadata": {
      "needs_background": "light"
     },
     "output_type": "display_data"
    },
    {
     "data": {
      "image/png": "[encoded data removed]",
      "text/plain": [
       "<Figure size 432x288 with 1 Axes>"
      ]
     },
     "metadata": {
      "needs_background": "light"
     },
     "output_type": "display_data"
    }
   ],
   "source": [
    "for i, col in enumerate(df.drop('id', axis=1).columns):\n",
    "    sns.histplot(df[df.Ebeam==5.754][col], label=f'{col}', bins=100)\n",
    "    plt.legend()\n",
    "    plt.show()"
   ]
  },
  {
   "cell_type": "code",
   "execution_count": 12,
   "id": "2ff7b690",
   "metadata": {},
   "outputs": [
    {
     "data": {
      "text/html": [
       "<div>\n",
       "<style scoped>\n",
       "    .dataframe tbody tr th:only-of-type {\n",
       "        vertical-align: middle;\n",
       "    }\n",
       "\n",
       "    .dataframe tbody tr th {\n",
       "        vertical-align: top;\n",
       "    }\n",
       "\n",
       "    .dataframe thead th {\n",
       "        text-align: right;\n",
       "    }\n",
       "</style>\n",
       "<table border=\"1\" class=\"dataframe\">\n",
       "  <thead>\n",
       "    <tr style=\"text-align: right;\">\n",
       "      <th></th>\n",
       "      <th>Ebeam</th>\n",
       "      <th>W</th>\n",
       "      <th>Q2</th>\n",
       "      <th>cos(theta)</th>\n",
       "      <th>phi</th>\n",
       "      <th>dsigma/dOmega</th>\n",
       "      <th>error</th>\n",
       "      <th>id</th>\n",
       "    </tr>\n",
       "  </thead>\n",
       "  <tbody>\n",
       "    <tr>\n",
       "      <th>0</th>\n",
       "      <td>1.515</td>\n",
       "      <td>1.11</td>\n",
       "      <td>0.3</td>\n",
       "      <td>0.991445</td>\n",
       "      <td>15.00</td>\n",
       "      <td>15.3700</td>\n",
       "      <td>5.264366</td>\n",
       "      <td>E8M1</td>\n",
       "    </tr>\n",
       "    <tr>\n",
       "      <th>1</th>\n",
       "      <td>1.515</td>\n",
       "      <td>1.11</td>\n",
       "      <td>0.3</td>\n",
       "      <td>0.991445</td>\n",
       "      <td>45.00</td>\n",
       "      <td>4.5110</td>\n",
       "      <td>1.743136</td>\n",
       "      <td>E8M1</td>\n",
       "    </tr>\n",
       "    <tr>\n",
       "      <th>2</th>\n",
       "      <td>1.515</td>\n",
       "      <td>1.11</td>\n",
       "      <td>0.3</td>\n",
       "      <td>0.991445</td>\n",
       "      <td>75.00</td>\n",
       "      <td>4.4780</td>\n",
       "      <td>1.611260</td>\n",
       "      <td>E8M1</td>\n",
       "    </tr>\n",
       "    <tr>\n",
       "      <th>3</th>\n",
       "      <td>1.515</td>\n",
       "      <td>1.11</td>\n",
       "      <td>0.3</td>\n",
       "      <td>0.991445</td>\n",
       "      <td>105.00</td>\n",
       "      <td>5.1360</td>\n",
       "      <td>1.523529</td>\n",
       "      <td>E8M1</td>\n",
       "    </tr>\n",
       "    <tr>\n",
       "      <th>4</th>\n",
       "      <td>1.515</td>\n",
       "      <td>1.11</td>\n",
       "      <td>0.3</td>\n",
       "      <td>0.991445</td>\n",
       "      <td>135.00</td>\n",
       "      <td>5.0780</td>\n",
       "      <td>1.219442</td>\n",
       "      <td>E8M1</td>\n",
       "    </tr>\n",
       "    <tr>\n",
       "      <th>...</th>\n",
       "      <td>...</td>\n",
       "      <td>...</td>\n",
       "      <td>...</td>\n",
       "      <td>...</td>\n",
       "      <td>...</td>\n",
       "      <td>...</td>\n",
       "      <td>...</td>\n",
       "      <td>...</td>\n",
       "    </tr>\n",
       "    <tr>\n",
       "      <th>98022</th>\n",
       "      <td>5.499</td>\n",
       "      <td>2.01</td>\n",
       "      <td>4.0</td>\n",
       "      <td>0.975000</td>\n",
       "      <td>213.75</td>\n",
       "      <td>0.1012</td>\n",
       "      <td>0.043165</td>\n",
       "      <td>E141M160</td>\n",
       "    </tr>\n",
       "    <tr>\n",
       "      <th>98023</th>\n",
       "      <td>5.499</td>\n",
       "      <td>2.01</td>\n",
       "      <td>4.0</td>\n",
       "      <td>0.975000</td>\n",
       "      <td>228.75</td>\n",
       "      <td>0.1199</td>\n",
       "      <td>0.076638</td>\n",
       "      <td>E141M160</td>\n",
       "    </tr>\n",
       "    <tr>\n",
       "      <th>98024</th>\n",
       "      <td>5.499</td>\n",
       "      <td>2.01</td>\n",
       "      <td>4.0</td>\n",
       "      <td>0.975000</td>\n",
       "      <td>266.25</td>\n",
       "      <td>0.1578</td>\n",
       "      <td>0.095391</td>\n",
       "      <td>E141M160</td>\n",
       "    </tr>\n",
       "    <tr>\n",
       "      <th>98025</th>\n",
       "      <td>5.499</td>\n",
       "      <td>2.01</td>\n",
       "      <td>4.0</td>\n",
       "      <td>0.975000</td>\n",
       "      <td>273.75</td>\n",
       "      <td>0.2346</td>\n",
       "      <td>0.158557</td>\n",
       "      <td>E141M160</td>\n",
       "    </tr>\n",
       "    <tr>\n",
       "      <th>98026</th>\n",
       "      <td>5.499</td>\n",
       "      <td>2.01</td>\n",
       "      <td>4.0</td>\n",
       "      <td>0.975000</td>\n",
       "      <td>348.75</td>\n",
       "      <td>0.1250</td>\n",
       "      <td>0.077753</td>\n",
       "      <td>E141M160</td>\n",
       "    </tr>\n",
       "  </tbody>\n",
       "</table>\n",
       "<p>98027 rows × 8 columns</p>\n",
       "</div>"
      ],
      "text/plain": [
       "       Ebeam     W   Q2  cos(theta)     phi  dsigma/dOmega     error        id\n",
       "0      1.515  1.11  0.3    0.991445   15.00        15.3700  5.264366      E8M1\n",
       "1      1.515  1.11  0.3    0.991445   45.00         4.5110  1.743136      E8M1\n",
       "2      1.515  1.11  0.3    0.991445   75.00         4.4780  1.611260      E8M1\n",
       "3      1.515  1.11  0.3    0.991445  105.00         5.1360  1.523529      E8M1\n",
       "4      1.515  1.11  0.3    0.991445  135.00         5.0780  1.219442      E8M1\n",
       "...      ...   ...  ...         ...     ...            ...       ...       ...\n",
       "98022  5.499  2.01  4.0    0.975000  213.75         0.1012  0.043165  E141M160\n",
       "98023  5.499  2.01  4.0    0.975000  228.75         0.1199  0.076638  E141M160\n",
       "98024  5.499  2.01  4.0    0.975000  266.25         0.1578  0.095391  E141M160\n",
       "98025  5.499  2.01  4.0    0.975000  273.75         0.2346  0.158557  E141M160\n",
       "98026  5.499  2.01  4.0    0.975000  348.75         0.1250  0.077753  E141M160\n",
       "\n",
       "[98027 rows x 8 columns]"
      ]
     },
     "execution_count": 12,
     "metadata": {},
     "output_type": "execute_result"
    }
   ],
   "source": [
    "df"
   ]
  },
  {
   "cell_type": "code",
   "execution_count": 41,
   "id": "f6d44a70",
   "metadata": {},
   "outputs": [
    {
     "data": {
      "image/png": "[encoded data removed]",
      "text/plain": [
       "<Figure size 432x288 with 1 Axes>"
      ]
     },
     "metadata": {
      "needs_background": "light"
     },
     "output_type": "display_data"
    },
    {
     "data": {
      "image/png": "[encoded data removed]",
      "text/plain": [
       "<Figure size 432x288 with 1 Axes>"
      ]
     },
     "metadata": {
      "needs_background": "light"
     },
     "output_type": "display_data"
    },
    {
     "data": {
      "image/png": "[encoded data removed]",
      "text/plain": [
       "<Figure size 432x288 with 1 Axes>"
      ]
     },
     "metadata": {
      "needs_background": "light"
     },
     "output_type": "display_data"
    }
   ],
   "source": [
    "# df.groupby('Ebeam').agg({'W': pd.unique, 'Q2': pd.unique})\n",
    "\n",
    "for i in df.Ebeam.unique():\n",
    "    df_tmp = df[df.Ebeam == i][['W', 'Q2']].drop_duplicates()\n",
    "    plt.scatter(df_tmp.to_numpy()[:, 0], df_tmp.to_numpy()[:, 1])\n",
    "    plt.xlabel('W')\n",
    "    plt.ylabel('Q2')\n",
    "    plt.title(f'Ebeam: {i}')\n",
    "    plt.show()"
   ]
  },
  {
   "cell_type": "code",
   "execution_count": 43,
   "id": "44b8e7c0",
   "metadata": {},
   "outputs": [
    {
     "data": {
      "image/png": "[encoded data removed]",
      "text/plain": [
       "<Figure size 432x288 with 1 Axes>"
      ]
     },
     "metadata": {
      "needs_background": "light"
     },
     "output_type": "display_data"
    }
   ],
   "source": [
    "df_tmp = df[['W', 'Q2']].drop_duplicates()\n",
    "plt.scatter(df_tmp.to_numpy()[:, 0], df_tmp.to_numpy()[:, 1])\n",
    "plt.xlabel('W')\n",
    "plt.ylabel('Q2')\n",
    "plt.show()"
   ]
  },
  {
   "cell_type": "code",
   "execution_count": 26,
   "id": "340fd4c9",
   "metadata": {},
   "outputs": [
    {
     "data": {
      "text/html": [
       "<div>\n",
       "<style scoped>\n",
       "    .dataframe tbody tr th:only-of-type {\n",
       "        vertical-align: middle;\n",
       "    }\n",
       "\n",
       "    .dataframe tbody tr th {\n",
       "        vertical-align: top;\n",
       "    }\n",
       "\n",
       "    .dataframe thead th {\n",
       "        text-align: right;\n",
       "    }\n",
       "</style>\n",
       "<table border=\"1\" class=\"dataframe\">\n",
       "  <thead>\n",
       "    <tr style=\"text-align: right;\">\n",
       "      <th></th>\n",
       "      <th>W</th>\n",
       "      <th>Q2</th>\n",
       "    </tr>\n",
       "  </thead>\n",
       "  <tbody>\n",
       "    <tr>\n",
       "      <th>65672</th>\n",
       "      <td>1.605</td>\n",
       "      <td>1.80</td>\n",
       "    </tr>\n",
       "    <tr>\n",
       "      <th>65785</th>\n",
       "      <td>1.615</td>\n",
       "      <td>1.80</td>\n",
       "    </tr>\n",
       "    <tr>\n",
       "      <th>65901</th>\n",
       "      <td>1.625</td>\n",
       "      <td>1.80</td>\n",
       "    </tr>\n",
       "    <tr>\n",
       "      <th>66017</th>\n",
       "      <td>1.635</td>\n",
       "      <td>1.80</td>\n",
       "    </tr>\n",
       "    <tr>\n",
       "      <th>66134</th>\n",
       "      <td>1.645</td>\n",
       "      <td>1.80</td>\n",
       "    </tr>\n",
       "    <tr>\n",
       "      <th>...</th>\n",
       "      <td>...</td>\n",
       "      <td>...</td>\n",
       "    </tr>\n",
       "    <tr>\n",
       "      <th>93679</th>\n",
       "      <td>1.740</td>\n",
       "      <td>3.15</td>\n",
       "    </tr>\n",
       "    <tr>\n",
       "      <th>95938</th>\n",
       "      <td>1.620</td>\n",
       "      <td>4.00</td>\n",
       "    </tr>\n",
       "    <tr>\n",
       "      <th>96317</th>\n",
       "      <td>1.660</td>\n",
       "      <td>4.00</td>\n",
       "    </tr>\n",
       "    <tr>\n",
       "      <th>96695</th>\n",
       "      <td>1.700</td>\n",
       "      <td>4.00</td>\n",
       "    </tr>\n",
       "    <tr>\n",
       "      <th>97068</th>\n",
       "      <td>1.740</td>\n",
       "      <td>4.00</td>\n",
       "    </tr>\n",
       "  </tbody>\n",
       "</table>\n",
       "<p>135 rows × 2 columns</p>\n",
       "</div>"
      ],
      "text/plain": [
       "           W    Q2\n",
       "65672  1.605  1.80\n",
       "65785  1.615  1.80\n",
       "65901  1.625  1.80\n",
       "66017  1.635  1.80\n",
       "66134  1.645  1.80\n",
       "...      ...   ...\n",
       "93679  1.740  3.15\n",
       "95938  1.620  4.00\n",
       "96317  1.660  4.00\n",
       "96695  1.700  4.00\n",
       "97068  1.740  4.00\n",
       "\n",
       "[135 rows x 2 columns]"
      ]
     },
     "execution_count": 26,
     "metadata": {},
     "output_type": "execute_result"
    }
   ],
   "source": [
    "df[df.Ebeam == i][['W', 'Q2']].drop_duplicates()"
   ]
  },
  {
   "cell_type": "code",
   "execution_count": 91,
   "id": "961a7354",
   "metadata": {},
   "outputs": [
    {
     "data": {
      "text/plain": [
       "5.754    0.585125\n",
       "5.499    0.330062\n",
       "1.515    0.084813\n",
       "Name: Ebeam, dtype: float64"
      ]
     },
     "execution_count": 91,
     "metadata": {},
     "output_type": "execute_result"
    }
   ],
   "source": [
    "df.Ebeam.value_counts(1)"
   ]
  },
  {
   "cell_type": "code",
   "execution_count": 94,
   "id": "195d2f5b",
   "metadata": {},
   "outputs": [
    {
     "data": {
      "text/plain": [
       "2.050    0.203616\n",
       "3.480    0.126661\n",
       "2.915    0.126103\n",
       "2.445    0.123313\n",
       "4.155    0.122651\n",
       "1.715    0.097737\n",
       "2.440    0.095052\n",
       "1.720    0.076746\n",
       "2.910    0.024025\n",
       "2.115    0.004080\n",
       "1.800    0.000017\n",
       "Name: Q2, dtype: float64"
      ]
     },
     "execution_count": 94,
     "metadata": {},
     "output_type": "execute_result"
    }
   ],
   "source": [
    "df[df.Ebeam==5.754].Q2.value_counts(1)"
   ]
  },
  {
   "cell_type": "code",
   "execution_count": 96,
   "id": "61866445",
   "metadata": {},
   "outputs": [
    {
     "data": {
      "text/plain": [
       "1.270    0.033300\n",
       "1.290    0.032881\n",
       "1.250    0.032585\n",
       "1.570    0.032288\n",
       "1.690    0.032201\n",
       "1.530    0.032184\n",
       "1.670    0.032166\n",
       "1.650    0.032079\n",
       "1.550    0.032027\n",
       "1.630    0.032027\n",
       "1.150    0.031731\n",
       "1.610    0.031678\n",
       "1.590    0.031626\n",
       "1.230    0.031382\n",
       "1.510    0.031173\n",
       "1.490    0.030824\n",
       "1.470    0.030789\n",
       "1.210    0.030702\n",
       "1.450    0.030702\n",
       "1.410    0.030022\n",
       "1.430    0.030022\n",
       "1.390    0.029691\n",
       "1.370    0.029551\n",
       "1.310    0.029359\n",
       "1.190    0.029028\n",
       "1.350    0.028680\n",
       "1.330    0.028279\n",
       "1.170    0.027389\n",
       "1.710    0.023484\n",
       "1.730    0.022403\n",
       "1.130    0.022211\n",
       "1.110    0.020485\n",
       "1.750    0.019230\n",
       "1.770    0.014401\n",
       "1.790    0.011402\n",
       "1.605    0.000017\n",
       "Name: W, dtype: float64"
      ]
     },
     "execution_count": 96,
     "metadata": {},
     "output_type": "execute_result"
    }
   ],
   "source": [
    "df[df.Ebeam==5.754].W.value_counts(1)"
   ]
  },
  {
   "cell_type": "code",
   "execution_count": 87,
   "id": "47adf139",
   "metadata": {},
   "outputs": [
    {
     "data": {
      "text/plain": [
       "292.5    2604\n",
       "277.5    2579\n",
       "67.5     2573\n",
       "307.5    2564\n",
       "82.5     2555\n",
       "262.5    2550\n",
       "247.5    2540\n",
       "52.5     2538\n",
       "97.5     2512\n",
       "112.5    2496\n",
       "232.5    2461\n",
       "322.5    2447\n",
       "127.5    2435\n",
       "37.5     2430\n",
       "337.5    2338\n",
       "22.5     2333\n",
       "7.5      2319\n",
       "352.5    2313\n",
       "217.5    2243\n",
       "142.5    2221\n",
       "202.5    1861\n",
       "157.5    1851\n",
       "187.5    1696\n",
       "172.5    1665\n",
       "165.0      90\n",
       "255.0      90\n",
       "195.0      90\n",
       "75.0       90\n",
       "135.0      90\n",
       "285.0      89\n",
       "225.0      89\n",
       "105.0      89\n",
       "315.0      86\n",
       "45.0       83\n",
       "15.0       80\n",
       "345.0      77\n",
       "210.0      42\n",
       "150.0      41\n",
       "270.0      37\n",
       "90.0       36\n",
       "30.0       20\n",
       "330.0      15\n",
       "Name: phi, dtype: int64"
      ]
     },
     "execution_count": 87,
     "metadata": {},
     "output_type": "execute_result"
    }
   ],
   "source": [
    "df[df.Ebeam==5.754].phi.value_counts()"
   ]
  },
  {
   "cell_type": "markdown",
   "id": "c7fda7ae",
   "metadata": {},
   "source": [
    "# Questions/Tasks"
   ]
  },
  {
   "cell_type": "markdown",
   "id": "ccd0912f",
   "metadata": {},
   "source": [
    " 1.Target? dsigma/dOmega? <br> 2.Discrete set for Q2 and Phi, why? <br> 3.Any previous approaches? <br> 4.Representaion? <br>"
   ]
  },
  {
   "cell_type": "code",
   "execution_count": null,
   "id": "e66cc4d1",
   "metadata": {},
   "outputs": [],
   "source": []
  },
  {
   "cell_type": "code",
   "execution_count": null,
   "id": "72a11fd1",
   "metadata": {},
   "outputs": [],
   "source": []
  }
 ],
 "metadata": {
  "kernelspec": {
   "display_name": "Python 3",
   "language": "python",
   "name": "python3"
  },
  "language_info": {
   "codemirror_mode": {
    "name": "ipython",
    "version": 3
   },
   "file_extension": ".py",
   "mimetype": "text/x-python",
   "name": "python",
   "nbconvert_exporter": "python",
   "pygments_lexer": "ipython3",
   "version": "3.9.0"
  }
 },
 "nbformat": 4,
 "nbformat_minor": 5
}
