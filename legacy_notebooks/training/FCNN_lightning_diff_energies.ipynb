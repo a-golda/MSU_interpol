{
 "cells": [
  {
   "cell_type": "code",
   "execution_count": 7,
   "id": "8ce34e31",
   "metadata": {
    "code_folding": [],
    "ExecuteTime": {
     "end_time": "2024-04-03T14:30:12.039468Z",
     "start_time": "2024-04-03T14:30:12.001974Z"
    }
   },
   "outputs": [],
   "source": [
    "import os\n",
    "import sys\n",
    "import math\n",
    "import tqdm\n",
    "import wandb\n",
    "import torch\n",
    "import logging\n",
    "\n",
    "import numpy as np\n",
    "import pandas as pd\n",
    "import torch.nn as nn\n",
    "import lightning.pytorch as pl\n",
    "\n",
    "from torchmetrics import MeanAbsoluteError\n",
    "from sklearn.metrics import mean_squared_error\n",
    "from torch.utils.data import Dataset, DataLoader\n",
    "from sklearn.preprocessing import StandardScaler\n",
    "from lightning.pytorch.loggers import WandbLogger\n",
    "from sklearn.model_selection import train_test_split\n",
    "from torch.optim.lr_scheduler import ReduceLROnPlateau\n",
    "from lightning.pytorch.callbacks.early_stopping import EarlyStopping\n",
    "from lightning.pytorch.callbacks import Callback, LearningRateMonitor, ModelCheckpoint"
   ]
  },
  {
   "cell_type": "code",
   "execution_count": 8,
   "outputs": [
    {
     "data": {
      "text/plain": "True"
     },
     "execution_count": 8,
     "metadata": {},
     "output_type": "execute_result"
    }
   ],
   "source": [
    "wandb.login()"
   ],
   "metadata": {
    "collapsed": false,
    "ExecuteTime": {
     "end_time": "2024-04-03T14:30:12.401640Z",
     "start_time": "2024-04-03T14:30:12.219699Z"
    }
   },
   "id": "11489aa05dc84a6f"
  },
  {
   "cell_type": "markdown",
   "id": "94402bc9",
   "metadata": {
    "ExecuteTime": {
     "end_time": "2024-03-07T11:21:16.752953Z",
     "start_time": "2024-03-07T11:21:16.740004Z"
    }
   },
   "source": [
    "# FCNN"
   ]
  },
  {
   "cell_type": "code",
   "execution_count": 9,
   "outputs": [],
   "source": [
    "class RMSELoss(torch.nn.Module):\n",
    "    def __init__(self):\n",
    "        super(RMSELoss,self).__init__()\n",
    "\n",
    "    def forward(self,x,y,w):\n",
    "        criterion = torch.sqrt(torch.mean(w*(x - y)**2)/torch.sum(w))\n",
    "        return criterion"
   ],
   "metadata": {
    "collapsed": false,
    "ExecuteTime": {
     "end_time": "2024-04-03T14:30:13.133459Z",
     "start_time": "2024-04-03T14:30:13.101989Z"
    }
   },
   "id": "6d50fb2d5c813490"
  },
  {
   "cell_type": "code",
   "execution_count": 10,
   "id": "192e02bf",
   "metadata": {
    "code_folding": [],
    "ExecuteTime": {
     "end_time": "2024-04-03T14:30:14.934932Z",
     "start_time": "2024-04-03T14:30:14.819807Z"
    }
   },
   "outputs": [],
   "source": [
    "#params\n",
    "project_name = \"MSU_interpol\"\n",
    "\n",
    "logger_path = './wandb_local_logs'\n",
    "data_path = '../data/clasdb_pi_plus_n.txt'\n",
    "\n",
    "hyperparams_dict = {\n",
    "    'scale_data': False,\n",
    "    'augment': True,\n",
    "    'augment_factor': 25,\n",
    "    'test_size': 0.1,\n",
    "    'batch_size': 256,\n",
    "    'net_architecture': [5,60,80,100,120,140,240,340,440,640,2000,1040,640,340,240,140,100,80,60,20,1],\n",
    "    'activation_function': nn.ReLU(),\n",
    "    'loss_func': RMSELoss(),\n",
    "    'optim_func': torch.optim.Adam,\n",
    "    'max_epochs': 2000,\n",
    "    'es_min_delta': 0.00001,\n",
    "    'es_patience': 20,\n",
    "    'lr': 0.001,\n",
    "    'lr_factor':0.5,\n",
    "    'lr_patience': 5,\n",
    "    'lr_cooldown': 20,\n",
    "}"
   ]
  },
  {
   "cell_type": "code",
   "execution_count": 11,
   "outputs": [
    {
     "data": {
      "text/plain": "<IPython.core.display.HTML object>",
      "text/html": "wandb version 0.16.5 is available!  To upgrade, please run:\n $ pip install wandb --upgrade"
     },
     "metadata": {},
     "output_type": "display_data"
    },
    {
     "data": {
      "text/plain": "<IPython.core.display.HTML object>",
      "text/html": "Tracking run with wandb version 0.16.2"
     },
     "metadata": {},
     "output_type": "display_data"
    },
    {
     "data": {
      "text/plain": "<IPython.core.display.HTML object>",
      "text/html": "Run data is saved locally in <code>./wandb_local_logs/wandb/run-20240403_153016-y5a6lm51</code>"
     },
     "metadata": {},
     "output_type": "display_data"
    },
    {
     "data": {
      "text/plain": "<IPython.core.display.HTML object>",
      "text/html": "Syncing run <strong><a href='https://wandb.ai/msu_ai/msu_interpol_by_energy/runs/y5a6lm51' target=\"_blank\">fast-bird-8</a></strong> to <a href='https://wandb.ai/msu_ai/msu_interpol_by_energy' target=\"_blank\">Weights & Biases</a> (<a href='https://wandb.me/run' target=\"_blank\">docs</a>)<br/>"
     },
     "metadata": {},
     "output_type": "display_data"
    },
    {
     "data": {
      "text/plain": "<IPython.core.display.HTML object>",
      "text/html": " View project at <a href='https://wandb.ai/msu_ai/msu_interpol_by_energy' target=\"_blank\">https://wandb.ai/msu_ai/msu_interpol_by_energy</a>"
     },
     "metadata": {},
     "output_type": "display_data"
    },
    {
     "data": {
      "text/plain": "<IPython.core.display.HTML object>",
      "text/html": " View run at <a href='https://wandb.ai/msu_ai/msu_interpol_by_energy/runs/y5a6lm51' target=\"_blank\">https://wandb.ai/msu_ai/msu_interpol_by_energy/runs/y5a6lm51</a>"
     },
     "metadata": {},
     "output_type": "display_data"
    }
   ],
   "source": [
    "wandb_logger = WandbLogger(project=project_name,\n",
    "                           save_dir=logger_path)\n",
    "exp_name = wandb_logger.experiment.name\n",
    "\n",
    "logger_full_path = os.path.join(logger_path, project_name, exp_name)\n",
    "\n",
    "os.makedirs(logger_full_path, exist_ok=True)\n",
    "logging.basicConfig(encoding='utf-8',\n",
    "                    level=logging.DEBUG,\n",
    "                    format='%(asctime)s : %(levelname)s : %(message)s',\n",
    "                    handlers=[logging.FileHandler(os.path.join(logger_full_path, 'logs.log'), mode='w'),\n",
    "                              logging.StreamHandler(sys.stdout)],\n",
    "                    force=True)"
   ],
   "metadata": {
    "collapsed": false,
    "ExecuteTime": {
     "end_time": "2024-04-03T14:30:17.793545Z",
     "start_time": "2024-04-03T14:30:15.515970Z"
    }
   },
   "id": "1b302d304fb4250e"
  },
  {
   "cell_type": "code",
   "execution_count": 25,
   "outputs": [],
   "source": [
    "df = pd.read_csv(data_path, delimiter='\\t', header=None)\n",
    "df.columns = ['Ebeam', 'W', 'Q2', 'cos_theta', 'phi', 'dsigma_dOmega', 'error', 'id']\n",
    "df.loc[8314:65671, 'Ebeam'] = 5.754 # peculiarity of this dataset.\n",
    "df['phi'] = df.phi.apply(lambda x: math.radians(x))\n",
    "df['weight'] = df['error'].apply(lambda x: x and 1 / x or 100) # x and 1 / x or 100  is just a reversed error but with validation 1/0 error in this case it will return 100\n",
    "df = df.drop('id', axis=1)\n",
    "df = df.iloc[df[['Ebeam', 'W', 'Q2', 'cos_theta', 'phi']].drop_duplicates().index]"
   ],
   "metadata": {
    "collapsed": false,
    "ExecuteTime": {
     "end_time": "2024-04-03T16:27:39.473583Z",
     "start_time": "2024-04-03T16:27:39.265803Z"
    }
   },
   "id": "bc632e4eb33cc125"
  },
  {
   "cell_type": "code",
   "execution_count": 40,
   "outputs": [
    {
     "data": {
      "text/plain": "<Axes: >"
     },
     "execution_count": 40,
     "metadata": {},
     "output_type": "execute_result"
    },
    {
     "data": {
      "text/plain": "<Figure size 640x480 with 1 Axes>",
      "image/png": "[encoded data removed]"
     },
     "metadata": {},
     "output_type": "display_data"
    }
   ],
   "source": [
    "df[df.Ebeam == 5.754].cos_theta.hist(bins = 20)"
   ],
   "metadata": {
    "collapsed": false,
    "ExecuteTime": {
     "end_time": "2024-04-03T16:34:35.405520Z",
     "start_time": "2024-04-03T16:34:35.232287Z"
    }
   },
   "id": "c2eac067ed7b7070"
  },
  {
   "cell_type": "code",
   "execution_count": null,
   "outputs": [],
   "source": [],
   "metadata": {
    "collapsed": false
   },
   "id": "19c24cb08ed29051"
  },
  {
   "cell_type": "code",
   "execution_count": 12,
   "id": "1a4c8bf4",
   "metadata": {
    "code_folding": [
     0,
     14,
     57
    ],
    "ExecuteTime": {
     "end_time": "2024-04-03T14:30:17.842613Z",
     "start_time": "2024-04-03T14:30:17.698440Z"
    }
   },
   "outputs": [],
   "source": [
    "class InterpolDataSet(Dataset):\n",
    "    def __init__(self, features, labels, weights):\n",
    "        self.features = features\n",
    "        self.labels = labels\n",
    "        self.weights = weights\n",
    "        self.len = len(labels)\n",
    "\n",
    "    def __getitem__(self, index):\n",
    "        feature = self.features[index]\n",
    "        label = self.labels[index]\n",
    "        weights = self.weights[index]\n",
    "        return feature, label, weights\n",
    "\n",
    "    def __len__(self):\n",
    "        return self.len\n",
    "\n",
    "class InterpolDataModule(pl.LightningDataModule):\n",
    "    def __init__(self, hyperparams):\n",
    "        super().__init__()\n",
    "        self.df = None\n",
    "        self.hyperparams = hyperparams\n",
    "        self.train_dataset = None\n",
    "        self.val_dataset = None\n",
    "\n",
    "    def augment(self, new_augm):\n",
    "        augm = pd.Series({'Ebeam': np.random.normal(loc=new_augm.Ebeam, scale=new_augm.Ebeam/30),\n",
    "                           'W': np.random.normal(loc=new_augm.W, scale=new_augm.W/30),\n",
    "                           'Q2': np.random.normal(loc=new_augm.Q2, scale=new_augm.Q2/30),\n",
    "                           'cos_theta': np.clip(np.random.normal(loc=new_augm.cos_theta, scale=abs(new_augm.cos_theta/30)), -1, 1),\n",
    "                           'phi': np.clip(np.random.normal(loc=new_augm.phi, scale=new_augm.phi/30), 0, 2*np.pi),\n",
    "                           'dsigma_dOmega': np.random.normal(loc=new_augm.dsigma_dOmega, scale=new_augm.error/3),\n",
    "                           'error': new_augm.error,\n",
    "                           'weight': new_augm.weight,\n",
    "                          })\n",
    "        return augm\n",
    "    \n",
    "    def setup(self, stage):\n",
    "        # data reading and preprocessing\n",
    "        df = pd.read_csv(data_path, delimiter='\\t', header=None)\n",
    "        df.columns = ['Ebeam', 'W', 'Q2', 'cos_theta', 'phi', 'dsigma_dOmega', 'error', 'id']\n",
    "        df.loc[8314:65671, 'Ebeam'] = 5.754 # peculiarity of this dataset.\n",
    "        df['phi'] = df.phi.apply(lambda x: math.radians(x))\n",
    "        df['weight'] = df['error'].apply(lambda x: x and 1 / x or 100) # x and 1 / x or 100  is just a reversed error but with validation 1/0 error in this case it will return 100\n",
    "        df = df.drop('id', axis=1)\n",
    "        df = df.iloc[df[['Ebeam', 'W', 'Q2', 'cos_theta', 'phi']].drop_duplicates().index]\n",
    "\n",
    "        # TODO: critical\n",
    "        # Ebeam = [5.754]\n",
    "        # Q2 = [1.72, 2.05, 2.44, 2.91, 3.48, 4.155]\n",
    "        # df = df[(df.Q2.isin(Q2))&(df.Ebeam.isin(Ebeam))]\n",
    "\n",
    "        # Ebeam = [5.499]\n",
    "        # W = [1.830, 1.890, 1.780, 1.950, 2.010, 1.620, 1.660, 1.700, 1.740]\n",
    "        # df = df[df.Ebeam.isin(Ebeam)&(df.W.isin(W))]\n",
    "\n",
    "        Ebeam = [1.515]\n",
    "        df = df[df.Ebeam.isin(Ebeam)]\n",
    "\n",
    "        #train test split\n",
    "        feature_columns = ['Ebeam', 'W', 'Q2', 'cos_theta', 'phi']\n",
    "        feature_columns_with_weights = ['Ebeam', 'W', 'Q2', 'cos_theta', 'phi', 'weight']\n",
    "\n",
    "        feature_data = df[feature_columns_with_weights]\n",
    "        label_data = df['dsigma_dOmega']\n",
    "        \n",
    "        if self.hyperparams.get('scale_data'):\n",
    "            scaler_feature = StandardScaler()\n",
    "            scaler_target = StandardScaler()\n",
    "            feature_data = scaler_feature.fit_transform(feature_data)\n",
    "            label_data = scaler_target.fit_transform(label_data.values.reshape(-1,1))\n",
    "        else:\n",
    "            pass\n",
    "\n",
    "        if self.hyperparams.get('augment'):\n",
    "            aug_series_list = []\n",
    "            for i in tqdm.tqdm(df.itertuples()):\n",
    "                for _ in range(self.hyperparams.get('augment_factor')):\n",
    "                    aug_series_list.append(self.augment(i))\n",
    "\n",
    "            aug_df = pd.DataFrame(aug_series_list)\n",
    "            df = pd.concat([df, aug_df])\n",
    "        else:\n",
    "            pass\n",
    "\n",
    "        self.df = df\n",
    "        \n",
    "        train_feature_data, val_feature_data, train_label_data, val_label_data = train_test_split(feature_data,\n",
    "                                                                                                  label_data,\n",
    "                                                                                                  test_size=self.hyperparams.get('test_size'),\n",
    "                                                                                                  random_state=1438)\n",
    "        \n",
    "        \n",
    "        self.train_dataset = InterpolDataSet(torch.tensor(train_feature_data[feature_columns].values, dtype=torch.float32),\n",
    "                                             torch.tensor(train_label_data.values, dtype=torch.float32),\n",
    "                                             torch.tensor(train_feature_data['weight'].values, dtype=torch.float32))\n",
    "        \n",
    "        self.val_dataset = InterpolDataSet(torch.tensor(val_feature_data[feature_columns].values, dtype=torch.float32),\n",
    "                                           torch.tensor(val_label_data.values, dtype=torch.float32),\n",
    "                                           torch.tensor(val_feature_data['weight'].values, dtype=torch.float32))\n",
    "    def train_dataloader(self):\n",
    "        return DataLoader(dataset = self.train_dataset, batch_size = self.hyperparams.get('batch_size'), shuffle = False, num_workers=0)\n",
    "\n",
    "    def val_dataloader(self):\n",
    "        return DataLoader(dataset = self.val_dataset, batch_size = self.hyperparams.get('batch_size'), shuffle = False, num_workers=0)\n",
    "\n",
    "class PrintCallbacks(Callback):\n",
    "    def on_train_start(self, trainer, pl_module):\n",
    "        logging.info(\"Training is starting\")\n",
    "\n",
    "    def on_train_end(self, trainer, pl_module):\n",
    "        logging.info(\"Training is ending\")\n",
    "\n",
    "    def on_train_epoch_end(self, trainer, pl_module):\n",
    "        epoch_mean = torch.stack(pl_module.training_step_outputs).mean()\n",
    "        logging.info(f\"epoch: {pl_module.current_epoch}; train_loss: {epoch_mean}\")\n",
    "        pl_module.training_step_outputs.clear()\n",
    "\n",
    "    def on_validation_epoch_end(self, trainer, pl_module):\n",
    "        epoch_mean = torch.stack(pl_module.validation_step_outputs).mean()\n",
    "        logging.info(f\"epoch: {pl_module.current_epoch}; val_loss: {epoch_mean}\")\n",
    "        pl_module.validation_step_outputs.clear()\n",
    "\n",
    "class InterpolRegressor(pl.LightningModule):\n",
    "    def __init__(self, hyperparams):\n",
    "        super(InterpolRegressor, self).__init__()\n",
    "\n",
    "        self.train_loss, self.train_mae, self.val_loss, self.val_mae = 0,0,0,0\n",
    "        self.hyperparams = hyperparams\n",
    "        self.save_hyperparameters(self.hyperparams)\n",
    "\n",
    "        self.mae = MeanAbsoluteError()\n",
    "        self.loss_func = self.hyperparams.get('loss_func')\n",
    "\n",
    "        self.optim = self.hyperparams.get('optim_func')\n",
    "\n",
    "        self.net_architecture = self.hyperparams.get('net_architecture')\n",
    "        self.activation_function = self.hyperparams.get('activation_function')\n",
    "\n",
    "        self.training_step_outputs = []\n",
    "        self.validation_step_outputs = []\n",
    "\n",
    "        self.net = nn.Sequential()\n",
    "        for i in range(1,len(self.net_architecture)):\n",
    "            self.net.append(nn.Linear(self.net_architecture[i-1], self.net_architecture[i]))\n",
    "            if i!=len(self.net_architecture)-1:\n",
    "                self.net.append(self.activation_function)\n",
    "            else:\n",
    "                pass\n",
    "\n",
    "    def forward(self, x):\n",
    "        return self.net(x)\n",
    "\n",
    "    def training_step(self, batch, batch_idx):\n",
    "        x, y, w = batch\n",
    "        y_hat = self.forward(x)\n",
    "\n",
    "        loss = self.loss_func\n",
    "        self.train_loss = loss.forward(y_hat.reshape(-1), y, w)\n",
    "        self.train_mae = self.mae(y_hat.reshape(-1), y)\n",
    "\n",
    "        self.log('train_loss', self.train_loss, batch_size=self.hyperparams['batch_size'],\n",
    "                 on_step=False, on_epoch=True, prog_bar=True, sync_dist=True, logger=True)\n",
    "        self.log('train_mae', self.train_mae, batch_size=self.hyperparams['batch_size'],\n",
    "                 on_step=False, on_epoch=True, prog_bar=True, sync_dist=True, logger=True)\n",
    "\n",
    "        self.training_step_outputs.append(self.train_loss)\n",
    "        return self.train_loss\n",
    "\n",
    "    def validation_step(self, batch, batch_idx):\n",
    "        x, y, w = batch\n",
    "        y_hat = self.forward(x)\n",
    "\n",
    "        loss = self.loss_func\n",
    "        self.val_loss = loss.forward(y_hat.reshape(-1), y, w)\n",
    "        self.val_mae = self.mae(y_hat.reshape(-1), y)\n",
    "\n",
    "        self.log('val_loss', self.val_loss, batch_size=self.hyperparams['batch_size'],\n",
    "                 on_step=False, on_epoch=True, prog_bar=True, sync_dist=True, logger=True)\n",
    "        self.log('val_mae', self.val_mae, batch_size=self.hyperparams['batch_size'],\n",
    "                 on_step=False, on_epoch=True, prog_bar=True, sync_dist=True, logger=True)\n",
    "\n",
    "        self.validation_step_outputs.append(self.val_loss)\n",
    "        return self.val_loss\n",
    "\n",
    "    def on_validation_epoch_end(self):\n",
    "        sch = self.lr_schedulers()\n",
    "        if isinstance(sch, torch.optim.lr_scheduler.ReduceLROnPlateau) and self.trainer.current_epoch!=0:\n",
    "                sch.step(self.trainer.callback_metrics[\"val_loss\"])\n",
    "\n",
    "    def configure_callbacks(self):\n",
    "        early_stop_callback = EarlyStopping(monitor=\"val_loss\", mode=\"min\",\n",
    "                                            min_delta=self.hyperparams.get('es_min_delta'),\n",
    "                                            patience=self.hyperparams.get('es_patience'),\n",
    "                                            verbose=True)\n",
    "\n",
    "        checkpoint_callback = ModelCheckpoint(save_top_k=3,\n",
    "                                              monitor=\"val_loss\",\n",
    "                                              mode=\"min\",\n",
    "                                              dirpath=f\"{logger_full_path}/checkpoints\",\n",
    "                                              filename=\"{exp_name}{val_loss:.5f}-{epoch:02d}\")\n",
    "\n",
    "        lr_monitor = LearningRateMonitor(logging_interval='epoch')\n",
    "\n",
    "        print_callback = PrintCallbacks()\n",
    "\n",
    "        return [early_stop_callback, checkpoint_callback, print_callback, lr_monitor]\n",
    "\n",
    "    def configure_optimizers(self):\n",
    "        optimizer = self.optim(self.parameters(), lr=self.hyperparams.get('lr'))\n",
    "        lr_optim = ReduceLROnPlateau(optimizer = optimizer,\n",
    "                                     mode = 'min',\n",
    "                                     factor = self.hyperparams.get('lr_factor'),\n",
    "                                     patience = self.hyperparams.get('lr_patience'),\n",
    "                                     cooldown=self.hyperparams.get('lr_cooldown'),\n",
    "                                     threshold=0.01,\n",
    "                                     verbose= True)\n",
    "        return {\"optimizer\": optimizer,\n",
    "                \"lr_scheduler\": {\n",
    "                    \"scheduler\": lr_optim,\n",
    "                    \"interval\": \"epoch\",\n",
    "                    \"monitor\": \"val_loss\",\n",
    "                    \"frequency\": 2,\n",
    "                    \"name\": 'lr_scheduler_monitoring'}\n",
    "                }\n"
   ]
  },
  {
   "cell_type": "code",
   "execution_count": 13,
   "id": "8b5babb2",
   "metadata": {
    "code_folding": [],
    "scrolled": false,
    "ExecuteTime": {
     "end_time": "2024-04-03T15:07:13.137606Z",
     "start_time": "2024-04-03T14:30:19.201284Z"
    }
   },
   "outputs": [
    {
     "name": "stderr",
     "output_type": "stream",
     "text": [
      "/Users/andrey.golda/Library/Caches/pypoetry/virtualenvs/msu-interpol--lw2ADYE-py3.11/lib/python3.11/site-packages/lightning/pytorch/utilities/parsing.py:198: Attribute 'activation_function' is an instance of `nn.Module` and is already saved during checkpointing. It is recommended to ignore them using `self.save_hyperparameters(ignore=['activation_function'])`.\n",
      "/Users/andrey.golda/Library/Caches/pypoetry/virtualenvs/msu-interpol--lw2ADYE-py3.11/lib/python3.11/site-packages/lightning/pytorch/utilities/parsing.py:198: Attribute 'loss_func' is an instance of `nn.Module` and is already saved during checkpointing. It is recommended to ignore them using `self.save_hyperparameters(ignore=['loss_func'])`.\n",
      "GPU available: False, used: False\n",
      "TPU available: False, using: 0 TPU cores\n",
      "IPU available: False, using: 0 IPUs\n",
      "HPU available: False, using: 0 HPUs\n",
      "The following callbacks returned in `LightningModule.configure_callbacks` will override existing callbacks passed to Trainer: ModelCheckpoint\n",
      "8314it [02:07, 65.13it/s]\n",
      "/Users/andrey.golda/Library/Caches/pypoetry/virtualenvs/msu-interpol--lw2ADYE-py3.11/lib/python3.11/site-packages/torch/optim/lr_scheduler.py:28: UserWarning: The verbose parameter is deprecated. Please use get_last_lr() to access the learning rate.\n",
      "  warnings.warn(\"The verbose parameter is deprecated. Please use get_last_lr() \"\n",
      "\n",
      "  | Name                | Type              | Params\n",
      "----------------------------------------------------------\n",
      "0 | mae                 | MeanAbsoluteError | 0     \n",
      "1 | loss_func           | RMSELoss          | 0     \n",
      "2 | activation_function | ReLU              | 0     \n",
      "3 | net                 | Sequential        | 5.0 M \n",
      "----------------------------------------------------------\n",
      "5.0 M     Trainable params\n",
      "0         Non-trainable params\n",
      "5.0 M     Total params\n",
      "19.926    Total estimated model params size (MB)\n",
      "/Users/andrey.golda/Library/Caches/pypoetry/virtualenvs/msu-interpol--lw2ADYE-py3.11/lib/python3.11/site-packages/lightning/pytorch/trainer/connectors/data_connector.py:441: The 'val_dataloader' does not have many workers which may be a bottleneck. Consider increasing the value of the `num_workers` argument` to `num_workers=11` in the `DataLoader` to improve performance.\n"
     ]
    },
    {
     "name": "stdout",
     "output_type": "stream",
     "text": [
      "2024-04-03 15:33:24,359 : INFO : epoch: 0; val_loss: 6.7888078689575195\n",
      "2024-04-03 15:33:24,370 : INFO : Training is starting\n"
     ]
    },
    {
     "name": "stderr",
     "output_type": "stream",
     "text": [
      "/Users/andrey.golda/Library/Caches/pypoetry/virtualenvs/msu-interpol--lw2ADYE-py3.11/lib/python3.11/site-packages/lightning/pytorch/trainer/connectors/data_connector.py:441: The 'train_dataloader' does not have many workers which may be a bottleneck. Consider increasing the value of the `num_workers` argument` to `num_workers=11` in the `DataLoader` to improve performance.\n",
      "/Users/andrey.golda/Library/Caches/pypoetry/virtualenvs/msu-interpol--lw2ADYE-py3.11/lib/python3.11/site-packages/lightning/pytorch/loops/fit_loop.py:293: The number of training batches (30) is smaller than the logging interval Trainer(log_every_n_steps=50). Set a lower value for log_every_n_steps if you want to see logs for the training epoch.\n"
     ]
    },
    {
     "name": "stdout",
     "output_type": "stream",
     "text": [
      "2024-04-03 15:33:32,669 : INFO : epoch: 0; val_loss: 4.776926040649414\n",
      "2024-04-03 15:33:32,674 : INFO : epoch: 0; train_loss: 5.608072757720947\n"
     ]
    },
    {
     "name": "stderr",
     "output_type": "stream",
     "text": [
      "Metric val_loss improved. New best score: 4.777\n"
     ]
    },
    {
     "name": "stdout",
     "output_type": "stream",
     "text": [
      "2024-04-03 15:33:32,948 : DEBUG : open file: /Users/andrey.golda/Documents/Study/MSU_interpol/training/wandb_local_logs/MSU_interpol_by_energy/fast-bird-8/checkpoints/exp_name=0val_loss=4.77693-epoch=00.ckpt\n",
      "2024-04-03 15:33:40,606 : INFO : epoch: 1; val_loss: 4.123610973358154\n",
      "2024-04-03 15:33:40,611 : INFO : epoch: 1; train_loss: 4.333993911743164\n"
     ]
    },
    {
     "name": "stderr",
     "output_type": "stream",
     "text": [
      "Metric val_loss improved by 0.653 >= min_delta = 1e-05. New best score: 4.124\n"
     ]
    },
    {
     "name": "stdout",
     "output_type": "stream",
     "text": [
      "2024-04-03 15:33:40,741 : DEBUG : open file: /Users/andrey.golda/Documents/Study/MSU_interpol/training/wandb_local_logs/MSU_interpol_by_energy/fast-bird-8/checkpoints/exp_name=0val_loss=4.12361-epoch=01.ckpt\n",
      "2024-04-03 15:33:48,180 : INFO : epoch: 2; val_loss: 4.275135040283203\n",
      "2024-04-03 15:33:48,184 : INFO : epoch: 2; train_loss: 4.032928943634033\n",
      "2024-04-03 15:33:48,305 : DEBUG : open file: /Users/andrey.golda/Documents/Study/MSU_interpol/training/wandb_local_logs/MSU_interpol_by_energy/fast-bird-8/checkpoints/exp_name=0val_loss=4.27514-epoch=02.ckpt\n",
      "2024-04-03 15:33:55,401 : INFO : epoch: 3; val_loss: 3.8959712982177734\n",
      "2024-04-03 15:33:55,405 : INFO : epoch: 3; train_loss: 4.0195722579956055\n"
     ]
    },
    {
     "name": "stderr",
     "output_type": "stream",
     "text": [
      "Metric val_loss improved by 0.228 >= min_delta = 1e-05. New best score: 3.896\n"
     ]
    },
    {
     "name": "stdout",
     "output_type": "stream",
     "text": [
      "2024-04-03 15:33:55,517 : DEBUG : open file: /Users/andrey.golda/Documents/Study/MSU_interpol/training/wandb_local_logs/MSU_interpol_by_energy/fast-bird-8/checkpoints/exp_name=0val_loss=3.89597-epoch=03.ckpt\n",
      "2024-04-03 15:34:02,330 : INFO : epoch: 4; val_loss: 4.947875022888184\n",
      "2024-04-03 15:34:02,334 : INFO : epoch: 4; train_loss: 3.727104663848877\n",
      "2024-04-03 15:34:09,073 : INFO : epoch: 5; val_loss: 3.5977253913879395\n",
      "2024-04-03 15:34:09,077 : INFO : epoch: 5; train_loss: 3.8076066970825195\n"
     ]
    },
    {
     "name": "stderr",
     "output_type": "stream",
     "text": [
      "Metric val_loss improved by 0.298 >= min_delta = 1e-05. New best score: 3.598\n"
     ]
    },
    {
     "name": "stdout",
     "output_type": "stream",
     "text": [
      "2024-04-03 15:34:09,195 : DEBUG : open file: /Users/andrey.golda/Documents/Study/MSU_interpol/training/wandb_local_logs/MSU_interpol_by_energy/fast-bird-8/checkpoints/exp_name=0val_loss=3.59773-epoch=05.ckpt\n",
      "2024-04-03 15:34:15,783 : INFO : epoch: 6; val_loss: 4.230450630187988\n",
      "2024-04-03 15:34:15,787 : INFO : epoch: 6; train_loss: 3.4066567420959473\n",
      "2024-04-03 15:34:22,375 : INFO : epoch: 7; val_loss: 3.463385820388794\n",
      "2024-04-03 15:34:22,379 : INFO : epoch: 7; train_loss: 3.3782200813293457\n"
     ]
    },
    {
     "name": "stderr",
     "output_type": "stream",
     "text": [
      "Metric val_loss improved by 0.134 >= min_delta = 1e-05. New best score: 3.463\n"
     ]
    },
    {
     "name": "stdout",
     "output_type": "stream",
     "text": [
      "2024-04-03 15:34:22,491 : DEBUG : open file: /Users/andrey.golda/Documents/Study/MSU_interpol/training/wandb_local_logs/MSU_interpol_by_energy/fast-bird-8/checkpoints/exp_name=0val_loss=3.46339-epoch=07.ckpt\n",
      "2024-04-03 15:34:29,079 : INFO : epoch: 8; val_loss: 3.3067984580993652\n",
      "2024-04-03 15:34:29,083 : INFO : epoch: 8; train_loss: 3.280388832092285\n"
     ]
    },
    {
     "name": "stderr",
     "output_type": "stream",
     "text": [
      "Metric val_loss improved by 0.157 >= min_delta = 1e-05. New best score: 3.307\n"
     ]
    },
    {
     "name": "stdout",
     "output_type": "stream",
     "text": [
      "2024-04-03 15:34:29,197 : DEBUG : open file: /Users/andrey.golda/Documents/Study/MSU_interpol/training/wandb_local_logs/MSU_interpol_by_energy/fast-bird-8/checkpoints/exp_name=0val_loss=3.30680-epoch=08.ckpt\n",
      "2024-04-03 15:34:35,672 : INFO : epoch: 9; val_loss: 3.6408474445343018\n",
      "2024-04-03 15:34:35,676 : INFO : epoch: 9; train_loss: 3.243169069290161\n",
      "2024-04-03 15:34:42,207 : INFO : epoch: 10; val_loss: 2.724614381790161\n",
      "2024-04-03 15:34:42,211 : INFO : epoch: 10; train_loss: 3.020993947982788\n"
     ]
    },
    {
     "name": "stderr",
     "output_type": "stream",
     "text": [
      "Metric val_loss improved by 0.582 >= min_delta = 1e-05. New best score: 2.725\n"
     ]
    },
    {
     "name": "stdout",
     "output_type": "stream",
     "text": [
      "2024-04-03 15:34:42,330 : DEBUG : open file: /Users/andrey.golda/Documents/Study/MSU_interpol/training/wandb_local_logs/MSU_interpol_by_energy/fast-bird-8/checkpoints/exp_name=0val_loss=2.72461-epoch=10.ckpt\n",
      "2024-04-03 15:34:48,877 : INFO : epoch: 11; val_loss: 4.672973155975342\n",
      "2024-04-03 15:34:48,881 : INFO : epoch: 11; train_loss: 2.8118276596069336\n",
      "2024-04-03 15:34:55,446 : INFO : epoch: 12; val_loss: 3.066683292388916\n",
      "2024-04-03 15:34:55,450 : INFO : epoch: 12; train_loss: 2.9950637817382812\n",
      "2024-04-03 15:34:55,555 : DEBUG : open file: /Users/andrey.golda/Documents/Study/MSU_interpol/training/wandb_local_logs/MSU_interpol_by_energy/fast-bird-8/checkpoints/exp_name=0val_loss=3.06668-epoch=12.ckpt\n",
      "2024-04-03 15:35:02,054 : INFO : epoch: 13; val_loss: 2.1623129844665527\n",
      "2024-04-03 15:35:02,057 : INFO : epoch: 13; train_loss: 2.2053487300872803\n"
     ]
    },
    {
     "name": "stderr",
     "output_type": "stream",
     "text": [
      "Metric val_loss improved by 0.562 >= min_delta = 1e-05. New best score: 2.162\n"
     ]
    },
    {
     "name": "stdout",
     "output_type": "stream",
     "text": [
      "2024-04-03 15:35:02,166 : DEBUG : open file: /Users/andrey.golda/Documents/Study/MSU_interpol/training/wandb_local_logs/MSU_interpol_by_energy/fast-bird-8/checkpoints/exp_name=0val_loss=2.16231-epoch=13.ckpt\n",
      "2024-04-03 15:35:08,629 : INFO : epoch: 14; val_loss: 1.786646842956543\n",
      "2024-04-03 15:35:08,632 : INFO : epoch: 14; train_loss: 1.9283736944198608\n"
     ]
    },
    {
     "name": "stderr",
     "output_type": "stream",
     "text": [
      "Metric val_loss improved by 0.376 >= min_delta = 1e-05. New best score: 1.787\n"
     ]
    },
    {
     "name": "stdout",
     "output_type": "stream",
     "text": [
      "2024-04-03 15:35:08,741 : DEBUG : open file: /Users/andrey.golda/Documents/Study/MSU_interpol/training/wandb_local_logs/MSU_interpol_by_energy/fast-bird-8/checkpoints/exp_name=0val_loss=1.78665-epoch=14.ckpt\n",
      "2024-04-03 15:35:15,225 : INFO : epoch: 15; val_loss: 2.207446336746216\n",
      "2024-04-03 15:35:15,231 : INFO : epoch: 15; train_loss: 1.9505608081817627\n",
      "2024-04-03 15:35:15,344 : DEBUG : open file: /Users/andrey.golda/Documents/Study/MSU_interpol/training/wandb_local_logs/MSU_interpol_by_energy/fast-bird-8/checkpoints/exp_name=0val_loss=2.20745-epoch=15.ckpt\n",
      "2024-04-03 15:35:22,337 : INFO : epoch: 16; val_loss: 2.6135001182556152\n",
      "2024-04-03 15:35:22,341 : INFO : epoch: 16; train_loss: 1.7752583026885986\n",
      "2024-04-03 15:35:29,117 : INFO : epoch: 17; val_loss: 1.8457951545715332\n",
      "2024-04-03 15:35:29,120 : INFO : epoch: 17; train_loss: 1.9731849431991577\n",
      "2024-04-03 15:35:29,230 : DEBUG : open file: /Users/andrey.golda/Documents/Study/MSU_interpol/training/wandb_local_logs/MSU_interpol_by_energy/fast-bird-8/checkpoints/exp_name=0val_loss=1.84580-epoch=17.ckpt\n",
      "2024-04-03 15:35:36,032 : INFO : epoch: 18; val_loss: 1.6273980140686035\n",
      "2024-04-03 15:35:36,036 : INFO : epoch: 18; train_loss: 1.741443157196045\n"
     ]
    },
    {
     "name": "stderr",
     "output_type": "stream",
     "text": [
      "Metric val_loss improved by 0.159 >= min_delta = 1e-05. New best score: 1.627\n"
     ]
    },
    {
     "name": "stdout",
     "output_type": "stream",
     "text": [
      "2024-04-03 15:35:36,157 : DEBUG : open file: /Users/andrey.golda/Documents/Study/MSU_interpol/training/wandb_local_logs/MSU_interpol_by_energy/fast-bird-8/checkpoints/exp_name=0val_loss=1.62740-epoch=18.ckpt\n",
      "2024-04-03 15:35:43,112 : INFO : epoch: 19; val_loss: 2.01495623588562\n",
      "2024-04-03 15:35:43,116 : INFO : epoch: 19; train_loss: 1.504831314086914\n",
      "2024-04-03 15:35:49,989 : INFO : epoch: 20; val_loss: 1.5419859886169434\n",
      "2024-04-03 15:35:49,993 : INFO : epoch: 20; train_loss: 1.4692723751068115\n"
     ]
    },
    {
     "name": "stderr",
     "output_type": "stream",
     "text": [
      "Metric val_loss improved by 0.085 >= min_delta = 1e-05. New best score: 1.542\n"
     ]
    },
    {
     "name": "stdout",
     "output_type": "stream",
     "text": [
      "2024-04-03 15:35:50,109 : DEBUG : open file: /Users/andrey.golda/Documents/Study/MSU_interpol/training/wandb_local_logs/MSU_interpol_by_energy/fast-bird-8/checkpoints/exp_name=0val_loss=1.54199-epoch=20.ckpt\n",
      "2024-04-03 15:35:57,268 : INFO : epoch: 21; val_loss: 1.3764909505844116\n",
      "2024-04-03 15:35:57,273 : INFO : epoch: 21; train_loss: 1.3927010297775269\n"
     ]
    },
    {
     "name": "stderr",
     "output_type": "stream",
     "text": [
      "Metric val_loss improved by 0.165 >= min_delta = 1e-05. New best score: 1.376\n"
     ]
    },
    {
     "name": "stdout",
     "output_type": "stream",
     "text": [
      "2024-04-03 15:35:57,393 : DEBUG : open file: /Users/andrey.golda/Documents/Study/MSU_interpol/training/wandb_local_logs/MSU_interpol_by_energy/fast-bird-8/checkpoints/exp_name=0val_loss=1.37649-epoch=21.ckpt\n",
      "2024-04-03 15:36:04,588 : INFO : epoch: 22; val_loss: 1.536955714225769\n",
      "2024-04-03 15:36:04,592 : INFO : epoch: 22; train_loss: 1.3115906715393066\n",
      "2024-04-03 15:36:04,703 : DEBUG : open file: /Users/andrey.golda/Documents/Study/MSU_interpol/training/wandb_local_logs/MSU_interpol_by_energy/fast-bird-8/checkpoints/exp_name=0val_loss=1.53696-epoch=22.ckpt\n",
      "2024-04-03 15:36:11,888 : INFO : epoch: 23; val_loss: 1.4120471477508545\n",
      "2024-04-03 15:36:11,892 : INFO : epoch: 23; train_loss: 1.455755591392517\n",
      "2024-04-03 15:36:12,006 : DEBUG : open file: /Users/andrey.golda/Documents/Study/MSU_interpol/training/wandb_local_logs/MSU_interpol_by_energy/fast-bird-8/checkpoints/exp_name=0val_loss=1.41205-epoch=23.ckpt\n",
      "2024-04-03 15:36:19,527 : INFO : epoch: 24; val_loss: 1.283977746963501\n",
      "2024-04-03 15:36:19,531 : INFO : epoch: 24; train_loss: 1.3943568468093872\n"
     ]
    },
    {
     "name": "stderr",
     "output_type": "stream",
     "text": [
      "Metric val_loss improved by 0.093 >= min_delta = 1e-05. New best score: 1.284\n"
     ]
    },
    {
     "name": "stdout",
     "output_type": "stream",
     "text": [
      "2024-04-03 15:36:19,649 : DEBUG : open file: /Users/andrey.golda/Documents/Study/MSU_interpol/training/wandb_local_logs/MSU_interpol_by_energy/fast-bird-8/checkpoints/exp_name=0val_loss=1.28398-epoch=24.ckpt\n",
      "2024-04-03 15:36:27,023 : INFO : epoch: 25; val_loss: 1.54290771484375\n",
      "2024-04-03 15:36:27,027 : INFO : epoch: 25; train_loss: 1.4799562692642212\n",
      "2024-04-03 15:36:34,069 : INFO : epoch: 26; val_loss: 1.461167573928833\n",
      "2024-04-03 15:36:34,073 : INFO : epoch: 26; train_loss: 1.3425127267837524\n",
      "2024-04-03 15:36:40,769 : INFO : epoch: 27; val_loss: 1.4504430294036865\n",
      "2024-04-03 15:36:40,772 : INFO : epoch: 27; train_loss: 1.2543482780456543\n",
      "2024-04-03 15:36:47,493 : INFO : epoch: 28; val_loss: 1.5193662643432617\n",
      "2024-04-03 15:36:47,497 : INFO : epoch: 28; train_loss: 1.249321699142456\n",
      "2024-04-03 15:36:54,474 : INFO : epoch: 29; val_loss: 1.4523413181304932\n",
      "2024-04-03 15:36:54,477 : INFO : epoch: 29; train_loss: 1.2310656309127808\n",
      "2024-04-03 15:37:01,230 : INFO : epoch: 30; val_loss: 1.2785449028015137\n",
      "2024-04-03 15:37:01,235 : INFO : epoch: 30; train_loss: 1.2884409427642822\n"
     ]
    },
    {
     "name": "stderr",
     "output_type": "stream",
     "text": [
      "Metric val_loss improved by 0.005 >= min_delta = 1e-05. New best score: 1.279\n"
     ]
    },
    {
     "name": "stdout",
     "output_type": "stream",
     "text": [
      "2024-04-03 15:37:01,344 : DEBUG : open file: /Users/andrey.golda/Documents/Study/MSU_interpol/training/wandb_local_logs/MSU_interpol_by_energy/fast-bird-8/checkpoints/exp_name=0val_loss=1.27854-epoch=30.ckpt\n",
      "2024-04-03 15:37:08,134 : INFO : epoch: 31; val_loss: 1.3136889934539795\n",
      "2024-04-03 15:37:08,138 : INFO : epoch: 31; train_loss: 1.2399065494537354\n",
      "2024-04-03 15:37:08,250 : DEBUG : open file: /Users/andrey.golda/Documents/Study/MSU_interpol/training/wandb_local_logs/MSU_interpol_by_energy/fast-bird-8/checkpoints/exp_name=0val_loss=1.31369-epoch=31.ckpt\n",
      "2024-04-03 15:37:15,033 : INFO : epoch: 32; val_loss: 1.2890441417694092\n",
      "2024-04-03 15:37:15,056 : INFO : epoch: 32; train_loss: 1.2293789386749268\n",
      "2024-04-03 15:37:15,164 : DEBUG : open file: /Users/andrey.golda/Documents/Study/MSU_interpol/training/wandb_local_logs/MSU_interpol_by_energy/fast-bird-8/checkpoints/exp_name=0val_loss=1.28904-epoch=32.ckpt\n",
      "2024-04-03 15:37:22,051 : INFO : epoch: 33; val_loss: 1.2817848920822144\n",
      "2024-04-03 15:37:22,055 : INFO : epoch: 33; train_loss: 1.2092982530593872\n",
      "2024-04-03 15:37:22,161 : DEBUG : open file: /Users/andrey.golda/Documents/Study/MSU_interpol/training/wandb_local_logs/MSU_interpol_by_energy/fast-bird-8/checkpoints/exp_name=0val_loss=1.28178-epoch=33.ckpt\n",
      "2024-04-03 15:37:29,552 : INFO : epoch: 34; val_loss: 1.2833853960037231\n",
      "2024-04-03 15:37:29,558 : INFO : epoch: 34; train_loss: 1.1788417100906372\n",
      "2024-04-03 15:37:29,670 : DEBUG : open file: /Users/andrey.golda/Documents/Study/MSU_interpol/training/wandb_local_logs/MSU_interpol_by_energy/fast-bird-8/checkpoints/exp_name=0val_loss=1.28339-epoch=34.ckpt\n",
      "2024-04-03 15:37:37,699 : INFO : epoch: 35; val_loss: 1.288191556930542\n",
      "2024-04-03 15:37:37,704 : INFO : epoch: 35; train_loss: 1.1736239194869995\n",
      "2024-04-03 15:37:44,499 : INFO : epoch: 36; val_loss: 1.2453583478927612\n",
      "2024-04-03 15:37:44,503 : INFO : epoch: 36; train_loss: 1.1835591793060303\n"
     ]
    },
    {
     "name": "stderr",
     "output_type": "stream",
     "text": [
      "Metric val_loss improved by 0.033 >= min_delta = 1e-05. New best score: 1.245\n"
     ]
    },
    {
     "name": "stdout",
     "output_type": "stream",
     "text": [
      "2024-04-03 15:37:44,615 : DEBUG : open file: /Users/andrey.golda/Documents/Study/MSU_interpol/training/wandb_local_logs/MSU_interpol_by_energy/fast-bird-8/checkpoints/exp_name=0val_loss=1.24536-epoch=36.ckpt\n",
      "2024-04-03 15:37:51,597 : INFO : epoch: 37; val_loss: 1.2535459995269775\n",
      "2024-04-03 15:37:51,601 : INFO : epoch: 37; train_loss: 1.1549264192581177\n",
      "2024-04-03 15:37:51,710 : DEBUG : open file: /Users/andrey.golda/Documents/Study/MSU_interpol/training/wandb_local_logs/MSU_interpol_by_energy/fast-bird-8/checkpoints/exp_name=0val_loss=1.25355-epoch=37.ckpt\n",
      "2024-04-03 15:37:59,062 : INFO : epoch: 38; val_loss: 1.2579187154769897\n",
      "2024-04-03 15:37:59,066 : INFO : epoch: 38; train_loss: 1.1486009359359741\n",
      "2024-04-03 15:37:59,180 : DEBUG : open file: /Users/andrey.golda/Documents/Study/MSU_interpol/training/wandb_local_logs/MSU_interpol_by_energy/fast-bird-8/checkpoints/exp_name=0val_loss=1.25792-epoch=38.ckpt\n",
      "2024-04-03 15:38:06,328 : INFO : epoch: 39; val_loss: 1.2487019300460815\n",
      "2024-04-03 15:38:06,332 : INFO : epoch: 39; train_loss: 1.1535108089447021\n",
      "2024-04-03 15:38:06,443 : DEBUG : open file: /Users/andrey.golda/Documents/Study/MSU_interpol/training/wandb_local_logs/MSU_interpol_by_energy/fast-bird-8/checkpoints/exp_name=0val_loss=1.24870-epoch=39.ckpt\n",
      "2024-04-03 15:38:13,632 : INFO : epoch: 40; val_loss: 1.2179498672485352\n",
      "2024-04-03 15:38:13,636 : INFO : epoch: 40; train_loss: 1.1551868915557861\n"
     ]
    },
    {
     "name": "stderr",
     "output_type": "stream",
     "text": [
      "Metric val_loss improved by 0.027 >= min_delta = 1e-05. New best score: 1.218\n"
     ]
    },
    {
     "name": "stdout",
     "output_type": "stream",
     "text": [
      "2024-04-03 15:38:13,750 : DEBUG : open file: /Users/andrey.golda/Documents/Study/MSU_interpol/training/wandb_local_logs/MSU_interpol_by_energy/fast-bird-8/checkpoints/exp_name=0val_loss=1.21795-epoch=40.ckpt\n",
      "2024-04-03 15:38:21,071 : INFO : epoch: 41; val_loss: 1.1899268627166748\n",
      "2024-04-03 15:38:21,075 : INFO : epoch: 41; train_loss: 1.1414203643798828\n"
     ]
    },
    {
     "name": "stderr",
     "output_type": "stream",
     "text": [
      "Metric val_loss improved by 0.028 >= min_delta = 1e-05. New best score: 1.190\n"
     ]
    },
    {
     "name": "stdout",
     "output_type": "stream",
     "text": [
      "2024-04-03 15:38:21,198 : DEBUG : open file: /Users/andrey.golda/Documents/Study/MSU_interpol/training/wandb_local_logs/MSU_interpol_by_energy/fast-bird-8/checkpoints/exp_name=0val_loss=1.18993-epoch=41.ckpt\n",
      "2024-04-03 15:38:28,727 : INFO : epoch: 42; val_loss: 1.1879096031188965\n",
      "2024-04-03 15:38:28,730 : INFO : epoch: 42; train_loss: 1.1191200017929077\n"
     ]
    },
    {
     "name": "stderr",
     "output_type": "stream",
     "text": [
      "Metric val_loss improved by 0.002 >= min_delta = 1e-05. New best score: 1.188\n"
     ]
    },
    {
     "name": "stdout",
     "output_type": "stream",
     "text": [
      "2024-04-03 15:38:28,845 : DEBUG : open file: /Users/andrey.golda/Documents/Study/MSU_interpol/training/wandb_local_logs/MSU_interpol_by_energy/fast-bird-8/checkpoints/exp_name=0val_loss=1.18791-epoch=42.ckpt\n",
      "2024-04-03 15:38:36,042 : INFO : epoch: 43; val_loss: 1.1908692121505737\n",
      "2024-04-03 15:38:36,046 : INFO : epoch: 43; train_loss: 1.1075674295425415\n",
      "2024-04-03 15:38:36,176 : DEBUG : open file: /Users/andrey.golda/Documents/Study/MSU_interpol/training/wandb_local_logs/MSU_interpol_by_energy/fast-bird-8/checkpoints/exp_name=0val_loss=1.19087-epoch=43.ckpt\n",
      "2024-04-03 15:38:43,340 : INFO : epoch: 44; val_loss: 1.202139139175415\n",
      "2024-04-03 15:38:43,344 : INFO : epoch: 44; train_loss: 1.097122311592102\n",
      "2024-04-03 15:38:50,452 : INFO : epoch: 45; val_loss: 1.2176635265350342\n",
      "2024-04-03 15:38:50,456 : INFO : epoch: 45; train_loss: 1.0868216753005981\n",
      "2024-04-03 15:38:57,503 : INFO : epoch: 46; val_loss: 1.1387667655944824\n",
      "2024-04-03 15:38:57,507 : INFO : epoch: 46; train_loss: 1.0149900913238525\n"
     ]
    },
    {
     "name": "stderr",
     "output_type": "stream",
     "text": [
      "Metric val_loss improved by 0.049 >= min_delta = 1e-05. New best score: 1.139\n"
     ]
    },
    {
     "name": "stdout",
     "output_type": "stream",
     "text": [
      "2024-04-03 15:38:57,624 : DEBUG : open file: /Users/andrey.golda/Documents/Study/MSU_interpol/training/wandb_local_logs/MSU_interpol_by_energy/fast-bird-8/checkpoints/exp_name=0val_loss=1.13877-epoch=46.ckpt\n",
      "2024-04-03 15:39:04,838 : INFO : epoch: 47; val_loss: 1.111556053161621\n",
      "2024-04-03 15:39:04,843 : INFO : epoch: 47; train_loss: 0.9940626621246338\n"
     ]
    },
    {
     "name": "stderr",
     "output_type": "stream",
     "text": [
      "Metric val_loss improved by 0.027 >= min_delta = 1e-05. New best score: 1.112\n"
     ]
    },
    {
     "name": "stdout",
     "output_type": "stream",
     "text": [
      "2024-04-03 15:39:04,955 : DEBUG : open file: /Users/andrey.golda/Documents/Study/MSU_interpol/training/wandb_local_logs/MSU_interpol_by_energy/fast-bird-8/checkpoints/exp_name=0val_loss=1.11156-epoch=47.ckpt\n",
      "2024-04-03 15:39:12,193 : INFO : epoch: 48; val_loss: 1.1113389730453491\n",
      "2024-04-03 15:39:12,196 : INFO : epoch: 48; train_loss: 0.9835677742958069\n"
     ]
    },
    {
     "name": "stderr",
     "output_type": "stream",
     "text": [
      "Metric val_loss improved by 0.000 >= min_delta = 1e-05. New best score: 1.111\n"
     ]
    },
    {
     "name": "stdout",
     "output_type": "stream",
     "text": [
      "2024-04-03 15:39:12,314 : DEBUG : open file: /Users/andrey.golda/Documents/Study/MSU_interpol/training/wandb_local_logs/MSU_interpol_by_energy/fast-bird-8/checkpoints/exp_name=0val_loss=1.11134-epoch=48.ckpt\n",
      "2024-04-03 15:39:19,552 : INFO : epoch: 49; val_loss: 1.1115399599075317\n",
      "2024-04-03 15:39:19,557 : INFO : epoch: 49; train_loss: 0.9801690578460693\n",
      "2024-04-03 15:39:19,679 : DEBUG : open file: /Users/andrey.golda/Documents/Study/MSU_interpol/training/wandb_local_logs/MSU_interpol_by_energy/fast-bird-8/checkpoints/exp_name=0val_loss=1.11154-epoch=49.ckpt\n",
      "2024-04-03 15:39:27,068 : INFO : epoch: 50; val_loss: 1.1133157014846802\n",
      "2024-04-03 15:39:27,072 : INFO : epoch: 50; train_loss: 0.9771605134010315\n",
      "2024-04-03 15:39:34,284 : INFO : epoch: 51; val_loss: 1.1129515171051025\n",
      "2024-04-03 15:39:34,288 : INFO : epoch: 51; train_loss: 0.9752339124679565\n",
      "2024-04-03 15:39:41,408 : INFO : epoch: 52; val_loss: 1.1135897636413574\n",
      "2024-04-03 15:39:41,412 : INFO : epoch: 52; train_loss: 0.9741746783256531\n",
      "2024-04-03 15:39:48,703 : INFO : epoch: 53; val_loss: 1.111784815788269\n",
      "2024-04-03 15:39:48,707 : INFO : epoch: 53; train_loss: 0.9718410968780518\n",
      "2024-04-03 15:39:55,793 : INFO : epoch: 54; val_loss: 1.1063319444656372\n",
      "2024-04-03 15:39:55,798 : INFO : epoch: 54; train_loss: 0.9685081243515015\n"
     ]
    },
    {
     "name": "stderr",
     "output_type": "stream",
     "text": [
      "Metric val_loss improved by 0.005 >= min_delta = 1e-05. New best score: 1.106\n"
     ]
    },
    {
     "name": "stdout",
     "output_type": "stream",
     "text": [
      "2024-04-03 15:39:55,911 : DEBUG : open file: /Users/andrey.golda/Documents/Study/MSU_interpol/training/wandb_local_logs/MSU_interpol_by_energy/fast-bird-8/checkpoints/exp_name=0val_loss=1.10633-epoch=54.ckpt\n",
      "2024-04-03 15:40:03,068 : INFO : epoch: 55; val_loss: 1.1006927490234375\n",
      "2024-04-03 15:40:03,073 : INFO : epoch: 55; train_loss: 0.9652510285377502\n"
     ]
    },
    {
     "name": "stderr",
     "output_type": "stream",
     "text": [
      "Metric val_loss improved by 0.006 >= min_delta = 1e-05. New best score: 1.101\n"
     ]
    },
    {
     "name": "stdout",
     "output_type": "stream",
     "text": [
      "2024-04-03 15:40:03,189 : DEBUG : open file: /Users/andrey.golda/Documents/Study/MSU_interpol/training/wandb_local_logs/MSU_interpol_by_energy/fast-bird-8/checkpoints/exp_name=0val_loss=1.10069-epoch=55.ckpt\n",
      "2024-04-03 15:40:10,303 : INFO : epoch: 56; val_loss: 1.0915741920471191\n",
      "2024-04-03 15:40:10,309 : INFO : epoch: 56; train_loss: 0.9607158899307251\n"
     ]
    },
    {
     "name": "stderr",
     "output_type": "stream",
     "text": [
      "Metric val_loss improved by 0.009 >= min_delta = 1e-05. New best score: 1.092\n"
     ]
    },
    {
     "name": "stdout",
     "output_type": "stream",
     "text": [
      "2024-04-03 15:40:10,424 : DEBUG : open file: /Users/andrey.golda/Documents/Study/MSU_interpol/training/wandb_local_logs/MSU_interpol_by_energy/fast-bird-8/checkpoints/exp_name=0val_loss=1.09157-epoch=56.ckpt\n",
      "2024-04-03 15:40:17,548 : INFO : epoch: 57; val_loss: 1.0845108032226562\n",
      "2024-04-03 15:40:17,553 : INFO : epoch: 57; train_loss: 0.9547626972198486\n"
     ]
    },
    {
     "name": "stderr",
     "output_type": "stream",
     "text": [
      "Metric val_loss improved by 0.007 >= min_delta = 1e-05. New best score: 1.085\n"
     ]
    },
    {
     "name": "stdout",
     "output_type": "stream",
     "text": [
      "2024-04-03 15:40:17,672 : DEBUG : open file: /Users/andrey.golda/Documents/Study/MSU_interpol/training/wandb_local_logs/MSU_interpol_by_energy/fast-bird-8/checkpoints/exp_name=0val_loss=1.08451-epoch=57.ckpt\n",
      "2024-04-03 15:40:25,292 : INFO : epoch: 58; val_loss: 1.0803145170211792\n",
      "2024-04-03 15:40:25,296 : INFO : epoch: 58; train_loss: 0.9492148756980896\n"
     ]
    },
    {
     "name": "stderr",
     "output_type": "stream",
     "text": [
      "Metric val_loss improved by 0.004 >= min_delta = 1e-05. New best score: 1.080\n"
     ]
    },
    {
     "name": "stdout",
     "output_type": "stream",
     "text": [
      "2024-04-03 15:40:25,417 : DEBUG : open file: /Users/andrey.golda/Documents/Study/MSU_interpol/training/wandb_local_logs/MSU_interpol_by_energy/fast-bird-8/checkpoints/exp_name=0val_loss=1.08031-epoch=58.ckpt\n",
      "2024-04-03 15:40:32,966 : INFO : epoch: 59; val_loss: 1.0775723457336426\n",
      "2024-04-03 15:40:32,970 : INFO : epoch: 59; train_loss: 0.9445518255233765\n"
     ]
    },
    {
     "name": "stderr",
     "output_type": "stream",
     "text": [
      "Metric val_loss improved by 0.003 >= min_delta = 1e-05. New best score: 1.078\n"
     ]
    },
    {
     "name": "stdout",
     "output_type": "stream",
     "text": [
      "2024-04-03 15:40:33,091 : DEBUG : open file: /Users/andrey.golda/Documents/Study/MSU_interpol/training/wandb_local_logs/MSU_interpol_by_energy/fast-bird-8/checkpoints/exp_name=0val_loss=1.07757-epoch=59.ckpt\n",
      "2024-04-03 15:40:40,618 : INFO : epoch: 60; val_loss: 1.0748682022094727\n",
      "2024-04-03 15:40:40,621 : INFO : epoch: 60; train_loss: 0.940013587474823\n"
     ]
    },
    {
     "name": "stderr",
     "output_type": "stream",
     "text": [
      "Metric val_loss improved by 0.003 >= min_delta = 1e-05. New best score: 1.075\n"
     ]
    },
    {
     "name": "stdout",
     "output_type": "stream",
     "text": [
      "2024-04-03 15:40:40,745 : DEBUG : open file: /Users/andrey.golda/Documents/Study/MSU_interpol/training/wandb_local_logs/MSU_interpol_by_energy/fast-bird-8/checkpoints/exp_name=0val_loss=1.07487-epoch=60.ckpt\n",
      "2024-04-03 15:40:48,755 : INFO : epoch: 61; val_loss: 1.0727479457855225\n",
      "2024-04-03 15:40:48,760 : INFO : epoch: 61; train_loss: 0.9355008602142334\n"
     ]
    },
    {
     "name": "stderr",
     "output_type": "stream",
     "text": [
      "Metric val_loss improved by 0.002 >= min_delta = 1e-05. New best score: 1.073\n"
     ]
    },
    {
     "name": "stdout",
     "output_type": "stream",
     "text": [
      "2024-04-03 15:40:48,894 : DEBUG : open file: /Users/andrey.golda/Documents/Study/MSU_interpol/training/wandb_local_logs/MSU_interpol_by_energy/fast-bird-8/checkpoints/exp_name=0val_loss=1.07275-epoch=61.ckpt\n",
      "2024-04-03 15:40:56,887 : INFO : epoch: 62; val_loss: 1.0717235803604126\n",
      "2024-04-03 15:40:56,892 : INFO : epoch: 62; train_loss: 0.9318822026252747\n"
     ]
    },
    {
     "name": "stderr",
     "output_type": "stream",
     "text": [
      "Metric val_loss improved by 0.001 >= min_delta = 1e-05. New best score: 1.072\n"
     ]
    },
    {
     "name": "stdout",
     "output_type": "stream",
     "text": [
      "2024-04-03 15:40:57,018 : DEBUG : open file: /Users/andrey.golda/Documents/Study/MSU_interpol/training/wandb_local_logs/MSU_interpol_by_energy/fast-bird-8/checkpoints/exp_name=0val_loss=1.07172-epoch=62.ckpt\n",
      "2024-04-03 15:41:05,132 : INFO : epoch: 63; val_loss: 1.071058988571167\n",
      "2024-04-03 15:41:05,137 : INFO : epoch: 63; train_loss: 0.928899884223938\n"
     ]
    },
    {
     "name": "stderr",
     "output_type": "stream",
     "text": [
      "Metric val_loss improved by 0.001 >= min_delta = 1e-05. New best score: 1.071\n"
     ]
    },
    {
     "name": "stdout",
     "output_type": "stream",
     "text": [
      "2024-04-03 15:41:05,265 : DEBUG : open file: /Users/andrey.golda/Documents/Study/MSU_interpol/training/wandb_local_logs/MSU_interpol_by_energy/fast-bird-8/checkpoints/exp_name=0val_loss=1.07106-epoch=63.ckpt\n",
      "2024-04-03 15:41:13,898 : INFO : epoch: 64; val_loss: 1.1025652885437012\n",
      "2024-04-03 15:41:13,903 : INFO : epoch: 64; train_loss: 0.9211076498031616\n",
      "2024-04-03 15:41:22,488 : INFO : epoch: 65; val_loss: 1.0960274934768677\n",
      "2024-04-03 15:41:22,493 : INFO : epoch: 65; train_loss: 0.9345124363899231\n",
      "2024-04-03 15:41:31,148 : INFO : epoch: 66; val_loss: 1.0843125581741333\n",
      "2024-04-03 15:41:31,153 : INFO : epoch: 66; train_loss: 0.9374485015869141\n",
      "2024-04-03 15:41:40,077 : INFO : epoch: 67; val_loss: 1.0805754661560059\n",
      "2024-04-03 15:41:40,082 : INFO : epoch: 67; train_loss: 0.9308350086212158\n",
      "2024-04-03 15:41:49,197 : INFO : epoch: 68; val_loss: 1.0799663066864014\n",
      "2024-04-03 15:41:49,202 : INFO : epoch: 68; train_loss: 0.925240695476532\n",
      "2024-04-03 15:41:58,280 : INFO : epoch: 69; val_loss: 1.0782685279846191\n",
      "2024-04-03 15:41:58,285 : INFO : epoch: 69; train_loss: 0.9216970205307007\n",
      "2024-04-03 15:42:07,554 : INFO : epoch: 70; val_loss: 1.0779730081558228\n",
      "2024-04-03 15:42:07,562 : INFO : epoch: 70; train_loss: 0.9182960391044617\n",
      "2024-04-03 15:42:16,605 : INFO : epoch: 71; val_loss: 1.0793263912200928\n",
      "2024-04-03 15:42:16,609 : INFO : epoch: 71; train_loss: 0.9160617589950562\n",
      "2024-04-03 15:42:25,430 : INFO : epoch: 72; val_loss: 1.0798289775848389\n",
      "2024-04-03 15:42:25,435 : INFO : epoch: 72; train_loss: 0.9147738814353943\n",
      "2024-04-03 15:42:34,097 : INFO : epoch: 73; val_loss: 1.081315279006958\n",
      "2024-04-03 15:42:34,103 : INFO : epoch: 73; train_loss: 0.9130820035934448\n",
      "2024-04-03 15:42:42,969 : INFO : epoch: 74; val_loss: 1.0821229219436646\n",
      "2024-04-03 15:42:42,974 : INFO : epoch: 74; train_loss: 0.9120580554008484\n",
      "2024-04-03 15:42:51,565 : INFO : epoch: 75; val_loss: 1.0818393230438232\n",
      "2024-04-03 15:42:51,569 : INFO : epoch: 75; train_loss: 0.9107866883277893\n",
      "2024-04-03 15:43:00,052 : INFO : epoch: 76; val_loss: 1.0815409421920776\n",
      "2024-04-03 15:43:00,057 : INFO : epoch: 76; train_loss: 0.9092975854873657\n",
      "2024-04-03 15:43:08,113 : INFO : epoch: 77; val_loss: 1.0820120573043823\n",
      "2024-04-03 15:43:08,117 : INFO : epoch: 77; train_loss: 0.9077520370483398\n",
      "2024-04-03 15:43:16,064 : INFO : epoch: 78; val_loss: 1.0789531469345093\n",
      "2024-04-03 15:43:16,068 : INFO : epoch: 78; train_loss: 0.9056194424629211\n",
      "2024-04-03 15:43:24,113 : INFO : epoch: 79; val_loss: 1.0784218311309814\n",
      "2024-04-03 15:43:24,118 : INFO : epoch: 79; train_loss: 0.9032982587814331\n",
      "2024-04-03 15:43:32,174 : INFO : epoch: 80; val_loss: 1.0817378759384155\n",
      "2024-04-03 15:43:32,179 : INFO : epoch: 80; train_loss: 0.900985062122345\n",
      "2024-04-03 15:43:40,338 : INFO : epoch: 81; val_loss: 1.0467826128005981\n",
      "2024-04-03 15:43:40,342 : INFO : epoch: 81; train_loss: 0.9011135697364807\n"
     ]
    },
    {
     "name": "stderr",
     "output_type": "stream",
     "text": [
      "Metric val_loss improved by 0.024 >= min_delta = 1e-05. New best score: 1.047\n"
     ]
    },
    {
     "name": "stdout",
     "output_type": "stream",
     "text": [
      "2024-04-03 15:43:40,467 : DEBUG : open file: /Users/andrey.golda/Documents/Study/MSU_interpol/training/wandb_local_logs/MSU_interpol_by_energy/fast-bird-8/checkpoints/exp_name=0val_loss=1.04678-epoch=81.ckpt\n",
      "2024-04-03 15:43:48,644 : INFO : epoch: 82; val_loss: 1.05253267288208\n",
      "2024-04-03 15:43:48,649 : INFO : epoch: 82; train_loss: 0.9049178957939148\n",
      "2024-04-03 15:43:48,777 : DEBUG : open file: /Users/andrey.golda/Documents/Study/MSU_interpol/training/wandb_local_logs/MSU_interpol_by_energy/fast-bird-8/checkpoints/exp_name=0val_loss=1.05253-epoch=82.ckpt\n",
      "2024-04-03 15:43:57,042 : INFO : epoch: 83; val_loss: 1.0514154434204102\n",
      "2024-04-03 15:43:57,046 : INFO : epoch: 83; train_loss: 0.9012032747268677\n",
      "2024-04-03 15:43:57,172 : DEBUG : open file: /Users/andrey.golda/Documents/Study/MSU_interpol/training/wandb_local_logs/MSU_interpol_by_energy/fast-bird-8/checkpoints/exp_name=0val_loss=1.05142-epoch=83.ckpt\n",
      "2024-04-03 15:44:05,528 : INFO : epoch: 84; val_loss: 1.0507330894470215\n",
      "2024-04-03 15:44:05,533 : INFO : epoch: 84; train_loss: 0.8981903791427612\n",
      "2024-04-03 15:44:05,661 : DEBUG : open file: /Users/andrey.golda/Documents/Study/MSU_interpol/training/wandb_local_logs/MSU_interpol_by_energy/fast-bird-8/checkpoints/exp_name=0val_loss=1.05073-epoch=84.ckpt\n",
      "2024-04-03 15:44:13,493 : INFO : epoch: 85; val_loss: 1.0501818656921387\n",
      "2024-04-03 15:44:13,497 : INFO : epoch: 85; train_loss: 0.8962509036064148\n",
      "2024-04-03 15:44:13,617 : DEBUG : open file: /Users/andrey.golda/Documents/Study/MSU_interpol/training/wandb_local_logs/MSU_interpol_by_energy/fast-bird-8/checkpoints/exp_name=0val_loss=1.05018-epoch=85.ckpt\n",
      "2024-04-03 15:44:21,462 : INFO : epoch: 86; val_loss: 1.0492668151855469\n",
      "2024-04-03 15:44:21,466 : INFO : epoch: 86; train_loss: 0.8949126601219177\n",
      "2024-04-03 15:44:21,580 : DEBUG : open file: /Users/andrey.golda/Documents/Study/MSU_interpol/training/wandb_local_logs/MSU_interpol_by_energy/fast-bird-8/checkpoints/exp_name=0val_loss=1.04927-epoch=86.ckpt\n",
      "2024-04-03 15:44:29,209 : INFO : epoch: 87; val_loss: 1.0487686395645142\n",
      "2024-04-03 15:44:29,212 : INFO : epoch: 87; train_loss: 0.893646240234375\n",
      "2024-04-03 15:44:29,334 : DEBUG : open file: /Users/andrey.golda/Documents/Study/MSU_interpol/training/wandb_local_logs/MSU_interpol_by_energy/fast-bird-8/checkpoints/exp_name=0val_loss=1.04877-epoch=87.ckpt\n",
      "2024-04-03 15:44:36,794 : INFO : epoch: 88; val_loss: 1.0480296611785889\n",
      "2024-04-03 15:44:36,797 : INFO : epoch: 88; train_loss: 0.8923447132110596\n",
      "2024-04-03 15:44:36,911 : DEBUG : open file: /Users/andrey.golda/Documents/Study/MSU_interpol/training/wandb_local_logs/MSU_interpol_by_energy/fast-bird-8/checkpoints/exp_name=0val_loss=1.04803-epoch=88.ckpt\n",
      "2024-04-03 15:44:44,381 : INFO : epoch: 89; val_loss: 1.047597885131836\n",
      "2024-04-03 15:44:44,385 : INFO : epoch: 89; train_loss: 0.8914062976837158\n",
      "2024-04-03 15:44:44,503 : DEBUG : open file: /Users/andrey.golda/Documents/Study/MSU_interpol/training/wandb_local_logs/MSU_interpol_by_energy/fast-bird-8/checkpoints/exp_name=0val_loss=1.04760-epoch=89.ckpt\n",
      "2024-04-03 15:44:51,944 : INFO : epoch: 90; val_loss: 1.0469608306884766\n",
      "2024-04-03 15:44:51,948 : INFO : epoch: 90; train_loss: 0.8905443549156189\n",
      "2024-04-03 15:44:52,064 : DEBUG : open file: /Users/andrey.golda/Documents/Study/MSU_interpol/training/wandb_local_logs/MSU_interpol_by_energy/fast-bird-8/checkpoints/exp_name=0val_loss=1.04696-epoch=90.ckpt\n",
      "2024-04-03 15:44:59,562 : INFO : epoch: 91; val_loss: 1.0465545654296875\n",
      "2024-04-03 15:44:59,567 : INFO : epoch: 91; train_loss: 0.8893991708755493\n"
     ]
    },
    {
     "name": "stderr",
     "output_type": "stream",
     "text": [
      "Metric val_loss improved by 0.000 >= min_delta = 1e-05. New best score: 1.047\n"
     ]
    },
    {
     "name": "stdout",
     "output_type": "stream",
     "text": [
      "2024-04-03 15:44:59,686 : DEBUG : open file: /Users/andrey.golda/Documents/Study/MSU_interpol/training/wandb_local_logs/MSU_interpol_by_energy/fast-bird-8/checkpoints/exp_name=0val_loss=1.04655-epoch=91.ckpt\n",
      "2024-04-03 15:45:07,297 : INFO : epoch: 92; val_loss: 1.04559326171875\n",
      "2024-04-03 15:45:07,301 : INFO : epoch: 92; train_loss: 0.8883168697357178\n"
     ]
    },
    {
     "name": "stderr",
     "output_type": "stream",
     "text": [
      "Metric val_loss improved by 0.001 >= min_delta = 1e-05. New best score: 1.046\n"
     ]
    },
    {
     "name": "stdout",
     "output_type": "stream",
     "text": [
      "2024-04-03 15:45:07,426 : DEBUG : open file: /Users/andrey.golda/Documents/Study/MSU_interpol/training/wandb_local_logs/MSU_interpol_by_energy/fast-bird-8/checkpoints/exp_name=0val_loss=1.04559-epoch=92.ckpt\n",
      "2024-04-03 15:45:15,082 : INFO : epoch: 93; val_loss: 1.045716404914856\n",
      "2024-04-03 15:45:15,086 : INFO : epoch: 93; train_loss: 0.8874667286872864\n",
      "2024-04-03 15:45:15,201 : DEBUG : open file: /Users/andrey.golda/Documents/Study/MSU_interpol/training/wandb_local_logs/MSU_interpol_by_energy/fast-bird-8/checkpoints/exp_name=0val_loss=1.04572-epoch=93.ckpt\n",
      "2024-04-03 15:45:22,680 : INFO : epoch: 94; val_loss: 1.0453225374221802\n",
      "2024-04-03 15:45:22,684 : INFO : epoch: 94; train_loss: 0.8865472078323364\n"
     ]
    },
    {
     "name": "stderr",
     "output_type": "stream",
     "text": [
      "Metric val_loss improved by 0.000 >= min_delta = 1e-05. New best score: 1.045\n"
     ]
    },
    {
     "name": "stdout",
     "output_type": "stream",
     "text": [
      "2024-04-03 15:45:22,802 : DEBUG : open file: /Users/andrey.golda/Documents/Study/MSU_interpol/training/wandb_local_logs/MSU_interpol_by_energy/fast-bird-8/checkpoints/exp_name=0val_loss=1.04532-epoch=94.ckpt\n",
      "2024-04-03 15:45:30,435 : INFO : epoch: 95; val_loss: 1.0448744297027588\n",
      "2024-04-03 15:45:30,440 : INFO : epoch: 95; train_loss: 0.8860893845558167\n"
     ]
    },
    {
     "name": "stderr",
     "output_type": "stream",
     "text": [
      "Metric val_loss improved by 0.000 >= min_delta = 1e-05. New best score: 1.045\n"
     ]
    },
    {
     "name": "stdout",
     "output_type": "stream",
     "text": [
      "2024-04-03 15:45:30,562 : DEBUG : open file: /Users/andrey.golda/Documents/Study/MSU_interpol/training/wandb_local_logs/MSU_interpol_by_energy/fast-bird-8/checkpoints/exp_name=0val_loss=1.04487-epoch=95.ckpt\n",
      "2024-04-03 15:45:38,057 : INFO : epoch: 96; val_loss: 1.0438973903656006\n",
      "2024-04-03 15:45:38,061 : INFO : epoch: 96; train_loss: 0.8852596282958984\n"
     ]
    },
    {
     "name": "stderr",
     "output_type": "stream",
     "text": [
      "Metric val_loss improved by 0.001 >= min_delta = 1e-05. New best score: 1.044\n"
     ]
    },
    {
     "name": "stdout",
     "output_type": "stream",
     "text": [
      "2024-04-03 15:45:38,180 : DEBUG : open file: /Users/andrey.golda/Documents/Study/MSU_interpol/training/wandb_local_logs/MSU_interpol_by_energy/fast-bird-8/checkpoints/exp_name=0val_loss=1.04390-epoch=96.ckpt\n",
      "2024-04-03 15:45:45,724 : INFO : epoch: 97; val_loss: 1.0432974100112915\n",
      "2024-04-03 15:45:45,728 : INFO : epoch: 97; train_loss: 0.8845353722572327\n"
     ]
    },
    {
     "name": "stderr",
     "output_type": "stream",
     "text": [
      "Metric val_loss improved by 0.001 >= min_delta = 1e-05. New best score: 1.043\n"
     ]
    },
    {
     "name": "stdout",
     "output_type": "stream",
     "text": [
      "2024-04-03 15:45:45,846 : DEBUG : open file: /Users/andrey.golda/Documents/Study/MSU_interpol/training/wandb_local_logs/MSU_interpol_by_energy/fast-bird-8/checkpoints/exp_name=0val_loss=1.04330-epoch=97.ckpt\n",
      "2024-04-03 15:45:53,296 : INFO : epoch: 98; val_loss: 1.0409505367279053\n",
      "2024-04-03 15:45:53,300 : INFO : epoch: 98; train_loss: 0.8796471953392029\n"
     ]
    },
    {
     "name": "stderr",
     "output_type": "stream",
     "text": [
      "Metric val_loss improved by 0.002 >= min_delta = 1e-05. New best score: 1.041\n"
     ]
    },
    {
     "name": "stdout",
     "output_type": "stream",
     "text": [
      "2024-04-03 15:45:53,422 : DEBUG : open file: /Users/andrey.golda/Documents/Study/MSU_interpol/training/wandb_local_logs/MSU_interpol_by_energy/fast-bird-8/checkpoints/exp_name=0val_loss=1.04095-epoch=98.ckpt\n",
      "2024-04-03 15:46:00,867 : INFO : epoch: 99; val_loss: 1.039649486541748\n",
      "2024-04-03 15:46:00,871 : INFO : epoch: 99; train_loss: 0.8797096014022827\n"
     ]
    },
    {
     "name": "stderr",
     "output_type": "stream",
     "text": [
      "Metric val_loss improved by 0.001 >= min_delta = 1e-05. New best score: 1.040\n"
     ]
    },
    {
     "name": "stdout",
     "output_type": "stream",
     "text": [
      "2024-04-03 15:46:00,990 : DEBUG : open file: /Users/andrey.golda/Documents/Study/MSU_interpol/training/wandb_local_logs/MSU_interpol_by_energy/fast-bird-8/checkpoints/exp_name=0val_loss=1.03965-epoch=99.ckpt\n",
      "2024-04-03 15:46:08,469 : INFO : epoch: 100; val_loss: 1.0390468835830688\n",
      "2024-04-03 15:46:08,473 : INFO : epoch: 100; train_loss: 0.8766292929649353\n"
     ]
    },
    {
     "name": "stderr",
     "output_type": "stream",
     "text": [
      "Metric val_loss improved by 0.001 >= min_delta = 1e-05. New best score: 1.039\n"
     ]
    },
    {
     "name": "stdout",
     "output_type": "stream",
     "text": [
      "2024-04-03 15:46:08,595 : DEBUG : open file: /Users/andrey.golda/Documents/Study/MSU_interpol/training/wandb_local_logs/MSU_interpol_by_energy/fast-bird-8/checkpoints/exp_name=0val_loss=1.03905-epoch=100.ckpt\n",
      "2024-04-03 15:46:16,055 : INFO : epoch: 101; val_loss: 1.0383232831954956\n",
      "2024-04-03 15:46:16,059 : INFO : epoch: 101; train_loss: 0.8756008148193359\n"
     ]
    },
    {
     "name": "stderr",
     "output_type": "stream",
     "text": [
      "Metric val_loss improved by 0.001 >= min_delta = 1e-05. New best score: 1.038\n"
     ]
    },
    {
     "name": "stdout",
     "output_type": "stream",
     "text": [
      "2024-04-03 15:46:16,180 : DEBUG : open file: /Users/andrey.golda/Documents/Study/MSU_interpol/training/wandb_local_logs/MSU_interpol_by_energy/fast-bird-8/checkpoints/exp_name=0val_loss=1.03832-epoch=101.ckpt\n",
      "2024-04-03 15:46:23,817 : INFO : epoch: 102; val_loss: 1.0378432273864746\n",
      "2024-04-03 15:46:23,822 : INFO : epoch: 102; train_loss: 0.875011682510376\n"
     ]
    },
    {
     "name": "stderr",
     "output_type": "stream",
     "text": [
      "Metric val_loss improved by 0.000 >= min_delta = 1e-05. New best score: 1.038\n"
     ]
    },
    {
     "name": "stdout",
     "output_type": "stream",
     "text": [
      "2024-04-03 15:46:23,942 : DEBUG : open file: /Users/andrey.golda/Documents/Study/MSU_interpol/training/wandb_local_logs/MSU_interpol_by_energy/fast-bird-8/checkpoints/exp_name=0val_loss=1.03784-epoch=102.ckpt\n",
      "2024-04-03 15:46:31,716 : INFO : epoch: 103; val_loss: 1.0372282266616821\n",
      "2024-04-03 15:46:31,719 : INFO : epoch: 103; train_loss: 0.8744059205055237\n"
     ]
    },
    {
     "name": "stderr",
     "output_type": "stream",
     "text": [
      "Metric val_loss improved by 0.001 >= min_delta = 1e-05. New best score: 1.037\n"
     ]
    },
    {
     "name": "stdout",
     "output_type": "stream",
     "text": [
      "2024-04-03 15:46:31,841 : DEBUG : open file: /Users/andrey.golda/Documents/Study/MSU_interpol/training/wandb_local_logs/MSU_interpol_by_energy/fast-bird-8/checkpoints/exp_name=0val_loss=1.03723-epoch=103.ckpt\n",
      "2024-04-03 15:46:39,427 : INFO : epoch: 104; val_loss: 1.0368846654891968\n",
      "2024-04-03 15:46:39,431 : INFO : epoch: 104; train_loss: 0.8738025426864624\n"
     ]
    },
    {
     "name": "stderr",
     "output_type": "stream",
     "text": [
      "Metric val_loss improved by 0.000 >= min_delta = 1e-05. New best score: 1.037\n"
     ]
    },
    {
     "name": "stdout",
     "output_type": "stream",
     "text": [
      "2024-04-03 15:46:39,551 : DEBUG : open file: /Users/andrey.golda/Documents/Study/MSU_interpol/training/wandb_local_logs/MSU_interpol_by_energy/fast-bird-8/checkpoints/exp_name=0val_loss=1.03688-epoch=104.ckpt\n",
      "2024-04-03 15:46:47,621 : INFO : epoch: 105; val_loss: 1.036303997039795\n",
      "2024-04-03 15:46:47,626 : INFO : epoch: 105; train_loss: 0.8732644319534302\n"
     ]
    },
    {
     "name": "stderr",
     "output_type": "stream",
     "text": [
      "Metric val_loss improved by 0.001 >= min_delta = 1e-05. New best score: 1.036\n"
     ]
    },
    {
     "name": "stdout",
     "output_type": "stream",
     "text": [
      "2024-04-03 15:46:47,754 : DEBUG : open file: /Users/andrey.golda/Documents/Study/MSU_interpol/training/wandb_local_logs/MSU_interpol_by_energy/fast-bird-8/checkpoints/exp_name=0val_loss=1.03630-epoch=105.ckpt\n",
      "2024-04-03 15:46:55,770 : INFO : epoch: 106; val_loss: 1.0359928607940674\n",
      "2024-04-03 15:46:55,774 : INFO : epoch: 106; train_loss: 0.8727476596832275\n"
     ]
    },
    {
     "name": "stderr",
     "output_type": "stream",
     "text": [
      "Metric val_loss improved by 0.000 >= min_delta = 1e-05. New best score: 1.036\n"
     ]
    },
    {
     "name": "stdout",
     "output_type": "stream",
     "text": [
      "2024-04-03 15:46:55,901 : DEBUG : open file: /Users/andrey.golda/Documents/Study/MSU_interpol/training/wandb_local_logs/MSU_interpol_by_energy/fast-bird-8/checkpoints/exp_name=0val_loss=1.03599-epoch=106.ckpt\n",
      "2024-04-03 15:47:03,928 : INFO : epoch: 107; val_loss: 1.0355782508850098\n",
      "2024-04-03 15:47:03,932 : INFO : epoch: 107; train_loss: 0.8722526431083679\n"
     ]
    },
    {
     "name": "stderr",
     "output_type": "stream",
     "text": [
      "Metric val_loss improved by 0.000 >= min_delta = 1e-05. New best score: 1.036\n"
     ]
    },
    {
     "name": "stdout",
     "output_type": "stream",
     "text": [
      "2024-04-03 15:47:04,059 : DEBUG : open file: /Users/andrey.golda/Documents/Study/MSU_interpol/training/wandb_local_logs/MSU_interpol_by_energy/fast-bird-8/checkpoints/exp_name=0val_loss=1.03558-epoch=107.ckpt\n",
      "2024-04-03 15:47:12,178 : INFO : epoch: 108; val_loss: 1.0351581573486328\n",
      "2024-04-03 15:47:12,182 : INFO : epoch: 108; train_loss: 0.8717724084854126\n"
     ]
    },
    {
     "name": "stderr",
     "output_type": "stream",
     "text": [
      "Metric val_loss improved by 0.000 >= min_delta = 1e-05. New best score: 1.035\n"
     ]
    },
    {
     "name": "stdout",
     "output_type": "stream",
     "text": [
      "2024-04-03 15:47:12,307 : DEBUG : open file: /Users/andrey.golda/Documents/Study/MSU_interpol/training/wandb_local_logs/MSU_interpol_by_energy/fast-bird-8/checkpoints/exp_name=0val_loss=1.03516-epoch=108.ckpt\n",
      "2024-04-03 15:47:20,497 : INFO : epoch: 109; val_loss: 1.0348416566848755\n",
      "2024-04-03 15:47:20,501 : INFO : epoch: 109; train_loss: 0.8712265491485596\n"
     ]
    },
    {
     "name": "stderr",
     "output_type": "stream",
     "text": [
      "Metric val_loss improved by 0.000 >= min_delta = 1e-05. New best score: 1.035\n"
     ]
    },
    {
     "name": "stdout",
     "output_type": "stream",
     "text": [
      "2024-04-03 15:47:20,627 : DEBUG : open file: /Users/andrey.golda/Documents/Study/MSU_interpol/training/wandb_local_logs/MSU_interpol_by_energy/fast-bird-8/checkpoints/exp_name=0val_loss=1.03484-epoch=109.ckpt\n",
      "2024-04-03 15:47:29,092 : INFO : epoch: 110; val_loss: 1.034654974937439\n",
      "2024-04-03 15:47:29,099 : INFO : epoch: 110; train_loss: 0.8708170652389526\n"
     ]
    },
    {
     "name": "stderr",
     "output_type": "stream",
     "text": [
      "Metric val_loss improved by 0.000 >= min_delta = 1e-05. New best score: 1.035\n"
     ]
    },
    {
     "name": "stdout",
     "output_type": "stream",
     "text": [
      "2024-04-03 15:47:29,235 : DEBUG : open file: /Users/andrey.golda/Documents/Study/MSU_interpol/training/wandb_local_logs/MSU_interpol_by_energy/fast-bird-8/checkpoints/exp_name=0val_loss=1.03465-epoch=110.ckpt\n",
      "2024-04-03 15:47:37,770 : INFO : epoch: 111; val_loss: 1.0345155000686646\n",
      "2024-04-03 15:47:37,775 : INFO : epoch: 111; train_loss: 0.8703587055206299\n"
     ]
    },
    {
     "name": "stderr",
     "output_type": "stream",
     "text": [
      "Metric val_loss improved by 0.000 >= min_delta = 1e-05. New best score: 1.035\n"
     ]
    },
    {
     "name": "stdout",
     "output_type": "stream",
     "text": [
      "2024-04-03 15:47:37,913 : DEBUG : open file: /Users/andrey.golda/Documents/Study/MSU_interpol/training/wandb_local_logs/MSU_interpol_by_energy/fast-bird-8/checkpoints/exp_name=0val_loss=1.03452-epoch=111.ckpt\n",
      "2024-04-03 15:47:46,403 : INFO : epoch: 112; val_loss: 1.0341527462005615\n",
      "2024-04-03 15:47:46,407 : INFO : epoch: 112; train_loss: 0.8698025941848755\n"
     ]
    },
    {
     "name": "stderr",
     "output_type": "stream",
     "text": [
      "Metric val_loss improved by 0.000 >= min_delta = 1e-05. New best score: 1.034\n"
     ]
    },
    {
     "name": "stdout",
     "output_type": "stream",
     "text": [
      "2024-04-03 15:47:46,540 : DEBUG : open file: /Users/andrey.golda/Documents/Study/MSU_interpol/training/wandb_local_logs/MSU_interpol_by_energy/fast-bird-8/checkpoints/exp_name=0val_loss=1.03415-epoch=112.ckpt\n",
      "2024-04-03 15:47:55,193 : INFO : epoch: 113; val_loss: 1.0338118076324463\n",
      "2024-04-03 15:47:55,198 : INFO : epoch: 113; train_loss: 0.869301438331604\n"
     ]
    },
    {
     "name": "stderr",
     "output_type": "stream",
     "text": [
      "Metric val_loss improved by 0.000 >= min_delta = 1e-05. New best score: 1.034\n"
     ]
    },
    {
     "name": "stdout",
     "output_type": "stream",
     "text": [
      "2024-04-03 15:47:55,331 : DEBUG : open file: /Users/andrey.golda/Documents/Study/MSU_interpol/training/wandb_local_logs/MSU_interpol_by_energy/fast-bird-8/checkpoints/exp_name=0val_loss=1.03381-epoch=113.ckpt\n",
      "2024-04-03 15:48:03,836 : INFO : epoch: 114; val_loss: 1.0336664915084839\n",
      "2024-04-03 15:48:03,840 : INFO : epoch: 114; train_loss: 0.8689060211181641\n"
     ]
    },
    {
     "name": "stderr",
     "output_type": "stream",
     "text": [
      "Metric val_loss improved by 0.000 >= min_delta = 1e-05. New best score: 1.034\n"
     ]
    },
    {
     "name": "stdout",
     "output_type": "stream",
     "text": [
      "2024-04-03 15:48:03,971 : DEBUG : open file: /Users/andrey.golda/Documents/Study/MSU_interpol/training/wandb_local_logs/MSU_interpol_by_energy/fast-bird-8/checkpoints/exp_name=0val_loss=1.03367-epoch=114.ckpt\n",
      "2024-04-03 15:48:12,460 : INFO : epoch: 115; val_loss: 1.0331158638000488\n",
      "2024-04-03 15:48:12,465 : INFO : epoch: 115; train_loss: 0.8684577941894531\n"
     ]
    },
    {
     "name": "stderr",
     "output_type": "stream",
     "text": [
      "Metric val_loss improved by 0.001 >= min_delta = 1e-05. New best score: 1.033\n"
     ]
    },
    {
     "name": "stdout",
     "output_type": "stream",
     "text": [
      "2024-04-03 15:48:12,599 : DEBUG : open file: /Users/andrey.golda/Documents/Study/MSU_interpol/training/wandb_local_logs/MSU_interpol_by_energy/fast-bird-8/checkpoints/exp_name=0val_loss=1.03312-epoch=115.ckpt\n",
      "2024-04-03 15:48:21,125 : INFO : epoch: 116; val_loss: 1.0365591049194336\n",
      "2024-04-03 15:48:21,130 : INFO : epoch: 116; train_loss: 0.8654069900512695\n",
      "2024-04-03 15:48:29,677 : INFO : epoch: 117; val_loss: 1.036722183227539\n",
      "2024-04-03 15:48:29,685 : INFO : epoch: 117; train_loss: 0.8635756969451904\n",
      "2024-04-03 15:48:38,301 : INFO : epoch: 118; val_loss: 1.0358842611312866\n",
      "2024-04-03 15:48:38,306 : INFO : epoch: 118; train_loss: 0.8623252511024475\n",
      "2024-04-03 15:48:47,007 : INFO : epoch: 119; val_loss: 1.036281943321228\n",
      "2024-04-03 15:48:47,011 : INFO : epoch: 119; train_loss: 0.8624288439750671\n",
      "2024-04-03 15:48:55,515 : INFO : epoch: 120; val_loss: 1.0362647771835327\n",
      "2024-04-03 15:48:55,520 : INFO : epoch: 120; train_loss: 0.8622169494628906\n",
      "2024-04-03 15:49:03,973 : INFO : epoch: 121; val_loss: 1.0361437797546387\n",
      "2024-04-03 15:49:03,978 : INFO : epoch: 121; train_loss: 0.8620070219039917\n",
      "2024-04-03 15:49:12,512 : INFO : epoch: 122; val_loss: 1.0361758470535278\n",
      "2024-04-03 15:49:12,517 : INFO : epoch: 122; train_loss: 0.8618437647819519\n",
      "2024-04-03 15:49:20,976 : INFO : epoch: 123; val_loss: 1.0363062620162964\n",
      "2024-04-03 15:49:20,981 : INFO : epoch: 123; train_loss: 0.8617293238639832\n",
      "2024-04-03 15:49:28,992 : INFO : epoch: 124; val_loss: 1.0363686084747314\n",
      "2024-04-03 15:49:28,997 : INFO : epoch: 124; train_loss: 0.8615695834159851\n",
      "2024-04-03 15:49:37,016 : INFO : epoch: 125; val_loss: 1.036314606666565\n",
      "2024-04-03 15:49:37,020 : INFO : epoch: 125; train_loss: 0.8614024519920349\n",
      "2024-04-03 15:49:44,835 : INFO : epoch: 126; val_loss: 1.0364253520965576\n",
      "2024-04-03 15:49:44,839 : INFO : epoch: 126; train_loss: 0.8612454533576965\n",
      "2024-04-03 15:49:52,462 : INFO : epoch: 127; val_loss: 1.0362999439239502\n",
      "2024-04-03 15:49:52,466 : INFO : epoch: 127; train_loss: 0.8610497713088989\n",
      "2024-04-03 15:49:59,640 : INFO : epoch: 128; val_loss: 1.0361692905426025\n",
      "2024-04-03 15:49:59,643 : INFO : epoch: 128; train_loss: 0.8608416318893433\n",
      "2024-04-03 15:50:06,721 : INFO : epoch: 129; val_loss: 1.0362203121185303\n",
      "2024-04-03 15:50:06,725 : INFO : epoch: 129; train_loss: 0.860726535320282\n",
      "2024-04-03 15:50:13,887 : INFO : epoch: 130; val_loss: 1.0361642837524414\n",
      "2024-04-03 15:50:13,892 : INFO : epoch: 130; train_loss: 0.8605477213859558\n",
      "2024-04-03 15:50:20,927 : INFO : epoch: 131; val_loss: 1.0360195636749268\n",
      "2024-04-03 15:50:20,930 : INFO : epoch: 131; train_loss: 0.8604004979133606\n",
      "2024-04-03 15:50:28,023 : INFO : epoch: 132; val_loss: 1.0360090732574463\n",
      "2024-04-03 15:50:28,026 : INFO : epoch: 132; train_loss: 0.860226035118103\n",
      "2024-04-03 15:50:35,197 : INFO : epoch: 133; val_loss: 1.032336950302124\n",
      "2024-04-03 15:50:35,200 : INFO : epoch: 133; train_loss: 0.8553140163421631\n"
     ]
    },
    {
     "name": "stderr",
     "output_type": "stream",
     "text": [
      "Metric val_loss improved by 0.001 >= min_delta = 1e-05. New best score: 1.032\n"
     ]
    },
    {
     "name": "stdout",
     "output_type": "stream",
     "text": [
      "2024-04-03 15:50:35,312 : DEBUG : open file: /Users/andrey.golda/Documents/Study/MSU_interpol/training/wandb_local_logs/MSU_interpol_by_energy/fast-bird-8/checkpoints/exp_name=0val_loss=1.03234-epoch=133.ckpt\n",
      "2024-04-03 15:50:42,574 : INFO : epoch: 134; val_loss: 1.0328490734100342\n",
      "2024-04-03 15:50:42,578 : INFO : epoch: 134; train_loss: 0.8546743392944336\n",
      "2024-04-03 15:50:42,688 : DEBUG : open file: /Users/andrey.golda/Documents/Study/MSU_interpol/training/wandb_local_logs/MSU_interpol_by_energy/fast-bird-8/checkpoints/exp_name=0val_loss=1.03285-epoch=134.ckpt\n",
      "2024-04-03 15:50:49,782 : INFO : epoch: 135; val_loss: 1.0329962968826294\n",
      "2024-04-03 15:50:49,785 : INFO : epoch: 135; train_loss: 0.8545223474502563\n",
      "2024-04-03 15:50:49,895 : DEBUG : open file: /Users/andrey.golda/Documents/Study/MSU_interpol/training/wandb_local_logs/MSU_interpol_by_energy/fast-bird-8/checkpoints/exp_name=0val_loss=1.03300-epoch=135.ckpt\n",
      "2024-04-03 15:50:56,999 : INFO : epoch: 136; val_loss: 1.0328700542449951\n",
      "2024-04-03 15:50:57,003 : INFO : epoch: 136; train_loss: 0.8544269800186157\n",
      "2024-04-03 15:50:57,115 : DEBUG : open file: /Users/andrey.golda/Documents/Study/MSU_interpol/training/wandb_local_logs/MSU_interpol_by_energy/fast-bird-8/checkpoints/exp_name=0val_loss=1.03287-epoch=136.ckpt\n",
      "2024-04-03 15:51:04,202 : INFO : epoch: 137; val_loss: 1.0328426361083984\n",
      "2024-04-03 15:51:04,205 : INFO : epoch: 137; train_loss: 0.854342520236969\n",
      "2024-04-03 15:51:04,314 : DEBUG : open file: /Users/andrey.golda/Documents/Study/MSU_interpol/training/wandb_local_logs/MSU_interpol_by_energy/fast-bird-8/checkpoints/exp_name=0val_loss=1.03284-epoch=137.ckpt\n",
      "2024-04-03 15:51:11,044 : INFO : epoch: 138; val_loss: 1.0327963829040527\n",
      "2024-04-03 15:51:11,047 : INFO : epoch: 138; train_loss: 0.8542577028274536\n",
      "2024-04-03 15:51:11,153 : DEBUG : open file: /Users/andrey.golda/Documents/Study/MSU_interpol/training/wandb_local_logs/MSU_interpol_by_energy/fast-bird-8/checkpoints/exp_name=0val_loss=1.03280-epoch=138.ckpt\n",
      "2024-04-03 15:51:17,871 : INFO : epoch: 139; val_loss: 1.0327688455581665\n",
      "2024-04-03 15:51:17,875 : INFO : epoch: 139; train_loss: 0.8541749119758606\n",
      "2024-04-03 15:51:17,984 : DEBUG : open file: /Users/andrey.golda/Documents/Study/MSU_interpol/training/wandb_local_logs/MSU_interpol_by_energy/fast-bird-8/checkpoints/exp_name=0val_loss=1.03277-epoch=139.ckpt\n",
      "2024-04-03 15:51:24,706 : INFO : epoch: 140; val_loss: 1.0327441692352295\n",
      "2024-04-03 15:51:24,709 : INFO : epoch: 140; train_loss: 0.8540893793106079\n",
      "2024-04-03 15:51:24,814 : DEBUG : open file: /Users/andrey.golda/Documents/Study/MSU_interpol/training/wandb_local_logs/MSU_interpol_by_energy/fast-bird-8/checkpoints/exp_name=0val_loss=1.03274-epoch=140.ckpt\n",
      "2024-04-03 15:51:31,617 : INFO : epoch: 141; val_loss: 1.032693862915039\n",
      "2024-04-03 15:51:31,621 : INFO : epoch: 141; train_loss: 0.8540093302726746\n",
      "2024-04-03 15:51:31,729 : DEBUG : open file: /Users/andrey.golda/Documents/Study/MSU_interpol/training/wandb_local_logs/MSU_interpol_by_energy/fast-bird-8/checkpoints/exp_name=0val_loss=1.03269-epoch=141.ckpt\n",
      "2024-04-03 15:51:38,495 : INFO : epoch: 142; val_loss: 1.0326778888702393\n",
      "2024-04-03 15:51:38,499 : INFO : epoch: 142; train_loss: 0.853930652141571\n",
      "2024-04-03 15:51:38,603 : DEBUG : open file: /Users/andrey.golda/Documents/Study/MSU_interpol/training/wandb_local_logs/MSU_interpol_by_energy/fast-bird-8/checkpoints/exp_name=0val_loss=1.03268-epoch=142.ckpt\n",
      "2024-04-03 15:51:45,370 : INFO : epoch: 143; val_loss: 1.0325875282287598\n",
      "2024-04-03 15:51:45,373 : INFO : epoch: 143; train_loss: 0.8538393378257751\n",
      "2024-04-03 15:51:45,480 : DEBUG : open file: /Users/andrey.golda/Documents/Study/MSU_interpol/training/wandb_local_logs/MSU_interpol_by_energy/fast-bird-8/checkpoints/exp_name=0val_loss=1.03259-epoch=143.ckpt\n",
      "2024-04-03 15:51:52,292 : INFO : epoch: 144; val_loss: 1.0325270891189575\n",
      "2024-04-03 15:51:52,296 : INFO : epoch: 144; train_loss: 0.8537591099739075\n",
      "2024-04-03 15:51:52,398 : DEBUG : open file: /Users/andrey.golda/Documents/Study/MSU_interpol/training/wandb_local_logs/MSU_interpol_by_energy/fast-bird-8/checkpoints/exp_name=0val_loss=1.03253-epoch=144.ckpt\n",
      "2024-04-03 15:51:59,197 : INFO : epoch: 145; val_loss: 1.0324723720550537\n",
      "2024-04-03 15:51:59,200 : INFO : epoch: 145; train_loss: 0.8536806702613831\n",
      "2024-04-03 15:51:59,305 : DEBUG : open file: /Users/andrey.golda/Documents/Study/MSU_interpol/training/wandb_local_logs/MSU_interpol_by_energy/fast-bird-8/checkpoints/exp_name=0val_loss=1.03247-epoch=145.ckpt\n",
      "2024-04-03 15:52:06,075 : INFO : epoch: 146; val_loss: 1.0324323177337646\n",
      "2024-04-03 15:52:06,079 : INFO : epoch: 146; train_loss: 0.8536031246185303\n",
      "2024-04-03 15:52:06,185 : DEBUG : open file: /Users/andrey.golda/Documents/Study/MSU_interpol/training/wandb_local_logs/MSU_interpol_by_energy/fast-bird-8/checkpoints/exp_name=0val_loss=1.03243-epoch=146.ckpt\n",
      "2024-04-03 15:52:12,906 : INFO : epoch: 147; val_loss: 1.0323386192321777\n",
      "2024-04-03 15:52:12,910 : INFO : epoch: 147; train_loss: 0.8535225987434387\n",
      "2024-04-03 15:52:13,016 : DEBUG : open file: /Users/andrey.golda/Documents/Study/MSU_interpol/training/wandb_local_logs/MSU_interpol_by_energy/fast-bird-8/checkpoints/exp_name=0val_loss=1.03234-epoch=147.ckpt\n",
      "2024-04-03 15:52:19,728 : INFO : epoch: 148; val_loss: 1.0322904586791992\n",
      "2024-04-03 15:52:19,732 : INFO : epoch: 148; train_loss: 0.8534460067749023\n"
     ]
    },
    {
     "name": "stderr",
     "output_type": "stream",
     "text": [
      "Metric val_loss improved by 0.000 >= min_delta = 1e-05. New best score: 1.032\n"
     ]
    },
    {
     "name": "stdout",
     "output_type": "stream",
     "text": [
      "2024-04-03 15:52:19,840 : DEBUG : open file: /Users/andrey.golda/Documents/Study/MSU_interpol/training/wandb_local_logs/MSU_interpol_by_energy/fast-bird-8/checkpoints/exp_name=0val_loss=1.03229-epoch=148.ckpt\n",
      "2024-04-03 15:52:26,855 : INFO : epoch: 149; val_loss: 1.032173752784729\n",
      "2024-04-03 15:52:26,858 : INFO : epoch: 149; train_loss: 0.8533604741096497\n"
     ]
    },
    {
     "name": "stderr",
     "output_type": "stream",
     "text": [
      "Metric val_loss improved by 0.000 >= min_delta = 1e-05. New best score: 1.032\n"
     ]
    },
    {
     "name": "stdout",
     "output_type": "stream",
     "text": [
      "2024-04-03 15:52:26,967 : DEBUG : open file: /Users/andrey.golda/Documents/Study/MSU_interpol/training/wandb_local_logs/MSU_interpol_by_energy/fast-bird-8/checkpoints/exp_name=0val_loss=1.03217-epoch=149.ckpt\n",
      "2024-04-03 15:52:33,901 : INFO : epoch: 150; val_loss: 1.0321810245513916\n",
      "2024-04-03 15:52:33,905 : INFO : epoch: 150; train_loss: 0.8520572185516357\n",
      "2024-04-03 15:52:34,009 : DEBUG : open file: /Users/andrey.golda/Documents/Study/MSU_interpol/training/wandb_local_logs/MSU_interpol_by_energy/fast-bird-8/checkpoints/exp_name=0val_loss=1.03218-epoch=150.ckpt\n",
      "2024-04-03 15:52:40,718 : INFO : epoch: 151; val_loss: 1.031981348991394\n",
      "2024-04-03 15:52:40,722 : INFO : epoch: 151; train_loss: 0.8520346879959106\n"
     ]
    },
    {
     "name": "stderr",
     "output_type": "stream",
     "text": [
      "Metric val_loss improved by 0.000 >= min_delta = 1e-05. New best score: 1.032\n"
     ]
    },
    {
     "name": "stdout",
     "output_type": "stream",
     "text": [
      "2024-04-03 15:52:40,830 : DEBUG : open file: /Users/andrey.golda/Documents/Study/MSU_interpol/training/wandb_local_logs/MSU_interpol_by_energy/fast-bird-8/checkpoints/exp_name=0val_loss=1.03198-epoch=151.ckpt\n",
      "2024-04-03 15:52:47,592 : INFO : epoch: 152; val_loss: 1.0319596529006958\n",
      "2024-04-03 15:52:47,603 : INFO : epoch: 152; train_loss: 0.851976752281189\n"
     ]
    },
    {
     "name": "stderr",
     "output_type": "stream",
     "text": [
      "Metric val_loss improved by 0.000 >= min_delta = 1e-05. New best score: 1.032\n"
     ]
    },
    {
     "name": "stdout",
     "output_type": "stream",
     "text": [
      "2024-04-03 15:52:47,717 : DEBUG : open file: /Users/andrey.golda/Documents/Study/MSU_interpol/training/wandb_local_logs/MSU_interpol_by_energy/fast-bird-8/checkpoints/exp_name=0val_loss=1.03196-epoch=152.ckpt\n",
      "2024-04-03 15:52:54,520 : INFO : epoch: 153; val_loss: 1.0318951606750488\n",
      "2024-04-03 15:52:54,523 : INFO : epoch: 153; train_loss: 0.8519132137298584\n"
     ]
    },
    {
     "name": "stderr",
     "output_type": "stream",
     "text": [
      "Metric val_loss improved by 0.000 >= min_delta = 1e-05. New best score: 1.032\n"
     ]
    },
    {
     "name": "stdout",
     "output_type": "stream",
     "text": [
      "2024-04-03 15:52:54,631 : DEBUG : open file: /Users/andrey.golda/Documents/Study/MSU_interpol/training/wandb_local_logs/MSU_interpol_by_energy/fast-bird-8/checkpoints/exp_name=0val_loss=1.03190-epoch=153.ckpt\n",
      "2024-04-03 15:53:01,393 : INFO : epoch: 154; val_loss: 1.0318527221679688\n",
      "2024-04-03 15:53:01,396 : INFO : epoch: 154; train_loss: 0.8518550992012024\n"
     ]
    },
    {
     "name": "stderr",
     "output_type": "stream",
     "text": [
      "Metric val_loss improved by 0.000 >= min_delta = 1e-05. New best score: 1.032\n"
     ]
    },
    {
     "name": "stdout",
     "output_type": "stream",
     "text": [
      "2024-04-03 15:53:01,502 : DEBUG : open file: /Users/andrey.golda/Documents/Study/MSU_interpol/training/wandb_local_logs/MSU_interpol_by_energy/fast-bird-8/checkpoints/exp_name=0val_loss=1.03185-epoch=154.ckpt\n",
      "2024-04-03 15:53:08,345 : INFO : epoch: 155; val_loss: 1.0318629741668701\n",
      "2024-04-03 15:53:08,349 : INFO : epoch: 155; train_loss: 0.8517968654632568\n",
      "2024-04-03 15:53:08,455 : DEBUG : open file: /Users/andrey.golda/Documents/Study/MSU_interpol/training/wandb_local_logs/MSU_interpol_by_energy/fast-bird-8/checkpoints/exp_name=0val_loss=1.03186-epoch=155.ckpt\n",
      "2024-04-03 15:53:15,183 : INFO : epoch: 156; val_loss: 1.0318238735198975\n",
      "2024-04-03 15:53:15,187 : INFO : epoch: 156; train_loss: 0.8517488241195679\n"
     ]
    },
    {
     "name": "stderr",
     "output_type": "stream",
     "text": [
      "Metric val_loss improved by 0.000 >= min_delta = 1e-05. New best score: 1.032\n"
     ]
    },
    {
     "name": "stdout",
     "output_type": "stream",
     "text": [
      "2024-04-03 15:53:15,307 : DEBUG : open file: /Users/andrey.golda/Documents/Study/MSU_interpol/training/wandb_local_logs/MSU_interpol_by_energy/fast-bird-8/checkpoints/exp_name=0val_loss=1.03182-epoch=156.ckpt\n",
      "2024-04-03 15:53:22,058 : INFO : epoch: 157; val_loss: 1.0317670106887817\n",
      "2024-04-03 15:53:22,080 : INFO : epoch: 157; train_loss: 0.8516868352890015\n"
     ]
    },
    {
     "name": "stderr",
     "output_type": "stream",
     "text": [
      "Metric val_loss improved by 0.000 >= min_delta = 1e-05. New best score: 1.032\n"
     ]
    },
    {
     "name": "stdout",
     "output_type": "stream",
     "text": [
      "2024-04-03 15:53:22,189 : DEBUG : open file: /Users/andrey.golda/Documents/Study/MSU_interpol/training/wandb_local_logs/MSU_interpol_by_energy/fast-bird-8/checkpoints/exp_name=0val_loss=1.03177-epoch=157.ckpt\n",
      "2024-04-03 15:53:28,934 : INFO : epoch: 158; val_loss: 1.0317682027816772\n",
      "2024-04-03 15:53:28,938 : INFO : epoch: 158; train_loss: 0.8516355752944946\n",
      "2024-04-03 15:53:29,042 : DEBUG : open file: /Users/andrey.golda/Documents/Study/MSU_interpol/training/wandb_local_logs/MSU_interpol_by_energy/fast-bird-8/checkpoints/exp_name=0val_loss=1.03177-epoch=158.ckpt\n",
      "2024-04-03 15:53:36,016 : INFO : epoch: 159; val_loss: 1.031772255897522\n",
      "2024-04-03 15:53:36,019 : INFO : epoch: 159; train_loss: 0.8515902757644653\n",
      "2024-04-03 15:53:36,125 : DEBUG : open file: /Users/andrey.golda/Documents/Study/MSU_interpol/training/wandb_local_logs/MSU_interpol_by_energy/fast-bird-8/checkpoints/exp_name=0val_loss=1.03177-epoch=159.ckpt\n",
      "2024-04-03 15:53:42,876 : INFO : epoch: 160; val_loss: 1.0317740440368652\n",
      "2024-04-03 15:53:42,879 : INFO : epoch: 160; train_loss: 0.851538896560669\n",
      "2024-04-03 15:53:49,579 : INFO : epoch: 161; val_loss: 1.0317816734313965\n",
      "2024-04-03 15:53:49,582 : INFO : epoch: 161; train_loss: 0.8514893651008606\n",
      "2024-04-03 15:53:56,351 : INFO : epoch: 162; val_loss: 1.0317577123641968\n",
      "2024-04-03 15:53:56,354 : INFO : epoch: 162; train_loss: 0.8514429926872253\n",
      "2024-04-03 15:53:56,463 : DEBUG : open file: /Users/andrey.golda/Documents/Study/MSU_interpol/training/wandb_local_logs/MSU_interpol_by_energy/fast-bird-8/checkpoints/exp_name=0val_loss=1.03176-epoch=162.ckpt\n",
      "2024-04-03 15:54:03,267 : INFO : epoch: 163; val_loss: 1.0317425727844238\n",
      "2024-04-03 15:54:03,271 : INFO : epoch: 163; train_loss: 0.85139399766922\n"
     ]
    },
    {
     "name": "stderr",
     "output_type": "stream",
     "text": [
      "Metric val_loss improved by 0.000 >= min_delta = 1e-05. New best score: 1.032\n"
     ]
    },
    {
     "name": "stdout",
     "output_type": "stream",
     "text": [
      "2024-04-03 15:54:03,382 : DEBUG : open file: /Users/andrey.golda/Documents/Study/MSU_interpol/training/wandb_local_logs/MSU_interpol_by_energy/fast-bird-8/checkpoints/exp_name=0val_loss=1.03174-epoch=163.ckpt\n",
      "2024-04-03 15:54:10,111 : INFO : epoch: 164; val_loss: 1.0317310094833374\n",
      "2024-04-03 15:54:10,114 : INFO : epoch: 164; train_loss: 0.8513396382331848\n"
     ]
    },
    {
     "name": "stderr",
     "output_type": "stream",
     "text": [
      "Metric val_loss improved by 0.000 >= min_delta = 1e-05. New best score: 1.032\n"
     ]
    },
    {
     "name": "stdout",
     "output_type": "stream",
     "text": [
      "2024-04-03 15:54:10,222 : DEBUG : open file: /Users/andrey.golda/Documents/Study/MSU_interpol/training/wandb_local_logs/MSU_interpol_by_energy/fast-bird-8/checkpoints/exp_name=0val_loss=1.03173-epoch=164.ckpt\n",
      "2024-04-03 15:54:17,074 : INFO : epoch: 165; val_loss: 1.0317093133926392\n",
      "2024-04-03 15:54:17,077 : INFO : epoch: 165; train_loss: 0.8512923717498779\n"
     ]
    },
    {
     "name": "stderr",
     "output_type": "stream",
     "text": [
      "Metric val_loss improved by 0.000 >= min_delta = 1e-05. New best score: 1.032\n"
     ]
    },
    {
     "name": "stdout",
     "output_type": "stream",
     "text": [
      "2024-04-03 15:54:17,192 : DEBUG : open file: /Users/andrey.golda/Documents/Study/MSU_interpol/training/wandb_local_logs/MSU_interpol_by_energy/fast-bird-8/checkpoints/exp_name=0val_loss=1.03171-epoch=165.ckpt\n",
      "2024-04-03 15:54:24,276 : INFO : epoch: 166; val_loss: 1.0316956043243408\n",
      "2024-04-03 15:54:24,280 : INFO : epoch: 166; train_loss: 0.8512424826622009\n"
     ]
    },
    {
     "name": "stderr",
     "output_type": "stream",
     "text": [
      "Metric val_loss improved by 0.000 >= min_delta = 1e-05. New best score: 1.032\n"
     ]
    },
    {
     "name": "stdout",
     "output_type": "stream",
     "text": [
      "2024-04-03 15:54:24,402 : DEBUG : open file: /Users/andrey.golda/Documents/Study/MSU_interpol/training/wandb_local_logs/MSU_interpol_by_energy/fast-bird-8/checkpoints/exp_name=0val_loss=1.03170-epoch=166.ckpt\n",
      "2024-04-03 15:54:31,645 : INFO : epoch: 167; val_loss: 1.0316907167434692\n",
      "2024-04-03 15:54:31,649 : INFO : epoch: 167; train_loss: 0.8511952757835388\n",
      "2024-04-03 15:54:31,760 : DEBUG : open file: /Users/andrey.golda/Documents/Study/MSU_interpol/training/wandb_local_logs/MSU_interpol_by_energy/fast-bird-8/checkpoints/exp_name=0val_loss=1.03169-epoch=167.ckpt\n",
      "2024-04-03 15:54:39,078 : INFO : epoch: 168; val_loss: 1.029700756072998\n",
      "2024-04-03 15:54:39,082 : INFO : epoch: 168; train_loss: 0.8506876826286316\n"
     ]
    },
    {
     "name": "stderr",
     "output_type": "stream",
     "text": [
      "Metric val_loss improved by 0.002 >= min_delta = 1e-05. New best score: 1.030\n"
     ]
    },
    {
     "name": "stdout",
     "output_type": "stream",
     "text": [
      "2024-04-03 15:54:39,197 : DEBUG : open file: /Users/andrey.golda/Documents/Study/MSU_interpol/training/wandb_local_logs/MSU_interpol_by_energy/fast-bird-8/checkpoints/exp_name=0val_loss=1.02970-epoch=168.ckpt\n",
      "2024-04-03 15:54:46,724 : INFO : epoch: 169; val_loss: 1.029538869857788\n",
      "2024-04-03 15:54:46,728 : INFO : epoch: 169; train_loss: 0.85062575340271\n"
     ]
    },
    {
     "name": "stderr",
     "output_type": "stream",
     "text": [
      "Metric val_loss improved by 0.000 >= min_delta = 1e-05. New best score: 1.030\n"
     ]
    },
    {
     "name": "stdout",
     "output_type": "stream",
     "text": [
      "2024-04-03 15:54:46,845 : DEBUG : open file: /Users/andrey.golda/Documents/Study/MSU_interpol/training/wandb_local_logs/MSU_interpol_by_energy/fast-bird-8/checkpoints/exp_name=0val_loss=1.02954-epoch=169.ckpt\n",
      "2024-04-03 15:54:54,379 : INFO : epoch: 170; val_loss: 1.0295815467834473\n",
      "2024-04-03 15:54:54,384 : INFO : epoch: 170; train_loss: 0.8505834341049194\n",
      "2024-04-03 15:54:54,503 : DEBUG : open file: /Users/andrey.golda/Documents/Study/MSU_interpol/training/wandb_local_logs/MSU_interpol_by_energy/fast-bird-8/checkpoints/exp_name=0val_loss=1.02958-epoch=170.ckpt\n",
      "2024-04-03 15:55:02,212 : INFO : epoch: 171; val_loss: 1.0295825004577637\n",
      "2024-04-03 15:55:02,216 : INFO : epoch: 171; train_loss: 0.8505582213401794\n",
      "2024-04-03 15:55:02,334 : DEBUG : open file: /Users/andrey.golda/Documents/Study/MSU_interpol/training/wandb_local_logs/MSU_interpol_by_energy/fast-bird-8/checkpoints/exp_name=0val_loss=1.02958-epoch=171.ckpt\n",
      "2024-04-03 15:55:09,841 : INFO : epoch: 172; val_loss: 1.0295511484146118\n",
      "2024-04-03 15:55:09,847 : INFO : epoch: 172; train_loss: 0.8505319952964783\n",
      "2024-04-03 15:55:09,965 : DEBUG : open file: /Users/andrey.golda/Documents/Study/MSU_interpol/training/wandb_local_logs/MSU_interpol_by_energy/fast-bird-8/checkpoints/exp_name=0val_loss=1.02955-epoch=172.ckpt\n",
      "2024-04-03 15:55:17,522 : INFO : epoch: 173; val_loss: 1.0295554399490356\n",
      "2024-04-03 15:55:17,526 : INFO : epoch: 173; train_loss: 0.8505068421363831\n",
      "2024-04-03 15:55:17,642 : DEBUG : open file: /Users/andrey.golda/Documents/Study/MSU_interpol/training/wandb_local_logs/MSU_interpol_by_energy/fast-bird-8/checkpoints/exp_name=0val_loss=1.02956-epoch=173.ckpt\n",
      "2024-04-03 15:55:25,141 : INFO : epoch: 174; val_loss: 1.0295665264129639\n",
      "2024-04-03 15:55:25,145 : INFO : epoch: 174; train_loss: 0.8504816293716431\n",
      "2024-04-03 15:55:32,600 : INFO : epoch: 175; val_loss: 1.0295406579971313\n",
      "2024-04-03 15:55:32,604 : INFO : epoch: 175; train_loss: 0.8504579067230225\n",
      "2024-04-03 15:55:32,737 : DEBUG : open file: /Users/andrey.golda/Documents/Study/MSU_interpol/training/wandb_local_logs/MSU_interpol_by_energy/fast-bird-8/checkpoints/exp_name=0val_loss=1.02954-epoch=175.ckpt\n",
      "2024-04-03 15:55:40,485 : INFO : epoch: 176; val_loss: 1.0295313596725464\n",
      "2024-04-03 15:55:40,489 : INFO : epoch: 176; train_loss: 0.8504361510276794\n",
      "2024-04-03 15:55:40,605 : DEBUG : open file: /Users/andrey.golda/Documents/Study/MSU_interpol/training/wandb_local_logs/MSU_interpol_by_energy/fast-bird-8/checkpoints/exp_name=0val_loss=1.02953-epoch=176.ckpt\n",
      "2024-04-03 15:55:48,254 : INFO : epoch: 177; val_loss: 1.029529333114624\n",
      "2024-04-03 15:55:48,258 : INFO : epoch: 177; train_loss: 0.8504099249839783\n",
      "2024-04-03 15:55:48,373 : DEBUG : open file: /Users/andrey.golda/Documents/Study/MSU_interpol/training/wandb_local_logs/MSU_interpol_by_energy/fast-bird-8/checkpoints/exp_name=0val_loss=1.02953-epoch=177.ckpt\n",
      "2024-04-03 15:55:55,862 : INFO : epoch: 178; val_loss: 1.0295255184173584\n",
      "2024-04-03 15:55:55,866 : INFO : epoch: 178; train_loss: 0.8503817319869995\n"
     ]
    },
    {
     "name": "stderr",
     "output_type": "stream",
     "text": [
      "Metric val_loss improved by 0.000 >= min_delta = 1e-05. New best score: 1.030\n"
     ]
    },
    {
     "name": "stdout",
     "output_type": "stream",
     "text": [
      "2024-04-03 15:55:55,989 : DEBUG : open file: /Users/andrey.golda/Documents/Study/MSU_interpol/training/wandb_local_logs/MSU_interpol_by_energy/fast-bird-8/checkpoints/exp_name=0val_loss=1.02953-epoch=178.ckpt\n",
      "2024-04-03 15:56:03,700 : INFO : epoch: 179; val_loss: 1.0295109748840332\n",
      "2024-04-03 15:56:03,703 : INFO : epoch: 179; train_loss: 0.8503644466400146\n"
     ]
    },
    {
     "name": "stderr",
     "output_type": "stream",
     "text": [
      "Metric val_loss improved by 0.000 >= min_delta = 1e-05. New best score: 1.030\n"
     ]
    },
    {
     "name": "stdout",
     "output_type": "stream",
     "text": [
      "2024-04-03 15:56:03,824 : DEBUG : open file: /Users/andrey.golda/Documents/Study/MSU_interpol/training/wandb_local_logs/MSU_interpol_by_energy/fast-bird-8/checkpoints/exp_name=0val_loss=1.02951-epoch=179.ckpt\n",
      "2024-04-03 15:56:11,483 : INFO : epoch: 180; val_loss: 1.0295233726501465\n",
      "2024-04-03 15:56:11,487 : INFO : epoch: 180; train_loss: 0.8503344058990479\n",
      "2024-04-03 15:56:11,600 : DEBUG : open file: /Users/andrey.golda/Documents/Study/MSU_interpol/training/wandb_local_logs/MSU_interpol_by_energy/fast-bird-8/checkpoints/exp_name=0val_loss=1.02952-epoch=180.ckpt\n",
      "2024-04-03 15:56:19,211 : INFO : epoch: 181; val_loss: 1.029500961303711\n",
      "2024-04-03 15:56:19,215 : INFO : epoch: 181; train_loss: 0.850311815738678\n",
      "2024-04-03 15:56:19,349 : DEBUG : open file: /Users/andrey.golda/Documents/Study/MSU_interpol/training/wandb_local_logs/MSU_interpol_by_energy/fast-bird-8/checkpoints/exp_name=0val_loss=1.02950-epoch=181.ckpt\n",
      "2024-04-03 15:56:26,961 : INFO : epoch: 182; val_loss: 1.0295103788375854\n",
      "2024-04-03 15:56:26,965 : INFO : epoch: 182; train_loss: 0.850286602973938\n",
      "2024-04-03 15:56:27,083 : DEBUG : open file: /Users/andrey.golda/Documents/Study/MSU_interpol/training/wandb_local_logs/MSU_interpol_by_energy/fast-bird-8/checkpoints/exp_name=0val_loss=1.02951-epoch=182.ckpt\n",
      "2024-04-03 15:56:34,695 : INFO : epoch: 183; val_loss: 1.0295064449310303\n",
      "2024-04-03 15:56:34,699 : INFO : epoch: 183; train_loss: 0.8502675890922546\n",
      "2024-04-03 15:56:34,818 : DEBUG : open file: /Users/andrey.golda/Documents/Study/MSU_interpol/training/wandb_local_logs/MSU_interpol_by_energy/fast-bird-8/checkpoints/exp_name=0val_loss=1.02951-epoch=183.ckpt\n",
      "2024-04-03 15:56:42,447 : INFO : epoch: 184; val_loss: 1.0295131206512451\n",
      "2024-04-03 15:56:42,452 : INFO : epoch: 184; train_loss: 0.8502355217933655\n",
      "2024-04-03 15:56:49,459 : INFO : epoch: 185; val_loss: 1.0291193723678589\n",
      "2024-04-03 15:56:49,463 : INFO : epoch: 185; train_loss: 0.849926233291626\n"
     ]
    },
    {
     "name": "stderr",
     "output_type": "stream",
     "text": [
      "Metric val_loss improved by 0.000 >= min_delta = 1e-05. New best score: 1.029\n"
     ]
    },
    {
     "name": "stdout",
     "output_type": "stream",
     "text": [
      "2024-04-03 15:56:49,574 : DEBUG : open file: /Users/andrey.golda/Documents/Study/MSU_interpol/training/wandb_local_logs/MSU_interpol_by_energy/fast-bird-8/checkpoints/exp_name=0val_loss=1.02912-epoch=185.ckpt\n",
      "2024-04-03 15:56:56,713 : INFO : epoch: 186; val_loss: 1.0292158126831055\n",
      "2024-04-03 15:56:56,717 : INFO : epoch: 186; train_loss: 0.849720299243927\n",
      "2024-04-03 15:56:56,829 : DEBUG : open file: /Users/andrey.golda/Documents/Study/MSU_interpol/training/wandb_local_logs/MSU_interpol_by_energy/fast-bird-8/checkpoints/exp_name=0val_loss=1.02922-epoch=186.ckpt\n",
      "2024-04-03 15:57:04,150 : INFO : epoch: 187; val_loss: 1.029163122177124\n",
      "2024-04-03 15:57:04,154 : INFO : epoch: 187; train_loss: 0.8497191071510315\n",
      "2024-04-03 15:57:04,263 : DEBUG : open file: /Users/andrey.golda/Documents/Study/MSU_interpol/training/wandb_local_logs/MSU_interpol_by_energy/fast-bird-8/checkpoints/exp_name=0val_loss=1.02916-epoch=187.ckpt\n",
      "2024-04-03 15:57:11,358 : INFO : epoch: 188; val_loss: 1.0291693210601807\n",
      "2024-04-03 15:57:11,362 : INFO : epoch: 188; train_loss: 0.8497067093849182\n",
      "2024-04-03 15:57:11,469 : DEBUG : open file: /Users/andrey.golda/Documents/Study/MSU_interpol/training/wandb_local_logs/MSU_interpol_by_energy/fast-bird-8/checkpoints/exp_name=0val_loss=1.02917-epoch=188.ckpt\n",
      "2024-04-03 15:57:18,222 : INFO : epoch: 189; val_loss: 1.0291614532470703\n",
      "2024-04-03 15:57:18,226 : INFO : epoch: 189; train_loss: 0.8496925830841064\n",
      "2024-04-03 15:57:18,332 : DEBUG : open file: /Users/andrey.golda/Documents/Study/MSU_interpol/training/wandb_local_logs/MSU_interpol_by_energy/fast-bird-8/checkpoints/exp_name=0val_loss=1.02916-epoch=189.ckpt\n",
      "2024-04-03 15:57:25,161 : INFO : epoch: 190; val_loss: 1.029152750968933\n",
      "2024-04-03 15:57:25,165 : INFO : epoch: 190; train_loss: 0.8496783971786499\n",
      "2024-04-03 15:57:25,273 : DEBUG : open file: /Users/andrey.golda/Documents/Study/MSU_interpol/training/wandb_local_logs/MSU_interpol_by_energy/fast-bird-8/checkpoints/exp_name=0val_loss=1.02915-epoch=190.ckpt\n",
      "2024-04-03 15:57:32,093 : INFO : epoch: 191; val_loss: 1.02914559841156\n",
      "2024-04-03 15:57:32,096 : INFO : epoch: 191; train_loss: 0.8496675491333008\n",
      "2024-04-03 15:57:32,201 : DEBUG : open file: /Users/andrey.golda/Documents/Study/MSU_interpol/training/wandb_local_logs/MSU_interpol_by_energy/fast-bird-8/checkpoints/exp_name=0val_loss=1.02915-epoch=191.ckpt\n",
      "2024-04-03 15:57:39,364 : INFO : epoch: 192; val_loss: 1.029144287109375\n",
      "2024-04-03 15:57:39,368 : INFO : epoch: 192; train_loss: 0.8496531248092651\n",
      "2024-04-03 15:57:39,473 : DEBUG : open file: /Users/andrey.golda/Documents/Study/MSU_interpol/training/wandb_local_logs/MSU_interpol_by_energy/fast-bird-8/checkpoints/exp_name=0val_loss=1.02914-epoch=192.ckpt\n",
      "2024-04-03 15:57:46,265 : INFO : epoch: 193; val_loss: 1.0291451215744019\n",
      "2024-04-03 15:57:46,269 : INFO : epoch: 193; train_loss: 0.8496410846710205\n",
      "2024-04-03 15:57:46,376 : DEBUG : open file: /Users/andrey.golda/Documents/Study/MSU_interpol/training/wandb_local_logs/MSU_interpol_by_energy/fast-bird-8/checkpoints/exp_name=0val_loss=1.02915-epoch=193.ckpt\n",
      "2024-04-03 15:57:53,114 : INFO : epoch: 194; val_loss: 1.029132604598999\n",
      "2024-04-03 15:57:53,117 : INFO : epoch: 194; train_loss: 0.8496271371841431\n",
      "2024-04-03 15:57:53,222 : DEBUG : open file: /Users/andrey.golda/Documents/Study/MSU_interpol/training/wandb_local_logs/MSU_interpol_by_energy/fast-bird-8/checkpoints/exp_name=0val_loss=1.02913-epoch=194.ckpt\n",
      "2024-04-03 15:57:59,939 : INFO : epoch: 195; val_loss: 1.0291295051574707\n",
      "2024-04-03 15:57:59,942 : INFO : epoch: 195; train_loss: 0.8496158123016357\n",
      "2024-04-03 15:58:00,047 : DEBUG : open file: /Users/andrey.golda/Documents/Study/MSU_interpol/training/wandb_local_logs/MSU_interpol_by_energy/fast-bird-8/checkpoints/exp_name=0val_loss=1.02913-epoch=195.ckpt\n",
      "2024-04-03 15:58:06,496 : INFO : epoch: 196; val_loss: 1.0291240215301514\n",
      "2024-04-03 15:58:06,500 : INFO : epoch: 196; train_loss: 0.8496028780937195\n",
      "2024-04-03 15:58:06,600 : DEBUG : open file: /Users/andrey.golda/Documents/Study/MSU_interpol/training/wandb_local_logs/MSU_interpol_by_energy/fast-bird-8/checkpoints/exp_name=0val_loss=1.02912-epoch=196.ckpt\n",
      "2024-04-03 15:58:12,985 : INFO : epoch: 197; val_loss: 1.029121994972229\n",
      "2024-04-03 15:58:12,989 : INFO : epoch: 197; train_loss: 0.849589467048645\n",
      "2024-04-03 15:58:13,088 : DEBUG : open file: /Users/andrey.golda/Documents/Study/MSU_interpol/training/wandb_local_logs/MSU_interpol_by_energy/fast-bird-8/checkpoints/exp_name=0val_loss=1.02912-epoch=197.ckpt\n",
      "2024-04-03 15:58:19,547 : INFO : epoch: 198; val_loss: 1.0291223526000977\n",
      "2024-04-03 15:58:19,551 : INFO : epoch: 198; train_loss: 0.8495751619338989\n",
      "2024-04-03 15:58:19,653 : DEBUG : open file: /Users/andrey.golda/Documents/Study/MSU_interpol/training/wandb_local_logs/MSU_interpol_by_energy/fast-bird-8/checkpoints/exp_name=0val_loss=1.02912-epoch=198.ckpt\n",
      "2024-04-03 15:58:26,143 : INFO : epoch: 199; val_loss: 1.0291119813919067\n",
      "2024-04-03 15:58:26,146 : INFO : epoch: 199; train_loss: 0.8495649695396423\n",
      "2024-04-03 15:58:26,245 : DEBUG : open file: /Users/andrey.golda/Documents/Study/MSU_interpol/training/wandb_local_logs/MSU_interpol_by_energy/fast-bird-8/checkpoints/exp_name=0val_loss=1.02911-epoch=199.ckpt\n",
      "2024-04-03 15:58:32,774 : INFO : epoch: 200; val_loss: 1.0291087627410889\n",
      "2024-04-03 15:58:32,778 : INFO : epoch: 200; train_loss: 0.849550187587738\n"
     ]
    },
    {
     "name": "stderr",
     "output_type": "stream",
     "text": [
      "Metric val_loss improved by 0.000 >= min_delta = 1e-05. New best score: 1.029\n"
     ]
    },
    {
     "name": "stdout",
     "output_type": "stream",
     "text": [
      "2024-04-03 15:58:32,883 : DEBUG : open file: /Users/andrey.golda/Documents/Study/MSU_interpol/training/wandb_local_logs/MSU_interpol_by_energy/fast-bird-8/checkpoints/exp_name=0val_loss=1.02911-epoch=200.ckpt\n",
      "2024-04-03 15:58:39,457 : INFO : epoch: 201; val_loss: 1.0291104316711426\n",
      "2024-04-03 15:58:39,460 : INFO : epoch: 201; train_loss: 0.8495371341705322\n",
      "2024-04-03 15:58:39,560 : DEBUG : open file: /Users/andrey.golda/Documents/Study/MSU_interpol/training/wandb_local_logs/MSU_interpol_by_energy/fast-bird-8/checkpoints/exp_name=0val_loss=1.02911-epoch=201.ckpt\n",
      "2024-04-03 15:58:45,998 : INFO : epoch: 202; val_loss: 1.0290662050247192\n",
      "2024-04-03 15:58:46,001 : INFO : epoch: 202; train_loss: 0.8493597507476807\n"
     ]
    },
    {
     "name": "stderr",
     "output_type": "stream",
     "text": [
      "Metric val_loss improved by 0.000 >= min_delta = 1e-05. New best score: 1.029\n"
     ]
    },
    {
     "name": "stdout",
     "output_type": "stream",
     "text": [
      "2024-04-03 15:58:46,103 : DEBUG : open file: /Users/andrey.golda/Documents/Study/MSU_interpol/training/wandb_local_logs/MSU_interpol_by_energy/fast-bird-8/checkpoints/exp_name=0val_loss=1.02907-epoch=202.ckpt\n",
      "2024-04-03 15:58:52,539 : INFO : epoch: 203; val_loss: 1.0290415287017822\n",
      "2024-04-03 15:58:52,542 : INFO : epoch: 203; train_loss: 0.8493146300315857\n"
     ]
    },
    {
     "name": "stderr",
     "output_type": "stream",
     "text": [
      "Metric val_loss improved by 0.000 >= min_delta = 1e-05. New best score: 1.029\n"
     ]
    },
    {
     "name": "stdout",
     "output_type": "stream",
     "text": [
      "2024-04-03 15:58:52,646 : DEBUG : open file: /Users/andrey.golda/Documents/Study/MSU_interpol/training/wandb_local_logs/MSU_interpol_by_energy/fast-bird-8/checkpoints/exp_name=0val_loss=1.02904-epoch=203.ckpt\n",
      "2024-04-03 15:58:59,357 : INFO : epoch: 204; val_loss: 1.0290452241897583\n",
      "2024-04-03 15:58:59,360 : INFO : epoch: 204; train_loss: 0.8493103384971619\n",
      "2024-04-03 15:58:59,460 : DEBUG : open file: /Users/andrey.golda/Documents/Study/MSU_interpol/training/wandb_local_logs/MSU_interpol_by_energy/fast-bird-8/checkpoints/exp_name=0val_loss=1.02905-epoch=204.ckpt\n",
      "2024-04-03 15:59:06,027 : INFO : epoch: 205; val_loss: 1.0290359258651733\n",
      "2024-04-03 15:59:06,031 : INFO : epoch: 205; train_loss: 0.8493033647537231\n",
      "2024-04-03 15:59:06,138 : DEBUG : open file: /Users/andrey.golda/Documents/Study/MSU_interpol/training/wandb_local_logs/MSU_interpol_by_energy/fast-bird-8/checkpoints/exp_name=0val_loss=1.02904-epoch=205.ckpt\n",
      "2024-04-03 15:59:12,568 : INFO : epoch: 206; val_loss: 1.029033899307251\n",
      "2024-04-03 15:59:12,571 : INFO : epoch: 206; train_loss: 0.8492954969406128\n",
      "2024-04-03 15:59:12,671 : DEBUG : open file: /Users/andrey.golda/Documents/Study/MSU_interpol/training/wandb_local_logs/MSU_interpol_by_energy/fast-bird-8/checkpoints/exp_name=0val_loss=1.02903-epoch=206.ckpt\n",
      "2024-04-03 15:59:19,083 : INFO : epoch: 207; val_loss: 1.029026746749878\n",
      "2024-04-03 15:59:19,087 : INFO : epoch: 207; train_loss: 0.8492893576622009\n"
     ]
    },
    {
     "name": "stderr",
     "output_type": "stream",
     "text": [
      "Metric val_loss improved by 0.000 >= min_delta = 1e-05. New best score: 1.029\n"
     ]
    },
    {
     "name": "stdout",
     "output_type": "stream",
     "text": [
      "2024-04-03 15:59:19,192 : DEBUG : open file: /Users/andrey.golda/Documents/Study/MSU_interpol/training/wandb_local_logs/MSU_interpol_by_energy/fast-bird-8/checkpoints/exp_name=0val_loss=1.02903-epoch=207.ckpt\n",
      "2024-04-03 15:59:25,917 : INFO : epoch: 208; val_loss: 1.0290203094482422\n",
      "2024-04-03 15:59:25,921 : INFO : epoch: 208; train_loss: 0.8492825627326965\n",
      "2024-04-03 15:59:26,025 : DEBUG : open file: /Users/andrey.golda/Documents/Study/MSU_interpol/training/wandb_local_logs/MSU_interpol_by_energy/fast-bird-8/checkpoints/exp_name=0val_loss=1.02902-epoch=208.ckpt\n",
      "2024-04-03 15:59:32,751 : INFO : epoch: 209; val_loss: 1.0290168523788452\n",
      "2024-04-03 15:59:32,754 : INFO : epoch: 209; train_loss: 0.8492753505706787\n",
      "2024-04-03 15:59:32,861 : DEBUG : open file: /Users/andrey.golda/Documents/Study/MSU_interpol/training/wandb_local_logs/MSU_interpol_by_energy/fast-bird-8/checkpoints/exp_name=0val_loss=1.02902-epoch=209.ckpt\n",
      "2024-04-03 15:59:39,787 : INFO : epoch: 210; val_loss: 1.0290138721466064\n",
      "2024-04-03 15:59:39,791 : INFO : epoch: 210; train_loss: 0.8492681384086609\n"
     ]
    },
    {
     "name": "stderr",
     "output_type": "stream",
     "text": [
      "Metric val_loss improved by 0.000 >= min_delta = 1e-05. New best score: 1.029\n"
     ]
    },
    {
     "name": "stdout",
     "output_type": "stream",
     "text": [
      "2024-04-03 15:59:39,905 : DEBUG : open file: /Users/andrey.golda/Documents/Study/MSU_interpol/training/wandb_local_logs/MSU_interpol_by_energy/fast-bird-8/checkpoints/exp_name=0val_loss=1.02901-epoch=210.ckpt\n",
      "2024-04-03 15:59:46,805 : INFO : epoch: 211; val_loss: 1.0290119647979736\n",
      "2024-04-03 15:59:46,809 : INFO : epoch: 211; train_loss: 0.8492615818977356\n",
      "2024-04-03 15:59:46,915 : DEBUG : open file: /Users/andrey.golda/Documents/Study/MSU_interpol/training/wandb_local_logs/MSU_interpol_by_energy/fast-bird-8/checkpoints/exp_name=0val_loss=1.02901-epoch=211.ckpt\n",
      "2024-04-03 15:59:53,657 : INFO : epoch: 212; val_loss: 1.0290091037750244\n",
      "2024-04-03 15:59:53,660 : INFO : epoch: 212; train_loss: 0.849254846572876\n",
      "2024-04-03 15:59:53,777 : DEBUG : open file: /Users/andrey.golda/Documents/Study/MSU_interpol/training/wandb_local_logs/MSU_interpol_by_energy/fast-bird-8/checkpoints/exp_name=0val_loss=1.02901-epoch=212.ckpt\n",
      "2024-04-03 16:00:00,642 : INFO : epoch: 213; val_loss: 1.029004454612732\n",
      "2024-04-03 16:00:00,645 : INFO : epoch: 213; train_loss: 0.8492478728294373\n",
      "2024-04-03 16:00:00,750 : DEBUG : open file: /Users/andrey.golda/Documents/Study/MSU_interpol/training/wandb_local_logs/MSU_interpol_by_energy/fast-bird-8/checkpoints/exp_name=0val_loss=1.02900-epoch=213.ckpt\n",
      "2024-04-03 16:00:07,592 : INFO : epoch: 214; val_loss: 1.02900230884552\n",
      "2024-04-03 16:00:07,596 : INFO : epoch: 214; train_loss: 0.8492409586906433\n"
     ]
    },
    {
     "name": "stderr",
     "output_type": "stream",
     "text": [
      "Metric val_loss improved by 0.000 >= min_delta = 1e-05. New best score: 1.029\n"
     ]
    },
    {
     "name": "stdout",
     "output_type": "stream",
     "text": [
      "2024-04-03 16:00:07,704 : DEBUG : open file: /Users/andrey.golda/Documents/Study/MSU_interpol/training/wandb_local_logs/MSU_interpol_by_energy/fast-bird-8/checkpoints/exp_name=0val_loss=1.02900-epoch=214.ckpt\n",
      "2024-04-03 16:00:14,677 : INFO : epoch: 215; val_loss: 1.0290006399154663\n",
      "2024-04-03 16:00:14,680 : INFO : epoch: 215; train_loss: 0.8492337465286255\n",
      "2024-04-03 16:00:14,785 : DEBUG : open file: /Users/andrey.golda/Documents/Study/MSU_interpol/training/wandb_local_logs/MSU_interpol_by_energy/fast-bird-8/checkpoints/exp_name=0val_loss=1.02900-epoch=215.ckpt\n",
      "2024-04-03 16:00:21,624 : INFO : epoch: 216; val_loss: 1.0289998054504395\n",
      "2024-04-03 16:00:21,627 : INFO : epoch: 216; train_loss: 0.8492270708084106\n",
      "2024-04-03 16:00:21,735 : DEBUG : open file: /Users/andrey.golda/Documents/Study/MSU_interpol/training/wandb_local_logs/MSU_interpol_by_energy/fast-bird-8/checkpoints/exp_name=0val_loss=1.02900-epoch=216.ckpt\n",
      "2024-04-03 16:00:28,548 : INFO : epoch: 217; val_loss: 1.0289943218231201\n",
      "2024-04-03 16:00:28,552 : INFO : epoch: 217; train_loss: 0.8492202758789062\n",
      "2024-04-03 16:00:28,657 : DEBUG : open file: /Users/andrey.golda/Documents/Study/MSU_interpol/training/wandb_local_logs/MSU_interpol_by_energy/fast-bird-8/checkpoints/exp_name=0val_loss=1.02899-epoch=217.ckpt\n",
      "2024-04-03 16:00:35,482 : INFO : epoch: 218; val_loss: 1.0289946794509888\n",
      "2024-04-03 16:00:35,486 : INFO : epoch: 218; train_loss: 0.8492132425308228\n",
      "2024-04-03 16:00:35,590 : DEBUG : open file: /Users/andrey.golda/Documents/Study/MSU_interpol/training/wandb_local_logs/MSU_interpol_by_energy/fast-bird-8/checkpoints/exp_name=0val_loss=1.02899-epoch=218.ckpt\n",
      "2024-04-03 16:00:42,515 : INFO : epoch: 219; val_loss: 1.0289862155914307\n",
      "2024-04-03 16:00:42,518 : INFO : epoch: 219; train_loss: 0.8492070436477661\n"
     ]
    },
    {
     "name": "stderr",
     "output_type": "stream",
     "text": [
      "Metric val_loss improved by 0.000 >= min_delta = 1e-05. New best score: 1.029\n"
     ]
    },
    {
     "name": "stdout",
     "output_type": "stream",
     "text": [
      "2024-04-03 16:00:42,630 : DEBUG : open file: /Users/andrey.golda/Documents/Study/MSU_interpol/training/wandb_local_logs/MSU_interpol_by_energy/fast-bird-8/checkpoints/exp_name=0val_loss=1.02899-epoch=219.ckpt\n",
      "2024-04-03 16:00:49,396 : INFO : epoch: 220; val_loss: 1.028975248336792\n",
      "2024-04-03 16:00:49,399 : INFO : epoch: 220; train_loss: 0.8491130471229553\n"
     ]
    },
    {
     "name": "stderr",
     "output_type": "stream",
     "text": [
      "Metric val_loss improved by 0.000 >= min_delta = 1e-05. New best score: 1.029\n"
     ]
    },
    {
     "name": "stdout",
     "output_type": "stream",
     "text": [
      "2024-04-03 16:00:49,506 : DEBUG : open file: /Users/andrey.golda/Documents/Study/MSU_interpol/training/wandb_local_logs/MSU_interpol_by_energy/fast-bird-8/checkpoints/exp_name=0val_loss=1.02898-epoch=220.ckpt\n",
      "2024-04-03 16:00:56,193 : INFO : epoch: 221; val_loss: 1.0289579629898071\n",
      "2024-04-03 16:00:56,197 : INFO : epoch: 221; train_loss: 0.849104642868042\n"
     ]
    },
    {
     "name": "stderr",
     "output_type": "stream",
     "text": [
      "Metric val_loss improved by 0.000 >= min_delta = 1e-05. New best score: 1.029\n"
     ]
    },
    {
     "name": "stdout",
     "output_type": "stream",
     "text": [
      "2024-04-03 16:00:56,311 : DEBUG : open file: /Users/andrey.golda/Documents/Study/MSU_interpol/training/wandb_local_logs/MSU_interpol_by_energy/fast-bird-8/checkpoints/exp_name=0val_loss=1.02896-epoch=221.ckpt\n",
      "2024-04-03 16:01:03,100 : INFO : epoch: 222; val_loss: 1.0289562940597534\n",
      "2024-04-03 16:01:03,103 : INFO : epoch: 222; train_loss: 0.8490985631942749\n",
      "2024-04-03 16:01:03,207 : DEBUG : open file: /Users/andrey.golda/Documents/Study/MSU_interpol/training/wandb_local_logs/MSU_interpol_by_energy/fast-bird-8/checkpoints/exp_name=0val_loss=1.02896-epoch=222.ckpt\n",
      "2024-04-03 16:01:10,126 : INFO : epoch: 223; val_loss: 1.028952956199646\n",
      "2024-04-03 16:01:10,130 : INFO : epoch: 223; train_loss: 0.8490950465202332\n",
      "2024-04-03 16:01:10,237 : DEBUG : open file: /Users/andrey.golda/Documents/Study/MSU_interpol/training/wandb_local_logs/MSU_interpol_by_energy/fast-bird-8/checkpoints/exp_name=0val_loss=1.02895-epoch=223.ckpt\n",
      "2024-04-03 16:01:17,205 : INFO : epoch: 224; val_loss: 1.0289462804794312\n",
      "2024-04-03 16:01:17,209 : INFO : epoch: 224; train_loss: 0.8490917086601257\n"
     ]
    },
    {
     "name": "stderr",
     "output_type": "stream",
     "text": [
      "Metric val_loss improved by 0.000 >= min_delta = 1e-05. New best score: 1.029\n"
     ]
    },
    {
     "name": "stdout",
     "output_type": "stream",
     "text": [
      "2024-04-03 16:01:17,331 : DEBUG : open file: /Users/andrey.golda/Documents/Study/MSU_interpol/training/wandb_local_logs/MSU_interpol_by_energy/fast-bird-8/checkpoints/exp_name=0val_loss=1.02895-epoch=224.ckpt\n",
      "2024-04-03 16:01:24,511 : INFO : epoch: 225; val_loss: 1.0289435386657715\n",
      "2024-04-03 16:01:24,516 : INFO : epoch: 225; train_loss: 0.8490880727767944\n",
      "2024-04-03 16:01:24,627 : DEBUG : open file: /Users/andrey.golda/Documents/Study/MSU_interpol/training/wandb_local_logs/MSU_interpol_by_energy/fast-bird-8/checkpoints/exp_name=0val_loss=1.02894-epoch=225.ckpt\n",
      "2024-04-03 16:01:31,773 : INFO : epoch: 226; val_loss: 1.0289411544799805\n",
      "2024-04-03 16:01:31,776 : INFO : epoch: 226; train_loss: 0.8490846753120422\n",
      "2024-04-03 16:01:31,887 : DEBUG : open file: /Users/andrey.golda/Documents/Study/MSU_interpol/training/wandb_local_logs/MSU_interpol_by_energy/fast-bird-8/checkpoints/exp_name=0val_loss=1.02894-epoch=226.ckpt\n",
      "2024-04-03 16:01:39,134 : INFO : epoch: 227; val_loss: 1.0289385318756104\n",
      "2024-04-03 16:01:39,138 : INFO : epoch: 227; train_loss: 0.8490806818008423\n",
      "2024-04-03 16:01:39,254 : DEBUG : open file: /Users/andrey.golda/Documents/Study/MSU_interpol/training/wandb_local_logs/MSU_interpol_by_energy/fast-bird-8/checkpoints/exp_name=0val_loss=1.02894-epoch=227.ckpt\n",
      "2024-04-03 16:01:46,819 : INFO : epoch: 228; val_loss: 1.0289371013641357\n",
      "2024-04-03 16:01:46,823 : INFO : epoch: 228; train_loss: 0.8490771055221558\n",
      "2024-04-03 16:01:46,938 : DEBUG : open file: /Users/andrey.golda/Documents/Study/MSU_interpol/training/wandb_local_logs/MSU_interpol_by_energy/fast-bird-8/checkpoints/exp_name=0val_loss=1.02894-epoch=228.ckpt\n",
      "2024-04-03 16:01:54,462 : INFO : epoch: 229; val_loss: 1.0289337635040283\n",
      "2024-04-03 16:01:54,466 : INFO : epoch: 229; train_loss: 0.8490737080574036\n"
     ]
    },
    {
     "name": "stderr",
     "output_type": "stream",
     "text": [
      "Metric val_loss improved by 0.000 >= min_delta = 1e-05. New best score: 1.029\n"
     ]
    },
    {
     "name": "stdout",
     "output_type": "stream",
     "text": [
      "2024-04-03 16:01:54,588 : DEBUG : open file: /Users/andrey.golda/Documents/Study/MSU_interpol/training/wandb_local_logs/MSU_interpol_by_energy/fast-bird-8/checkpoints/exp_name=0val_loss=1.02893-epoch=229.ckpt\n",
      "2024-04-03 16:02:02,160 : INFO : epoch: 230; val_loss: 1.0289307832717896\n",
      "2024-04-03 16:02:02,165 : INFO : epoch: 230; train_loss: 0.8490698337554932\n",
      "2024-04-03 16:02:02,281 : DEBUG : open file: /Users/andrey.golda/Documents/Study/MSU_interpol/training/wandb_local_logs/MSU_interpol_by_energy/fast-bird-8/checkpoints/exp_name=0val_loss=1.02893-epoch=230.ckpt\n",
      "2024-04-03 16:02:09,897 : INFO : epoch: 231; val_loss: 1.0289300680160522\n",
      "2024-04-03 16:02:09,901 : INFO : epoch: 231; train_loss: 0.8490663766860962\n",
      "2024-04-03 16:02:10,018 : DEBUG : open file: /Users/andrey.golda/Documents/Study/MSU_interpol/training/wandb_local_logs/MSU_interpol_by_energy/fast-bird-8/checkpoints/exp_name=0val_loss=1.02893-epoch=231.ckpt\n",
      "2024-04-03 16:02:17,614 : INFO : epoch: 232; val_loss: 1.0289297103881836\n",
      "2024-04-03 16:02:17,618 : INFO : epoch: 232; train_loss: 0.8490625023841858\n",
      "2024-04-03 16:02:17,737 : DEBUG : open file: /Users/andrey.golda/Documents/Study/MSU_interpol/training/wandb_local_logs/MSU_interpol_by_energy/fast-bird-8/checkpoints/exp_name=0val_loss=1.02893-epoch=232.ckpt\n",
      "2024-04-03 16:02:25,478 : INFO : epoch: 233; val_loss: 1.0289256572723389\n",
      "2024-04-03 16:02:25,482 : INFO : epoch: 233; train_loss: 0.8490591049194336\n",
      "2024-04-03 16:02:25,599 : DEBUG : open file: /Users/andrey.golda/Documents/Study/MSU_interpol/training/wandb_local_logs/MSU_interpol_by_energy/fast-bird-8/checkpoints/exp_name=0val_loss=1.02893-epoch=233.ckpt\n",
      "2024-04-03 16:02:33,224 : INFO : epoch: 234; val_loss: 1.0289225578308105\n",
      "2024-04-03 16:02:33,228 : INFO : epoch: 234; train_loss: 0.8490552306175232\n"
     ]
    },
    {
     "name": "stderr",
     "output_type": "stream",
     "text": [
      "Metric val_loss improved by 0.000 >= min_delta = 1e-05. New best score: 1.029\n"
     ]
    },
    {
     "name": "stdout",
     "output_type": "stream",
     "text": [
      "2024-04-03 16:02:33,350 : DEBUG : open file: /Users/andrey.golda/Documents/Study/MSU_interpol/training/wandb_local_logs/MSU_interpol_by_energy/fast-bird-8/checkpoints/exp_name=0val_loss=1.02892-epoch=234.ckpt\n",
      "2024-04-03 16:02:40,657 : INFO : epoch: 235; val_loss: 1.0289169549942017\n",
      "2024-04-03 16:02:40,660 : INFO : epoch: 235; train_loss: 0.8490518927574158\n",
      "2024-04-03 16:02:40,775 : DEBUG : open file: /Users/andrey.golda/Documents/Study/MSU_interpol/training/wandb_local_logs/MSU_interpol_by_energy/fast-bird-8/checkpoints/exp_name=0val_loss=1.02892-epoch=235.ckpt\n",
      "2024-04-03 16:02:48,181 : INFO : epoch: 236; val_loss: 1.0289194583892822\n",
      "2024-04-03 16:02:48,185 : INFO : epoch: 236; train_loss: 0.8490476012229919\n",
      "2024-04-03 16:02:48,294 : DEBUG : open file: /Users/andrey.golda/Documents/Study/MSU_interpol/training/wandb_local_logs/MSU_interpol_by_energy/fast-bird-8/checkpoints/exp_name=0val_loss=1.02892-epoch=236.ckpt\n",
      "2024-04-03 16:02:55,432 : INFO : epoch: 237; val_loss: 1.028914451599121\n",
      "2024-04-03 16:02:55,436 : INFO : epoch: 237; train_loss: 0.8490008115768433\n",
      "2024-04-03 16:02:55,545 : DEBUG : open file: /Users/andrey.golda/Documents/Study/MSU_interpol/training/wandb_local_logs/MSU_interpol_by_energy/fast-bird-8/checkpoints/exp_name=0val_loss=1.02891-epoch=237.ckpt\n",
      "2024-04-03 16:03:02,366 : INFO : epoch: 238; val_loss: 1.0289065837860107\n",
      "2024-04-03 16:03:02,370 : INFO : epoch: 238; train_loss: 0.8489982485771179\n"
     ]
    },
    {
     "name": "stderr",
     "output_type": "stream",
     "text": [
      "Metric val_loss improved by 0.000 >= min_delta = 1e-05. New best score: 1.029\n"
     ]
    },
    {
     "name": "stdout",
     "output_type": "stream",
     "text": [
      "2024-04-03 16:03:02,480 : DEBUG : open file: /Users/andrey.golda/Documents/Study/MSU_interpol/training/wandb_local_logs/MSU_interpol_by_energy/fast-bird-8/checkpoints/exp_name=0val_loss=1.02891-epoch=238.ckpt\n",
      "2024-04-03 16:03:09,384 : INFO : epoch: 239; val_loss: 1.028902530670166\n",
      "2024-04-03 16:03:09,387 : INFO : epoch: 239; train_loss: 0.848995566368103\n",
      "2024-04-03 16:03:09,491 : DEBUG : open file: /Users/andrey.golda/Documents/Study/MSU_interpol/training/wandb_local_logs/MSU_interpol_by_energy/fast-bird-8/checkpoints/exp_name=0val_loss=1.02890-epoch=239.ckpt\n",
      "2024-04-03 16:03:16,131 : INFO : epoch: 240; val_loss: 1.028900384902954\n",
      "2024-04-03 16:03:16,135 : INFO : epoch: 240; train_loss: 0.8489934206008911\n",
      "2024-04-03 16:03:16,234 : DEBUG : open file: /Users/andrey.golda/Documents/Study/MSU_interpol/training/wandb_local_logs/MSU_interpol_by_energy/fast-bird-8/checkpoints/exp_name=0val_loss=1.02890-epoch=240.ckpt\n",
      "2024-04-03 16:03:22,655 : INFO : epoch: 241; val_loss: 1.0289000272750854\n",
      "2024-04-03 16:03:22,659 : INFO : epoch: 241; train_loss: 0.8489912748336792\n",
      "2024-04-03 16:03:22,759 : DEBUG : open file: /Users/andrey.golda/Documents/Study/MSU_interpol/training/wandb_local_logs/MSU_interpol_by_energy/fast-bird-8/checkpoints/exp_name=0val_loss=1.02890-epoch=241.ckpt\n",
      "2024-04-03 16:03:29,219 : INFO : epoch: 242; val_loss: 1.0288968086242676\n",
      "2024-04-03 16:03:29,222 : INFO : epoch: 242; train_loss: 0.8489896059036255\n",
      "2024-04-03 16:03:29,321 : DEBUG : open file: /Users/andrey.golda/Documents/Study/MSU_interpol/training/wandb_local_logs/MSU_interpol_by_energy/fast-bird-8/checkpoints/exp_name=0val_loss=1.02890-epoch=242.ckpt\n",
      "2024-04-03 16:03:35,684 : INFO : epoch: 243; val_loss: 1.028896689414978\n",
      "2024-04-03 16:03:35,687 : INFO : epoch: 243; train_loss: 0.8489878177642822\n",
      "2024-04-03 16:03:35,787 : DEBUG : open file: /Users/andrey.golda/Documents/Study/MSU_interpol/training/wandb_local_logs/MSU_interpol_by_energy/fast-bird-8/checkpoints/exp_name=0val_loss=1.02890-epoch=243.ckpt\n",
      "2024-04-03 16:03:42,290 : INFO : epoch: 244; val_loss: 1.028895378112793\n",
      "2024-04-03 16:03:42,293 : INFO : epoch: 244; train_loss: 0.8489858508110046\n"
     ]
    },
    {
     "name": "stderr",
     "output_type": "stream",
     "text": [
      "Metric val_loss improved by 0.000 >= min_delta = 1e-05. New best score: 1.029\n"
     ]
    },
    {
     "name": "stdout",
     "output_type": "stream",
     "text": [
      "2024-04-03 16:03:42,395 : DEBUG : open file: /Users/andrey.golda/Documents/Study/MSU_interpol/training/wandb_local_logs/MSU_interpol_by_energy/fast-bird-8/checkpoints/exp_name=0val_loss=1.02890-epoch=244.ckpt\n",
      "2024-04-03 16:03:48,909 : INFO : epoch: 245; val_loss: 1.0288947820663452\n",
      "2024-04-03 16:03:48,913 : INFO : epoch: 245; train_loss: 0.848983883857727\n",
      "2024-04-03 16:03:49,008 : DEBUG : open file: /Users/andrey.golda/Documents/Study/MSU_interpol/training/wandb_local_logs/MSU_interpol_by_energy/fast-bird-8/checkpoints/exp_name=0val_loss=1.02889-epoch=245.ckpt\n",
      "2024-04-03 16:03:55,140 : INFO : epoch: 246; val_loss: 1.0288920402526855\n",
      "2024-04-03 16:03:55,143 : INFO : epoch: 246; train_loss: 0.848982036113739\n",
      "2024-04-03 16:03:55,240 : DEBUG : open file: /Users/andrey.golda/Documents/Study/MSU_interpol/training/wandb_local_logs/MSU_interpol_by_energy/fast-bird-8/checkpoints/exp_name=0val_loss=1.02889-epoch=246.ckpt\n",
      "2024-04-03 16:04:01,354 : INFO : epoch: 247; val_loss: 1.0288915634155273\n",
      "2024-04-03 16:04:01,357 : INFO : epoch: 247; train_loss: 0.8489802479743958\n",
      "2024-04-03 16:04:01,452 : DEBUG : open file: /Users/andrey.golda/Documents/Study/MSU_interpol/training/wandb_local_logs/MSU_interpol_by_energy/fast-bird-8/checkpoints/exp_name=0val_loss=1.02889-epoch=247.ckpt\n",
      "2024-04-03 16:04:07,976 : INFO : epoch: 248; val_loss: 1.0288904905319214\n",
      "2024-04-03 16:04:07,979 : INFO : epoch: 248; train_loss: 0.8489784002304077\n",
      "2024-04-03 16:04:08,073 : DEBUG : open file: /Users/andrey.golda/Documents/Study/MSU_interpol/training/wandb_local_logs/MSU_interpol_by_energy/fast-bird-8/checkpoints/exp_name=0val_loss=1.02889-epoch=248.ckpt\n",
      "2024-04-03 16:04:14,271 : INFO : epoch: 249; val_loss: 1.028890609741211\n",
      "2024-04-03 16:04:14,275 : INFO : epoch: 249; train_loss: 0.848976194858551\n",
      "2024-04-03 16:04:14,369 : DEBUG : open file: /Users/andrey.golda/Documents/Study/MSU_interpol/training/wandb_local_logs/MSU_interpol_by_energy/fast-bird-8/checkpoints/exp_name=0val_loss=1.02889-epoch=249.ckpt\n",
      "2024-04-03 16:04:20,493 : INFO : epoch: 250; val_loss: 1.028887152671814\n",
      "2024-04-03 16:04:20,497 : INFO : epoch: 250; train_loss: 0.8489744663238525\n",
      "2024-04-03 16:04:20,590 : DEBUG : open file: /Users/andrey.golda/Documents/Study/MSU_interpol/training/wandb_local_logs/MSU_interpol_by_energy/fast-bird-8/checkpoints/exp_name=0val_loss=1.02889-epoch=250.ckpt\n",
      "2024-04-03 16:04:26,679 : INFO : epoch: 251; val_loss: 1.028885841369629\n",
      "2024-04-03 16:04:26,682 : INFO : epoch: 251; train_loss: 0.8489726185798645\n",
      "2024-04-03 16:04:26,778 : DEBUG : open file: /Users/andrey.golda/Documents/Study/MSU_interpol/training/wandb_local_logs/MSU_interpol_by_energy/fast-bird-8/checkpoints/exp_name=0val_loss=1.02889-epoch=251.ckpt\n",
      "2024-04-03 16:04:32,838 : INFO : epoch: 252; val_loss: 1.0288842916488647\n",
      "2024-04-03 16:04:32,841 : INFO : epoch: 252; train_loss: 0.8489707112312317\n"
     ]
    },
    {
     "name": "stderr",
     "output_type": "stream",
     "text": [
      "Metric val_loss improved by 0.000 >= min_delta = 1e-05. New best score: 1.029\n"
     ]
    },
    {
     "name": "stdout",
     "output_type": "stream",
     "text": [
      "2024-04-03 16:04:32,933 : DEBUG : open file: /Users/andrey.golda/Documents/Study/MSU_interpol/training/wandb_local_logs/MSU_interpol_by_energy/fast-bird-8/checkpoints/exp_name=0val_loss=1.02888-epoch=252.ckpt\n",
      "2024-04-03 16:04:38,835 : INFO : epoch: 253; val_loss: 1.0288851261138916\n",
      "2024-04-03 16:04:38,838 : INFO : epoch: 253; train_loss: 0.8489687442779541\n",
      "2024-04-03 16:04:38,929 : DEBUG : open file: /Users/andrey.golda/Documents/Study/MSU_interpol/training/wandb_local_logs/MSU_interpol_by_energy/fast-bird-8/checkpoints/exp_name=0val_loss=1.02889-epoch=253.ckpt\n",
      "2024-04-03 16:04:44,985 : INFO : epoch: 254; val_loss: 1.0288820266723633\n",
      "2024-04-03 16:04:44,988 : INFO : epoch: 254; train_loss: 0.8489446043968201\n",
      "2024-04-03 16:04:45,081 : DEBUG : open file: /Users/andrey.golda/Documents/Study/MSU_interpol/training/wandb_local_logs/MSU_interpol_by_energy/fast-bird-8/checkpoints/exp_name=0val_loss=1.02888-epoch=254.ckpt\n",
      "2024-04-03 16:04:50,947 : INFO : epoch: 255; val_loss: 1.0288796424865723\n",
      "2024-04-03 16:04:50,950 : INFO : epoch: 255; train_loss: 0.8489435911178589\n",
      "2024-04-03 16:04:51,040 : DEBUG : open file: /Users/andrey.golda/Documents/Study/MSU_interpol/training/wandb_local_logs/MSU_interpol_by_energy/fast-bird-8/checkpoints/exp_name=0val_loss=1.02888-epoch=255.ckpt\n",
      "2024-04-03 16:04:56,887 : INFO : epoch: 256; val_loss: 1.0288770198822021\n",
      "2024-04-03 16:04:56,891 : INFO : epoch: 256; train_loss: 0.8489425182342529\n",
      "2024-04-03 16:04:56,980 : DEBUG : open file: /Users/andrey.golda/Documents/Study/MSU_interpol/training/wandb_local_logs/MSU_interpol_by_energy/fast-bird-8/checkpoints/exp_name=0val_loss=1.02888-epoch=256.ckpt\n",
      "2024-04-03 16:05:02,893 : INFO : epoch: 257; val_loss: 1.0288747549057007\n",
      "2024-04-03 16:05:02,896 : INFO : epoch: 257; train_loss: 0.848941445350647\n",
      "2024-04-03 16:05:02,987 : DEBUG : open file: /Users/andrey.golda/Documents/Study/MSU_interpol/training/wandb_local_logs/MSU_interpol_by_energy/fast-bird-8/checkpoints/exp_name=0val_loss=1.02887-epoch=257.ckpt\n",
      "2024-04-03 16:05:08,863 : INFO : epoch: 258; val_loss: 1.0288739204406738\n",
      "2024-04-03 16:05:08,866 : INFO : epoch: 258; train_loss: 0.8489403128623962\n"
     ]
    },
    {
     "name": "stderr",
     "output_type": "stream",
     "text": [
      "Metric val_loss improved by 0.000 >= min_delta = 1e-05. New best score: 1.029\n"
     ]
    },
    {
     "name": "stdout",
     "output_type": "stream",
     "text": [
      "2024-04-03 16:05:08,961 : DEBUG : open file: /Users/andrey.golda/Documents/Study/MSU_interpol/training/wandb_local_logs/MSU_interpol_by_energy/fast-bird-8/checkpoints/exp_name=0val_loss=1.02887-epoch=258.ckpt\n",
      "2024-04-03 16:05:14,855 : INFO : epoch: 259; val_loss: 1.0288729667663574\n",
      "2024-04-03 16:05:14,859 : INFO : epoch: 259; train_loss: 0.8489392995834351\n",
      "2024-04-03 16:05:14,954 : DEBUG : open file: /Users/andrey.golda/Documents/Study/MSU_interpol/training/wandb_local_logs/MSU_interpol_by_energy/fast-bird-8/checkpoints/exp_name=0val_loss=1.02887-epoch=259.ckpt\n",
      "2024-04-03 16:05:21,226 : INFO : epoch: 260; val_loss: 1.0288729667663574\n",
      "2024-04-03 16:05:21,229 : INFO : epoch: 260; train_loss: 0.8489383459091187\n",
      "2024-04-03 16:05:21,325 : DEBUG : open file: /Users/andrey.golda/Documents/Study/MSU_interpol/training/wandb_local_logs/MSU_interpol_by_energy/fast-bird-8/checkpoints/exp_name=0val_loss=1.02887-epoch=260.ckpt\n",
      "2024-04-03 16:05:27,459 : INFO : epoch: 261; val_loss: 1.0288726091384888\n",
      "2024-04-03 16:05:27,462 : INFO : epoch: 261; train_loss: 0.8489373922348022\n",
      "2024-04-03 16:05:27,560 : DEBUG : open file: /Users/andrey.golda/Documents/Study/MSU_interpol/training/wandb_local_logs/MSU_interpol_by_energy/fast-bird-8/checkpoints/exp_name=0val_loss=1.02887-epoch=261.ckpt\n",
      "2024-04-03 16:05:33,650 : INFO : epoch: 262; val_loss: 1.0288714170455933\n",
      "2024-04-03 16:05:33,654 : INFO : epoch: 262; train_loss: 0.8489364385604858\n",
      "2024-04-03 16:05:33,749 : DEBUG : open file: /Users/andrey.golda/Documents/Study/MSU_interpol/training/wandb_local_logs/MSU_interpol_by_energy/fast-bird-8/checkpoints/exp_name=0val_loss=1.02887-epoch=262.ckpt\n",
      "2024-04-03 16:05:39,874 : INFO : epoch: 263; val_loss: 1.0288716554641724\n",
      "2024-04-03 16:05:39,877 : INFO : epoch: 263; train_loss: 0.8489354252815247\n",
      "2024-04-03 16:05:39,972 : DEBUG : open file: /Users/andrey.golda/Documents/Study/MSU_interpol/training/wandb_local_logs/MSU_interpol_by_energy/fast-bird-8/checkpoints/exp_name=0val_loss=1.02887-epoch=263.ckpt\n",
      "2024-04-03 16:05:46,192 : INFO : epoch: 264; val_loss: 1.0288721323013306\n",
      "2024-04-03 16:05:46,195 : INFO : epoch: 264; train_loss: 0.8489343523979187\n",
      "2024-04-03 16:05:46,289 : DEBUG : open file: /Users/andrey.golda/Documents/Study/MSU_interpol/training/wandb_local_logs/MSU_interpol_by_energy/fast-bird-8/checkpoints/exp_name=0val_loss=1.02887-epoch=264.ckpt\n",
      "2024-04-03 16:05:52,388 : INFO : epoch: 265; val_loss: 1.0288711786270142\n",
      "2024-04-03 16:05:52,391 : INFO : epoch: 265; train_loss: 0.8489334583282471\n",
      "2024-04-03 16:05:52,488 : DEBUG : open file: /Users/andrey.golda/Documents/Study/MSU_interpol/training/wandb_local_logs/MSU_interpol_by_energy/fast-bird-8/checkpoints/exp_name=0val_loss=1.02887-epoch=265.ckpt\n",
      "2024-04-03 16:05:58,610 : INFO : epoch: 266; val_loss: 1.0288701057434082\n",
      "2024-04-03 16:05:58,613 : INFO : epoch: 266; train_loss: 0.848932683467865\n",
      "2024-04-03 16:05:58,711 : DEBUG : open file: /Users/andrey.golda/Documents/Study/MSU_interpol/training/wandb_local_logs/MSU_interpol_by_energy/fast-bird-8/checkpoints/exp_name=0val_loss=1.02887-epoch=266.ckpt\n",
      "2024-04-03 16:06:04,776 : INFO : epoch: 267; val_loss: 1.028870701789856\n",
      "2024-04-03 16:06:04,779 : INFO : epoch: 267; train_loss: 0.8489316701889038\n",
      "2024-04-03 16:06:04,873 : DEBUG : open file: /Users/andrey.golda/Documents/Study/MSU_interpol/training/wandb_local_logs/MSU_interpol_by_energy/fast-bird-8/checkpoints/exp_name=0val_loss=1.02887-epoch=267.ckpt\n",
      "2024-04-03 16:06:10,935 : INFO : epoch: 268; val_loss: 1.028870701789856\n",
      "2024-04-03 16:06:10,938 : INFO : epoch: 268; train_loss: 0.8489306569099426\n",
      "2024-04-03 16:06:11,033 : DEBUG : open file: /Users/andrey.golda/Documents/Study/MSU_interpol/training/wandb_local_logs/MSU_interpol_by_energy/fast-bird-8/checkpoints/exp_name=0val_loss=1.02887-epoch=268.ckpt\n",
      "2024-04-03 16:06:17,200 : INFO : epoch: 269; val_loss: 1.0288703441619873\n",
      "2024-04-03 16:06:17,203 : INFO : epoch: 269; train_loss: 0.848929762840271\n",
      "2024-04-03 16:06:17,297 : DEBUG : open file: /Users/andrey.golda/Documents/Study/MSU_interpol/training/wandb_local_logs/MSU_interpol_by_energy/fast-bird-8/checkpoints/exp_name=0val_loss=1.02887-epoch=269.ckpt\n",
      "2024-04-03 16:06:23,366 : INFO : epoch: 270; val_loss: 1.0288712978363037\n",
      "2024-04-03 16:06:23,369 : INFO : epoch: 270; train_loss: 0.8489287495613098\n",
      "2024-04-03 16:06:29,492 : INFO : epoch: 271; val_loss: 1.0288702249526978\n",
      "2024-04-03 16:06:29,496 : INFO : epoch: 271; train_loss: 0.8489277958869934\n",
      "2024-04-03 16:06:29,590 : DEBUG : open file: /Users/andrey.golda/Documents/Study/MSU_interpol/training/wandb_local_logs/MSU_interpol_by_energy/fast-bird-8/checkpoints/exp_name=0val_loss=1.02887-epoch=271.ckpt\n",
      "2024-04-03 16:06:35,722 : INFO : epoch: 272; val_loss: 1.0288684368133545\n",
      "2024-04-03 16:06:35,726 : INFO : epoch: 272; train_loss: 0.8489151000976562\n",
      "2024-04-03 16:06:35,823 : DEBUG : open file: /Users/andrey.golda/Documents/Study/MSU_interpol/training/wandb_local_logs/MSU_interpol_by_energy/fast-bird-8/checkpoints/exp_name=0val_loss=1.02887-epoch=272.ckpt\n",
      "2024-04-03 16:06:42,003 : INFO : epoch: 273; val_loss: 1.0288679599761963\n",
      "2024-04-03 16:06:42,007 : INFO : epoch: 273; train_loss: 0.8489146828651428\n",
      "2024-04-03 16:06:42,109 : DEBUG : open file: /Users/andrey.golda/Documents/Study/MSU_interpol/training/wandb_local_logs/MSU_interpol_by_energy/fast-bird-8/checkpoints/exp_name=0val_loss=1.02887-epoch=273.ckpt\n",
      "2024-04-03 16:06:48,299 : INFO : epoch: 274; val_loss: 1.028865933418274\n",
      "2024-04-03 16:06:48,302 : INFO : epoch: 274; train_loss: 0.8489142060279846\n",
      "2024-04-03 16:06:48,398 : DEBUG : open file: /Users/andrey.golda/Documents/Study/MSU_interpol/training/wandb_local_logs/MSU_interpol_by_energy/fast-bird-8/checkpoints/exp_name=0val_loss=1.02887-epoch=274.ckpt\n",
      "2024-04-03 16:06:54,492 : INFO : epoch: 275; val_loss: 1.0288652181625366\n",
      "2024-04-03 16:06:54,495 : INFO : epoch: 275; train_loss: 0.8489136099815369\n",
      "2024-04-03 16:06:54,593 : DEBUG : open file: /Users/andrey.golda/Documents/Study/MSU_interpol/training/wandb_local_logs/MSU_interpol_by_energy/fast-bird-8/checkpoints/exp_name=0val_loss=1.02887-epoch=275.ckpt\n",
      "2024-04-03 16:07:00,748 : INFO : epoch: 276; val_loss: 1.0288649797439575\n",
      "2024-04-03 16:07:00,751 : INFO : epoch: 276; train_loss: 0.8489131331443787\n",
      "2024-04-03 16:07:00,845 : DEBUG : open file: /Users/andrey.golda/Documents/Study/MSU_interpol/training/wandb_local_logs/MSU_interpol_by_energy/fast-bird-8/checkpoints/exp_name=0val_loss=1.02886-epoch=276.ckpt\n",
      "2024-04-03 16:07:06,941 : INFO : epoch: 277; val_loss: 1.028864860534668\n",
      "2024-04-03 16:07:06,944 : INFO : epoch: 277; train_loss: 0.8489125370979309\n",
      "2024-04-03 16:07:07,039 : DEBUG : open file: /Users/andrey.golda/Documents/Study/MSU_interpol/training/wandb_local_logs/MSU_interpol_by_energy/fast-bird-8/checkpoints/exp_name=0val_loss=1.02886-epoch=277.ckpt\n",
      "2024-04-03 16:07:12,919 : INFO : epoch: 278; val_loss: 1.0288643836975098\n",
      "2024-04-03 16:07:12,922 : INFO : epoch: 278; train_loss: 0.8489121794700623\n"
     ]
    },
    {
     "name": "stderr",
     "output_type": "stream",
     "text": [
      "Monitored metric val_loss did not improve in the last 20 records. Best score: 1.029. Signaling Trainer to stop.\n"
     ]
    },
    {
     "name": "stdout",
     "output_type": "stream",
     "text": [
      "2024-04-03 16:07:13,015 : DEBUG : open file: /Users/andrey.golda/Documents/Study/MSU_interpol/training/wandb_local_logs/MSU_interpol_by_energy/fast-bird-8/checkpoints/exp_name=0val_loss=1.02886-epoch=278.ckpt\n",
      "2024-04-03 16:07:13,065 : INFO : Training is ending\n"
     ]
    }
   ],
   "source": [
    "data_module = InterpolDataModule(hyperparams=hyperparams_dict)\n",
    "model = InterpolRegressor(hyperparams=hyperparams_dict)\n",
    "# model = InterpolRegressor.load_from_checkpoint(f'./wandb_local_logs/MSU_interpol/blooming-plasma-40/checkpoints/exp_name=0val_loss=6.43574-epoch=14.ckpt', hyperparams=hyperparams_dict)\n",
    "\n",
    "trainer = pl.Trainer(max_epochs=hyperparams_dict.get('max_epochs'),\n",
    "                     accelerator='cpu',\n",
    "                     logger=wandb_logger,\n",
    "                     enable_progress_bar=False)\n",
    "trainer.fit(model, data_module)"
   ]
  },
  {
   "cell_type": "code",
   "execution_count": 14,
   "id": "9f33d989",
   "metadata": {
    "scrolled": false,
    "ExecuteTime": {
     "end_time": "2024-04-03T15:07:22.482716Z",
     "start_time": "2024-04-03T15:07:13.084530Z"
    }
   },
   "outputs": [
    {
     "data": {
      "text/plain": "VBox(children=(Label(value='0.001 MB of 0.001 MB uploaded\\r'), FloatProgress(value=1.0, max=1.0)))",
      "application/vnd.jupyter.widget-view+json": {
       "version_major": 2,
       "version_minor": 0,
       "model_id": "d44f8b6c8b1b480783bd171218531e97"
      }
     },
     "metadata": {},
     "output_type": "display_data"
    },
    {
     "data": {
      "text/plain": "<IPython.core.display.HTML object>",
      "text/html": "<style>\n    table.wandb td:nth-child(1) { padding: 0 10px; text-align: left ; width: auto;} td:nth-child(2) {text-align: left ; width: 100%}\n    .wandb-row { display: flex; flex-direction: row; flex-wrap: wrap; justify-content: flex-start; width: 100% }\n    .wandb-col { display: flex; flex-direction: column; flex-basis: 100%; flex: 1; padding: 10px; }\n    </style>\n<div class=\"wandb-row\"><div class=\"wandb-col\"><h3>Run history:</h3><br/><table class=\"wandb\"><tr><td>epoch</td><td>▁▁▁▂▂▂▂▂▂▃▃▃▃▃▃▄▄▄▄▄▅▅▅▅▅▅▆▆▆▆▆▇▇▇▇▇▇███</td></tr><tr><td>lr_scheduler_monitoring</td><td>█████▄▄▃▃▃▂▂▁▁▁▁▁▁▁▁▁▁▁▁▁▁▁▁▁▁▁▁▁▁▁▁▁▁▁▁</td></tr><tr><td>train_loss</td><td>█▇▃▂▂▂▂▁▁▁▁▁▁▁▁▁▁▁▁▁▁▁▁▁▁▁▁▁▁▁▁▁▁▁▁▁▁▁▁▁</td></tr><tr><td>train_mae</td><td>█▆▃▂▂▂▂▁▁▁▁▁▁▁▁▁▁▁▁▁▁▁▁▁▁▁▁▁▁▁▁▁▁▁▁▁▁▁▁▁</td></tr><tr><td>trainer/global_step</td><td>▁▁▁▁▂▂▂▂▂▃▃▃▃▃▃▄▄▄▄▄▅▅▅▅▅▅▆▆▆▆▆▇▇▇▇▇▇███</td></tr><tr><td>val_loss</td><td>█▇▄▂▂▂▁▁▁▁▁▁▁▁▁▁▁▁▁▁▁▁▁▁▁▁▁▁▁▁▁▁▁▁▁▁▁▁▁▁</td></tr><tr><td>val_mae</td><td>█▇▄▂▂▂▁▁▁▁▁▁▁▁▁▁▁▁▁▁▁▁▁▁▁▁▁▁▁▁▁▁▁▁▁▁▁▁▁▁</td></tr></table><br/></div><div class=\"wandb-col\"><h3>Run summary:</h3><br/><table class=\"wandb\"><tr><td>epoch</td><td>278</td></tr><tr><td>lr_scheduler_monitoring</td><td>0.0</td></tr><tr><td>train_loss</td><td>0.84891</td></tr><tr><td>train_mae</td><td>0.6801</td></tr><tr><td>trainer/global_step</td><td>8369</td></tr><tr><td>val_loss</td><td>1.02886</td></tr><tr><td>val_mae</td><td>0.81213</td></tr></table><br/></div></div>"
     },
     "metadata": {},
     "output_type": "display_data"
    },
    {
     "data": {
      "text/plain": "<IPython.core.display.HTML object>",
      "text/html": " View run <strong style=\"color:#cdcd00\">fast-bird-8</strong> at: <a href='https://wandb.ai/msu_ai/msu_interpol_by_energy/runs/y5a6lm51' target=\"_blank\">https://wandb.ai/msu_ai/msu_interpol_by_energy/runs/y5a6lm51</a><br/> View job at <a href='https://wandb.ai/msu_ai/msu_interpol_by_energy/jobs/QXJ0aWZhY3RDb2xsZWN0aW9uOjE1MzcyODQzNg==/version_details/v1' target=\"_blank\">https://wandb.ai/msu_ai/msu_interpol_by_energy/jobs/QXJ0aWZhY3RDb2xsZWN0aW9uOjE1MzcyODQzNg==/version_details/v1</a><br/>Synced 5 W&B file(s), 0 media file(s), 0 artifact file(s) and 0 other file(s)"
     },
     "metadata": {},
     "output_type": "display_data"
    },
    {
     "data": {
      "text/plain": "<IPython.core.display.HTML object>",
      "text/html": "Find logs at: <code>./wandb_local_logs/wandb/run-20240403_153016-y5a6lm51/logs</code>"
     },
     "metadata": {},
     "output_type": "display_data"
    },
    {
     "name": "stdout",
     "output_type": "stream",
     "text": [
      "2024-04-03 16:07:21,978 : DEBUG : Starting new HTTPS connection (1): o151352.ingest.sentry.io:443\n",
      "2024-04-03 16:07:22,085 : DEBUG : Incremented Retry for (url='/api/4504800232407040/envelope/'): Retry(total=2, connect=None, read=None, redirect=None, status=None)\n",
      "2024-04-03 16:07:22,087 : WARNING : Retrying (Retry(total=2, connect=None, read=None, redirect=None, status=None)) after connection broken by 'SSLError(SSLCertVerificationError(1, '[SSL: CERTIFICATE_VERIFY_FAILED] certificate verify failed: self-signed certificate in certificate chain (_ssl.c:1002)'))': /api/4504800232407040/envelope/\n",
      "2024-04-03 16:07:22,088 : DEBUG : Starting new HTTPS connection (2): o151352.ingest.sentry.io:443\n",
      "2024-04-03 16:07:22,163 : DEBUG : Incremented Retry for (url='/api/4504800232407040/envelope/'): Retry(total=1, connect=None, read=None, redirect=None, status=None)\n",
      "2024-04-03 16:07:22,164 : WARNING : Retrying (Retry(total=1, connect=None, read=None, redirect=None, status=None)) after connection broken by 'SSLError(SSLCertVerificationError(1, '[SSL: CERTIFICATE_VERIFY_FAILED] certificate verify failed: self-signed certificate in certificate chain (_ssl.c:1002)'))': /api/4504800232407040/envelope/\n",
      "2024-04-03 16:07:22,165 : DEBUG : Starting new HTTPS connection (3): o151352.ingest.sentry.io:443\n",
      "2024-04-03 16:07:22,216 : DEBUG : Incremented Retry for (url='/api/4504800232407040/envelope/'): Retry(total=0, connect=None, read=None, redirect=None, status=None)\n",
      "2024-04-03 16:07:22,217 : WARNING : Retrying (Retry(total=0, connect=None, read=None, redirect=None, status=None)) after connection broken by 'SSLError(SSLCertVerificationError(1, '[SSL: CERTIFICATE_VERIFY_FAILED] certificate verify failed: self-signed certificate in certificate chain (_ssl.c:1002)'))': /api/4504800232407040/envelope/\n",
      "2024-04-03 16:07:22,219 : DEBUG : Starting new HTTPS connection (4): o151352.ingest.sentry.io:443\n",
      "2024-04-03 16:07:22,272 : DEBUG : Starting new HTTPS connection (5): o151352.ingest.sentry.io:443\n",
      "2024-04-03 16:07:22,320 : DEBUG : Incremented Retry for (url='/api/4504800232407040/envelope/'): Retry(total=2, connect=None, read=None, redirect=None, status=None)\n",
      "2024-04-03 16:07:22,321 : WARNING : Retrying (Retry(total=2, connect=None, read=None, redirect=None, status=None)) after connection broken by 'SSLError(SSLCertVerificationError(1, '[SSL: CERTIFICATE_VERIFY_FAILED] certificate verify failed: self-signed certificate in certificate chain (_ssl.c:1002)'))': /api/4504800232407040/envelope/\n",
      "2024-04-03 16:07:22,321 : DEBUG : Starting new HTTPS connection (6): o151352.ingest.sentry.io:443\n",
      "2024-04-03 16:07:22,374 : DEBUG : Incremented Retry for (url='/api/4504800232407040/envelope/'): Retry(total=1, connect=None, read=None, redirect=None, status=None)\n",
      "2024-04-03 16:07:22,375 : WARNING : Retrying (Retry(total=1, connect=None, read=None, redirect=None, status=None)) after connection broken by 'SSLError(SSLCertVerificationError(1, '[SSL: CERTIFICATE_VERIFY_FAILED] certificate verify failed: self-signed certificate in certificate chain (_ssl.c:1002)'))': /api/4504800232407040/envelope/\n",
      "2024-04-03 16:07:22,376 : DEBUG : Starting new HTTPS connection (7): o151352.ingest.sentry.io:443\n",
      "2024-04-03 16:07:22,426 : DEBUG : Incremented Retry for (url='/api/4504800232407040/envelope/'): Retry(total=0, connect=None, read=None, redirect=None, status=None)\n",
      "2024-04-03 16:07:22,427 : WARNING : Retrying (Retry(total=0, connect=None, read=None, redirect=None, status=None)) after connection broken by 'SSLError(SSLCertVerificationError(1, '[SSL: CERTIFICATE_VERIFY_FAILED] certificate verify failed: self-signed certificate in certificate chain (_ssl.c:1002)'))': /api/4504800232407040/envelope/\n",
      "2024-04-03 16:07:22,428 : DEBUG : Starting new HTTPS connection (8): o151352.ingest.sentry.io:443\n"
     ]
    }
   ],
   "source": [
    "wandb.finish()"
   ]
  },
  {
   "cell_type": "code",
   "execution_count": 51,
   "outputs": [],
   "source": [],
   "metadata": {
    "collapsed": false,
    "ExecuteTime": {
     "end_time": "2024-03-07T11:31:33.016950Z",
     "start_time": "2024-03-07T11:31:33.013710Z"
    }
   },
   "id": "6d7dca4fe26ec626"
  }
 ],
 "metadata": {
  "kernelspec": {
   "display_name": "Python 3",
   "language": "python",
   "name": "python3"
  },
  "language_info": {
   "codemirror_mode": {
    "name": "ipython",
    "version": 3
   },
   "file_extension": ".py",
   "mimetype": "text/x-python",
   "name": "python",
   "nbconvert_exporter": "python",
   "pygments_lexer": "ipython3",
   "version": "3.9.0"
  }
 },
 "nbformat": 4,
 "nbformat_minor": 5
}
