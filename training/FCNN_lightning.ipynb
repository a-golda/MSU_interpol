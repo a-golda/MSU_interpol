{
 "cells": [
  {
   "cell_type": "code",
   "execution_count": 23,
   "id": "8ce34e31",
   "metadata": {
    "code_folding": [],
    "ExecuteTime": {
     "end_time": "2024-02-04T11:58:59.740783Z",
     "start_time": "2024-02-04T11:58:59.735270Z"
    }
   },
   "outputs": [],
   "source": [
    "import os\n",
    "import sys\n",
    "import math\n",
    "import tqdm\n",
    "import wandb\n",
    "import torch\n",
    "import logging\n",
    "\n",
    "import numpy as np\n",
    "import pandas as pd\n",
    "import torch.nn as nn\n",
    "import lightning.pytorch as pl\n",
    "\n",
    "from torchmetrics import MeanAbsoluteError\n",
    "from sklearn.metrics import mean_squared_error\n",
    "from torch.utils.data import Dataset, DataLoader\n",
    "from sklearn.preprocessing import StandardScaler\n",
    "from lightning.pytorch.loggers import WandbLogger\n",
    "from sklearn.model_selection import train_test_split\n",
    "from torch.optim.lr_scheduler import ReduceLROnPlateau\n",
    "from lightning.pytorch.callbacks.early_stopping import EarlyStopping\n",
    "from lightning.pytorch.callbacks import Callback, LearningRateMonitor, ModelCheckpoint"
   ]
  },
  {
   "cell_type": "code",
   "execution_count": 25,
   "outputs": [
    {
     "data": {
      "text/plain": "True"
     },
     "execution_count": 25,
     "metadata": {},
     "output_type": "execute_result"
    }
   ],
   "source": [
    "wandb.login()"
   ],
   "metadata": {
    "collapsed": false,
    "ExecuteTime": {
     "end_time": "2024-02-04T11:59:06.614531Z",
     "start_time": "2024-02-04T11:59:06.598152Z"
    }
   }
  },
  {
   "cell_type": "markdown",
   "id": "94402bc9",
   "metadata": {
    "ExecuteTime": {
     "end_time": "2024-01-25T23:58:44.971727Z",
     "start_time": "2024-01-25T23:58:41.434963Z"
    }
   },
   "source": [
    "# FCNN"
   ],
   "outputs": [
    {
     "name": "stdout",
     "output_type": "stream",
     "text": [
      "\u001B[34m\u001B[1mwandb\u001B[0m: Logging into wandb.ai. (Learn how to deploy a W&B server locally: https://wandb.me/wandb-server)\r\n",
      "\u001B[34m\u001B[1mwandb\u001B[0m: You can find your API key in your browser here: https://wandb.ai/authorize\r\n",
      "\u001B[34m\u001B[1mwandb\u001B[0m: Paste an API key from your profile and hit enter, or press ctrl+c to quit: \r\n",
      "Aborted!\r\n"
     ]
    }
   ],
   "execution_count": 12
  },
  {
   "cell_type": "code",
   "execution_count": 17,
   "outputs": [],
   "source": [
    "class RMSELoss(torch.nn.Module):\n",
    "    def __init__(self):\n",
    "        super(RMSELoss,self).__init__()\n",
    "\n",
    "    def forward(self,x,y,w):\n",
    "        criterion = nn.MSELoss()\n",
    "        loss = torch.sqrt(criterion(x, y))*w\n",
    "        return loss.mean()"
   ],
   "metadata": {
    "collapsed": false,
    "ExecuteTime": {
     "end_time": "2024-02-04T00:05:16.361153Z",
     "start_time": "2024-02-04T00:05:16.345167Z"
    }
   }
  },
  {
   "cell_type": "code",
   "execution_count": 18,
   "id": "192e02bf",
   "metadata": {
    "code_folding": [],
    "ExecuteTime": {
     "end_time": "2024-02-04T00:05:19.142760Z",
     "start_time": "2024-02-04T00:05:19.137625Z"
    }
   },
   "outputs": [],
   "source": [
    "#params\n",
    "project_name = \"MSU_interpol\"\n",
    "\n",
    "logger_path = './wandb_local_logs'\n",
    "data_path = '../data/clasdb_pi_plus_n.txt'\n",
    "\n",
    "hyperparams_dict = {\n",
    "    'scale_data': False,\n",
    "    'augment': True,\n",
    "    'augment_factor': 20,\n",
    "    'test_size': 0.1,\n",
    "    'batch_size': 256,\n",
    "    'net_architecture': [5,60,80,100,120,140,240,340,440,640,2000,1040,640,340,240,140,100,80,60,20,1],\n",
    "    'activation_function': nn.ReLU(),\n",
    "    'loss_func': RMSELoss(),\n",
    "    'optim_func': torch.optim.Adam,\n",
    "    'max_epochs': 2000,\n",
    "    'es_min_delta': 0.00001,\n",
    "    'es_patience': 20,\n",
    "    'lr': 0.001,\n",
    "    'lr_factor':0.5,\n",
    "    'lr_patience': 5,\n",
    "    'lr_cooldown': 20,\n",
    "}"
   ]
  },
  {
   "cell_type": "code",
   "execution_count": 19,
   "outputs": [
    {
     "name": "stdout",
     "output_type": "stream",
     "text": [
      "2024-02-04 00:05:20,116 : DEBUG : Popen(['git', 'cat-file', '--batch-check'], cwd=/Users/andrey.golda/Documents/Study/MSU_interpol, stdin=<valid stream>, shell=False, universal_newlines=False)\n"
     ]
    },
    {
     "data": {
      "text/plain": "VBox(children=(Label(value='Waiting for wandb.init()...\\r'), FloatProgress(value=0.011121332411130424, max=1.0…",
      "application/vnd.jupyter.widget-view+json": {
       "version_major": 2,
       "version_minor": 0,
       "model_id": "5ad30002436448f4a25b0f58290eb6b9"
      }
     },
     "metadata": {},
     "output_type": "display_data"
    },
    {
     "data": {
      "text/plain": "<IPython.core.display.HTML object>",
      "text/html": "Tracking run with wandb version 0.16.2"
     },
     "metadata": {},
     "output_type": "display_data"
    },
    {
     "data": {
      "text/plain": "<IPython.core.display.HTML object>",
      "text/html": "Run data is saved locally in <code>./wandb_local_logs/wandb/run-20240204_000520-c4akcho3</code>"
     },
     "metadata": {},
     "output_type": "display_data"
    },
    {
     "data": {
      "text/plain": "<IPython.core.display.HTML object>",
      "text/html": "Syncing run <strong><a href='https://wandb.ai/msu_ai/msu_interpol/runs/c4akcho3' target=\"_blank\">spring-feather-42</a></strong> to <a href='https://wandb.ai/msu_ai/msu_interpol' target=\"_blank\">Weights & Biases</a> (<a href='https://wandb.me/run' target=\"_blank\">docs</a>)<br/>"
     },
     "metadata": {},
     "output_type": "display_data"
    },
    {
     "data": {
      "text/plain": "<IPython.core.display.HTML object>",
      "text/html": " View project at <a href='https://wandb.ai/msu_ai/msu_interpol' target=\"_blank\">https://wandb.ai/msu_ai/msu_interpol</a>"
     },
     "metadata": {},
     "output_type": "display_data"
    },
    {
     "data": {
      "text/plain": "<IPython.core.display.HTML object>",
      "text/html": " View run at <a href='https://wandb.ai/msu_ai/msu_interpol/runs/c4akcho3' target=\"_blank\">https://wandb.ai/msu_ai/msu_interpol/runs/c4akcho3</a>"
     },
     "metadata": {},
     "output_type": "display_data"
    }
   ],
   "source": [
    "wandb_logger = WandbLogger(project=project_name,\n",
    "                           save_dir=logger_path)\n",
    "exp_name = wandb_logger.experiment.name\n",
    "\n",
    "logger_full_path = os.path.join(logger_path, project_name, exp_name)\n",
    "\n",
    "os.makedirs(logger_full_path, exist_ok=True)\n",
    "logging.basicConfig(encoding='utf-8',\n",
    "                    level=logging.DEBUG,\n",
    "                    format='%(asctime)s : %(levelname)s : %(message)s',\n",
    "                    handlers=[logging.FileHandler(os.path.join(logger_full_path, 'logs.log'), mode='w'),\n",
    "                              logging.StreamHandler(sys.stdout)],\n",
    "                    force=True)"
   ],
   "metadata": {
    "collapsed": false,
    "ExecuteTime": {
     "end_time": "2024-02-04T00:05:21.627772Z",
     "start_time": "2024-02-04T00:05:20.035034Z"
    }
   }
  },
  {
   "cell_type": "code",
   "execution_count": 20,
   "id": "1a4c8bf4",
   "metadata": {
    "code_folding": [
     0,
     14,
     57
    ],
    "ExecuteTime": {
     "end_time": "2024-02-04T00:05:25.015324Z",
     "start_time": "2024-02-04T00:05:24.987114Z"
    }
   },
   "outputs": [],
   "source": [
    "class InterpolDataSet(Dataset):\n",
    "    def __init__(self, features, labels, weights):\n",
    "        self.features = features\n",
    "        self.labels = labels\n",
    "        self.weights = weights\n",
    "        self.len = len(labels)\n",
    "\n",
    "    def __getitem__(self, index):\n",
    "        feature = self.features[index]\n",
    "        label = self.labels[index]\n",
    "        weights = self.weights[index]\n",
    "        return feature, label, weights\n",
    "\n",
    "    def __len__(self):\n",
    "        return self.len\n",
    "\n",
    "class InterpolDataModule(pl.LightningDataModule):\n",
    "    def __init__(self, hyperparams):\n",
    "        super().__init__()\n",
    "        self.df = None\n",
    "        self.hyperparams = hyperparams\n",
    "        self.train_dataset = None\n",
    "        self.val_dataset = None\n",
    "\n",
    "    def augment(self, new_augm):\n",
    "        augm = pd.Series({'Ebeam': np.random.normal(loc=new_augm.Ebeam, scale=new_augm.Ebeam/30),\n",
    "                           'W': np.random.normal(loc=new_augm.W, scale=new_augm.W/30),\n",
    "                           'Q2': np.random.normal(loc=new_augm.Q2, scale=new_augm.Q2/30),\n",
    "                           'cos_theta': np.clip(np.random.normal(loc=new_augm.cos_theta, scale=abs(new_augm.cos_theta/30)), -1, 1),\n",
    "                           'phi': np.clip(np.random.normal(loc=new_augm.phi, scale=new_augm.phi/30), 0, 2*np.pi),\n",
    "                           'dsigma_dOmega': np.random.normal(loc=new_augm.dsigma_dOmega, scale=new_augm.error/3),\n",
    "                           'error': new_augm.error,\n",
    "                           'weight': new_augm.weight,\n",
    "                          })\n",
    "        return augm\n",
    "    \n",
    "    def setup(self, stage):\n",
    "        # data reading and preprocessing\n",
    "        df = pd.read_csv(data_path, delimiter='\\t', header=None)\n",
    "        df.columns = ['Ebeam', 'W', 'Q2', 'cos_theta', 'phi', 'dsigma_dOmega', 'error', 'id']\n",
    "        df.loc[8314:65671, 'Ebeam'] = 5.754 # peculiarity of this dataset.\n",
    "        df['phi'] = df.phi.apply(lambda x: math.radians(x))\n",
    "        df['weight'] = df['error'].apply(lambda x: x and 1 / x or 100) # x and 1 / x or 100  is just a reversed error but with validation 1/0 error in this case it will return 100\n",
    "        df = df.drop('id', axis=1)\n",
    "        df = df.iloc[df[['Ebeam', 'W', 'Q2', 'cos_theta', 'phi']].drop_duplicates().index]\n",
    "\n",
    "        #train test split\n",
    "        feature_columns = ['Ebeam', 'W', 'Q2', 'cos_theta', 'phi']\n",
    "        feature_columns_with_weights = ['Ebeam', 'W', 'Q2', 'cos_theta', 'phi', 'weight']\n",
    "\n",
    "        feature_data = df[feature_columns_with_weights]\n",
    "        label_data = df['dsigma_dOmega']\n",
    "        \n",
    "        if self.hyperparams.get('scale_data'):\n",
    "            scaler_feature = StandardScaler()\n",
    "            scaler_target = StandardScaler()\n",
    "            feature_data = scaler_feature.fit_transform(feature_data)\n",
    "            label_data = scaler_target.fit_transform(label_data.values.reshape(-1,1))\n",
    "        else:\n",
    "            pass\n",
    "\n",
    "        if self.hyperparams.get('augment'):\n",
    "            aug_series_list = []\n",
    "            for i in tqdm.tqdm(df.itertuples()):\n",
    "                for _ in range(self.hyperparams.get('augment_factor')):\n",
    "                    aug_series_list.append(self.augment(i))\n",
    "\n",
    "            aug_df = pd.DataFrame(aug_series_list)\n",
    "            df = pd.concat([df, aug_df])\n",
    "        else:\n",
    "            pass\n",
    "\n",
    "        self.df = df\n",
    "        \n",
    "        train_feature_data, val_feature_data, train_label_data, val_label_data = train_test_split(feature_data,\n",
    "                                                                                                  label_data,\n",
    "                                                                                                  test_size=self.hyperparams.get('test_size'),\n",
    "                                                                                                  random_state=1438)\n",
    "        \n",
    "        \n",
    "        self.train_dataset = InterpolDataSet(torch.tensor(train_feature_data[feature_columns].values, dtype=torch.float32),\n",
    "                                             torch.tensor(train_label_data.values, dtype=torch.float32),\n",
    "                                             torch.tensor(train_feature_data['weight'].values, dtype=torch.float32))\n",
    "        \n",
    "        self.val_dataset = InterpolDataSet(torch.tensor(val_feature_data[feature_columns].values, dtype=torch.float32),\n",
    "                                           torch.tensor(val_label_data.values, dtype=torch.float32),\n",
    "                                           torch.tensor(val_feature_data['weight'].values, dtype=torch.float32))\n",
    "    def train_dataloader(self):\n",
    "        return DataLoader(dataset = self.train_dataset, batch_size = self.hyperparams.get('batch_size'), shuffle = False, num_workers=0)\n",
    "\n",
    "    def val_dataloader(self):\n",
    "        return DataLoader(dataset = self.val_dataset, batch_size = self.hyperparams.get('batch_size'), shuffle = False, num_workers=0)\n",
    "\n",
    "class PrintCallbacks(Callback):\n",
    "    def on_train_start(self, trainer, pl_module):\n",
    "        logging.info(\"Training is starting\")\n",
    "\n",
    "    def on_train_end(self, trainer, pl_module):\n",
    "        logging.info(\"Training is ending\")\n",
    "\n",
    "    def on_train_epoch_end(self, trainer, pl_module):\n",
    "        epoch_mean = torch.stack(pl_module.training_step_outputs).mean()\n",
    "        logging.info(f\"epoch: {pl_module.current_epoch}; train_loss: {epoch_mean}\")\n",
    "        pl_module.training_step_outputs.clear()\n",
    "\n",
    "    def on_validation_epoch_end(self, trainer, pl_module):\n",
    "        epoch_mean = torch.stack(pl_module.validation_step_outputs).mean()\n",
    "        logging.info(f\"epoch: {pl_module.current_epoch}; val_loss: {epoch_mean}\")\n",
    "        pl_module.validation_step_outputs.clear()\n",
    "\n",
    "class InterpolRegressor(pl.LightningModule):\n",
    "    def __init__(self, hyperparams):\n",
    "        super(InterpolRegressor, self).__init__()\n",
    "\n",
    "        self.train_loss, self.train_mae, self.val_loss, self.val_mae = 0,0,0,0\n",
    "        self.hyperparams = hyperparams\n",
    "        self.save_hyperparameters(self.hyperparams)\n",
    "\n",
    "        self.mae = MeanAbsoluteError()\n",
    "        self.loss_func = self.hyperparams.get('loss_func')\n",
    "\n",
    "        self.optim = self.hyperparams.get('optim_func')\n",
    "\n",
    "        self.net_architecture = self.hyperparams.get('net_architecture')\n",
    "        self.activation_function = self.hyperparams.get('activation_function')\n",
    "\n",
    "        self.training_step_outputs = []\n",
    "        self.validation_step_outputs = []\n",
    "\n",
    "        self.net = nn.Sequential()\n",
    "        for i in range(1,len(self.net_architecture)):\n",
    "            self.net.append(nn.Linear(self.net_architecture[i-1], self.net_architecture[i]))\n",
    "            if i!=len(self.net_architecture)-1:\n",
    "                self.net.append(self.activation_function)\n",
    "            else:\n",
    "                pass\n",
    "\n",
    "    def forward(self, x):\n",
    "        return self.net(x)\n",
    "\n",
    "    def training_step(self, batch, batch_idx):\n",
    "        x, y, w = batch\n",
    "        y_hat = self.forward(x)\n",
    "\n",
    "        loss = self.loss_func\n",
    "        self.train_loss = loss.forward(y_hat.reshape(-1), y, w)\n",
    "        self.train_mae = self.mae(y_hat.reshape(-1), y)\n",
    "\n",
    "        self.log('train_loss', self.train_loss, batch_size=self.hyperparams['batch_size'],\n",
    "                 on_step=False, on_epoch=True, prog_bar=True, sync_dist=True, logger=True)\n",
    "        self.log('train_mae', self.train_mae, batch_size=self.hyperparams['batch_size'],\n",
    "                 on_step=False, on_epoch=True, prog_bar=True, sync_dist=True, logger=True)\n",
    "\n",
    "        self.training_step_outputs.append(self.train_loss)\n",
    "        return self.train_loss\n",
    "\n",
    "    def validation_step(self, batch, batch_idx):\n",
    "        x, y, w = batch\n",
    "        y_hat = self.forward(x)\n",
    "\n",
    "        loss = self.loss_func\n",
    "        self.val_loss = loss.forward(y_hat.reshape(-1), y, w)\n",
    "        self.val_mae = self.mae(y_hat.reshape(-1), y)\n",
    "\n",
    "        self.log('val_loss', self.val_loss, batch_size=self.hyperparams['batch_size'],\n",
    "                 on_step=False, on_epoch=True, prog_bar=True, sync_dist=True, logger=True)\n",
    "        self.log('val_mae', self.val_mae, batch_size=self.hyperparams['batch_size'],\n",
    "                 on_step=False, on_epoch=True, prog_bar=True, sync_dist=True, logger=True)\n",
    "\n",
    "        self.validation_step_outputs.append(self.val_loss)\n",
    "        return self.val_loss\n",
    "\n",
    "    def on_validation_epoch_end(self):\n",
    "        sch = self.lr_schedulers()\n",
    "        if isinstance(sch, torch.optim.lr_scheduler.ReduceLROnPlateau) and self.trainer.current_epoch!=0:\n",
    "                sch.step(self.trainer.callback_metrics[\"val_loss\"])\n",
    "\n",
    "    def configure_callbacks(self):\n",
    "        early_stop_callback = EarlyStopping(monitor=\"val_loss\", mode=\"min\",\n",
    "                                            min_delta=self.hyperparams.get('es_min_delta'),\n",
    "                                            patience=self.hyperparams.get('es_patience'),\n",
    "                                            verbose=True)\n",
    "\n",
    "        checkpoint_callback = ModelCheckpoint(save_top_k=3,\n",
    "                                              monitor=\"val_loss\",\n",
    "                                              mode=\"min\",\n",
    "                                              dirpath=f\"{logger_full_path}/checkpoints\",\n",
    "                                              filename=\"{exp_name}{val_loss:.5f}-{epoch:02d}\")\n",
    "\n",
    "        lr_monitor = LearningRateMonitor(logging_interval='epoch')\n",
    "\n",
    "        print_callback = PrintCallbacks()\n",
    "\n",
    "        return [early_stop_callback, checkpoint_callback, print_callback, lr_monitor]\n",
    "\n",
    "    def configure_optimizers(self):\n",
    "        optimizer = self.optim(self.parameters(), lr=self.hyperparams.get('lr'))\n",
    "        lr_optim = ReduceLROnPlateau(optimizer = optimizer,\n",
    "                                     mode = 'min',\n",
    "                                     factor = self.hyperparams.get('lr_factor'),\n",
    "                                     patience = self.hyperparams.get('lr_patience'),\n",
    "                                     cooldown=self.hyperparams.get('lr_cooldown'),\n",
    "                                     threshold=0.01,\n",
    "                                     verbose= True)\n",
    "        return {\"optimizer\": optimizer,\n",
    "                \"lr_scheduler\": {\n",
    "                    \"scheduler\": lr_optim,\n",
    "                    \"interval\": \"epoch\",\n",
    "                    \"monitor\": \"val_loss\",\n",
    "                    \"frequency\": 2,\n",
    "                    \"name\": 'lr_scheduler_monitoring'}\n",
    "                }\n"
   ]
  },
  {
   "cell_type": "code",
   "execution_count": 21,
   "id": "8b5babb2",
   "metadata": {
    "code_folding": [],
    "scrolled": false,
    "ExecuteTime": {
     "end_time": "2024-02-04T03:34:36.312444Z",
     "start_time": "2024-02-04T00:05:26.111136Z"
    }
   },
   "outputs": [
    {
     "name": "stderr",
     "output_type": "stream",
     "text": [
      "/Users/andrey.golda/Library/Caches/pypoetry/virtualenvs/msu-interpol--lw2ADYE-py3.11/lib/python3.11/site-packages/lightning/pytorch/utilities/parsing.py:198: Attribute 'activation_function' is an instance of `nn.Module` and is already saved during checkpointing. It is recommended to ignore them using `self.save_hyperparameters(ignore=['activation_function'])`.\n",
      "/Users/andrey.golda/Library/Caches/pypoetry/virtualenvs/msu-interpol--lw2ADYE-py3.11/lib/python3.11/site-packages/lightning/pytorch/utilities/parsing.py:198: Attribute 'loss_func' is an instance of `nn.Module` and is already saved during checkpointing. It is recommended to ignore them using `self.save_hyperparameters(ignore=['loss_func'])`.\n",
      "GPU available: False, used: False\n",
      "TPU available: False, using: 0 TPU cores\n",
      "IPU available: False, using: 0 IPUs\n",
      "HPU available: False, using: 0 HPUs\n",
      "The following callbacks returned in `LightningModule.configure_callbacks` will override existing callbacks passed to Trainer: ModelCheckpoint\n",
      "93435it [04:38, 336.02it/s]\n",
      "\n",
      "  | Name                | Type              | Params\n",
      "----------------------------------------------------------\n",
      "0 | mae                 | MeanAbsoluteError | 0     \n",
      "1 | loss_func           | RMSELoss          | 0     \n",
      "2 | activation_function | ReLU              | 0     \n",
      "3 | net                 | Sequential        | 5.0 M \n",
      "----------------------------------------------------------\n",
      "5.0 M     Trainable params\n",
      "0         Non-trainable params\n",
      "5.0 M     Total params\n",
      "19.926    Total estimated model params size (MB)\n"
     ]
    },
    {
     "name": "stdout",
     "output_type": "stream",
     "text": [
      "2024-02-04 00:12:13,222 : INFO : epoch: 0; val_loss: 40.351722717285156\n"
     ]
    },
    {
     "name": "stderr",
     "output_type": "stream",
     "text": [
      "/Users/andrey.golda/Library/Caches/pypoetry/virtualenvs/msu-interpol--lw2ADYE-py3.11/lib/python3.11/site-packages/lightning/pytorch/trainer/connectors/data_connector.py:441: The 'val_dataloader' does not have many workers which may be a bottleneck. Consider increasing the value of the `num_workers` argument` to `num_workers=11` in the `DataLoader` to improve performance.\n",
      "/Users/andrey.golda/Library/Caches/pypoetry/virtualenvs/msu-interpol--lw2ADYE-py3.11/lib/python3.11/site-packages/lightning/pytorch/trainer/connectors/data_connector.py:441: The 'train_dataloader' does not have many workers which may be a bottleneck. Consider increasing the value of the `num_workers` argument` to `num_workers=11` in the `DataLoader` to improve performance.\n"
     ]
    },
    {
     "name": "stdout",
     "output_type": "stream",
     "text": [
      "2024-02-04 00:12:13,231 : INFO : Training is starting\n",
      "2024-02-04 00:13:00,263 : INFO : epoch: 0; val_loss: 16.562849044799805\n",
      "2024-02-04 00:13:00,265 : INFO : epoch: 0; train_loss: 21.658279418945312\n"
     ]
    },
    {
     "name": "stderr",
     "output_type": "stream",
     "text": [
      "Metric val_loss improved. New best score: 16.563\n"
     ]
    },
    {
     "name": "stdout",
     "output_type": "stream",
     "text": [
      "2024-02-04 00:13:00,351 : DEBUG : open file: /Users/andrey.golda/Documents/Study/MSU_interpol/training/wandb_local_logs/MSU_interpol/spring-feather-42/checkpoints/exp_name=0val_loss=16.56285-epoch=00.ckpt\n",
      "2024-02-04 00:13:47,348 : INFO : epoch: 1; val_loss: 16.352697372436523\n",
      "2024-02-04 00:13:47,351 : INFO : epoch: 1; train_loss: 18.09424591064453\n"
     ]
    },
    {
     "name": "stderr",
     "output_type": "stream",
     "text": [
      "Metric val_loss improved by 0.210 >= min_delta = 1e-05. New best score: 16.353\n"
     ]
    },
    {
     "name": "stdout",
     "output_type": "stream",
     "text": [
      "2024-02-04 00:13:47,442 : DEBUG : open file: /Users/andrey.golda/Documents/Study/MSU_interpol/training/wandb_local_logs/MSU_interpol/spring-feather-42/checkpoints/exp_name=0val_loss=16.35270-epoch=01.ckpt\n",
      "2024-02-04 00:14:41,453 : INFO : epoch: 2; val_loss: 16.03014373779297\n",
      "2024-02-04 00:14:41,456 : INFO : epoch: 2; train_loss: 16.8085994720459\n"
     ]
    },
    {
     "name": "stderr",
     "output_type": "stream",
     "text": [
      "Metric val_loss improved by 0.323 >= min_delta = 1e-05. New best score: 16.030\n"
     ]
    },
    {
     "name": "stdout",
     "output_type": "stream",
     "text": [
      "2024-02-04 00:14:41,538 : DEBUG : open file: /Users/andrey.golda/Documents/Study/MSU_interpol/training/wandb_local_logs/MSU_interpol/spring-feather-42/checkpoints/exp_name=0val_loss=16.03014-epoch=02.ckpt\n",
      "2024-02-04 00:15:34,581 : INFO : epoch: 3; val_loss: 16.3194637298584\n",
      "2024-02-04 00:15:34,583 : INFO : epoch: 3; train_loss: 16.24934959411621\n",
      "2024-02-04 00:15:34,671 : DEBUG : open file: /Users/andrey.golda/Documents/Study/MSU_interpol/training/wandb_local_logs/MSU_interpol/spring-feather-42/checkpoints/exp_name=0val_loss=16.31946-epoch=03.ckpt\n",
      "2024-02-04 00:16:20,151 : INFO : epoch: 4; val_loss: 13.530472755432129\n",
      "2024-02-04 00:16:20,154 : INFO : epoch: 4; train_loss: 14.522842407226562\n"
     ]
    },
    {
     "name": "stderr",
     "output_type": "stream",
     "text": [
      "Metric val_loss improved by 2.500 >= min_delta = 1e-05. New best score: 13.530\n"
     ]
    },
    {
     "name": "stdout",
     "output_type": "stream",
     "text": [
      "2024-02-04 00:16:20,234 : DEBUG : open file: /Users/andrey.golda/Documents/Study/MSU_interpol/training/wandb_local_logs/MSU_interpol/spring-feather-42/checkpoints/exp_name=0val_loss=13.53047-epoch=04.ckpt\n",
      "2024-02-04 00:17:09,557 : INFO : epoch: 5; val_loss: 10.427974700927734\n",
      "2024-02-04 00:17:09,559 : INFO : epoch: 5; train_loss: 11.901447296142578\n"
     ]
    },
    {
     "name": "stderr",
     "output_type": "stream",
     "text": [
      "Metric val_loss improved by 3.102 >= min_delta = 1e-05. New best score: 10.428\n"
     ]
    },
    {
     "name": "stdout",
     "output_type": "stream",
     "text": [
      "2024-02-04 00:17:09,642 : DEBUG : open file: /Users/andrey.golda/Documents/Study/MSU_interpol/training/wandb_local_logs/MSU_interpol/spring-feather-42/checkpoints/exp_name=0val_loss=10.42798-epoch=05.ckpt\n",
      "2024-02-04 00:17:57,768 : INFO : epoch: 6; val_loss: 10.874393463134766\n",
      "2024-02-04 00:17:57,770 : INFO : epoch: 6; train_loss: 10.6416597366333\n",
      "2024-02-04 00:17:57,859 : DEBUG : open file: /Users/andrey.golda/Documents/Study/MSU_interpol/training/wandb_local_logs/MSU_interpol/spring-feather-42/checkpoints/exp_name=0val_loss=10.87439-epoch=06.ckpt\n",
      "2024-02-04 00:18:42,844 : INFO : epoch: 7; val_loss: 7.927859783172607\n",
      "2024-02-04 00:18:42,846 : INFO : epoch: 7; train_loss: 9.488324165344238\n"
     ]
    },
    {
     "name": "stderr",
     "output_type": "stream",
     "text": [
      "Metric val_loss improved by 2.500 >= min_delta = 1e-05. New best score: 7.928\n"
     ]
    },
    {
     "name": "stdout",
     "output_type": "stream",
     "text": [
      "2024-02-04 00:18:42,923 : DEBUG : open file: /Users/andrey.golda/Documents/Study/MSU_interpol/training/wandb_local_logs/MSU_interpol/spring-feather-42/checkpoints/exp_name=0val_loss=7.92786-epoch=07.ckpt\n",
      "2024-02-04 00:19:31,232 : INFO : epoch: 8; val_loss: 7.426267147064209\n",
      "2024-02-04 00:19:31,234 : INFO : epoch: 8; train_loss: 9.09572982788086\n"
     ]
    },
    {
     "name": "stderr",
     "output_type": "stream",
     "text": [
      "Metric val_loss improved by 0.502 >= min_delta = 1e-05. New best score: 7.426\n"
     ]
    },
    {
     "name": "stdout",
     "output_type": "stream",
     "text": [
      "2024-02-04 00:19:31,318 : DEBUG : open file: /Users/andrey.golda/Documents/Study/MSU_interpol/training/wandb_local_logs/MSU_interpol/spring-feather-42/checkpoints/exp_name=0val_loss=7.42627-epoch=08.ckpt\n",
      "2024-02-04 00:20:16,145 : INFO : epoch: 9; val_loss: 7.83132266998291\n",
      "2024-02-04 00:20:16,148 : INFO : epoch: 9; train_loss: 9.048187255859375\n",
      "2024-02-04 00:20:16,220 : DEBUG : open file: /Users/andrey.golda/Documents/Study/MSU_interpol/training/wandb_local_logs/MSU_interpol/spring-feather-42/checkpoints/exp_name=0val_loss=7.83132-epoch=09.ckpt\n",
      "2024-02-04 00:21:01,021 : INFO : epoch: 10; val_loss: 7.320564270019531\n",
      "2024-02-04 00:21:01,024 : INFO : epoch: 10; train_loss: 8.628233909606934\n"
     ]
    },
    {
     "name": "stderr",
     "output_type": "stream",
     "text": [
      "Metric val_loss improved by 0.106 >= min_delta = 1e-05. New best score: 7.321\n"
     ]
    },
    {
     "name": "stdout",
     "output_type": "stream",
     "text": [
      "2024-02-04 00:21:01,096 : DEBUG : open file: /Users/andrey.golda/Documents/Study/MSU_interpol/training/wandb_local_logs/MSU_interpol/spring-feather-42/checkpoints/exp_name=0val_loss=7.32056-epoch=10.ckpt\n",
      "2024-02-04 00:21:49,019 : INFO : epoch: 11; val_loss: 7.645501136779785\n",
      "2024-02-04 00:21:49,021 : INFO : epoch: 11; train_loss: 8.735796928405762\n",
      "2024-02-04 00:21:49,096 : DEBUG : open file: /Users/andrey.golda/Documents/Study/MSU_interpol/training/wandb_local_logs/MSU_interpol/spring-feather-42/checkpoints/exp_name=0val_loss=7.64550-epoch=11.ckpt\n",
      "2024-02-04 00:22:33,797 : INFO : epoch: 12; val_loss: 7.887948513031006\n",
      "2024-02-04 00:22:33,800 : INFO : epoch: 12; train_loss: 8.464411735534668\n",
      "2024-02-04 00:23:21,698 : INFO : epoch: 13; val_loss: 7.451030731201172\n",
      "2024-02-04 00:23:21,701 : INFO : epoch: 13; train_loss: 8.407342910766602\n",
      "2024-02-04 00:23:21,795 : DEBUG : open file: /Users/andrey.golda/Documents/Study/MSU_interpol/training/wandb_local_logs/MSU_interpol/spring-feather-42/checkpoints/exp_name=0val_loss=7.45103-epoch=13.ckpt\n",
      "2024-02-04 00:24:07,391 : INFO : epoch: 14; val_loss: 7.849318981170654\n",
      "Epoch 00021: reducing learning rate of group 0 to 5.0000e-04.\n",
      "2024-02-04 00:24:07,393 : INFO : epoch: 14; train_loss: 8.009308815002441\n",
      "2024-02-04 00:24:52,140 : INFO : epoch: 15; val_loss: 6.772408962249756\n",
      "2024-02-04 00:24:52,142 : INFO : epoch: 15; train_loss: 6.957917213439941\n"
     ]
    },
    {
     "name": "stderr",
     "output_type": "stream",
     "text": [
      "Metric val_loss improved by 0.548 >= min_delta = 1e-05. New best score: 6.772\n"
     ]
    },
    {
     "name": "stdout",
     "output_type": "stream",
     "text": [
      "2024-02-04 00:24:52,224 : DEBUG : open file: /Users/andrey.golda/Documents/Study/MSU_interpol/training/wandb_local_logs/MSU_interpol/spring-feather-42/checkpoints/exp_name=0val_loss=6.77241-epoch=15.ckpt\n",
      "2024-02-04 00:25:40,272 : INFO : epoch: 16; val_loss: 6.870133876800537\n",
      "2024-02-04 00:25:40,274 : INFO : epoch: 16; train_loss: 6.8399200439453125\n",
      "2024-02-04 00:25:40,351 : DEBUG : open file: /Users/andrey.golda/Documents/Study/MSU_interpol/training/wandb_local_logs/MSU_interpol/spring-feather-42/checkpoints/exp_name=0val_loss=6.87013-epoch=16.ckpt\n",
      "2024-02-04 00:26:25,794 : INFO : epoch: 17; val_loss: 6.702402591705322\n",
      "2024-02-04 00:26:25,796 : INFO : epoch: 17; train_loss: 6.77313756942749\n"
     ]
    },
    {
     "name": "stderr",
     "output_type": "stream",
     "text": [
      "Metric val_loss improved by 0.070 >= min_delta = 1e-05. New best score: 6.702\n"
     ]
    },
    {
     "name": "stdout",
     "output_type": "stream",
     "text": [
      "2024-02-04 00:26:25,875 : DEBUG : open file: /Users/andrey.golda/Documents/Study/MSU_interpol/training/wandb_local_logs/MSU_interpol/spring-feather-42/checkpoints/exp_name=0val_loss=6.70240-epoch=17.ckpt\n",
      "2024-02-04 00:27:13,577 : INFO : epoch: 18; val_loss: 6.600434303283691\n",
      "2024-02-04 00:27:13,580 : INFO : epoch: 18; train_loss: 6.7291975021362305\n"
     ]
    },
    {
     "name": "stderr",
     "output_type": "stream",
     "text": [
      "Metric val_loss improved by 0.102 >= min_delta = 1e-05. New best score: 6.600\n"
     ]
    },
    {
     "name": "stdout",
     "output_type": "stream",
     "text": [
      "2024-02-04 00:27:13,653 : DEBUG : open file: /Users/andrey.golda/Documents/Study/MSU_interpol/training/wandb_local_logs/MSU_interpol/spring-feather-42/checkpoints/exp_name=0val_loss=6.60044-epoch=18.ckpt\n",
      "2024-02-04 00:28:01,085 : INFO : epoch: 19; val_loss: 6.558756351470947\n",
      "2024-02-04 00:28:01,089 : INFO : epoch: 19; train_loss: 6.687210559844971\n"
     ]
    },
    {
     "name": "stderr",
     "output_type": "stream",
     "text": [
      "Metric val_loss improved by 0.042 >= min_delta = 1e-05. New best score: 6.559\n"
     ]
    },
    {
     "name": "stdout",
     "output_type": "stream",
     "text": [
      "2024-02-04 00:28:01,186 : DEBUG : open file: /Users/andrey.golda/Documents/Study/MSU_interpol/training/wandb_local_logs/MSU_interpol/spring-feather-42/checkpoints/exp_name=0val_loss=6.55876-epoch=19.ckpt\n",
      "2024-02-04 00:28:48,942 : INFO : epoch: 20; val_loss: 6.494579792022705\n",
      "2024-02-04 00:28:48,944 : INFO : epoch: 20; train_loss: 6.64452600479126\n"
     ]
    },
    {
     "name": "stderr",
     "output_type": "stream",
     "text": [
      "Metric val_loss improved by 0.064 >= min_delta = 1e-05. New best score: 6.495\n"
     ]
    },
    {
     "name": "stdout",
     "output_type": "stream",
     "text": [
      "2024-02-04 00:28:49,024 : DEBUG : open file: /Users/andrey.golda/Documents/Study/MSU_interpol/training/wandb_local_logs/MSU_interpol/spring-feather-42/checkpoints/exp_name=0val_loss=6.49458-epoch=20.ckpt\n",
      "2024-02-04 00:29:37,134 : INFO : epoch: 21; val_loss: 6.602449417114258\n",
      "2024-02-04 00:29:37,137 : INFO : epoch: 21; train_loss: 6.6171674728393555\n",
      "2024-02-04 00:30:21,931 : INFO : epoch: 22; val_loss: 6.5367817878723145\n",
      "2024-02-04 00:30:21,934 : INFO : epoch: 22; train_loss: 6.618709564208984\n",
      "2024-02-04 00:30:22,006 : DEBUG : open file: /Users/andrey.golda/Documents/Study/MSU_interpol/training/wandb_local_logs/MSU_interpol/spring-feather-42/checkpoints/exp_name=0val_loss=6.53678-epoch=22.ckpt\n",
      "2024-02-04 00:31:06,929 : INFO : epoch: 23; val_loss: 6.789224147796631\n",
      "2024-02-04 00:31:06,931 : INFO : epoch: 23; train_loss: 6.55233907699585\n",
      "2024-02-04 00:31:54,808 : INFO : epoch: 24; val_loss: 6.763474464416504\n",
      "2024-02-04 00:31:54,810 : INFO : epoch: 24; train_loss: 6.570440292358398\n",
      "2024-02-04 00:32:40,019 : INFO : epoch: 25; val_loss: 6.663790702819824\n",
      "2024-02-04 00:32:40,022 : INFO : epoch: 25; train_loss: 6.518555641174316\n",
      "2024-02-04 00:33:27,599 : INFO : epoch: 26; val_loss: 6.606328964233398\n",
      "2024-02-04 00:33:27,602 : INFO : epoch: 26; train_loss: 6.51023006439209\n",
      "2024-02-04 00:34:15,711 : INFO : epoch: 27; val_loss: 6.8428544998168945\n",
      "2024-02-04 00:34:15,713 : INFO : epoch: 27; train_loss: 6.543187618255615\n",
      "2024-02-04 00:35:03,891 : INFO : epoch: 28; val_loss: 6.570888042449951\n",
      "2024-02-04 00:35:03,894 : INFO : epoch: 28; train_loss: 6.494797229766846\n",
      "2024-02-04 00:35:52,202 : INFO : epoch: 29; val_loss: 6.645979404449463\n",
      "2024-02-04 00:35:52,204 : INFO : epoch: 29; train_loss: 6.418388843536377\n",
      "2024-02-04 00:36:40,127 : INFO : epoch: 30; val_loss: 6.3279900550842285\n",
      "2024-02-04 00:36:40,130 : INFO : epoch: 30; train_loss: 6.432706356048584\n"
     ]
    },
    {
     "name": "stderr",
     "output_type": "stream",
     "text": [
      "Metric val_loss improved by 0.167 >= min_delta = 1e-05. New best score: 6.328\n"
     ]
    },
    {
     "name": "stdout",
     "output_type": "stream",
     "text": [
      "2024-02-04 00:36:40,218 : DEBUG : open file: /Users/andrey.golda/Documents/Study/MSU_interpol/training/wandb_local_logs/MSU_interpol/spring-feather-42/checkpoints/exp_name=0val_loss=6.32799-epoch=30.ckpt\n",
      "2024-02-04 00:37:25,128 : INFO : epoch: 31; val_loss: 6.3340864181518555\n",
      "2024-02-04 00:37:25,130 : INFO : epoch: 31; train_loss: 6.470612525939941\n",
      "2024-02-04 00:37:25,212 : DEBUG : open file: /Users/andrey.golda/Documents/Study/MSU_interpol/training/wandb_local_logs/MSU_interpol/spring-feather-42/checkpoints/exp_name=0val_loss=6.33409-epoch=31.ckpt\n",
      "2024-02-04 00:38:09,945 : INFO : epoch: 32; val_loss: 6.308732986450195\n",
      "2024-02-04 00:38:09,948 : INFO : epoch: 32; train_loss: 6.33465576171875\n"
     ]
    },
    {
     "name": "stderr",
     "output_type": "stream",
     "text": [
      "Metric val_loss improved by 0.019 >= min_delta = 1e-05. New best score: 6.309\n"
     ]
    },
    {
     "name": "stdout",
     "output_type": "stream",
     "text": [
      "2024-02-04 00:38:10,023 : DEBUG : open file: /Users/andrey.golda/Documents/Study/MSU_interpol/training/wandb_local_logs/MSU_interpol/spring-feather-42/checkpoints/exp_name=0val_loss=6.30873-epoch=32.ckpt\n",
      "2024-02-04 00:38:58,246 : INFO : epoch: 33; val_loss: 6.341193675994873\n",
      "2024-02-04 00:38:58,248 : INFO : epoch: 33; train_loss: 6.254558563232422\n",
      "2024-02-04 00:39:43,681 : INFO : epoch: 34; val_loss: 6.3461527824401855\n",
      "Epoch 00051: reducing learning rate of group 0 to 2.5000e-04.\n",
      "2024-02-04 00:39:43,684 : INFO : epoch: 34; train_loss: 6.278310775756836\n",
      "2024-02-04 00:40:28,904 : INFO : epoch: 35; val_loss: 6.2636566162109375\n",
      "2024-02-04 00:40:28,906 : INFO : epoch: 35; train_loss: 5.887204170227051\n"
     ]
    },
    {
     "name": "stderr",
     "output_type": "stream",
     "text": [
      "Metric val_loss improved by 0.045 >= min_delta = 1e-05. New best score: 6.264\n"
     ]
    },
    {
     "name": "stdout",
     "output_type": "stream",
     "text": [
      "2024-02-04 00:40:28,983 : DEBUG : open file: /Users/andrey.golda/Documents/Study/MSU_interpol/training/wandb_local_logs/MSU_interpol/spring-feather-42/checkpoints/exp_name=0val_loss=6.26366-epoch=35.ckpt\n",
      "2024-02-04 00:41:16,953 : INFO : epoch: 36; val_loss: 6.1923418045043945\n",
      "2024-02-04 00:41:16,957 : INFO : epoch: 36; train_loss: 5.865748882293701\n"
     ]
    },
    {
     "name": "stderr",
     "output_type": "stream",
     "text": [
      "Metric val_loss improved by 0.071 >= min_delta = 1e-05. New best score: 6.192\n"
     ]
    },
    {
     "name": "stdout",
     "output_type": "stream",
     "text": [
      "2024-02-04 00:41:17,054 : DEBUG : open file: /Users/andrey.golda/Documents/Study/MSU_interpol/training/wandb_local_logs/MSU_interpol/spring-feather-42/checkpoints/exp_name=0val_loss=6.19234-epoch=36.ckpt\n",
      "2024-02-04 00:42:05,131 : INFO : epoch: 37; val_loss: 6.162303924560547\n",
      "2024-02-04 00:42:05,134 : INFO : epoch: 37; train_loss: 5.824080467224121\n"
     ]
    },
    {
     "name": "stderr",
     "output_type": "stream",
     "text": [
      "Metric val_loss improved by 0.030 >= min_delta = 1e-05. New best score: 6.162\n"
     ]
    },
    {
     "name": "stdout",
     "output_type": "stream",
     "text": [
      "2024-02-04 00:42:05,222 : DEBUG : open file: /Users/andrey.golda/Documents/Study/MSU_interpol/training/wandb_local_logs/MSU_interpol/spring-feather-42/checkpoints/exp_name=0val_loss=6.16230-epoch=37.ckpt\n",
      "2024-02-04 00:42:53,236 : INFO : epoch: 38; val_loss: 6.162972450256348\n",
      "2024-02-04 00:42:53,239 : INFO : epoch: 38; train_loss: 5.783857345581055\n",
      "2024-02-04 00:42:53,316 : DEBUG : open file: /Users/andrey.golda/Documents/Study/MSU_interpol/training/wandb_local_logs/MSU_interpol/spring-feather-42/checkpoints/exp_name=0val_loss=6.16297-epoch=38.ckpt\n",
      "2024-02-04 00:43:38,113 : INFO : epoch: 39; val_loss: 6.226939678192139\n",
      "2024-02-04 00:43:38,115 : INFO : epoch: 39; train_loss: 5.752897262573242\n",
      "2024-02-04 00:44:25,945 : INFO : epoch: 40; val_loss: 6.163305759429932\n",
      "2024-02-04 00:44:25,948 : INFO : epoch: 40; train_loss: 5.733249664306641\n",
      "2024-02-04 00:44:26,028 : DEBUG : open file: /Users/andrey.golda/Documents/Study/MSU_interpol/training/wandb_local_logs/MSU_interpol/spring-feather-42/checkpoints/exp_name=0val_loss=6.16331-epoch=40.ckpt\n",
      "2024-02-04 00:45:11,377 : INFO : epoch: 41; val_loss: 6.148168563842773\n",
      "2024-02-04 00:45:11,380 : INFO : epoch: 41; train_loss: 5.7109198570251465\n"
     ]
    },
    {
     "name": "stderr",
     "output_type": "stream",
     "text": [
      "Metric val_loss improved by 0.014 >= min_delta = 1e-05. New best score: 6.148\n"
     ]
    },
    {
     "name": "stdout",
     "output_type": "stream",
     "text": [
      "2024-02-04 00:45:11,471 : DEBUG : open file: /Users/andrey.golda/Documents/Study/MSU_interpol/training/wandb_local_logs/MSU_interpol/spring-feather-42/checkpoints/exp_name=0val_loss=6.14817-epoch=41.ckpt\n",
      "2024-02-04 00:45:59,085 : INFO : epoch: 42; val_loss: 6.147866249084473\n",
      "2024-02-04 00:45:59,087 : INFO : epoch: 42; train_loss: 5.684944152832031\n"
     ]
    },
    {
     "name": "stderr",
     "output_type": "stream",
     "text": [
      "Metric val_loss improved by 0.000 >= min_delta = 1e-05. New best score: 6.148\n"
     ]
    },
    {
     "name": "stdout",
     "output_type": "stream",
     "text": [
      "2024-02-04 00:45:59,172 : DEBUG : open file: /Users/andrey.golda/Documents/Study/MSU_interpol/training/wandb_local_logs/MSU_interpol/spring-feather-42/checkpoints/exp_name=0val_loss=6.14787-epoch=42.ckpt\n",
      "2024-02-04 00:46:47,153 : INFO : epoch: 43; val_loss: 6.12606143951416\n",
      "2024-02-04 00:46:47,156 : INFO : epoch: 43; train_loss: 5.681364059448242\n"
     ]
    },
    {
     "name": "stderr",
     "output_type": "stream",
     "text": [
      "Metric val_loss improved by 0.022 >= min_delta = 1e-05. New best score: 6.126\n"
     ]
    },
    {
     "name": "stdout",
     "output_type": "stream",
     "text": [
      "2024-02-04 00:46:47,247 : DEBUG : open file: /Users/andrey.golda/Documents/Study/MSU_interpol/training/wandb_local_logs/MSU_interpol/spring-feather-42/checkpoints/exp_name=0val_loss=6.12606-epoch=43.ckpt\n",
      "2024-02-04 00:47:35,644 : INFO : epoch: 44; val_loss: 6.139228343963623\n",
      "2024-02-04 00:47:35,648 : INFO : epoch: 44; train_loss: 5.649711608886719\n",
      "2024-02-04 00:47:35,725 : DEBUG : open file: /Users/andrey.golda/Documents/Study/MSU_interpol/training/wandb_local_logs/MSU_interpol/spring-feather-42/checkpoints/exp_name=0val_loss=6.13923-epoch=44.ckpt\n",
      "2024-02-04 00:48:20,811 : INFO : epoch: 45; val_loss: 6.094933986663818\n",
      "2024-02-04 00:48:20,813 : INFO : epoch: 45; train_loss: 5.641712188720703\n"
     ]
    },
    {
     "name": "stderr",
     "output_type": "stream",
     "text": [
      "Metric val_loss improved by 0.031 >= min_delta = 1e-05. New best score: 6.095\n"
     ]
    },
    {
     "name": "stdout",
     "output_type": "stream",
     "text": [
      "2024-02-04 00:48:20,895 : DEBUG : open file: /Users/andrey.golda/Documents/Study/MSU_interpol/training/wandb_local_logs/MSU_interpol/spring-feather-42/checkpoints/exp_name=0val_loss=6.09493-epoch=45.ckpt\n",
      "2024-02-04 00:49:09,214 : INFO : epoch: 46; val_loss: 6.079291343688965\n",
      "2024-02-04 00:49:09,216 : INFO : epoch: 46; train_loss: 5.639876842498779\n"
     ]
    },
    {
     "name": "stderr",
     "output_type": "stream",
     "text": [
      "Metric val_loss improved by 0.016 >= min_delta = 1e-05. New best score: 6.079\n"
     ]
    },
    {
     "name": "stdout",
     "output_type": "stream",
     "text": [
      "2024-02-04 00:49:09,318 : DEBUG : open file: /Users/andrey.golda/Documents/Study/MSU_interpol/training/wandb_local_logs/MSU_interpol/spring-feather-42/checkpoints/exp_name=0val_loss=6.07929-epoch=46.ckpt\n",
      "2024-02-04 00:49:56,989 : INFO : epoch: 47; val_loss: 6.140768527984619\n",
      "2024-02-04 00:49:56,991 : INFO : epoch: 47; train_loss: 5.6213250160217285\n",
      "2024-02-04 00:50:42,045 : INFO : epoch: 48; val_loss: 6.088308811187744\n",
      "2024-02-04 00:50:42,050 : INFO : epoch: 48; train_loss: 5.6029863357543945\n",
      "2024-02-04 00:50:42,139 : DEBUG : open file: /Users/andrey.golda/Documents/Study/MSU_interpol/training/wandb_local_logs/MSU_interpol/spring-feather-42/checkpoints/exp_name=0val_loss=6.08831-epoch=48.ckpt\n",
      "2024-02-04 00:51:27,499 : INFO : epoch: 49; val_loss: 6.058427333831787\n",
      "2024-02-04 00:51:27,501 : INFO : epoch: 49; train_loss: 5.583143711090088\n"
     ]
    },
    {
     "name": "stderr",
     "output_type": "stream",
     "text": [
      "Metric val_loss improved by 0.021 >= min_delta = 1e-05. New best score: 6.058\n"
     ]
    },
    {
     "name": "stdout",
     "output_type": "stream",
     "text": [
      "2024-02-04 00:51:27,587 : DEBUG : open file: /Users/andrey.golda/Documents/Study/MSU_interpol/training/wandb_local_logs/MSU_interpol/spring-feather-42/checkpoints/exp_name=0val_loss=6.05843-epoch=49.ckpt\n",
      "2024-02-04 00:52:15,723 : INFO : epoch: 50; val_loss: 6.1202263832092285\n",
      "2024-02-04 00:52:15,726 : INFO : epoch: 50; train_loss: 5.567131996154785\n",
      "2024-02-04 00:53:00,540 : INFO : epoch: 51; val_loss: 6.029346466064453\n",
      "2024-02-04 00:53:00,543 : INFO : epoch: 51; train_loss: 5.577136039733887\n"
     ]
    },
    {
     "name": "stderr",
     "output_type": "stream",
     "text": [
      "Metric val_loss improved by 0.029 >= min_delta = 1e-05. New best score: 6.029\n"
     ]
    },
    {
     "name": "stdout",
     "output_type": "stream",
     "text": [
      "2024-02-04 00:53:00,633 : DEBUG : open file: /Users/andrey.golda/Documents/Study/MSU_interpol/training/wandb_local_logs/MSU_interpol/spring-feather-42/checkpoints/exp_name=0val_loss=6.02935-epoch=51.ckpt\n",
      "2024-02-04 00:53:48,904 : INFO : epoch: 52; val_loss: 6.050718784332275\n",
      "2024-02-04 00:53:48,907 : INFO : epoch: 52; train_loss: 5.549369812011719\n",
      "2024-02-04 00:53:48,983 : DEBUG : open file: /Users/andrey.golda/Documents/Study/MSU_interpol/training/wandb_local_logs/MSU_interpol/spring-feather-42/checkpoints/exp_name=0val_loss=6.05072-epoch=52.ckpt\n",
      "2024-02-04 00:54:35,457 : INFO : epoch: 53; val_loss: 6.016282558441162\n",
      "Epoch 00079: reducing learning rate of group 0 to 1.2500e-04.\n",
      "2024-02-04 00:54:35,460 : INFO : epoch: 53; train_loss: 5.583909511566162\n"
     ]
    },
    {
     "name": "stderr",
     "output_type": "stream",
     "text": [
      "Metric val_loss improved by 0.013 >= min_delta = 1e-05. New best score: 6.016\n"
     ]
    },
    {
     "name": "stdout",
     "output_type": "stream",
     "text": [
      "2024-02-04 00:54:35,545 : DEBUG : open file: /Users/andrey.golda/Documents/Study/MSU_interpol/training/wandb_local_logs/MSU_interpol/spring-feather-42/checkpoints/exp_name=0val_loss=6.01628-epoch=53.ckpt\n",
      "2024-02-04 00:55:23,450 : INFO : epoch: 54; val_loss: 5.880803108215332\n",
      "2024-02-04 00:55:23,454 : INFO : epoch: 54; train_loss: 5.386003017425537\n"
     ]
    },
    {
     "name": "stderr",
     "output_type": "stream",
     "text": [
      "Metric val_loss improved by 0.135 >= min_delta = 1e-05. New best score: 5.881\n"
     ]
    },
    {
     "name": "stdout",
     "output_type": "stream",
     "text": [
      "2024-02-04 00:55:23,554 : DEBUG : open file: /Users/andrey.golda/Documents/Study/MSU_interpol/training/wandb_local_logs/MSU_interpol/spring-feather-42/checkpoints/exp_name=0val_loss=5.88080-epoch=54.ckpt\n",
      "2024-02-04 00:56:12,241 : INFO : epoch: 55; val_loss: 5.859893798828125\n",
      "2024-02-04 00:56:12,244 : INFO : epoch: 55; train_loss: 5.3650665283203125\n"
     ]
    },
    {
     "name": "stderr",
     "output_type": "stream",
     "text": [
      "Metric val_loss improved by 0.021 >= min_delta = 1e-05. New best score: 5.860\n"
     ]
    },
    {
     "name": "stdout",
     "output_type": "stream",
     "text": [
      "2024-02-04 00:56:12,334 : DEBUG : open file: /Users/andrey.golda/Documents/Study/MSU_interpol/training/wandb_local_logs/MSU_interpol/spring-feather-42/checkpoints/exp_name=0val_loss=5.85989-epoch=55.ckpt\n",
      "2024-02-04 00:57:00,814 : INFO : epoch: 56; val_loss: 5.882831573486328\n",
      "2024-02-04 00:57:00,816 : INFO : epoch: 56; train_loss: 5.343639373779297\n",
      "2024-02-04 00:57:00,893 : DEBUG : open file: /Users/andrey.golda/Documents/Study/MSU_interpol/training/wandb_local_logs/MSU_interpol/spring-feather-42/checkpoints/exp_name=0val_loss=5.88283-epoch=56.ckpt\n",
      "2024-02-04 00:57:46,010 : INFO : epoch: 57; val_loss: 5.889774322509766\n",
      "2024-02-04 00:57:46,012 : INFO : epoch: 57; train_loss: 5.336487770080566\n",
      "2024-02-04 00:58:34,174 : INFO : epoch: 58; val_loss: 5.8855133056640625\n",
      "2024-02-04 00:58:34,177 : INFO : epoch: 58; train_loss: 5.329316139221191\n",
      "2024-02-04 00:59:18,860 : INFO : epoch: 59; val_loss: 5.878459930419922\n",
      "2024-02-04 00:59:18,863 : INFO : epoch: 59; train_loss: 5.312937259674072\n",
      "2024-02-04 00:59:18,950 : DEBUG : open file: /Users/andrey.golda/Documents/Study/MSU_interpol/training/wandb_local_logs/MSU_interpol/spring-feather-42/checkpoints/exp_name=0val_loss=5.87846-epoch=59.ckpt\n",
      "2024-02-04 01:00:07,223 : INFO : epoch: 60; val_loss: 5.907537937164307\n",
      "2024-02-04 01:00:07,225 : INFO : epoch: 60; train_loss: 5.295684337615967\n",
      "2024-02-04 01:00:55,519 : INFO : epoch: 61; val_loss: 5.899156093597412\n",
      "2024-02-04 01:00:55,521 : INFO : epoch: 61; train_loss: 5.285780906677246\n",
      "2024-02-04 01:01:43,160 : INFO : epoch: 62; val_loss: 5.877211093902588\n",
      "2024-02-04 01:01:43,163 : INFO : epoch: 62; train_loss: 5.279167652130127\n",
      "2024-02-04 01:01:43,240 : DEBUG : open file: /Users/andrey.golda/Documents/Study/MSU_interpol/training/wandb_local_logs/MSU_interpol/spring-feather-42/checkpoints/exp_name=0val_loss=5.87721-epoch=62.ckpt\n",
      "2024-02-04 01:02:28,639 : INFO : epoch: 63; val_loss: 5.897448539733887\n",
      "2024-02-04 01:02:28,642 : INFO : epoch: 63; train_loss: 5.262698650360107\n",
      "2024-02-04 01:03:13,510 : INFO : epoch: 64; val_loss: 5.88510799407959\n",
      "2024-02-04 01:03:13,512 : INFO : epoch: 64; train_loss: 5.25356912612915\n",
      "2024-02-04 01:03:58,843 : INFO : epoch: 65; val_loss: 5.864020347595215\n",
      "2024-02-04 01:03:58,847 : INFO : epoch: 65; train_loss: 5.258007049560547\n",
      "2024-02-04 01:03:58,937 : DEBUG : open file: /Users/andrey.golda/Documents/Study/MSU_interpol/training/wandb_local_logs/MSU_interpol/spring-feather-42/checkpoints/exp_name=0val_loss=5.86402-epoch=65.ckpt\n",
      "2024-02-04 01:04:47,053 : INFO : epoch: 66; val_loss: 5.875666618347168\n",
      "2024-02-04 01:04:47,055 : INFO : epoch: 66; train_loss: 5.245467662811279\n",
      "2024-02-04 01:04:47,139 : DEBUG : open file: /Users/andrey.golda/Documents/Study/MSU_interpol/training/wandb_local_logs/MSU_interpol/spring-feather-42/checkpoints/exp_name=0val_loss=5.87567-epoch=66.ckpt\n",
      "2024-02-04 01:05:32,346 : INFO : epoch: 67; val_loss: 5.876481056213379\n",
      "2024-02-04 01:05:32,349 : INFO : epoch: 67; train_loss: 5.241633892059326\n",
      "2024-02-04 01:06:17,539 : INFO : epoch: 68; val_loss: 5.890140533447266\n",
      "2024-02-04 01:06:17,541 : INFO : epoch: 68; train_loss: 5.228611946105957\n",
      "2024-02-04 01:07:03,002 : INFO : epoch: 69; val_loss: 5.863318920135498\n",
      "2024-02-04 01:07:03,004 : INFO : epoch: 69; train_loss: 5.229859828948975\n",
      "2024-02-04 01:07:03,093 : DEBUG : open file: /Users/andrey.golda/Documents/Study/MSU_interpol/training/wandb_local_logs/MSU_interpol/spring-feather-42/checkpoints/exp_name=0val_loss=5.86332-epoch=69.ckpt\n",
      "2024-02-04 01:07:50,866 : INFO : epoch: 70; val_loss: 5.867661476135254\n",
      "Epoch 00105: reducing learning rate of group 0 to 6.2500e-05.\n",
      "2024-02-04 01:07:50,869 : INFO : epoch: 70; train_loss: 5.21821928024292\n",
      "2024-02-04 01:08:39,270 : INFO : epoch: 71; val_loss: 5.3758225440979\n",
      "2024-02-04 01:08:39,274 : INFO : epoch: 71; train_loss: 5.153393268585205\n"
     ]
    },
    {
     "name": "stderr",
     "output_type": "stream",
     "text": [
      "Metric val_loss improved by 0.484 >= min_delta = 1e-05. New best score: 5.376\n"
     ]
    },
    {
     "name": "stdout",
     "output_type": "stream",
     "text": [
      "2024-02-04 01:08:39,358 : DEBUG : open file: /Users/andrey.golda/Documents/Study/MSU_interpol/training/wandb_local_logs/MSU_interpol/spring-feather-42/checkpoints/exp_name=0val_loss=5.37582-epoch=71.ckpt\n",
      "2024-02-04 01:09:24,638 : INFO : epoch: 72; val_loss: 5.370506286621094\n",
      "2024-02-04 01:09:24,640 : INFO : epoch: 72; train_loss: 5.138980388641357\n"
     ]
    },
    {
     "name": "stderr",
     "output_type": "stream",
     "text": [
      "Metric val_loss improved by 0.005 >= min_delta = 1e-05. New best score: 5.371\n"
     ]
    },
    {
     "name": "stdout",
     "output_type": "stream",
     "text": [
      "2024-02-04 01:09:24,722 : DEBUG : open file: /Users/andrey.golda/Documents/Study/MSU_interpol/training/wandb_local_logs/MSU_interpol/spring-feather-42/checkpoints/exp_name=0val_loss=5.37051-epoch=72.ckpt\n",
      "2024-02-04 01:10:12,740 : INFO : epoch: 73; val_loss: 5.368247985839844\n",
      "2024-02-04 01:10:12,744 : INFO : epoch: 73; train_loss: 5.123486042022705\n"
     ]
    },
    {
     "name": "stderr",
     "output_type": "stream",
     "text": [
      "Metric val_loss improved by 0.002 >= min_delta = 1e-05. New best score: 5.368\n"
     ]
    },
    {
     "name": "stdout",
     "output_type": "stream",
     "text": [
      "2024-02-04 01:10:12,836 : DEBUG : open file: /Users/andrey.golda/Documents/Study/MSU_interpol/training/wandb_local_logs/MSU_interpol/spring-feather-42/checkpoints/exp_name=0val_loss=5.36825-epoch=73.ckpt\n",
      "2024-02-04 01:11:01,278 : INFO : epoch: 74; val_loss: 5.366807460784912\n",
      "2024-02-04 01:11:01,281 : INFO : epoch: 74; train_loss: 5.1180500984191895\n"
     ]
    },
    {
     "name": "stderr",
     "output_type": "stream",
     "text": [
      "Metric val_loss improved by 0.001 >= min_delta = 1e-05. New best score: 5.367\n"
     ]
    },
    {
     "name": "stdout",
     "output_type": "stream",
     "text": [
      "2024-02-04 01:11:01,368 : DEBUG : open file: /Users/andrey.golda/Documents/Study/MSU_interpol/training/wandb_local_logs/MSU_interpol/spring-feather-42/checkpoints/exp_name=0val_loss=5.36681-epoch=74.ckpt\n",
      "2024-02-04 01:11:49,142 : INFO : epoch: 75; val_loss: 5.369945526123047\n",
      "2024-02-04 01:11:49,145 : INFO : epoch: 75; train_loss: 5.108481407165527\n",
      "2024-02-04 01:11:49,234 : DEBUG : open file: /Users/andrey.golda/Documents/Study/MSU_interpol/training/wandb_local_logs/MSU_interpol/spring-feather-42/checkpoints/exp_name=0val_loss=5.36994-epoch=75.ckpt\n",
      "2024-02-04 01:12:34,537 : INFO : epoch: 76; val_loss: 5.3616533279418945\n",
      "2024-02-04 01:12:34,540 : INFO : epoch: 76; train_loss: 5.101573944091797\n"
     ]
    },
    {
     "name": "stderr",
     "output_type": "stream",
     "text": [
      "Metric val_loss improved by 0.005 >= min_delta = 1e-05. New best score: 5.362\n"
     ]
    },
    {
     "name": "stdout",
     "output_type": "stream",
     "text": [
      "2024-02-04 01:12:34,618 : DEBUG : open file: /Users/andrey.golda/Documents/Study/MSU_interpol/training/wandb_local_logs/MSU_interpol/spring-feather-42/checkpoints/exp_name=0val_loss=5.36165-epoch=76.ckpt\n",
      "2024-02-04 01:13:23,552 : INFO : epoch: 77; val_loss: 5.363404750823975\n",
      "2024-02-04 01:13:23,556 : INFO : epoch: 77; train_loss: 5.093816757202148\n",
      "2024-02-04 01:13:23,647 : DEBUG : open file: /Users/andrey.golda/Documents/Study/MSU_interpol/training/wandb_local_logs/MSU_interpol/spring-feather-42/checkpoints/exp_name=0val_loss=5.36341-epoch=77.ckpt\n",
      "2024-02-04 01:14:09,062 : INFO : epoch: 78; val_loss: 5.36218786239624\n",
      "2024-02-04 01:14:09,065 : INFO : epoch: 78; train_loss: 5.086573600769043\n",
      "2024-02-04 01:14:09,140 : DEBUG : open file: /Users/andrey.golda/Documents/Study/MSU_interpol/training/wandb_local_logs/MSU_interpol/spring-feather-42/checkpoints/exp_name=0val_loss=5.36219-epoch=78.ckpt\n",
      "2024-02-04 01:14:54,717 : INFO : epoch: 79; val_loss: 5.374973773956299\n",
      "2024-02-04 01:14:54,719 : INFO : epoch: 79; train_loss: 5.078917980194092\n",
      "2024-02-04 01:15:42,567 : INFO : epoch: 80; val_loss: 5.359889984130859\n",
      "2024-02-04 01:15:42,569 : INFO : epoch: 80; train_loss: 5.072680473327637\n"
     ]
    },
    {
     "name": "stderr",
     "output_type": "stream",
     "text": [
      "Metric val_loss improved by 0.002 >= min_delta = 1e-05. New best score: 5.360\n"
     ]
    },
    {
     "name": "stdout",
     "output_type": "stream",
     "text": [
      "2024-02-04 01:15:42,660 : DEBUG : open file: /Users/andrey.golda/Documents/Study/MSU_interpol/training/wandb_local_logs/MSU_interpol/spring-feather-42/checkpoints/exp_name=0val_loss=5.35989-epoch=80.ckpt\n",
      "2024-02-04 01:16:28,219 : INFO : epoch: 81; val_loss: 5.371547698974609\n",
      "2024-02-04 01:16:28,222 : INFO : epoch: 81; train_loss: 5.069121360778809\n",
      "2024-02-04 01:17:15,890 : INFO : epoch: 82; val_loss: 5.3683600425720215\n",
      "2024-02-04 01:17:15,892 : INFO : epoch: 82; train_loss: 5.063122749328613\n",
      "2024-02-04 01:18:00,911 : INFO : epoch: 83; val_loss: 5.375463485717773\n",
      "2024-02-04 01:18:00,913 : INFO : epoch: 83; train_loss: 5.060077667236328\n",
      "2024-02-04 01:18:49,053 : INFO : epoch: 84; val_loss: 5.372771739959717\n",
      "2024-02-04 01:18:49,055 : INFO : epoch: 84; train_loss: 5.057168006896973\n",
      "2024-02-04 01:19:34,207 : INFO : epoch: 85; val_loss: 5.376945495605469\n",
      "2024-02-04 01:19:34,209 : INFO : epoch: 85; train_loss: 5.054333686828613\n",
      "2024-02-04 01:20:22,467 : INFO : epoch: 86; val_loss: 5.373514175415039\n",
      "2024-02-04 01:20:22,470 : INFO : epoch: 86; train_loss: 5.050347328186035\n",
      "2024-02-04 01:21:07,784 : INFO : epoch: 87; val_loss: 5.374000549316406\n",
      "2024-02-04 01:21:07,787 : INFO : epoch: 87; train_loss: 5.04020881652832\n",
      "Epoch 00131: reducing learning rate of group 0 to 3.1250e-05.\n",
      "2024-02-04 01:21:56,028 : INFO : epoch: 88; val_loss: 5.348280429840088\n",
      "2024-02-04 01:21:56,031 : INFO : epoch: 88; train_loss: 4.987069129943848\n"
     ]
    },
    {
     "name": "stderr",
     "output_type": "stream",
     "text": [
      "Metric val_loss improved by 0.012 >= min_delta = 1e-05. New best score: 5.348\n"
     ]
    },
    {
     "name": "stdout",
     "output_type": "stream",
     "text": [
      "2024-02-04 01:21:56,113 : DEBUG : open file: /Users/andrey.golda/Documents/Study/MSU_interpol/training/wandb_local_logs/MSU_interpol/spring-feather-42/checkpoints/exp_name=0val_loss=5.34828-epoch=88.ckpt\n",
      "2024-02-04 01:22:41,398 : INFO : epoch: 89; val_loss: 5.34799861907959\n",
      "2024-02-04 01:22:41,401 : INFO : epoch: 89; train_loss: 4.969851970672607\n"
     ]
    },
    {
     "name": "stderr",
     "output_type": "stream",
     "text": [
      "Metric val_loss improved by 0.000 >= min_delta = 1e-05. New best score: 5.348\n"
     ]
    },
    {
     "name": "stdout",
     "output_type": "stream",
     "text": [
      "2024-02-04 01:22:41,479 : DEBUG : open file: /Users/andrey.golda/Documents/Study/MSU_interpol/training/wandb_local_logs/MSU_interpol/spring-feather-42/checkpoints/exp_name=0val_loss=5.34800-epoch=89.ckpt\n",
      "2024-02-04 01:23:31,359 : INFO : epoch: 90; val_loss: 5.344231128692627\n",
      "2024-02-04 01:23:31,362 : INFO : epoch: 90; train_loss: 4.96467399597168\n"
     ]
    },
    {
     "name": "stderr",
     "output_type": "stream",
     "text": [
      "Metric val_loss improved by 0.004 >= min_delta = 1e-05. New best score: 5.344\n"
     ]
    },
    {
     "name": "stdout",
     "output_type": "stream",
     "text": [
      "2024-02-04 01:23:31,473 : DEBUG : open file: /Users/andrey.golda/Documents/Study/MSU_interpol/training/wandb_local_logs/MSU_interpol/spring-feather-42/checkpoints/exp_name=0val_loss=5.34423-epoch=90.ckpt\n",
      "2024-02-04 01:24:21,610 : INFO : epoch: 91; val_loss: 5.344638347625732\n",
      "2024-02-04 01:24:21,613 : INFO : epoch: 91; train_loss: 4.962020397186279\n",
      "2024-02-04 01:24:21,700 : DEBUG : open file: /Users/andrey.golda/Documents/Study/MSU_interpol/training/wandb_local_logs/MSU_interpol/spring-feather-42/checkpoints/exp_name=0val_loss=5.34464-epoch=91.ckpt\n",
      "2024-02-04 01:25:07,175 : INFO : epoch: 92; val_loss: 5.344215393066406\n",
      "2024-02-04 01:25:07,178 : INFO : epoch: 92; train_loss: 4.957880973815918\n"
     ]
    },
    {
     "name": "stderr",
     "output_type": "stream",
     "text": [
      "Metric val_loss improved by 0.000 >= min_delta = 1e-05. New best score: 5.344\n"
     ]
    },
    {
     "name": "stdout",
     "output_type": "stream",
     "text": [
      "2024-02-04 01:25:07,256 : DEBUG : open file: /Users/andrey.golda/Documents/Study/MSU_interpol/training/wandb_local_logs/MSU_interpol/spring-feather-42/checkpoints/exp_name=0val_loss=5.34421-epoch=92.ckpt\n",
      "2024-02-04 01:25:55,290 : INFO : epoch: 93; val_loss: 5.344404697418213\n",
      "2024-02-04 01:25:55,292 : INFO : epoch: 93; train_loss: 4.953651428222656\n",
      "2024-02-04 01:25:55,376 : DEBUG : open file: /Users/andrey.golda/Documents/Study/MSU_interpol/training/wandb_local_logs/MSU_interpol/spring-feather-42/checkpoints/exp_name=0val_loss=5.34441-epoch=93.ckpt\n",
      "2024-02-04 01:26:40,488 : INFO : epoch: 94; val_loss: 5.346198081970215\n",
      "2024-02-04 01:26:40,490 : INFO : epoch: 94; train_loss: 4.952620983123779\n",
      "2024-02-04 01:27:28,737 : INFO : epoch: 95; val_loss: 5.346517562866211\n",
      "2024-02-04 01:27:28,740 : INFO : epoch: 95; train_loss: 4.948672771453857\n",
      "2024-02-04 01:28:13,823 : INFO : epoch: 96; val_loss: 5.344432830810547\n",
      "2024-02-04 01:28:13,825 : INFO : epoch: 96; train_loss: 4.945599555969238\n",
      "2024-02-04 01:29:01,666 : INFO : epoch: 97; val_loss: 5.346460819244385\n",
      "2024-02-04 01:29:01,668 : INFO : epoch: 97; train_loss: 4.943496227264404\n",
      "2024-02-04 01:29:47,116 : INFO : epoch: 98; val_loss: 5.346714973449707\n",
      "2024-02-04 01:29:47,118 : INFO : epoch: 98; train_loss: 4.941916465759277\n",
      "2024-02-04 01:30:32,576 : INFO : epoch: 99; val_loss: 5.346426486968994\n",
      "2024-02-04 01:30:32,578 : INFO : epoch: 99; train_loss: 4.936939239501953\n",
      "2024-02-04 01:31:17,988 : INFO : epoch: 100; val_loss: 5.344856262207031\n",
      "2024-02-04 01:31:17,991 : INFO : epoch: 100; train_loss: 4.934599876403809\n",
      "2024-02-04 01:32:03,691 : INFO : epoch: 101; val_loss: 5.3454484939575195\n",
      "2024-02-04 01:32:03,693 : INFO : epoch: 101; train_loss: 4.933141231536865\n",
      "2024-02-04 01:32:48,791 : INFO : epoch: 102; val_loss: 5.344904899597168\n",
      "2024-02-04 01:32:48,793 : INFO : epoch: 102; train_loss: 4.930810451507568\n",
      "2024-02-04 01:33:34,173 : INFO : epoch: 103; val_loss: 5.3467512130737305\n",
      "2024-02-04 01:33:34,175 : INFO : epoch: 103; train_loss: 4.929712295532227\n",
      "2024-02-04 01:34:19,323 : INFO : epoch: 104; val_loss: 5.34530782699585\n",
      "2024-02-04 01:34:19,326 : INFO : epoch: 104; train_loss: 4.926459312438965\n",
      "2024-02-04 01:35:04,898 : INFO : epoch: 105; val_loss: 5.344301700592041\n",
      "Epoch 00157: reducing learning rate of group 0 to 1.5625e-05.\n",
      "2024-02-04 01:35:04,901 : INFO : epoch: 105; train_loss: 4.923189640045166\n",
      "2024-02-04 01:35:04,974 : DEBUG : open file: /Users/andrey.golda/Documents/Study/MSU_interpol/training/wandb_local_logs/MSU_interpol/spring-feather-42/checkpoints/exp_name=0val_loss=5.34430-epoch=105.ckpt\n",
      "2024-02-04 01:35:53,561 : INFO : epoch: 106; val_loss: 5.333380222320557\n",
      "2024-02-04 01:35:53,563 : INFO : epoch: 106; train_loss: 4.893237590789795\n"
     ]
    },
    {
     "name": "stderr",
     "output_type": "stream",
     "text": [
      "Metric val_loss improved by 0.011 >= min_delta = 1e-05. New best score: 5.333\n"
     ]
    },
    {
     "name": "stdout",
     "output_type": "stream",
     "text": [
      "2024-02-04 01:35:53,646 : DEBUG : open file: /Users/andrey.golda/Documents/Study/MSU_interpol/training/wandb_local_logs/MSU_interpol/spring-feather-42/checkpoints/exp_name=0val_loss=5.33338-epoch=106.ckpt\n",
      "2024-02-04 01:36:39,094 : INFO : epoch: 107; val_loss: 5.331340789794922\n",
      "2024-02-04 01:36:39,097 : INFO : epoch: 107; train_loss: 4.8873186111450195\n"
     ]
    },
    {
     "name": "stderr",
     "output_type": "stream",
     "text": [
      "Metric val_loss improved by 0.002 >= min_delta = 1e-05. New best score: 5.331\n"
     ]
    },
    {
     "name": "stdout",
     "output_type": "stream",
     "text": [
      "2024-02-04 01:36:39,175 : DEBUG : open file: /Users/andrey.golda/Documents/Study/MSU_interpol/training/wandb_local_logs/MSU_interpol/spring-feather-42/checkpoints/exp_name=0val_loss=5.33134-epoch=107.ckpt\n",
      "2024-02-04 01:37:27,082 : INFO : epoch: 108; val_loss: 5.3315839767456055\n",
      "2024-02-04 01:37:27,086 : INFO : epoch: 108; train_loss: 4.885072708129883\n",
      "2024-02-04 01:37:27,177 : DEBUG : open file: /Users/andrey.golda/Documents/Study/MSU_interpol/training/wandb_local_logs/MSU_interpol/spring-feather-42/checkpoints/exp_name=0val_loss=5.33158-epoch=108.ckpt\n",
      "2024-02-04 01:38:12,540 : INFO : epoch: 109; val_loss: 5.331997871398926\n",
      "2024-02-04 01:38:12,543 : INFO : epoch: 109; train_loss: 4.883142948150635\n",
      "2024-02-04 01:38:12,616 : DEBUG : open file: /Users/andrey.golda/Documents/Study/MSU_interpol/training/wandb_local_logs/MSU_interpol/spring-feather-42/checkpoints/exp_name=0val_loss=5.33200-epoch=109.ckpt\n",
      "2024-02-04 01:38:58,365 : INFO : epoch: 110; val_loss: 5.3327741622924805\n",
      "2024-02-04 01:38:58,369 : INFO : epoch: 110; train_loss: 4.881293296813965\n",
      "2024-02-04 01:39:46,142 : INFO : epoch: 111; val_loss: 5.332248210906982\n",
      "2024-02-04 01:39:46,148 : INFO : epoch: 111; train_loss: 4.880250930786133\n",
      "2024-02-04 01:40:34,406 : INFO : epoch: 112; val_loss: 5.332526683807373\n",
      "2024-02-04 01:40:34,408 : INFO : epoch: 112; train_loss: 4.878893852233887\n",
      "2024-02-04 01:41:22,720 : INFO : epoch: 113; val_loss: 5.332308769226074\n",
      "2024-02-04 01:41:22,723 : INFO : epoch: 113; train_loss: 4.877026081085205\n",
      "2024-02-04 01:42:11,304 : INFO : epoch: 114; val_loss: 5.332233428955078\n",
      "2024-02-04 01:42:11,307 : INFO : epoch: 114; train_loss: 4.876551151275635\n",
      "2024-02-04 01:42:59,703 : INFO : epoch: 115; val_loss: 5.332475185394287\n",
      "2024-02-04 01:42:59,706 : INFO : epoch: 115; train_loss: 4.874488353729248\n",
      "2024-02-04 01:43:48,009 : INFO : epoch: 116; val_loss: 5.332159042358398\n",
      "2024-02-04 01:43:48,013 : INFO : epoch: 116; train_loss: 4.873447418212891\n",
      "2024-02-04 01:44:36,228 : INFO : epoch: 117; val_loss: 5.331912040710449\n",
      "2024-02-04 01:44:36,230 : INFO : epoch: 117; train_loss: 4.871843338012695\n",
      "2024-02-04 01:44:36,310 : DEBUG : open file: /Users/andrey.golda/Documents/Study/MSU_interpol/training/wandb_local_logs/MSU_interpol/spring-feather-42/checkpoints/exp_name=0val_loss=5.33191-epoch=117.ckpt\n",
      "2024-02-04 01:45:21,643 : INFO : epoch: 118; val_loss: 5.331664562225342\n",
      "2024-02-04 01:45:21,645 : INFO : epoch: 118; train_loss: 4.871216297149658\n",
      "2024-02-04 01:45:21,735 : DEBUG : open file: /Users/andrey.golda/Documents/Study/MSU_interpol/training/wandb_local_logs/MSU_interpol/spring-feather-42/checkpoints/exp_name=0val_loss=5.33166-epoch=118.ckpt\n",
      "2024-02-04 01:46:10,412 : INFO : epoch: 119; val_loss: 5.332055568695068\n",
      "2024-02-04 01:46:10,415 : INFO : epoch: 119; train_loss: 4.869176864624023\n",
      "2024-02-04 01:46:58,918 : INFO : epoch: 120; val_loss: 5.3311309814453125\n",
      "2024-02-04 01:46:58,921 : INFO : epoch: 120; train_loss: 4.8683037757873535\n"
     ]
    },
    {
     "name": "stderr",
     "output_type": "stream",
     "text": [
      "Metric val_loss improved by 0.000 >= min_delta = 1e-05. New best score: 5.331\n"
     ]
    },
    {
     "name": "stdout",
     "output_type": "stream",
     "text": [
      "2024-02-04 01:46:58,999 : DEBUG : open file: /Users/andrey.golda/Documents/Study/MSU_interpol/training/wandb_local_logs/MSU_interpol/spring-feather-42/checkpoints/exp_name=0val_loss=5.33113-epoch=120.ckpt\n",
      "2024-02-04 01:47:44,251 : INFO : epoch: 121; val_loss: 5.3303751945495605\n",
      "2024-02-04 01:47:44,253 : INFO : epoch: 121; train_loss: 4.867303371429443\n"
     ]
    },
    {
     "name": "stderr",
     "output_type": "stream",
     "text": [
      "Metric val_loss improved by 0.001 >= min_delta = 1e-05. New best score: 5.330\n"
     ]
    },
    {
     "name": "stdout",
     "output_type": "stream",
     "text": [
      "2024-02-04 01:47:44,344 : DEBUG : open file: /Users/andrey.golda/Documents/Study/MSU_interpol/training/wandb_local_logs/MSU_interpol/spring-feather-42/checkpoints/exp_name=0val_loss=5.33038-epoch=121.ckpt\n",
      "2024-02-04 01:48:33,167 : INFO : epoch: 122; val_loss: 5.3314290046691895\n",
      "Epoch 00183: reducing learning rate of group 0 to 7.8125e-06.\n",
      "2024-02-04 01:48:33,171 : INFO : epoch: 122; train_loss: 4.866297721862793\n",
      "2024-02-04 01:49:18,791 : INFO : epoch: 123; val_loss: 5.325204372406006\n",
      "2024-02-04 01:49:18,793 : INFO : epoch: 123; train_loss: 4.848583221435547\n"
     ]
    },
    {
     "name": "stderr",
     "output_type": "stream",
     "text": [
      "Metric val_loss improved by 0.005 >= min_delta = 1e-05. New best score: 5.325\n"
     ]
    },
    {
     "name": "stdout",
     "output_type": "stream",
     "text": [
      "2024-02-04 01:49:18,890 : DEBUG : open file: /Users/andrey.golda/Documents/Study/MSU_interpol/training/wandb_local_logs/MSU_interpol/spring-feather-42/checkpoints/exp_name=0val_loss=5.32520-epoch=123.ckpt\n",
      "2024-02-04 01:50:06,956 : INFO : epoch: 124; val_loss: 5.325692176818848\n",
      "2024-02-04 01:50:06,959 : INFO : epoch: 124; train_loss: 4.846489906311035\n",
      "2024-02-04 01:50:07,042 : DEBUG : open file: /Users/andrey.golda/Documents/Study/MSU_interpol/training/wandb_local_logs/MSU_interpol/spring-feather-42/checkpoints/exp_name=0val_loss=5.32569-epoch=124.ckpt\n",
      "2024-02-04 01:50:52,579 : INFO : epoch: 125; val_loss: 5.325284481048584\n",
      "2024-02-04 01:50:52,581 : INFO : epoch: 125; train_loss: 4.844865798950195\n",
      "2024-02-04 01:50:52,652 : DEBUG : open file: /Users/andrey.golda/Documents/Study/MSU_interpol/training/wandb_local_logs/MSU_interpol/spring-feather-42/checkpoints/exp_name=0val_loss=5.32528-epoch=125.ckpt\n",
      "2024-02-04 01:51:38,321 : INFO : epoch: 126; val_loss: 5.325336933135986\n",
      "2024-02-04 01:51:38,323 : INFO : epoch: 126; train_loss: 4.843772888183594\n",
      "2024-02-04 01:51:38,393 : DEBUG : open file: /Users/andrey.golda/Documents/Study/MSU_interpol/training/wandb_local_logs/MSU_interpol/spring-feather-42/checkpoints/exp_name=0val_loss=5.32534-epoch=126.ckpt\n",
      "2024-02-04 01:52:23,423 : INFO : epoch: 127; val_loss: 5.325259208679199\n",
      "2024-02-04 01:52:23,427 : INFO : epoch: 127; train_loss: 4.842545986175537\n",
      "2024-02-04 01:52:23,505 : DEBUG : open file: /Users/andrey.golda/Documents/Study/MSU_interpol/training/wandb_local_logs/MSU_interpol/spring-feather-42/checkpoints/exp_name=0val_loss=5.32526-epoch=127.ckpt\n",
      "2024-02-04 01:53:11,828 : INFO : epoch: 128; val_loss: 5.3252763748168945\n",
      "2024-02-04 01:53:11,831 : INFO : epoch: 128; train_loss: 4.841750144958496\n",
      "2024-02-04 01:53:11,923 : DEBUG : open file: /Users/andrey.golda/Documents/Study/MSU_interpol/training/wandb_local_logs/MSU_interpol/spring-feather-42/checkpoints/exp_name=0val_loss=5.32528-epoch=128.ckpt\n",
      "2024-02-04 01:54:02,322 : INFO : epoch: 129; val_loss: 5.325503349304199\n",
      "2024-02-04 01:54:02,325 : INFO : epoch: 129; train_loss: 4.84074068069458\n",
      "2024-02-04 01:54:59,555 : INFO : epoch: 130; val_loss: 5.325350284576416\n",
      "2024-02-04 01:54:59,558 : INFO : epoch: 130; train_loss: 4.839779853820801\n",
      "2024-02-04 01:55:56,736 : INFO : epoch: 131; val_loss: 5.3248372077941895\n",
      "2024-02-04 01:55:56,739 : INFO : epoch: 131; train_loss: 4.8392252922058105\n"
     ]
    },
    {
     "name": "stderr",
     "output_type": "stream",
     "text": [
      "Metric val_loss improved by 0.000 >= min_delta = 1e-05. New best score: 5.325\n"
     ]
    },
    {
     "name": "stdout",
     "output_type": "stream",
     "text": [
      "2024-02-04 01:55:56,824 : DEBUG : open file: /Users/andrey.golda/Documents/Study/MSU_interpol/training/wandb_local_logs/MSU_interpol/spring-feather-42/checkpoints/exp_name=0val_loss=5.32484-epoch=131.ckpt\n",
      "2024-02-04 01:56:58,172 : INFO : epoch: 132; val_loss: 5.325079441070557\n",
      "2024-02-04 01:56:58,175 : INFO : epoch: 132; train_loss: 4.838389873504639\n",
      "2024-02-04 01:56:58,261 : DEBUG : open file: /Users/andrey.golda/Documents/Study/MSU_interpol/training/wandb_local_logs/MSU_interpol/spring-feather-42/checkpoints/exp_name=0val_loss=5.32508-epoch=132.ckpt\n",
      "2024-02-04 01:57:56,049 : INFO : epoch: 133; val_loss: 5.324741363525391\n",
      "2024-02-04 01:57:56,051 : INFO : epoch: 133; train_loss: 4.837498188018799\n"
     ]
    },
    {
     "name": "stderr",
     "output_type": "stream",
     "text": [
      "Metric val_loss improved by 0.000 >= min_delta = 1e-05. New best score: 5.325\n"
     ]
    },
    {
     "name": "stdout",
     "output_type": "stream",
     "text": [
      "2024-02-04 01:57:56,129 : DEBUG : open file: /Users/andrey.golda/Documents/Study/MSU_interpol/training/wandb_local_logs/MSU_interpol/spring-feather-42/checkpoints/exp_name=0val_loss=5.32474-epoch=133.ckpt\n",
      "2024-02-04 01:58:57,448 : INFO : epoch: 134; val_loss: 5.325026035308838\n",
      "2024-02-04 01:58:57,451 : INFO : epoch: 134; train_loss: 4.836747646331787\n",
      "2024-02-04 01:58:57,546 : DEBUG : open file: /Users/andrey.golda/Documents/Study/MSU_interpol/training/wandb_local_logs/MSU_interpol/spring-feather-42/checkpoints/exp_name=0val_loss=5.32503-epoch=134.ckpt\n",
      "2024-02-04 01:59:55,776 : INFO : epoch: 135; val_loss: 5.325010299682617\n",
      "2024-02-04 01:59:55,779 : INFO : epoch: 135; train_loss: 4.83615779876709\n",
      "2024-02-04 01:59:55,866 : DEBUG : open file: /Users/andrey.golda/Documents/Study/MSU_interpol/training/wandb_local_logs/MSU_interpol/spring-feather-42/checkpoints/exp_name=0val_loss=5.32501-epoch=135.ckpt\n",
      "2024-02-04 02:00:53,227 : INFO : epoch: 136; val_loss: 5.325252532958984\n",
      "2024-02-04 02:00:53,230 : INFO : epoch: 136; train_loss: 4.835604190826416\n",
      "2024-02-04 02:01:55,328 : INFO : epoch: 137; val_loss: 5.325149059295654\n",
      "2024-02-04 02:01:55,331 : INFO : epoch: 137; train_loss: 4.834500312805176\n",
      "2024-02-04 02:02:57,725 : INFO : epoch: 138; val_loss: 5.325119972229004\n",
      "2024-02-04 02:02:57,727 : INFO : epoch: 138; train_loss: 4.834142208099365\n",
      "2024-02-04 02:04:00,456 : INFO : epoch: 139; val_loss: 5.325345039367676\n",
      "2024-02-04 02:04:00,458 : INFO : epoch: 139; train_loss: 4.833384990692139\n",
      "Epoch 00209: reducing learning rate of group 0 to 3.9063e-06.\n",
      "2024-02-04 02:04:59,099 : INFO : epoch: 140; val_loss: 5.323683261871338\n",
      "2024-02-04 02:04:59,102 : INFO : epoch: 140; train_loss: 4.822476863861084\n"
     ]
    },
    {
     "name": "stderr",
     "output_type": "stream",
     "text": [
      "Metric val_loss improved by 0.001 >= min_delta = 1e-05. New best score: 5.324\n"
     ]
    },
    {
     "name": "stdout",
     "output_type": "stream",
     "text": [
      "2024-02-04 02:04:59,185 : DEBUG : open file: /Users/andrey.golda/Documents/Study/MSU_interpol/training/wandb_local_logs/MSU_interpol/spring-feather-42/checkpoints/exp_name=0val_loss=5.32368-epoch=140.ckpt\n",
      "2024-02-04 02:06:01,615 : INFO : epoch: 141; val_loss: 5.324336051940918\n",
      "2024-02-04 02:06:01,618 : INFO : epoch: 141; train_loss: 4.821667671203613\n",
      "2024-02-04 02:06:01,713 : DEBUG : open file: /Users/andrey.golda/Documents/Study/MSU_interpol/training/wandb_local_logs/MSU_interpol/spring-feather-42/checkpoints/exp_name=0val_loss=5.32434-epoch=141.ckpt\n",
      "2024-02-04 02:07:00,843 : INFO : epoch: 142; val_loss: 5.324775695800781\n",
      "2024-02-04 02:07:00,845 : INFO : epoch: 142; train_loss: 4.821117877960205\n",
      "2024-02-04 02:08:04,219 : INFO : epoch: 143; val_loss: 5.324758529663086\n",
      "2024-02-04 02:08:04,222 : INFO : epoch: 143; train_loss: 4.820535659790039\n",
      "2024-02-04 02:09:03,282 : INFO : epoch: 144; val_loss: 5.324694633483887\n",
      "2024-02-04 02:09:03,285 : INFO : epoch: 144; train_loss: 4.820186138153076\n",
      "2024-02-04 02:09:03,367 : DEBUG : open file: /Users/andrey.golda/Documents/Study/MSU_interpol/training/wandb_local_logs/MSU_interpol/spring-feather-42/checkpoints/exp_name=0val_loss=5.32469-epoch=144.ckpt\n",
      "2024-02-04 02:10:06,899 : INFO : epoch: 145; val_loss: 5.324966907501221\n",
      "2024-02-04 02:10:06,902 : INFO : epoch: 145; train_loss: 4.8196492195129395\n",
      "2024-02-04 02:11:10,178 : INFO : epoch: 146; val_loss: 5.324814319610596\n",
      "2024-02-04 02:11:10,180 : INFO : epoch: 146; train_loss: 4.8192620277404785\n",
      "2024-02-04 02:12:14,338 : INFO : epoch: 147; val_loss: 5.324918746948242\n",
      "2024-02-04 02:12:14,340 : INFO : epoch: 147; train_loss: 4.818929672241211\n",
      "2024-02-04 02:13:18,463 : INFO : epoch: 148; val_loss: 5.324984550476074\n",
      "2024-02-04 02:13:18,466 : INFO : epoch: 148; train_loss: 4.81840705871582\n",
      "2024-02-04 02:14:23,109 : INFO : epoch: 149; val_loss: 5.324947834014893\n",
      "2024-02-04 02:14:23,112 : INFO : epoch: 149; train_loss: 4.817920207977295\n",
      "2024-02-04 02:15:27,405 : INFO : epoch: 150; val_loss: 5.325013637542725\n",
      "2024-02-04 02:15:27,408 : INFO : epoch: 150; train_loss: 4.817586898803711\n",
      "2024-02-04 02:16:32,566 : INFO : epoch: 151; val_loss: 5.32508659362793\n",
      "2024-02-04 02:16:32,568 : INFO : epoch: 151; train_loss: 4.817104816436768\n",
      "2024-02-04 02:17:37,340 : INFO : epoch: 152; val_loss: 5.324897766113281\n",
      "2024-02-04 02:17:37,343 : INFO : epoch: 152; train_loss: 4.816793918609619\n",
      "2024-02-04 02:18:42,193 : INFO : epoch: 153; val_loss: 5.3250322341918945\n",
      "2024-02-04 02:18:42,196 : INFO : epoch: 153; train_loss: 4.8164591789245605\n",
      "2024-02-04 02:19:48,030 : INFO : epoch: 154; val_loss: 5.3248796463012695\n",
      "2024-02-04 02:19:48,032 : INFO : epoch: 154; train_loss: 4.816013813018799\n",
      "2024-02-04 02:20:53,361 : INFO : epoch: 155; val_loss: 5.324906826019287\n",
      "2024-02-04 02:20:53,363 : INFO : epoch: 155; train_loss: 4.815532207489014\n",
      "2024-02-04 02:21:59,654 : INFO : epoch: 156; val_loss: 5.325016498565674\n",
      "2024-02-04 02:21:59,656 : INFO : epoch: 156; train_loss: 4.815326690673828\n",
      "2024-02-04 02:23:05,499 : INFO : epoch: 157; val_loss: 5.32486629486084\n",
      "Epoch 00235: reducing learning rate of group 0 to 1.9531e-06.\n",
      "2024-02-04 02:23:05,502 : INFO : epoch: 157; train_loss: 4.81487512588501\n",
      "2024-02-04 02:24:12,736 : INFO : epoch: 158; val_loss: 5.323124885559082\n",
      "2024-02-04 02:24:12,738 : INFO : epoch: 158; train_loss: 4.80954647064209\n"
     ]
    },
    {
     "name": "stderr",
     "output_type": "stream",
     "text": [
      "Metric val_loss improved by 0.001 >= min_delta = 1e-05. New best score: 5.323\n"
     ]
    },
    {
     "name": "stdout",
     "output_type": "stream",
     "text": [
      "2024-02-04 02:24:12,821 : DEBUG : open file: /Users/andrey.golda/Documents/Study/MSU_interpol/training/wandb_local_logs/MSU_interpol/spring-feather-42/checkpoints/exp_name=0val_loss=5.32312-epoch=158.ckpt\n",
      "2024-02-04 02:25:14,971 : INFO : epoch: 159; val_loss: 5.323055744171143\n",
      "2024-02-04 02:25:14,973 : INFO : epoch: 159; train_loss: 4.808965682983398\n"
     ]
    },
    {
     "name": "stderr",
     "output_type": "stream",
     "text": [
      "Metric val_loss improved by 0.000 >= min_delta = 1e-05. New best score: 5.323\n"
     ]
    },
    {
     "name": "stdout",
     "output_type": "stream",
     "text": [
      "2024-02-04 02:25:15,050 : DEBUG : open file: /Users/andrey.golda/Documents/Study/MSU_interpol/training/wandb_local_logs/MSU_interpol/spring-feather-42/checkpoints/exp_name=0val_loss=5.32306-epoch=159.ckpt\n",
      "2024-02-04 02:26:22,183 : INFO : epoch: 160; val_loss: 5.323237895965576\n",
      "2024-02-04 02:26:22,186 : INFO : epoch: 160; train_loss: 4.808640003204346\n",
      "2024-02-04 02:26:22,268 : DEBUG : open file: /Users/andrey.golda/Documents/Study/MSU_interpol/training/wandb_local_logs/MSU_interpol/spring-feather-42/checkpoints/exp_name=0val_loss=5.32324-epoch=160.ckpt\n",
      "2024-02-04 02:27:24,502 : INFO : epoch: 161; val_loss: 5.323362827301025\n",
      "2024-02-04 02:27:24,506 : INFO : epoch: 161; train_loss: 4.808323860168457\n",
      "2024-02-04 02:28:31,918 : INFO : epoch: 162; val_loss: 5.3235578536987305\n",
      "2024-02-04 02:28:31,920 : INFO : epoch: 162; train_loss: 4.808058738708496\n",
      "2024-02-04 02:29:34,411 : INFO : epoch: 163; val_loss: 5.323434352874756\n",
      "2024-02-04 02:29:34,414 : INFO : epoch: 163; train_loss: 4.80794095993042\n",
      "2024-02-04 02:30:42,456 : INFO : epoch: 164; val_loss: 5.3234357833862305\n",
      "2024-02-04 02:30:42,458 : INFO : epoch: 164; train_loss: 4.807690143585205\n",
      "2024-02-04 02:31:45,502 : INFO : epoch: 165; val_loss: 5.323419094085693\n",
      "2024-02-04 02:31:45,505 : INFO : epoch: 165; train_loss: 4.8074822425842285\n",
      "2024-02-04 02:32:49,499 : INFO : epoch: 166; val_loss: 5.32349157333374\n",
      "2024-02-04 02:32:49,501 : INFO : epoch: 166; train_loss: 4.807241916656494\n",
      "2024-02-04 02:33:52,911 : INFO : epoch: 167; val_loss: 5.323368072509766\n",
      "2024-02-04 02:33:52,914 : INFO : epoch: 167; train_loss: 4.806995868682861\n",
      "2024-02-04 02:34:56,308 : INFO : epoch: 168; val_loss: 5.3233866691589355\n",
      "2024-02-04 02:34:56,312 : INFO : epoch: 168; train_loss: 4.806870937347412\n",
      "2024-02-04 02:36:00,558 : INFO : epoch: 169; val_loss: 5.323322772979736\n",
      "2024-02-04 02:36:00,560 : INFO : epoch: 169; train_loss: 4.80656099319458\n",
      "2024-02-04 02:37:04,472 : INFO : epoch: 170; val_loss: 5.3235015869140625\n",
      "2024-02-04 02:37:04,475 : INFO : epoch: 170; train_loss: 4.806371688842773\n",
      "2024-02-04 02:38:08,845 : INFO : epoch: 171; val_loss: 5.323482513427734\n",
      "2024-02-04 02:38:08,849 : INFO : epoch: 171; train_loss: 4.806225299835205\n",
      "2024-02-04 02:39:13,405 : INFO : epoch: 172; val_loss: 5.3236083984375\n",
      "2024-02-04 02:39:13,407 : INFO : epoch: 172; train_loss: 4.806087017059326\n",
      "2024-02-04 02:40:17,688 : INFO : epoch: 173; val_loss: 5.32366943359375\n",
      "2024-02-04 02:40:17,690 : INFO : epoch: 173; train_loss: 4.805827617645264\n",
      "2024-02-04 02:41:22,584 : INFO : epoch: 174; val_loss: 5.323822498321533\n",
      "Epoch 00261: reducing learning rate of group 0 to 9.7656e-07.\n",
      "2024-02-04 02:41:22,587 : INFO : epoch: 174; train_loss: 4.805629730224609\n",
      "2024-02-04 02:42:27,416 : INFO : epoch: 175; val_loss: 5.322248935699463\n",
      "2024-02-04 02:42:27,418 : INFO : epoch: 175; train_loss: 4.802985191345215\n"
     ]
    },
    {
     "name": "stderr",
     "output_type": "stream",
     "text": [
      "Metric val_loss improved by 0.001 >= min_delta = 1e-05. New best score: 5.322\n"
     ]
    },
    {
     "name": "stdout",
     "output_type": "stream",
     "text": [
      "2024-02-04 02:42:27,498 : DEBUG : open file: /Users/andrey.golda/Documents/Study/MSU_interpol/training/wandb_local_logs/MSU_interpol/spring-feather-42/checkpoints/exp_name=0val_loss=5.32225-epoch=175.ckpt\n",
      "2024-02-04 02:43:37,770 : INFO : epoch: 176; val_loss: 5.322035312652588\n",
      "2024-02-04 02:43:37,773 : INFO : epoch: 176; train_loss: 4.80230712890625\n"
     ]
    },
    {
     "name": "stderr",
     "output_type": "stream",
     "text": [
      "Metric val_loss improved by 0.000 >= min_delta = 1e-05. New best score: 5.322\n"
     ]
    },
    {
     "name": "stdout",
     "output_type": "stream",
     "text": [
      "2024-02-04 02:43:37,858 : DEBUG : open file: /Users/andrey.golda/Documents/Study/MSU_interpol/training/wandb_local_logs/MSU_interpol/spring-feather-42/checkpoints/exp_name=0val_loss=5.32204-epoch=176.ckpt\n",
      "2024-02-04 02:44:48,145 : INFO : epoch: 177; val_loss: 5.321937561035156\n",
      "2024-02-04 02:44:48,148 : INFO : epoch: 177; train_loss: 4.802191734313965\n"
     ]
    },
    {
     "name": "stderr",
     "output_type": "stream",
     "text": [
      "Metric val_loss improved by 0.000 >= min_delta = 1e-05. New best score: 5.322\n"
     ]
    },
    {
     "name": "stdout",
     "output_type": "stream",
     "text": [
      "2024-02-04 02:44:48,228 : DEBUG : open file: /Users/andrey.golda/Documents/Study/MSU_interpol/training/wandb_local_logs/MSU_interpol/spring-feather-42/checkpoints/exp_name=0val_loss=5.32194-epoch=177.ckpt\n",
      "2024-02-04 02:45:57,952 : INFO : epoch: 178; val_loss: 5.3219757080078125\n",
      "2024-02-04 02:45:57,955 : INFO : epoch: 178; train_loss: 4.802048683166504\n",
      "2024-02-04 02:45:58,040 : DEBUG : open file: /Users/andrey.golda/Documents/Study/MSU_interpol/training/wandb_local_logs/MSU_interpol/spring-feather-42/checkpoints/exp_name=0val_loss=5.32198-epoch=178.ckpt\n",
      "2024-02-04 02:47:03,287 : INFO : epoch: 179; val_loss: 5.322016716003418\n",
      "2024-02-04 02:47:03,290 : INFO : epoch: 179; train_loss: 4.801938533782959\n",
      "2024-02-04 02:47:03,375 : DEBUG : open file: /Users/andrey.golda/Documents/Study/MSU_interpol/training/wandb_local_logs/MSU_interpol/spring-feather-42/checkpoints/exp_name=0val_loss=5.32202-epoch=179.ckpt\n",
      "2024-02-04 02:48:08,559 : INFO : epoch: 180; val_loss: 5.321922302246094\n",
      "2024-02-04 02:48:08,563 : INFO : epoch: 180; train_loss: 4.801814556121826\n"
     ]
    },
    {
     "name": "stderr",
     "output_type": "stream",
     "text": [
      "Metric val_loss improved by 0.000 >= min_delta = 1e-05. New best score: 5.322\n"
     ]
    },
    {
     "name": "stdout",
     "output_type": "stream",
     "text": [
      "2024-02-04 02:48:08,662 : DEBUG : open file: /Users/andrey.golda/Documents/Study/MSU_interpol/training/wandb_local_logs/MSU_interpol/spring-feather-42/checkpoints/exp_name=0val_loss=5.32192-epoch=180.ckpt\n",
      "2024-02-04 02:49:18,475 : INFO : epoch: 181; val_loss: 5.321871280670166\n",
      "2024-02-04 02:49:18,478 : INFO : epoch: 181; train_loss: 4.801693916320801\n"
     ]
    },
    {
     "name": "stderr",
     "output_type": "stream",
     "text": [
      "Metric val_loss improved by 0.000 >= min_delta = 1e-05. New best score: 5.322\n"
     ]
    },
    {
     "name": "stdout",
     "output_type": "stream",
     "text": [
      "2024-02-04 02:49:18,560 : DEBUG : open file: /Users/andrey.golda/Documents/Study/MSU_interpol/training/wandb_local_logs/MSU_interpol/spring-feather-42/checkpoints/exp_name=0val_loss=5.32187-epoch=181.ckpt\n",
      "2024-02-04 02:50:29,122 : INFO : epoch: 182; val_loss: 5.321934700012207\n",
      "2024-02-04 02:50:29,125 : INFO : epoch: 182; train_loss: 4.8015336990356445\n",
      "2024-02-04 02:50:29,223 : DEBUG : open file: /Users/andrey.golda/Documents/Study/MSU_interpol/training/wandb_local_logs/MSU_interpol/spring-feather-42/checkpoints/exp_name=0val_loss=5.32194-epoch=182.ckpt\n",
      "2024-02-04 02:51:34,585 : INFO : epoch: 183; val_loss: 5.321911334991455\n",
      "2024-02-04 02:51:34,588 : INFO : epoch: 183; train_loss: 4.8014678955078125\n",
      "2024-02-04 02:51:34,661 : DEBUG : open file: /Users/andrey.golda/Documents/Study/MSU_interpol/training/wandb_local_logs/MSU_interpol/spring-feather-42/checkpoints/exp_name=0val_loss=5.32191-epoch=183.ckpt\n",
      "2024-02-04 02:52:40,400 : INFO : epoch: 184; val_loss: 5.322000503540039\n",
      "2024-02-04 02:52:40,403 : INFO : epoch: 184; train_loss: 4.801300048828125\n",
      "2024-02-04 02:53:50,535 : INFO : epoch: 185; val_loss: 5.321916103363037\n",
      "2024-02-04 02:53:50,537 : INFO : epoch: 185; train_loss: 4.8012285232543945\n",
      "2024-02-04 02:53:50,623 : DEBUG : open file: /Users/andrey.golda/Documents/Study/MSU_interpol/training/wandb_local_logs/MSU_interpol/spring-feather-42/checkpoints/exp_name=0val_loss=5.32192-epoch=185.ckpt\n",
      "2024-02-04 02:54:55,866 : INFO : epoch: 186; val_loss: 5.321941375732422\n",
      "2024-02-04 02:54:55,869 : INFO : epoch: 186; train_loss: 4.801113605499268\n",
      "2024-02-04 02:56:01,752 : INFO : epoch: 187; val_loss: 5.321961402893066\n",
      "2024-02-04 02:56:01,754 : INFO : epoch: 187; train_loss: 4.800999641418457\n",
      "2024-02-04 02:57:08,025 : INFO : epoch: 188; val_loss: 5.321974754333496\n",
      "2024-02-04 02:57:08,028 : INFO : epoch: 188; train_loss: 4.800922393798828\n",
      "2024-02-04 02:58:14,143 : INFO : epoch: 189; val_loss: 5.321978569030762\n",
      "2024-02-04 02:58:14,146 : INFO : epoch: 189; train_loss: 4.800833702087402\n",
      "2024-02-04 02:59:19,799 : INFO : epoch: 190; val_loss: 5.321917533874512\n",
      "2024-02-04 02:59:19,802 : INFO : epoch: 190; train_loss: 4.800729274749756\n",
      "2024-02-04 03:00:25,399 : INFO : epoch: 191; val_loss: 5.3219990730285645\n",
      "2024-02-04 03:00:25,402 : INFO : epoch: 191; train_loss: 4.800635814666748\n",
      "Epoch 00287: reducing learning rate of group 0 to 4.8828e-07.\n",
      "2024-02-04 03:01:36,266 : INFO : epoch: 192; val_loss: 5.321694850921631\n",
      "2024-02-04 03:01:36,269 : INFO : epoch: 192; train_loss: 4.799281597137451\n"
     ]
    },
    {
     "name": "stderr",
     "output_type": "stream",
     "text": [
      "Metric val_loss improved by 0.000 >= min_delta = 1e-05. New best score: 5.322\n"
     ]
    },
    {
     "name": "stdout",
     "output_type": "stream",
     "text": [
      "2024-02-04 03:01:36,351 : DEBUG : open file: /Users/andrey.golda/Documents/Study/MSU_interpol/training/wandb_local_logs/MSU_interpol/spring-feather-42/checkpoints/exp_name=0val_loss=5.32169-epoch=192.ckpt\n",
      "2024-02-04 03:02:42,768 : INFO : epoch: 193; val_loss: 5.321600437164307\n",
      "2024-02-04 03:02:42,770 : INFO : epoch: 193; train_loss: 4.79875373840332\n"
     ]
    },
    {
     "name": "stderr",
     "output_type": "stream",
     "text": [
      "Metric val_loss improved by 0.000 >= min_delta = 1e-05. New best score: 5.322\n"
     ]
    },
    {
     "name": "stdout",
     "output_type": "stream",
     "text": [
      "2024-02-04 03:02:42,863 : DEBUG : open file: /Users/andrey.golda/Documents/Study/MSU_interpol/training/wandb_local_logs/MSU_interpol/spring-feather-42/checkpoints/exp_name=0val_loss=5.32160-epoch=193.ckpt\n",
      "2024-02-04 03:03:49,300 : INFO : epoch: 194; val_loss: 5.321580410003662\n",
      "2024-02-04 03:03:49,303 : INFO : epoch: 194; train_loss: 4.798696041107178\n"
     ]
    },
    {
     "name": "stderr",
     "output_type": "stream",
     "text": [
      "Metric val_loss improved by 0.000 >= min_delta = 1e-05. New best score: 5.322\n"
     ]
    },
    {
     "name": "stdout",
     "output_type": "stream",
     "text": [
      "2024-02-04 03:03:49,390 : DEBUG : open file: /Users/andrey.golda/Documents/Study/MSU_interpol/training/wandb_local_logs/MSU_interpol/spring-feather-42/checkpoints/exp_name=0val_loss=5.32158-epoch=194.ckpt\n",
      "2024-02-04 03:05:00,863 : INFO : epoch: 195; val_loss: 5.321545600891113\n",
      "2024-02-04 03:05:00,866 : INFO : epoch: 195; train_loss: 4.798620700836182\n"
     ]
    },
    {
     "name": "stderr",
     "output_type": "stream",
     "text": [
      "Metric val_loss improved by 0.000 >= min_delta = 1e-05. New best score: 5.322\n"
     ]
    },
    {
     "name": "stdout",
     "output_type": "stream",
     "text": [
      "2024-02-04 03:05:00,949 : DEBUG : open file: /Users/andrey.golda/Documents/Study/MSU_interpol/training/wandb_local_logs/MSU_interpol/spring-feather-42/checkpoints/exp_name=0val_loss=5.32155-epoch=195.ckpt\n",
      "2024-02-04 03:06:12,350 : INFO : epoch: 196; val_loss: 5.321528911590576\n",
      "2024-02-04 03:06:12,353 : INFO : epoch: 196; train_loss: 4.798584461212158\n"
     ]
    },
    {
     "name": "stderr",
     "output_type": "stream",
     "text": [
      "Metric val_loss improved by 0.000 >= min_delta = 1e-05. New best score: 5.322\n"
     ]
    },
    {
     "name": "stdout",
     "output_type": "stream",
     "text": [
      "2024-02-04 03:06:12,441 : DEBUG : open file: /Users/andrey.golda/Documents/Study/MSU_interpol/training/wandb_local_logs/MSU_interpol/spring-feather-42/checkpoints/exp_name=0val_loss=5.32153-epoch=196.ckpt\n",
      "2024-02-04 03:07:24,193 : INFO : epoch: 197; val_loss: 5.32153844833374\n",
      "2024-02-04 03:07:24,195 : INFO : epoch: 197; train_loss: 4.798517227172852\n",
      "2024-02-04 03:07:24,278 : DEBUG : open file: /Users/andrey.golda/Documents/Study/MSU_interpol/training/wandb_local_logs/MSU_interpol/spring-feather-42/checkpoints/exp_name=0val_loss=5.32154-epoch=197.ckpt\n",
      "2024-02-04 03:08:30,269 : INFO : epoch: 198; val_loss: 5.3215012550354\n",
      "2024-02-04 03:08:30,272 : INFO : epoch: 198; train_loss: 4.798464298248291\n"
     ]
    },
    {
     "name": "stderr",
     "output_type": "stream",
     "text": [
      "Metric val_loss improved by 0.000 >= min_delta = 1e-05. New best score: 5.322\n"
     ]
    },
    {
     "name": "stdout",
     "output_type": "stream",
     "text": [
      "2024-02-04 03:08:30,350 : DEBUG : open file: /Users/andrey.golda/Documents/Study/MSU_interpol/training/wandb_local_logs/MSU_interpol/spring-feather-42/checkpoints/exp_name=0val_loss=5.32150-epoch=198.ckpt\n",
      "2024-02-04 03:09:42,236 : INFO : epoch: 199; val_loss: 5.3215179443359375\n",
      "2024-02-04 03:09:42,238 : INFO : epoch: 199; train_loss: 4.798397064208984\n",
      "2024-02-04 03:09:42,314 : DEBUG : open file: /Users/andrey.golda/Documents/Study/MSU_interpol/training/wandb_local_logs/MSU_interpol/spring-feather-42/checkpoints/exp_name=0val_loss=5.32152-epoch=199.ckpt\n",
      "2024-02-04 03:10:49,048 : INFO : epoch: 200; val_loss: 5.321510314941406\n",
      "2024-02-04 03:10:49,051 : INFO : epoch: 200; train_loss: 4.798345565795898\n",
      "2024-02-04 03:10:49,134 : DEBUG : open file: /Users/andrey.golda/Documents/Study/MSU_interpol/training/wandb_local_logs/MSU_interpol/spring-feather-42/checkpoints/exp_name=0val_loss=5.32151-epoch=200.ckpt\n",
      "2024-02-04 03:11:55,832 : INFO : epoch: 201; val_loss: 5.321462154388428\n",
      "2024-02-04 03:11:55,836 : INFO : epoch: 201; train_loss: 4.798268795013428\n"
     ]
    },
    {
     "name": "stderr",
     "output_type": "stream",
     "text": [
      "Metric val_loss improved by 0.000 >= min_delta = 1e-05. New best score: 5.321\n"
     ]
    },
    {
     "name": "stdout",
     "output_type": "stream",
     "text": [
      "2024-02-04 03:11:55,932 : DEBUG : open file: /Users/andrey.golda/Documents/Study/MSU_interpol/training/wandb_local_logs/MSU_interpol/spring-feather-42/checkpoints/exp_name=0val_loss=5.32146-epoch=201.ckpt\n",
      "2024-02-04 03:13:07,263 : INFO : epoch: 202; val_loss: 5.321480751037598\n",
      "2024-02-04 03:13:07,265 : INFO : epoch: 202; train_loss: 4.798232078552246\n",
      "2024-02-04 03:13:07,342 : DEBUG : open file: /Users/andrey.golda/Documents/Study/MSU_interpol/training/wandb_local_logs/MSU_interpol/spring-feather-42/checkpoints/exp_name=0val_loss=5.32148-epoch=202.ckpt\n",
      "2024-02-04 03:14:14,456 : INFO : epoch: 203; val_loss: 5.321537971496582\n",
      "2024-02-04 03:14:14,458 : INFO : epoch: 203; train_loss: 4.798185348510742\n",
      "2024-02-04 03:15:26,940 : INFO : epoch: 204; val_loss: 5.321523666381836\n",
      "2024-02-04 03:15:26,943 : INFO : epoch: 204; train_loss: 4.798111438751221\n",
      "2024-02-04 03:16:33,442 : INFO : epoch: 205; val_loss: 5.3215155601501465\n",
      "2024-02-04 03:16:33,445 : INFO : epoch: 205; train_loss: 4.798058032989502\n",
      "2024-02-04 03:17:45,710 : INFO : epoch: 206; val_loss: 5.321536064147949\n",
      "2024-02-04 03:17:45,712 : INFO : epoch: 206; train_loss: 4.798006534576416\n",
      "2024-02-04 03:18:53,066 : INFO : epoch: 207; val_loss: 5.321576118469238\n",
      "2024-02-04 03:18:53,069 : INFO : epoch: 207; train_loss: 4.797945976257324\n",
      "2024-02-04 03:19:59,738 : INFO : epoch: 208; val_loss: 5.3215131759643555\n",
      "2024-02-04 03:19:59,741 : INFO : epoch: 208; train_loss: 4.797918319702148\n",
      "2024-02-04 03:21:07,131 : INFO : epoch: 209; val_loss: 5.321516990661621\n",
      "Epoch 00313: reducing learning rate of group 0 to 2.4414e-07.\n",
      "2024-02-04 03:21:07,135 : INFO : epoch: 209; train_loss: 4.797844886779785\n",
      "2024-02-04 03:22:14,331 : INFO : epoch: 210; val_loss: 5.321617126464844\n",
      "2024-02-04 03:22:14,334 : INFO : epoch: 210; train_loss: 4.797058582305908\n",
      "2024-02-04 03:23:21,119 : INFO : epoch: 211; val_loss: 5.321683406829834\n",
      "2024-02-04 03:23:21,122 : INFO : epoch: 211; train_loss: 4.796762943267822\n",
      "2024-02-04 03:24:29,660 : INFO : epoch: 212; val_loss: 5.32168436050415\n",
      "2024-02-04 03:24:29,662 : INFO : epoch: 212; train_loss: 4.796681880950928\n",
      "2024-02-04 03:25:37,028 : INFO : epoch: 213; val_loss: 5.321667671203613\n",
      "2024-02-04 03:25:37,030 : INFO : epoch: 213; train_loss: 4.796649932861328\n",
      "2024-02-04 03:26:44,213 : INFO : epoch: 214; val_loss: 5.321664810180664\n",
      "2024-02-04 03:26:44,216 : INFO : epoch: 214; train_loss: 4.796619415283203\n",
      "2024-02-04 03:27:51,424 : INFO : epoch: 215; val_loss: 5.321683406829834\n",
      "2024-02-04 03:27:51,427 : INFO : epoch: 215; train_loss: 4.796599864959717\n",
      "2024-02-04 03:28:59,277 : INFO : epoch: 216; val_loss: 5.321651935577393\n",
      "2024-02-04 03:28:59,301 : INFO : epoch: 216; train_loss: 4.796559810638428\n",
      "2024-02-04 03:30:06,746 : INFO : epoch: 217; val_loss: 5.321664333343506\n",
      "2024-02-04 03:30:06,749 : INFO : epoch: 217; train_loss: 4.796535015106201\n",
      "2024-02-04 03:31:14,194 : INFO : epoch: 218; val_loss: 5.3216352462768555\n",
      "2024-02-04 03:31:14,196 : INFO : epoch: 218; train_loss: 4.796496868133545\n",
      "2024-02-04 03:32:21,219 : INFO : epoch: 219; val_loss: 5.3216681480407715\n",
      "2024-02-04 03:32:21,221 : INFO : epoch: 219; train_loss: 4.79649019241333\n",
      "2024-02-04 03:33:29,217 : INFO : epoch: 220; val_loss: 5.3216400146484375\n",
      "2024-02-04 03:33:29,220 : INFO : epoch: 220; train_loss: 4.7964558601379395\n",
      "2024-02-04 03:34:36,281 : INFO : epoch: 221; val_loss: 5.321619033813477\n",
      "2024-02-04 03:34:36,284 : INFO : epoch: 221; train_loss: 4.796435832977295\n"
     ]
    },
    {
     "name": "stderr",
     "output_type": "stream",
     "text": [
      "Monitored metric val_loss did not improve in the last 20 records. Best score: 5.321. Signaling Trainer to stop.\n"
     ]
    },
    {
     "name": "stdout",
     "output_type": "stream",
     "text": [
      "2024-02-04 03:34:36,301 : INFO : Training is ending\n"
     ]
    }
   ],
   "source": [
    "data_module = InterpolDataModule(hyperparams=hyperparams_dict)\n",
    "model = InterpolRegressor(hyperparams=hyperparams_dict)\n",
    "# model = InterpolRegressor.load_from_checkpoint(f'./wandb_local_logs/MSU_interpol/blooming-plasma-40/checkpoints/exp_name=0val_loss=6.43574-epoch=14.ckpt', hyperparams=hyperparams_dict)\n",
    "\n",
    "trainer = pl.Trainer(max_epochs=hyperparams_dict.get('max_epochs'),\n",
    "                     accelerator='cpu',\n",
    "                     logger=wandb_logger,\n",
    "                     enable_progress_bar=False)\n",
    "trainer.fit(model, data_module)"
   ]
  },
  {
   "cell_type": "code",
   "execution_count": 22,
   "id": "9f33d989",
   "metadata": {
    "scrolled": false,
    "ExecuteTime": {
     "end_time": "2024-02-04T11:54:13.206244Z",
     "start_time": "2024-02-04T11:54:04.614071Z"
    }
   },
   "outputs": [
    {
     "data": {
      "text/plain": "VBox(children=(Label(value='0.001 MB of 0.001 MB uploaded\\r'), FloatProgress(value=1.0, max=1.0)))",
      "application/vnd.jupyter.widget-view+json": {
       "version_major": 2,
       "version_minor": 0,
       "model_id": "0a8d9792823d409aa120e393ae49ad2c"
      }
     },
     "metadata": {},
     "output_type": "display_data"
    },
    {
     "data": {
      "text/plain": "<IPython.core.display.HTML object>",
      "text/html": "<style>\n    table.wandb td:nth-child(1) { padding: 0 10px; text-align: left ; width: auto;} td:nth-child(2) {text-align: left ; width: 100%}\n    .wandb-row { display: flex; flex-direction: row; flex-wrap: wrap; justify-content: flex-start; width: 100% }\n    .wandb-col { display: flex; flex-direction: column; flex-basis: 100%; flex: 1; padding: 10px; }\n    </style>\n<div class=\"wandb-row\"><div class=\"wandb-col\"><h3>Run history:</h3><br/><table class=\"wandb\"><tr><td>epoch</td><td>▁▁▁▂▂▂▂▂▂▃▃▃▃▃▃▄▄▄▄▄▅▅▅▅▅▅▆▆▆▆▆▇▇▇▇▇▇███</td></tr><tr><td>lr_scheduler_monitoring</td><td>███▄▄▄▄▃▃▃▂▂▂▁▁▁▁▁▁▁▁▁▁▁▁▁▁▁▁▁▁▁▁▁▁▁▁▁▁▁</td></tr><tr><td>train_loss</td><td>█▅▃▂▂▂▂▂▁▁▁▁▁▁▁▁▁▁▁▁▁▁▁▁▁▁▁▁▁▁▁▁▁▁▁▁▁▁▁▁</td></tr><tr><td>train_mae</td><td>█▅▃▂▂▂▂▂▂▂▁▁▁▁▁▁▁▁▁▁▁▁▁▁▁▁▁▁▁▁▁▁▁▁▁▁▁▁▁▁</td></tr><tr><td>trainer/global_step</td><td>▁▁▁▂▂▂▂▂▂▃▃▃▃▃▃▄▄▄▄▄▅▅▅▅▅▅▆▆▆▆▆▇▇▇▇▇▇███</td></tr><tr><td>val_loss</td><td>█▄▂▂▂▂▂▂▁▁▁▁▁▁▁▁▁▁▁▁▁▁▁▁▁▁▁▁▁▁▁▁▁▁▁▁▁▁▁▁</td></tr><tr><td>val_mae</td><td>█▅▄▂▂▂▂▂▂▁▁▁▁▁▁▁▁▁▁▁▁▁▁▁▁▁▁▁▁▁▁▁▁▁▁▁▁▁▁▁</td></tr></table><br/></div><div class=\"wandb-col\"><h3>Run summary:</h3><br/><table class=\"wandb\"><tr><td>epoch</td><td>221</td></tr><tr><td>lr_scheduler_monitoring</td><td>0.0</td></tr><tr><td>train_loss</td><td>4.79643</td></tr><tr><td>train_mae</td><td>0.15828</td></tr><tr><td>trainer/global_step</td><td>73037</td></tr><tr><td>val_loss</td><td>5.32162</td></tr><tr><td>val_mae</td><td>0.16561</td></tr></table><br/></div></div>"
     },
     "metadata": {},
     "output_type": "display_data"
    },
    {
     "data": {
      "text/plain": "<IPython.core.display.HTML object>",
      "text/html": " View run <strong style=\"color:#cdcd00\">spring-feather-42</strong> at: <a href='https://wandb.ai/msu_ai/msu_interpol/runs/c4akcho3' target=\"_blank\">https://wandb.ai/msu_ai/msu_interpol/runs/c4akcho3</a><br/> View job at <a href='https://wandb.ai/msu_ai/msu_interpol/jobs/QXJ0aWZhY3RDb2xsZWN0aW9uOjEzMDk2MzQ1OQ==/version_details/v11' target=\"_blank\">https://wandb.ai/msu_ai/msu_interpol/jobs/QXJ0aWZhY3RDb2xsZWN0aW9uOjEzMDk2MzQ1OQ==/version_details/v11</a><br/>Synced 5 W&B file(s), 0 media file(s), 0 artifact file(s) and 0 other file(s)"
     },
     "metadata": {},
     "output_type": "display_data"
    },
    {
     "data": {
      "text/plain": "<IPython.core.display.HTML object>",
      "text/html": "Find logs at: <code>./wandb_local_logs/wandb/run-20240204_000520-c4akcho3/logs</code>"
     },
     "metadata": {},
     "output_type": "display_data"
    }
   ],
   "source": [
    "wandb.finish()"
   ]
  },
  {
   "cell_type": "code",
   "execution_count": null,
   "outputs": [],
   "source": [],
   "metadata": {
    "collapsed": false
   }
  }
 ],
 "metadata": {
  "kernelspec": {
   "display_name": "Python 3",
   "language": "python",
   "name": "python3"
  },
  "language_info": {
   "codemirror_mode": {
    "name": "ipython",
    "version": 3
   },
   "file_extension": ".py",
   "mimetype": "text/x-python",
   "name": "python",
   "nbconvert_exporter": "python",
   "pygments_lexer": "ipython3",
   "version": "3.9.0"
  }
 },
 "nbformat": 4,
 "nbformat_minor": 5
}
