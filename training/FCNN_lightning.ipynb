{
 "cells": [
  {
   "cell_type": "code",
   "execution_count": 10,
   "id": "8ce34e31",
   "metadata": {
    "code_folding": [],
    "ExecuteTime": {
     "end_time": "2024-01-23T00:09:01.889592Z",
     "start_time": "2024-01-23T00:09:01.775039Z"
    }
   },
   "outputs": [],
   "source": [
    "import os\n",
    "import sys\n",
    "import math\n",
    "import wandb\n",
    "import torch\n",
    "import logging\n",
    "\n",
    "import numpy as np\n",
    "import pandas as pd\n",
    "import torch.nn as nn\n",
    "import lightning.pytorch as pl\n",
    "\n",
    "from torchmetrics import MeanAbsoluteError\n",
    "from sklearn.metrics import mean_squared_error\n",
    "from torch.utils.data import Dataset, DataLoader\n",
    "from sklearn.preprocessing import StandardScaler\n",
    "from lightning.pytorch.loggers import WandbLogger\n",
    "from sklearn.model_selection import train_test_split\n",
    "from torch.optim.lr_scheduler import ReduceLROnPlateau\n",
    "from lightning.pytorch.callbacks.early_stopping import EarlyStopping\n",
    "from lightning.pytorch.callbacks import Callback, LearningRateMonitor, ModelCheckpoint"
   ]
  },
  {
   "cell_type": "code",
   "execution_count": 11,
   "outputs": [
    {
     "name": "stderr",
     "output_type": "stream",
     "text": [
      "\u001B[34m\u001B[1mwandb\u001B[0m: \u001B[33mWARNING\u001B[0m Calling wandb.login() after wandb.init() has no effect.\n"
     ]
    },
    {
     "data": {
      "text/plain": "True"
     },
     "execution_count": 11,
     "metadata": {},
     "output_type": "execute_result"
    }
   ],
   "source": [
    "wandb.login()"
   ],
   "metadata": {
    "collapsed": false,
    "ExecuteTime": {
     "end_time": "2024-01-23T00:09:02.057009Z",
     "start_time": "2024-01-23T00:09:01.996090Z"
    }
   }
  },
  {
   "cell_type": "markdown",
   "id": "94402bc9",
   "metadata": {
    "ExecuteTime": {
     "end_time": "2024-01-19T00:54:02.062303Z",
     "start_time": "2024-01-19T00:54:02.047207Z"
    }
   },
   "source": [
    "# FCNN"
   ],
   "outputs": [],
   "execution_count": 21
  },
  {
   "cell_type": "code",
   "execution_count": 12,
   "outputs": [],
   "source": [
    "class RMSELoss(torch.nn.Module):\n",
    "    def __init__(self):\n",
    "        super(RMSELoss,self).__init__()\n",
    "\n",
    "    def forward(self,x,y):\n",
    "        criterion = nn.MSELoss()\n",
    "        loss = torch.sqrt(criterion(x, y))\n",
    "        return loss"
   ],
   "metadata": {
    "collapsed": false,
    "ExecuteTime": {
     "end_time": "2024-01-23T00:09:04.324989Z",
     "start_time": "2024-01-23T00:09:04.290216Z"
    }
   }
  },
  {
   "cell_type": "code",
   "execution_count": 13,
   "id": "192e02bf",
   "metadata": {
    "code_folding": [],
    "ExecuteTime": {
     "end_time": "2024-01-23T00:09:06.424421Z",
     "start_time": "2024-01-23T00:09:06.404807Z"
    }
   },
   "outputs": [],
   "source": [
    "#params\n",
    "project_name = \"MSU_interpol\"\n",
    "\n",
    "logger_path = './wandb_local_logs'\n",
    "data_path = '../data/clasdb_pi_plus_n.txt'\n",
    "\n",
    "hyperparams_dict = {\n",
    "    'scale_data': False,\n",
    "    'test_size': 0.1,\n",
    "    'batch_size': 32,\n",
    "    'net_architecture': [5,60,80,100,200,300,400,600,800,100,200,300,400,600,800,5000,640,340,240,140,100,80,60,20,1],\n",
    "    'activation_function': nn.ReLU(),\n",
    "    'loss_func': RMSELoss(),\n",
    "    'optim_func': torch.optim.Adam,\n",
    "    'max_epochs': 2000,\n",
    "    'es_min_delta': 0.00001,\n",
    "    'es_patience': 20,\n",
    "    'lr': 0.0000001,\n",
    "    'lr_factor':0.5,\n",
    "    'lr_patience': 5,\n",
    "    'lr_cooldown': 8,\n",
    "}"
   ]
  },
  {
   "cell_type": "code",
   "execution_count": 14,
   "outputs": [],
   "source": [
    "wandb_logger = WandbLogger(project=project_name,\n",
    "                           save_dir=logger_path)\n",
    "exp_name = wandb_logger.experiment.name\n",
    "\n",
    "logger_full_path = os.path.join(logger_path, project_name, exp_name)\n",
    "\n",
    "os.makedirs(logger_full_path, exist_ok=True)\n",
    "logging.basicConfig(encoding='utf-8',\n",
    "                    level=logging.DEBUG,\n",
    "                    format='%(asctime)s : %(levelname)s : %(message)s',\n",
    "                    handlers=[logging.FileHandler(os.path.join(logger_full_path, 'logs.log'), mode='w'),\n",
    "                              logging.StreamHandler(sys.stdout)],\n",
    "                    force=True)"
   ],
   "metadata": {
    "collapsed": false,
    "ExecuteTime": {
     "end_time": "2024-01-23T00:09:07.976084Z",
     "start_time": "2024-01-23T00:09:07.921238Z"
    }
   }
  },
  {
   "cell_type": "code",
   "execution_count": 15,
   "id": "1a4c8bf4",
   "metadata": {
    "code_folding": [
     0,
     14,
     57
    ],
    "ExecuteTime": {
     "end_time": "2024-01-23T00:09:09.115464Z",
     "start_time": "2024-01-23T00:09:09.095844Z"
    }
   },
   "outputs": [],
   "source": [
    "class InterpolDataSet(Dataset):\n",
    "    def __init__(self, features, labels):\n",
    "        self.features = features\n",
    "        self.labels = labels\n",
    "        self.len = len(labels)\n",
    "\n",
    "    def __getitem__(self, index):\n",
    "        feature = self.features[index]\n",
    "        label = self.labels[index]\n",
    "        return feature, label\n",
    "\n",
    "    def __len__(self):\n",
    "        return self.len\n",
    "\n",
    "class InterpolDataModule(pl.LightningDataModule):\n",
    "    def __init__(self, hyperparams):\n",
    "        super().__init__()\n",
    "        self.df = None\n",
    "        self.hyperparams = hyperparams\n",
    "    \n",
    "    def setup(self, stage):\n",
    "        # data reading and preprocessing\n",
    "        df = pd.read_csv(data_path, delimiter='\\t', header=None)\n",
    "        df.columns = ['Ebeam', 'W', 'Q2', 'cos_theta', 'phi', 'dsigma_dOmega', 'error', 'id']\n",
    "\n",
    "        df.loc[8314:65671, 'Ebeam'] = 5.754 # peculiarity of this dataset.\n",
    "        df['phi'] = df.phi.apply(lambda x: math.radians(x))\n",
    "        df = df.drop('id', axis=1)\n",
    "        df = df.iloc[df[['Ebeam', 'W', 'Q2', 'cos_theta', 'phi']].drop_duplicates().index]\n",
    "        self.df = df\n",
    "        \n",
    "        #train test split\n",
    "        feature_data = df[['Ebeam', 'W', 'Q2', 'cos_theta', 'phi']]\n",
    "        label_data = df['dsigma_dOmega']\n",
    "        \n",
    "        if self.hyperparams.get('scale_data'):\n",
    "            scaler_feature = StandardScaler()\n",
    "            scaler_target = StandardScaler()\n",
    "            feature_data = scaler_feature.fit_transform(feature_data)\n",
    "            label_data = scaler_target.fit_transform(label_data.values.reshape(-1,1))\n",
    "        else:\n",
    "            pass\n",
    "        \n",
    "        train_feature_data, val_feature_data, train_label_data, val_label_data = train_test_split(feature_data,\n",
    "                                                                                                  label_data,\n",
    "                                                                                                  test_size=self.hyperparams.get('test_size'),\n",
    "                                                                                                  random_state=1438)\n",
    "        \n",
    "        \n",
    "        self.train_dataset = InterpolDataSet(torch.tensor(train_feature_data.values, dtype=torch.float32), \n",
    "                                             torch.tensor(train_label_data.values, dtype=torch.float32))\n",
    "        \n",
    "        self.val_dataset = InterpolDataSet(torch.tensor(val_feature_data.values, dtype=torch.float32), \n",
    "                                            torch.tensor(val_label_data.values, dtype=torch.float32))\n",
    "    def train_dataloader(self):\n",
    "        return DataLoader(dataset = self.train_dataset, batch_size = self.hyperparams.get('batch_size'), shuffle = False, num_workers=0)\n",
    "\n",
    "    def val_dataloader(self):\n",
    "        return DataLoader(dataset = self.val_dataset, batch_size = self.hyperparams.get('batch_size'), shuffle = False, num_workers=0)\n",
    "\n",
    "class PrintCallbacks(Callback):\n",
    "    def on_train_start(self, trainer, pl_module):\n",
    "        logging.info(\"Training is starting\")\n",
    "\n",
    "    def on_train_end(self, trainer, pl_module):\n",
    "        logging.info(\"Training is ending\")\n",
    "\n",
    "    def on_train_epoch_end(self, trainer, pl_module):\n",
    "        logging.info(f\"epoch: {pl_module.current_epoch}; train_loss: {pl_module.train_loss}; train_mae: {pl_module.train_mae}\")\n",
    "\n",
    "    def on_validation_epoch_end(self, trainer, pl_module):\n",
    "        logging.info(f\"epoch: {pl_module.current_epoch}; val_loss: {pl_module.val_loss}; val_mae: {pl_module.val_mae}\")\n",
    "\n",
    "class InterpolRegressor(pl.LightningModule):\n",
    "    def __init__(self, hyperparams):\n",
    "        super(InterpolRegressor, self).__init__()\n",
    "\n",
    "        self.train_loss, self.train_mae, self.val_loss, self.val_mae = 0,0,0,0\n",
    "        self.hyperparams = hyperparams\n",
    "        self.save_hyperparameters(self.hyperparams)\n",
    "\n",
    "        self.mae = MeanAbsoluteError()\n",
    "        self.loss_func = self.hyperparams.get('loss_func')\n",
    "\n",
    "        self.optim = self.hyperparams.get('optim_func')\n",
    "\n",
    "        self.net_architecture = self.hyperparams.get('net_architecture')\n",
    "        self.activation_function = self.hyperparams.get('activation_function')\n",
    "\n",
    "        self.net = nn.Sequential()\n",
    "        for i in range(1,len(self.net_architecture)):\n",
    "            self.net.append(nn.Linear(self.net_architecture[i-1], self.net_architecture[i]))\n",
    "            if i!=len(self.net_architecture)-1:\n",
    "                self.net.append(self.activation_function)\n",
    "            else:\n",
    "                pass\n",
    "\n",
    "    def forward(self, x):\n",
    "        return self.net(x)\n",
    "\n",
    "    def training_step(self, batch, batch_idx):\n",
    "        x, y = batch\n",
    "        y_hat = self.forward(x)\n",
    "\n",
    "        loss = self.loss_func\n",
    "        self.train_loss = loss(y_hat.reshape(-1), y)\n",
    "        self.train_mae = self.mae(y_hat.reshape(-1), y)\n",
    "\n",
    "        self.log('train_loss', self.train_loss, batch_size=self.hyperparams['batch_size'],\n",
    "                 on_step=False, on_epoch=True, prog_bar=True, sync_dist=True, logger=True)\n",
    "        self.log('train_mae', self.train_mae, batch_size=self.hyperparams['batch_size'],\n",
    "                 on_step=False, on_epoch=True, prog_bar=True, sync_dist=True, logger=True)\n",
    "\n",
    "        return self.train_loss\n",
    "\n",
    "    def validation_step(self, batch, batch_idx):\n",
    "        x, y = batch\n",
    "        y_hat = self.forward(x)\n",
    "\n",
    "        loss = self.loss_func\n",
    "        self.val_loss = loss(y_hat.reshape(-1), y)\n",
    "        self.val_mae = self.mae(y_hat.reshape(-1), y)\n",
    "\n",
    "        self.log('val_loss', self.val_loss, batch_size=self.hyperparams['batch_size'],\n",
    "                 on_step=False, on_epoch=True, prog_bar=True, sync_dist=True, logger=True)\n",
    "        self.log('val_mae', self.val_mae, batch_size=self.hyperparams['batch_size'],\n",
    "                 on_step=False, on_epoch=True, prog_bar=True, sync_dist=True, logger=True)\n",
    "\n",
    "        return self.val_loss\n",
    "\n",
    "    def on_validation_epoch_end(self):\n",
    "        sch = self.lr_schedulers()\n",
    "        if isinstance(sch, torch.optim.lr_scheduler.ReduceLROnPlateau) and self.trainer.current_epoch!=0:\n",
    "                sch.step(self.trainer.callback_metrics[\"val_loss\"])\n",
    "\n",
    "    def configure_callbacks(self):\n",
    "        early_stop_callback = EarlyStopping(monitor=\"val_loss\", mode=\"min\",\n",
    "                                            min_delta=self.hyperparams.get('es_min_delta'),\n",
    "                                            patience=self.hyperparams.get('es_patience'),\n",
    "                                            verbose=True)\n",
    "\n",
    "        checkpoint_callback = ModelCheckpoint(save_top_k=3,\n",
    "                                              monitor=\"val_loss\",\n",
    "                                              mode=\"min\",\n",
    "                                              dirpath=f\"{logger_full_path}/checkpoints\",\n",
    "                                              filename=\"{exp_name}{val_loss:.5f}-{epoch:02d}\")\n",
    "\n",
    "        lr_monitor = LearningRateMonitor(logging_interval='epoch')\n",
    "\n",
    "        print_callback = PrintCallbacks()\n",
    "\n",
    "        return [early_stop_callback, checkpoint_callback, print_callback, lr_monitor]\n",
    "\n",
    "    def configure_optimizers(self):\n",
    "        optimizer = self.optim(self.parameters(), lr=self.hyperparams.get('lr'))\n",
    "        lr_optim = ReduceLROnPlateau(optimizer = optimizer,\n",
    "                                     mode = 'min',\n",
    "                                     factor = self.hyperparams.get('lr_factor'),\n",
    "                                     patience = self.hyperparams.get('lr_patience'),\n",
    "                                     cooldown=self.hyperparams.get('lr_cooldown'),\n",
    "                                     threshold=0.01,\n",
    "                                     verbose= True)\n",
    "        return {\"optimizer\": optimizer,\n",
    "                \"lr_scheduler\": {\n",
    "                    \"scheduler\": lr_optim,\n",
    "                    \"interval\": \"epoch\",\n",
    "                    \"monitor\": \"val_loss\",\n",
    "                    \"frequency\": 2,\n",
    "                    \"name\": 'lr_scheduler_monitoring'}\n",
    "                }\n"
   ]
  },
  {
   "cell_type": "code",
   "execution_count": null,
   "id": "8b5babb2",
   "metadata": {
    "code_folding": [],
    "scrolled": false,
    "is_executing": true,
    "ExecuteTime": {
     "start_time": "2024-01-23T00:09:35.315469Z"
    }
   },
   "outputs": [
    {
     "name": "stdout",
     "output_type": "stream",
     "text": [
      "2024-01-23 00:09:35,390 : DEBUG : open file: /Users/andrey.golda/Documents/Study/MSU_interpol/training/wandb_local_logs/MSU_interpol/fresh-surf-31/checkpoints/exp_name=0val_loss=0.32796-epoch=57.ckpt\n"
     ]
    },
    {
     "name": "stderr",
     "output_type": "stream",
     "text": [
      "/Users/andrey.golda/Library/Caches/pypoetry/virtualenvs/msu-interpol--lw2ADYE-py3.11/lib/python3.11/site-packages/lightning/pytorch/utilities/parsing.py:198: Attribute 'activation_function' is an instance of `nn.Module` and is already saved during checkpointing. It is recommended to ignore them using `self.save_hyperparameters(ignore=['activation_function'])`.\n",
      "/Users/andrey.golda/Library/Caches/pypoetry/virtualenvs/msu-interpol--lw2ADYE-py3.11/lib/python3.11/site-packages/lightning/pytorch/utilities/parsing.py:198: Attribute 'loss_func' is an instance of `nn.Module` and is already saved during checkpointing. It is recommended to ignore them using `self.save_hyperparameters(ignore=['loss_func'])`.\n",
      "GPU available: False, used: False\n",
      "TPU available: False, using: 0 TPU cores\n",
      "IPU available: False, using: 0 IPUs\n",
      "HPU available: False, using: 0 HPUs\n",
      "The following callbacks returned in `LightningModule.configure_callbacks` will override existing callbacks passed to Trainer: ModelCheckpoint\n",
      "\n",
      "  | Name                | Type              | Params\n",
      "----------------------------------------------------------\n",
      "0 | mae                 | MeanAbsoluteError | 0     \n",
      "1 | loss_func           | RMSELoss          | 0     \n",
      "2 | activation_function | ReLU              | 0     \n",
      "3 | net                 | Sequential        | 9.5 M \n",
      "----------------------------------------------------------\n",
      "9.5 M     Trainable params\n",
      "0         Non-trainable params\n",
      "9.5 M     Total params\n",
      "38.022    Total estimated model params size (MB)\n"
     ]
    },
    {
     "name": "stdout",
     "output_type": "stream",
     "text": [
      "2024-01-23 00:09:37,958 : INFO : epoch: 0; val_loss: 0.15204651653766632; val_mae: 0.12779992818832397\n",
      "2024-01-23 00:09:37,963 : INFO : Training is starting\n"
     ]
    },
    {
     "name": "stderr",
     "output_type": "stream",
     "text": [
      "/Users/andrey.golda/Library/Caches/pypoetry/virtualenvs/msu-interpol--lw2ADYE-py3.11/lib/python3.11/site-packages/lightning/pytorch/trainer/connectors/data_connector.py:441: The 'val_dataloader' does not have many workers which may be a bottleneck. Consider increasing the value of the `num_workers` argument` to `num_workers=11` in the `DataLoader` to improve performance.\n",
      "/Users/andrey.golda/Library/Caches/pypoetry/virtualenvs/msu-interpol--lw2ADYE-py3.11/lib/python3.11/site-packages/lightning/pytorch/trainer/connectors/data_connector.py:441: The 'train_dataloader' does not have many workers which may be a bottleneck. Consider increasing the value of the `num_workers` argument` to `num_workers=11` in the `DataLoader` to improve performance.\n"
     ]
    },
    {
     "name": "stdout",
     "output_type": "stream",
     "text": [
      "2024-01-23 00:14:33,816 : INFO : epoch: 0; val_loss: 0.24331408739089966; val_mae: 0.12414690852165222\n",
      "2024-01-23 00:14:33,818 : INFO : epoch: 0; train_loss: 0.38319629430770874; train_mae: 0.1815401017665863\n"
     ]
    },
    {
     "name": "stderr",
     "output_type": "stream",
     "text": [
      "Metric val_loss improved. New best score: 0.328\n"
     ]
    },
    {
     "name": "stdout",
     "output_type": "stream",
     "text": [
      "2024-01-23 00:14:33,976 : DEBUG : open file: /Users/andrey.golda/Documents/Study/MSU_interpol/training/wandb_local_logs/MSU_interpol/peachy-galaxy-32/checkpoints/exp_name=0val_loss=0.32796-epoch=00.ckpt\n",
      "2024-01-23 00:19:57,628 : INFO : epoch: 1; val_loss: 0.24316458404064178; val_mae: 0.12416858971118927\n",
      "2024-01-23 00:19:57,631 : INFO : epoch: 1; train_loss: 0.38298624753952026; train_mae: 0.1814659684896469\n"
     ]
    },
    {
     "name": "stderr",
     "output_type": "stream",
     "text": [
      "Metric val_loss improved by 0.000 >= min_delta = 1e-05. New best score: 0.328\n"
     ]
    },
    {
     "name": "stdout",
     "output_type": "stream",
     "text": [
      "2024-01-23 00:19:57,780 : DEBUG : open file: /Users/andrey.golda/Documents/Study/MSU_interpol/training/wandb_local_logs/MSU_interpol/peachy-galaxy-32/checkpoints/exp_name=0val_loss=0.32795-epoch=01.ckpt\n",
      "2024-01-23 00:25:23,988 : INFO : epoch: 2; val_loss: 0.24304676055908203; val_mae: 0.12416689842939377\n",
      "2024-01-23 00:25:23,990 : INFO : epoch: 2; train_loss: 0.38271310925483704; train_mae: 0.18136416375637054\n"
     ]
    },
    {
     "name": "stderr",
     "output_type": "stream",
     "text": [
      "Metric val_loss improved by 0.000 >= min_delta = 1e-05. New best score: 0.328\n"
     ]
    },
    {
     "name": "stdout",
     "output_type": "stream",
     "text": [
      "2024-01-23 00:25:24,143 : DEBUG : open file: /Users/andrey.golda/Documents/Study/MSU_interpol/training/wandb_local_logs/MSU_interpol/peachy-galaxy-32/checkpoints/exp_name=0val_loss=0.32793-epoch=02.ckpt\n",
      "2024-01-23 00:30:52,139 : INFO : epoch: 3; val_loss: 0.24297571182250977; val_mae: 0.12416587769985199\n",
      "2024-01-23 00:30:52,143 : INFO : epoch: 3; train_loss: 0.3824864625930786; train_mae: 0.18125925958156586\n"
     ]
    },
    {
     "name": "stderr",
     "output_type": "stream",
     "text": [
      "Metric val_loss improved by 0.000 >= min_delta = 1e-05. New best score: 0.328\n"
     ]
    },
    {
     "name": "stdout",
     "output_type": "stream",
     "text": [
      "2024-01-23 00:30:52,308 : DEBUG : open file: /Users/andrey.golda/Documents/Study/MSU_interpol/training/wandb_local_logs/MSU_interpol/peachy-galaxy-32/checkpoints/exp_name=0val_loss=0.32792-epoch=03.ckpt\n",
      "2024-01-23 00:36:17,650 : INFO : epoch: 4; val_loss: 0.24293817579746246; val_mae: 0.1241992637515068\n",
      "2024-01-23 00:36:17,654 : INFO : epoch: 4; train_loss: 0.38234370946884155; train_mae: 0.1811579465866089\n"
     ]
    },
    {
     "name": "stderr",
     "output_type": "stream",
     "text": [
      "Metric val_loss improved by 0.000 >= min_delta = 1e-05. New best score: 0.328\n"
     ]
    },
    {
     "name": "stdout",
     "output_type": "stream",
     "text": [
      "2024-01-23 00:36:17,814 : DEBUG : open file: /Users/andrey.golda/Documents/Study/MSU_interpol/training/wandb_local_logs/MSU_interpol/peachy-galaxy-32/checkpoints/exp_name=0val_loss=0.32790-epoch=04.ckpt\n",
      "2024-01-23 00:41:44,229 : INFO : epoch: 5; val_loss: 0.24284881353378296; val_mae: 0.12418165057897568\n",
      "Epoch 00007: reducing learning rate of group 0 to 5.0000e-08.\n",
      "2024-01-23 00:41:44,233 : INFO : epoch: 5; train_loss: 0.382129967212677; train_mae: 0.18104609847068787\n"
     ]
    },
    {
     "name": "stderr",
     "output_type": "stream",
     "text": [
      "Metric val_loss improved by 0.000 >= min_delta = 1e-05. New best score: 0.328\n"
     ]
    },
    {
     "name": "stdout",
     "output_type": "stream",
     "text": [
      "2024-01-23 00:41:44,392 : DEBUG : open file: /Users/andrey.golda/Documents/Study/MSU_interpol/training/wandb_local_logs/MSU_interpol/peachy-galaxy-32/checkpoints/exp_name=0val_loss=0.32789-epoch=05.ckpt\n",
      "2024-01-23 00:47:10,247 : INFO : epoch: 6; val_loss: 0.24214720726013184; val_mae: 0.12524089217185974\n",
      "2024-01-23 00:47:10,251 : INFO : epoch: 6; train_loss: 0.3767416179180145; train_mae: 0.17917416989803314\n"
     ]
    },
    {
     "name": "stderr",
     "output_type": "stream",
     "text": [
      "Metric val_loss improved by 0.000 >= min_delta = 1e-05. New best score: 0.328\n"
     ]
    },
    {
     "name": "stdout",
     "output_type": "stream",
     "text": [
      "2024-01-23 00:47:10,419 : DEBUG : open file: /Users/andrey.golda/Documents/Study/MSU_interpol/training/wandb_local_logs/MSU_interpol/peachy-galaxy-32/checkpoints/exp_name=0val_loss=0.32784-epoch=06.ckpt\n",
      "2024-01-23 00:52:36,267 : INFO : epoch: 7; val_loss: 0.24207767844200134; val_mae: 0.12527543306350708\n",
      "2024-01-23 00:52:36,271 : INFO : epoch: 7; train_loss: 0.376571923494339; train_mae: 0.17915096879005432\n"
     ]
    },
    {
     "name": "stderr",
     "output_type": "stream",
     "text": [
      "Metric val_loss improved by 0.000 >= min_delta = 1e-05. New best score: 0.328\n"
     ]
    },
    {
     "name": "stdout",
     "output_type": "stream",
     "text": [
      "2024-01-23 00:52:36,450 : DEBUG : open file: /Users/andrey.golda/Documents/Study/MSU_interpol/training/wandb_local_logs/MSU_interpol/peachy-galaxy-32/checkpoints/exp_name=0val_loss=0.32782-epoch=07.ckpt\n",
      "2024-01-23 00:58:00,269 : INFO : epoch: 8; val_loss: 0.24208013713359833; val_mae: 0.12530608475208282\n",
      "2024-01-23 00:58:00,272 : INFO : epoch: 8; train_loss: 0.3764913082122803; train_mae: 0.17911680042743683\n",
      "2024-01-23 00:58:00,428 : DEBUG : open file: /Users/andrey.golda/Documents/Study/MSU_interpol/training/wandb_local_logs/MSU_interpol/peachy-galaxy-32/checkpoints/exp_name=0val_loss=0.32782-epoch=08.ckpt\n",
      "2024-01-23 01:02:42,426 : INFO : epoch: 9; val_loss: 0.24206778407096863; val_mae: 0.12532652914524078\n",
      "2024-01-23 01:02:42,428 : INFO : epoch: 9; train_loss: 0.3763468861579895; train_mae: 0.17905490100383759\n"
     ]
    },
    {
     "name": "stderr",
     "output_type": "stream",
     "text": [
      "Metric val_loss improved by 0.000 >= min_delta = 1e-05. New best score: 0.328\n"
     ]
    },
    {
     "name": "stdout",
     "output_type": "stream",
     "text": [
      "2024-01-23 01:02:42,577 : DEBUG : open file: /Users/andrey.golda/Documents/Study/MSU_interpol/training/wandb_local_logs/MSU_interpol/peachy-galaxy-32/checkpoints/exp_name=0val_loss=0.32781-epoch=09.ckpt\n",
      "2024-01-23 01:08:07,054 : INFO : epoch: 10; val_loss: 0.24203136563301086; val_mae: 0.12536048889160156\n",
      "2024-01-23 01:08:07,056 : INFO : epoch: 10; train_loss: 0.37620142102241516; train_mae: 0.17901332676410675\n",
      "2024-01-23 01:08:07,207 : DEBUG : open file: /Users/andrey.golda/Documents/Study/MSU_interpol/training/wandb_local_logs/MSU_interpol/peachy-galaxy-32/checkpoints/exp_name=0val_loss=0.32780-epoch=10.ckpt\n",
      "2024-01-23 01:12:51,045 : INFO : epoch: 11; val_loss: 0.24200281500816345; val_mae: 0.1253710836172104\n",
      "2024-01-23 01:12:51,048 : INFO : epoch: 11; train_loss: 0.3761308491230011; train_mae: 0.17896035313606262\n"
     ]
    },
    {
     "name": "stderr",
     "output_type": "stream",
     "text": [
      "Metric val_loss improved by 0.000 >= min_delta = 1e-05. New best score: 0.328\n"
     ]
    },
    {
     "name": "stdout",
     "output_type": "stream",
     "text": [
      "2024-01-23 01:12:51,196 : DEBUG : open file: /Users/andrey.golda/Documents/Study/MSU_interpol/training/wandb_local_logs/MSU_interpol/peachy-galaxy-32/checkpoints/exp_name=0val_loss=0.32780-epoch=11.ckpt\n",
      "2024-01-23 01:18:17,430 : INFO : epoch: 12; val_loss: 0.2419615387916565; val_mae: 0.12537354230880737\n",
      "2024-01-23 01:18:17,435 : INFO : epoch: 12; train_loss: 0.3760589063167572; train_mae: 0.17891806364059448\n"
     ]
    },
    {
     "name": "stderr",
     "output_type": "stream",
     "text": [
      "Metric val_loss improved by 0.000 >= min_delta = 1e-05. New best score: 0.328\n"
     ]
    },
    {
     "name": "stdout",
     "output_type": "stream",
     "text": [
      "2024-01-23 01:18:17,591 : DEBUG : open file: /Users/andrey.golda/Documents/Study/MSU_interpol/training/wandb_local_logs/MSU_interpol/peachy-galaxy-32/checkpoints/exp_name=0val_loss=0.32779-epoch=12.ckpt\n",
      "2024-01-23 01:23:44,518 : INFO : epoch: 13; val_loss: 0.24194014072418213; val_mae: 0.1253724992275238\n",
      "2024-01-23 01:23:44,521 : INFO : epoch: 13; train_loss: 0.37615543603897095; train_mae: 0.17891724407672882\n",
      "2024-01-23 01:23:44,672 : DEBUG : open file: /Users/andrey.golda/Documents/Study/MSU_interpol/training/wandb_local_logs/MSU_interpol/peachy-galaxy-32/checkpoints/exp_name=0val_loss=0.32778-epoch=13.ckpt\n",
      "2024-01-23 01:28:29,981 : INFO : epoch: 14; val_loss: 0.24191473424434662; val_mae: 0.1253792643547058\n",
      "Epoch 00021: reducing learning rate of group 0 to 2.5000e-08.\n",
      "2024-01-23 01:28:29,985 : INFO : epoch: 14; train_loss: 0.37618276476860046; train_mae: 0.1789119690656662\n"
     ]
    },
    {
     "name": "stderr",
     "output_type": "stream",
     "text": [
      "Metric val_loss improved by 0.000 >= min_delta = 1e-05. New best score: 0.328\n"
     ]
    },
    {
     "name": "stdout",
     "output_type": "stream",
     "text": [
      "2024-01-23 01:28:30,136 : DEBUG : open file: /Users/andrey.golda/Documents/Study/MSU_interpol/training/wandb_local_logs/MSU_interpol/peachy-galaxy-32/checkpoints/exp_name=0val_loss=0.32777-epoch=14.ckpt\n",
      "2024-01-23 01:33:57,712 : INFO : epoch: 15; val_loss: 0.24180348217487335; val_mae: 0.12544134259223938\n",
      "2024-01-23 01:33:57,716 : INFO : epoch: 15; train_loss: 0.36839383840560913; train_mae: 0.17727670073509216\n"
     ]
    },
    {
     "name": "stderr",
     "output_type": "stream",
     "text": [
      "Metric val_loss improved by 0.000 >= min_delta = 1e-05. New best score: 0.328\n"
     ]
    },
    {
     "name": "stdout",
     "output_type": "stream",
     "text": [
      "2024-01-23 01:33:57,912 : DEBUG : open file: /Users/andrey.golda/Documents/Study/MSU_interpol/training/wandb_local_logs/MSU_interpol/peachy-galaxy-32/checkpoints/exp_name=0val_loss=0.32771-epoch=15.ckpt\n",
      "2024-01-23 01:39:21,279 : INFO : epoch: 16; val_loss: 0.2416762411594391; val_mae: 0.1254362165927887\n",
      "2024-01-23 01:39:21,283 : INFO : epoch: 16; train_loss: 0.36808159947395325; train_mae: 0.17725086212158203\n"
     ]
    },
    {
     "name": "stderr",
     "output_type": "stream",
     "text": [
      "Metric val_loss improved by 0.000 >= min_delta = 1e-05. New best score: 0.328\n"
     ]
    },
    {
     "name": "stdout",
     "output_type": "stream",
     "text": [
      "2024-01-23 01:39:21,451 : DEBUG : open file: /Users/andrey.golda/Documents/Study/MSU_interpol/training/wandb_local_logs/MSU_interpol/peachy-galaxy-32/checkpoints/exp_name=0val_loss=0.32770-epoch=16.ckpt\n",
      "2024-01-23 01:44:45,010 : INFO : epoch: 17; val_loss: 0.24161168932914734; val_mae: 0.12543268501758575\n",
      "2024-01-23 01:44:45,012 : INFO : epoch: 17; train_loss: 0.3679770529270172; train_mae: 0.17723821103572845\n",
      "2024-01-23 01:44:45,162 : DEBUG : open file: /Users/andrey.golda/Documents/Study/MSU_interpol/training/wandb_local_logs/MSU_interpol/peachy-galaxy-32/checkpoints/exp_name=0val_loss=0.32769-epoch=17.ckpt\n",
      "2024-01-23 01:49:26,756 : INFO : epoch: 18; val_loss: 0.2415691316127777; val_mae: 0.12543337047100067\n",
      "2024-01-23 01:49:26,758 : INFO : epoch: 18; train_loss: 0.36795294284820557; train_mae: 0.17722119390964508\n"
     ]
    },
    {
     "name": "stderr",
     "output_type": "stream",
     "text": [
      "Metric val_loss improved by 0.000 >= min_delta = 1e-05. New best score: 0.328\n"
     ]
    },
    {
     "name": "stdout",
     "output_type": "stream",
     "text": [
      "2024-01-23 01:49:26,902 : DEBUG : open file: /Users/andrey.golda/Documents/Study/MSU_interpol/training/wandb_local_logs/MSU_interpol/peachy-galaxy-32/checkpoints/exp_name=0val_loss=0.32769-epoch=18.ckpt\n",
      "2024-01-23 01:54:48,033 : INFO : epoch: 19; val_loss: 0.24154534935951233; val_mae: 0.12542793154716492\n",
      "2024-01-23 01:54:48,036 : INFO : epoch: 19; train_loss: 0.36793574690818787; train_mae: 0.1772143691778183\n",
      "2024-01-23 01:54:48,189 : DEBUG : open file: /Users/andrey.golda/Documents/Study/MSU_interpol/training/wandb_local_logs/MSU_interpol/peachy-galaxy-32/checkpoints/exp_name=0val_loss=0.32768-epoch=19.ckpt\n",
      "2024-01-23 01:59:29,700 : INFO : epoch: 20; val_loss: 0.24152928590774536; val_mae: 0.12542717158794403\n",
      "2024-01-23 01:59:29,702 : INFO : epoch: 20; train_loss: 0.3679187595844269; train_mae: 0.17720356583595276\n",
      "2024-01-23 01:59:29,847 : DEBUG : open file: /Users/andrey.golda/Documents/Study/MSU_interpol/training/wandb_local_logs/MSU_interpol/peachy-galaxy-32/checkpoints/exp_name=0val_loss=0.32768-epoch=20.ckpt\n",
      "2024-01-23 02:04:12,889 : INFO : epoch: 21; val_loss: 0.24150094389915466; val_mae: 0.12542307376861572\n",
      "2024-01-23 02:04:12,891 : INFO : epoch: 21; train_loss: 0.3679378926753998; train_mae: 0.1771918386220932\n",
      "2024-01-23 02:04:13,032 : DEBUG : open file: /Users/andrey.golda/Documents/Study/MSU_interpol/training/wandb_local_logs/MSU_interpol/peachy-galaxy-32/checkpoints/exp_name=0val_loss=0.32768-epoch=21.ckpt\n",
      "2024-01-23 02:08:55,148 : INFO : epoch: 22; val_loss: 0.24148836731910706; val_mae: 0.12542657554149628\n",
      "2024-01-23 02:08:55,151 : INFO : epoch: 22; train_loss: 0.36793747544288635; train_mae: 0.17718078196048737\n"
     ]
    },
    {
     "name": "stderr",
     "output_type": "stream",
     "text": [
      "Metric val_loss improved by 0.000 >= min_delta = 1e-05. New best score: 0.328\n"
     ]
    },
    {
     "name": "stdout",
     "output_type": "stream",
     "text": [
      "2024-01-23 02:08:55,295 : DEBUG : open file: /Users/andrey.golda/Documents/Study/MSU_interpol/training/wandb_local_logs/MSU_interpol/peachy-galaxy-32/checkpoints/exp_name=0val_loss=0.32767-epoch=22.ckpt\n",
      "2024-01-23 02:14:12,688 : INFO : epoch: 23; val_loss: 0.24145862460136414; val_mae: 0.12542836368083954\n",
      "2024-01-23 02:14:12,690 : INFO : epoch: 23; train_loss: 0.3679068088531494; train_mae: 0.1771593987941742\n",
      "2024-01-23 02:14:12,842 : DEBUG : open file: /Users/andrey.golda/Documents/Study/MSU_interpol/training/wandb_local_logs/MSU_interpol/peachy-galaxy-32/checkpoints/exp_name=0val_loss=0.32767-epoch=23.ckpt\n",
      "Epoch 00035: reducing learning rate of group 0 to 1.2500e-08.\n",
      "2024-01-23 02:18:55,422 : INFO : epoch: 24; val_loss: 0.2414797991514206; val_mae: 0.1251911073923111\n",
      "2024-01-23 02:18:55,425 : INFO : epoch: 24; train_loss: 0.3642721176147461; train_mae: 0.1765589863061905\n"
     ]
    },
    {
     "name": "stderr",
     "output_type": "stream",
     "text": [
      "Metric val_loss improved by 0.000 >= min_delta = 1e-05. New best score: 0.328\n"
     ]
    },
    {
     "name": "stdout",
     "output_type": "stream",
     "text": [
      "2024-01-23 02:18:55,572 : DEBUG : open file: /Users/andrey.golda/Documents/Study/MSU_interpol/training/wandb_local_logs/MSU_interpol/peachy-galaxy-32/checkpoints/exp_name=0val_loss=0.32762-epoch=24.ckpt\n",
      "2024-01-23 02:24:18,136 : INFO : epoch: 25; val_loss: 0.24143049120903015; val_mae: 0.12517844140529633\n",
      "2024-01-23 02:24:18,138 : INFO : epoch: 25; train_loss: 0.363770455121994; train_mae: 0.17649592459201813\n",
      "2024-01-23 02:24:18,290 : DEBUG : open file: /Users/andrey.golda/Documents/Study/MSU_interpol/training/wandb_local_logs/MSU_interpol/peachy-galaxy-32/checkpoints/exp_name=0val_loss=0.32762-epoch=25.ckpt\n",
      "2024-01-23 02:29:01,782 : INFO : epoch: 26; val_loss: 0.24138513207435608; val_mae: 0.12516742944717407\n",
      "2024-01-23 02:29:01,784 : INFO : epoch: 26; train_loss: 0.36369046568870544; train_mae: 0.17650164663791656\n"
     ]
    },
    {
     "name": "stderr",
     "output_type": "stream",
     "text": [
      "Metric val_loss improved by 0.000 >= min_delta = 1e-05. New best score: 0.328\n"
     ]
    },
    {
     "name": "stdout",
     "output_type": "stream",
     "text": [
      "2024-01-23 02:29:01,930 : DEBUG : open file: /Users/andrey.golda/Documents/Study/MSU_interpol/training/wandb_local_logs/MSU_interpol/peachy-galaxy-32/checkpoints/exp_name=0val_loss=0.32761-epoch=26.ckpt\n",
      "2024-01-23 02:34:24,954 : INFO : epoch: 27; val_loss: 0.24135467410087585; val_mae: 0.12515723705291748\n",
      "2024-01-23 02:34:24,958 : INFO : epoch: 27; train_loss: 0.3637080788612366; train_mae: 0.1765211671590805\n",
      "2024-01-23 02:34:25,101 : DEBUG : open file: /Users/andrey.golda/Documents/Study/MSU_interpol/training/wandb_local_logs/MSU_interpol/peachy-galaxy-32/checkpoints/exp_name=0val_loss=0.32760-epoch=27.ckpt\n",
      "2024-01-23 02:39:08,551 : INFO : epoch: 28; val_loss: 0.24133284389972687; val_mae: 0.1251523494720459\n",
      "2024-01-23 02:39:08,554 : INFO : epoch: 28; train_loss: 0.3637649714946747; train_mae: 0.17654994130134583\n"
     ]
    },
    {
     "name": "stderr",
     "output_type": "stream",
     "text": [
      "Metric val_loss improved by 0.000 >= min_delta = 1e-05. New best score: 0.328\n"
     ]
    },
    {
     "name": "stdout",
     "output_type": "stream",
     "text": [
      "2024-01-23 02:39:08,700 : DEBUG : open file: /Users/andrey.golda/Documents/Study/MSU_interpol/training/wandb_local_logs/MSU_interpol/peachy-galaxy-32/checkpoints/exp_name=0val_loss=0.32759-epoch=28.ckpt\n",
      "2024-01-23 02:44:33,874 : INFO : epoch: 29; val_loss: 0.24131470918655396; val_mae: 0.1251482367515564\n",
      "2024-01-23 02:44:33,877 : INFO : epoch: 29; train_loss: 0.36382848024368286; train_mae: 0.17657357454299927\n",
      "2024-01-23 02:44:34,022 : DEBUG : open file: /Users/andrey.golda/Documents/Study/MSU_interpol/training/wandb_local_logs/MSU_interpol/peachy-galaxy-32/checkpoints/exp_name=0val_loss=0.32759-epoch=29.ckpt\n",
      "2024-01-23 02:49:19,226 : INFO : epoch: 30; val_loss: 0.24129857122898102; val_mae: 0.12514172494411469\n",
      "2024-01-23 02:49:19,228 : INFO : epoch: 30; train_loss: 0.36388006806373596; train_mae: 0.17659197747707367\n"
     ]
    },
    {
     "name": "stderr",
     "output_type": "stream",
     "text": [
      "Metric val_loss improved by 0.000 >= min_delta = 1e-05. New best score: 0.328\n"
     ]
    },
    {
     "name": "stdout",
     "output_type": "stream",
     "text": [
      "2024-01-23 02:49:19,381 : DEBUG : open file: /Users/andrey.golda/Documents/Study/MSU_interpol/training/wandb_local_logs/MSU_interpol/peachy-galaxy-32/checkpoints/exp_name=0val_loss=0.32758-epoch=30.ckpt\n",
      "2024-01-23 02:54:45,595 : INFO : epoch: 31; val_loss: 0.24128489196300507; val_mae: 0.12514105439186096\n",
      "2024-01-23 02:54:45,599 : INFO : epoch: 31; train_loss: 0.3639540374279022; train_mae: 0.1766141951084137\n",
      "2024-01-23 02:54:45,760 : DEBUG : open file: /Users/andrey.golda/Documents/Study/MSU_interpol/training/wandb_local_logs/MSU_interpol/peachy-galaxy-32/checkpoints/exp_name=0val_loss=0.32758-epoch=31.ckpt\n",
      "2024-01-23 02:59:31,658 : INFO : epoch: 32; val_loss: 0.24127179384231567; val_mae: 0.12513983249664307\n",
      "2024-01-23 02:59:31,660 : INFO : epoch: 32; train_loss: 0.3640243411064148; train_mae: 0.17663300037384033\n",
      "2024-01-23 02:59:31,796 : DEBUG : open file: /Users/andrey.golda/Documents/Study/MSU_interpol/training/wandb_local_logs/MSU_interpol/peachy-galaxy-32/checkpoints/exp_name=0val_loss=0.32757-epoch=32.ckpt\n",
      "2024-01-23 03:04:17,901 : INFO : epoch: 33; val_loss: 0.2412618100643158; val_mae: 0.12513963878154755\n",
      "2024-01-23 03:04:17,906 : INFO : epoch: 33; train_loss: 0.36408621072769165; train_mae: 0.17664825916290283\n"
     ]
    },
    {
     "name": "stderr",
     "output_type": "stream",
     "text": [
      "Metric val_loss improved by 0.000 >= min_delta = 1e-05. New best score: 0.328\n"
     ]
    },
    {
     "name": "stdout",
     "output_type": "stream",
     "text": [
      "2024-01-23 03:04:18,041 : DEBUG : open file: /Users/andrey.golda/Documents/Study/MSU_interpol/training/wandb_local_logs/MSU_interpol/peachy-galaxy-32/checkpoints/exp_name=0val_loss=0.32757-epoch=33.ckpt\n",
      "2024-01-23 03:09:44,897 : INFO : epoch: 34; val_loss: 0.2412504255771637; val_mae: 0.12513545155525208\n",
      "2024-01-23 03:09:44,900 : INFO : epoch: 34; train_loss: 0.36412128806114197; train_mae: 0.17665845155715942\n",
      "2024-01-23 03:09:45,057 : DEBUG : open file: /Users/andrey.golda/Documents/Study/MSU_interpol/training/wandb_local_logs/MSU_interpol/peachy-galaxy-32/checkpoints/exp_name=0val_loss=0.32756-epoch=34.ckpt\n",
      "2024-01-23 03:14:31,397 : INFO : epoch: 35; val_loss: 0.24124033749103546; val_mae: 0.12513352930545807\n",
      "2024-01-23 03:14:31,400 : INFO : epoch: 35; train_loss: 0.3641640543937683; train_mae: 0.1766718029975891\n",
      "2024-01-23 03:14:31,538 : DEBUG : open file: /Users/andrey.golda/Documents/Study/MSU_interpol/training/wandb_local_logs/MSU_interpol/peachy-galaxy-32/checkpoints/exp_name=0val_loss=0.32756-epoch=35.ckpt\n",
      "2024-01-23 03:19:18,921 : INFO : epoch: 36; val_loss: 0.2412245124578476; val_mae: 0.12513229250907898\n",
      "2024-01-23 03:19:18,925 : INFO : epoch: 36; train_loss: 0.36427271366119385; train_mae: 0.17668721079826355\n"
     ]
    },
    {
     "name": "stderr",
     "output_type": "stream",
     "text": [
      "Metric val_loss improved by 0.000 >= min_delta = 1e-05. New best score: 0.328\n"
     ]
    },
    {
     "name": "stdout",
     "output_type": "stream",
     "text": [
      "2024-01-23 03:19:19,066 : DEBUG : open file: /Users/andrey.golda/Documents/Study/MSU_interpol/training/wandb_local_logs/MSU_interpol/peachy-galaxy-32/checkpoints/exp_name=0val_loss=0.32755-epoch=36.ckpt\n",
      "2024-01-23 03:24:46,348 : INFO : epoch: 37; val_loss: 0.24122066795825958; val_mae: 0.1251315176486969\n",
      "2024-01-23 03:24:46,352 : INFO : epoch: 37; train_loss: 0.36427393555641174; train_mae: 0.1766934096813202\n",
      "2024-01-23 03:24:46,504 : DEBUG : open file: /Users/andrey.golda/Documents/Study/MSU_interpol/training/wandb_local_logs/MSU_interpol/peachy-galaxy-32/checkpoints/exp_name=0val_loss=0.32755-epoch=37.ckpt\n",
      "2024-01-23 03:29:34,607 : INFO : epoch: 38; val_loss: 0.24120743572711945; val_mae: 0.12513071298599243\n",
      "2024-01-23 03:29:34,610 : INFO : epoch: 38; train_loss: 0.36435970664024353; train_mae: 0.17670384049415588\n",
      "2024-01-23 03:29:34,761 : DEBUG : open file: /Users/andrey.golda/Documents/Study/MSU_interpol/training/wandb_local_logs/MSU_interpol/peachy-galaxy-32/checkpoints/exp_name=0val_loss=0.32755-epoch=38.ckpt\n",
      "2024-01-23 03:34:22,637 : INFO : epoch: 39; val_loss: 0.2412012815475464; val_mae: 0.12513001263141632\n",
      "2024-01-23 03:34:22,642 : INFO : epoch: 39; train_loss: 0.36435970664024353; train_mae: 0.17670871317386627\n"
     ]
    },
    {
     "name": "stderr",
     "output_type": "stream",
     "text": [
      "Metric val_loss improved by 0.000 >= min_delta = 1e-05. New best score: 0.328\n"
     ]
    },
    {
     "name": "stdout",
     "output_type": "stream",
     "text": [
      "2024-01-23 03:34:22,802 : DEBUG : open file: /Users/andrey.golda/Documents/Study/MSU_interpol/training/wandb_local_logs/MSU_interpol/peachy-galaxy-32/checkpoints/exp_name=0val_loss=0.32754-epoch=39.ckpt\n",
      "2024-01-23 03:39:51,029 : INFO : epoch: 40; val_loss: 0.24118806421756744; val_mae: 0.12512941658496857\n",
      "2024-01-23 03:39:51,032 : INFO : epoch: 40; train_loss: 0.3644474148750305; train_mae: 0.17672015726566315\n",
      "2024-01-23 03:39:51,220 : DEBUG : open file: /Users/andrey.golda/Documents/Study/MSU_interpol/training/wandb_local_logs/MSU_interpol/peachy-galaxy-32/checkpoints/exp_name=0val_loss=0.32754-epoch=40.ckpt\n",
      "2024-01-23 03:44:38,668 : INFO : epoch: 41; val_loss: 0.2411802113056183; val_mae: 0.12512736022472382\n",
      "2024-01-23 03:44:38,671 : INFO : epoch: 41; train_loss: 0.3644448518753052; train_mae: 0.1767273247241974\n",
      "2024-01-23 03:44:38,815 : DEBUG : open file: /Users/andrey.golda/Documents/Study/MSU_interpol/training/wandb_local_logs/MSU_interpol/peachy-galaxy-32/checkpoints/exp_name=0val_loss=0.32754-epoch=41.ckpt\n",
      "2024-01-23 03:49:25,780 : INFO : epoch: 42; val_loss: 0.24116726219654083; val_mae: 0.12512467801570892\n",
      "2024-01-23 03:49:25,784 : INFO : epoch: 42; train_loss: 0.364514023065567; train_mae: 0.17673175036907196\n"
     ]
    },
    {
     "name": "stderr",
     "output_type": "stream",
     "text": [
      "Metric val_loss improved by 0.000 >= min_delta = 1e-05. New best score: 0.328\n"
     ]
    },
    {
     "name": "stdout",
     "output_type": "stream",
     "text": [
      "2024-01-23 03:49:25,936 : DEBUG : open file: /Users/andrey.golda/Documents/Study/MSU_interpol/training/wandb_local_logs/MSU_interpol/peachy-galaxy-32/checkpoints/exp_name=0val_loss=0.32753-epoch=42.ckpt\n",
      "2024-01-23 03:54:50,952 : INFO : epoch: 43; val_loss: 0.24115405976772308; val_mae: 0.1251221001148224\n",
      "2024-01-23 03:54:50,955 : INFO : epoch: 43; train_loss: 0.36457735300064087; train_mae: 0.17674390971660614\n",
      "2024-01-23 03:54:51,111 : DEBUG : open file: /Users/andrey.golda/Documents/Study/MSU_interpol/training/wandb_local_logs/MSU_interpol/peachy-galaxy-32/checkpoints/exp_name=0val_loss=0.32753-epoch=43.ckpt\n",
      "2024-01-23 03:59:35,306 : INFO : epoch: 44; val_loss: 0.2411496937274933; val_mae: 0.1251208633184433\n",
      "2024-01-23 03:59:35,309 : INFO : epoch: 44; train_loss: 0.36455708742141724; train_mae: 0.17674656212329865\n",
      "2024-01-23 03:59:35,457 : DEBUG : open file: /Users/andrey.golda/Documents/Study/MSU_interpol/training/wandb_local_logs/MSU_interpol/peachy-galaxy-32/checkpoints/exp_name=0val_loss=0.32753-epoch=44.ckpt\n",
      "2024-01-23 04:04:18,850 : INFO : epoch: 45; val_loss: 0.241134375333786; val_mae: 0.1251174956560135\n",
      "2024-01-23 04:04:18,853 : INFO : epoch: 45; train_loss: 0.3646167516708374; train_mae: 0.1767510622739792\n",
      "2024-01-23 04:04:18,997 : DEBUG : open file: /Users/andrey.golda/Documents/Study/MSU_interpol/training/wandb_local_logs/MSU_interpol/peachy-galaxy-32/checkpoints/exp_name=0val_loss=0.32752-epoch=45.ckpt\n",
      "2024-01-23 04:09:02,298 : INFO : epoch: 46; val_loss: 0.2411232590675354; val_mae: 0.1251150369644165\n",
      "2024-01-23 04:09:02,302 : INFO : epoch: 46; train_loss: 0.36465489864349365; train_mae: 0.17675472795963287\n"
     ]
    },
    {
     "name": "stderr",
     "output_type": "stream",
     "text": [
      "Metric val_loss improved by 0.000 >= min_delta = 1e-05. New best score: 0.328\n"
     ]
    },
    {
     "name": "stdout",
     "output_type": "stream",
     "text": [
      "2024-01-23 04:09:02,451 : DEBUG : open file: /Users/andrey.golda/Documents/Study/MSU_interpol/training/wandb_local_logs/MSU_interpol/peachy-galaxy-32/checkpoints/exp_name=0val_loss=0.32752-epoch=46.ckpt\n",
      "2024-01-23 04:14:24,760 : INFO : epoch: 47; val_loss: 0.24111653864383698; val_mae: 0.12511324882507324\n",
      "2024-01-23 04:14:24,763 : INFO : epoch: 47; train_loss: 0.3646404445171356; train_mae: 0.17676065862178802\n",
      "2024-01-23 04:14:24,917 : DEBUG : open file: /Users/andrey.golda/Documents/Study/MSU_interpol/training/wandb_local_logs/MSU_interpol/peachy-galaxy-32/checkpoints/exp_name=0val_loss=0.32752-epoch=47.ckpt\n",
      "2024-01-23 04:19:09,089 : INFO : epoch: 48; val_loss: 0.24110279977321625; val_mae: 0.12510989606380463\n",
      "2024-01-23 04:19:09,091 : INFO : epoch: 48; train_loss: 0.3647068440914154; train_mae: 0.17676743865013123\n",
      "2024-01-23 04:19:09,226 : DEBUG : open file: /Users/andrey.golda/Documents/Study/MSU_interpol/training/wandb_local_logs/MSU_interpol/peachy-galaxy-32/checkpoints/exp_name=0val_loss=0.32751-epoch=48.ckpt\n",
      "2024-01-23 04:23:53,762 : INFO : epoch: 49; val_loss: 0.24108412861824036; val_mae: 0.1251075118780136\n",
      "2024-01-23 04:23:53,765 : INFO : epoch: 49; train_loss: 0.3647574186325073; train_mae: 0.17677374184131622\n",
      "2024-01-23 04:23:53,911 : DEBUG : open file: /Users/andrey.golda/Documents/Study/MSU_interpol/training/wandb_local_logs/MSU_interpol/peachy-galaxy-32/checkpoints/exp_name=0val_loss=0.32751-epoch=49.ckpt\n",
      "2024-01-23 04:28:38,579 : INFO : epoch: 50; val_loss: 0.2410750687122345; val_mae: 0.1251055747270584\n",
      "2024-01-23 04:28:38,580 : INFO : epoch: 50; train_loss: 0.3647517263889313; train_mae: 0.17678385972976685\n",
      "2024-01-23 04:28:38,722 : DEBUG : open file: /Users/andrey.golda/Documents/Study/MSU_interpol/training/wandb_local_logs/MSU_interpol/peachy-galaxy-32/checkpoints/exp_name=0val_loss=0.32751-epoch=50.ckpt\n",
      "2024-01-23 04:34:02,142 : INFO : epoch: 51; val_loss: 0.24106232821941376; val_mae: 0.12510542571544647\n",
      "2024-01-23 04:34:02,144 : INFO : epoch: 51; train_loss: 0.36480289697647095; train_mae: 0.17678827047348022\n"
     ]
    },
    {
     "name": "stderr",
     "output_type": "stream",
     "text": [
      "Metric val_loss improved by 0.000 >= min_delta = 1e-05. New best score: 0.328\n"
     ]
    },
    {
     "name": "stdout",
     "output_type": "stream",
     "text": [
      "2024-01-23 04:34:02,289 : DEBUG : open file: /Users/andrey.golda/Documents/Study/MSU_interpol/training/wandb_local_logs/MSU_interpol/peachy-galaxy-32/checkpoints/exp_name=0val_loss=0.32750-epoch=51.ckpt\n",
      "2024-01-23 04:38:46,502 : INFO : epoch: 52; val_loss: 0.2410544902086258; val_mae: 0.12510433793067932\n",
      "2024-01-23 04:38:46,504 : INFO : epoch: 52; train_loss: 0.36480194330215454; train_mae: 0.17679500579833984\n",
      "2024-01-23 04:38:46,640 : DEBUG : open file: /Users/andrey.golda/Documents/Study/MSU_interpol/training/wandb_local_logs/MSU_interpol/peachy-galaxy-32/checkpoints/exp_name=0val_loss=0.32750-epoch=52.ckpt\n",
      "2024-01-23 04:43:31,264 : INFO : epoch: 53; val_loss: 0.2410423904657364; val_mae: 0.12510336935520172\n",
      "2024-01-23 04:43:31,266 : INFO : epoch: 53; train_loss: 0.3648546040058136; train_mae: 0.17679674923419952\n",
      "2024-01-23 04:43:31,427 : DEBUG : open file: /Users/andrey.golda/Documents/Study/MSU_interpol/training/wandb_local_logs/MSU_interpol/peachy-galaxy-32/checkpoints/exp_name=0val_loss=0.32750-epoch=53.ckpt\n",
      "2024-01-23 04:48:17,059 : INFO : epoch: 54; val_loss: 0.24102897942066193; val_mae: 0.12510083615779877\n",
      "2024-01-23 04:48:17,061 : INFO : epoch: 54; train_loss: 0.36488717794418335; train_mae: 0.1768004298210144\n",
      "2024-01-23 04:48:17,206 : DEBUG : open file: /Users/andrey.golda/Documents/Study/MSU_interpol/training/wandb_local_logs/MSU_interpol/peachy-galaxy-32/checkpoints/exp_name=0val_loss=0.32750-epoch=54.ckpt\n",
      "2024-01-23 04:53:03,707 : INFO : epoch: 55; val_loss: 0.24102292954921722; val_mae: 0.12509837746620178\n",
      "2024-01-23 04:53:03,709 : INFO : epoch: 55; train_loss: 0.3648589253425598; train_mae: 0.17680470645427704\n",
      "2024-01-23 04:53:03,849 : DEBUG : open file: /Users/andrey.golda/Documents/Study/MSU_interpol/training/wandb_local_logs/MSU_interpol/peachy-galaxy-32/checkpoints/exp_name=0val_loss=0.32750-epoch=55.ckpt\n",
      "2024-01-23 04:58:29,402 : INFO : epoch: 56; val_loss: 0.24101482331752777; val_mae: 0.1250978410243988\n",
      "2024-01-23 04:58:29,404 : INFO : epoch: 56; train_loss: 0.3649277985095978; train_mae: 0.1768144816160202\n"
     ]
    },
    {
     "name": "stderr",
     "output_type": "stream",
     "text": [
      "Metric val_loss improved by 0.000 >= min_delta = 1e-05. New best score: 0.327\n"
     ]
    },
    {
     "name": "stdout",
     "output_type": "stream",
     "text": [
      "2024-01-23 04:58:29,554 : DEBUG : open file: /Users/andrey.golda/Documents/Study/MSU_interpol/training/wandb_local_logs/MSU_interpol/peachy-galaxy-32/checkpoints/exp_name=0val_loss=0.32749-epoch=56.ckpt\n",
      "2024-01-23 05:03:17,159 : INFO : epoch: 57; val_loss: 0.24100205302238464; val_mae: 0.12509660422801971\n",
      "2024-01-23 05:03:17,161 : INFO : epoch: 57; train_loss: 0.3649789094924927; train_mae: 0.17682014405727386\n",
      "2024-01-23 05:03:17,298 : DEBUG : open file: /Users/andrey.golda/Documents/Study/MSU_interpol/training/wandb_local_logs/MSU_interpol/peachy-galaxy-32/checkpoints/exp_name=0val_loss=0.32749-epoch=57.ckpt\n",
      "2024-01-23 05:08:04,457 : INFO : epoch: 58; val_loss: 0.2409912645816803; val_mae: 0.12509368360042572\n",
      "2024-01-23 05:08:04,459 : INFO : epoch: 58; train_loss: 0.3650127351284027; train_mae: 0.17682601511478424\n",
      "2024-01-23 05:08:04,613 : DEBUG : open file: /Users/andrey.golda/Documents/Study/MSU_interpol/training/wandb_local_logs/MSU_interpol/peachy-galaxy-32/checkpoints/exp_name=0val_loss=0.32749-epoch=58.ckpt\n",
      "2024-01-23 05:12:52,460 : INFO : epoch: 59; val_loss: 0.24098487198352814; val_mae: 0.12509097158908844\n",
      "2024-01-23 05:12:52,464 : INFO : epoch: 59; train_loss: 0.365037202835083; train_mae: 0.17683145403862\n",
      "2024-01-23 05:12:52,616 : DEBUG : open file: /Users/andrey.golda/Documents/Study/MSU_interpol/training/wandb_local_logs/MSU_interpol/peachy-galaxy-32/checkpoints/exp_name=0val_loss=0.32749-epoch=59.ckpt\n",
      "2024-01-23 05:17:40,829 : INFO : epoch: 60; val_loss: 0.24097514152526855; val_mae: 0.1250874102115631\n",
      "2024-01-23 05:17:40,831 : INFO : epoch: 60; train_loss: 0.36503204703330994; train_mae: 0.17683881521224976\n",
      "2024-01-23 05:17:40,971 : DEBUG : open file: /Users/andrey.golda/Documents/Study/MSU_interpol/training/wandb_local_logs/MSU_interpol/peachy-galaxy-32/checkpoints/exp_name=0val_loss=0.32749-epoch=60.ckpt\n",
      "2024-01-23 05:23:09,248 : INFO : epoch: 61; val_loss: 0.240960493683815; val_mae: 0.12508688867092133\n",
      "2024-01-23 05:23:09,252 : INFO : epoch: 61; train_loss: 0.3650723695755005; train_mae: 0.17683742940425873\n"
     ]
    },
    {
     "name": "stderr",
     "output_type": "stream",
     "text": [
      "Metric val_loss improved by 0.000 >= min_delta = 1e-05. New best score: 0.327\n"
     ]
    },
    {
     "name": "stdout",
     "output_type": "stream",
     "text": [
      "2024-01-23 05:23:09,413 : DEBUG : open file: /Users/andrey.golda/Documents/Study/MSU_interpol/training/wandb_local_logs/MSU_interpol/peachy-galaxy-32/checkpoints/exp_name=0val_loss=0.32748-epoch=61.ckpt\n",
      "2024-01-23 05:27:58,277 : INFO : epoch: 62; val_loss: 0.24094708263874054; val_mae: 0.12508375942707062\n",
      "2024-01-23 05:27:58,279 : INFO : epoch: 62; train_loss: 0.3651025891304016; train_mae: 0.1768380105495453\n",
      "2024-01-23 05:27:58,454 : DEBUG : open file: /Users/andrey.golda/Documents/Study/MSU_interpol/training/wandb_local_logs/MSU_interpol/peachy-galaxy-32/checkpoints/exp_name=0val_loss=0.32748-epoch=62.ckpt\n",
      "2024-01-23 05:32:47,114 : INFO : epoch: 63; val_loss: 0.2409367561340332; val_mae: 0.12508097290992737\n",
      "2024-01-23 05:32:47,117 : INFO : epoch: 63; train_loss: 0.36514002084732056; train_mae: 0.1768454760313034\n",
      "2024-01-23 05:32:47,253 : DEBUG : open file: /Users/andrey.golda/Documents/Study/MSU_interpol/training/wandb_local_logs/MSU_interpol/peachy-galaxy-32/checkpoints/exp_name=0val_loss=0.32748-epoch=63.ckpt\n",
      "2024-01-23 05:37:35,889 : INFO : epoch: 64; val_loss: 0.24092581868171692; val_mae: 0.12507179379463196\n",
      "2024-01-23 05:37:35,892 : INFO : epoch: 64; train_loss: 0.3651721179485321; train_mae: 0.17684946954250336\n",
      "2024-01-23 05:37:36,039 : DEBUG : open file: /Users/andrey.golda/Documents/Study/MSU_interpol/training/wandb_local_logs/MSU_interpol/peachy-galaxy-32/checkpoints/exp_name=0val_loss=0.32747-epoch=64.ckpt\n",
      "2024-01-23 05:42:25,167 : INFO : epoch: 65; val_loss: 0.24091804027557373; val_mae: 0.12506607174873352\n",
      "2024-01-23 05:42:25,170 : INFO : epoch: 65; train_loss: 0.36520448327064514; train_mae: 0.17685449123382568\n",
      "2024-01-23 05:42:25,306 : DEBUG : open file: /Users/andrey.golda/Documents/Study/MSU_interpol/training/wandb_local_logs/MSU_interpol/peachy-galaxy-32/checkpoints/exp_name=0val_loss=0.32747-epoch=65.ckpt\n",
      "2024-01-23 05:47:53,920 : INFO : epoch: 66; val_loss: 0.24091677367687225; val_mae: 0.12506245076656342\n",
      "2024-01-23 05:47:53,922 : INFO : epoch: 66; train_loss: 0.36519068479537964; train_mae: 0.17686212062835693\n",
      "2024-01-23 05:47:54,072 : DEBUG : open file: /Users/andrey.golda/Documents/Study/MSU_interpol/training/wandb_local_logs/MSU_interpol/peachy-galaxy-32/checkpoints/exp_name=0val_loss=0.32747-epoch=66.ckpt\n",
      "2024-01-23 05:52:44,014 : INFO : epoch: 67; val_loss: 0.24090588092803955; val_mae: 0.1250627040863037\n",
      "2024-01-23 05:52:44,017 : INFO : epoch: 67; train_loss: 0.365253210067749; train_mae: 0.17686592042446136\n"
     ]
    },
    {
     "name": "stderr",
     "output_type": "stream",
     "text": [
      "Metric val_loss improved by 0.000 >= min_delta = 1e-05. New best score: 0.327\n"
     ]
    },
    {
     "name": "stdout",
     "output_type": "stream",
     "text": [
      "2024-01-23 05:52:44,177 : DEBUG : open file: /Users/andrey.golda/Documents/Study/MSU_interpol/training/wandb_local_logs/MSU_interpol/peachy-galaxy-32/checkpoints/exp_name=0val_loss=0.32747-epoch=67.ckpt\n",
      "2024-01-23 05:58:15,805 : INFO : epoch: 68; val_loss: 0.24090051651000977; val_mae: 0.12505871057510376\n",
      "2024-01-23 05:58:15,810 : INFO : epoch: 68; train_loss: 0.36528003215789795; train_mae: 0.1768690049648285\n",
      "2024-01-23 05:58:15,966 : DEBUG : open file: /Users/andrey.golda/Documents/Study/MSU_interpol/training/wandb_local_logs/MSU_interpol/peachy-galaxy-32/checkpoints/exp_name=0val_loss=0.32747-epoch=68.ckpt\n",
      "2024-01-23 06:03:07,414 : INFO : epoch: 69; val_loss: 0.240891233086586; val_mae: 0.12505722045898438\n",
      "2024-01-23 06:03:07,418 : INFO : epoch: 69; train_loss: 0.3653124272823334; train_mae: 0.17686975002288818\n",
      "2024-01-23 06:03:07,565 : DEBUG : open file: /Users/andrey.golda/Documents/Study/MSU_interpol/training/wandb_local_logs/MSU_interpol/peachy-galaxy-32/checkpoints/exp_name=0val_loss=0.32747-epoch=69.ckpt\n",
      "2024-01-23 06:07:58,081 : INFO : epoch: 70; val_loss: 0.2408813089132309; val_mae: 0.12505462765693665\n",
      "2024-01-23 06:07:58,084 : INFO : epoch: 70; train_loss: 0.3652838170528412; train_mae: 0.17685995995998383\n",
      "2024-01-23 06:07:58,234 : DEBUG : open file: /Users/andrey.golda/Documents/Study/MSU_interpol/training/wandb_local_logs/MSU_interpol/peachy-galaxy-32/checkpoints/exp_name=0val_loss=0.32746-epoch=70.ckpt\n",
      "2024-01-23 06:12:49,786 : INFO : epoch: 71; val_loss: 0.2408798784017563; val_mae: 0.1250501126050949\n",
      "2024-01-23 06:12:49,789 : INFO : epoch: 71; train_loss: 0.3652586340904236; train_mae: 0.17686079442501068\n",
      "2024-01-23 06:12:49,929 : DEBUG : open file: /Users/andrey.golda/Documents/Study/MSU_interpol/training/wandb_local_logs/MSU_interpol/peachy-galaxy-32/checkpoints/exp_name=0val_loss=0.32746-epoch=71.ckpt\n",
      "2024-01-23 06:18:21,550 : INFO : epoch: 72; val_loss: 0.24086642265319824; val_mae: 0.1250501424074173\n",
      "2024-01-23 06:18:21,553 : INFO : epoch: 72; train_loss: 0.3652803599834442; train_mae: 0.17685209214687347\n",
      "2024-01-23 06:18:21,695 : DEBUG : open file: /Users/andrey.golda/Documents/Study/MSU_interpol/training/wandb_local_logs/MSU_interpol/peachy-galaxy-32/checkpoints/exp_name=0val_loss=0.32746-epoch=72.ckpt\n",
      "2024-01-23 06:23:13,914 : INFO : epoch: 73; val_loss: 0.24085569381713867; val_mae: 0.12504877150058746\n",
      "2024-01-23 06:23:13,918 : INFO : epoch: 73; train_loss: 0.3653124272823334; train_mae: 0.17685358226299286\n"
     ]
    },
    {
     "name": "stderr",
     "output_type": "stream",
     "text": [
      "Metric val_loss improved by 0.000 >= min_delta = 1e-05. New best score: 0.327\n"
     ]
    },
    {
     "name": "stdout",
     "output_type": "stream",
     "text": [
      "2024-01-23 06:23:14,066 : DEBUG : open file: /Users/andrey.golda/Documents/Study/MSU_interpol/training/wandb_local_logs/MSU_interpol/peachy-galaxy-32/checkpoints/exp_name=0val_loss=0.32746-epoch=73.ckpt\n",
      "2024-01-23 06:28:46,791 : INFO : epoch: 74; val_loss: 0.24085338413715363; val_mae: 0.12504632771015167\n",
      "2024-01-23 06:28:46,794 : INFO : epoch: 74; train_loss: 0.36531880497932434; train_mae: 0.17686240375041962\n",
      "2024-01-23 06:28:46,963 : DEBUG : open file: /Users/andrey.golda/Documents/Study/MSU_interpol/training/wandb_local_logs/MSU_interpol/peachy-galaxy-32/checkpoints/exp_name=0val_loss=0.32746-epoch=74.ckpt\n",
      "2024-01-23 06:33:39,245 : INFO : epoch: 75; val_loss: 0.2408430576324463; val_mae: 0.12504786252975464\n",
      "2024-01-23 06:33:39,248 : INFO : epoch: 75; train_loss: 0.36534202098846436; train_mae: 0.1768573373556137\n",
      "2024-01-23 06:33:39,390 : DEBUG : open file: /Users/andrey.golda/Documents/Study/MSU_interpol/training/wandb_local_logs/MSU_interpol/peachy-galaxy-32/checkpoints/exp_name=0val_loss=0.32746-epoch=75.ckpt\n",
      "2024-01-23 06:38:31,750 : INFO : epoch: 76; val_loss: 0.24083437025547028; val_mae: 0.12504447996616364\n",
      "2024-01-23 06:38:31,753 : INFO : epoch: 76; train_loss: 0.36536428332328796; train_mae: 0.17685441672801971\n",
      "2024-01-23 06:38:31,912 : DEBUG : open file: /Users/andrey.golda/Documents/Study/MSU_interpol/training/wandb_local_logs/MSU_interpol/peachy-galaxy-32/checkpoints/exp_name=0val_loss=0.32745-epoch=76.ckpt\n",
      "2024-01-23 06:43:25,433 : INFO : epoch: 77; val_loss: 0.2408335655927658; val_mae: 0.12504321336746216\n",
      "2024-01-23 06:43:25,436 : INFO : epoch: 77; train_loss: 0.3653815686702728; train_mae: 0.17686699330806732\n",
      "2024-01-23 06:43:25,611 : DEBUG : open file: /Users/andrey.golda/Documents/Study/MSU_interpol/training/wandb_local_logs/MSU_interpol/peachy-galaxy-32/checkpoints/exp_name=0val_loss=0.32745-epoch=77.ckpt\n",
      "2024-01-23 06:49:09,434 : INFO : epoch: 78; val_loss: 0.24082133173942566; val_mae: 0.12504306435585022\n",
      "2024-01-23 06:49:09,438 : INFO : epoch: 78; train_loss: 0.3654346466064453; train_mae: 0.17686666548252106\n",
      "2024-01-23 06:49:09,604 : DEBUG : open file: /Users/andrey.golda/Documents/Study/MSU_interpol/training/wandb_local_logs/MSU_interpol/peachy-galaxy-32/checkpoints/exp_name=0val_loss=0.32745-epoch=78.ckpt\n",
      "2024-01-23 06:54:10,604 : INFO : epoch: 79; val_loss: 0.24081137776374817; val_mae: 0.125042125582695\n",
      "2024-01-23 06:54:10,608 : INFO : epoch: 79; train_loss: 0.365470826625824; train_mae: 0.17686983942985535\n",
      "2024-01-23 06:54:10,752 : DEBUG : open file: /Users/andrey.golda/Documents/Study/MSU_interpol/training/wandb_local_logs/MSU_interpol/peachy-galaxy-32/checkpoints/exp_name=0val_loss=0.32745-epoch=79.ckpt\n",
      "2024-01-23 06:59:50,225 : INFO : epoch: 80; val_loss: 0.240798681974411; val_mae: 0.12503641843795776\n",
      "2024-01-23 06:59:50,229 : INFO : epoch: 80; train_loss: 0.36542534828186035; train_mae: 0.17686259746551514\n",
      "2024-01-23 06:59:50,385 : DEBUG : open file: /Users/andrey.golda/Documents/Study/MSU_interpol/training/wandb_local_logs/MSU_interpol/peachy-galaxy-32/checkpoints/exp_name=0val_loss=0.32745-epoch=80.ckpt\n",
      "2024-01-23 07:04:46,667 : INFO : epoch: 81; val_loss: 0.240788996219635; val_mae: 0.12503647804260254\n",
      "2024-01-23 07:04:46,669 : INFO : epoch: 81; train_loss: 0.3654766380786896; train_mae: 0.17686833441257477\n"
     ]
    },
    {
     "name": "stderr",
     "output_type": "stream",
     "text": [
      "Metric val_loss improved by 0.000 >= min_delta = 1e-05. New best score: 0.327\n"
     ]
    },
    {
     "name": "stdout",
     "output_type": "stream",
     "text": [
      "2024-01-23 07:04:46,802 : DEBUG : open file: /Users/andrey.golda/Documents/Study/MSU_interpol/training/wandb_local_logs/MSU_interpol/peachy-galaxy-32/checkpoints/exp_name=0val_loss=0.32745-epoch=81.ckpt\n",
      "2024-01-23 07:10:24,632 : INFO : epoch: 82; val_loss: 0.2407764345407486; val_mae: 0.12503546476364136\n",
      "2024-01-23 07:10:24,634 : INFO : epoch: 82; train_loss: 0.36548730731010437; train_mae: 0.17686434090137482\n",
      "2024-01-23 07:10:24,780 : DEBUG : open file: /Users/andrey.golda/Documents/Study/MSU_interpol/training/wandb_local_logs/MSU_interpol/peachy-galaxy-32/checkpoints/exp_name=0val_loss=0.32745-epoch=82.ckpt\n",
      "2024-01-23 07:15:21,978 : INFO : epoch: 83; val_loss: 0.24076427519321442; val_mae: 0.12503358721733093\n",
      "2024-01-23 07:15:21,979 : INFO : epoch: 83; train_loss: 0.36546242237091064; train_mae: 0.17686232924461365\n",
      "2024-01-23 07:15:22,112 : DEBUG : open file: /Users/andrey.golda/Documents/Study/MSU_interpol/training/wandb_local_logs/MSU_interpol/peachy-galaxy-32/checkpoints/exp_name=0val_loss=0.32745-epoch=83.ckpt\n",
      "2024-01-23 07:20:19,428 : INFO : epoch: 84; val_loss: 0.24075299501419067; val_mae: 0.12503260374069214\n",
      "2024-01-23 07:20:19,430 : INFO : epoch: 84; train_loss: 0.3654906749725342; train_mae: 0.1768573820590973\n",
      "2024-01-23 07:20:19,573 : DEBUG : open file: /Users/andrey.golda/Documents/Study/MSU_interpol/training/wandb_local_logs/MSU_interpol/peachy-galaxy-32/checkpoints/exp_name=0val_loss=0.32744-epoch=84.ckpt\n",
      "2024-01-23 07:25:17,759 : INFO : epoch: 85; val_loss: 0.24073779582977295; val_mae: 0.12503211200237274\n",
      "2024-01-23 07:25:17,761 : INFO : epoch: 85; train_loss: 0.3655303120613098; train_mae: 0.1768631786108017\n",
      "2024-01-23 07:25:17,908 : DEBUG : open file: /Users/andrey.golda/Documents/Study/MSU_interpol/training/wandb_local_logs/MSU_interpol/peachy-galaxy-32/checkpoints/exp_name=0val_loss=0.32744-epoch=85.ckpt\n",
      "2024-01-23 07:30:57,739 : INFO : epoch: 86; val_loss: 0.2407325953245163; val_mae: 0.12503142654895782\n",
      "2024-01-23 07:30:57,742 : INFO : epoch: 86; train_loss: 0.3655069172382355; train_mae: 0.17686274647712708\n",
      "2024-01-23 07:30:57,887 : DEBUG : open file: /Users/andrey.golda/Documents/Study/MSU_interpol/training/wandb_local_logs/MSU_interpol/peachy-galaxy-32/checkpoints/exp_name=0val_loss=0.32744-epoch=86.ckpt\n",
      "2024-01-23 07:35:56,633 : INFO : epoch: 87; val_loss: 0.24071912467479706; val_mae: 0.12502937018871307\n",
      "2024-01-23 07:35:56,636 : INFO : epoch: 87; train_loss: 0.3655316233634949; train_mae: 0.17685851454734802\n",
      "2024-01-23 07:35:56,773 : DEBUG : open file: /Users/andrey.golda/Documents/Study/MSU_interpol/training/wandb_local_logs/MSU_interpol/peachy-galaxy-32/checkpoints/exp_name=0val_loss=0.32744-epoch=87.ckpt\n",
      "2024-01-23 07:41:37,740 : INFO : epoch: 88; val_loss: 0.24070438742637634; val_mae: 0.12502819299697876\n",
      "2024-01-23 07:41:37,743 : INFO : epoch: 88; train_loss: 0.365572065114975; train_mae: 0.17686204612255096\n"
     ]
    },
    {
     "name": "stderr",
     "output_type": "stream",
     "text": [
      "Metric val_loss improved by 0.000 >= min_delta = 1e-05. New best score: 0.327\n"
     ]
    },
    {
     "name": "stdout",
     "output_type": "stream",
     "text": [
      "2024-01-23 07:41:37,925 : DEBUG : open file: /Users/andrey.golda/Documents/Study/MSU_interpol/training/wandb_local_logs/MSU_interpol/peachy-galaxy-32/checkpoints/exp_name=0val_loss=0.32744-epoch=88.ckpt\n",
      "2024-01-23 07:46:37,250 : INFO : epoch: 89; val_loss: 0.24069371819496155; val_mae: 0.1250251680612564\n",
      "2024-01-23 07:46:37,253 : INFO : epoch: 89; train_loss: 0.3655118942260742; train_mae: 0.17685869336128235\n",
      "2024-01-23 07:46:37,402 : DEBUG : open file: /Users/andrey.golda/Documents/Study/MSU_interpol/training/wandb_local_logs/MSU_interpol/peachy-galaxy-32/checkpoints/exp_name=0val_loss=0.32744-epoch=89.ckpt\n",
      "2024-01-23 07:51:36,688 : INFO : epoch: 90; val_loss: 0.24067814648151398; val_mae: 0.12502427399158478\n",
      "2024-01-23 07:51:36,690 : INFO : epoch: 90; train_loss: 0.3655345141887665; train_mae: 0.17685241997241974\n",
      "2024-01-23 07:51:36,824 : DEBUG : open file: /Users/andrey.golda/Documents/Study/MSU_interpol/training/wandb_local_logs/MSU_interpol/peachy-galaxy-32/checkpoints/exp_name=0val_loss=0.32743-epoch=90.ckpt\n",
      "2024-01-23 07:56:36,712 : INFO : epoch: 91; val_loss: 0.2406647652387619; val_mae: 0.1250225007534027\n",
      "2024-01-23 07:56:36,714 : INFO : epoch: 91; train_loss: 0.365562379360199; train_mae: 0.17685192823410034\n",
      "2024-01-23 07:56:36,845 : DEBUG : open file: /Users/andrey.golda/Documents/Study/MSU_interpol/training/wandb_local_logs/MSU_interpol/peachy-galaxy-32/checkpoints/exp_name=0val_loss=0.32743-epoch=91.ckpt\n",
      "2024-01-23 08:01:36,748 : INFO : epoch: 92; val_loss: 0.24065782129764557; val_mae: 0.12501861155033112\n",
      "2024-01-23 08:01:36,751 : INFO : epoch: 92; train_loss: 0.3655480742454529; train_mae: 0.17685411870479584\n",
      "2024-01-23 08:01:36,906 : DEBUG : open file: /Users/andrey.golda/Documents/Study/MSU_interpol/training/wandb_local_logs/MSU_interpol/peachy-galaxy-32/checkpoints/exp_name=0val_loss=0.32743-epoch=92.ckpt\n",
      "2024-01-23 08:07:22,192 : INFO : epoch: 93; val_loss: 0.24064689874649048; val_mae: 0.12502272427082062\n",
      "2024-01-23 08:07:22,196 : INFO : epoch: 93; train_loss: 0.3655834496021271; train_mae: 0.17685194313526154\n",
      "2024-01-23 08:07:22,340 : DEBUG : open file: /Users/andrey.golda/Documents/Study/MSU_interpol/training/wandb_local_logs/MSU_interpol/peachy-galaxy-32/checkpoints/exp_name=0val_loss=0.32743-epoch=93.ckpt\n",
      "2024-01-23 08:12:23,996 : INFO : epoch: 94; val_loss: 0.24063460528850555; val_mae: 0.12502093613147736\n",
      "2024-01-23 08:12:23,998 : INFO : epoch: 94; train_loss: 0.3655742406845093; train_mae: 0.17684389650821686\n",
      "2024-01-23 08:12:24,133 : DEBUG : open file: /Users/andrey.golda/Documents/Study/MSU_interpol/training/wandb_local_logs/MSU_interpol/peachy-galaxy-32/checkpoints/exp_name=0val_loss=0.32743-epoch=94.ckpt\n",
      "2024-01-23 08:18:09,420 : INFO : epoch: 95; val_loss: 0.24062877893447876; val_mae: 0.12501992285251617\n",
      "2024-01-23 08:18:09,423 : INFO : epoch: 95; train_loss: 0.36554205417633057; train_mae: 0.1768430471420288\n",
      "2024-01-23 08:18:09,578 : DEBUG : open file: /Users/andrey.golda/Documents/Study/MSU_interpol/training/wandb_local_logs/MSU_interpol/peachy-galaxy-32/checkpoints/exp_name=0val_loss=0.32743-epoch=95.ckpt\n",
      "2024-01-23 08:23:11,743 : INFO : epoch: 96; val_loss: 0.2406165897846222; val_mae: 0.12501822412014008\n",
      "2024-01-23 08:23:11,746 : INFO : epoch: 96; train_loss: 0.3655444085597992; train_mae: 0.17683446407318115\n"
     ]
    },
    {
     "name": "stderr",
     "output_type": "stream",
     "text": [
      "Metric val_loss improved by 0.000 >= min_delta = 1e-05. New best score: 0.327\n"
     ]
    },
    {
     "name": "stdout",
     "output_type": "stream",
     "text": [
      "2024-01-23 08:23:11,898 : DEBUG : open file: /Users/andrey.golda/Documents/Study/MSU_interpol/training/wandb_local_logs/MSU_interpol/peachy-galaxy-32/checkpoints/exp_name=0val_loss=0.32742-epoch=96.ckpt\n",
      "2024-01-23 08:28:57,985 : INFO : epoch: 97; val_loss: 0.24060766398906708; val_mae: 0.12501879036426544\n",
      "2024-01-23 08:28:57,989 : INFO : epoch: 97; train_loss: 0.3655734658241272; train_mae: 0.1768355369567871\n",
      "2024-01-23 08:28:58,147 : DEBUG : open file: /Users/andrey.golda/Documents/Study/MSU_interpol/training/wandb_local_logs/MSU_interpol/peachy-galaxy-32/checkpoints/exp_name=0val_loss=0.32742-epoch=97.ckpt\n",
      "2024-01-23 08:34:01,311 : INFO : epoch: 98; val_loss: 0.24060821533203125; val_mae: 0.12502145767211914\n",
      "2024-01-23 08:34:01,314 : INFO : epoch: 98; train_loss: 0.36552879214286804; train_mae: 0.17683184146881104\n",
      "2024-01-23 08:34:01,455 : DEBUG : open file: /Users/andrey.golda/Documents/Study/MSU_interpol/training/wandb_local_logs/MSU_interpol/peachy-galaxy-32/checkpoints/exp_name=0val_loss=0.32742-epoch=98.ckpt\n",
      "2024-01-23 08:39:04,474 : INFO : epoch: 99; val_loss: 0.2405894696712494; val_mae: 0.1250210404396057\n",
      "2024-01-23 08:39:04,478 : INFO : epoch: 99; train_loss: 0.3655635416507721; train_mae: 0.17682763934135437\n",
      "2024-01-23 08:39:04,627 : DEBUG : open file: /Users/andrey.golda/Documents/Study/MSU_interpol/training/wandb_local_logs/MSU_interpol/peachy-galaxy-32/checkpoints/exp_name=0val_loss=0.32742-epoch=99.ckpt\n",
      "2024-01-23 08:44:09,118 : INFO : epoch: 100; val_loss: 0.24058443307876587; val_mae: 0.12502215802669525\n",
      "2024-01-23 08:44:09,121 : INFO : epoch: 100; train_loss: 0.36556291580200195; train_mae: 0.17682170867919922\n",
      "2024-01-23 08:44:09,269 : DEBUG : open file: /Users/andrey.golda/Documents/Study/MSU_interpol/training/wandb_local_logs/MSU_interpol/peachy-galaxy-32/checkpoints/exp_name=0val_loss=0.32742-epoch=100.ckpt\n",
      "2024-01-23 08:49:57,547 : INFO : epoch: 101; val_loss: 0.24057772755622864; val_mae: 0.12502223253250122\n",
      "2024-01-23 08:49:57,551 : INFO : epoch: 101; train_loss: 0.3655073046684265; train_mae: 0.17681550979614258\n",
      "2024-01-23 08:49:57,706 : DEBUG : open file: /Users/andrey.golda/Documents/Study/MSU_interpol/training/wandb_local_logs/MSU_interpol/peachy-galaxy-32/checkpoints/exp_name=0val_loss=0.32742-epoch=101.ckpt\n",
      "2024-01-23 08:55:02,160 : INFO : epoch: 102; val_loss: 0.24056793749332428; val_mae: 0.12502500414848328\n",
      "2024-01-23 08:55:02,163 : INFO : epoch: 102; train_loss: 0.3655412495136261; train_mae: 0.17681291699409485\n",
      "2024-01-23 08:55:02,309 : DEBUG : open file: /Users/andrey.golda/Documents/Study/MSU_interpol/training/wandb_local_logs/MSU_interpol/peachy-galaxy-32/checkpoints/exp_name=0val_loss=0.32742-epoch=102.ckpt\n",
      "2024-01-23 09:00:49,625 : INFO : epoch: 103; val_loss: 0.24055789411067963; val_mae: 0.12502536177635193\n",
      "2024-01-23 09:00:49,629 : INFO : epoch: 103; train_loss: 0.3655507564544678; train_mae: 0.176808163523674\n"
     ]
    },
    {
     "name": "stderr",
     "output_type": "stream",
     "text": [
      "Metric val_loss improved by 0.000 >= min_delta = 1e-05. New best score: 0.327\n"
     ]
    },
    {
     "name": "stdout",
     "output_type": "stream",
     "text": [
      "2024-01-23 09:00:49,892 : DEBUG : open file: /Users/andrey.golda/Documents/Study/MSU_interpol/training/wandb_local_logs/MSU_interpol/peachy-galaxy-32/checkpoints/exp_name=0val_loss=0.32741-epoch=103.ckpt\n",
      "2024-01-23 09:05:50,945 : INFO : epoch: 104; val_loss: 0.24055424332618713; val_mae: 0.12502408027648926\n",
      "2024-01-23 09:05:50,949 : INFO : epoch: 104; train_loss: 0.36548295617103577; train_mae: 0.17679624259471893\n",
      "2024-01-23 09:05:51,088 : DEBUG : open file: /Users/andrey.golda/Documents/Study/MSU_interpol/training/wandb_local_logs/MSU_interpol/peachy-galaxy-32/checkpoints/exp_name=0val_loss=0.32741-epoch=104.ckpt\n",
      "2024-01-23 09:10:52,704 : INFO : epoch: 105; val_loss: 0.24054284393787384; val_mae: 0.12502574920654297\n",
      "2024-01-23 09:10:52,714 : INFO : epoch: 105; train_loss: 0.3655460774898529; train_mae: 0.1768004447221756\n",
      "2024-01-23 09:10:52,870 : DEBUG : open file: /Users/andrey.golda/Documents/Study/MSU_interpol/training/wandb_local_logs/MSU_interpol/peachy-galaxy-32/checkpoints/exp_name=0val_loss=0.32741-epoch=105.ckpt\n",
      "2024-01-23 09:15:52,917 : INFO : epoch: 106; val_loss: 0.24053199589252472; val_mae: 0.12502500414848328\n",
      "2024-01-23 09:15:52,920 : INFO : epoch: 106; train_loss: 0.3655475676059723; train_mae: 0.17679385840892792\n",
      "2024-01-23 09:15:53,069 : DEBUG : open file: /Users/andrey.golda/Documents/Study/MSU_interpol/training/wandb_local_logs/MSU_interpol/peachy-galaxy-32/checkpoints/exp_name=0val_loss=0.32741-epoch=106.ckpt\n"
     ]
    }
   ],
   "source": [
    "data_module = InterpolDataModule(hyperparams=hyperparams_dict)\n",
    "# model = InterpolRegressor(hyperparams=hyperparams_dict)\n",
    "model = InterpolRegressor.load_from_checkpoint(f'./wandb_local_logs/MSU_interpol/fresh-surf-31/checkpoints/exp_name=0val_loss=0.32796-epoch=57.ckpt', hyperparams=hyperparams_dict)\n",
    "\n",
    "trainer = pl.Trainer(max_epochs=hyperparams_dict.get('max_epochs'),\n",
    "                     accelerator='cpu',\n",
    "                     logger=wandb_logger,\n",
    "                     enable_progress_bar=False)\n",
    "trainer.fit(model, data_module)"
   ]
  },
  {
   "cell_type": "code",
   "execution_count": null,
   "id": "9f33d989",
   "metadata": {
    "scrolled": false
   },
   "outputs": [],
   "source": [
    "wandb.finish()"
   ]
  },
  {
   "cell_type": "code",
   "execution_count": null,
   "outputs": [],
   "source": [],
   "metadata": {
    "collapsed": false
   }
  }
 ],
 "metadata": {
  "kernelspec": {
   "display_name": "Python 3",
   "language": "python",
   "name": "python3"
  },
  "language_info": {
   "codemirror_mode": {
    "name": "ipython",
    "version": 3
   },
   "file_extension": ".py",
   "mimetype": "text/x-python",
   "name": "python",
   "nbconvert_exporter": "python",
   "pygments_lexer": "ipython3",
   "version": "3.9.0"
  }
 },
 "nbformat": 4,
 "nbformat_minor": 5
}
