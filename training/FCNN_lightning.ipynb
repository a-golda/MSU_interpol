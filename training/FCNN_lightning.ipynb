{
 "cells": [
  {
   "cell_type": "code",
   "execution_count": 2,
   "id": "8ce34e31",
   "metadata": {
    "code_folding": [],
    "ExecuteTime": {
     "end_time": "2024-05-13T21:07:57.525016Z",
     "start_time": "2024-05-13T21:07:23.864442Z"
    }
   },
   "outputs": [
    {
     "name": "stderr",
     "output_type": "stream",
     "text": [
      "/var/folders/xz/1q44kbwx25g7j6b7qsjs_x4r0000gp/T/ipykernel_77385/2726006082.py:10: DeprecationWarning: \n",
      "Pyarrow will become a required dependency of pandas in the next major release of pandas (pandas 3.0),\n",
      "(to allow more performant data types, such as the Arrow string type, and better interoperability with other libraries)\n",
      "but was not found to be installed on your system.\n",
      "If this would cause problems for you,\n",
      "please provide us feedback at https://github.com/pandas-dev/pandas/issues/54466\n",
      "        \n",
      "  import pandas as pd\n"
     ]
    }
   ],
   "source": [
    "import os\n",
    "import sys\n",
    "import math\n",
    "import tqdm\n",
    "import wandb\n",
    "import torch\n",
    "import logging\n",
    "\n",
    "import numpy as np\n",
    "import pandas as pd\n",
    "import torch.nn as nn\n",
    "import lightning.pytorch as pl\n",
    "\n",
    "from torchmetrics import MeanAbsoluteError\n",
    "from sklearn.metrics import mean_squared_error\n",
    "from torch.utils.data import Dataset, DataLoader\n",
    "from sklearn.preprocessing import StandardScaler\n",
    "from lightning.pytorch.loggers import WandbLogger\n",
    "from sklearn.model_selection import train_test_split\n",
    "from torch.optim.lr_scheduler import ReduceLROnPlateau\n",
    "from lightning.pytorch.callbacks.early_stopping import EarlyStopping\n",
    "from lightning.pytorch.callbacks import Callback, LearningRateMonitor, ModelCheckpoint"
   ]
  },
  {
   "cell_type": "code",
   "execution_count": 2,
   "outputs": [
    {
     "name": "stderr",
     "output_type": "stream",
     "text": [
      "\u001B[34m\u001B[1mwandb\u001B[0m: Currently logged in as: \u001B[33mgolda\u001B[0m (\u001B[33mmsu_ai\u001B[0m). Use \u001B[1m`wandb login --relogin`\u001B[0m to force relogin\n"
     ]
    },
    {
     "data": {
      "text/plain": "True"
     },
     "execution_count": 2,
     "metadata": {},
     "output_type": "execute_result"
    }
   ],
   "source": [
    "wandb.login()"
   ],
   "metadata": {
    "collapsed": false,
    "ExecuteTime": {
     "end_time": "2024-04-02T18:46:38.758011Z",
     "start_time": "2024-04-02T18:46:32.083027Z"
    }
   }
  },
  {
   "cell_type": "markdown",
   "id": "94402bc9",
   "metadata": {
    "ExecuteTime": {
     "end_time": "2024-03-07T11:21:16.752953Z",
     "start_time": "2024-03-07T11:21:16.740004Z"
    }
   },
   "source": [
    "# FCNN"
   ],
   "outputs": [
    {
     "name": "stderr",
     "output_type": "stream",
     "text": [
      "\u001B[34m\u001B[1mwandb\u001B[0m: \u001B[33mWARNING\u001B[0m Calling wandb.login() after wandb.init() has no effect.\n"
     ]
    },
    {
     "data": {
      "text/plain": "True"
     },
     "execution_count": 9,
     "metadata": {},
     "output_type": "execute_result"
    }
   ],
   "execution_count": 9
  },
  {
   "cell_type": "code",
   "execution_count": 31,
   "outputs": [],
   "source": [
    "class RMSELoss(torch.nn.Module):\n",
    "    def __init__(self):\n",
    "        super(RMSELoss,self).__init__()\n",
    "\n",
    "    def forward(self,x,y,w):\n",
    "        criterion = torch.sqrt(torch.mean(w*(x - y)**2)/torch.sum(w))\n",
    "        return criterion"
   ],
   "metadata": {
    "collapsed": false,
    "ExecuteTime": {
     "end_time": "2024-03-07T11:25:17.988541Z",
     "start_time": "2024-03-07T11:25:17.979706Z"
    }
   }
  },
  {
   "cell_type": "code",
   "execution_count": 52,
   "id": "192e02bf",
   "metadata": {
    "code_folding": [],
    "ExecuteTime": {
     "end_time": "2024-03-07T11:31:33.028403Z",
     "start_time": "2024-03-07T11:31:33.023164Z"
    }
   },
   "outputs": [],
   "source": [
    "#params\n",
    "project_name = \"MSU_interpol\"\n",
    "\n",
    "logger_path = './wandb_local_logs'\n",
    "data_path = '../data/clasdb_pi_plus_n.txt'\n",
    "\n",
    "hyperparams_dict = {\n",
    "    'scale_data': False,\n",
    "    'augment': True,\n",
    "    'augment_factor': 20,\n",
    "    'test_size': 0.1,\n",
    "    'batch_size': 256,\n",
    "    'net_architecture': [5,60,80,100,120,140,240,340,440,640,2000,1040,640,340,240,140,100,80,60,20,1],\n",
    "    'activation_function': nn.ReLU(),\n",
    "    'loss_func': RMSELoss(),\n",
    "    'optim_func': torch.optim.Adam,\n",
    "    'max_epochs': 2000,\n",
    "    'es_min_delta': 0.00001,\n",
    "    'es_patience': 20,\n",
    "    'lr': 0.001,\n",
    "    'lr_factor':0.5,\n",
    "    'lr_patience': 5,\n",
    "    'lr_cooldown': 20,\n",
    "}"
   ]
  },
  {
   "cell_type": "code",
   "execution_count": 53,
   "outputs": [
    {
     "name": "stdout",
     "output_type": "stream",
     "text": [
      "2024-03-07 11:31:37,691 : DEBUG : Popen(['git', 'cat-file', '--batch-check'], cwd=/Users/andrey.golda/Documents/Study/MSU_interpol, stdin=<valid stream>, shell=False, universal_newlines=False)\n"
     ]
    },
    {
     "data": {
      "text/plain": "<IPython.core.display.HTML object>",
      "text/html": "wandb version 0.16.4 is available!  To upgrade, please run:\n $ pip install wandb --upgrade"
     },
     "metadata": {},
     "output_type": "display_data"
    },
    {
     "data": {
      "text/plain": "<IPython.core.display.HTML object>",
      "text/html": "Tracking run with wandb version 0.16.2"
     },
     "metadata": {},
     "output_type": "display_data"
    },
    {
     "data": {
      "text/plain": "<IPython.core.display.HTML object>",
      "text/html": "Run data is saved locally in <code>./wandb_local_logs/wandb/run-20240307_113137-pbuzqcje</code>"
     },
     "metadata": {},
     "output_type": "display_data"
    },
    {
     "data": {
      "text/plain": "<IPython.core.display.HTML object>",
      "text/html": "Syncing run <strong><a href='https://wandb.ai/msu_ai/msu_interpol/runs/pbuzqcje' target=\"_blank\">crimson-donkey-45</a></strong> to <a href='https://wandb.ai/msu_ai/msu_interpol' target=\"_blank\">Weights & Biases</a> (<a href='https://wandb.me/run' target=\"_blank\">docs</a>)<br/>"
     },
     "metadata": {},
     "output_type": "display_data"
    },
    {
     "data": {
      "text/plain": "<IPython.core.display.HTML object>",
      "text/html": " View project at <a href='https://wandb.ai/msu_ai/msu_interpol' target=\"_blank\">https://wandb.ai/msu_ai/msu_interpol</a>"
     },
     "metadata": {},
     "output_type": "display_data"
    },
    {
     "data": {
      "text/plain": "<IPython.core.display.HTML object>",
      "text/html": " View run at <a href='https://wandb.ai/msu_ai/msu_interpol/runs/pbuzqcje' target=\"_blank\">https://wandb.ai/msu_ai/msu_interpol/runs/pbuzqcje</a>"
     },
     "metadata": {},
     "output_type": "display_data"
    }
   ],
   "source": [
    "wandb_logger = WandbLogger(project=project_name,\n",
    "                           save_dir=logger_path)\n",
    "exp_name = wandb_logger.experiment.name\n",
    "\n",
    "logger_full_path = os.path.join(logger_path, project_name, exp_name)\n",
    "\n",
    "os.makedirs(logger_full_path, exist_ok=True)\n",
    "logging.basicConfig(encoding='utf-8',\n",
    "                    level=logging.DEBUG,\n",
    "                    format='%(asctime)s : %(levelname)s : %(message)s',\n",
    "                    handlers=[logging.FileHandler(os.path.join(logger_full_path, 'logs.log'), mode='w'),\n",
    "                              logging.StreamHandler(sys.stdout)],\n",
    "                    force=True)"
   ],
   "metadata": {
    "collapsed": false,
    "ExecuteTime": {
     "end_time": "2024-03-07T11:31:39.219773Z",
     "start_time": "2024-03-07T11:31:37.646070Z"
    }
   }
  },
  {
   "cell_type": "code",
   "execution_count": 54,
   "id": "1a4c8bf4",
   "metadata": {
    "code_folding": [
     0,
     14,
     57
    ],
    "ExecuteTime": {
     "end_time": "2024-03-07T11:31:41.974579Z",
     "start_time": "2024-03-07T11:31:41.942128Z"
    }
   },
   "outputs": [],
   "source": [
    "class InterpolDataSet(Dataset):\n",
    "    def __init__(self, features, labels, weights):\n",
    "        self.features = features\n",
    "        self.labels = labels\n",
    "        self.weights = weights\n",
    "        self.len = len(labels)\n",
    "\n",
    "    def __getitem__(self, index):\n",
    "        feature = self.features[index]\n",
    "        label = self.labels[index]\n",
    "        weights = self.weights[index]\n",
    "        return feature, label, weights\n",
    "\n",
    "    def __len__(self):\n",
    "        return self.len\n",
    "\n",
    "class InterpolDataModule(pl.LightningDataModule):\n",
    "    def __init__(self, hyperparams):\n",
    "        super().__init__()\n",
    "        self.df = None\n",
    "        self.hyperparams = hyperparams\n",
    "        self.train_dataset = None\n",
    "        self.val_dataset = None\n",
    "\n",
    "    def augment(self, new_augm):\n",
    "        augm = pd.Series({'Ebeam': np.random.normal(loc=new_augm.Ebeam, scale=new_augm.Ebeam/30),\n",
    "                           'W': np.random.normal(loc=new_augm.W, scale=new_augm.W/30),\n",
    "                           'Q2': np.random.normal(loc=new_augm.Q2, scale=new_augm.Q2/30),\n",
    "                           'cos_theta': np.clip(np.random.normal(loc=new_augm.cos_theta, scale=abs(new_augm.cos_theta/30)), -1, 1),\n",
    "                           'phi': np.clip(np.random.normal(loc=new_augm.phi, scale=new_augm.phi/30), 0, 2*np.pi),\n",
    "                           'dsigma_dOmega': np.random.normal(loc=new_augm.dsigma_dOmega, scale=new_augm.error/3),\n",
    "                           'error': new_augm.error,\n",
    "                           'weight': new_augm.weight,\n",
    "                          })\n",
    "        return augm\n",
    "    \n",
    "    def setup(self, stage):\n",
    "        # data reading and preprocessing\n",
    "        df = pd.read_csv(data_path, delimiter='\\t', header=None)\n",
    "        df.columns = ['Ebeam', 'W', 'Q2', 'cos_theta', 'phi', 'dsigma_dOmega', 'error', 'id']\n",
    "        df.loc[8314:65671, 'Ebeam'] = 5.754 # peculiarity of this dataset.\n",
    "        df['phi'] = df.phi.apply(lambda x: math.radians(x))\n",
    "        df['weight'] = df['error'].apply(lambda x: x and 1 / x or 100) # x and 1 / x or 100  is just a reversed error but with validation 1/0 error in this case it will return 100\n",
    "        df = df.drop('id', axis=1)\n",
    "        df = df.iloc[df[['Ebeam', 'W', 'Q2', 'cos_theta', 'phi']].drop_duplicates().index]\n",
    "\n",
    "        #critical\n",
    "        Ebeam = [5.754]\n",
    "        Q2 = [1.715, 1.72, 2.05, 2.44, 2.445, 2.91, 2.915, 3.48, 4.155]\n",
    "        df = df[(df.Q2.isin(Q2))&(df.Ebeam.isin(Ebeam))]\n",
    "\n",
    "\n",
    "        #train test split\n",
    "        feature_columns = ['Ebeam', 'W', 'Q2', 'cos_theta', 'phi']\n",
    "        feature_columns_with_weights = ['Ebeam', 'W', 'Q2', 'cos_theta', 'phi', 'weight']\n",
    "\n",
    "        feature_data = df[feature_columns_with_weights]\n",
    "        label_data = df['dsigma_dOmega']\n",
    "        \n",
    "        if self.hyperparams.get('scale_data'):\n",
    "            scaler_feature = StandardScaler()\n",
    "            scaler_target = StandardScaler()\n",
    "            feature_data = scaler_feature.fit_transform(feature_data)\n",
    "            label_data = scaler_target.fit_transform(label_data.values.reshape(-1,1))\n",
    "        else:\n",
    "            pass\n",
    "\n",
    "        if self.hyperparams.get('augment'):\n",
    "            aug_series_list = []\n",
    "            for i in tqdm.tqdm(df.itertuples()):\n",
    "                for _ in range(self.hyperparams.get('augment_factor')):\n",
    "                    aug_series_list.append(self.augment(i))\n",
    "\n",
    "            aug_df = pd.DataFrame(aug_series_list)\n",
    "            df = pd.concat([df, aug_df])\n",
    "        else:\n",
    "            pass\n",
    "\n",
    "        self.df = df\n",
    "        \n",
    "        train_feature_data, val_feature_data, train_label_data, val_label_data = train_test_split(feature_data,\n",
    "                                                                                                  label_data,\n",
    "                                                                                                  test_size=self.hyperparams.get('test_size'),\n",
    "                                                                                                  random_state=1438)\n",
    "        \n",
    "        \n",
    "        self.train_dataset = InterpolDataSet(torch.tensor(train_feature_data[feature_columns].values, dtype=torch.float32),\n",
    "                                             torch.tensor(train_label_data.values, dtype=torch.float32),\n",
    "                                             torch.tensor(train_feature_data['weight'].values, dtype=torch.float32))\n",
    "        \n",
    "        self.val_dataset = InterpolDataSet(torch.tensor(val_feature_data[feature_columns].values, dtype=torch.float32),\n",
    "                                           torch.tensor(val_label_data.values, dtype=torch.float32),\n",
    "                                           torch.tensor(val_feature_data['weight'].values, dtype=torch.float32))\n",
    "    def train_dataloader(self):\n",
    "        return DataLoader(dataset = self.train_dataset, batch_size = self.hyperparams.get('batch_size'), shuffle = False, num_workers=0)\n",
    "\n",
    "    def val_dataloader(self):\n",
    "        return DataLoader(dataset = self.val_dataset, batch_size = self.hyperparams.get('batch_size'), shuffle = False, num_workers=0)\n",
    "\n",
    "class PrintCallbacks(Callback):\n",
    "    def on_train_start(self, trainer, pl_module):\n",
    "        logging.info(\"Training is starting\")\n",
    "\n",
    "    def on_train_end(self, trainer, pl_module):\n",
    "        logging.info(\"Training is ending\")\n",
    "\n",
    "    def on_train_epoch_end(self, trainer, pl_module):\n",
    "        epoch_mean = torch.stack(pl_module.training_step_outputs).mean()\n",
    "        logging.info(f\"epoch: {pl_module.current_epoch}; train_loss: {epoch_mean}\")\n",
    "        pl_module.training_step_outputs.clear()\n",
    "\n",
    "    def on_validation_epoch_end(self, trainer, pl_module):\n",
    "        epoch_mean = torch.stack(pl_module.validation_step_outputs).mean()\n",
    "        logging.info(f\"epoch: {pl_module.current_epoch}; val_loss: {epoch_mean}\")\n",
    "        pl_module.validation_step_outputs.clear()\n",
    "\n",
    "class InterpolRegressor(pl.LightningModule):\n",
    "    def __init__(self, hyperparams):\n",
    "        super(InterpolRegressor, self).__init__()\n",
    "\n",
    "        self.train_loss, self.train_mae, self.val_loss, self.val_mae = 0,0,0,0\n",
    "        self.hyperparams = hyperparams\n",
    "        self.save_hyperparameters(self.hyperparams)\n",
    "\n",
    "        self.mae = MeanAbsoluteError()\n",
    "        self.loss_func = self.hyperparams.get('loss_func')\n",
    "\n",
    "        self.optim = self.hyperparams.get('optim_func')\n",
    "\n",
    "        self.net_architecture = self.hyperparams.get('net_architecture')\n",
    "        self.activation_function = self.hyperparams.get('activation_function')\n",
    "\n",
    "        self.training_step_outputs = []\n",
    "        self.validation_step_outputs = []\n",
    "\n",
    "        self.net = nn.Sequential()\n",
    "        for i in range(1,len(self.net_architecture)):\n",
    "            self.net.append(nn.Linear(self.net_architecture[i-1], self.net_architecture[i]))\n",
    "            if i!=len(self.net_architecture)-1:\n",
    "                self.net.append(self.activation_function)\n",
    "            else:\n",
    "                pass\n",
    "\n",
    "    def forward(self, x):\n",
    "        return self.net(x)\n",
    "\n",
    "    def training_step(self, batch, batch_idx):\n",
    "        x, y, w = batch\n",
    "        y_hat = self.forward(x)\n",
    "\n",
    "        loss = self.loss_func\n",
    "        self.train_loss = loss.forward(y_hat.reshape(-1), y, w)\n",
    "        self.train_mae = self.mae(y_hat.reshape(-1), y)\n",
    "\n",
    "        self.log('train_loss', self.train_loss, batch_size=self.hyperparams['batch_size'],\n",
    "                 on_step=False, on_epoch=True, prog_bar=True, sync_dist=True, logger=True)\n",
    "        self.log('train_mae', self.train_mae, batch_size=self.hyperparams['batch_size'],\n",
    "                 on_step=False, on_epoch=True, prog_bar=True, sync_dist=True, logger=True)\n",
    "\n",
    "        self.training_step_outputs.append(self.train_loss)\n",
    "        return self.train_loss\n",
    "\n",
    "    def validation_step(self, batch, batch_idx):\n",
    "        x, y, w = batch\n",
    "        y_hat = self.forward(x)\n",
    "\n",
    "        loss = self.loss_func\n",
    "        self.val_loss = loss.forward(y_hat.reshape(-1), y, w)\n",
    "        self.val_mae = self.mae(y_hat.reshape(-1), y)\n",
    "\n",
    "        self.log('val_loss', self.val_loss, batch_size=self.hyperparams['batch_size'],\n",
    "                 on_step=False, on_epoch=True, prog_bar=True, sync_dist=True, logger=True)\n",
    "        self.log('val_mae', self.val_mae, batch_size=self.hyperparams['batch_size'],\n",
    "                 on_step=False, on_epoch=True, prog_bar=True, sync_dist=True, logger=True)\n",
    "\n",
    "        self.validation_step_outputs.append(self.val_loss)\n",
    "        return self.val_loss\n",
    "\n",
    "    def on_validation_epoch_end(self):\n",
    "        sch = self.lr_schedulers()\n",
    "        if isinstance(sch, torch.optim.lr_scheduler.ReduceLROnPlateau) and self.trainer.current_epoch!=0:\n",
    "                sch.step(self.trainer.callback_metrics[\"val_loss\"])\n",
    "\n",
    "    def configure_callbacks(self):\n",
    "        early_stop_callback = EarlyStopping(monitor=\"val_loss\", mode=\"min\",\n",
    "                                            min_delta=self.hyperparams.get('es_min_delta'),\n",
    "                                            patience=self.hyperparams.get('es_patience'),\n",
    "                                            verbose=True)\n",
    "\n",
    "        checkpoint_callback = ModelCheckpoint(save_top_k=3,\n",
    "                                              monitor=\"val_loss\",\n",
    "                                              mode=\"min\",\n",
    "                                              dirpath=f\"{logger_full_path}/checkpoints\",\n",
    "                                              filename=\"{exp_name}{val_loss:.5f}-{epoch:02d}\")\n",
    "\n",
    "        lr_monitor = LearningRateMonitor(logging_interval='epoch')\n",
    "\n",
    "        print_callback = PrintCallbacks()\n",
    "\n",
    "        return [early_stop_callback, checkpoint_callback, print_callback, lr_monitor]\n",
    "\n",
    "    def configure_optimizers(self):\n",
    "        optimizer = self.optim(self.parameters(), lr=self.hyperparams.get('lr'))\n",
    "        lr_optim = ReduceLROnPlateau(optimizer = optimizer,\n",
    "                                     mode = 'min',\n",
    "                                     factor = self.hyperparams.get('lr_factor'),\n",
    "                                     patience = self.hyperparams.get('lr_patience'),\n",
    "                                     cooldown=self.hyperparams.get('lr_cooldown'),\n",
    "                                     threshold=0.01,\n",
    "                                     verbose= True)\n",
    "        return {\"optimizer\": optimizer,\n",
    "                \"lr_scheduler\": {\n",
    "                    \"scheduler\": lr_optim,\n",
    "                    \"interval\": \"epoch\",\n",
    "                    \"monitor\": \"val_loss\",\n",
    "                    \"frequency\": 2,\n",
    "                    \"name\": 'lr_scheduler_monitoring'}\n",
    "                }\n"
   ]
  },
  {
   "cell_type": "code",
   "execution_count": 55,
   "id": "8b5babb2",
   "metadata": {
    "code_folding": [],
    "scrolled": false,
    "ExecuteTime": {
     "end_time": "2024-03-07T13:31:10.551820Z",
     "start_time": "2024-03-07T11:31:42.615021Z"
    }
   },
   "outputs": [
    {
     "name": "stderr",
     "output_type": "stream",
     "text": [
      "/Users/andrey.golda/Library/Caches/pypoetry/virtualenvs/msu-interpol--lw2ADYE-py3.11/lib/python3.11/site-packages/lightning/pytorch/utilities/parsing.py:198: Attribute 'activation_function' is an instance of `nn.Module` and is already saved during checkpointing. It is recommended to ignore them using `self.save_hyperparameters(ignore=['activation_function'])`.\n",
      "/Users/andrey.golda/Library/Caches/pypoetry/virtualenvs/msu-interpol--lw2ADYE-py3.11/lib/python3.11/site-packages/lightning/pytorch/utilities/parsing.py:198: Attribute 'loss_func' is an instance of `nn.Module` and is already saved during checkpointing. It is recommended to ignore them using `self.save_hyperparameters(ignore=['loss_func'])`.\n",
      "GPU available: False, used: False\n",
      "TPU available: False, using: 0 TPU cores\n",
      "IPU available: False, using: 0 IPUs\n",
      "HPU available: False, using: 0 HPUs\n",
      "The following callbacks returned in `LightningModule.configure_callbacks` will override existing callbacks passed to Trainer: ModelCheckpoint\n",
      "52531it [02:38, 330.93it/s]\n",
      "/Users/andrey.golda/Library/Caches/pypoetry/virtualenvs/msu-interpol--lw2ADYE-py3.11/lib/python3.11/site-packages/torch/optim/lr_scheduler.py:28: UserWarning: The verbose parameter is deprecated. Please use get_last_lr() to access the learning rate.\n",
      "  warnings.warn(\"The verbose parameter is deprecated. Please use get_last_lr() \"\n",
      "\n",
      "  | Name                | Type              | Params\n",
      "----------------------------------------------------------\n",
      "0 | mae                 | MeanAbsoluteError | 0     \n",
      "1 | loss_func           | RMSELoss          | 0     \n",
      "2 | activation_function | ReLU              | 0     \n",
      "3 | net                 | Sequential        | 5.0 M \n",
      "----------------------------------------------------------\n",
      "5.0 M     Trainable params\n",
      "0         Non-trainable params\n",
      "5.0 M     Total params\n",
      "19.926    Total estimated model params size (MB)\n"
     ]
    },
    {
     "name": "stdout",
     "output_type": "stream",
     "text": [
      "2024-03-07 11:35:17,462 : INFO : epoch: 0; val_loss: 15.585671424865723\n",
      "2024-03-07 11:35:17,466 : INFO : Training is starting\n"
     ]
    },
    {
     "name": "stderr",
     "output_type": "stream",
     "text": [
      "/Users/andrey.golda/Library/Caches/pypoetry/virtualenvs/msu-interpol--lw2ADYE-py3.11/lib/python3.11/site-packages/lightning/pytorch/trainer/connectors/data_connector.py:441: The 'val_dataloader' does not have many workers which may be a bottleneck. Consider increasing the value of the `num_workers` argument` to `num_workers=11` in the `DataLoader` to improve performance.\n",
      "/Users/andrey.golda/Library/Caches/pypoetry/virtualenvs/msu-interpol--lw2ADYE-py3.11/lib/python3.11/site-packages/lightning/pytorch/trainer/connectors/data_connector.py:441: The 'train_dataloader' does not have many workers which may be a bottleneck. Consider increasing the value of the `num_workers` argument` to `num_workers=11` in the `DataLoader` to improve performance.\n"
     ]
    },
    {
     "name": "stdout",
     "output_type": "stream",
     "text": [
      "2024-03-07 11:35:41,648 : INFO : epoch: 0; val_loss: 5.541561126708984\n",
      "2024-03-07 11:35:41,650 : INFO : epoch: 0; train_loss: 7.018660068511963\n"
     ]
    },
    {
     "name": "stderr",
     "output_type": "stream",
     "text": [
      "Metric val_loss improved. New best score: 5.542\n"
     ]
    },
    {
     "name": "stdout",
     "output_type": "stream",
     "text": [
      "2024-03-07 11:35:41,807 : DEBUG : open file: /Users/andrey.golda/Documents/Study/MSU_interpol/training/wandb_local_logs/MSU_interpol/crimson-donkey-45/checkpoints/exp_name=0val_loss=5.54156-epoch=00.ckpt\n",
      "2024-03-07 11:36:06,400 : INFO : epoch: 1; val_loss: 4.976798057556152\n",
      "2024-03-07 11:36:06,403 : INFO : epoch: 1; train_loss: 5.180389404296875\n"
     ]
    },
    {
     "name": "stderr",
     "output_type": "stream",
     "text": [
      "Metric val_loss improved by 0.565 >= min_delta = 1e-05. New best score: 4.977\n"
     ]
    },
    {
     "name": "stdout",
     "output_type": "stream",
     "text": [
      "2024-03-07 11:36:06,470 : DEBUG : open file: /Users/andrey.golda/Documents/Study/MSU_interpol/training/wandb_local_logs/MSU_interpol/crimson-donkey-45/checkpoints/exp_name=0val_loss=4.97680-epoch=01.ckpt\n",
      "2024-03-07 11:36:31,293 : INFO : epoch: 2; val_loss: 4.7539191246032715\n",
      "2024-03-07 11:36:31,296 : INFO : epoch: 2; train_loss: 5.001838207244873\n"
     ]
    },
    {
     "name": "stderr",
     "output_type": "stream",
     "text": [
      "Metric val_loss improved by 0.223 >= min_delta = 1e-05. New best score: 4.754\n"
     ]
    },
    {
     "name": "stdout",
     "output_type": "stream",
     "text": [
      "2024-03-07 11:36:31,367 : DEBUG : open file: /Users/andrey.golda/Documents/Study/MSU_interpol/training/wandb_local_logs/MSU_interpol/crimson-donkey-45/checkpoints/exp_name=0val_loss=4.75392-epoch=02.ckpt\n",
      "2024-03-07 11:36:56,095 : INFO : epoch: 3; val_loss: 4.443909168243408\n",
      "2024-03-07 11:36:56,098 : INFO : epoch: 3; train_loss: 4.787153720855713\n"
     ]
    },
    {
     "name": "stderr",
     "output_type": "stream",
     "text": [
      "Metric val_loss improved by 0.310 >= min_delta = 1e-05. New best score: 4.444\n"
     ]
    },
    {
     "name": "stdout",
     "output_type": "stream",
     "text": [
      "2024-03-07 11:36:56,161 : DEBUG : open file: /Users/andrey.golda/Documents/Study/MSU_interpol/training/wandb_local_logs/MSU_interpol/crimson-donkey-45/checkpoints/exp_name=0val_loss=4.44391-epoch=03.ckpt\n",
      "2024-03-07 11:37:20,686 : INFO : epoch: 4; val_loss: 3.9753661155700684\n",
      "2024-03-07 11:37:20,688 : INFO : epoch: 4; train_loss: 4.444015979766846\n"
     ]
    },
    {
     "name": "stderr",
     "output_type": "stream",
     "text": [
      "Metric val_loss improved by 0.469 >= min_delta = 1e-05. New best score: 3.975\n"
     ]
    },
    {
     "name": "stdout",
     "output_type": "stream",
     "text": [
      "2024-03-07 11:37:20,753 : DEBUG : open file: /Users/andrey.golda/Documents/Study/MSU_interpol/training/wandb_local_logs/MSU_interpol/crimson-donkey-45/checkpoints/exp_name=0val_loss=3.97537-epoch=04.ckpt\n",
      "2024-03-07 11:37:45,003 : INFO : epoch: 5; val_loss: 3.892136812210083\n",
      "2024-03-07 11:37:45,005 : INFO : epoch: 5; train_loss: 4.089427471160889\n"
     ]
    },
    {
     "name": "stderr",
     "output_type": "stream",
     "text": [
      "Metric val_loss improved by 0.083 >= min_delta = 1e-05. New best score: 3.892\n"
     ]
    },
    {
     "name": "stdout",
     "output_type": "stream",
     "text": [
      "2024-03-07 11:37:45,071 : DEBUG : open file: /Users/andrey.golda/Documents/Study/MSU_interpol/training/wandb_local_logs/MSU_interpol/crimson-donkey-45/checkpoints/exp_name=0val_loss=3.89214-epoch=05.ckpt\n",
      "2024-03-07 11:38:10,535 : INFO : epoch: 6; val_loss: 3.565422773361206\n",
      "2024-03-07 11:38:10,537 : INFO : epoch: 6; train_loss: 3.9154052734375\n"
     ]
    },
    {
     "name": "stderr",
     "output_type": "stream",
     "text": [
      "Metric val_loss improved by 0.327 >= min_delta = 1e-05. New best score: 3.565\n"
     ]
    },
    {
     "name": "stdout",
     "output_type": "stream",
     "text": [
      "2024-03-07 11:38:10,619 : DEBUG : open file: /Users/andrey.golda/Documents/Study/MSU_interpol/training/wandb_local_logs/MSU_interpol/crimson-donkey-45/checkpoints/exp_name=0val_loss=3.56542-epoch=06.ckpt\n",
      "2024-03-07 11:38:36,184 : INFO : epoch: 7; val_loss: 3.380237340927124\n",
      "2024-03-07 11:38:36,187 : INFO : epoch: 7; train_loss: 3.566251277923584\n"
     ]
    },
    {
     "name": "stderr",
     "output_type": "stream",
     "text": [
      "Metric val_loss improved by 0.185 >= min_delta = 1e-05. New best score: 3.380\n"
     ]
    },
    {
     "name": "stdout",
     "output_type": "stream",
     "text": [
      "2024-03-07 11:38:36,252 : DEBUG : open file: /Users/andrey.golda/Documents/Study/MSU_interpol/training/wandb_local_logs/MSU_interpol/crimson-donkey-45/checkpoints/exp_name=0val_loss=3.38024-epoch=07.ckpt\n",
      "2024-03-07 11:39:01,319 : INFO : epoch: 8; val_loss: 3.199756383895874\n",
      "2024-03-07 11:39:01,322 : INFO : epoch: 8; train_loss: 3.4414689540863037\n"
     ]
    },
    {
     "name": "stderr",
     "output_type": "stream",
     "text": [
      "Metric val_loss improved by 0.180 >= min_delta = 1e-05. New best score: 3.200\n"
     ]
    },
    {
     "name": "stdout",
     "output_type": "stream",
     "text": [
      "2024-03-07 11:39:01,400 : DEBUG : open file: /Users/andrey.golda/Documents/Study/MSU_interpol/training/wandb_local_logs/MSU_interpol/crimson-donkey-45/checkpoints/exp_name=0val_loss=3.19976-epoch=08.ckpt\n",
      "2024-03-07 11:39:28,175 : INFO : epoch: 9; val_loss: 2.6995887756347656\n",
      "2024-03-07 11:39:28,178 : INFO : epoch: 9; train_loss: 3.2562572956085205\n"
     ]
    },
    {
     "name": "stderr",
     "output_type": "stream",
     "text": [
      "Metric val_loss improved by 0.500 >= min_delta = 1e-05. New best score: 2.700\n"
     ]
    },
    {
     "name": "stdout",
     "output_type": "stream",
     "text": [
      "2024-03-07 11:39:28,248 : DEBUG : open file: /Users/andrey.golda/Documents/Study/MSU_interpol/training/wandb_local_logs/MSU_interpol/crimson-donkey-45/checkpoints/exp_name=0val_loss=2.69959-epoch=09.ckpt\n",
      "2024-03-07 11:39:55,007 : INFO : epoch: 10; val_loss: 2.899618148803711\n",
      "2024-03-07 11:39:55,009 : INFO : epoch: 10; train_loss: 3.006826639175415\n",
      "2024-03-07 11:39:55,092 : DEBUG : open file: /Users/andrey.golda/Documents/Study/MSU_interpol/training/wandb_local_logs/MSU_interpol/crimson-donkey-45/checkpoints/exp_name=0val_loss=2.89962-epoch=10.ckpt\n",
      "2024-03-07 11:40:20,719 : INFO : epoch: 11; val_loss: 2.640578031539917\n",
      "2024-03-07 11:40:20,722 : INFO : epoch: 11; train_loss: 2.933619499206543\n"
     ]
    },
    {
     "name": "stderr",
     "output_type": "stream",
     "text": [
      "Metric val_loss improved by 0.059 >= min_delta = 1e-05. New best score: 2.641\n"
     ]
    },
    {
     "name": "stdout",
     "output_type": "stream",
     "text": [
      "2024-03-07 11:40:20,795 : DEBUG : open file: /Users/andrey.golda/Documents/Study/MSU_interpol/training/wandb_local_logs/MSU_interpol/crimson-donkey-45/checkpoints/exp_name=0val_loss=2.64058-epoch=11.ckpt\n",
      "2024-03-07 11:40:45,831 : INFO : epoch: 12; val_loss: 2.6190123558044434\n",
      "2024-03-07 11:40:45,834 : INFO : epoch: 12; train_loss: 2.8580381870269775\n"
     ]
    },
    {
     "name": "stderr",
     "output_type": "stream",
     "text": [
      "Metric val_loss improved by 0.022 >= min_delta = 1e-05. New best score: 2.619\n"
     ]
    },
    {
     "name": "stdout",
     "output_type": "stream",
     "text": [
      "2024-03-07 11:40:45,900 : DEBUG : open file: /Users/andrey.golda/Documents/Study/MSU_interpol/training/wandb_local_logs/MSU_interpol/crimson-donkey-45/checkpoints/exp_name=0val_loss=2.61901-epoch=12.ckpt\n",
      "2024-03-07 11:41:10,997 : INFO : epoch: 13; val_loss: 2.726944923400879\n",
      "2024-03-07 11:41:10,999 : INFO : epoch: 13; train_loss: 2.791234254837036\n",
      "2024-03-07 11:41:37,514 : INFO : epoch: 14; val_loss: 2.598142623901367\n",
      "2024-03-07 11:41:37,517 : INFO : epoch: 14; train_loss: 2.777912139892578\n"
     ]
    },
    {
     "name": "stderr",
     "output_type": "stream",
     "text": [
      "Metric val_loss improved by 0.021 >= min_delta = 1e-05. New best score: 2.598\n"
     ]
    },
    {
     "name": "stdout",
     "output_type": "stream",
     "text": [
      "2024-03-07 11:41:37,582 : DEBUG : open file: /Users/andrey.golda/Documents/Study/MSU_interpol/training/wandb_local_logs/MSU_interpol/crimson-donkey-45/checkpoints/exp_name=0val_loss=2.59814-epoch=14.ckpt\n",
      "2024-03-07 11:42:05,866 : INFO : epoch: 15; val_loss: 2.410780668258667\n",
      "2024-03-07 11:42:05,869 : INFO : epoch: 15; train_loss: 2.624667167663574\n"
     ]
    },
    {
     "name": "stderr",
     "output_type": "stream",
     "text": [
      "Metric val_loss improved by 0.187 >= min_delta = 1e-05. New best score: 2.411\n"
     ]
    },
    {
     "name": "stdout",
     "output_type": "stream",
     "text": [
      "2024-03-07 11:42:05,933 : DEBUG : open file: /Users/andrey.golda/Documents/Study/MSU_interpol/training/wandb_local_logs/MSU_interpol/crimson-donkey-45/checkpoints/exp_name=0val_loss=2.41078-epoch=15.ckpt\n",
      "2024-03-07 11:42:31,269 : INFO : epoch: 16; val_loss: 2.3032889366149902\n",
      "2024-03-07 11:42:31,271 : INFO : epoch: 16; train_loss: 2.5657689571380615\n"
     ]
    },
    {
     "name": "stderr",
     "output_type": "stream",
     "text": [
      "Metric val_loss improved by 0.107 >= min_delta = 1e-05. New best score: 2.303\n"
     ]
    },
    {
     "name": "stdout",
     "output_type": "stream",
     "text": [
      "2024-03-07 11:42:31,336 : DEBUG : open file: /Users/andrey.golda/Documents/Study/MSU_interpol/training/wandb_local_logs/MSU_interpol/crimson-donkey-45/checkpoints/exp_name=0val_loss=2.30329-epoch=16.ckpt\n",
      "2024-03-07 11:42:56,215 : INFO : epoch: 17; val_loss: 2.3121461868286133\n",
      "2024-03-07 11:42:56,217 : INFO : epoch: 17; train_loss: 2.514287233352661\n",
      "2024-03-07 11:42:56,281 : DEBUG : open file: /Users/andrey.golda/Documents/Study/MSU_interpol/training/wandb_local_logs/MSU_interpol/crimson-donkey-45/checkpoints/exp_name=0val_loss=2.31215-epoch=17.ckpt\n",
      "2024-03-07 11:43:23,427 : INFO : epoch: 18; val_loss: 2.3444817066192627\n",
      "2024-03-07 11:43:23,429 : INFO : epoch: 18; train_loss: 2.500335454940796\n",
      "2024-03-07 11:43:23,492 : DEBUG : open file: /Users/andrey.golda/Documents/Study/MSU_interpol/training/wandb_local_logs/MSU_interpol/crimson-donkey-45/checkpoints/exp_name=0val_loss=2.34448-epoch=18.ckpt\n",
      "2024-03-07 11:43:52,441 : INFO : epoch: 19; val_loss: 2.4787771701812744\n",
      "2024-03-07 11:43:52,443 : INFO : epoch: 19; train_loss: 2.43221116065979\n",
      "2024-03-07 11:44:20,428 : INFO : epoch: 20; val_loss: 2.362356662750244\n",
      "2024-03-07 11:44:20,435 : INFO : epoch: 20; train_loss: 2.386692762374878\n",
      "2024-03-07 11:44:51,019 : INFO : epoch: 21; val_loss: 2.1693952083587646\n",
      "2024-03-07 11:44:51,022 : INFO : epoch: 21; train_loss: 2.1650242805480957\n"
     ]
    },
    {
     "name": "stderr",
     "output_type": "stream",
     "text": [
      "Metric val_loss improved by 0.134 >= min_delta = 1e-05. New best score: 2.169\n"
     ]
    },
    {
     "name": "stdout",
     "output_type": "stream",
     "text": [
      "2024-03-07 11:44:51,103 : DEBUG : open file: /Users/andrey.golda/Documents/Study/MSU_interpol/training/wandb_local_logs/MSU_interpol/crimson-donkey-45/checkpoints/exp_name=0val_loss=2.16940-epoch=21.ckpt\n",
      "2024-03-07 11:45:22,845 : INFO : epoch: 22; val_loss: 2.1690707206726074\n",
      "2024-03-07 11:45:22,848 : INFO : epoch: 22; train_loss: 2.1320433616638184\n"
     ]
    },
    {
     "name": "stderr",
     "output_type": "stream",
     "text": [
      "Metric val_loss improved by 0.000 >= min_delta = 1e-05. New best score: 2.169\n"
     ]
    },
    {
     "name": "stdout",
     "output_type": "stream",
     "text": [
      "2024-03-07 11:45:22,935 : DEBUG : open file: /Users/andrey.golda/Documents/Study/MSU_interpol/training/wandb_local_logs/MSU_interpol/crimson-donkey-45/checkpoints/exp_name=0val_loss=2.16907-epoch=22.ckpt\n",
      "2024-03-07 11:45:54,911 : INFO : epoch: 23; val_loss: 2.168020248413086\n",
      "2024-03-07 11:45:54,914 : INFO : epoch: 23; train_loss: 2.1406474113464355\n"
     ]
    },
    {
     "name": "stderr",
     "output_type": "stream",
     "text": [
      "Metric val_loss improved by 0.001 >= min_delta = 1e-05. New best score: 2.168\n"
     ]
    },
    {
     "name": "stdout",
     "output_type": "stream",
     "text": [
      "2024-03-07 11:45:55,001 : DEBUG : open file: /Users/andrey.golda/Documents/Study/MSU_interpol/training/wandb_local_logs/MSU_interpol/crimson-donkey-45/checkpoints/exp_name=0val_loss=2.16802-epoch=23.ckpt\n",
      "2024-03-07 11:46:29,306 : INFO : epoch: 24; val_loss: 2.1567180156707764\n",
      "2024-03-07 11:46:29,309 : INFO : epoch: 24; train_loss: 2.121542453765869\n"
     ]
    },
    {
     "name": "stderr",
     "output_type": "stream",
     "text": [
      "Metric val_loss improved by 0.011 >= min_delta = 1e-05. New best score: 2.157\n"
     ]
    },
    {
     "name": "stdout",
     "output_type": "stream",
     "text": [
      "2024-03-07 11:46:29,402 : DEBUG : open file: /Users/andrey.golda/Documents/Study/MSU_interpol/training/wandb_local_logs/MSU_interpol/crimson-donkey-45/checkpoints/exp_name=0val_loss=2.15672-epoch=24.ckpt\n",
      "2024-03-07 11:47:04,584 : INFO : epoch: 25; val_loss: 2.1710433959960938\n",
      "2024-03-07 11:47:04,588 : INFO : epoch: 25; train_loss: 2.1158952713012695\n",
      "2024-03-07 11:47:39,492 : INFO : epoch: 26; val_loss: 2.1503560543060303\n",
      "2024-03-07 11:47:39,497 : INFO : epoch: 26; train_loss: 2.0990424156188965\n"
     ]
    },
    {
     "name": "stderr",
     "output_type": "stream",
     "text": [
      "Metric val_loss improved by 0.006 >= min_delta = 1e-05. New best score: 2.150\n"
     ]
    },
    {
     "name": "stdout",
     "output_type": "stream",
     "text": [
      "2024-03-07 11:47:39,610 : DEBUG : open file: /Users/andrey.golda/Documents/Study/MSU_interpol/training/wandb_local_logs/MSU_interpol/crimson-donkey-45/checkpoints/exp_name=0val_loss=2.15036-epoch=26.ckpt\n",
      "2024-03-07 11:48:13,636 : INFO : epoch: 27; val_loss: 2.131065845489502\n",
      "2024-03-07 11:48:13,640 : INFO : epoch: 27; train_loss: 2.0926339626312256\n"
     ]
    },
    {
     "name": "stderr",
     "output_type": "stream",
     "text": [
      "Metric val_loss improved by 0.019 >= min_delta = 1e-05. New best score: 2.131\n"
     ]
    },
    {
     "name": "stdout",
     "output_type": "stream",
     "text": [
      "2024-03-07 11:48:13,732 : DEBUG : open file: /Users/andrey.golda/Documents/Study/MSU_interpol/training/wandb_local_logs/MSU_interpol/crimson-donkey-45/checkpoints/exp_name=0val_loss=2.13107-epoch=27.ckpt\n",
      "2024-03-07 11:48:46,871 : INFO : epoch: 28; val_loss: 2.144998788833618\n",
      "2024-03-07 11:48:46,875 : INFO : epoch: 28; train_loss: 2.103606700897217\n",
      "2024-03-07 11:48:46,969 : DEBUG : open file: /Users/andrey.golda/Documents/Study/MSU_interpol/training/wandb_local_logs/MSU_interpol/crimson-donkey-45/checkpoints/exp_name=0val_loss=2.14500-epoch=28.ckpt\n",
      "2024-03-07 11:49:18,171 : INFO : epoch: 29; val_loss: 2.1822497844696045\n",
      "2024-03-07 11:49:18,174 : INFO : epoch: 29; train_loss: 2.091334104537964\n",
      "2024-03-07 11:49:49,124 : INFO : epoch: 30; val_loss: 2.2050223350524902\n",
      "2024-03-07 11:49:49,127 : INFO : epoch: 30; train_loss: 2.108264446258545\n",
      "2024-03-07 11:50:20,113 : INFO : epoch: 31; val_loss: 2.1790404319763184\n",
      "2024-03-07 11:50:20,117 : INFO : epoch: 31; train_loss: 2.1016018390655518\n",
      "2024-03-07 11:50:50,800 : INFO : epoch: 32; val_loss: 2.1579480171203613\n",
      "2024-03-07 11:50:50,803 : INFO : epoch: 32; train_loss: 2.0838630199432373\n",
      "2024-03-07 11:51:20,881 : INFO : epoch: 33; val_loss: 2.0981109142303467\n",
      "2024-03-07 11:51:20,888 : INFO : epoch: 33; train_loss: 2.0892088413238525\n"
     ]
    },
    {
     "name": "stderr",
     "output_type": "stream",
     "text": [
      "Metric val_loss improved by 0.033 >= min_delta = 1e-05. New best score: 2.098\n"
     ]
    },
    {
     "name": "stdout",
     "output_type": "stream",
     "text": [
      "2024-03-07 11:51:20,971 : DEBUG : open file: /Users/andrey.golda/Documents/Study/MSU_interpol/training/wandb_local_logs/MSU_interpol/crimson-donkey-45/checkpoints/exp_name=0val_loss=2.09811-epoch=33.ckpt\n",
      "2024-03-07 11:51:51,912 : INFO : epoch: 34; val_loss: 2.1575281620025635\n",
      "2024-03-07 11:51:51,916 : INFO : epoch: 34; train_loss: 2.0793378353118896\n",
      "2024-03-07 11:52:23,025 : INFO : epoch: 35; val_loss: 2.1044704914093018\n",
      "2024-03-07 11:52:23,028 : INFO : epoch: 35; train_loss: 2.0733141899108887\n",
      "2024-03-07 11:52:23,112 : DEBUG : open file: /Users/andrey.golda/Documents/Study/MSU_interpol/training/wandb_local_logs/MSU_interpol/crimson-donkey-45/checkpoints/exp_name=0val_loss=2.10447-epoch=35.ckpt\n",
      "2024-03-07 11:52:54,183 : INFO : epoch: 36; val_loss: 2.1252083778381348\n",
      "2024-03-07 11:52:54,186 : INFO : epoch: 36; train_loss: 2.044055938720703\n",
      "2024-03-07 11:52:54,266 : DEBUG : open file: /Users/andrey.golda/Documents/Study/MSU_interpol/training/wandb_local_logs/MSU_interpol/crimson-donkey-45/checkpoints/exp_name=0val_loss=2.12521-epoch=36.ckpt\n",
      "2024-03-07 11:53:24,270 : INFO : epoch: 37; val_loss: 2.1481869220733643\n",
      "2024-03-07 11:53:24,274 : INFO : epoch: 37; train_loss: 2.038174629211426\n",
      "2024-03-07 11:53:54,537 : INFO : epoch: 38; val_loss: 1.9544614553451538\n",
      "2024-03-07 11:53:54,541 : INFO : epoch: 38; train_loss: 1.9290977716445923\n"
     ]
    },
    {
     "name": "stderr",
     "output_type": "stream",
     "text": [
      "Metric val_loss improved by 0.144 >= min_delta = 1e-05. New best score: 1.954\n"
     ]
    },
    {
     "name": "stdout",
     "output_type": "stream",
     "text": [
      "2024-03-07 11:53:54,628 : DEBUG : open file: /Users/andrey.golda/Documents/Study/MSU_interpol/training/wandb_local_logs/MSU_interpol/crimson-donkey-45/checkpoints/exp_name=0val_loss=1.95446-epoch=38.ckpt\n",
      "2024-03-07 11:54:27,531 : INFO : epoch: 39; val_loss: 1.9606759548187256\n",
      "2024-03-07 11:54:27,535 : INFO : epoch: 39; train_loss: 1.9147862195968628\n",
      "2024-03-07 11:54:27,625 : DEBUG : open file: /Users/andrey.golda/Documents/Study/MSU_interpol/training/wandb_local_logs/MSU_interpol/crimson-donkey-45/checkpoints/exp_name=0val_loss=1.96068-epoch=39.ckpt\n",
      "2024-03-07 11:55:02,685 : INFO : epoch: 40; val_loss: 1.9576385021209717\n",
      "2024-03-07 11:55:02,689 : INFO : epoch: 40; train_loss: 1.9104502201080322\n",
      "2024-03-07 11:55:02,781 : DEBUG : open file: /Users/andrey.golda/Documents/Study/MSU_interpol/training/wandb_local_logs/MSU_interpol/crimson-donkey-45/checkpoints/exp_name=0val_loss=1.95764-epoch=40.ckpt\n",
      "2024-03-07 11:55:37,691 : INFO : epoch: 41; val_loss: 1.9906775951385498\n",
      "2024-03-07 11:55:37,694 : INFO : epoch: 41; train_loss: 1.9058682918548584\n",
      "2024-03-07 11:56:12,301 : INFO : epoch: 42; val_loss: 1.984281301498413\n",
      "2024-03-07 11:56:12,303 : INFO : epoch: 42; train_loss: 1.900675892829895\n",
      "2024-03-07 11:56:46,030 : INFO : epoch: 43; val_loss: 2.017547607421875\n",
      "2024-03-07 11:56:46,034 : INFO : epoch: 43; train_loss: 1.8981142044067383\n",
      "2024-03-07 11:57:19,236 : INFO : epoch: 44; val_loss: 1.9778251647949219\n",
      "2024-03-07 11:57:19,238 : INFO : epoch: 44; train_loss: 1.8903477191925049\n",
      "2024-03-07 11:57:52,431 : INFO : epoch: 45; val_loss: 2.022329092025757\n",
      "2024-03-07 11:57:52,434 : INFO : epoch: 45; train_loss: 1.885824203491211\n",
      "2024-03-07 11:58:25,119 : INFO : epoch: 46; val_loss: 2.0021653175354004\n",
      "2024-03-07 11:58:25,122 : INFO : epoch: 46; train_loss: 1.9065220355987549\n",
      "2024-03-07 11:58:58,633 : INFO : epoch: 47; val_loss: 2.0087978839874268\n",
      "2024-03-07 11:58:58,637 : INFO : epoch: 47; train_loss: 1.8862532377243042\n",
      "2024-03-07 11:59:34,855 : INFO : epoch: 48; val_loss: 1.9887351989746094\n",
      "2024-03-07 11:59:34,858 : INFO : epoch: 48; train_loss: 1.883244514465332\n",
      "2024-03-07 12:00:15,559 : INFO : epoch: 49; val_loss: 1.974488615989685\n",
      "2024-03-07 12:00:15,562 : INFO : epoch: 49; train_loss: 1.8718361854553223\n",
      "2024-03-07 12:00:57,597 : INFO : epoch: 50; val_loss: 1.9503028392791748\n",
      "2024-03-07 12:00:57,600 : INFO : epoch: 50; train_loss: 1.868567943572998\n"
     ]
    },
    {
     "name": "stderr",
     "output_type": "stream",
     "text": [
      "Metric val_loss improved by 0.004 >= min_delta = 1e-05. New best score: 1.950\n"
     ]
    },
    {
     "name": "stdout",
     "output_type": "stream",
     "text": [
      "2024-03-07 12:00:57,717 : DEBUG : open file: /Users/andrey.golda/Documents/Study/MSU_interpol/training/wandb_local_logs/MSU_interpol/crimson-donkey-45/checkpoints/exp_name=0val_loss=1.95030-epoch=50.ckpt\n",
      "2024-03-07 12:01:44,905 : INFO : epoch: 51; val_loss: 1.9624792337417603\n",
      "2024-03-07 12:01:44,909 : INFO : epoch: 51; train_loss: 1.8796089887619019\n",
      "2024-03-07 12:02:31,967 : INFO : epoch: 52; val_loss: 1.9690648317337036\n",
      "2024-03-07 12:02:31,972 : INFO : epoch: 52; train_loss: 1.8610613346099854\n",
      "2024-03-07 12:03:14,639 : INFO : epoch: 53; val_loss: 2.0194709300994873\n",
      "2024-03-07 12:03:14,642 : INFO : epoch: 53; train_loss: 1.852571725845337\n",
      "2024-03-07 12:03:54,996 : INFO : epoch: 54; val_loss: 1.9880460500717163\n",
      "2024-03-07 12:03:55,001 : INFO : epoch: 54; train_loss: 1.8588776588439941\n",
      "2024-03-07 12:04:30,352 : INFO : epoch: 55; val_loss: 2.0329718589782715\n",
      "2024-03-07 12:04:30,355 : INFO : epoch: 55; train_loss: 1.8479537963867188\n",
      "2024-03-07 12:05:03,972 : INFO : epoch: 56; val_loss: 1.842888593673706\n",
      "2024-03-07 12:05:03,975 : INFO : epoch: 56; train_loss: 1.802674651145935\n"
     ]
    },
    {
     "name": "stderr",
     "output_type": "stream",
     "text": [
      "Metric val_loss improved by 0.107 >= min_delta = 1e-05. New best score: 1.843\n"
     ]
    },
    {
     "name": "stdout",
     "output_type": "stream",
     "text": [
      "2024-03-07 12:05:04,069 : DEBUG : open file: /Users/andrey.golda/Documents/Study/MSU_interpol/training/wandb_local_logs/MSU_interpol/crimson-donkey-45/checkpoints/exp_name=0val_loss=1.84289-epoch=56.ckpt\n",
      "2024-03-07 12:05:37,800 : INFO : epoch: 57; val_loss: 1.8403669595718384\n",
      "2024-03-07 12:05:37,803 : INFO : epoch: 57; train_loss: 1.7883855104446411\n"
     ]
    },
    {
     "name": "stderr",
     "output_type": "stream",
     "text": [
      "Metric val_loss improved by 0.003 >= min_delta = 1e-05. New best score: 1.840\n"
     ]
    },
    {
     "name": "stdout",
     "output_type": "stream",
     "text": [
      "2024-03-07 12:05:37,893 : DEBUG : open file: /Users/andrey.golda/Documents/Study/MSU_interpol/training/wandb_local_logs/MSU_interpol/crimson-donkey-45/checkpoints/exp_name=0val_loss=1.84037-epoch=57.ckpt\n",
      "2024-03-07 12:06:10,885 : INFO : epoch: 58; val_loss: 1.8408386707305908\n",
      "2024-03-07 12:06:10,888 : INFO : epoch: 58; train_loss: 1.7857038974761963\n",
      "2024-03-07 12:06:10,983 : DEBUG : open file: /Users/andrey.golda/Documents/Study/MSU_interpol/training/wandb_local_logs/MSU_interpol/crimson-donkey-45/checkpoints/exp_name=0val_loss=1.84084-epoch=58.ckpt\n",
      "2024-03-07 12:06:42,959 : INFO : epoch: 59; val_loss: 1.8365687131881714\n",
      "2024-03-07 12:06:42,962 : INFO : epoch: 59; train_loss: 1.7813867330551147\n"
     ]
    },
    {
     "name": "stderr",
     "output_type": "stream",
     "text": [
      "Metric val_loss improved by 0.004 >= min_delta = 1e-05. New best score: 1.837\n"
     ]
    },
    {
     "name": "stdout",
     "output_type": "stream",
     "text": [
      "2024-03-07 12:06:43,050 : DEBUG : open file: /Users/andrey.golda/Documents/Study/MSU_interpol/training/wandb_local_logs/MSU_interpol/crimson-donkey-45/checkpoints/exp_name=0val_loss=1.83657-epoch=59.ckpt\n",
      "2024-03-07 12:07:14,089 : INFO : epoch: 60; val_loss: 1.837613821029663\n",
      "2024-03-07 12:07:14,093 : INFO : epoch: 60; train_loss: 1.7782458066940308\n",
      "2024-03-07 12:07:14,175 : DEBUG : open file: /Users/andrey.golda/Documents/Study/MSU_interpol/training/wandb_local_logs/MSU_interpol/crimson-donkey-45/checkpoints/exp_name=0val_loss=1.83761-epoch=60.ckpt\n",
      "2024-03-07 12:07:44,023 : INFO : epoch: 61; val_loss: 1.8355191946029663\n",
      "2024-03-07 12:07:44,025 : INFO : epoch: 61; train_loss: 1.7782871723175049\n"
     ]
    },
    {
     "name": "stderr",
     "output_type": "stream",
     "text": [
      "Metric val_loss improved by 0.001 >= min_delta = 1e-05. New best score: 1.836\n"
     ]
    },
    {
     "name": "stdout",
     "output_type": "stream",
     "text": [
      "2024-03-07 12:07:44,107 : DEBUG : open file: /Users/andrey.golda/Documents/Study/MSU_interpol/training/wandb_local_logs/MSU_interpol/crimson-donkey-45/checkpoints/exp_name=0val_loss=1.83552-epoch=61.ckpt\n",
      "2024-03-07 12:08:14,055 : INFO : epoch: 62; val_loss: 1.833599328994751\n",
      "2024-03-07 12:08:14,058 : INFO : epoch: 62; train_loss: 1.791850209236145\n"
     ]
    },
    {
     "name": "stderr",
     "output_type": "stream",
     "text": [
      "Metric val_loss improved by 0.002 >= min_delta = 1e-05. New best score: 1.834\n"
     ]
    },
    {
     "name": "stdout",
     "output_type": "stream",
     "text": [
      "2024-03-07 12:08:14,142 : DEBUG : open file: /Users/andrey.golda/Documents/Study/MSU_interpol/training/wandb_local_logs/MSU_interpol/crimson-donkey-45/checkpoints/exp_name=0val_loss=1.83360-epoch=62.ckpt\n",
      "2024-03-07 12:08:46,713 : INFO : epoch: 63; val_loss: 1.83511221408844\n",
      "2024-03-07 12:08:46,716 : INFO : epoch: 63; train_loss: 1.7717559337615967\n",
      "2024-03-07 12:08:46,804 : DEBUG : open file: /Users/andrey.golda/Documents/Study/MSU_interpol/training/wandb_local_logs/MSU_interpol/crimson-donkey-45/checkpoints/exp_name=0val_loss=1.83511-epoch=63.ckpt\n",
      "2024-03-07 12:09:19,372 : INFO : epoch: 64; val_loss: 1.832635760307312\n",
      "2024-03-07 12:09:19,375 : INFO : epoch: 64; train_loss: 1.773352026939392\n"
     ]
    },
    {
     "name": "stderr",
     "output_type": "stream",
     "text": [
      "Metric val_loss improved by 0.001 >= min_delta = 1e-05. New best score: 1.833\n"
     ]
    },
    {
     "name": "stdout",
     "output_type": "stream",
     "text": [
      "2024-03-07 12:09:19,467 : DEBUG : open file: /Users/andrey.golda/Documents/Study/MSU_interpol/training/wandb_local_logs/MSU_interpol/crimson-donkey-45/checkpoints/exp_name=0val_loss=1.83264-epoch=64.ckpt\n",
      "2024-03-07 12:09:50,943 : INFO : epoch: 65; val_loss: 1.8299672603607178\n",
      "2024-03-07 12:09:50,945 : INFO : epoch: 65; train_loss: 1.770430564880371\n"
     ]
    },
    {
     "name": "stderr",
     "output_type": "stream",
     "text": [
      "Metric val_loss improved by 0.003 >= min_delta = 1e-05. New best score: 1.830\n"
     ]
    },
    {
     "name": "stdout",
     "output_type": "stream",
     "text": [
      "2024-03-07 12:09:51,033 : DEBUG : open file: /Users/andrey.golda/Documents/Study/MSU_interpol/training/wandb_local_logs/MSU_interpol/crimson-donkey-45/checkpoints/exp_name=0val_loss=1.82997-epoch=65.ckpt\n",
      "2024-03-07 12:10:21,786 : INFO : epoch: 66; val_loss: 1.82894766330719\n",
      "2024-03-07 12:10:21,789 : INFO : epoch: 66; train_loss: 1.7664263248443604\n"
     ]
    },
    {
     "name": "stderr",
     "output_type": "stream",
     "text": [
      "Metric val_loss improved by 0.001 >= min_delta = 1e-05. New best score: 1.829\n"
     ]
    },
    {
     "name": "stdout",
     "output_type": "stream",
     "text": [
      "2024-03-07 12:10:21,873 : DEBUG : open file: /Users/andrey.golda/Documents/Study/MSU_interpol/training/wandb_local_logs/MSU_interpol/crimson-donkey-45/checkpoints/exp_name=0val_loss=1.82895-epoch=66.ckpt\n",
      "2024-03-07 12:10:52,565 : INFO : epoch: 67; val_loss: 1.8337860107421875\n",
      "2024-03-07 12:10:52,567 : INFO : epoch: 67; train_loss: 1.7702887058258057\n",
      "2024-03-07 12:11:23,882 : INFO : epoch: 68; val_loss: 1.83561110496521\n",
      "2024-03-07 12:11:23,885 : INFO : epoch: 68; train_loss: 1.7699929475784302\n",
      "2024-03-07 12:11:55,930 : INFO : epoch: 69; val_loss: 1.8251315355300903\n",
      "2024-03-07 12:11:55,933 : INFO : epoch: 69; train_loss: 1.764542818069458\n"
     ]
    },
    {
     "name": "stderr",
     "output_type": "stream",
     "text": [
      "Metric val_loss improved by 0.004 >= min_delta = 1e-05. New best score: 1.825\n"
     ]
    },
    {
     "name": "stdout",
     "output_type": "stream",
     "text": [
      "2024-03-07 12:11:56,018 : DEBUG : open file: /Users/andrey.golda/Documents/Study/MSU_interpol/training/wandb_local_logs/MSU_interpol/crimson-donkey-45/checkpoints/exp_name=0val_loss=1.82513-epoch=69.ckpt\n",
      "2024-03-07 12:12:27,847 : INFO : epoch: 70; val_loss: 1.8293273448944092\n",
      "2024-03-07 12:12:27,849 : INFO : epoch: 70; train_loss: 1.7641332149505615\n",
      "2024-03-07 12:12:27,936 : DEBUG : open file: /Users/andrey.golda/Documents/Study/MSU_interpol/training/wandb_local_logs/MSU_interpol/crimson-donkey-45/checkpoints/exp_name=0val_loss=1.82933-epoch=70.ckpt\n",
      "2024-03-07 12:12:59,188 : INFO : epoch: 71; val_loss: 1.8313672542572021\n",
      "2024-03-07 12:12:59,191 : INFO : epoch: 71; train_loss: 1.7627382278442383\n",
      "2024-03-07 12:13:29,092 : INFO : epoch: 72; val_loss: 1.8385732173919678\n",
      "2024-03-07 12:13:29,095 : INFO : epoch: 72; train_loss: 1.7675459384918213\n",
      "2024-03-07 12:13:58,780 : INFO : epoch: 73; val_loss: 1.8163563013076782\n",
      "2024-03-07 12:13:58,784 : INFO : epoch: 73; train_loss: 1.742295265197754\n"
     ]
    },
    {
     "name": "stderr",
     "output_type": "stream",
     "text": [
      "Metric val_loss improved by 0.009 >= min_delta = 1e-05. New best score: 1.816\n"
     ]
    },
    {
     "name": "stdout",
     "output_type": "stream",
     "text": [
      "2024-03-07 12:13:58,864 : DEBUG : open file: /Users/andrey.golda/Documents/Study/MSU_interpol/training/wandb_local_logs/MSU_interpol/crimson-donkey-45/checkpoints/exp_name=0val_loss=1.81636-epoch=73.ckpt\n",
      "2024-03-07 12:14:28,522 : INFO : epoch: 74; val_loss: 1.8167352676391602\n",
      "2024-03-07 12:14:28,525 : INFO : epoch: 74; train_loss: 1.7400283813476562\n",
      "2024-03-07 12:14:28,606 : DEBUG : open file: /Users/andrey.golda/Documents/Study/MSU_interpol/training/wandb_local_logs/MSU_interpol/crimson-donkey-45/checkpoints/exp_name=0val_loss=1.81674-epoch=74.ckpt\n",
      "2024-03-07 12:14:57,694 : INFO : epoch: 75; val_loss: 1.819718837738037\n",
      "2024-03-07 12:14:57,696 : INFO : epoch: 75; train_loss: 1.737926959991455\n",
      "2024-03-07 12:14:57,778 : DEBUG : open file: /Users/andrey.golda/Documents/Study/MSU_interpol/training/wandb_local_logs/MSU_interpol/crimson-donkey-45/checkpoints/exp_name=0val_loss=1.81972-epoch=75.ckpt\n",
      "2024-03-07 12:15:25,952 : INFO : epoch: 76; val_loss: 1.8167959451675415\n",
      "2024-03-07 12:15:25,955 : INFO : epoch: 76; train_loss: 1.7357091903686523\n",
      "2024-03-07 12:15:26,034 : DEBUG : open file: /Users/andrey.golda/Documents/Study/MSU_interpol/training/wandb_local_logs/MSU_interpol/crimson-donkey-45/checkpoints/exp_name=0val_loss=1.81680-epoch=76.ckpt\n",
      "2024-03-07 12:15:53,704 : INFO : epoch: 77; val_loss: 1.8158055543899536\n",
      "2024-03-07 12:15:53,707 : INFO : epoch: 77; train_loss: 1.733955979347229\n"
     ]
    },
    {
     "name": "stderr",
     "output_type": "stream",
     "text": [
      "Metric val_loss improved by 0.001 >= min_delta = 1e-05. New best score: 1.816\n"
     ]
    },
    {
     "name": "stdout",
     "output_type": "stream",
     "text": [
      "2024-03-07 12:15:53,793 : DEBUG : open file: /Users/andrey.golda/Documents/Study/MSU_interpol/training/wandb_local_logs/MSU_interpol/crimson-donkey-45/checkpoints/exp_name=0val_loss=1.81581-epoch=77.ckpt\n",
      "2024-03-07 12:16:22,668 : INFO : epoch: 78; val_loss: 1.8176716566085815\n",
      "2024-03-07 12:16:22,670 : INFO : epoch: 78; train_loss: 1.7326669692993164\n",
      "2024-03-07 12:16:52,881 : INFO : epoch: 79; val_loss: 1.815265417098999\n",
      "2024-03-07 12:16:52,884 : INFO : epoch: 79; train_loss: 1.731893539428711\n"
     ]
    },
    {
     "name": "stderr",
     "output_type": "stream",
     "text": [
      "Metric val_loss improved by 0.001 >= min_delta = 1e-05. New best score: 1.815\n"
     ]
    },
    {
     "name": "stdout",
     "output_type": "stream",
     "text": [
      "2024-03-07 12:16:52,974 : DEBUG : open file: /Users/andrey.golda/Documents/Study/MSU_interpol/training/wandb_local_logs/MSU_interpol/crimson-donkey-45/checkpoints/exp_name=0val_loss=1.81527-epoch=79.ckpt\n",
      "2024-03-07 12:17:23,610 : INFO : epoch: 80; val_loss: 1.815724492073059\n",
      "2024-03-07 12:17:23,613 : INFO : epoch: 80; train_loss: 1.7312549352645874\n",
      "2024-03-07 12:17:23,703 : DEBUG : open file: /Users/andrey.golda/Documents/Study/MSU_interpol/training/wandb_local_logs/MSU_interpol/crimson-donkey-45/checkpoints/exp_name=0val_loss=1.81572-epoch=80.ckpt\n",
      "2024-03-07 12:17:54,437 : INFO : epoch: 81; val_loss: 1.818005919456482\n",
      "2024-03-07 12:17:54,440 : INFO : epoch: 81; train_loss: 1.73274564743042\n",
      "2024-03-07 12:18:24,677 : INFO : epoch: 82; val_loss: 1.8129335641860962\n",
      "2024-03-07 12:18:24,680 : INFO : epoch: 82; train_loss: 1.730225920677185\n"
     ]
    },
    {
     "name": "stderr",
     "output_type": "stream",
     "text": [
      "Metric val_loss improved by 0.002 >= min_delta = 1e-05. New best score: 1.813\n"
     ]
    },
    {
     "name": "stdout",
     "output_type": "stream",
     "text": [
      "2024-03-07 12:18:24,768 : DEBUG : open file: /Users/andrey.golda/Documents/Study/MSU_interpol/training/wandb_local_logs/MSU_interpol/crimson-donkey-45/checkpoints/exp_name=0val_loss=1.81293-epoch=82.ckpt\n",
      "2024-03-07 12:18:55,134 : INFO : epoch: 83; val_loss: 1.8126029968261719\n",
      "2024-03-07 12:18:55,137 : INFO : epoch: 83; train_loss: 1.7283450365066528\n"
     ]
    },
    {
     "name": "stderr",
     "output_type": "stream",
     "text": [
      "Metric val_loss improved by 0.000 >= min_delta = 1e-05. New best score: 1.813\n"
     ]
    },
    {
     "name": "stdout",
     "output_type": "stream",
     "text": [
      "2024-03-07 12:18:55,223 : DEBUG : open file: /Users/andrey.golda/Documents/Study/MSU_interpol/training/wandb_local_logs/MSU_interpol/crimson-donkey-45/checkpoints/exp_name=0val_loss=1.81260-epoch=83.ckpt\n",
      "2024-03-07 12:19:25,490 : INFO : epoch: 84; val_loss: 1.813227653503418\n",
      "2024-03-07 12:19:25,493 : INFO : epoch: 84; train_loss: 1.7277917861938477\n",
      "2024-03-07 12:19:25,580 : DEBUG : open file: /Users/andrey.golda/Documents/Study/MSU_interpol/training/wandb_local_logs/MSU_interpol/crimson-donkey-45/checkpoints/exp_name=0val_loss=1.81323-epoch=84.ckpt\n",
      "2024-03-07 12:19:56,656 : INFO : epoch: 85; val_loss: 1.8128561973571777\n",
      "2024-03-07 12:19:56,658 : INFO : epoch: 85; train_loss: 1.7268177270889282\n",
      "2024-03-07 12:19:56,749 : DEBUG : open file: /Users/andrey.golda/Documents/Study/MSU_interpol/training/wandb_local_logs/MSU_interpol/crimson-donkey-45/checkpoints/exp_name=0val_loss=1.81286-epoch=85.ckpt\n",
      "2024-03-07 12:20:27,561 : INFO : epoch: 86; val_loss: 1.8111933469772339\n",
      "2024-03-07 12:20:27,564 : INFO : epoch: 86; train_loss: 1.7259844541549683\n"
     ]
    },
    {
     "name": "stderr",
     "output_type": "stream",
     "text": [
      "Metric val_loss improved by 0.001 >= min_delta = 1e-05. New best score: 1.811\n"
     ]
    },
    {
     "name": "stdout",
     "output_type": "stream",
     "text": [
      "2024-03-07 12:20:27,650 : DEBUG : open file: /Users/andrey.golda/Documents/Study/MSU_interpol/training/wandb_local_logs/MSU_interpol/crimson-donkey-45/checkpoints/exp_name=0val_loss=1.81119-epoch=86.ckpt\n",
      "2024-03-07 12:20:57,451 : INFO : epoch: 87; val_loss: 1.8132164478302002\n",
      "2024-03-07 12:20:57,454 : INFO : epoch: 87; train_loss: 1.7241921424865723\n",
      "2024-03-07 12:21:26,757 : INFO : epoch: 88; val_loss: 1.8123259544372559\n",
      "2024-03-07 12:21:26,760 : INFO : epoch: 88; train_loss: 1.723198652267456\n",
      "2024-03-07 12:21:26,841 : DEBUG : open file: /Users/andrey.golda/Documents/Study/MSU_interpol/training/wandb_local_logs/MSU_interpol/crimson-donkey-45/checkpoints/exp_name=0val_loss=1.81233-epoch=88.ckpt\n",
      "2024-03-07 12:21:56,211 : INFO : epoch: 89; val_loss: 1.8111388683319092\n",
      "2024-03-07 12:21:56,214 : INFO : epoch: 89; train_loss: 1.7240326404571533\n"
     ]
    },
    {
     "name": "stderr",
     "output_type": "stream",
     "text": [
      "Metric val_loss improved by 0.000 >= min_delta = 1e-05. New best score: 1.811\n"
     ]
    },
    {
     "name": "stdout",
     "output_type": "stream",
     "text": [
      "2024-03-07 12:21:56,299 : DEBUG : open file: /Users/andrey.golda/Documents/Study/MSU_interpol/training/wandb_local_logs/MSU_interpol/crimson-donkey-45/checkpoints/exp_name=0val_loss=1.81114-epoch=89.ckpt\n",
      "2024-03-07 12:22:25,805 : INFO : epoch: 90; val_loss: 1.799479365348816\n",
      "2024-03-07 12:22:25,809 : INFO : epoch: 90; train_loss: 1.7125720977783203\n"
     ]
    },
    {
     "name": "stderr",
     "output_type": "stream",
     "text": [
      "Metric val_loss improved by 0.012 >= min_delta = 1e-05. New best score: 1.799\n"
     ]
    },
    {
     "name": "stdout",
     "output_type": "stream",
     "text": [
      "2024-03-07 12:22:26,018 : DEBUG : open file: /Users/andrey.golda/Documents/Study/MSU_interpol/training/wandb_local_logs/MSU_interpol/crimson-donkey-45/checkpoints/exp_name=0val_loss=1.79948-epoch=90.ckpt\n",
      "2024-03-07 12:23:01,569 : INFO : epoch: 91; val_loss: 1.797768235206604\n",
      "2024-03-07 12:23:01,574 : INFO : epoch: 91; train_loss: 1.709667444229126\n"
     ]
    },
    {
     "name": "stderr",
     "output_type": "stream",
     "text": [
      "Metric val_loss improved by 0.002 >= min_delta = 1e-05. New best score: 1.798\n"
     ]
    },
    {
     "name": "stdout",
     "output_type": "stream",
     "text": [
      "2024-03-07 12:23:01,662 : DEBUG : open file: /Users/andrey.golda/Documents/Study/MSU_interpol/training/wandb_local_logs/MSU_interpol/crimson-donkey-45/checkpoints/exp_name=0val_loss=1.79777-epoch=91.ckpt\n",
      "2024-03-07 12:23:33,789 : INFO : epoch: 92; val_loss: 1.7965102195739746\n",
      "2024-03-07 12:23:33,793 : INFO : epoch: 92; train_loss: 1.708854079246521\n"
     ]
    },
    {
     "name": "stderr",
     "output_type": "stream",
     "text": [
      "Metric val_loss improved by 0.001 >= min_delta = 1e-05. New best score: 1.797\n"
     ]
    },
    {
     "name": "stdout",
     "output_type": "stream",
     "text": [
      "2024-03-07 12:23:33,887 : DEBUG : open file: /Users/andrey.golda/Documents/Study/MSU_interpol/training/wandb_local_logs/MSU_interpol/crimson-donkey-45/checkpoints/exp_name=0val_loss=1.79651-epoch=92.ckpt\n",
      "2024-03-07 12:24:04,571 : INFO : epoch: 93; val_loss: 1.7958252429962158\n",
      "2024-03-07 12:24:04,574 : INFO : epoch: 93; train_loss: 1.7083141803741455\n"
     ]
    },
    {
     "name": "stderr",
     "output_type": "stream",
     "text": [
      "Metric val_loss improved by 0.001 >= min_delta = 1e-05. New best score: 1.796\n"
     ]
    },
    {
     "name": "stdout",
     "output_type": "stream",
     "text": [
      "2024-03-07 12:24:04,662 : DEBUG : open file: /Users/andrey.golda/Documents/Study/MSU_interpol/training/wandb_local_logs/MSU_interpol/crimson-donkey-45/checkpoints/exp_name=0val_loss=1.79583-epoch=93.ckpt\n",
      "2024-03-07 12:24:33,670 : INFO : epoch: 94; val_loss: 1.7956507205963135\n",
      "2024-03-07 12:24:33,672 : INFO : epoch: 94; train_loss: 1.7075564861297607\n"
     ]
    },
    {
     "name": "stderr",
     "output_type": "stream",
     "text": [
      "Metric val_loss improved by 0.000 >= min_delta = 1e-05. New best score: 1.796\n"
     ]
    },
    {
     "name": "stdout",
     "output_type": "stream",
     "text": [
      "2024-03-07 12:24:33,774 : DEBUG : open file: /Users/andrey.golda/Documents/Study/MSU_interpol/training/wandb_local_logs/MSU_interpol/crimson-donkey-45/checkpoints/exp_name=0val_loss=1.79565-epoch=94.ckpt\n",
      "2024-03-07 12:25:03,745 : INFO : epoch: 95; val_loss: 1.7948261499404907\n",
      "2024-03-07 12:25:03,748 : INFO : epoch: 95; train_loss: 1.7068889141082764\n"
     ]
    },
    {
     "name": "stderr",
     "output_type": "stream",
     "text": [
      "Metric val_loss improved by 0.001 >= min_delta = 1e-05. New best score: 1.795\n"
     ]
    },
    {
     "name": "stdout",
     "output_type": "stream",
     "text": [
      "2024-03-07 12:25:03,845 : DEBUG : open file: /Users/andrey.golda/Documents/Study/MSU_interpol/training/wandb_local_logs/MSU_interpol/crimson-donkey-45/checkpoints/exp_name=0val_loss=1.79483-epoch=95.ckpt\n",
      "2024-03-07 12:25:34,099 : INFO : epoch: 96; val_loss: 1.7950220108032227\n",
      "2024-03-07 12:25:34,102 : INFO : epoch: 96; train_loss: 1.7069497108459473\n",
      "2024-03-07 12:25:34,199 : DEBUG : open file: /Users/andrey.golda/Documents/Study/MSU_interpol/training/wandb_local_logs/MSU_interpol/crimson-donkey-45/checkpoints/exp_name=0val_loss=1.79502-epoch=96.ckpt\n",
      "2024-03-07 12:26:06,127 : INFO : epoch: 97; val_loss: 1.7951140403747559\n",
      "2024-03-07 12:26:06,129 : INFO : epoch: 97; train_loss: 1.7058261632919312\n",
      "2024-03-07 12:26:06,216 : DEBUG : open file: /Users/andrey.golda/Documents/Study/MSU_interpol/training/wandb_local_logs/MSU_interpol/crimson-donkey-45/checkpoints/exp_name=0val_loss=1.79511-epoch=97.ckpt\n",
      "2024-03-07 12:26:38,256 : INFO : epoch: 98; val_loss: 1.7954920530319214\n",
      "2024-03-07 12:26:38,259 : INFO : epoch: 98; train_loss: 1.7048966884613037\n",
      "2024-03-07 12:27:10,035 : INFO : epoch: 99; val_loss: 1.7964779138565063\n",
      "2024-03-07 12:27:10,038 : INFO : epoch: 99; train_loss: 1.704705834388733\n",
      "2024-03-07 12:27:40,695 : INFO : epoch: 100; val_loss: 1.7958520650863647\n",
      "2024-03-07 12:27:40,698 : INFO : epoch: 100; train_loss: 1.7039631605148315\n",
      "2024-03-07 12:28:11,066 : INFO : epoch: 101; val_loss: 1.79623281955719\n",
      "2024-03-07 12:28:11,068 : INFO : epoch: 101; train_loss: 1.703635573387146\n",
      "2024-03-07 12:28:41,558 : INFO : epoch: 102; val_loss: 1.7948793172836304\n",
      "2024-03-07 12:28:41,560 : INFO : epoch: 102; train_loss: 1.7034872770309448\n",
      "2024-03-07 12:28:41,639 : DEBUG : open file: /Users/andrey.golda/Documents/Study/MSU_interpol/training/wandb_local_logs/MSU_interpol/crimson-donkey-45/checkpoints/exp_name=0val_loss=1.79488-epoch=102.ckpt\n",
      "2024-03-07 12:29:11,381 : INFO : epoch: 103; val_loss: 1.794919490814209\n",
      "2024-03-07 12:29:11,384 : INFO : epoch: 103; train_loss: 1.7033836841583252\n",
      "2024-03-07 12:29:11,462 : DEBUG : open file: /Users/andrey.golda/Documents/Study/MSU_interpol/training/wandb_local_logs/MSU_interpol/crimson-donkey-45/checkpoints/exp_name=0val_loss=1.79492-epoch=103.ckpt\n",
      "2024-03-07 12:29:41,285 : INFO : epoch: 104; val_loss: 1.7945060729980469\n",
      "2024-03-07 12:29:41,288 : INFO : epoch: 104; train_loss: 1.7027347087860107\n"
     ]
    },
    {
     "name": "stderr",
     "output_type": "stream",
     "text": [
      "Metric val_loss improved by 0.000 >= min_delta = 1e-05. New best score: 1.795\n"
     ]
    },
    {
     "name": "stdout",
     "output_type": "stream",
     "text": [
      "2024-03-07 12:29:41,368 : DEBUG : open file: /Users/andrey.golda/Documents/Study/MSU_interpol/training/wandb_local_logs/MSU_interpol/crimson-donkey-45/checkpoints/exp_name=0val_loss=1.79451-epoch=104.ckpt\n",
      "2024-03-07 12:30:11,275 : INFO : epoch: 105; val_loss: 1.794109582901001\n",
      "2024-03-07 12:30:11,278 : INFO : epoch: 105; train_loss: 1.7025902271270752\n"
     ]
    },
    {
     "name": "stderr",
     "output_type": "stream",
     "text": [
      "Metric val_loss improved by 0.000 >= min_delta = 1e-05. New best score: 1.794\n"
     ]
    },
    {
     "name": "stdout",
     "output_type": "stream",
     "text": [
      "2024-03-07 12:30:11,359 : DEBUG : open file: /Users/andrey.golda/Documents/Study/MSU_interpol/training/wandb_local_logs/MSU_interpol/crimson-donkey-45/checkpoints/exp_name=0val_loss=1.79411-epoch=105.ckpt\n",
      "2024-03-07 12:30:41,275 : INFO : epoch: 106; val_loss: 1.7943354845046997\n",
      "2024-03-07 12:30:41,278 : INFO : epoch: 106; train_loss: 1.7022227048873901\n",
      "2024-03-07 12:30:41,356 : DEBUG : open file: /Users/andrey.golda/Documents/Study/MSU_interpol/training/wandb_local_logs/MSU_interpol/crimson-donkey-45/checkpoints/exp_name=0val_loss=1.79434-epoch=106.ckpt\n",
      "2024-03-07 12:31:10,550 : INFO : epoch: 107; val_loss: 1.7944539785385132\n",
      "2024-03-07 12:31:10,553 : INFO : epoch: 107; train_loss: 1.7009990215301514\n",
      "2024-03-07 12:31:10,631 : DEBUG : open file: /Users/andrey.golda/Documents/Study/MSU_interpol/training/wandb_local_logs/MSU_interpol/crimson-donkey-45/checkpoints/exp_name=0val_loss=1.79445-epoch=107.ckpt\n",
      "2024-03-07 12:31:40,272 : INFO : epoch: 108; val_loss: 1.7961854934692383\n",
      "2024-03-07 12:31:40,275 : INFO : epoch: 108; train_loss: 1.696631669998169\n",
      "2024-03-07 12:32:11,130 : INFO : epoch: 109; val_loss: 1.7948744297027588\n",
      "2024-03-07 12:32:11,134 : INFO : epoch: 109; train_loss: 1.695741057395935\n",
      "2024-03-07 12:32:42,968 : INFO : epoch: 110; val_loss: 1.7945491075515747\n",
      "2024-03-07 12:32:42,971 : INFO : epoch: 110; train_loss: 1.6952122449874878\n",
      "2024-03-07 12:33:14,966 : INFO : epoch: 111; val_loss: 1.794658899307251\n",
      "2024-03-07 12:33:14,968 : INFO : epoch: 111; train_loss: 1.6947060823440552\n",
      "2024-03-07 12:33:47,075 : INFO : epoch: 112; val_loss: 1.7954018115997314\n",
      "2024-03-07 12:33:47,078 : INFO : epoch: 112; train_loss: 1.6945494413375854\n",
      "2024-03-07 12:34:19,187 : INFO : epoch: 113; val_loss: 1.7951433658599854\n",
      "2024-03-07 12:34:19,190 : INFO : epoch: 113; train_loss: 1.693564534187317\n",
      "2024-03-07 12:34:50,252 : INFO : epoch: 114; val_loss: 1.7955236434936523\n",
      "2024-03-07 12:34:50,255 : INFO : epoch: 114; train_loss: 1.693375587463379\n",
      "2024-03-07 12:35:21,068 : INFO : epoch: 115; val_loss: 1.795411467552185\n",
      "2024-03-07 12:35:21,070 : INFO : epoch: 115; train_loss: 1.6930474042892456\n",
      "2024-03-07 12:35:52,118 : INFO : epoch: 116; val_loss: 1.7961772680282593\n",
      "2024-03-07 12:35:52,121 : INFO : epoch: 116; train_loss: 1.6923617124557495\n",
      "2024-03-07 12:36:23,019 : INFO : epoch: 117; val_loss: 1.7963083982467651\n",
      "2024-03-07 12:36:23,027 : INFO : epoch: 117; train_loss: 1.6926589012145996\n",
      "2024-03-07 12:36:54,187 : INFO : epoch: 118; val_loss: 1.794751524925232\n",
      "2024-03-07 12:36:54,190 : INFO : epoch: 118; train_loss: 1.6920515298843384\n",
      "2024-03-07 12:37:23,925 : INFO : epoch: 119; val_loss: 1.7956206798553467\n",
      "2024-03-07 12:37:23,928 : INFO : epoch: 119; train_loss: 1.6916048526763916\n",
      "2024-03-07 12:37:53,192 : INFO : epoch: 120; val_loss: 1.7960634231567383\n",
      "2024-03-07 12:37:53,195 : INFO : epoch: 120; train_loss: 1.6915273666381836\n",
      "2024-03-07 12:38:28,468 : INFO : epoch: 121; val_loss: 1.7956366539001465\n",
      "2024-03-07 12:38:28,473 : INFO : epoch: 121; train_loss: 1.6913301944732666\n",
      "2024-03-07 12:39:03,953 : INFO : epoch: 122; val_loss: 1.7955846786499023\n",
      "2024-03-07 12:39:03,957 : INFO : epoch: 122; train_loss: 1.6905715465545654\n",
      "2024-03-07 12:39:36,918 : INFO : epoch: 123; val_loss: 1.7952888011932373\n",
      "2024-03-07 12:39:36,921 : INFO : epoch: 123; train_loss: 1.6904820203781128\n",
      "2024-03-07 12:40:09,852 : INFO : epoch: 124; val_loss: 1.7953943014144897\n",
      "2024-03-07 12:40:09,855 : INFO : epoch: 124; train_loss: 1.6898747682571411\n",
      "2024-03-07 12:40:42,392 : INFO : epoch: 125; val_loss: 1.7913652658462524\n",
      "2024-03-07 12:40:42,395 : INFO : epoch: 125; train_loss: 1.6869398355484009\n"
     ]
    },
    {
     "name": "stderr",
     "output_type": "stream",
     "text": [
      "Metric val_loss improved by 0.003 >= min_delta = 1e-05. New best score: 1.791\n"
     ]
    },
    {
     "name": "stdout",
     "output_type": "stream",
     "text": [
      "2024-03-07 12:40:42,488 : DEBUG : open file: /Users/andrey.golda/Documents/Study/MSU_interpol/training/wandb_local_logs/MSU_interpol/crimson-donkey-45/checkpoints/exp_name=0val_loss=1.79137-epoch=125.ckpt\n",
      "2024-03-07 12:41:15,504 : INFO : epoch: 126; val_loss: 1.7909709215164185\n",
      "2024-03-07 12:41:15,507 : INFO : epoch: 126; train_loss: 1.6859573125839233\n"
     ]
    },
    {
     "name": "stderr",
     "output_type": "stream",
     "text": [
      "Metric val_loss improved by 0.000 >= min_delta = 1e-05. New best score: 1.791\n"
     ]
    },
    {
     "name": "stdout",
     "output_type": "stream",
     "text": [
      "2024-03-07 12:41:15,598 : DEBUG : open file: /Users/andrey.golda/Documents/Study/MSU_interpol/training/wandb_local_logs/MSU_interpol/crimson-donkey-45/checkpoints/exp_name=0val_loss=1.79097-epoch=126.ckpt\n",
      "2024-03-07 12:41:48,677 : INFO : epoch: 127; val_loss: 1.7911523580551147\n",
      "2024-03-07 12:41:48,680 : INFO : epoch: 127; train_loss: 1.6856224536895752\n",
      "2024-03-07 12:41:48,764 : DEBUG : open file: /Users/andrey.golda/Documents/Study/MSU_interpol/training/wandb_local_logs/MSU_interpol/crimson-donkey-45/checkpoints/exp_name=0val_loss=1.79115-epoch=127.ckpt\n",
      "2024-03-07 12:42:26,073 : INFO : epoch: 128; val_loss: 1.790831208229065\n",
      "2024-03-07 12:42:26,076 : INFO : epoch: 128; train_loss: 1.6854937076568604\n"
     ]
    },
    {
     "name": "stderr",
     "output_type": "stream",
     "text": [
      "Metric val_loss improved by 0.000 >= min_delta = 1e-05. New best score: 1.791\n"
     ]
    },
    {
     "name": "stdout",
     "output_type": "stream",
     "text": [
      "2024-03-07 12:42:26,162 : DEBUG : open file: /Users/andrey.golda/Documents/Study/MSU_interpol/training/wandb_local_logs/MSU_interpol/crimson-donkey-45/checkpoints/exp_name=0val_loss=1.79083-epoch=128.ckpt\n",
      "2024-03-07 12:42:58,029 : INFO : epoch: 129; val_loss: 1.7909119129180908\n",
      "2024-03-07 12:42:58,032 : INFO : epoch: 129; train_loss: 1.6852654218673706\n",
      "2024-03-07 12:42:58,118 : DEBUG : open file: /Users/andrey.golda/Documents/Study/MSU_interpol/training/wandb_local_logs/MSU_interpol/crimson-donkey-45/checkpoints/exp_name=0val_loss=1.79091-epoch=129.ckpt\n",
      "2024-03-07 12:43:30,601 : INFO : epoch: 130; val_loss: 1.7911672592163086\n",
      "2024-03-07 12:43:30,605 : INFO : epoch: 130; train_loss: 1.6850496530532837\n",
      "2024-03-07 12:44:02,536 : INFO : epoch: 131; val_loss: 1.791105031967163\n",
      "2024-03-07 12:44:02,540 : INFO : epoch: 131; train_loss: 1.6848996877670288\n",
      "2024-03-07 12:44:35,944 : INFO : epoch: 132; val_loss: 1.790932059288025\n",
      "2024-03-07 12:44:35,949 : INFO : epoch: 132; train_loss: 1.6847550868988037\n",
      "2024-03-07 12:44:36,054 : DEBUG : open file: /Users/andrey.golda/Documents/Study/MSU_interpol/training/wandb_local_logs/MSU_interpol/crimson-donkey-45/checkpoints/exp_name=0val_loss=1.79093-epoch=132.ckpt\n",
      "2024-03-07 12:45:11,121 : INFO : epoch: 133; val_loss: 1.7908467054367065\n",
      "2024-03-07 12:45:11,125 : INFO : epoch: 133; train_loss: 1.684554934501648\n",
      "2024-03-07 12:45:11,214 : DEBUG : open file: /Users/andrey.golda/Documents/Study/MSU_interpol/training/wandb_local_logs/MSU_interpol/crimson-donkey-45/checkpoints/exp_name=0val_loss=1.79085-epoch=133.ckpt\n",
      "2024-03-07 12:45:44,318 : INFO : epoch: 134; val_loss: 1.7906283140182495\n",
      "2024-03-07 12:45:44,322 : INFO : epoch: 134; train_loss: 1.6843937635421753\n"
     ]
    },
    {
     "name": "stderr",
     "output_type": "stream",
     "text": [
      "Metric val_loss improved by 0.000 >= min_delta = 1e-05. New best score: 1.791\n"
     ]
    },
    {
     "name": "stdout",
     "output_type": "stream",
     "text": [
      "2024-03-07 12:45:44,419 : DEBUG : open file: /Users/andrey.golda/Documents/Study/MSU_interpol/training/wandb_local_logs/MSU_interpol/crimson-donkey-45/checkpoints/exp_name=0val_loss=1.79063-epoch=134.ckpt\n",
      "2024-03-07 12:46:16,699 : INFO : epoch: 135; val_loss: 1.7905728816986084\n",
      "2024-03-07 12:46:16,703 : INFO : epoch: 135; train_loss: 1.6841762065887451\n"
     ]
    },
    {
     "name": "stderr",
     "output_type": "stream",
     "text": [
      "Metric val_loss improved by 0.000 >= min_delta = 1e-05. New best score: 1.791\n"
     ]
    },
    {
     "name": "stdout",
     "output_type": "stream",
     "text": [
      "2024-03-07 12:46:16,794 : DEBUG : open file: /Users/andrey.golda/Documents/Study/MSU_interpol/training/wandb_local_logs/MSU_interpol/crimson-donkey-45/checkpoints/exp_name=0val_loss=1.79057-epoch=135.ckpt\n",
      "2024-03-07 12:46:48,356 : INFO : epoch: 136; val_loss: 1.790554404258728\n",
      "2024-03-07 12:46:48,360 : INFO : epoch: 136; train_loss: 1.6840325593948364\n"
     ]
    },
    {
     "name": "stderr",
     "output_type": "stream",
     "text": [
      "Metric val_loss improved by 0.000 >= min_delta = 1e-05. New best score: 1.791\n"
     ]
    },
    {
     "name": "stdout",
     "output_type": "stream",
     "text": [
      "2024-03-07 12:46:48,449 : DEBUG : open file: /Users/andrey.golda/Documents/Study/MSU_interpol/training/wandb_local_logs/MSU_interpol/crimson-donkey-45/checkpoints/exp_name=0val_loss=1.79055-epoch=136.ckpt\n",
      "2024-03-07 12:47:20,104 : INFO : epoch: 137; val_loss: 1.7905820608139038\n",
      "2024-03-07 12:47:20,108 : INFO : epoch: 137; train_loss: 1.6838611364364624\n",
      "2024-03-07 12:47:20,196 : DEBUG : open file: /Users/andrey.golda/Documents/Study/MSU_interpol/training/wandb_local_logs/MSU_interpol/crimson-donkey-45/checkpoints/exp_name=0val_loss=1.79058-epoch=137.ckpt\n",
      "2024-03-07 12:47:51,422 : INFO : epoch: 138; val_loss: 1.7905164957046509\n",
      "2024-03-07 12:47:51,424 : INFO : epoch: 138; train_loss: 1.683666706085205\n"
     ]
    },
    {
     "name": "stderr",
     "output_type": "stream",
     "text": [
      "Metric val_loss improved by 0.000 >= min_delta = 1e-05. New best score: 1.791\n"
     ]
    },
    {
     "name": "stdout",
     "output_type": "stream",
     "text": [
      "2024-03-07 12:47:51,509 : DEBUG : open file: /Users/andrey.golda/Documents/Study/MSU_interpol/training/wandb_local_logs/MSU_interpol/crimson-donkey-45/checkpoints/exp_name=0val_loss=1.79052-epoch=138.ckpt\n",
      "2024-03-07 12:48:22,263 : INFO : epoch: 139; val_loss: 1.7905789613723755\n",
      "2024-03-07 12:48:22,265 : INFO : epoch: 139; train_loss: 1.6836062669754028\n",
      "2024-03-07 12:48:53,204 : INFO : epoch: 140; val_loss: 1.7903892993927002\n",
      "2024-03-07 12:48:53,207 : INFO : epoch: 140; train_loss: 1.6834150552749634\n"
     ]
    },
    {
     "name": "stderr",
     "output_type": "stream",
     "text": [
      "Metric val_loss improved by 0.000 >= min_delta = 1e-05. New best score: 1.790\n"
     ]
    },
    {
     "name": "stdout",
     "output_type": "stream",
     "text": [
      "2024-03-07 12:48:53,289 : DEBUG : open file: /Users/andrey.golda/Documents/Study/MSU_interpol/training/wandb_local_logs/MSU_interpol/crimson-donkey-45/checkpoints/exp_name=0val_loss=1.79039-epoch=140.ckpt\n",
      "2024-03-07 12:49:25,756 : INFO : epoch: 141; val_loss: 1.7904093265533447\n",
      "2024-03-07 12:49:25,759 : INFO : epoch: 141; train_loss: 1.6834248304367065\n",
      "2024-03-07 12:49:25,850 : DEBUG : open file: /Users/andrey.golda/Documents/Study/MSU_interpol/training/wandb_local_logs/MSU_interpol/crimson-donkey-45/checkpoints/exp_name=0val_loss=1.79041-epoch=141.ckpt\n",
      "2024-03-07 12:49:58,580 : INFO : epoch: 142; val_loss: 1.7849339246749878\n",
      "2024-03-07 12:49:58,583 : INFO : epoch: 142; train_loss: 1.681382179260254\n"
     ]
    },
    {
     "name": "stderr",
     "output_type": "stream",
     "text": [
      "Metric val_loss improved by 0.005 >= min_delta = 1e-05. New best score: 1.785\n"
     ]
    },
    {
     "name": "stdout",
     "output_type": "stream",
     "text": [
      "2024-03-07 12:49:58,668 : DEBUG : open file: /Users/andrey.golda/Documents/Study/MSU_interpol/training/wandb_local_logs/MSU_interpol/crimson-donkey-45/checkpoints/exp_name=0val_loss=1.78493-epoch=142.ckpt\n",
      "2024-03-07 12:50:30,342 : INFO : epoch: 143; val_loss: 1.7851102352142334\n",
      "2024-03-07 12:50:30,344 : INFO : epoch: 143; train_loss: 1.6805377006530762\n",
      "2024-03-07 12:50:30,432 : DEBUG : open file: /Users/andrey.golda/Documents/Study/MSU_interpol/training/wandb_local_logs/MSU_interpol/crimson-donkey-45/checkpoints/exp_name=0val_loss=1.78511-epoch=143.ckpt\n",
      "2024-03-07 12:51:02,613 : INFO : epoch: 144; val_loss: 1.785189151763916\n",
      "2024-03-07 12:51:02,616 : INFO : epoch: 144; train_loss: 1.6803148984909058\n",
      "2024-03-07 12:51:02,699 : DEBUG : open file: /Users/andrey.golda/Documents/Study/MSU_interpol/training/wandb_local_logs/MSU_interpol/crimson-donkey-45/checkpoints/exp_name=0val_loss=1.78519-epoch=144.ckpt\n",
      "2024-03-07 12:51:34,607 : INFO : epoch: 145; val_loss: 1.7853386402130127\n",
      "2024-03-07 12:51:34,610 : INFO : epoch: 145; train_loss: 1.6801882982254028\n",
      "2024-03-07 12:52:04,606 : INFO : epoch: 146; val_loss: 1.785429835319519\n",
      "2024-03-07 12:52:04,608 : INFO : epoch: 146; train_loss: 1.680090308189392\n",
      "2024-03-07 12:52:33,150 : INFO : epoch: 147; val_loss: 1.7854909896850586\n",
      "2024-03-07 12:52:33,153 : INFO : epoch: 147; train_loss: 1.6799296140670776\n",
      "2024-03-07 12:53:01,738 : INFO : epoch: 148; val_loss: 1.7854963541030884\n",
      "2024-03-07 12:53:01,741 : INFO : epoch: 148; train_loss: 1.679823398590088\n",
      "2024-03-07 12:53:30,245 : INFO : epoch: 149; val_loss: 1.7854607105255127\n",
      "2024-03-07 12:53:30,248 : INFO : epoch: 149; train_loss: 1.6797237396240234\n",
      "2024-03-07 12:53:59,896 : INFO : epoch: 150; val_loss: 1.785426378250122\n",
      "2024-03-07 12:53:59,899 : INFO : epoch: 150; train_loss: 1.6796811819076538\n",
      "2024-03-07 12:54:30,456 : INFO : epoch: 151; val_loss: 1.785156011581421\n",
      "2024-03-07 12:54:30,459 : INFO : epoch: 151; train_loss: 1.6796166896820068\n",
      "2024-03-07 12:54:30,538 : DEBUG : open file: /Users/andrey.golda/Documents/Study/MSU_interpol/training/wandb_local_logs/MSU_interpol/crimson-donkey-45/checkpoints/exp_name=0val_loss=1.78516-epoch=151.ckpt\n",
      "2024-03-07 12:55:01,273 : INFO : epoch: 152; val_loss: 1.7851829528808594\n",
      "2024-03-07 12:55:01,276 : INFO : epoch: 152; train_loss: 1.679497480392456\n",
      "2024-03-07 12:55:31,521 : INFO : epoch: 153; val_loss: 1.7852221727371216\n",
      "2024-03-07 12:55:31,524 : INFO : epoch: 153; train_loss: 1.679388403892517\n",
      "2024-03-07 12:56:01,746 : INFO : epoch: 154; val_loss: 1.7853285074234009\n",
      "2024-03-07 12:56:01,749 : INFO : epoch: 154; train_loss: 1.6793105602264404\n",
      "2024-03-07 12:56:33,291 : INFO : epoch: 155; val_loss: 1.78508722782135\n",
      "2024-03-07 12:56:33,294 : INFO : epoch: 155; train_loss: 1.679280400276184\n",
      "2024-03-07 12:56:33,379 : DEBUG : open file: /Users/andrey.golda/Documents/Study/MSU_interpol/training/wandb_local_logs/MSU_interpol/crimson-donkey-45/checkpoints/exp_name=0val_loss=1.78509-epoch=155.ckpt\n",
      "2024-03-07 12:57:05,279 : INFO : epoch: 156; val_loss: 1.7850276231765747\n",
      "2024-03-07 12:57:05,282 : INFO : epoch: 156; train_loss: 1.6791449785232544\n",
      "2024-03-07 12:57:05,363 : DEBUG : open file: /Users/andrey.golda/Documents/Study/MSU_interpol/training/wandb_local_logs/MSU_interpol/crimson-donkey-45/checkpoints/exp_name=0val_loss=1.78503-epoch=156.ckpt\n",
      "2024-03-07 12:57:36,523 : INFO : epoch: 157; val_loss: 1.7849783897399902\n",
      "2024-03-07 12:57:36,526 : INFO : epoch: 157; train_loss: 1.6790719032287598\n",
      "2024-03-07 12:57:36,604 : DEBUG : open file: /Users/andrey.golda/Documents/Study/MSU_interpol/training/wandb_local_logs/MSU_interpol/crimson-donkey-45/checkpoints/exp_name=0val_loss=1.78498-epoch=157.ckpt\n",
      "2024-03-07 12:58:06,554 : INFO : epoch: 158; val_loss: 1.7849538326263428\n",
      "2024-03-07 12:58:06,557 : INFO : epoch: 158; train_loss: 1.6789988279342651\n",
      "2024-03-07 12:58:06,635 : DEBUG : open file: /Users/andrey.golda/Documents/Study/MSU_interpol/training/wandb_local_logs/MSU_interpol/crimson-donkey-45/checkpoints/exp_name=0val_loss=1.78495-epoch=158.ckpt\n",
      "2024-03-07 12:58:36,270 : INFO : epoch: 159; val_loss: 1.7848923206329346\n",
      "2024-03-07 12:58:36,273 : INFO : epoch: 159; train_loss: 1.6789085865020752\n"
     ]
    },
    {
     "name": "stderr",
     "output_type": "stream",
     "text": [
      "Metric val_loss improved by 0.000 >= min_delta = 1e-05. New best score: 1.785\n"
     ]
    },
    {
     "name": "stdout",
     "output_type": "stream",
     "text": [
      "2024-03-07 12:58:36,355 : DEBUG : open file: /Users/andrey.golda/Documents/Study/MSU_interpol/training/wandb_local_logs/MSU_interpol/crimson-donkey-45/checkpoints/exp_name=0val_loss=1.78489-epoch=159.ckpt\n",
      "2024-03-07 12:59:05,667 : INFO : epoch: 160; val_loss: 1.7827016115188599\n",
      "2024-03-07 12:59:05,670 : INFO : epoch: 160; train_loss: 1.677871584892273\n"
     ]
    },
    {
     "name": "stderr",
     "output_type": "stream",
     "text": [
      "Metric val_loss improved by 0.002 >= min_delta = 1e-05. New best score: 1.783\n"
     ]
    },
    {
     "name": "stdout",
     "output_type": "stream",
     "text": [
      "2024-03-07 12:59:05,755 : DEBUG : open file: /Users/andrey.golda/Documents/Study/MSU_interpol/training/wandb_local_logs/MSU_interpol/crimson-donkey-45/checkpoints/exp_name=0val_loss=1.78270-epoch=160.ckpt\n",
      "2024-03-07 12:59:35,579 : INFO : epoch: 161; val_loss: 1.7827328443527222\n",
      "2024-03-07 12:59:35,582 : INFO : epoch: 161; train_loss: 1.6774684190750122\n",
      "2024-03-07 12:59:35,667 : DEBUG : open file: /Users/andrey.golda/Documents/Study/MSU_interpol/training/wandb_local_logs/MSU_interpol/crimson-donkey-45/checkpoints/exp_name=0val_loss=1.78273-epoch=161.ckpt\n",
      "2024-03-07 13:00:05,956 : INFO : epoch: 162; val_loss: 1.7829046249389648\n",
      "2024-03-07 13:00:05,958 : INFO : epoch: 162; train_loss: 1.6774086952209473\n",
      "2024-03-07 13:00:06,044 : DEBUG : open file: /Users/andrey.golda/Documents/Study/MSU_interpol/training/wandb_local_logs/MSU_interpol/crimson-donkey-45/checkpoints/exp_name=0val_loss=1.78290-epoch=162.ckpt\n",
      "2024-03-07 13:00:35,621 : INFO : epoch: 163; val_loss: 1.7828309535980225\n",
      "2024-03-07 13:00:35,624 : INFO : epoch: 163; train_loss: 1.6773427724838257\n",
      "2024-03-07 13:00:35,701 : DEBUG : open file: /Users/andrey.golda/Documents/Study/MSU_interpol/training/wandb_local_logs/MSU_interpol/crimson-donkey-45/checkpoints/exp_name=0val_loss=1.78283-epoch=163.ckpt\n",
      "2024-03-07 13:01:04,000 : INFO : epoch: 164; val_loss: 1.7828236818313599\n",
      "2024-03-07 13:01:04,003 : INFO : epoch: 164; train_loss: 1.677295446395874\n",
      "2024-03-07 13:01:04,082 : DEBUG : open file: /Users/andrey.golda/Documents/Study/MSU_interpol/training/wandb_local_logs/MSU_interpol/crimson-donkey-45/checkpoints/exp_name=0val_loss=1.78282-epoch=164.ckpt\n",
      "2024-03-07 13:01:32,323 : INFO : epoch: 165; val_loss: 1.7828038930892944\n",
      "2024-03-07 13:01:32,325 : INFO : epoch: 165; train_loss: 1.6772606372833252\n",
      "2024-03-07 13:01:32,403 : DEBUG : open file: /Users/andrey.golda/Documents/Study/MSU_interpol/training/wandb_local_logs/MSU_interpol/crimson-donkey-45/checkpoints/exp_name=0val_loss=1.78280-epoch=165.ckpt\n",
      "2024-03-07 13:02:00,739 : INFO : epoch: 166; val_loss: 1.7828729152679443\n",
      "2024-03-07 13:02:00,741 : INFO : epoch: 166; train_loss: 1.677228331565857\n",
      "2024-03-07 13:02:29,023 : INFO : epoch: 167; val_loss: 1.7828912734985352\n",
      "2024-03-07 13:02:29,025 : INFO : epoch: 167; train_loss: 1.67718505859375\n",
      "2024-03-07 13:02:57,618 : INFO : epoch: 168; val_loss: 1.782862901687622\n",
      "2024-03-07 13:02:57,621 : INFO : epoch: 168; train_loss: 1.6771210432052612\n",
      "2024-03-07 13:03:33,595 : INFO : epoch: 169; val_loss: 1.7828421592712402\n",
      "2024-03-07 13:03:33,602 : INFO : epoch: 169; train_loss: 1.6770836114883423\n",
      "2024-03-07 13:04:05,640 : INFO : epoch: 170; val_loss: 1.7828428745269775\n",
      "2024-03-07 13:04:05,643 : INFO : epoch: 170; train_loss: 1.677008867263794\n",
      "2024-03-07 13:04:31,227 : INFO : epoch: 171; val_loss: 1.7828234434127808\n",
      "2024-03-07 13:04:31,229 : INFO : epoch: 171; train_loss: 1.6769198179244995\n",
      "2024-03-07 13:04:56,644 : INFO : epoch: 172; val_loss: 1.7828019857406616\n",
      "2024-03-07 13:04:56,647 : INFO : epoch: 172; train_loss: 1.6768813133239746\n",
      "2024-03-07 13:04:56,715 : DEBUG : open file: /Users/andrey.golda/Documents/Study/MSU_interpol/training/wandb_local_logs/MSU_interpol/crimson-donkey-45/checkpoints/exp_name=0val_loss=1.78280-epoch=172.ckpt\n",
      "2024-03-07 13:05:22,271 : INFO : epoch: 173; val_loss: 1.7827726602554321\n",
      "2024-03-07 13:05:22,274 : INFO : epoch: 173; train_loss: 1.6768344640731812\n",
      "2024-03-07 13:05:22,343 : DEBUG : open file: /Users/andrey.golda/Documents/Study/MSU_interpol/training/wandb_local_logs/MSU_interpol/crimson-donkey-45/checkpoints/exp_name=0val_loss=1.78277-epoch=173.ckpt\n",
      "2024-03-07 13:05:47,867 : INFO : epoch: 174; val_loss: 1.7827585935592651\n",
      "2024-03-07 13:05:47,870 : INFO : epoch: 174; train_loss: 1.6767959594726562\n",
      "2024-03-07 13:05:47,935 : DEBUG : open file: /Users/andrey.golda/Documents/Study/MSU_interpol/training/wandb_local_logs/MSU_interpol/crimson-donkey-45/checkpoints/exp_name=0val_loss=1.78276-epoch=174.ckpt\n",
      "2024-03-07 13:06:13,219 : INFO : epoch: 175; val_loss: 1.78274405002594\n",
      "2024-03-07 13:06:13,221 : INFO : epoch: 175; train_loss: 1.6767449378967285\n",
      "2024-03-07 13:06:13,290 : DEBUG : open file: /Users/andrey.golda/Documents/Study/MSU_interpol/training/wandb_local_logs/MSU_interpol/crimson-donkey-45/checkpoints/exp_name=0val_loss=1.78274-epoch=175.ckpt\n",
      "2024-03-07 13:06:38,451 : INFO : epoch: 176; val_loss: 1.782740592956543\n",
      "2024-03-07 13:06:38,453 : INFO : epoch: 176; train_loss: 1.676721215248108\n",
      "2024-03-07 13:06:38,518 : DEBUG : open file: /Users/andrey.golda/Documents/Study/MSU_interpol/training/wandb_local_logs/MSU_interpol/crimson-donkey-45/checkpoints/exp_name=0val_loss=1.78274-epoch=176.ckpt\n",
      "2024-03-07 13:07:03,673 : INFO : epoch: 177; val_loss: 1.7819015979766846\n",
      "2024-03-07 13:07:03,675 : INFO : epoch: 177; train_loss: 1.6760623455047607\n"
     ]
    },
    {
     "name": "stderr",
     "output_type": "stream",
     "text": [
      "Metric val_loss improved by 0.001 >= min_delta = 1e-05. New best score: 1.782\n"
     ]
    },
    {
     "name": "stdout",
     "output_type": "stream",
     "text": [
      "2024-03-07 13:07:03,755 : DEBUG : open file: /Users/andrey.golda/Documents/Study/MSU_interpol/training/wandb_local_logs/MSU_interpol/crimson-donkey-45/checkpoints/exp_name=0val_loss=1.78190-epoch=177.ckpt\n",
      "2024-03-07 13:07:28,909 : INFO : epoch: 178; val_loss: 1.7819008827209473\n",
      "2024-03-07 13:07:28,913 : INFO : epoch: 178; train_loss: 1.675923466682434\n",
      "2024-03-07 13:07:28,978 : DEBUG : open file: /Users/andrey.golda/Documents/Study/MSU_interpol/training/wandb_local_logs/MSU_interpol/crimson-donkey-45/checkpoints/exp_name=0val_loss=1.78190-epoch=178.ckpt\n",
      "2024-03-07 13:07:54,055 : INFO : epoch: 179; val_loss: 1.7819157838821411\n",
      "2024-03-07 13:07:54,057 : INFO : epoch: 179; train_loss: 1.6758756637573242\n",
      "2024-03-07 13:07:54,122 : DEBUG : open file: /Users/andrey.golda/Documents/Study/MSU_interpol/training/wandb_local_logs/MSU_interpol/crimson-donkey-45/checkpoints/exp_name=0val_loss=1.78192-epoch=179.ckpt\n",
      "2024-03-07 13:08:19,043 : INFO : epoch: 180; val_loss: 1.781926155090332\n",
      "2024-03-07 13:08:19,046 : INFO : epoch: 180; train_loss: 1.675857424736023\n",
      "2024-03-07 13:08:44,398 : INFO : epoch: 181; val_loss: 1.7819079160690308\n",
      "2024-03-07 13:08:44,401 : INFO : epoch: 181; train_loss: 1.6758183240890503\n",
      "2024-03-07 13:08:44,463 : DEBUG : open file: /Users/andrey.golda/Documents/Study/MSU_interpol/training/wandb_local_logs/MSU_interpol/crimson-donkey-45/checkpoints/exp_name=0val_loss=1.78191-epoch=181.ckpt\n",
      "2024-03-07 13:09:09,628 : INFO : epoch: 182; val_loss: 1.7819195985794067\n",
      "2024-03-07 13:09:09,631 : INFO : epoch: 182; train_loss: 1.6757996082305908\n",
      "2024-03-07 13:09:34,655 : INFO : epoch: 183; val_loss: 1.7818922996520996\n",
      "2024-03-07 13:09:34,657 : INFO : epoch: 183; train_loss: 1.6757709980010986\n",
      "2024-03-07 13:09:34,720 : DEBUG : open file: /Users/andrey.golda/Documents/Study/MSU_interpol/training/wandb_local_logs/MSU_interpol/crimson-donkey-45/checkpoints/exp_name=0val_loss=1.78189-epoch=183.ckpt\n",
      "2024-03-07 13:09:59,887 : INFO : epoch: 184; val_loss: 1.7819033861160278\n",
      "2024-03-07 13:09:59,890 : INFO : epoch: 184; train_loss: 1.6757562160491943\n",
      "2024-03-07 13:10:25,034 : INFO : epoch: 185; val_loss: 1.7819026708602905\n",
      "2024-03-07 13:10:25,036 : INFO : epoch: 185; train_loss: 1.675724983215332\n",
      "2024-03-07 13:10:50,142 : INFO : epoch: 186; val_loss: 1.7819085121154785\n",
      "2024-03-07 13:10:50,144 : INFO : epoch: 186; train_loss: 1.6757078170776367\n",
      "2024-03-07 13:11:15,170 : INFO : epoch: 187; val_loss: 1.781934142112732\n",
      "2024-03-07 13:11:15,172 : INFO : epoch: 187; train_loss: 1.6756819486618042\n",
      "2024-03-07 13:11:40,367 : INFO : epoch: 188; val_loss: 1.7819470167160034\n",
      "2024-03-07 13:11:40,370 : INFO : epoch: 188; train_loss: 1.6756600141525269\n",
      "2024-03-07 13:12:06,527 : INFO : epoch: 189; val_loss: 1.7819429636001587\n",
      "2024-03-07 13:12:06,529 : INFO : epoch: 189; train_loss: 1.6756325960159302\n",
      "2024-03-07 13:12:32,887 : INFO : epoch: 190; val_loss: 1.7819478511810303\n",
      "2024-03-07 13:12:32,889 : INFO : epoch: 190; train_loss: 1.6756173372268677\n",
      "2024-03-07 13:12:59,155 : INFO : epoch: 191; val_loss: 1.7819368839263916\n",
      "2024-03-07 13:12:59,157 : INFO : epoch: 191; train_loss: 1.6755849123001099\n",
      "2024-03-07 13:13:24,792 : INFO : epoch: 192; val_loss: 1.781923770904541\n",
      "2024-03-07 13:13:24,794 : INFO : epoch: 192; train_loss: 1.6755578517913818\n",
      "2024-03-07 13:13:50,275 : INFO : epoch: 193; val_loss: 1.7819161415100098\n",
      "2024-03-07 13:13:50,278 : INFO : epoch: 193; train_loss: 1.6755412817001343\n",
      "2024-03-07 13:14:16,257 : INFO : epoch: 194; val_loss: 1.781588077545166\n",
      "2024-03-07 13:14:16,260 : INFO : epoch: 194; train_loss: 1.6751288175582886\n"
     ]
    },
    {
     "name": "stderr",
     "output_type": "stream",
     "text": [
      "Metric val_loss improved by 0.000 >= min_delta = 1e-05. New best score: 1.782\n"
     ]
    },
    {
     "name": "stdout",
     "output_type": "stream",
     "text": [
      "2024-03-07 13:14:16,332 : DEBUG : open file: /Users/andrey.golda/Documents/Study/MSU_interpol/training/wandb_local_logs/MSU_interpol/crimson-donkey-45/checkpoints/exp_name=0val_loss=1.78159-epoch=194.ckpt\n",
      "2024-03-07 13:14:42,012 : INFO : epoch: 195; val_loss: 1.7815580368041992\n",
      "2024-03-07 13:14:42,015 : INFO : epoch: 195; train_loss: 1.6750859022140503\n"
     ]
    },
    {
     "name": "stderr",
     "output_type": "stream",
     "text": [
      "Metric val_loss improved by 0.000 >= min_delta = 1e-05. New best score: 1.782\n"
     ]
    },
    {
     "name": "stdout",
     "output_type": "stream",
     "text": [
      "2024-03-07 13:14:42,082 : DEBUG : open file: /Users/andrey.golda/Documents/Study/MSU_interpol/training/wandb_local_logs/MSU_interpol/crimson-donkey-45/checkpoints/exp_name=0val_loss=1.78156-epoch=195.ckpt\n",
      "2024-03-07 13:15:07,713 : INFO : epoch: 196; val_loss: 1.781550645828247\n",
      "2024-03-07 13:15:07,717 : INFO : epoch: 196; train_loss: 1.6750638484954834\n",
      "2024-03-07 13:15:07,785 : DEBUG : open file: /Users/andrey.golda/Documents/Study/MSU_interpol/training/wandb_local_logs/MSU_interpol/crimson-donkey-45/checkpoints/exp_name=0val_loss=1.78155-epoch=196.ckpt\n",
      "2024-03-07 13:15:33,243 : INFO : epoch: 197; val_loss: 1.7815485000610352\n",
      "2024-03-07 13:15:33,245 : INFO : epoch: 197; train_loss: 1.6750458478927612\n",
      "2024-03-07 13:15:33,312 : DEBUG : open file: /Users/andrey.golda/Documents/Study/MSU_interpol/training/wandb_local_logs/MSU_interpol/crimson-donkey-45/checkpoints/exp_name=0val_loss=1.78155-epoch=197.ckpt\n",
      "2024-03-07 13:15:59,321 : INFO : epoch: 198; val_loss: 1.7815545797348022\n",
      "2024-03-07 13:15:59,323 : INFO : epoch: 198; train_loss: 1.675037145614624\n",
      "2024-03-07 13:15:59,391 : DEBUG : open file: /Users/andrey.golda/Documents/Study/MSU_interpol/training/wandb_local_logs/MSU_interpol/crimson-donkey-45/checkpoints/exp_name=0val_loss=1.78155-epoch=198.ckpt\n",
      "2024-03-07 13:16:25,771 : INFO : epoch: 199; val_loss: 1.7815444469451904\n",
      "2024-03-07 13:16:25,773 : INFO : epoch: 199; train_loss: 1.6750214099884033\n"
     ]
    },
    {
     "name": "stderr",
     "output_type": "stream",
     "text": [
      "Metric val_loss improved by 0.000 >= min_delta = 1e-05. New best score: 1.782\n"
     ]
    },
    {
     "name": "stdout",
     "output_type": "stream",
     "text": [
      "2024-03-07 13:16:25,843 : DEBUG : open file: /Users/andrey.golda/Documents/Study/MSU_interpol/training/wandb_local_logs/MSU_interpol/crimson-donkey-45/checkpoints/exp_name=0val_loss=1.78154-epoch=199.ckpt\n",
      "2024-03-07 13:16:52,122 : INFO : epoch: 200; val_loss: 1.7815440893173218\n",
      "2024-03-07 13:16:52,125 : INFO : epoch: 200; train_loss: 1.6750069856643677\n",
      "2024-03-07 13:16:52,193 : DEBUG : open file: /Users/andrey.golda/Documents/Study/MSU_interpol/training/wandb_local_logs/MSU_interpol/crimson-donkey-45/checkpoints/exp_name=0val_loss=1.78154-epoch=200.ckpt\n",
      "2024-03-07 13:17:18,106 : INFO : epoch: 201; val_loss: 1.78154718875885\n",
      "2024-03-07 13:17:18,108 : INFO : epoch: 201; train_loss: 1.6749922037124634\n",
      "2024-03-07 13:17:18,174 : DEBUG : open file: /Users/andrey.golda/Documents/Study/MSU_interpol/training/wandb_local_logs/MSU_interpol/crimson-donkey-45/checkpoints/exp_name=0val_loss=1.78155-epoch=201.ckpt\n",
      "2024-03-07 13:17:44,144 : INFO : epoch: 202; val_loss: 1.781543493270874\n",
      "2024-03-07 13:17:44,147 : INFO : epoch: 202; train_loss: 1.6749752759933472\n",
      "2024-03-07 13:17:44,214 : DEBUG : open file: /Users/andrey.golda/Documents/Study/MSU_interpol/training/wandb_local_logs/MSU_interpol/crimson-donkey-45/checkpoints/exp_name=0val_loss=1.78154-epoch=202.ckpt\n",
      "2024-03-07 13:18:10,422 : INFO : epoch: 203; val_loss: 1.7815496921539307\n",
      "2024-03-07 13:18:10,425 : INFO : epoch: 203; train_loss: 1.674960732460022\n",
      "2024-03-07 13:18:36,799 : INFO : epoch: 204; val_loss: 1.7815479040145874\n",
      "2024-03-07 13:18:36,801 : INFO : epoch: 204; train_loss: 1.6749486923217773\n",
      "2024-03-07 13:19:03,331 : INFO : epoch: 205; val_loss: 1.7815579175949097\n",
      "2024-03-07 13:19:03,334 : INFO : epoch: 205; train_loss: 1.6749361753463745\n",
      "2024-03-07 13:19:29,718 : INFO : epoch: 206; val_loss: 1.781558632850647\n",
      "2024-03-07 13:19:29,720 : INFO : epoch: 206; train_loss: 1.6749242544174194\n",
      "2024-03-07 13:19:56,065 : INFO : epoch: 207; val_loss: 1.7815637588500977\n",
      "2024-03-07 13:19:56,067 : INFO : epoch: 207; train_loss: 1.6749075651168823\n",
      "2024-03-07 13:20:22,127 : INFO : epoch: 208; val_loss: 1.7815669775009155\n",
      "2024-03-07 13:20:22,130 : INFO : epoch: 208; train_loss: 1.6749001741409302\n",
      "2024-03-07 13:20:47,913 : INFO : epoch: 209; val_loss: 1.7815769910812378\n",
      "2024-03-07 13:20:47,916 : INFO : epoch: 209; train_loss: 1.674877643585205\n",
      "2024-03-07 13:21:13,781 : INFO : epoch: 210; val_loss: 1.7815786600112915\n",
      "2024-03-07 13:21:13,783 : INFO : epoch: 210; train_loss: 1.6748721599578857\n",
      "2024-03-07 13:21:39,423 : INFO : epoch: 211; val_loss: 1.7815831899642944\n",
      "2024-03-07 13:21:39,425 : INFO : epoch: 211; train_loss: 1.674862265586853\n",
      "2024-03-07 13:22:05,530 : INFO : epoch: 212; val_loss: 1.7815122604370117\n",
      "2024-03-07 13:22:05,533 : INFO : epoch: 212; train_loss: 1.6746348142623901\n"
     ]
    },
    {
     "name": "stderr",
     "output_type": "stream",
     "text": [
      "Metric val_loss improved by 0.000 >= min_delta = 1e-05. New best score: 1.782\n"
     ]
    },
    {
     "name": "stdout",
     "output_type": "stream",
     "text": [
      "2024-03-07 13:22:05,607 : DEBUG : open file: /Users/andrey.golda/Documents/Study/MSU_interpol/training/wandb_local_logs/MSU_interpol/crimson-donkey-45/checkpoints/exp_name=0val_loss=1.78151-epoch=212.ckpt\n",
      "2024-03-07 13:22:31,868 : INFO : epoch: 213; val_loss: 1.781495451927185\n",
      "2024-03-07 13:22:31,870 : INFO : epoch: 213; train_loss: 1.6746184825897217\n"
     ]
    },
    {
     "name": "stderr",
     "output_type": "stream",
     "text": [
      "Metric val_loss improved by 0.000 >= min_delta = 1e-05. New best score: 1.781\n"
     ]
    },
    {
     "name": "stdout",
     "output_type": "stream",
     "text": [
      "2024-03-07 13:22:31,947 : DEBUG : open file: /Users/andrey.golda/Documents/Study/MSU_interpol/training/wandb_local_logs/MSU_interpol/crimson-donkey-45/checkpoints/exp_name=0val_loss=1.78150-epoch=213.ckpt\n",
      "2024-03-07 13:22:58,367 : INFO : epoch: 214; val_loss: 1.7814909219741821\n",
      "2024-03-07 13:22:58,369 : INFO : epoch: 214; train_loss: 1.6746069192886353\n",
      "2024-03-07 13:22:58,440 : DEBUG : open file: /Users/andrey.golda/Documents/Study/MSU_interpol/training/wandb_local_logs/MSU_interpol/crimson-donkey-45/checkpoints/exp_name=0val_loss=1.78149-epoch=214.ckpt\n",
      "2024-03-07 13:23:24,838 : INFO : epoch: 215; val_loss: 1.7814966440200806\n",
      "2024-03-07 13:23:24,840 : INFO : epoch: 215; train_loss: 1.6745961904525757\n",
      "2024-03-07 13:23:24,907 : DEBUG : open file: /Users/andrey.golda/Documents/Study/MSU_interpol/training/wandb_local_logs/MSU_interpol/crimson-donkey-45/checkpoints/exp_name=0val_loss=1.78150-epoch=215.ckpt\n",
      "2024-03-07 13:23:51,365 : INFO : epoch: 216; val_loss: 1.7814997434616089\n",
      "2024-03-07 13:23:51,367 : INFO : epoch: 216; train_loss: 1.6745896339416504\n",
      "2024-03-07 13:24:18,270 : INFO : epoch: 217; val_loss: 1.7815080881118774\n",
      "2024-03-07 13:24:18,272 : INFO : epoch: 217; train_loss: 1.6745808124542236\n",
      "2024-03-07 13:24:45,234 : INFO : epoch: 218; val_loss: 1.781508445739746\n",
      "2024-03-07 13:24:45,236 : INFO : epoch: 218; train_loss: 1.674576759338379\n",
      "2024-03-07 13:25:11,688 : INFO : epoch: 219; val_loss: 1.7815124988555908\n",
      "2024-03-07 13:25:11,691 : INFO : epoch: 219; train_loss: 1.6745694875717163\n",
      "2024-03-07 13:25:38,023 : INFO : epoch: 220; val_loss: 1.781516432762146\n",
      "2024-03-07 13:25:38,026 : INFO : epoch: 220; train_loss: 1.6745631694793701\n",
      "2024-03-07 13:26:05,420 : INFO : epoch: 221; val_loss: 1.7815260887145996\n",
      "2024-03-07 13:26:05,425 : INFO : epoch: 221; train_loss: 1.6745531558990479\n",
      "2024-03-07 13:26:36,887 : INFO : epoch: 222; val_loss: 1.7815256118774414\n",
      "2024-03-07 13:26:36,890 : INFO : epoch: 222; train_loss: 1.6745492219924927\n",
      "2024-03-07 13:27:07,194 : INFO : epoch: 223; val_loss: 1.781527042388916\n",
      "2024-03-07 13:27:07,197 : INFO : epoch: 223; train_loss: 1.6745412349700928\n",
      "2024-03-07 13:27:33,595 : INFO : epoch: 224; val_loss: 1.7815320491790771\n",
      "2024-03-07 13:27:33,598 : INFO : epoch: 224; train_loss: 1.674534797668457\n",
      "2024-03-07 13:27:57,949 : INFO : epoch: 225; val_loss: 1.7815347909927368\n",
      "2024-03-07 13:27:57,953 : INFO : epoch: 225; train_loss: 1.674527883529663\n",
      "2024-03-07 13:28:22,269 : INFO : epoch: 226; val_loss: 1.7815392017364502\n",
      "2024-03-07 13:28:22,271 : INFO : epoch: 226; train_loss: 1.6745222806930542\n",
      "2024-03-07 13:28:45,979 : INFO : epoch: 227; val_loss: 1.781541347503662\n",
      "2024-03-07 13:28:45,981 : INFO : epoch: 227; train_loss: 1.6745154857635498\n",
      "2024-03-07 13:29:10,088 : INFO : epoch: 228; val_loss: 1.7815426588058472\n",
      "2024-03-07 13:29:10,091 : INFO : epoch: 228; train_loss: 1.6745094060897827\n",
      "2024-03-07 13:29:34,237 : INFO : epoch: 229; val_loss: 1.7816026210784912\n",
      "2024-03-07 13:29:34,239 : INFO : epoch: 229; train_loss: 1.6743773221969604\n",
      "2024-03-07 13:29:58,055 : INFO : epoch: 230; val_loss: 1.7815909385681152\n",
      "2024-03-07 13:29:58,057 : INFO : epoch: 230; train_loss: 1.67435884475708\n",
      "2024-03-07 13:30:22,468 : INFO : epoch: 231; val_loss: 1.7815908193588257\n",
      "2024-03-07 13:30:22,470 : INFO : epoch: 231; train_loss: 1.6743541955947876\n",
      "2024-03-07 13:30:46,680 : INFO : epoch: 232; val_loss: 1.7815897464752197\n",
      "2024-03-07 13:30:46,682 : INFO : epoch: 232; train_loss: 1.6743505001068115\n",
      "2024-03-07 13:31:10,390 : INFO : epoch: 233; val_loss: 1.7815909385681152\n",
      "2024-03-07 13:31:10,392 : INFO : epoch: 233; train_loss: 1.6743457317352295\n"
     ]
    },
    {
     "name": "stderr",
     "output_type": "stream",
     "text": [
      "Monitored metric val_loss did not improve in the last 20 records. Best score: 1.781. Signaling Trainer to stop.\n"
     ]
    },
    {
     "name": "stdout",
     "output_type": "stream",
     "text": [
      "2024-03-07 13:31:10,405 : INFO : Training is ending\n"
     ]
    }
   ],
   "source": [
    "data_module = InterpolDataModule(hyperparams=hyperparams_dict)\n",
    "model = InterpolRegressor(hyperparams=hyperparams_dict)\n",
    "# model = InterpolRegressor.load_from_checkpoint(f'./wandb_local_logs/MSU_interpol/blooming-plasma-40/checkpoints/exp_name=0val_loss=6.43574-epoch=14.ckpt', hyperparams=hyperparams_dict)\n",
    "\n",
    "trainer = pl.Trainer(max_epochs=hyperparams_dict.get('max_epochs'),\n",
    "                     accelerator='cpu',\n",
    "                     logger=wandb_logger,\n",
    "                     enable_progress_bar=False)\n",
    "trainer.fit(model, data_module)"
   ]
  },
  {
   "cell_type": "code",
   "execution_count": 56,
   "id": "9f33d989",
   "metadata": {
    "scrolled": false,
    "ExecuteTime": {
     "end_time": "2024-03-07T14:40:07.321648Z",
     "start_time": "2024-03-07T14:39:57.774955Z"
    }
   },
   "outputs": [
    {
     "data": {
      "text/plain": "VBox(children=(Label(value='0.001 MB of 0.001 MB uploaded\\r'), FloatProgress(value=1.0, max=1.0)))",
      "application/vnd.jupyter.widget-view+json": {
       "version_major": 2,
       "version_minor": 0,
       "model_id": "a007c2e7e6a548b2a92e426ada341812"
      }
     },
     "metadata": {},
     "output_type": "display_data"
    },
    {
     "data": {
      "text/plain": "<IPython.core.display.HTML object>",
      "text/html": "W&B sync reduced upload amount by 3.4%             "
     },
     "metadata": {},
     "output_type": "display_data"
    },
    {
     "data": {
      "text/plain": "<IPython.core.display.HTML object>",
      "text/html": "<style>\n    table.wandb td:nth-child(1) { padding: 0 10px; text-align: left ; width: auto;} td:nth-child(2) {text-align: left ; width: 100%}\n    .wandb-row { display: flex; flex-direction: row; flex-wrap: wrap; justify-content: flex-start; width: 100% }\n    .wandb-col { display: flex; flex-direction: column; flex-basis: 100%; flex: 1; padding: 10px; }\n    </style>\n<div class=\"wandb-row\"><div class=\"wandb-col\"><h3>Run history:</h3><br/><table class=\"wandb\"><tr><td>epoch</td><td>▁▁▁▁▂▂▂▂▂▃▃▃▃▃▃▄▄▄▄▄▅▅▅▅▅▅▆▆▆▆▆▇▇▇▇▇▇███</td></tr><tr><td>lr_scheduler_monitoring</td><td>████▄▄▄▃▃▃▂▂▂▁▁▁▁▁▁▁▁▁▁▁▁▁▁▁▁▁▁▁▁▁▁▁▁▁▁▁</td></tr><tr><td>train_loss</td><td>█▆▄▃▂▂▂▁▁▁▁▁▁▁▁▁▁▁▁▁▁▁▁▁▁▁▁▁▁▁▁▁▁▁▁▁▁▁▁▁</td></tr><tr><td>train_mae</td><td>█▆▄▃▂▂▂▂▁▁▁▁▁▁▁▁▁▁▁▁▁▁▁▁▁▁▁▁▁▁▁▁▁▁▁▁▁▁▁▁</td></tr><tr><td>trainer/global_step</td><td>▁▁▁▁▂▂▂▂▂▃▃▃▃▃▃▄▄▄▄▄▅▅▅▅▅▅▆▆▆▆▆▇▇▇▇▇▇███</td></tr><tr><td>val_loss</td><td>█▆▃▂▂▂▂▁▁▂▁▁▁▁▁▁▁▁▁▁▁▁▁▁▁▁▁▁▁▁▁▁▁▁▁▁▁▁▁▁</td></tr><tr><td>val_mae</td><td>█▆▃▂▂▂▂▂▂▂▁▁▁▁▁▁▁▁▁▁▁▁▁▁▁▁▁▁▁▁▁▁▁▁▁▁▁▁▁▁</td></tr></table><br/></div><div class=\"wandb-col\"><h3>Run summary:</h3><br/><table class=\"wandb\"><tr><td>epoch</td><td>233</td></tr><tr><td>lr_scheduler_monitoring</td><td>0.0</td></tr><tr><td>train_loss</td><td>1.67435</td></tr><tr><td>train_mae</td><td>0.07758</td></tr><tr><td>trainer/global_step</td><td>43289</td></tr><tr><td>val_loss</td><td>1.78159</td></tr><tr><td>val_mae</td><td>0.08214</td></tr></table><br/></div></div>"
     },
     "metadata": {},
     "output_type": "display_data"
    },
    {
     "data": {
      "text/plain": "<IPython.core.display.HTML object>",
      "text/html": " View run <strong style=\"color:#cdcd00\">crimson-donkey-45</strong> at: <a href='https://wandb.ai/msu_ai/msu_interpol/runs/pbuzqcje' target=\"_blank\">https://wandb.ai/msu_ai/msu_interpol/runs/pbuzqcje</a><br/> View job at <a href='https://wandb.ai/msu_ai/msu_interpol/jobs/QXJ0aWZhY3RDb2xsZWN0aW9uOjEzMDk2MzQ1OQ==/version_details/v13' target=\"_blank\">https://wandb.ai/msu_ai/msu_interpol/jobs/QXJ0aWZhY3RDb2xsZWN0aW9uOjEzMDk2MzQ1OQ==/version_details/v13</a><br/>Synced 5 W&B file(s), 0 media file(s), 2 artifact file(s) and 0 other file(s)"
     },
     "metadata": {},
     "output_type": "display_data"
    },
    {
     "data": {
      "text/plain": "<IPython.core.display.HTML object>",
      "text/html": "Find logs at: <code>./wandb_local_logs/wandb/run-20240307_113137-pbuzqcje/logs</code>"
     },
     "metadata": {},
     "output_type": "display_data"
    }
   ],
   "source": [
    "wandb.finish()"
   ]
  },
  {
   "cell_type": "code",
   "execution_count": 51,
   "outputs": [],
   "source": [],
   "metadata": {
    "collapsed": false,
    "ExecuteTime": {
     "end_time": "2024-03-07T11:31:33.016950Z",
     "start_time": "2024-03-07T11:31:33.013710Z"
    }
   }
  }
 ],
 "metadata": {
  "kernelspec": {
   "display_name": "Python 3",
   "language": "python",
   "name": "python3"
  },
  "language_info": {
   "codemirror_mode": {
    "name": "ipython",
    "version": 3
   },
   "file_extension": ".py",
   "mimetype": "text/x-python",
   "name": "python",
   "nbconvert_exporter": "python",
   "pygments_lexer": "ipython3",
   "version": "3.9.0"
  }
 },
 "nbformat": 4,
 "nbformat_minor": 5
}
