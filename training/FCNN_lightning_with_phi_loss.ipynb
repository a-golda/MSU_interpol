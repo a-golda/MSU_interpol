{
 "cells": [
  {
   "cell_type": "code",
   "execution_count": 14,
   "id": "8ce34e31",
   "metadata": {
    "code_folding": [],
    "ExecuteTime": {
     "end_time": "2024-04-10T09:55:41.262269Z",
     "start_time": "2024-04-10T09:55:41.252922Z"
    }
   },
   "outputs": [],
   "source": [
    "import os\n",
    "import sys\n",
    "import math\n",
    "import tqdm\n",
    "import wandb\n",
    "import torch\n",
    "import logging\n",
    "\n",
    "import numpy as np\n",
    "import pandas as pd\n",
    "import torch.nn as nn\n",
    "import lightning.pytorch as pl\n",
    "\n",
    "from scipy.optimize import curve_fit\n",
    "from torchmetrics import MeanAbsoluteError\n",
    "from sklearn.metrics import mean_squared_error\n",
    "from torch.utils.data import Dataset, DataLoader\n",
    "from sklearn.preprocessing import StandardScaler\n",
    "from lightning.pytorch.loggers import WandbLogger\n",
    "from sklearn.model_selection import train_test_split\n",
    "from torch.optim.lr_scheduler import ReduceLROnPlateau\n",
    "from lightning.pytorch.callbacks.early_stopping import EarlyStopping\n",
    "from lightning.pytorch.callbacks import Callback, LearningRateMonitor, ModelCheckpoint"
   ]
  },
  {
   "cell_type": "code",
   "execution_count": 15,
   "outputs": [
    {
     "data": {
      "text/plain": "True"
     },
     "execution_count": 15,
     "metadata": {},
     "output_type": "execute_result"
    }
   ],
   "source": [
    "wandb.login()"
   ],
   "metadata": {
    "collapsed": false,
    "ExecuteTime": {
     "end_time": "2024-04-10T09:55:41.481066Z",
     "start_time": "2024-04-10T09:55:41.469749Z"
    }
   }
  },
  {
   "cell_type": "markdown",
   "source": [
    "# FCNN"
   ],
   "metadata": {
    "collapsed": false
   }
  },
  {
   "cell_type": "code",
   "execution_count": 21,
   "outputs": [],
   "source": [
    "#params\n",
    "project_name = \"MSU_interpol\"\n",
    "\n",
    "logger_path = './wandb_local_logs'\n",
    "data_path = '../data/clasdb_pi_plus_n.txt'\n",
    "\n",
    "hyperparams_dict = {\n",
    "    'scale_data': False,\n",
    "    'augment': False,\n",
    "    'add_abc': True,\n",
    "    'abc_loss_factor': 0.5,\n",
    "    'augment_factor': 20,\n",
    "    'test_size': 0.1,\n",
    "    'batch_size': 256,\n",
    "    'net_architecture': [5,60,80,100,120,140,240,340,440,640,2000,1040,640,340,240,140,100,80,60,20,1],\n",
    "    'activation_function': nn.ReLU(),\n",
    "    'loss_func': 'RMSELoss()',\n",
    "    'optim_func': torch.optim.Adam,\n",
    "    'max_epochs': 2000,\n",
    "    'es_min_delta': 0.00001,\n",
    "    'es_patience': 150,\n",
    "    'lr': 0.001,\n",
    "    'lr_factor':0.5,\n",
    "    'lr_patience': 5,\n",
    "    'lr_cooldown': 20,\n",
    "}"
   ],
   "metadata": {
    "collapsed": false,
    "ExecuteTime": {
     "end_time": "2024-04-10T09:56:22.596682Z",
     "start_time": "2024-04-10T09:56:22.589560Z"
    }
   }
  },
  {
   "cell_type": "code",
   "execution_count": 22,
   "outputs": [],
   "source": [
    "class RMSELoss(torch.nn.Module):\n",
    "    def __init__(self):\n",
    "        super(RMSELoss,self).__init__()\n",
    "\n",
    "    @staticmethod\n",
    "    def func_cos(x, a, b, c):\n",
    "        return a + b*torch.cos(2*x) + c*torch.cos(x)\n",
    "\n",
    "    def forward(self,x,y,w,A,B,C):\n",
    "        criterion = torch.sqrt(torch.mean(w*(x - y)**2)/torch.sum(w)) + \\\n",
    "                    torch.mul(hyperparams_dict.get('abc_loss_factor'), torch.mean(torch.abs(y - self.func_cos(x,A,B,C))))\n",
    "        return criterion\n",
    "\n",
    "global_losss_function = RMSELoss()"
   ],
   "metadata": {
    "collapsed": false,
    "ExecuteTime": {
     "end_time": "2024-04-10T09:56:23.114139Z",
     "start_time": "2024-04-10T09:56:23.106752Z"
    }
   }
  },
  {
   "cell_type": "code",
   "execution_count": 23,
   "outputs": [
    {
     "name": "stderr",
     "output_type": "stream",
     "text": [
      "/Users/andrey.golda/Library/Caches/pypoetry/virtualenvs/msu-interpol--lw2ADYE-py3.11/lib/python3.11/site-packages/lightning/pytorch/loggers/wandb.py:389: There is a wandb run already in progress and newly created instances of `WandbLogger` will reuse this run. If this is not desired, call `wandb.finish()` before instantiating `WandbLogger`.\n"
     ]
    }
   ],
   "source": [
    "wandb_logger = WandbLogger(project=project_name,\n",
    "                           save_dir=logger_path)\n",
    "exp_name = wandb_logger.experiment.name\n",
    "\n",
    "logger_full_path = os.path.join(logger_path, project_name, exp_name)\n",
    "\n",
    "os.makedirs(logger_full_path, exist_ok=True)\n",
    "logging.basicConfig(encoding='utf-8',\n",
    "                    level=logging.DEBUG,\n",
    "                    format='%(asctime)s : %(levelname)s : %(message)s',\n",
    "                    handlers=[logging.FileHandler(os.path.join(logger_full_path, 'logs.log'), mode='w'),\n",
    "                              logging.StreamHandler(sys.stdout)],\n",
    "                    force=True)"
   ],
   "metadata": {
    "collapsed": false,
    "ExecuteTime": {
     "end_time": "2024-04-10T09:56:23.604207Z",
     "start_time": "2024-04-10T09:56:23.574629Z"
    }
   }
  },
  {
   "cell_type": "code",
   "execution_count": 24,
   "id": "1a4c8bf4",
   "metadata": {
    "code_folding": [
     0,
     14,
     57
    ],
    "ExecuteTime": {
     "end_time": "2024-04-10T09:56:24.951476Z",
     "start_time": "2024-04-10T09:56:24.912852Z"
    }
   },
   "outputs": [],
   "source": [
    "class InterpolDataSet(Dataset):\n",
    "    def __init__(self, features, labels, weights, A, B, C):\n",
    "        self.features = features\n",
    "        self.labels = labels\n",
    "        self.weights = weights\n",
    "        self.A = A\n",
    "        self.B = B\n",
    "        self.C = C\n",
    "        self.len = len(labels)\n",
    "\n",
    "    def __getitem__(self, index):\n",
    "        feature = self.features[index]\n",
    "        label = self.labels[index]\n",
    "        weights = self.weights[index]\n",
    "        A = self.A[index]\n",
    "        B = self.B[index]\n",
    "        C = self.C[index]\n",
    "        return feature, label, weights, A, B, C\n",
    "\n",
    "    def __len__(self):\n",
    "        return self.len\n",
    "\n",
    "class InterpolDataModule(pl.LightningDataModule):\n",
    "    def __init__(self, hyperparams):\n",
    "        super().__init__()\n",
    "        self.df = None\n",
    "        self.hyperparams = hyperparams\n",
    "        self.train_dataset = None\n",
    "        self.val_dataset = None\n",
    "\n",
    "    def augment(self, new_augm):\n",
    "        augm = pd.Series({'Ebeam': np.random.normal(loc=new_augm.Ebeam, scale=new_augm.Ebeam/30),\n",
    "                           'W': np.random.normal(loc=new_augm.W, scale=new_augm.W/30),\n",
    "                           'Q2': np.random.normal(loc=new_augm.Q2, scale=new_augm.Q2/30),\n",
    "                           'cos_theta': np.clip(np.random.normal(loc=new_augm.cos_theta, scale=abs(new_augm.cos_theta/30)), -1, 1),\n",
    "                           'phi': np.clip(np.random.normal(loc=new_augm.phi, scale=new_augm.phi/30), 0, 2*np.pi),\n",
    "                           'dsigma_dOmega': np.random.normal(loc=new_augm.dsigma_dOmega, scale=new_augm.error/3),\n",
    "                           'error': new_augm.error,\n",
    "                           'weight': new_augm.weight,\n",
    "                          })\n",
    "        if self.hyperparams.get('add_abc'):\n",
    "            augm['A'] = new_augm.A\n",
    "            augm['B'] = new_augm.B\n",
    "            augm['C'] = new_augm.C\n",
    "        else:\n",
    "            pass\n",
    "        return augm\n",
    "\n",
    "    @staticmethod\n",
    "    def func_cos(x, a, b, c):\n",
    "            return a + b*np.cos(2*x) + c*np.cos(x)\n",
    "\n",
    "    def get_abc(self, df, E_beam, Q2, W, cos_theta):\n",
    "        df_example_set = df[(df.Ebeam == E_beam)&\n",
    "                            (df.W == W)&\n",
    "                            (df.Q2 == Q2)&\n",
    "                            (df.cos_theta == cos_theta)].sort_values('phi')\n",
    "        #input data\n",
    "        xdata = df_example_set.phi\n",
    "        ydata = df_example_set.dsigma_dOmega\n",
    "        ydata_error = df_example_set.error\n",
    "        #fitting the data\n",
    "        popt, pcov = curve_fit(self.func_cos, xdata, ydata, sigma=ydata_error, absolute_sigma=True)\n",
    "        a, b, c = popt[0], popt[1], popt[2]\n",
    "\n",
    "        return a, b, c\n",
    "    \n",
    "    def setup(self, stage):\n",
    "        # data reading and preprocessing\n",
    "        df = pd.read_csv(data_path, delimiter='\\t', header=None)\n",
    "        df.columns = ['Ebeam', 'W', 'Q2', 'cos_theta', 'phi', 'dsigma_dOmega', 'error', 'id']\n",
    "        df.loc[8314:65671, 'Ebeam'] = 5.754 # peculiarity of this dataset.\n",
    "        df['phi'] = df.phi.apply(lambda x: math.radians(x))\n",
    "        df['weight'] = df['error'].apply(lambda x: x and 1 / x or 100) # x and 1 / x or 100  is just a reversed error but with validation 1/0 error in this case it will return 100\n",
    "        df = df.drop('id', axis=1)\n",
    "        df = df.iloc[df[['Ebeam', 'W', 'Q2', 'cos_theta', 'phi']].drop_duplicates().index]\n",
    "\n",
    "        # #train test split\n",
    "        feature_columns = ['Ebeam', 'W', 'Q2', 'cos_theta', 'phi']\n",
    "        #\n",
    "        if self.hyperparams.get('add_abc'):\n",
    "            df['A'] = None\n",
    "            df['B'] = None\n",
    "            df['C'] = None\n",
    "            feature_columns_with_additional = ['Ebeam', 'W', 'Q2', 'cos_theta', 'phi', 'weight', 'A', 'B', 'C']\n",
    "        else:\n",
    "            feature_columns_with_additional = ['Ebeam', 'W', 'Q2', 'cos_theta', 'phi', 'weight']\n",
    "\n",
    "\n",
    "        if self.hyperparams.get('add_abc'):\n",
    "            for Ebeam in df.Ebeam.unique():\n",
    "                for Q2 in tqdm.tqdm(df[df.Ebeam == Ebeam].Q2.unique(), desc='ABC Q cycle'):\n",
    "                    for W in df[(df.Ebeam == Ebeam) & (df.Q2 == Q2)].W.unique():\n",
    "                        for cos_theta in df[(df.Ebeam == Ebeam) & (df.Q2 == Q2) & (df.W == W)].cos_theta.unique():\n",
    "                            try:\n",
    "                                if df.loc[(df.Ebeam == Ebeam) & (df.Q2 == Q2) & (df.W == W) & (df.cos_theta == cos_theta), 'A'].iloc[0] is None:\n",
    "                                    A, B, C = self.get_abc(df, Ebeam, Q2, W, cos_theta)\n",
    "                                    df.loc[(df.Ebeam == Ebeam) & (df.Q2 == Q2) & (df.W == W) & (df.cos_theta == cos_theta), 'A'] = A\n",
    "                                    df.loc[(df.Ebeam == Ebeam) & (df.Q2 == Q2) & (df.W == W) & (df.cos_theta == cos_theta), 'B'] = B\n",
    "                                    df.loc[(df.Ebeam == Ebeam) & (df.Q2 == Q2) & (df.W == W) & (df.cos_theta == cos_theta), 'C'] = C\n",
    "                                else:\n",
    "                                    pass\n",
    "                            except Exception as e:\n",
    "                                df.loc[(df.Ebeam == Ebeam) & (df.Q2 == Q2) & (df.W == W) & (df.cos_theta == cos_theta), 'A'] = 0\n",
    "                                df.loc[(df.Ebeam == Ebeam) & (df.Q2 == Q2) & (df.W == W) & (df.cos_theta == cos_theta), 'B'] = 0\n",
    "                                df.loc[(df.Ebeam == Ebeam) & (df.Q2 == Q2) & (df.W == W) & (df.cos_theta == cos_theta), 'C'] = 0\n",
    "        else:\n",
    "            pass\n",
    "\n",
    "        feature_data = df[feature_columns_with_additional]\n",
    "        label_data = df['dsigma_dOmega']\n",
    "\n",
    "        if self.hyperparams.get('scale_data'):\n",
    "            scaler_feature = StandardScaler()\n",
    "            scaler_target = StandardScaler()\n",
    "            feature_data = scaler_feature.fit_transform(feature_data)\n",
    "            label_data = scaler_target.fit_transform(label_data.values.reshape(-1,1))\n",
    "        else:\n",
    "            pass\n",
    "\n",
    "        if self.hyperparams.get('augment'):\n",
    "            aug_series_list = []\n",
    "            for i in tqdm.tqdm(df.itertuples()):\n",
    "                for _ in range(self.hyperparams.get('augment_factor')):\n",
    "                    aug_series_list.append(self.augment(i))\n",
    "\n",
    "            aug_df = pd.DataFrame(aug_series_list)\n",
    "            df = pd.concat([df, aug_df])\n",
    "        else:\n",
    "            pass\n",
    "\n",
    "        self.df = df\n",
    "\n",
    "        train_feature_data, val_feature_data, train_label_data, val_label_data = train_test_split(feature_data,\n",
    "                                                                                                  label_data,\n",
    "                                                                                                  test_size=self.hyperparams.get('test_size'),\n",
    "                                                                                                  random_state=1438)\n",
    "\n",
    "        self.train_dataset = InterpolDataSet(torch.tensor(train_feature_data[feature_columns].values, dtype=torch.float32),\n",
    "                                             torch.tensor(train_label_data.values, dtype=torch.float32),\n",
    "                                             torch.tensor(train_feature_data['weight'].values, dtype=torch.float32),\n",
    "                                             torch.tensor(train_feature_data['A'].astype(float).values, dtype=torch.float32),\n",
    "                                             torch.tensor(train_feature_data['B'].astype(float).values, dtype=torch.float32),\n",
    "                                             torch.tensor(train_feature_data['C'].astype(float).values, dtype=torch.float32))\n",
    "        \n",
    "        self.val_dataset = InterpolDataSet(torch.tensor(val_feature_data[feature_columns].values, dtype=torch.float32),\n",
    "                                           torch.tensor(val_label_data.values, dtype=torch.float32),\n",
    "                                           torch.tensor(val_feature_data['weight'].values, dtype=torch.float32),\n",
    "                                           torch.tensor(train_feature_data['A'].astype(float).values, dtype=torch.float32),\n",
    "                                           torch.tensor(train_feature_data['B'].astype(float).values, dtype=torch.float32),\n",
    "                                           torch.tensor(train_feature_data['C'].astype(float).values, dtype=torch.float32))\n",
    "\n",
    "    def train_dataloader(self):\n",
    "        return DataLoader(dataset = self.train_dataset, batch_size = self.hyperparams.get('batch_size'), shuffle = False, num_workers=0)\n",
    "\n",
    "    def val_dataloader(self):\n",
    "        return DataLoader(dataset = self.val_dataset, batch_size = self.hyperparams.get('batch_size'), shuffle = False, num_workers=0)\n",
    "\n",
    "class PrintCallbacks(Callback):\n",
    "    def on_train_start(self, trainer, pl_module):\n",
    "        logging.info(\"Training is starting\")\n",
    "\n",
    "    def on_train_end(self, trainer, pl_module):\n",
    "        logging.info(\"Training is ending\")\n",
    "\n",
    "    def on_train_epoch_end(self, trainer, pl_module):\n",
    "        epoch_mean = torch.stack(pl_module.training_step_outputs).mean()\n",
    "        logging.info(f\"epoch: {pl_module.current_epoch}; train_loss: {epoch_mean}\")\n",
    "        pl_module.training_step_outputs.clear()\n",
    "\n",
    "    def on_validation_epoch_end(self, trainer, pl_module):\n",
    "        epoch_mean = torch.stack(pl_module.validation_step_outputs).mean()\n",
    "        logging.info(f\"epoch: {pl_module.current_epoch}; val_loss: {epoch_mean}\")\n",
    "        pl_module.validation_step_outputs.clear()\n",
    "\n",
    "class InterpolRegressor(pl.LightningModule):\n",
    "    def __init__(self, hyperparams):\n",
    "        super(InterpolRegressor, self).__init__()\n",
    "\n",
    "        self.train_loss, self.train_mae, self.val_loss, self.val_mae = 0,0,0,0\n",
    "        self.hyperparams = hyperparams\n",
    "        self.save_hyperparameters(self.hyperparams)\n",
    "\n",
    "        self.mae = MeanAbsoluteError()\n",
    "        self.loss_func = global_losss_function\n",
    "\n",
    "        self.optim = self.hyperparams.get('optim_func')\n",
    "\n",
    "        self.net_architecture = self.hyperparams.get('net_architecture')\n",
    "        self.activation_function = self.hyperparams.get('activation_function')\n",
    "\n",
    "        self.training_step_outputs = []\n",
    "        self.validation_step_outputs = []\n",
    "\n",
    "        self.net = nn.Sequential()\n",
    "        for i in range(1,len(self.net_architecture)):\n",
    "            self.net.append(nn.Linear(self.net_architecture[i-1], self.net_architecture[i]))\n",
    "            if i!=len(self.net_architecture)-1:\n",
    "                self.net.append(self.activation_function)\n",
    "            else:\n",
    "                pass\n",
    "\n",
    "    def forward(self, x):\n",
    "        return self.net(x)\n",
    "\n",
    "    def training_step(self, batch, batch_idx):\n",
    "        x, y, w, A, B, C = batch\n",
    "        y_hat = self.forward(x)\n",
    "\n",
    "        loss = self.loss_func\n",
    "        self.train_loss = loss.forward(y_hat.reshape(-1), y, w, A, B, C)\n",
    "        self.train_mae = self.mae(y_hat.reshape(-1), y)\n",
    "\n",
    "        self.log('train_loss', self.train_loss, batch_size=self.hyperparams['batch_size'],\n",
    "                 on_step=False, on_epoch=True, prog_bar=True, sync_dist=True, logger=True)\n",
    "        self.log('train_mae', self.train_mae, batch_size=self.hyperparams['batch_size'],\n",
    "                 on_step=False, on_epoch=True, prog_bar=True, sync_dist=True, logger=True)\n",
    "\n",
    "        self.training_step_outputs.append(self.train_loss)\n",
    "        return self.train_loss\n",
    "\n",
    "    def validation_step(self, batch, batch_idx):\n",
    "        x, y, w, A, B, C  = batch\n",
    "        y_hat = self.forward(x)\n",
    "\n",
    "        loss = self.loss_func\n",
    "        self.val_loss = loss.forward(y_hat.reshape(-1), y, w, A, B, C)\n",
    "        self.val_mae = self.mae(y_hat.reshape(-1), y)\n",
    "\n",
    "        self.log('val_loss', self.val_loss, batch_size=self.hyperparams['batch_size'],\n",
    "                 on_step=False, on_epoch=True, prog_bar=True, sync_dist=True, logger=True)\n",
    "        self.log('val_mae', self.val_mae, batch_size=self.hyperparams['batch_size'],\n",
    "                 on_step=False, on_epoch=True, prog_bar=True, sync_dist=True, logger=True)\n",
    "\n",
    "        self.validation_step_outputs.append(self.val_loss)\n",
    "        return self.val_loss\n",
    "\n",
    "    def on_validation_epoch_end(self):\n",
    "        sch = self.lr_schedulers()\n",
    "        if isinstance(sch, torch.optim.lr_scheduler.ReduceLROnPlateau) and self.trainer.current_epoch!=0:\n",
    "                sch.step(self.trainer.callback_metrics[\"val_loss\"])\n",
    "\n",
    "    def configure_callbacks(self):\n",
    "        early_stop_callback = EarlyStopping(monitor=\"val_loss\", mode=\"min\",\n",
    "                                            min_delta=self.hyperparams.get('es_min_delta'),\n",
    "                                            patience=self.hyperparams.get('es_patience'),\n",
    "                                            verbose=True)\n",
    "\n",
    "        checkpoint_callback = ModelCheckpoint(save_top_k=3,\n",
    "                                              monitor=\"val_loss\",\n",
    "                                              mode=\"min\",\n",
    "                                              dirpath=f\"{logger_full_path}/checkpoints\",\n",
    "                                              filename=\"{exp_name}{val_loss:.5f}-{epoch:02d}\")\n",
    "\n",
    "        lr_monitor = LearningRateMonitor(logging_interval='epoch')\n",
    "\n",
    "        print_callback = PrintCallbacks()\n",
    "\n",
    "        return [early_stop_callback, checkpoint_callback, print_callback, lr_monitor]\n",
    "\n",
    "    def configure_optimizers(self):\n",
    "        optimizer = self.optim(self.parameters(), lr=self.hyperparams.get('lr'))\n",
    "        lr_optim = ReduceLROnPlateau(optimizer = optimizer,\n",
    "                                     mode = 'min',\n",
    "                                     factor = self.hyperparams.get('lr_factor'),\n",
    "                                     patience = self.hyperparams.get('lr_patience'),\n",
    "                                     cooldown=self.hyperparams.get('lr_cooldown'),\n",
    "                                     threshold=0.01,\n",
    "                                     verbose= True)\n",
    "        return {\"optimizer\": optimizer,\n",
    "                \"lr_scheduler\": {\n",
    "                    \"scheduler\": lr_optim,\n",
    "                    \"interval\": \"epoch\",\n",
    "                    \"monitor\": \"val_loss\",\n",
    "                    \"frequency\": 2,\n",
    "                    \"name\": 'lr_scheduler_monitoring'}\n",
    "                }\n"
   ]
  },
  {
   "cell_type": "code",
   "execution_count": 25,
   "id": "8b5babb2",
   "metadata": {
    "code_folding": [],
    "scrolled": false,
    "ExecuteTime": {
     "end_time": "2024-04-10T11:24:36.056394Z",
     "start_time": "2024-04-10T09:56:33.394517Z"
    }
   },
   "outputs": [
    {
     "name": "stderr",
     "output_type": "stream",
     "text": [
      "/Users/andrey.golda/Library/Caches/pypoetry/virtualenvs/msu-interpol--lw2ADYE-py3.11/lib/python3.11/site-packages/lightning/pytorch/utilities/parsing.py:198: Attribute 'activation_function' is an instance of `nn.Module` and is already saved during checkpointing. It is recommended to ignore them using `self.save_hyperparameters(ignore=['activation_function'])`.\n",
      "GPU available: False, used: False\n",
      "TPU available: False, using: 0 TPU cores\n",
      "IPU available: False, using: 0 IPUs\n",
      "HPU available: False, using: 0 HPUs\n",
      "The following callbacks returned in `LightningModule.configure_callbacks` will override existing callbacks passed to Trainer: ModelCheckpoint\n",
      "ABC Q cycle: 100%|██████████| 6/6 [00:15<00:00,  2.63s/it]\n",
      "32619it [15:35, 34.86it/s]\n",
      "/Users/andrey.golda/Library/Caches/pypoetry/virtualenvs/msu-interpol--lw2ADYE-py3.11/lib/python3.11/site-packages/torch/optim/lr_scheduler.py:28: UserWarning: The verbose parameter is deprecated. Please use get_last_lr() to access the learning rate.\n",
      "  warnings.warn(\"The verbose parameter is deprecated. Please use get_last_lr() \"\n",
      "\n",
      "  | Name                | Type              | Params\n",
      "----------------------------------------------------------\n",
      "0 | mae                 | MeanAbsoluteError | 0     \n",
      "1 | loss_func           | RMSELoss          | 0     \n",
      "2 | activation_function | ReLU              | 0     \n",
      "3 | net                 | Sequential        | 5.0 M \n",
      "----------------------------------------------------------\n",
      "5.0 M     Trainable params\n",
      "0         Non-trainable params\n",
      "5.0 M     Total params\n",
      "19.926    Total estimated model params size (MB)\n"
     ]
    },
    {
     "name": "stdout",
     "output_type": "stream",
     "text": [
      "2024-04-10 11:13:16,220 : INFO : epoch: 0; val_loss: 0.09277580678462982\n",
      "2024-04-10 11:13:16,226 : INFO : Training is starting\n"
     ]
    },
    {
     "name": "stderr",
     "output_type": "stream",
     "text": [
      "/Users/andrey.golda/Library/Caches/pypoetry/virtualenvs/msu-interpol--lw2ADYE-py3.11/lib/python3.11/site-packages/lightning/pytorch/trainer/connectors/data_connector.py:441: The 'val_dataloader' does not have many workers which may be a bottleneck. Consider increasing the value of the `num_workers` argument` to `num_workers=11` in the `DataLoader` to improve performance.\n",
      "/Users/andrey.golda/Library/Caches/pypoetry/virtualenvs/msu-interpol--lw2ADYE-py3.11/lib/python3.11/site-packages/lightning/pytorch/trainer/connectors/data_connector.py:441: The 'train_dataloader' does not have many workers which may be a bottleneck. Consider increasing the value of the `num_workers` argument` to `num_workers=11` in the `DataLoader` to improve performance.\n"
     ]
    },
    {
     "name": "stdout",
     "output_type": "stream",
     "text": [
      "2024-04-10 11:13:33,753 : INFO : epoch: 0; val_loss: 0.07140036672353745\n",
      "2024-04-10 11:13:33,755 : INFO : epoch: 0; train_loss: 0.03682274371385574\n"
     ]
    },
    {
     "name": "stderr",
     "output_type": "stream",
     "text": [
      "Metric val_loss improved. New best score: 0.071\n"
     ]
    },
    {
     "name": "stdout",
     "output_type": "stream",
     "text": [
      "2024-04-10 11:13:33,838 : DEBUG : open file: /Users/andrey.golda/Documents/Study/MSU_interpol/training/wandb_local_logs/MSU_interpol_by_energy/cerulean-flower-9/checkpoints/exp_name=0val_loss=0.07140-epoch=00.ckpt\n",
      "2024-04-10 11:13:52,426 : INFO : epoch: 1; val_loss: 0.07054563611745834\n",
      "2024-04-10 11:13:52,429 : INFO : epoch: 1; train_loss: 0.02953287400305271\n"
     ]
    },
    {
     "name": "stderr",
     "output_type": "stream",
     "text": [
      "Metric val_loss improved by 0.001 >= min_delta = 1e-05. New best score: 0.071\n"
     ]
    },
    {
     "name": "stdout",
     "output_type": "stream",
     "text": [
      "2024-04-10 11:13:52,507 : DEBUG : open file: /Users/andrey.golda/Documents/Study/MSU_interpol/training/wandb_local_logs/MSU_interpol_by_energy/cerulean-flower-9/checkpoints/exp_name=0val_loss=0.07055-epoch=01.ckpt\n",
      "2024-04-10 11:14:12,376 : INFO : epoch: 2; val_loss: 0.06987985223531723\n",
      "2024-04-10 11:14:12,379 : INFO : epoch: 2; train_loss: 0.028486983850598335\n"
     ]
    },
    {
     "name": "stderr",
     "output_type": "stream",
     "text": [
      "Metric val_loss improved by 0.001 >= min_delta = 1e-05. New best score: 0.070\n"
     ]
    },
    {
     "name": "stdout",
     "output_type": "stream",
     "text": [
      "2024-04-10 11:14:12,467 : DEBUG : open file: /Users/andrey.golda/Documents/Study/MSU_interpol/training/wandb_local_logs/MSU_interpol_by_energy/cerulean-flower-9/checkpoints/exp_name=0val_loss=0.06988-epoch=02.ckpt\n",
      "2024-04-10 11:14:32,843 : INFO : epoch: 3; val_loss: 0.07011313736438751\n",
      "2024-04-10 11:14:32,846 : INFO : epoch: 3; train_loss: 0.02811228297650814\n",
      "2024-04-10 11:14:32,928 : DEBUG : open file: /Users/andrey.golda/Documents/Study/MSU_interpol/training/wandb_local_logs/MSU_interpol_by_energy/cerulean-flower-9/checkpoints/exp_name=0val_loss=0.07011-epoch=03.ckpt\n",
      "2024-04-10 11:14:53,279 : INFO : epoch: 4; val_loss: 0.069628044962883\n",
      "2024-04-10 11:14:53,282 : INFO : epoch: 4; train_loss: 0.027862366288900375\n"
     ]
    },
    {
     "name": "stderr",
     "output_type": "stream",
     "text": [
      "Metric val_loss improved by 0.000 >= min_delta = 1e-05. New best score: 0.070\n"
     ]
    },
    {
     "name": "stdout",
     "output_type": "stream",
     "text": [
      "2024-04-10 11:14:53,368 : DEBUG : open file: /Users/andrey.golda/Documents/Study/MSU_interpol/training/wandb_local_logs/MSU_interpol_by_energy/cerulean-flower-9/checkpoints/exp_name=0val_loss=0.06963-epoch=04.ckpt\n",
      "2024-04-10 11:15:14,491 : INFO : epoch: 5; val_loss: 0.06886707991361618\n",
      "2024-04-10 11:15:14,494 : INFO : epoch: 5; train_loss: 0.027356453239917755\n"
     ]
    },
    {
     "name": "stderr",
     "output_type": "stream",
     "text": [
      "Metric val_loss improved by 0.001 >= min_delta = 1e-05. New best score: 0.069\n"
     ]
    },
    {
     "name": "stdout",
     "output_type": "stream",
     "text": [
      "2024-04-10 11:15:14,579 : DEBUG : open file: /Users/andrey.golda/Documents/Study/MSU_interpol/training/wandb_local_logs/MSU_interpol_by_energy/cerulean-flower-9/checkpoints/exp_name=0val_loss=0.06887-epoch=05.ckpt\n",
      "2024-04-10 11:15:36,380 : INFO : epoch: 6; val_loss: 0.06725610792636871\n",
      "2024-04-10 11:15:36,383 : INFO : epoch: 6; train_loss: 0.0261636134237051\n"
     ]
    },
    {
     "name": "stderr",
     "output_type": "stream",
     "text": [
      "Metric val_loss improved by 0.002 >= min_delta = 1e-05. New best score: 0.067\n"
     ]
    },
    {
     "name": "stdout",
     "output_type": "stream",
     "text": [
      "2024-04-10 11:15:36,468 : DEBUG : open file: /Users/andrey.golda/Documents/Study/MSU_interpol/training/wandb_local_logs/MSU_interpol_by_energy/cerulean-flower-9/checkpoints/exp_name=0val_loss=0.06726-epoch=06.ckpt\n",
      "2024-04-10 11:15:57,806 : INFO : epoch: 7; val_loss: 0.06718708574771881\n",
      "2024-04-10 11:15:57,809 : INFO : epoch: 7; train_loss: 0.02451673522591591\n"
     ]
    },
    {
     "name": "stderr",
     "output_type": "stream",
     "text": [
      "Metric val_loss improved by 0.000 >= min_delta = 1e-05. New best score: 0.067\n"
     ]
    },
    {
     "name": "stdout",
     "output_type": "stream",
     "text": [
      "2024-04-10 11:15:57,894 : DEBUG : open file: /Users/andrey.golda/Documents/Study/MSU_interpol/training/wandb_local_logs/MSU_interpol_by_energy/cerulean-flower-9/checkpoints/exp_name=0val_loss=0.06719-epoch=07.ckpt\n",
      "2024-04-10 11:16:19,105 : INFO : epoch: 8; val_loss: 0.06732043623924255\n",
      "2024-04-10 11:16:19,108 : INFO : epoch: 8; train_loss: 0.023718975484371185\n",
      "2024-04-10 11:16:19,209 : DEBUG : open file: /Users/andrey.golda/Documents/Study/MSU_interpol/training/wandb_local_logs/MSU_interpol_by_energy/cerulean-flower-9/checkpoints/exp_name=0val_loss=0.06732-epoch=08.ckpt\n",
      "2024-04-10 11:16:40,410 : INFO : epoch: 9; val_loss: 0.06818819046020508\n",
      "2024-04-10 11:16:40,413 : INFO : epoch: 9; train_loss: 0.02339085005223751\n",
      "2024-04-10 11:17:01,621 : INFO : epoch: 10; val_loss: 0.06679550558328629\n",
      "2024-04-10 11:17:01,624 : INFO : epoch: 10; train_loss: 0.023589307442307472\n"
     ]
    },
    {
     "name": "stderr",
     "output_type": "stream",
     "text": [
      "Metric val_loss improved by 0.000 >= min_delta = 1e-05. New best score: 0.067\n"
     ]
    },
    {
     "name": "stdout",
     "output_type": "stream",
     "text": [
      "2024-04-10 11:17:01,709 : DEBUG : open file: /Users/andrey.golda/Documents/Study/MSU_interpol/training/wandb_local_logs/MSU_interpol_by_energy/cerulean-flower-9/checkpoints/exp_name=0val_loss=0.06680-epoch=10.ckpt\n",
      "2024-04-10 11:17:23,041 : INFO : epoch: 11; val_loss: 0.06448836624622345\n",
      "2024-04-10 11:17:23,044 : INFO : epoch: 11; train_loss: 0.022563323378562927\n"
     ]
    },
    {
     "name": "stderr",
     "output_type": "stream",
     "text": [
      "Metric val_loss improved by 0.002 >= min_delta = 1e-05. New best score: 0.064\n"
     ]
    },
    {
     "name": "stdout",
     "output_type": "stream",
     "text": [
      "2024-04-10 11:17:23,132 : DEBUG : open file: /Users/andrey.golda/Documents/Study/MSU_interpol/training/wandb_local_logs/MSU_interpol_by_energy/cerulean-flower-9/checkpoints/exp_name=0val_loss=0.06449-epoch=11.ckpt\n",
      "2024-04-10 11:17:44,607 : INFO : epoch: 12; val_loss: 0.06435898691415787\n",
      "2024-04-10 11:17:44,610 : INFO : epoch: 12; train_loss: 0.022245259955525398\n"
     ]
    },
    {
     "name": "stderr",
     "output_type": "stream",
     "text": [
      "Metric val_loss improved by 0.000 >= min_delta = 1e-05. New best score: 0.064\n"
     ]
    },
    {
     "name": "stdout",
     "output_type": "stream",
     "text": [
      "2024-04-10 11:17:44,695 : DEBUG : open file: /Users/andrey.golda/Documents/Study/MSU_interpol/training/wandb_local_logs/MSU_interpol_by_energy/cerulean-flower-9/checkpoints/exp_name=0val_loss=0.06436-epoch=12.ckpt\n",
      "2024-04-10 11:18:05,898 : INFO : epoch: 13; val_loss: 0.06420937180519104\n",
      "2024-04-10 11:18:05,901 : INFO : epoch: 13; train_loss: 0.02210848033428192\n"
     ]
    },
    {
     "name": "stderr",
     "output_type": "stream",
     "text": [
      "Metric val_loss improved by 0.000 >= min_delta = 1e-05. New best score: 0.064\n"
     ]
    },
    {
     "name": "stdout",
     "output_type": "stream",
     "text": [
      "2024-04-10 11:18:05,984 : DEBUG : open file: /Users/andrey.golda/Documents/Study/MSU_interpol/training/wandb_local_logs/MSU_interpol_by_energy/cerulean-flower-9/checkpoints/exp_name=0val_loss=0.06421-epoch=13.ckpt\n",
      "2024-04-10 11:18:28,785 : INFO : epoch: 14; val_loss: 0.06415291130542755\n",
      "2024-04-10 11:18:28,788 : INFO : epoch: 14; train_loss: 0.02193583734333515\n"
     ]
    },
    {
     "name": "stderr",
     "output_type": "stream",
     "text": [
      "Metric val_loss improved by 0.000 >= min_delta = 1e-05. New best score: 0.064\n"
     ]
    },
    {
     "name": "stdout",
     "output_type": "stream",
     "text": [
      "2024-04-10 11:18:28,875 : DEBUG : open file: /Users/andrey.golda/Documents/Study/MSU_interpol/training/wandb_local_logs/MSU_interpol_by_energy/cerulean-flower-9/checkpoints/exp_name=0val_loss=0.06415-epoch=14.ckpt\n",
      "2024-04-10 11:18:52,559 : INFO : epoch: 15; val_loss: 0.06402935087680817\n",
      "2024-04-10 11:18:52,562 : INFO : epoch: 15; train_loss: 0.02179982326924801\n"
     ]
    },
    {
     "name": "stderr",
     "output_type": "stream",
     "text": [
      "Metric val_loss improved by 0.000 >= min_delta = 1e-05. New best score: 0.064\n"
     ]
    },
    {
     "name": "stdout",
     "output_type": "stream",
     "text": [
      "2024-04-10 11:18:52,660 : DEBUG : open file: /Users/andrey.golda/Documents/Study/MSU_interpol/training/wandb_local_logs/MSU_interpol_by_energy/cerulean-flower-9/checkpoints/exp_name=0val_loss=0.06403-epoch=15.ckpt\n",
      "2024-04-10 11:19:20,937 : INFO : epoch: 16; val_loss: 0.06394141912460327\n",
      "2024-04-10 11:19:20,941 : INFO : epoch: 16; train_loss: 0.02171800471842289\n"
     ]
    },
    {
     "name": "stderr",
     "output_type": "stream",
     "text": [
      "Metric val_loss improved by 0.000 >= min_delta = 1e-05. New best score: 0.064\n"
     ]
    },
    {
     "name": "stdout",
     "output_type": "stream",
     "text": [
      "2024-04-10 11:19:21,057 : DEBUG : open file: /Users/andrey.golda/Documents/Study/MSU_interpol/training/wandb_local_logs/MSU_interpol_by_energy/cerulean-flower-9/checkpoints/exp_name=0val_loss=0.06394-epoch=16.ckpt\n",
      "2024-04-10 11:19:51,128 : INFO : epoch: 17; val_loss: 0.0637909471988678\n",
      "2024-04-10 11:19:51,132 : INFO : epoch: 17; train_loss: 0.021597571671009064\n"
     ]
    },
    {
     "name": "stderr",
     "output_type": "stream",
     "text": [
      "Metric val_loss improved by 0.000 >= min_delta = 1e-05. New best score: 0.064\n"
     ]
    },
    {
     "name": "stdout",
     "output_type": "stream",
     "text": [
      "2024-04-10 11:19:51,243 : DEBUG : open file: /Users/andrey.golda/Documents/Study/MSU_interpol/training/wandb_local_logs/MSU_interpol_by_energy/cerulean-flower-9/checkpoints/exp_name=0val_loss=0.06379-epoch=17.ckpt\n",
      "2024-04-10 11:20:20,618 : INFO : epoch: 18; val_loss: 0.06369984894990921\n",
      "2024-04-10 11:20:20,622 : INFO : epoch: 18; train_loss: 0.021500246599316597\n"
     ]
    },
    {
     "name": "stderr",
     "output_type": "stream",
     "text": [
      "Metric val_loss improved by 0.000 >= min_delta = 1e-05. New best score: 0.064\n"
     ]
    },
    {
     "name": "stdout",
     "output_type": "stream",
     "text": [
      "2024-04-10 11:20:20,743 : DEBUG : open file: /Users/andrey.golda/Documents/Study/MSU_interpol/training/wandb_local_logs/MSU_interpol_by_energy/cerulean-flower-9/checkpoints/exp_name=0val_loss=0.06370-epoch=18.ckpt\n",
      "2024-04-10 11:20:51,480 : INFO : epoch: 19; val_loss: 0.06347396969795227\n",
      "2024-04-10 11:20:51,484 : INFO : epoch: 19; train_loss: 0.02137075550854206\n"
     ]
    },
    {
     "name": "stderr",
     "output_type": "stream",
     "text": [
      "Metric val_loss improved by 0.000 >= min_delta = 1e-05. New best score: 0.063\n"
     ]
    },
    {
     "name": "stdout",
     "output_type": "stream",
     "text": [
      "2024-04-10 11:20:51,595 : DEBUG : open file: /Users/andrey.golda/Documents/Study/MSU_interpol/training/wandb_local_logs/MSU_interpol_by_energy/cerulean-flower-9/checkpoints/exp_name=0val_loss=0.06347-epoch=19.ckpt\n",
      "2024-04-10 11:21:20,606 : INFO : epoch: 20; val_loss: 0.06326332688331604\n",
      "2024-04-10 11:21:20,611 : INFO : epoch: 20; train_loss: 0.02120198868215084\n"
     ]
    },
    {
     "name": "stderr",
     "output_type": "stream",
     "text": [
      "Metric val_loss improved by 0.000 >= min_delta = 1e-05. New best score: 0.063\n"
     ]
    },
    {
     "name": "stdout",
     "output_type": "stream",
     "text": [
      "2024-04-10 11:21:20,737 : DEBUG : open file: /Users/andrey.golda/Documents/Study/MSU_interpol/training/wandb_local_logs/MSU_interpol_by_energy/cerulean-flower-9/checkpoints/exp_name=0val_loss=0.06326-epoch=20.ckpt\n",
      "2024-04-10 11:21:50,003 : INFO : epoch: 21; val_loss: 0.06294663995504379\n",
      "2024-04-10 11:21:50,007 : INFO : epoch: 21; train_loss: 0.020928846672177315\n"
     ]
    },
    {
     "name": "stderr",
     "output_type": "stream",
     "text": [
      "Metric val_loss improved by 0.000 >= min_delta = 1e-05. New best score: 0.063\n"
     ]
    },
    {
     "name": "stdout",
     "output_type": "stream",
     "text": [
      "2024-04-10 11:21:50,115 : DEBUG : open file: /Users/andrey.golda/Documents/Study/MSU_interpol/training/wandb_local_logs/MSU_interpol_by_energy/cerulean-flower-9/checkpoints/exp_name=0val_loss=0.06295-epoch=21.ckpt\n",
      "2024-04-10 11:22:17,834 : INFO : epoch: 22; val_loss: 0.06292213499546051\n",
      "2024-04-10 11:22:17,838 : INFO : epoch: 22; train_loss: 0.020823528990149498\n"
     ]
    },
    {
     "name": "stderr",
     "output_type": "stream",
     "text": [
      "Metric val_loss improved by 0.000 >= min_delta = 1e-05. New best score: 0.063\n"
     ]
    },
    {
     "name": "stdout",
     "output_type": "stream",
     "text": [
      "2024-04-10 11:22:17,936 : DEBUG : open file: /Users/andrey.golda/Documents/Study/MSU_interpol/training/wandb_local_logs/MSU_interpol_by_energy/cerulean-flower-9/checkpoints/exp_name=0val_loss=0.06292-epoch=22.ckpt\n",
      "2024-04-10 11:22:44,169 : INFO : epoch: 23; val_loss: 0.06288633495569229\n",
      "2024-04-10 11:22:44,172 : INFO : epoch: 23; train_loss: 0.020790811628103256\n"
     ]
    },
    {
     "name": "stderr",
     "output_type": "stream",
     "text": [
      "Metric val_loss improved by 0.000 >= min_delta = 1e-05. New best score: 0.063\n"
     ]
    },
    {
     "name": "stdout",
     "output_type": "stream",
     "text": [
      "2024-04-10 11:22:44,277 : DEBUG : open file: /Users/andrey.golda/Documents/Study/MSU_interpol/training/wandb_local_logs/MSU_interpol_by_energy/cerulean-flower-9/checkpoints/exp_name=0val_loss=0.06289-epoch=23.ckpt\n",
      "2024-04-10 11:23:12,448 : INFO : epoch: 24; val_loss: 0.06266718357801437\n",
      "2024-04-10 11:23:12,452 : INFO : epoch: 24; train_loss: 0.0206507109105587\n"
     ]
    },
    {
     "name": "stderr",
     "output_type": "stream",
     "text": [
      "Metric val_loss improved by 0.000 >= min_delta = 1e-05. New best score: 0.063\n"
     ]
    },
    {
     "name": "stdout",
     "output_type": "stream",
     "text": [
      "2024-04-10 11:23:12,571 : DEBUG : open file: /Users/andrey.golda/Documents/Study/MSU_interpol/training/wandb_local_logs/MSU_interpol_by_energy/cerulean-flower-9/checkpoints/exp_name=0val_loss=0.06267-epoch=24.ckpt\n",
      "2024-04-10 11:23:41,209 : INFO : epoch: 25; val_loss: 0.06271666288375854\n",
      "2024-04-10 11:23:41,214 : INFO : epoch: 25; train_loss: 0.020406944677233696\n",
      "2024-04-10 11:23:41,328 : DEBUG : open file: /Users/andrey.golda/Documents/Study/MSU_interpol/training/wandb_local_logs/MSU_interpol_by_energy/cerulean-flower-9/checkpoints/exp_name=0val_loss=0.06272-epoch=25.ckpt\n",
      "2024-04-10 11:24:10,368 : INFO : epoch: 26; val_loss: 0.06295320391654968\n",
      "2024-04-10 11:24:10,371 : INFO : epoch: 26; train_loss: 0.02022203989326954\n",
      "2024-04-10 11:24:38,118 : INFO : epoch: 27; val_loss: 0.06251460313796997\n",
      "2024-04-10 11:24:38,121 : INFO : epoch: 27; train_loss: 0.019939979538321495\n"
     ]
    },
    {
     "name": "stderr",
     "output_type": "stream",
     "text": [
      "Metric val_loss improved by 0.000 >= min_delta = 1e-05. New best score: 0.063\n"
     ]
    },
    {
     "name": "stdout",
     "output_type": "stream",
     "text": [
      "2024-04-10 11:24:38,217 : DEBUG : open file: /Users/andrey.golda/Documents/Study/MSU_interpol/training/wandb_local_logs/MSU_interpol_by_energy/cerulean-flower-9/checkpoints/exp_name=0val_loss=0.06251-epoch=27.ckpt\n",
      "2024-04-10 11:25:01,973 : INFO : epoch: 28; val_loss: 0.06154175475239754\n",
      "2024-04-10 11:25:01,976 : INFO : epoch: 28; train_loss: 0.019491052255034447\n"
     ]
    },
    {
     "name": "stderr",
     "output_type": "stream",
     "text": [
      "Metric val_loss improved by 0.001 >= min_delta = 1e-05. New best score: 0.062\n"
     ]
    },
    {
     "name": "stdout",
     "output_type": "stream",
     "text": [
      "2024-04-10 11:25:02,066 : DEBUG : open file: /Users/andrey.golda/Documents/Study/MSU_interpol/training/wandb_local_logs/MSU_interpol_by_energy/cerulean-flower-9/checkpoints/exp_name=0val_loss=0.06154-epoch=28.ckpt\n",
      "2024-04-10 11:25:25,245 : INFO : epoch: 29; val_loss: 0.061586882919073105\n",
      "2024-04-10 11:25:25,248 : INFO : epoch: 29; train_loss: 0.01940825767815113\n",
      "2024-04-10 11:25:25,337 : DEBUG : open file: /Users/andrey.golda/Documents/Study/MSU_interpol/training/wandb_local_logs/MSU_interpol_by_energy/cerulean-flower-9/checkpoints/exp_name=0val_loss=0.06159-epoch=29.ckpt\n",
      "2024-04-10 11:25:46,835 : INFO : epoch: 30; val_loss: 0.061310943216085434\n",
      "2024-04-10 11:25:46,838 : INFO : epoch: 30; train_loss: 0.019314834848046303\n"
     ]
    },
    {
     "name": "stderr",
     "output_type": "stream",
     "text": [
      "Metric val_loss improved by 0.000 >= min_delta = 1e-05. New best score: 0.061\n"
     ]
    },
    {
     "name": "stdout",
     "output_type": "stream",
     "text": [
      "2024-04-10 11:25:46,921 : DEBUG : open file: /Users/andrey.golda/Documents/Study/MSU_interpol/training/wandb_local_logs/MSU_interpol_by_energy/cerulean-flower-9/checkpoints/exp_name=0val_loss=0.06131-epoch=30.ckpt\n",
      "2024-04-10 11:26:08,523 : INFO : epoch: 31; val_loss: 0.0612652562558651\n",
      "2024-04-10 11:26:08,527 : INFO : epoch: 31; train_loss: 0.019176317378878593\n"
     ]
    },
    {
     "name": "stderr",
     "output_type": "stream",
     "text": [
      "Metric val_loss improved by 0.000 >= min_delta = 1e-05. New best score: 0.061\n"
     ]
    },
    {
     "name": "stdout",
     "output_type": "stream",
     "text": [
      "2024-04-10 11:26:08,624 : DEBUG : open file: /Users/andrey.golda/Documents/Study/MSU_interpol/training/wandb_local_logs/MSU_interpol_by_energy/cerulean-flower-9/checkpoints/exp_name=0val_loss=0.06127-epoch=31.ckpt\n",
      "2024-04-10 11:26:32,042 : INFO : epoch: 32; val_loss: 0.06126832589507103\n",
      "2024-04-10 11:26:32,045 : INFO : epoch: 32; train_loss: 0.019159574061632156\n",
      "2024-04-10 11:26:32,141 : DEBUG : open file: /Users/andrey.golda/Documents/Study/MSU_interpol/training/wandb_local_logs/MSU_interpol_by_energy/cerulean-flower-9/checkpoints/exp_name=0val_loss=0.06127-epoch=32.ckpt\n",
      "2024-04-10 11:26:58,981 : INFO : epoch: 33; val_loss: 0.06114043667912483\n",
      "2024-04-10 11:26:58,985 : INFO : epoch: 33; train_loss: 0.019081780686974525\n"
     ]
    },
    {
     "name": "stderr",
     "output_type": "stream",
     "text": [
      "Metric val_loss improved by 0.000 >= min_delta = 1e-05. New best score: 0.061\n"
     ]
    },
    {
     "name": "stdout",
     "output_type": "stream",
     "text": [
      "2024-04-10 11:26:59,088 : DEBUG : open file: /Users/andrey.golda/Documents/Study/MSU_interpol/training/wandb_local_logs/MSU_interpol_by_energy/cerulean-flower-9/checkpoints/exp_name=0val_loss=0.06114-epoch=33.ckpt\n",
      "2024-04-10 11:27:24,629 : INFO : epoch: 34; val_loss: 0.061149176210165024\n",
      "2024-04-10 11:27:24,632 : INFO : epoch: 34; train_loss: 0.019048210233449936\n",
      "2024-04-10 11:27:24,731 : DEBUG : open file: /Users/andrey.golda/Documents/Study/MSU_interpol/training/wandb_local_logs/MSU_interpol_by_energy/cerulean-flower-9/checkpoints/exp_name=0val_loss=0.06115-epoch=34.ckpt\n",
      "2024-04-10 11:27:48,206 : INFO : epoch: 35; val_loss: 0.06108029559254646\n",
      "2024-04-10 11:27:48,209 : INFO : epoch: 35; train_loss: 0.018938235938549042\n"
     ]
    },
    {
     "name": "stderr",
     "output_type": "stream",
     "text": [
      "Metric val_loss improved by 0.000 >= min_delta = 1e-05. New best score: 0.061\n"
     ]
    },
    {
     "name": "stdout",
     "output_type": "stream",
     "text": [
      "2024-04-10 11:27:48,299 : DEBUG : open file: /Users/andrey.golda/Documents/Study/MSU_interpol/training/wandb_local_logs/MSU_interpol_by_energy/cerulean-flower-9/checkpoints/exp_name=0val_loss=0.06108-epoch=35.ckpt\n",
      "2024-04-10 11:28:09,728 : INFO : epoch: 36; val_loss: 0.06103867292404175\n",
      "2024-04-10 11:28:09,731 : INFO : epoch: 36; train_loss: 0.018829919397830963\n"
     ]
    },
    {
     "name": "stderr",
     "output_type": "stream",
     "text": [
      "Metric val_loss improved by 0.000 >= min_delta = 1e-05. New best score: 0.061\n"
     ]
    },
    {
     "name": "stdout",
     "output_type": "stream",
     "text": [
      "2024-04-10 11:28:09,825 : DEBUG : open file: /Users/andrey.golda/Documents/Study/MSU_interpol/training/wandb_local_logs/MSU_interpol_by_energy/cerulean-flower-9/checkpoints/exp_name=0val_loss=0.06104-epoch=36.ckpt\n",
      "2024-04-10 11:28:31,643 : INFO : epoch: 37; val_loss: 0.06111334264278412\n",
      "2024-04-10 11:28:31,646 : INFO : epoch: 37; train_loss: 0.01884600520133972\n",
      "2024-04-10 11:28:31,731 : DEBUG : open file: /Users/andrey.golda/Documents/Study/MSU_interpol/training/wandb_local_logs/MSU_interpol_by_energy/cerulean-flower-9/checkpoints/exp_name=0val_loss=0.06111-epoch=37.ckpt\n",
      "2024-04-10 11:28:53,793 : INFO : epoch: 38; val_loss: 0.06103233993053436\n",
      "2024-04-10 11:28:53,796 : INFO : epoch: 38; train_loss: 0.018799040466547012\n",
      "2024-04-10 11:28:53,881 : DEBUG : open file: /Users/andrey.golda/Documents/Study/MSU_interpol/training/wandb_local_logs/MSU_interpol_by_energy/cerulean-flower-9/checkpoints/exp_name=0val_loss=0.06103-epoch=38.ckpt\n",
      "2024-04-10 11:29:20,249 : INFO : epoch: 39; val_loss: 0.060900501906871796\n",
      "2024-04-10 11:29:20,252 : INFO : epoch: 39; train_loss: 0.018716884776949883\n"
     ]
    },
    {
     "name": "stderr",
     "output_type": "stream",
     "text": [
      "Metric val_loss improved by 0.000 >= min_delta = 1e-05. New best score: 0.061\n"
     ]
    },
    {
     "name": "stdout",
     "output_type": "stream",
     "text": [
      "2024-04-10 11:29:20,354 : DEBUG : open file: /Users/andrey.golda/Documents/Study/MSU_interpol/training/wandb_local_logs/MSU_interpol_by_energy/cerulean-flower-9/checkpoints/exp_name=0val_loss=0.06090-epoch=39.ckpt\n",
      "2024-04-10 11:29:47,045 : INFO : epoch: 40; val_loss: 0.060882050544023514\n",
      "2024-04-10 11:29:47,049 : INFO : epoch: 40; train_loss: 0.01863289065659046\n"
     ]
    },
    {
     "name": "stderr",
     "output_type": "stream",
     "text": [
      "Metric val_loss improved by 0.000 >= min_delta = 1e-05. New best score: 0.061\n"
     ]
    },
    {
     "name": "stdout",
     "output_type": "stream",
     "text": [
      "2024-04-10 11:29:47,152 : DEBUG : open file: /Users/andrey.golda/Documents/Study/MSU_interpol/training/wandb_local_logs/MSU_interpol_by_energy/cerulean-flower-9/checkpoints/exp_name=0val_loss=0.06088-epoch=40.ckpt\n",
      "2024-04-10 11:30:17,342 : INFO : epoch: 41; val_loss: 0.06077529862523079\n",
      "2024-04-10 11:30:17,347 : INFO : epoch: 41; train_loss: 0.018561001867055893\n"
     ]
    },
    {
     "name": "stderr",
     "output_type": "stream",
     "text": [
      "Metric val_loss improved by 0.000 >= min_delta = 1e-05. New best score: 0.061\n"
     ]
    },
    {
     "name": "stdout",
     "output_type": "stream",
     "text": [
      "2024-04-10 11:30:17,505 : DEBUG : open file: /Users/andrey.golda/Documents/Study/MSU_interpol/training/wandb_local_logs/MSU_interpol_by_energy/cerulean-flower-9/checkpoints/exp_name=0val_loss=0.06078-epoch=41.ckpt\n",
      "2024-04-10 11:30:47,090 : INFO : epoch: 42; val_loss: 0.06080351397395134\n",
      "2024-04-10 11:30:47,093 : INFO : epoch: 42; train_loss: 0.018583333119750023\n",
      "2024-04-10 11:30:47,200 : DEBUG : open file: /Users/andrey.golda/Documents/Study/MSU_interpol/training/wandb_local_logs/MSU_interpol_by_energy/cerulean-flower-9/checkpoints/exp_name=0val_loss=0.06080-epoch=42.ckpt\n",
      "2024-04-10 11:31:13,727 : INFO : epoch: 43; val_loss: 0.06080766022205353\n",
      "2024-04-10 11:31:13,731 : INFO : epoch: 43; train_loss: 0.018504254519939423\n",
      "2024-04-10 11:31:13,832 : DEBUG : open file: /Users/andrey.golda/Documents/Study/MSU_interpol/training/wandb_local_logs/MSU_interpol_by_energy/cerulean-flower-9/checkpoints/exp_name=0val_loss=0.06081-epoch=43.ckpt\n",
      "2024-04-10 11:31:39,061 : INFO : epoch: 44; val_loss: 0.060704708099365234\n",
      "2024-04-10 11:31:39,065 : INFO : epoch: 44; train_loss: 0.018427884206175804\n"
     ]
    },
    {
     "name": "stderr",
     "output_type": "stream",
     "text": [
      "Metric val_loss improved by 0.000 >= min_delta = 1e-05. New best score: 0.061\n"
     ]
    },
    {
     "name": "stdout",
     "output_type": "stream",
     "text": [
      "2024-04-10 11:31:39,162 : DEBUG : open file: /Users/andrey.golda/Documents/Study/MSU_interpol/training/wandb_local_logs/MSU_interpol_by_energy/cerulean-flower-9/checkpoints/exp_name=0val_loss=0.06070-epoch=44.ckpt\n",
      "2024-04-10 11:32:02,104 : INFO : epoch: 45; val_loss: 0.06061827391386032\n",
      "2024-04-10 11:32:02,107 : INFO : epoch: 45; train_loss: 0.01836489327251911\n"
     ]
    },
    {
     "name": "stderr",
     "output_type": "stream",
     "text": [
      "Metric val_loss improved by 0.000 >= min_delta = 1e-05. New best score: 0.061\n"
     ]
    },
    {
     "name": "stdout",
     "output_type": "stream",
     "text": [
      "2024-04-10 11:32:02,194 : DEBUG : open file: /Users/andrey.golda/Documents/Study/MSU_interpol/training/wandb_local_logs/MSU_interpol_by_energy/cerulean-flower-9/checkpoints/exp_name=0val_loss=0.06062-epoch=45.ckpt\n",
      "2024-04-10 11:32:23,543 : INFO : epoch: 46; val_loss: 0.06035833805799484\n",
      "2024-04-10 11:32:23,545 : INFO : epoch: 46; train_loss: 0.018183397129178047\n"
     ]
    },
    {
     "name": "stderr",
     "output_type": "stream",
     "text": [
      "Metric val_loss improved by 0.000 >= min_delta = 1e-05. New best score: 0.060\n"
     ]
    },
    {
     "name": "stdout",
     "output_type": "stream",
     "text": [
      "2024-04-10 11:32:23,632 : DEBUG : open file: /Users/andrey.golda/Documents/Study/MSU_interpol/training/wandb_local_logs/MSU_interpol_by_energy/cerulean-flower-9/checkpoints/exp_name=0val_loss=0.06036-epoch=46.ckpt\n",
      "2024-04-10 11:32:44,313 : INFO : epoch: 47; val_loss: 0.06035266071557999\n",
      "2024-04-10 11:32:44,316 : INFO : epoch: 47; train_loss: 0.01813567616045475\n",
      "2024-04-10 11:32:44,397 : DEBUG : open file: /Users/andrey.golda/Documents/Study/MSU_interpol/training/wandb_local_logs/MSU_interpol_by_energy/cerulean-flower-9/checkpoints/exp_name=0val_loss=0.06035-epoch=47.ckpt\n",
      "2024-04-10 11:33:04,936 : INFO : epoch: 48; val_loss: 0.06027989089488983\n",
      "2024-04-10 11:33:04,938 : INFO : epoch: 48; train_loss: 0.018112260848283768\n"
     ]
    },
    {
     "name": "stderr",
     "output_type": "stream",
     "text": [
      "Metric val_loss improved by 0.000 >= min_delta = 1e-05. New best score: 0.060\n"
     ]
    },
    {
     "name": "stdout",
     "output_type": "stream",
     "text": [
      "2024-04-10 11:33:05,020 : DEBUG : open file: /Users/andrey.golda/Documents/Study/MSU_interpol/training/wandb_local_logs/MSU_interpol_by_energy/cerulean-flower-9/checkpoints/exp_name=0val_loss=0.06028-epoch=48.ckpt\n",
      "2024-04-10 11:33:25,473 : INFO : epoch: 49; val_loss: 0.06029186770319939\n",
      "2024-04-10 11:33:25,476 : INFO : epoch: 49; train_loss: 0.018095163628458977\n",
      "2024-04-10 11:33:25,561 : DEBUG : open file: /Users/andrey.golda/Documents/Study/MSU_interpol/training/wandb_local_logs/MSU_interpol_by_energy/cerulean-flower-9/checkpoints/exp_name=0val_loss=0.06029-epoch=49.ckpt\n",
      "2024-04-10 11:33:46,253 : INFO : epoch: 50; val_loss: 0.06031830608844757\n",
      "2024-04-10 11:33:46,256 : INFO : epoch: 50; train_loss: 0.018069108948111534\n",
      "2024-04-10 11:33:46,337 : DEBUG : open file: /Users/andrey.golda/Documents/Study/MSU_interpol/training/wandb_local_logs/MSU_interpol_by_energy/cerulean-flower-9/checkpoints/exp_name=0val_loss=0.06032-epoch=50.ckpt\n",
      "2024-04-10 11:34:06,859 : INFO : epoch: 51; val_loss: 0.06025540456175804\n",
      "2024-04-10 11:34:06,862 : INFO : epoch: 51; train_loss: 0.018049735575914383\n"
     ]
    },
    {
     "name": "stderr",
     "output_type": "stream",
     "text": [
      "Metric val_loss improved by 0.000 >= min_delta = 1e-05. New best score: 0.060\n"
     ]
    },
    {
     "name": "stdout",
     "output_type": "stream",
     "text": [
      "2024-04-10 11:34:06,944 : DEBUG : open file: /Users/andrey.golda/Documents/Study/MSU_interpol/training/wandb_local_logs/MSU_interpol_by_energy/cerulean-flower-9/checkpoints/exp_name=0val_loss=0.06026-epoch=51.ckpt\n",
      "2024-04-10 11:34:27,375 : INFO : epoch: 52; val_loss: 0.06023272126913071\n",
      "2024-04-10 11:34:27,378 : INFO : epoch: 52; train_loss: 0.018007349222898483\n"
     ]
    },
    {
     "name": "stderr",
     "output_type": "stream",
     "text": [
      "Metric val_loss improved by 0.000 >= min_delta = 1e-05. New best score: 0.060\n"
     ]
    },
    {
     "name": "stdout",
     "output_type": "stream",
     "text": [
      "2024-04-10 11:34:27,458 : DEBUG : open file: /Users/andrey.golda/Documents/Study/MSU_interpol/training/wandb_local_logs/MSU_interpol_by_energy/cerulean-flower-9/checkpoints/exp_name=0val_loss=0.06023-epoch=52.ckpt\n",
      "2024-04-10 11:34:48,134 : INFO : epoch: 53; val_loss: 0.06023542210459709\n",
      "2024-04-10 11:34:48,137 : INFO : epoch: 53; train_loss: 0.01800478994846344\n",
      "2024-04-10 11:34:48,225 : DEBUG : open file: /Users/andrey.golda/Documents/Study/MSU_interpol/training/wandb_local_logs/MSU_interpol_by_energy/cerulean-flower-9/checkpoints/exp_name=0val_loss=0.06024-epoch=53.ckpt\n",
      "2024-04-10 11:35:10,740 : INFO : epoch: 54; val_loss: 0.06022695451974869\n",
      "2024-04-10 11:35:10,744 : INFO : epoch: 54; train_loss: 0.017985031008720398\n",
      "2024-04-10 11:35:10,834 : DEBUG : open file: /Users/andrey.golda/Documents/Study/MSU_interpol/training/wandb_local_logs/MSU_interpol_by_energy/cerulean-flower-9/checkpoints/exp_name=0val_loss=0.06023-epoch=54.ckpt\n",
      "2024-04-10 11:35:35,302 : INFO : epoch: 55; val_loss: 0.06020056828856468\n",
      "2024-04-10 11:35:35,305 : INFO : epoch: 55; train_loss: 0.017952485010027885\n"
     ]
    },
    {
     "name": "stderr",
     "output_type": "stream",
     "text": [
      "Metric val_loss improved by 0.000 >= min_delta = 1e-05. New best score: 0.060\n"
     ]
    },
    {
     "name": "stdout",
     "output_type": "stream",
     "text": [
      "2024-04-10 11:35:35,404 : DEBUG : open file: /Users/andrey.golda/Documents/Study/MSU_interpol/training/wandb_local_logs/MSU_interpol_by_energy/cerulean-flower-9/checkpoints/exp_name=0val_loss=0.06020-epoch=55.ckpt\n",
      "2024-04-10 11:36:03,878 : INFO : epoch: 56; val_loss: 0.060193981975317\n",
      "2024-04-10 11:36:03,884 : INFO : epoch: 56; train_loss: 0.01793118380010128\n",
      "2024-04-10 11:36:04,033 : DEBUG : open file: /Users/andrey.golda/Documents/Study/MSU_interpol/training/wandb_local_logs/MSU_interpol_by_energy/cerulean-flower-9/checkpoints/exp_name=0val_loss=0.06019-epoch=56.ckpt\n",
      "2024-04-10 11:36:42,636 : INFO : epoch: 57; val_loss: 0.060164935886859894\n",
      "2024-04-10 11:36:42,641 : INFO : epoch: 57; train_loss: 0.017922943457961082\n"
     ]
    },
    {
     "name": "stderr",
     "output_type": "stream",
     "text": [
      "Metric val_loss improved by 0.000 >= min_delta = 1e-05. New best score: 0.060\n"
     ]
    },
    {
     "name": "stdout",
     "output_type": "stream",
     "text": [
      "2024-04-10 11:36:42,781 : DEBUG : open file: /Users/andrey.golda/Documents/Study/MSU_interpol/training/wandb_local_logs/MSU_interpol_by_energy/cerulean-flower-9/checkpoints/exp_name=0val_loss=0.06016-epoch=57.ckpt\n",
      "2024-04-10 11:37:14,809 : INFO : epoch: 58; val_loss: 0.060211680829524994\n",
      "2024-04-10 11:37:14,813 : INFO : epoch: 58; train_loss: 0.01792326755821705\n",
      "2024-04-10 11:37:39,257 : INFO : epoch: 59; val_loss: 0.060196418315172195\n",
      "2024-04-10 11:37:39,260 : INFO : epoch: 59; train_loss: 0.017884615808725357\n",
      "2024-04-10 11:37:39,345 : DEBUG : open file: /Users/andrey.golda/Documents/Study/MSU_interpol/training/wandb_local_logs/MSU_interpol_by_energy/cerulean-flower-9/checkpoints/exp_name=0val_loss=0.06020-epoch=59.ckpt\n",
      "2024-04-10 11:38:03,003 : INFO : epoch: 60; val_loss: 0.06011546403169632\n",
      "2024-04-10 11:38:03,006 : INFO : epoch: 60; train_loss: 0.017850613221526146\n"
     ]
    },
    {
     "name": "stderr",
     "output_type": "stream",
     "text": [
      "Metric val_loss improved by 0.000 >= min_delta = 1e-05. New best score: 0.060\n"
     ]
    },
    {
     "name": "stdout",
     "output_type": "stream",
     "text": [
      "2024-04-10 11:38:03,097 : DEBUG : open file: /Users/andrey.golda/Documents/Study/MSU_interpol/training/wandb_local_logs/MSU_interpol_by_energy/cerulean-flower-9/checkpoints/exp_name=0val_loss=0.06012-epoch=60.ckpt\n",
      "2024-04-10 11:38:25,610 : INFO : epoch: 61; val_loss: 0.06009828671813011\n",
      "2024-04-10 11:38:25,614 : INFO : epoch: 61; train_loss: 0.01781163550913334\n"
     ]
    },
    {
     "name": "stderr",
     "output_type": "stream",
     "text": [
      "Metric val_loss improved by 0.000 >= min_delta = 1e-05. New best score: 0.060\n"
     ]
    },
    {
     "name": "stdout",
     "output_type": "stream",
     "text": [
      "2024-04-10 11:38:25,699 : DEBUG : open file: /Users/andrey.golda/Documents/Study/MSU_interpol/training/wandb_local_logs/MSU_interpol_by_energy/cerulean-flower-9/checkpoints/exp_name=0val_loss=0.06010-epoch=61.ckpt\n",
      "2024-04-10 11:38:48,139 : INFO : epoch: 62; val_loss: 0.060134392231702805\n",
      "2024-04-10 11:38:48,142 : INFO : epoch: 62; train_loss: 0.01780768670141697\n",
      "2024-04-10 11:38:48,227 : DEBUG : open file: /Users/andrey.golda/Documents/Study/MSU_interpol/training/wandb_local_logs/MSU_interpol_by_energy/cerulean-flower-9/checkpoints/exp_name=0val_loss=0.06013-epoch=62.ckpt\n",
      "2024-04-10 11:39:09,371 : INFO : epoch: 63; val_loss: 0.05985080450773239\n",
      "2024-04-10 11:39:09,374 : INFO : epoch: 63; train_loss: 0.017658796161413193\n"
     ]
    },
    {
     "name": "stderr",
     "output_type": "stream",
     "text": [
      "Metric val_loss improved by 0.000 >= min_delta = 1e-05. New best score: 0.060\n"
     ]
    },
    {
     "name": "stdout",
     "output_type": "stream",
     "text": [
      "2024-04-10 11:39:09,457 : DEBUG : open file: /Users/andrey.golda/Documents/Study/MSU_interpol/training/wandb_local_logs/MSU_interpol_by_energy/cerulean-flower-9/checkpoints/exp_name=0val_loss=0.05985-epoch=63.ckpt\n",
      "2024-04-10 11:39:29,521 : INFO : epoch: 64; val_loss: 0.05987101420760155\n",
      "2024-04-10 11:39:29,524 : INFO : epoch: 64; train_loss: 0.01763593778014183\n",
      "2024-04-10 11:39:29,603 : DEBUG : open file: /Users/andrey.golda/Documents/Study/MSU_interpol/training/wandb_local_logs/MSU_interpol_by_energy/cerulean-flower-9/checkpoints/exp_name=0val_loss=0.05987-epoch=64.ckpt\n",
      "2024-04-10 11:39:49,063 : INFO : epoch: 65; val_loss: 0.05983985960483551\n",
      "2024-04-10 11:39:49,066 : INFO : epoch: 65; train_loss: 0.01761545240879059\n"
     ]
    },
    {
     "name": "stderr",
     "output_type": "stream",
     "text": [
      "Metric val_loss improved by 0.000 >= min_delta = 1e-05. New best score: 0.060\n"
     ]
    },
    {
     "name": "stdout",
     "output_type": "stream",
     "text": [
      "2024-04-10 11:39:49,141 : DEBUG : open file: /Users/andrey.golda/Documents/Study/MSU_interpol/training/wandb_local_logs/MSU_interpol_by_energy/cerulean-flower-9/checkpoints/exp_name=0val_loss=0.05984-epoch=65.ckpt\n",
      "2024-04-10 11:40:08,059 : INFO : epoch: 66; val_loss: 0.05983375757932663\n",
      "2024-04-10 11:40:08,061 : INFO : epoch: 66; train_loss: 0.017599498853087425\n",
      "2024-04-10 11:40:08,137 : DEBUG : open file: /Users/andrey.golda/Documents/Study/MSU_interpol/training/wandb_local_logs/MSU_interpol_by_energy/cerulean-flower-9/checkpoints/exp_name=0val_loss=0.05983-epoch=66.ckpt\n",
      "2024-04-10 11:40:26,909 : INFO : epoch: 67; val_loss: 0.05981666222214699\n",
      "2024-04-10 11:40:26,912 : INFO : epoch: 67; train_loss: 0.0175863578915596\n"
     ]
    },
    {
     "name": "stderr",
     "output_type": "stream",
     "text": [
      "Metric val_loss improved by 0.000 >= min_delta = 1e-05. New best score: 0.060\n"
     ]
    },
    {
     "name": "stdout",
     "output_type": "stream",
     "text": [
      "2024-04-10 11:40:27,010 : DEBUG : open file: /Users/andrey.golda/Documents/Study/MSU_interpol/training/wandb_local_logs/MSU_interpol_by_energy/cerulean-flower-9/checkpoints/exp_name=0val_loss=0.05982-epoch=67.ckpt\n",
      "2024-04-10 11:40:45,915 : INFO : epoch: 68; val_loss: 0.059806667268276215\n",
      "2024-04-10 11:40:45,918 : INFO : epoch: 68; train_loss: 0.017576029524207115\n",
      "2024-04-10 11:40:45,994 : DEBUG : open file: /Users/andrey.golda/Documents/Study/MSU_interpol/training/wandb_local_logs/MSU_interpol_by_energy/cerulean-flower-9/checkpoints/exp_name=0val_loss=0.05981-epoch=68.ckpt\n",
      "2024-04-10 11:41:04,940 : INFO : epoch: 69; val_loss: 0.05979539453983307\n",
      "2024-04-10 11:41:04,943 : INFO : epoch: 69; train_loss: 0.017558716237545013\n"
     ]
    },
    {
     "name": "stderr",
     "output_type": "stream",
     "text": [
      "Metric val_loss improved by 0.000 >= min_delta = 1e-05. New best score: 0.060\n"
     ]
    },
    {
     "name": "stdout",
     "output_type": "stream",
     "text": [
      "2024-04-10 11:41:05,020 : DEBUG : open file: /Users/andrey.golda/Documents/Study/MSU_interpol/training/wandb_local_logs/MSU_interpol_by_energy/cerulean-flower-9/checkpoints/exp_name=0val_loss=0.05980-epoch=69.ckpt\n",
      "2024-04-10 11:41:24,193 : INFO : epoch: 70; val_loss: 0.05981403589248657\n",
      "2024-04-10 11:41:24,196 : INFO : epoch: 70; train_loss: 0.017551584169268608\n",
      "2024-04-10 11:41:24,273 : DEBUG : open file: /Users/andrey.golda/Documents/Study/MSU_interpol/training/wandb_local_logs/MSU_interpol_by_energy/cerulean-flower-9/checkpoints/exp_name=0val_loss=0.05981-epoch=70.ckpt\n",
      "2024-04-10 11:41:44,065 : INFO : epoch: 71; val_loss: 0.059795062988996506\n",
      "2024-04-10 11:41:44,068 : INFO : epoch: 71; train_loss: 0.017544100061058998\n",
      "2024-04-10 11:41:44,145 : DEBUG : open file: /Users/andrey.golda/Documents/Study/MSU_interpol/training/wandb_local_logs/MSU_interpol_by_energy/cerulean-flower-9/checkpoints/exp_name=0val_loss=0.05980-epoch=71.ckpt\n",
      "2024-04-10 11:42:03,805 : INFO : epoch: 72; val_loss: 0.05980149656534195\n",
      "2024-04-10 11:42:03,807 : INFO : epoch: 72; train_loss: 0.01753908023238182\n",
      "2024-04-10 11:42:03,887 : DEBUG : open file: /Users/andrey.golda/Documents/Study/MSU_interpol/training/wandb_local_logs/MSU_interpol_by_energy/cerulean-flower-9/checkpoints/exp_name=0val_loss=0.05980-epoch=72.ckpt\n",
      "2024-04-10 11:42:23,566 : INFO : epoch: 73; val_loss: 0.05978509411215782\n",
      "2024-04-10 11:42:23,569 : INFO : epoch: 73; train_loss: 0.017518630251288414\n"
     ]
    },
    {
     "name": "stderr",
     "output_type": "stream",
     "text": [
      "Metric val_loss improved by 0.000 >= min_delta = 1e-05. New best score: 0.060\n"
     ]
    },
    {
     "name": "stdout",
     "output_type": "stream",
     "text": [
      "2024-04-10 11:42:23,647 : DEBUG : open file: /Users/andrey.golda/Documents/Study/MSU_interpol/training/wandb_local_logs/MSU_interpol_by_energy/cerulean-flower-9/checkpoints/exp_name=0val_loss=0.05979-epoch=73.ckpt\n",
      "2024-04-10 11:42:42,865 : INFO : epoch: 74; val_loss: 0.05977686122059822\n",
      "2024-04-10 11:42:42,868 : INFO : epoch: 74; train_loss: 0.017506349831819534\n",
      "2024-04-10 11:42:42,950 : DEBUG : open file: /Users/andrey.golda/Documents/Study/MSU_interpol/training/wandb_local_logs/MSU_interpol_by_energy/cerulean-flower-9/checkpoints/exp_name=0val_loss=0.05978-epoch=74.ckpt\n",
      "2024-04-10 11:43:02,018 : INFO : epoch: 75; val_loss: 0.05978628247976303\n",
      "2024-04-10 11:43:02,021 : INFO : epoch: 75; train_loss: 0.017493044957518578\n",
      "2024-04-10 11:43:02,100 : DEBUG : open file: /Users/andrey.golda/Documents/Study/MSU_interpol/training/wandb_local_logs/MSU_interpol_by_energy/cerulean-flower-9/checkpoints/exp_name=0val_loss=0.05979-epoch=75.ckpt\n",
      "2024-04-10 11:43:21,117 : INFO : epoch: 76; val_loss: 0.05979360640048981\n",
      "2024-04-10 11:43:21,120 : INFO : epoch: 76; train_loss: 0.017489798367023468\n",
      "2024-04-10 11:43:40,301 : INFO : epoch: 77; val_loss: 0.05978603661060333\n",
      "2024-04-10 11:43:40,304 : INFO : epoch: 77; train_loss: 0.017475096508860588\n",
      "2024-04-10 11:43:40,378 : DEBUG : open file: /Users/andrey.golda/Documents/Study/MSU_interpol/training/wandb_local_logs/MSU_interpol_by_energy/cerulean-flower-9/checkpoints/exp_name=0val_loss=0.05979-epoch=77.ckpt\n",
      "2024-04-10 11:43:59,566 : INFO : epoch: 78; val_loss: 0.05975067988038063\n",
      "2024-04-10 11:43:59,569 : INFO : epoch: 78; train_loss: 0.017467014491558075\n"
     ]
    },
    {
     "name": "stderr",
     "output_type": "stream",
     "text": [
      "Metric val_loss improved by 0.000 >= min_delta = 1e-05. New best score: 0.060\n"
     ]
    },
    {
     "name": "stdout",
     "output_type": "stream",
     "text": [
      "2024-04-10 11:43:59,646 : DEBUG : open file: /Users/andrey.golda/Documents/Study/MSU_interpol/training/wandb_local_logs/MSU_interpol_by_energy/cerulean-flower-9/checkpoints/exp_name=0val_loss=0.05975-epoch=78.ckpt\n",
      "2024-04-10 11:44:18,631 : INFO : epoch: 79; val_loss: 0.05976208299398422\n",
      "2024-04-10 11:44:18,633 : INFO : epoch: 79; train_loss: 0.017465757206082344\n",
      "2024-04-10 11:44:18,711 : DEBUG : open file: /Users/andrey.golda/Documents/Study/MSU_interpol/training/wandb_local_logs/MSU_interpol_by_energy/cerulean-flower-9/checkpoints/exp_name=0val_loss=0.05976-epoch=79.ckpt\n",
      "2024-04-10 11:44:38,079 : INFO : epoch: 80; val_loss: 0.05973392352461815\n",
      "2024-04-10 11:44:38,082 : INFO : epoch: 80; train_loss: 0.01742103137075901\n"
     ]
    },
    {
     "name": "stderr",
     "output_type": "stream",
     "text": [
      "Metric val_loss improved by 0.000 >= min_delta = 1e-05. New best score: 0.060\n"
     ]
    },
    {
     "name": "stdout",
     "output_type": "stream",
     "text": [
      "2024-04-10 11:44:38,160 : DEBUG : open file: /Users/andrey.golda/Documents/Study/MSU_interpol/training/wandb_local_logs/MSU_interpol_by_energy/cerulean-flower-9/checkpoints/exp_name=0val_loss=0.05973-epoch=80.ckpt\n",
      "2024-04-10 11:44:57,944 : INFO : epoch: 81; val_loss: 0.059757865965366364\n",
      "2024-04-10 11:44:57,947 : INFO : epoch: 81; train_loss: 0.017410017549991608\n",
      "2024-04-10 11:44:58,027 : DEBUG : open file: /Users/andrey.golda/Documents/Study/MSU_interpol/training/wandb_local_logs/MSU_interpol_by_energy/cerulean-flower-9/checkpoints/exp_name=0val_loss=0.05976-epoch=81.ckpt\n",
      "2024-04-10 11:45:17,629 : INFO : epoch: 82; val_loss: 0.0597352460026741\n",
      "2024-04-10 11:45:17,632 : INFO : epoch: 82; train_loss: 0.017398424446582794\n",
      "2024-04-10 11:45:17,714 : DEBUG : open file: /Users/andrey.golda/Documents/Study/MSU_interpol/training/wandb_local_logs/MSU_interpol_by_energy/cerulean-flower-9/checkpoints/exp_name=0val_loss=0.05974-epoch=82.ckpt\n",
      "2024-04-10 11:45:36,710 : INFO : epoch: 83; val_loss: 0.05974366143345833\n",
      "2024-04-10 11:45:36,713 : INFO : epoch: 83; train_loss: 0.017392029985785484\n",
      "2024-04-10 11:45:36,789 : DEBUG : open file: /Users/andrey.golda/Documents/Study/MSU_interpol/training/wandb_local_logs/MSU_interpol_by_energy/cerulean-flower-9/checkpoints/exp_name=0val_loss=0.05974-epoch=83.ckpt\n",
      "2024-04-10 11:45:55,943 : INFO : epoch: 84; val_loss: 0.05972001329064369\n",
      "2024-04-10 11:45:55,945 : INFO : epoch: 84; train_loss: 0.017385294660925865\n"
     ]
    },
    {
     "name": "stderr",
     "output_type": "stream",
     "text": [
      "Metric val_loss improved by 0.000 >= min_delta = 1e-05. New best score: 0.060\n"
     ]
    },
    {
     "name": "stdout",
     "output_type": "stream",
     "text": [
      "2024-04-10 11:45:56,024 : DEBUG : open file: /Users/andrey.golda/Documents/Study/MSU_interpol/training/wandb_local_logs/MSU_interpol_by_energy/cerulean-flower-9/checkpoints/exp_name=0val_loss=0.05972-epoch=84.ckpt\n",
      "2024-04-10 11:46:14,973 : INFO : epoch: 85; val_loss: 0.059693124145269394\n",
      "2024-04-10 11:46:14,976 : INFO : epoch: 85; train_loss: 0.01737796887755394\n"
     ]
    },
    {
     "name": "stderr",
     "output_type": "stream",
     "text": [
      "Metric val_loss improved by 0.000 >= min_delta = 1e-05. New best score: 0.060\n"
     ]
    },
    {
     "name": "stdout",
     "output_type": "stream",
     "text": [
      "2024-04-10 11:46:15,056 : DEBUG : open file: /Users/andrey.golda/Documents/Study/MSU_interpol/training/wandb_local_logs/MSU_interpol_by_energy/cerulean-flower-9/checkpoints/exp_name=0val_loss=0.05969-epoch=85.ckpt\n",
      "2024-04-10 11:46:33,908 : INFO : epoch: 86; val_loss: 0.05970754101872444\n",
      "2024-04-10 11:46:33,911 : INFO : epoch: 86; train_loss: 0.017369456589221954\n",
      "2024-04-10 11:46:33,989 : DEBUG : open file: /Users/andrey.golda/Documents/Study/MSU_interpol/training/wandb_local_logs/MSU_interpol_by_energy/cerulean-flower-9/checkpoints/exp_name=0val_loss=0.05971-epoch=86.ckpt\n",
      "2024-04-10 11:46:52,916 : INFO : epoch: 87; val_loss: 0.05970652773976326\n",
      "2024-04-10 11:46:52,919 : INFO : epoch: 87; train_loss: 0.017367251217365265\n",
      "2024-04-10 11:46:52,997 : DEBUG : open file: /Users/andrey.golda/Documents/Study/MSU_interpol/training/wandb_local_logs/MSU_interpol_by_energy/cerulean-flower-9/checkpoints/exp_name=0val_loss=0.05971-epoch=87.ckpt\n",
      "2024-04-10 11:47:11,862 : INFO : epoch: 88; val_loss: 0.05971911922097206\n",
      "2024-04-10 11:47:11,865 : INFO : epoch: 88; train_loss: 0.017355846241116524\n",
      "2024-04-10 11:47:30,972 : INFO : epoch: 89; val_loss: 0.059688154608011246\n",
      "2024-04-10 11:47:30,975 : INFO : epoch: 89; train_loss: 0.017353016883134842\n",
      "2024-04-10 11:47:31,051 : DEBUG : open file: /Users/andrey.golda/Documents/Study/MSU_interpol/training/wandb_local_logs/MSU_interpol_by_energy/cerulean-flower-9/checkpoints/exp_name=0val_loss=0.05969-epoch=89.ckpt\n",
      "2024-04-10 11:47:50,196 : INFO : epoch: 90; val_loss: 0.05968007817864418\n",
      "2024-04-10 11:47:50,198 : INFO : epoch: 90; train_loss: 0.017346885055303574\n"
     ]
    },
    {
     "name": "stderr",
     "output_type": "stream",
     "text": [
      "Metric val_loss improved by 0.000 >= min_delta = 1e-05. New best score: 0.060\n"
     ]
    },
    {
     "name": "stdout",
     "output_type": "stream",
     "text": [
      "2024-04-10 11:47:50,274 : DEBUG : open file: /Users/andrey.golda/Documents/Study/MSU_interpol/training/wandb_local_logs/MSU_interpol_by_energy/cerulean-flower-9/checkpoints/exp_name=0val_loss=0.05968-epoch=90.ckpt\n",
      "2024-04-10 11:48:09,386 : INFO : epoch: 91; val_loss: 0.0596625879406929\n",
      "2024-04-10 11:48:09,388 : INFO : epoch: 91; train_loss: 0.01733870804309845\n"
     ]
    },
    {
     "name": "stderr",
     "output_type": "stream",
     "text": [
      "Metric val_loss improved by 0.000 >= min_delta = 1e-05. New best score: 0.060\n"
     ]
    },
    {
     "name": "stdout",
     "output_type": "stream",
     "text": [
      "2024-04-10 11:48:09,464 : DEBUG : open file: /Users/andrey.golda/Documents/Study/MSU_interpol/training/wandb_local_logs/MSU_interpol_by_energy/cerulean-flower-9/checkpoints/exp_name=0val_loss=0.05966-epoch=91.ckpt\n",
      "2024-04-10 11:48:29,062 : INFO : epoch: 92; val_loss: 0.059684235602617264\n",
      "2024-04-10 11:48:29,065 : INFO : epoch: 92; train_loss: 0.017329810187220573\n",
      "2024-04-10 11:48:29,143 : DEBUG : open file: /Users/andrey.golda/Documents/Study/MSU_interpol/training/wandb_local_logs/MSU_interpol_by_energy/cerulean-flower-9/checkpoints/exp_name=0val_loss=0.05968-epoch=92.ckpt\n",
      "2024-04-10 11:48:48,935 : INFO : epoch: 93; val_loss: 0.05969802290201187\n",
      "2024-04-10 11:48:48,938 : INFO : epoch: 93; train_loss: 0.01732330024242401\n",
      "2024-04-10 11:49:08,632 : INFO : epoch: 94; val_loss: 0.05966911092400551\n",
      "2024-04-10 11:49:08,635 : INFO : epoch: 94; train_loss: 0.017319461330771446\n",
      "2024-04-10 11:49:08,714 : DEBUG : open file: /Users/andrey.golda/Documents/Study/MSU_interpol/training/wandb_local_logs/MSU_interpol_by_energy/cerulean-flower-9/checkpoints/exp_name=0val_loss=0.05967-epoch=94.ckpt\n",
      "2024-04-10 11:49:27,835 : INFO : epoch: 95; val_loss: 0.05966700613498688\n",
      "2024-04-10 11:49:27,838 : INFO : epoch: 95; train_loss: 0.01731645129621029\n",
      "2024-04-10 11:49:27,914 : DEBUG : open file: /Users/andrey.golda/Documents/Study/MSU_interpol/training/wandb_local_logs/MSU_interpol_by_energy/cerulean-flower-9/checkpoints/exp_name=0val_loss=0.05967-epoch=95.ckpt\n",
      "2024-04-10 11:49:47,222 : INFO : epoch: 96; val_loss: 0.05967863276600838\n",
      "2024-04-10 11:49:47,225 : INFO : epoch: 96; train_loss: 0.017308225855231285\n",
      "2024-04-10 11:50:06,268 : INFO : epoch: 97; val_loss: 0.059647269546985626\n",
      "2024-04-10 11:50:06,271 : INFO : epoch: 97; train_loss: 0.017298990860581398\n"
     ]
    },
    {
     "name": "stderr",
     "output_type": "stream",
     "text": [
      "Metric val_loss improved by 0.000 >= min_delta = 1e-05. New best score: 0.060\n"
     ]
    },
    {
     "name": "stdout",
     "output_type": "stream",
     "text": [
      "2024-04-10 11:50:06,347 : DEBUG : open file: /Users/andrey.golda/Documents/Study/MSU_interpol/training/wandb_local_logs/MSU_interpol_by_energy/cerulean-flower-9/checkpoints/exp_name=0val_loss=0.05965-epoch=97.ckpt\n",
      "2024-04-10 11:50:25,424 : INFO : epoch: 98; val_loss: 0.059528231620788574\n",
      "2024-04-10 11:50:25,427 : INFO : epoch: 98; train_loss: 0.01726832613348961\n"
     ]
    },
    {
     "name": "stderr",
     "output_type": "stream",
     "text": [
      "Metric val_loss improved by 0.000 >= min_delta = 1e-05. New best score: 0.060\n"
     ]
    },
    {
     "name": "stdout",
     "output_type": "stream",
     "text": [
      "2024-04-10 11:50:25,503 : DEBUG : open file: /Users/andrey.golda/Documents/Study/MSU_interpol/training/wandb_local_logs/MSU_interpol_by_energy/cerulean-flower-9/checkpoints/exp_name=0val_loss=0.05953-epoch=98.ckpt\n",
      "2024-04-10 11:50:44,664 : INFO : epoch: 99; val_loss: 0.05952348932623863\n",
      "2024-04-10 11:50:44,667 : INFO : epoch: 99; train_loss: 0.017250802367925644\n",
      "2024-04-10 11:50:44,743 : DEBUG : open file: /Users/andrey.golda/Documents/Study/MSU_interpol/training/wandb_local_logs/MSU_interpol_by_energy/cerulean-flower-9/checkpoints/exp_name=0val_loss=0.05952-epoch=99.ckpt\n",
      "2024-04-10 11:51:03,950 : INFO : epoch: 100; val_loss: 0.059519387781620026\n",
      "2024-04-10 11:51:03,952 : INFO : epoch: 100; train_loss: 0.017245424911379814\n",
      "2024-04-10 11:51:04,029 : DEBUG : open file: /Users/andrey.golda/Documents/Study/MSU_interpol/training/wandb_local_logs/MSU_interpol_by_energy/cerulean-flower-9/checkpoints/exp_name=0val_loss=0.05952-epoch=100.ckpt\n",
      "2024-04-10 11:51:23,081 : INFO : epoch: 101; val_loss: 0.05951596796512604\n",
      "2024-04-10 11:51:23,084 : INFO : epoch: 101; train_loss: 0.01724102720618248\n"
     ]
    },
    {
     "name": "stderr",
     "output_type": "stream",
     "text": [
      "Metric val_loss improved by 0.000 >= min_delta = 1e-05. New best score: 0.060\n"
     ]
    },
    {
     "name": "stdout",
     "output_type": "stream",
     "text": [
      "2024-04-10 11:51:23,159 : DEBUG : open file: /Users/andrey.golda/Documents/Study/MSU_interpol/training/wandb_local_logs/MSU_interpol_by_energy/cerulean-flower-9/checkpoints/exp_name=0val_loss=0.05952-epoch=101.ckpt\n",
      "2024-04-10 11:51:42,308 : INFO : epoch: 102; val_loss: 0.059524379670619965\n",
      "2024-04-10 11:51:42,311 : INFO : epoch: 102; train_loss: 0.017237065359950066\n",
      "2024-04-10 11:52:01,480 : INFO : epoch: 103; val_loss: 0.05950886756181717\n",
      "2024-04-10 11:52:01,483 : INFO : epoch: 103; train_loss: 0.017235206440091133\n",
      "2024-04-10 11:52:01,558 : DEBUG : open file: /Users/andrey.golda/Documents/Study/MSU_interpol/training/wandb_local_logs/MSU_interpol_by_energy/cerulean-flower-9/checkpoints/exp_name=0val_loss=0.05951-epoch=103.ckpt\n",
      "2024-04-10 11:52:20,637 : INFO : epoch: 104; val_loss: 0.059506092220544815\n",
      "2024-04-10 11:52:20,639 : INFO : epoch: 104; train_loss: 0.017231931909918785\n",
      "2024-04-10 11:52:20,716 : DEBUG : open file: /Users/andrey.golda/Documents/Study/MSU_interpol/training/wandb_local_logs/MSU_interpol_by_energy/cerulean-flower-9/checkpoints/exp_name=0val_loss=0.05951-epoch=104.ckpt\n",
      "2024-04-10 11:52:40,057 : INFO : epoch: 105; val_loss: 0.05951292812824249\n",
      "2024-04-10 11:52:40,060 : INFO : epoch: 105; train_loss: 0.017227912321686745\n",
      "2024-04-10 11:52:40,135 : DEBUG : open file: /Users/andrey.golda/Documents/Study/MSU_interpol/training/wandb_local_logs/MSU_interpol_by_energy/cerulean-flower-9/checkpoints/exp_name=0val_loss=0.05951-epoch=105.ckpt\n",
      "2024-04-10 11:53:05,553 : INFO : epoch: 106; val_loss: 0.059503428637981415\n",
      "2024-04-10 11:53:05,557 : INFO : epoch: 106; train_loss: 0.017221421003341675\n"
     ]
    },
    {
     "name": "stderr",
     "output_type": "stream",
     "text": [
      "Metric val_loss improved by 0.000 >= min_delta = 1e-05. New best score: 0.060\n"
     ]
    },
    {
     "name": "stdout",
     "output_type": "stream",
     "text": [
      "2024-04-10 11:53:05,661 : DEBUG : open file: /Users/andrey.golda/Documents/Study/MSU_interpol/training/wandb_local_logs/MSU_interpol_by_energy/cerulean-flower-9/checkpoints/exp_name=0val_loss=0.05950-epoch=106.ckpt\n",
      "2024-04-10 11:53:27,477 : INFO : epoch: 107; val_loss: 0.0595012828707695\n",
      "2024-04-10 11:53:27,479 : INFO : epoch: 107; train_loss: 0.017218921333551407\n",
      "2024-04-10 11:53:27,551 : DEBUG : open file: /Users/andrey.golda/Documents/Study/MSU_interpol/training/wandb_local_logs/MSU_interpol_by_energy/cerulean-flower-9/checkpoints/exp_name=0val_loss=0.05950-epoch=107.ckpt\n",
      "2024-04-10 11:53:44,218 : INFO : epoch: 108; val_loss: 0.059495944529771805\n",
      "2024-04-10 11:53:44,221 : INFO : epoch: 108; train_loss: 0.017217444255948067\n",
      "2024-04-10 11:53:44,287 : DEBUG : open file: /Users/andrey.golda/Documents/Study/MSU_interpol/training/wandb_local_logs/MSU_interpol_by_energy/cerulean-flower-9/checkpoints/exp_name=0val_loss=0.05950-epoch=108.ckpt\n",
      "2024-04-10 11:53:59,792 : INFO : epoch: 109; val_loss: 0.05949900671839714\n",
      "2024-04-10 11:53:59,794 : INFO : epoch: 109; train_loss: 0.017216123640537262\n",
      "2024-04-10 11:53:59,853 : DEBUG : open file: /Users/andrey.golda/Documents/Study/MSU_interpol/training/wandb_local_logs/MSU_interpol_by_energy/cerulean-flower-9/checkpoints/exp_name=0val_loss=0.05950-epoch=109.ckpt\n",
      "2024-04-10 11:54:15,421 : INFO : epoch: 110; val_loss: 0.05949585139751434\n",
      "2024-04-10 11:54:15,423 : INFO : epoch: 110; train_loss: 0.017211519181728363\n",
      "2024-04-10 11:54:15,481 : DEBUG : open file: /Users/andrey.golda/Documents/Study/MSU_interpol/training/wandb_local_logs/MSU_interpol_by_energy/cerulean-flower-9/checkpoints/exp_name=0val_loss=0.05950-epoch=110.ckpt\n",
      "2024-04-10 11:54:30,949 : INFO : epoch: 111; val_loss: 0.05949314311146736\n",
      "2024-04-10 11:54:30,951 : INFO : epoch: 111; train_loss: 0.017207184806466103\n"
     ]
    },
    {
     "name": "stderr",
     "output_type": "stream",
     "text": [
      "Metric val_loss improved by 0.000 >= min_delta = 1e-05. New best score: 0.059\n"
     ]
    },
    {
     "name": "stdout",
     "output_type": "stream",
     "text": [
      "2024-04-10 11:54:31,015 : DEBUG : open file: /Users/andrey.golda/Documents/Study/MSU_interpol/training/wandb_local_logs/MSU_interpol_by_energy/cerulean-flower-9/checkpoints/exp_name=0val_loss=0.05949-epoch=111.ckpt\n",
      "2024-04-10 11:54:46,873 : INFO : epoch: 112; val_loss: 0.05949484556913376\n",
      "2024-04-10 11:54:46,875 : INFO : epoch: 112; train_loss: 0.017204266041517258\n",
      "2024-04-10 11:54:46,936 : DEBUG : open file: /Users/andrey.golda/Documents/Study/MSU_interpol/training/wandb_local_logs/MSU_interpol_by_energy/cerulean-flower-9/checkpoints/exp_name=0val_loss=0.05949-epoch=112.ckpt\n",
      "2024-04-10 11:55:02,411 : INFO : epoch: 113; val_loss: 0.05950748920440674\n",
      "2024-04-10 11:55:02,413 : INFO : epoch: 113; train_loss: 0.01719987578690052\n",
      "2024-04-10 11:55:17,962 : INFO : epoch: 114; val_loss: 0.05951111763715744\n",
      "2024-04-10 11:55:17,964 : INFO : epoch: 114; train_loss: 0.01719851791858673\n",
      "2024-04-10 11:55:33,469 : INFO : epoch: 115; val_loss: 0.05948213115334511\n",
      "2024-04-10 11:55:33,471 : INFO : epoch: 115; train_loss: 0.017194414511322975\n"
     ]
    },
    {
     "name": "stderr",
     "output_type": "stream",
     "text": [
      "Metric val_loss improved by 0.000 >= min_delta = 1e-05. New best score: 0.059\n"
     ]
    },
    {
     "name": "stdout",
     "output_type": "stream",
     "text": [
      "2024-04-10 11:55:33,532 : DEBUG : open file: /Users/andrey.golda/Documents/Study/MSU_interpol/training/wandb_local_logs/MSU_interpol_by_energy/cerulean-flower-9/checkpoints/exp_name=0val_loss=0.05948-epoch=115.ckpt\n",
      "2024-04-10 11:55:49,086 : INFO : epoch: 116; val_loss: 0.059482935816049576\n",
      "2024-04-10 11:55:49,088 : INFO : epoch: 116; train_loss: 0.01719106361269951\n",
      "2024-04-10 11:55:49,147 : DEBUG : open file: /Users/andrey.golda/Documents/Study/MSU_interpol/training/wandb_local_logs/MSU_interpol_by_energy/cerulean-flower-9/checkpoints/exp_name=0val_loss=0.05948-epoch=116.ckpt\n",
      "2024-04-10 11:56:05,992 : INFO : epoch: 117; val_loss: 0.05948791280388832\n",
      "2024-04-10 11:56:05,995 : INFO : epoch: 117; train_loss: 0.01718738116323948\n",
      "2024-04-10 11:56:06,062 : DEBUG : open file: /Users/andrey.golda/Documents/Study/MSU_interpol/training/wandb_local_logs/MSU_interpol_by_energy/cerulean-flower-9/checkpoints/exp_name=0val_loss=0.05949-epoch=117.ckpt\n",
      "2024-04-10 11:56:23,038 : INFO : epoch: 118; val_loss: 0.059481747448444366\n",
      "2024-04-10 11:56:23,040 : INFO : epoch: 118; train_loss: 0.01718776300549507\n",
      "2024-04-10 11:56:23,096 : DEBUG : open file: /Users/andrey.golda/Documents/Study/MSU_interpol/training/wandb_local_logs/MSU_interpol_by_energy/cerulean-flower-9/checkpoints/exp_name=0val_loss=0.05948-epoch=118.ckpt\n",
      "2024-04-10 11:56:41,078 : INFO : epoch: 119; val_loss: 0.05947316065430641\n",
      "2024-04-10 11:56:41,081 : INFO : epoch: 119; train_loss: 0.017186924815177917\n",
      "2024-04-10 11:56:41,152 : DEBUG : open file: /Users/andrey.golda/Documents/Study/MSU_interpol/training/wandb_local_logs/MSU_interpol_by_energy/cerulean-flower-9/checkpoints/exp_name=0val_loss=0.05947-epoch=119.ckpt\n",
      "2024-04-10 11:57:01,568 : INFO : epoch: 120; val_loss: 0.05948105826973915\n",
      "2024-04-10 11:57:01,571 : INFO : epoch: 120; train_loss: 0.01718340814113617\n",
      "2024-04-10 11:57:01,648 : DEBUG : open file: /Users/andrey.golda/Documents/Study/MSU_interpol/training/wandb_local_logs/MSU_interpol_by_energy/cerulean-flower-9/checkpoints/exp_name=0val_loss=0.05948-epoch=120.ckpt\n",
      "2024-04-10 11:57:23,265 : INFO : epoch: 121; val_loss: 0.059478603303432465\n",
      "2024-04-10 11:57:23,268 : INFO : epoch: 121; train_loss: 0.01718023791909218\n",
      "2024-04-10 11:57:23,369 : DEBUG : open file: /Users/andrey.golda/Documents/Study/MSU_interpol/training/wandb_local_logs/MSU_interpol_by_energy/cerulean-flower-9/checkpoints/exp_name=0val_loss=0.05948-epoch=121.ckpt\n",
      "2024-04-10 11:57:48,423 : INFO : epoch: 122; val_loss: 0.059473056346178055\n",
      "2024-04-10 11:57:48,427 : INFO : epoch: 122; train_loss: 0.017180873081088066\n",
      "2024-04-10 11:57:48,523 : DEBUG : open file: /Users/andrey.golda/Documents/Study/MSU_interpol/training/wandb_local_logs/MSU_interpol_by_energy/cerulean-flower-9/checkpoints/exp_name=0val_loss=0.05947-epoch=122.ckpt\n",
      "2024-04-10 11:58:13,349 : INFO : epoch: 123; val_loss: 0.05947635695338249\n",
      "2024-04-10 11:58:13,352 : INFO : epoch: 123; train_loss: 0.017177002504467964\n",
      "2024-04-10 11:58:13,450 : DEBUG : open file: /Users/andrey.golda/Documents/Study/MSU_interpol/training/wandb_local_logs/MSU_interpol_by_energy/cerulean-flower-9/checkpoints/exp_name=0val_loss=0.05948-epoch=123.ckpt\n",
      "2024-04-10 11:58:40,704 : INFO : epoch: 124; val_loss: 0.0594794787466526\n",
      "2024-04-10 11:58:40,707 : INFO : epoch: 124; train_loss: 0.01717526651918888\n",
      "2024-04-10 11:59:09,015 : INFO : epoch: 125; val_loss: 0.05947408825159073\n",
      "2024-04-10 11:59:09,019 : INFO : epoch: 125; train_loss: 0.01717481017112732\n",
      "2024-04-10 11:59:09,122 : DEBUG : open file: /Users/andrey.golda/Documents/Study/MSU_interpol/training/wandb_local_logs/MSU_interpol_by_energy/cerulean-flower-9/checkpoints/exp_name=0val_loss=0.05947-epoch=125.ckpt\n",
      "2024-04-10 11:59:33,448 : INFO : epoch: 126; val_loss: 0.059476472437381744\n",
      "2024-04-10 11:59:33,452 : INFO : epoch: 126; train_loss: 0.01717415824532509\n",
      "2024-04-10 11:59:56,081 : INFO : epoch: 127; val_loss: 0.059473615139722824\n",
      "2024-04-10 11:59:56,084 : INFO : epoch: 127; train_loss: 0.017170855775475502\n",
      "2024-04-10 11:59:56,168 : DEBUG : open file: /Users/andrey.golda/Documents/Study/MSU_interpol/training/wandb_local_logs/MSU_interpol_by_energy/cerulean-flower-9/checkpoints/exp_name=0val_loss=0.05947-epoch=127.ckpt\n",
      "2024-04-10 12:00:19,593 : INFO : epoch: 128; val_loss: 0.05947927385568619\n",
      "2024-04-10 12:00:19,597 : INFO : epoch: 128; train_loss: 0.017168838530778885\n",
      "2024-04-10 12:00:41,575 : INFO : epoch: 129; val_loss: 0.0594748929142952\n",
      "2024-04-10 12:00:41,578 : INFO : epoch: 129; train_loss: 0.017168588936328888\n",
      "2024-04-10 12:01:03,922 : INFO : epoch: 130; val_loss: 0.05947655811905861\n",
      "2024-04-10 12:01:03,926 : INFO : epoch: 130; train_loss: 0.01716347225010395\n",
      "2024-04-10 12:01:24,906 : INFO : epoch: 131; val_loss: 0.05947005748748779\n",
      "2024-04-10 12:01:24,909 : INFO : epoch: 131; train_loss: 0.017165400087833405\n"
     ]
    },
    {
     "name": "stderr",
     "output_type": "stream",
     "text": [
      "Metric val_loss improved by 0.000 >= min_delta = 1e-05. New best score: 0.059\n"
     ]
    },
    {
     "name": "stdout",
     "output_type": "stream",
     "text": [
      "2024-04-10 12:01:24,995 : DEBUG : open file: /Users/andrey.golda/Documents/Study/MSU_interpol/training/wandb_local_logs/MSU_interpol_by_energy/cerulean-flower-9/checkpoints/exp_name=0val_loss=0.05947-epoch=131.ckpt\n",
      "2024-04-10 12:01:47,948 : INFO : epoch: 132; val_loss: 0.05945797637104988\n",
      "2024-04-10 12:01:47,952 : INFO : epoch: 132; train_loss: 0.017153404653072357\n"
     ]
    },
    {
     "name": "stderr",
     "output_type": "stream",
     "text": [
      "Metric val_loss improved by 0.000 >= min_delta = 1e-05. New best score: 0.059\n"
     ]
    },
    {
     "name": "stdout",
     "output_type": "stream",
     "text": [
      "2024-04-10 12:01:48,050 : DEBUG : open file: /Users/andrey.golda/Documents/Study/MSU_interpol/training/wandb_local_logs/MSU_interpol_by_energy/cerulean-flower-9/checkpoints/exp_name=0val_loss=0.05946-epoch=132.ckpt\n",
      "2024-04-10 12:02:11,590 : INFO : epoch: 133; val_loss: 0.05945604667067528\n",
      "2024-04-10 12:02:11,594 : INFO : epoch: 133; train_loss: 0.0171490591019392\n",
      "2024-04-10 12:02:11,677 : DEBUG : open file: /Users/andrey.golda/Documents/Study/MSU_interpol/training/wandb_local_logs/MSU_interpol_by_energy/cerulean-flower-9/checkpoints/exp_name=0val_loss=0.05946-epoch=133.ckpt\n",
      "2024-04-10 12:02:32,375 : INFO : epoch: 134; val_loss: 0.05945522338151932\n",
      "2024-04-10 12:02:32,378 : INFO : epoch: 134; train_loss: 0.01714714616537094\n",
      "2024-04-10 12:02:32,457 : DEBUG : open file: /Users/andrey.golda/Documents/Study/MSU_interpol/training/wandb_local_logs/MSU_interpol_by_energy/cerulean-flower-9/checkpoints/exp_name=0val_loss=0.05946-epoch=134.ckpt\n",
      "2024-04-10 12:02:51,560 : INFO : epoch: 135; val_loss: 0.059452228248119354\n",
      "2024-04-10 12:02:51,563 : INFO : epoch: 135; train_loss: 0.017146781086921692\n",
      "2024-04-10 12:02:51,636 : DEBUG : open file: /Users/andrey.golda/Documents/Study/MSU_interpol/training/wandb_local_logs/MSU_interpol_by_energy/cerulean-flower-9/checkpoints/exp_name=0val_loss=0.05945-epoch=135.ckpt\n",
      "2024-04-10 12:03:11,434 : INFO : epoch: 136; val_loss: 0.059453364461660385\n",
      "2024-04-10 12:03:11,437 : INFO : epoch: 136; train_loss: 0.017146700993180275\n",
      "2024-04-10 12:03:11,516 : DEBUG : open file: /Users/andrey.golda/Documents/Study/MSU_interpol/training/wandb_local_logs/MSU_interpol_by_energy/cerulean-flower-9/checkpoints/exp_name=0val_loss=0.05945-epoch=136.ckpt\n",
      "2024-04-10 12:03:32,423 : INFO : epoch: 137; val_loss: 0.059451524168252945\n",
      "2024-04-10 12:03:32,426 : INFO : epoch: 137; train_loss: 0.017144903540611267\n",
      "2024-04-10 12:03:32,533 : DEBUG : open file: /Users/andrey.golda/Documents/Study/MSU_interpol/training/wandb_local_logs/MSU_interpol_by_energy/cerulean-flower-9/checkpoints/exp_name=0val_loss=0.05945-epoch=137.ckpt\n",
      "2024-04-10 12:03:55,202 : INFO : epoch: 138; val_loss: 0.059449903666973114\n",
      "2024-04-10 12:03:55,207 : INFO : epoch: 138; train_loss: 0.01714455895125866\n",
      "2024-04-10 12:03:55,293 : DEBUG : open file: /Users/andrey.golda/Documents/Study/MSU_interpol/training/wandb_local_logs/MSU_interpol_by_energy/cerulean-flower-9/checkpoints/exp_name=0val_loss=0.05945-epoch=138.ckpt\n",
      "2024-04-10 12:04:18,804 : INFO : epoch: 139; val_loss: 0.059449829161167145\n",
      "2024-04-10 12:04:18,808 : INFO : epoch: 139; train_loss: 0.017143283039331436\n",
      "2024-04-10 12:04:18,902 : DEBUG : open file: /Users/andrey.golda/Documents/Study/MSU_interpol/training/wandb_local_logs/MSU_interpol_by_energy/cerulean-flower-9/checkpoints/exp_name=0val_loss=0.05945-epoch=139.ckpt\n",
      "2024-04-10 12:04:44,846 : INFO : epoch: 140; val_loss: 0.05944887548685074\n",
      "2024-04-10 12:04:44,850 : INFO : epoch: 140; train_loss: 0.01714143715798855\n",
      "2024-04-10 12:04:44,957 : DEBUG : open file: /Users/andrey.golda/Documents/Study/MSU_interpol/training/wandb_local_logs/MSU_interpol_by_energy/cerulean-flower-9/checkpoints/exp_name=0val_loss=0.05945-epoch=140.ckpt\n",
      "2024-04-10 12:05:13,970 : INFO : epoch: 141; val_loss: 0.05944717302918434\n",
      "2024-04-10 12:05:13,974 : INFO : epoch: 141; train_loss: 0.017141347751021385\n"
     ]
    },
    {
     "name": "stderr",
     "output_type": "stream",
     "text": [
      "Metric val_loss improved by 0.000 >= min_delta = 1e-05. New best score: 0.059\n"
     ]
    },
    {
     "name": "stdout",
     "output_type": "stream",
     "text": [
      "2024-04-10 12:05:14,092 : DEBUG : open file: /Users/andrey.golda/Documents/Study/MSU_interpol/training/wandb_local_logs/MSU_interpol_by_energy/cerulean-flower-9/checkpoints/exp_name=0val_loss=0.05945-epoch=141.ckpt\n",
      "2024-04-10 12:05:43,726 : INFO : epoch: 142; val_loss: 0.059446945786476135\n",
      "2024-04-10 12:05:43,732 : INFO : epoch: 142; train_loss: 0.017141198739409447\n",
      "2024-04-10 12:05:43,838 : DEBUG : open file: /Users/andrey.golda/Documents/Study/MSU_interpol/training/wandb_local_logs/MSU_interpol_by_energy/cerulean-flower-9/checkpoints/exp_name=0val_loss=0.05945-epoch=142.ckpt\n",
      "2024-04-10 12:06:11,737 : INFO : epoch: 143; val_loss: 0.0594489760696888\n",
      "2024-04-10 12:06:11,741 : INFO : epoch: 143; train_loss: 0.017139391973614693\n",
      "2024-04-10 12:06:36,772 : INFO : epoch: 144; val_loss: 0.05944652855396271\n",
      "2024-04-10 12:06:36,775 : INFO : epoch: 144; train_loss: 0.017139144241809845\n",
      "2024-04-10 12:06:36,869 : DEBUG : open file: /Users/andrey.golda/Documents/Study/MSU_interpol/training/wandb_local_logs/MSU_interpol_by_energy/cerulean-flower-9/checkpoints/exp_name=0val_loss=0.05945-epoch=144.ckpt\n",
      "2024-04-10 12:07:00,858 : INFO : epoch: 145; val_loss: 0.05944504961371422\n",
      "2024-04-10 12:07:00,862 : INFO : epoch: 145; train_loss: 0.017137855291366577\n",
      "2024-04-10 12:07:00,961 : DEBUG : open file: /Users/andrey.golda/Documents/Study/MSU_interpol/training/wandb_local_logs/MSU_interpol_by_energy/cerulean-flower-9/checkpoints/exp_name=0val_loss=0.05945-epoch=145.ckpt\n",
      "2024-04-10 12:07:24,749 : INFO : epoch: 146; val_loss: 0.059447210282087326\n",
      "2024-04-10 12:07:24,752 : INFO : epoch: 146; train_loss: 0.017135823145508766\n",
      "2024-04-10 12:07:54,577 : INFO : epoch: 147; val_loss: 0.059445902705192566\n",
      "2024-04-10 12:07:54,582 : INFO : epoch: 147; train_loss: 0.017136437818408012\n",
      "2024-04-10 12:07:54,686 : DEBUG : open file: /Users/andrey.golda/Documents/Study/MSU_interpol/training/wandb_local_logs/MSU_interpol_by_energy/cerulean-flower-9/checkpoints/exp_name=0val_loss=0.05945-epoch=147.ckpt\n",
      "2024-04-10 12:08:23,686 : INFO : epoch: 148; val_loss: 0.0594443753361702\n",
      "2024-04-10 12:08:23,690 : INFO : epoch: 148; train_loss: 0.017134901136159897\n",
      "2024-04-10 12:08:23,792 : DEBUG : open file: /Users/andrey.golda/Documents/Study/MSU_interpol/training/wandb_local_logs/MSU_interpol_by_energy/cerulean-flower-9/checkpoints/exp_name=0val_loss=0.05944-epoch=148.ckpt\n",
      "2024-04-10 12:08:55,066 : INFO : epoch: 149; val_loss: 0.05944366008043289\n",
      "2024-04-10 12:08:55,070 : INFO : epoch: 149; train_loss: 0.017135487869381905\n",
      "2024-04-10 12:08:55,179 : DEBUG : open file: /Users/andrey.golda/Documents/Study/MSU_interpol/training/wandb_local_logs/MSU_interpol_by_energy/cerulean-flower-9/checkpoints/exp_name=0val_loss=0.05944-epoch=149.ckpt\n",
      "2024-04-10 12:09:29,080 : INFO : epoch: 150; val_loss: 0.05944644659757614\n",
      "2024-04-10 12:09:29,084 : INFO : epoch: 150; train_loss: 0.01712890900671482\n",
      "2024-04-10 12:09:56,583 : INFO : epoch: 151; val_loss: 0.05944567546248436\n",
      "2024-04-10 12:09:56,586 : INFO : epoch: 151; train_loss: 0.01712561398744583\n",
      "2024-04-10 12:10:20,788 : INFO : epoch: 152; val_loss: 0.05944589525461197\n",
      "2024-04-10 12:10:20,792 : INFO : epoch: 152; train_loss: 0.01712488941848278\n",
      "2024-04-10 12:10:45,575 : INFO : epoch: 153; val_loss: 0.05944633111357689\n",
      "2024-04-10 12:10:45,579 : INFO : epoch: 153; train_loss: 0.017124438658356667\n",
      "2024-04-10 12:11:09,116 : INFO : epoch: 154; val_loss: 0.05944575369358063\n",
      "2024-04-10 12:11:09,119 : INFO : epoch: 154; train_loss: 0.017123794183135033\n",
      "2024-04-10 12:11:31,876 : INFO : epoch: 155; val_loss: 0.05944560095667839\n",
      "2024-04-10 12:11:31,879 : INFO : epoch: 155; train_loss: 0.01712312549352646\n",
      "2024-04-10 12:11:53,377 : INFO : epoch: 156; val_loss: 0.05944542586803436\n",
      "2024-04-10 12:11:53,380 : INFO : epoch: 156; train_loss: 0.017122862860560417\n",
      "2024-04-10 12:12:15,118 : INFO : epoch: 157; val_loss: 0.059444792568683624\n",
      "2024-04-10 12:12:15,121 : INFO : epoch: 157; train_loss: 0.01712193340063095\n",
      "2024-04-10 12:12:15,207 : DEBUG : open file: /Users/andrey.golda/Documents/Study/MSU_interpol/training/wandb_local_logs/MSU_interpol_by_energy/cerulean-flower-9/checkpoints/exp_name=0val_loss=0.05944-epoch=157.ckpt\n",
      "2024-04-10 12:12:39,890 : INFO : epoch: 158; val_loss: 0.05944349616765976\n",
      "2024-04-10 12:12:39,894 : INFO : epoch: 158; train_loss: 0.01712200418114662\n",
      "2024-04-10 12:12:39,989 : DEBUG : open file: /Users/andrey.golda/Documents/Study/MSU_interpol/training/wandb_local_logs/MSU_interpol_by_energy/cerulean-flower-9/checkpoints/exp_name=0val_loss=0.05944-epoch=158.ckpt\n",
      "2024-04-10 12:13:08,096 : INFO : epoch: 159; val_loss: 0.0594438873231411\n",
      "2024-04-10 12:13:08,100 : INFO : epoch: 159; train_loss: 0.01712166704237461\n",
      "2024-04-10 12:13:08,210 : DEBUG : open file: /Users/andrey.golda/Documents/Study/MSU_interpol/training/wandb_local_logs/MSU_interpol_by_energy/cerulean-flower-9/checkpoints/exp_name=0val_loss=0.05944-epoch=159.ckpt\n",
      "2024-04-10 12:13:35,177 : INFO : epoch: 160; val_loss: 0.059444233775138855\n",
      "2024-04-10 12:13:35,181 : INFO : epoch: 160; train_loss: 0.017121031880378723\n",
      "2024-04-10 12:14:00,066 : INFO : epoch: 161; val_loss: 0.059443846344947815\n",
      "2024-04-10 12:14:00,069 : INFO : epoch: 161; train_loss: 0.017120203003287315\n",
      "2024-04-10 12:14:00,169 : DEBUG : open file: /Users/andrey.golda/Documents/Study/MSU_interpol/training/wandb_local_logs/MSU_interpol_by_energy/cerulean-flower-9/checkpoints/exp_name=0val_loss=0.05944-epoch=161.ckpt\n",
      "2024-04-10 12:14:26,702 : INFO : epoch: 162; val_loss: 0.05944271385669708\n",
      "2024-04-10 12:14:26,706 : INFO : epoch: 162; train_loss: 0.01711970753967762\n",
      "2024-04-10 12:14:26,799 : DEBUG : open file: /Users/andrey.golda/Documents/Study/MSU_interpol/training/wandb_local_logs/MSU_interpol_by_energy/cerulean-flower-9/checkpoints/exp_name=0val_loss=0.05944-epoch=162.ckpt\n",
      "2024-04-10 12:14:50,737 : INFO : epoch: 163; val_loss: 0.05944249406456947\n",
      "2024-04-10 12:14:50,741 : INFO : epoch: 163; train_loss: 0.01711997762322426\n",
      "2024-04-10 12:14:50,835 : DEBUG : open file: /Users/andrey.golda/Documents/Study/MSU_interpol/training/wandb_local_logs/MSU_interpol_by_energy/cerulean-flower-9/checkpoints/exp_name=0val_loss=0.05944-epoch=163.ckpt\n",
      "2024-04-10 12:15:17,698 : INFO : epoch: 164; val_loss: 0.059442244470119476\n",
      "2024-04-10 12:15:17,702 : INFO : epoch: 164; train_loss: 0.017119457945227623\n",
      "2024-04-10 12:15:17,796 : DEBUG : open file: /Users/andrey.golda/Documents/Study/MSU_interpol/training/wandb_local_logs/MSU_interpol_by_energy/cerulean-flower-9/checkpoints/exp_name=0val_loss=0.05944-epoch=164.ckpt\n",
      "2024-04-10 12:15:41,871 : INFO : epoch: 165; val_loss: 0.059444084763526917\n",
      "2024-04-10 12:15:41,875 : INFO : epoch: 165; train_loss: 0.017119046300649643\n",
      "2024-04-10 12:16:05,437 : INFO : epoch: 166; val_loss: 0.059442099183797836\n",
      "2024-04-10 12:16:05,442 : INFO : epoch: 166; train_loss: 0.017117910087108612\n",
      "2024-04-10 12:16:05,537 : DEBUG : open file: /Users/andrey.golda/Documents/Study/MSU_interpol/training/wandb_local_logs/MSU_interpol_by_energy/cerulean-flower-9/checkpoints/exp_name=0val_loss=0.05944-epoch=166.ckpt\n",
      "2024-04-10 12:16:27,549 : INFO : epoch: 167; val_loss: 0.05945223569869995\n",
      "2024-04-10 12:16:27,551 : INFO : epoch: 167; train_loss: 0.017115794122219086\n",
      "2024-04-10 12:16:47,471 : INFO : epoch: 168; val_loss: 0.059452515095472336\n",
      "2024-04-10 12:16:47,474 : INFO : epoch: 168; train_loss: 0.017115117982029915\n",
      "2024-04-10 12:17:06,840 : INFO : epoch: 169; val_loss: 0.059452399611473083\n",
      "2024-04-10 12:17:06,843 : INFO : epoch: 169; train_loss: 0.01711489073932171\n",
      "2024-04-10 12:17:26,319 : INFO : epoch: 170; val_loss: 0.05945197492837906\n",
      "2024-04-10 12:17:26,341 : INFO : epoch: 170; train_loss: 0.017114361748099327\n",
      "2024-04-10 12:17:45,482 : INFO : epoch: 171; val_loss: 0.05945121496915817\n",
      "2024-04-10 12:17:45,485 : INFO : epoch: 171; train_loss: 0.017114093527197838\n",
      "2024-04-10 12:18:04,776 : INFO : epoch: 172; val_loss: 0.05945199355483055\n",
      "2024-04-10 12:18:04,779 : INFO : epoch: 172; train_loss: 0.017113955691456795\n",
      "2024-04-10 12:18:23,734 : INFO : epoch: 173; val_loss: 0.059451643377542496\n",
      "2024-04-10 12:18:23,736 : INFO : epoch: 173; train_loss: 0.017113858833909035\n",
      "2024-04-10 12:18:42,853 : INFO : epoch: 174; val_loss: 0.05945084989070892\n",
      "2024-04-10 12:18:42,856 : INFO : epoch: 174; train_loss: 0.01711331307888031\n",
      "2024-04-10 12:19:02,140 : INFO : epoch: 175; val_loss: 0.05945081263780594\n",
      "2024-04-10 12:19:02,142 : INFO : epoch: 175; train_loss: 0.01711334101855755\n",
      "2024-04-10 12:19:21,404 : INFO : epoch: 176; val_loss: 0.059451546519994736\n",
      "2024-04-10 12:19:21,407 : INFO : epoch: 176; train_loss: 0.01711292564868927\n",
      "2024-04-10 12:19:40,528 : INFO : epoch: 177; val_loss: 0.059450265020132065\n",
      "2024-04-10 12:19:40,530 : INFO : epoch: 177; train_loss: 0.017112476751208305\n",
      "2024-04-10 12:19:59,996 : INFO : epoch: 178; val_loss: 0.0594511404633522\n",
      "2024-04-10 12:20:00,001 : INFO : epoch: 178; train_loss: 0.017112549394369125\n",
      "2024-04-10 12:20:19,138 : INFO : epoch: 179; val_loss: 0.0594496987760067\n",
      "2024-04-10 12:20:19,141 : INFO : epoch: 179; train_loss: 0.017112132161855698\n",
      "2024-04-10 12:20:38,309 : INFO : epoch: 180; val_loss: 0.059450626373291016\n",
      "2024-04-10 12:20:38,311 : INFO : epoch: 180; train_loss: 0.017112139612436295\n",
      "2024-04-10 12:20:57,382 : INFO : epoch: 181; val_loss: 0.059450145810842514\n",
      "2024-04-10 12:20:57,385 : INFO : epoch: 181; train_loss: 0.017111964523792267\n",
      "2024-04-10 12:21:16,914 : INFO : epoch: 182; val_loss: 0.059449613094329834\n",
      "2024-04-10 12:21:16,917 : INFO : epoch: 182; train_loss: 0.017111552879214287\n",
      "2024-04-10 12:21:36,553 : INFO : epoch: 183; val_loss: 0.05944875627756119\n",
      "2024-04-10 12:21:36,555 : INFO : epoch: 183; train_loss: 0.017111221328377724\n",
      "2024-04-10 12:21:56,294 : INFO : epoch: 184; val_loss: 0.05945628881454468\n",
      "2024-04-10 12:21:56,297 : INFO : epoch: 184; train_loss: 0.017110321670770645\n",
      "2024-04-10 12:22:15,673 : INFO : epoch: 185; val_loss: 0.05945552885532379\n",
      "2024-04-10 12:22:15,675 : INFO : epoch: 185; train_loss: 0.017110392451286316\n",
      "2024-04-10 12:22:34,660 : INFO : epoch: 186; val_loss: 0.059454940259456635\n",
      "2024-04-10 12:22:34,662 : INFO : epoch: 186; train_loss: 0.017110226675868034\n",
      "2024-04-10 12:22:53,008 : INFO : epoch: 187; val_loss: 0.059454843401908875\n",
      "2024-04-10 12:22:53,011 : INFO : epoch: 187; train_loss: 0.01711009256541729\n",
      "2024-04-10 12:23:11,617 : INFO : epoch: 188; val_loss: 0.05945480614900589\n",
      "2024-04-10 12:23:11,621 : INFO : epoch: 188; train_loss: 0.01710991933941841\n",
      "2024-04-10 12:23:32,099 : INFO : epoch: 189; val_loss: 0.05945482477545738\n",
      "2024-04-10 12:23:32,104 : INFO : epoch: 189; train_loss: 0.017109766602516174\n",
      "2024-04-10 12:23:55,456 : INFO : epoch: 190; val_loss: 0.0594545379281044\n",
      "2024-04-10 12:23:55,459 : INFO : epoch: 190; train_loss: 0.01710960641503334\n",
      "2024-04-10 12:24:22,919 : INFO : epoch: 191; val_loss: 0.059454698115587234\n",
      "2024-04-10 12:24:22,923 : INFO : epoch: 191; train_loss: 0.0171095859259367\n"
     ]
    },
    {
     "name": "stderr",
     "output_type": "stream",
     "text": [
      "/Users/andrey.golda/Library/Caches/pypoetry/virtualenvs/msu-interpol--lw2ADYE-py3.11/lib/python3.11/site-packages/lightning/pytorch/trainer/call.py:54: Detected KeyboardInterrupt, attempting graceful shutdown...\n"
     ]
    }
   ],
   "source": [
    "data_module = InterpolDataModule(hyperparams=hyperparams_dict)\n",
    "model = InterpolRegressor(hyperparams=hyperparams_dict)\n",
    "# model = InterpolRegressor.load_from_checkpoint(f'./wandb_local_logs/MSU_interpol/blooming-plasma-40/checkpoints/exp_name=0val_loss=6.43574-epoch=14.ckpt', hyperparams=hyperparams_dict)\n",
    "\n",
    "trainer = pl.Trainer(max_epochs=hyperparams_dict.get('max_epochs'),\n",
    "                     accelerator='cpu',\n",
    "                     logger=wandb_logger,\n",
    "                     enable_progress_bar=False)\n",
    "trainer.fit(model, data_module)"
   ]
  },
  {
   "cell_type": "code",
   "execution_count": 26,
   "id": "9f33d989",
   "metadata": {
    "scrolled": false,
    "ExecuteTime": {
     "end_time": "2024-04-10T11:24:45.198180Z",
     "start_time": "2024-04-10T11:24:36.063368Z"
    }
   },
   "outputs": [
    {
     "data": {
      "text/plain": "VBox(children=(Label(value='0.001 MB of 0.001 MB uploaded\\r'), FloatProgress(value=1.0, max=1.0)))",
      "application/vnd.jupyter.widget-view+json": {
       "version_major": 2,
       "version_minor": 0,
       "model_id": "9f81433ab94341e0bc28ed4e1eb035cf"
      }
     },
     "metadata": {},
     "output_type": "display_data"
    },
    {
     "data": {
      "text/plain": "<IPython.core.display.HTML object>",
      "text/html": "<style>\n    table.wandb td:nth-child(1) { padding: 0 10px; text-align: left ; width: auto;} td:nth-child(2) {text-align: left ; width: 100%}\n    .wandb-row { display: flex; flex-direction: row; flex-wrap: wrap; justify-content: flex-start; width: 100% }\n    .wandb-col { display: flex; flex-direction: column; flex-basis: 100%; flex: 1; padding: 10px; }\n    </style>\n<div class=\"wandb-row\"><div class=\"wandb-col\"><h3>Run history:</h3><br/><table class=\"wandb\"><tr><td>epoch</td><td>▁▁▁▂▂▂▂▂▂▃▃▃▃▃▄▄▄▄▄▄▅▅▅▅▅▅▆▆▆▆▆▇▇▇▇▇▇███</td></tr><tr><td>lr_scheduler_monitoring</td><td>███▄▄▄▃▃▃▃▂▂▂▁▁▁▁▁▁▁▁▁▁▁▁▁▁▁▁▁▁▁▁▁▁▁▁▁▁▁</td></tr><tr><td>train_loss</td><td>█▇▅▄▃▃▂▂▂▂▂▂▁▁▁▁▁▁▁▁▁▁▁▁▁▁▁▁▁▁▁▁▁▁▁▁▁▁▁▁</td></tr><tr><td>train_mae</td><td>█▇▅▄▄▃▃▂▂▂▂▂▂▁▁▁▁▁▁▁▁▁▁▁▁▁▁▁▁▁▁▁▁▁▁▁▁▁▁▁</td></tr><tr><td>trainer/global_step</td><td>▁▁▁▁▂▂▂▂▂▃▃▃▃▃▃▄▄▄▄▄▅▅▅▅▅▅▆▆▆▆▆▇▇▇▇▇▇███</td></tr><tr><td>val_loss</td><td>█▇▇▄▄▃▂▂▂▂▂▁▁▁▁▁▁▁▁▁▁▁▁▁▁▁▁▁▁▁▁▁▁▁▁▁▁▁▁▁</td></tr><tr><td>val_mae</td><td>█▇▆▄▄▃▃▂▂▂▂▂▂▁▁▁▁▁▁▁▁▁▁▁▁▁▁▁▁▁▁▁▁▁▁▁▁▁▁▁</td></tr></table><br/></div><div class=\"wandb-col\"><h3>Run summary:</h3><br/><table class=\"wandb\"><tr><td>epoch</td><td>191</td></tr><tr><td>lr_scheduler_monitoring</td><td>0.0</td></tr><tr><td>train_loss</td><td>0.01711</td></tr><tr><td>train_mae</td><td>0.07844</td></tr><tr><td>trainer/global_step</td><td>22080</td></tr><tr><td>val_loss</td><td>0.05945</td></tr><tr><td>val_mae</td><td>0.08268</td></tr></table><br/></div></div>"
     },
     "metadata": {},
     "output_type": "display_data"
    },
    {
     "data": {
      "text/plain": "<IPython.core.display.HTML object>",
      "text/html": " View run <strong style=\"color:#cdcd00\">cerulean-flower-9</strong> at: <a href='https://wandb.ai/msu_ai/msu_interpol_by_energy/runs/efuurdlj' target=\"_blank\">https://wandb.ai/msu_ai/msu_interpol_by_energy/runs/efuurdlj</a><br/> View job at <a href='https://wandb.ai/msu_ai/msu_interpol_by_energy/jobs/QXJ0aWZhY3RDb2xsZWN0aW9uOjE2MTI0NDU1Ng==/version_details/v0' target=\"_blank\">https://wandb.ai/msu_ai/msu_interpol_by_energy/jobs/QXJ0aWZhY3RDb2xsZWN0aW9uOjE2MTI0NDU1Ng==/version_details/v0</a><br/>Synced 5 W&B file(s), 0 media file(s), 2 artifact file(s) and 0 other file(s)"
     },
     "metadata": {},
     "output_type": "display_data"
    },
    {
     "data": {
      "text/plain": "<IPython.core.display.HTML object>",
      "text/html": "Find logs at: <code>./wandb_local_logs/wandb/run-20240410_105543-efuurdlj/logs</code>"
     },
     "metadata": {},
     "output_type": "display_data"
    }
   ],
   "source": [
    "wandb.finish()"
   ]
  },
  {
   "cell_type": "code",
   "execution_count": null,
   "outputs": [],
   "source": [],
   "metadata": {
    "collapsed": false
   }
  }
 ],
 "metadata": {
  "kernelspec": {
   "display_name": "Python 3",
   "language": "python",
   "name": "python3"
  },
  "language_info": {
   "codemirror_mode": {
    "name": "ipython",
    "version": 3
   },
   "file_extension": ".py",
   "mimetype": "text/x-python",
   "name": "python",
   "nbconvert_exporter": "python",
   "pygments_lexer": "ipython3",
   "version": "3.9.0"
  }
 },
 "nbformat": 4,
 "nbformat_minor": 5
}
