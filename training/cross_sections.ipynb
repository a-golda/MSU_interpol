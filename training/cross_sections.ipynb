{
 "cells": [
  {
   "cell_type": "code",
   "execution_count": 1,
   "id": "85e14e0e",
   "metadata": {
    "code_folding": [],
    "ExecuteTime": {
     "end_time": "2024-04-02T21:15:37.844722Z",
     "start_time": "2024-04-02T21:15:32.119173Z"
    }
   },
   "outputs": [
    {
     "name": "stderr",
     "output_type": "stream",
     "text": [
      "/var/folders/xz/1q44kbwx25g7j6b7qsjs_x4r0000gp/T/ipykernel_85448/2713701154.py:13: DeprecationWarning: \n",
      "Pyarrow will become a required dependency of pandas in the next major release of pandas (pandas 3.0),\n",
      "(to allow more performant data types, such as the Arrow string type, and better interoperability with other libraries)\n",
      "but was not found to be installed on your system.\n",
      "If this would cause problems for you,\n",
      "please provide us feedback at https://github.com/pandas-dev/pandas/issues/54466\n",
      "        \n",
      "  import pandas as pd\n"
     ]
    }
   ],
   "source": [
    "#import\n",
    "import os\n",
    "import sys\n",
    "\n",
    "import tqdm\n",
    "import math\n",
    "import wandb\n",
    "import torch\n",
    "import pylab\n",
    "import logging\n",
    "\n",
    "import numpy as np\n",
    "import pandas as pd\n",
    "import torch.nn as nn\n",
    "import lightning.pytorch as pl\n",
    "import matplotlib.pyplot as plt\n",
    "\n",
    "from random import randint\n",
    "from scipy.stats import chisquare, kstest\n",
    "from scipy.optimize import curve_fit\n",
    "from torchmetrics import MeanAbsoluteError\n",
    "from sklearn.preprocessing import StandardScaler\n",
    "from torch.utils.data import Dataset, DataLoader\n",
    "from lightning.pytorch.loggers import WandbLogger\n",
    "from sklearn.model_selection import train_test_split\n",
    "from torch.optim.lr_scheduler import ReduceLROnPlateau\n",
    "from lightning.pytorch.callbacks.early_stopping import EarlyStopping\n",
    "from lightning.pytorch.callbacks import Callback, LearningRateMonitor, ModelCheckpoint"
   ]
  },
  {
   "cell_type": "markdown",
   "id": "94775e58",
   "metadata": {},
   "source": [
    "# Reading model and data"
   ]
  },
  {
   "cell_type": "code",
   "execution_count": 2,
   "id": "ee41d69b",
   "metadata": {
    "collapsed": false,
    "jupyter": {
     "outputs_hidden": false
    },
    "ExecuteTime": {
     "end_time": "2024-04-02T21:15:38.458468Z",
     "start_time": "2024-04-02T21:15:37.845498Z"
    }
   },
   "outputs": [
    {
     "name": "stdout",
     "output_type": "stream",
     "text": [
      "2024-04-02 22:15:38,270 : DEBUG : open file: /Users/andrey.golda/Documents/Study/MSU_interpol/training/wandb_local_logs/MSU_interpol/spring-feather-42/checkpoints/exp_name=0val_loss=5.32146-epoch=201.ckpt\n"
     ]
    },
    {
     "name": "stderr",
     "output_type": "stream",
     "text": [
      "/Users/andrey.golda/Library/Caches/pypoetry/virtualenvs/msu-interpol--lw2ADYE-py3.11/lib/python3.11/site-packages/lightning/pytorch/utilities/parsing.py:198: Attribute 'activation_function' is an instance of `nn.Module` and is already saved during checkpointing. It is recommended to ignore them using `self.save_hyperparameters(ignore=['activation_function'])`.\n",
      "/Users/andrey.golda/Library/Caches/pypoetry/virtualenvs/msu-interpol--lw2ADYE-py3.11/lib/python3.11/site-packages/lightning/pytorch/utilities/parsing.py:198: Attribute 'loss_func' is an instance of `nn.Module` and is already saved during checkpointing. It is recommended to ignore them using `self.save_hyperparameters(ignore=['loss_func'])`.\n"
     ]
    },
    {
     "data": {
      "text/plain": "__main__.InterpolRegressor"
     },
     "execution_count": 2,
     "metadata": {},
     "output_type": "execute_result"
    }
   ],
   "source": [
    "class RMSELoss(torch.nn.Module):\n",
    "    def __init__(self):\n",
    "        super(RMSELoss,self).__init__()\n",
    "\n",
    "    def forward(self,x,y,w):\n",
    "        criterion = nn.MSELoss()\n",
    "        loss = torch.sqrt(criterion(x, y))*w\n",
    "        return loss.mean()\n",
    "\n",
    "#params\n",
    "project_name = \"MSU_interpol\"\n",
    "\n",
    "logger_path = './wandb_local_logs'\n",
    "data_path = '../data/clasdb_pi_plus_n.txt'\n",
    "\n",
    "hyperparams_dict = {\n",
    "    'scale_data': False,\n",
    "    'test_size': 0.1,\n",
    "    'batch_size': 32,\n",
    "    'net_architecture': [5,60,80,100,120,140,240,340,440,640,2000,1040,640,340,240,140,100,80,60,20,1],\n",
    "    'activation_function': nn.ReLU(),\n",
    "    'loss_func': RMSELoss(),\n",
    "    'optim_func': torch.optim.Adam,\n",
    "    'max_epochs': 2000,\n",
    "    'es_min_delta': 0.00001,\n",
    "    'es_patience': 20,\n",
    "    'lr': 0.001,\n",
    "    'lr_factor':0.5,\n",
    "    'lr_patience': 5,\n",
    "    'lr_cooldown': 20,\n",
    "}\n",
    "\n",
    "logger_full_path = os.path.join(logger_path, project_name, 'spring-feather-42')\n",
    "\n",
    "os.makedirs(logger_full_path, exist_ok=True)\n",
    "logging.basicConfig(encoding='utf-8',\n",
    "                    level=logging.DEBUG,\n",
    "                    format='%(asctime)s : %(levelname)s : %(message)s',\n",
    "                    handlers=[logging.FileHandler(os.path.join(logger_full_path, 'logs.log'), mode='w'),\n",
    "                              logging.StreamHandler(sys.stdout)],\n",
    "                    force=True)\n",
    "\n",
    "class InterpolDataSet(Dataset):\n",
    "    def __init__(self, features, labels, weights):\n",
    "        self.features = features\n",
    "        self.labels = labels\n",
    "        self.weights = weights\n",
    "        self.len = len(labels)\n",
    "\n",
    "    def __getitem__(self, index):\n",
    "        feature = self.features[index]\n",
    "        label = self.labels[index]\n",
    "        weights = self.weights[index]\n",
    "        return feature, label, weights\n",
    "\n",
    "    def __len__(self):\n",
    "        return self.len\n",
    "\n",
    "class InterpolDataModule(pl.LightningDataModule):\n",
    "    def __init__(self, hyperparams):\n",
    "        super().__init__()\n",
    "        self.df = None\n",
    "        self.hyperparams = hyperparams\n",
    "        self.train_dataset = None\n",
    "        self.val_dataset = None\n",
    "\n",
    "    def augment(self, new_augm):\n",
    "        augm = pd.Series({'Ebeam': np.random.normal(loc=new_augm.Ebeam, scale=new_augm.Ebeam/30),\n",
    "                           'W': np.random.normal(loc=new_augm.W, scale=new_augm.W/30),\n",
    "                           'Q2': np.random.normal(loc=new_augm.Q2, scale=new_augm.Q2/30),\n",
    "                           'cos_theta': np.clip(np.random.normal(loc=new_augm.cos_theta, scale=abs(new_augm.cos_theta/30)), -1, 1),\n",
    "                           'phi': np.clip(np.random.normal(loc=new_augm.phi, scale=new_augm.phi/30), 0, 2*np.pi),\n",
    "                           'dsigma_dOmega': np.random.normal(loc=new_augm.dsigma_dOmega, scale=new_augm.error/3),\n",
    "                           'error': new_augm.error,\n",
    "                           'weight': new_augm.weight,\n",
    "                          })\n",
    "        return augm\n",
    "\n",
    "    def setup(self, stage):\n",
    "        # data reading and preprocessing\n",
    "        df = pd.read_csv(data_path, delimiter='\\t', header=None)\n",
    "        df.columns = ['Ebeam', 'W', 'Q2', 'cos_theta', 'phi', 'dsigma_dOmega', 'error', 'id']\n",
    "        df.loc[8314:65671, 'Ebeam'] = 5.754 # peculiarity of this dataset.\n",
    "        df['phi'] = df.phi.apply(lambda x: math.radians(x))\n",
    "        df['weight'] = df['error'].apply(lambda x: x and 1 / x or 100) # x and 1 / x or 100  is just a reversed error but with validation 1/0 error in this case it will return 100\n",
    "        df = df.drop('id', axis=1)\n",
    "        df = df.iloc[df[['Ebeam', 'W', 'Q2', 'cos_theta', 'phi']].drop_duplicates().index]\n",
    "\n",
    "        #train test split\n",
    "        feature_columns = ['Ebeam', 'W', 'Q2', 'cos_theta', 'phi']\n",
    "        feature_columns_with_weights = ['Ebeam', 'W', 'Q2', 'cos_theta', 'phi', 'weight']\n",
    "\n",
    "        feature_data = df[feature_columns_with_weights]\n",
    "        label_data = df['dsigma_dOmega']\n",
    "\n",
    "        if self.hyperparams.get('scale_data'):\n",
    "            scaler_feature = StandardScaler()\n",
    "            scaler_target = StandardScaler()\n",
    "            feature_data = scaler_feature.fit_transform(feature_data)\n",
    "            label_data = scaler_target.fit_transform(label_data.values.reshape(-1,1))\n",
    "        else:\n",
    "            pass\n",
    "\n",
    "        if self.hyperparams.get('augment'):\n",
    "            aug_series_list = []\n",
    "            for i in tqdm.tqdm(df.itertuples()):\n",
    "                for _ in range(self.hyperparams.get('augment_factor')):\n",
    "                    aug_series_list.append(self.augment(i))\n",
    "\n",
    "            aug_df = pd.DataFrame(aug_series_list)\n",
    "            df = pd.concat([df, aug_df])\n",
    "        else:\n",
    "            pass\n",
    "\n",
    "        self.df = df\n",
    "\n",
    "        train_feature_data, val_feature_data, train_label_data, val_label_data = train_test_split(feature_data,\n",
    "                                                                                                  label_data,\n",
    "                                                                                                  test_size=self.hyperparams.get('test_size'),\n",
    "                                                                                                  random_state=1438)\n",
    "\n",
    "\n",
    "        self.train_dataset = InterpolDataSet(torch.tensor(train_feature_data[feature_columns].values, dtype=torch.float32),\n",
    "                                             torch.tensor(train_label_data.values, dtype=torch.float32),\n",
    "                                             torch.tensor(train_feature_data['weight'].values, dtype=torch.float32))\n",
    "\n",
    "        self.val_dataset = InterpolDataSet(torch.tensor(val_feature_data[feature_columns].values, dtype=torch.float32),\n",
    "                                           torch.tensor(val_label_data.values, dtype=torch.float32),\n",
    "                                           torch.tensor(val_feature_data['weight'].values, dtype=torch.float32))\n",
    "    def train_dataloader(self):\n",
    "        return DataLoader(dataset = self.train_dataset, batch_size = self.hyperparams.get('batch_size'), shuffle = False, num_workers=0)\n",
    "\n",
    "    def val_dataloader(self):\n",
    "        return DataLoader(dataset = self.val_dataset, batch_size = self.hyperparams.get('batch_size'), shuffle = False, num_workers=0)\n",
    "\n",
    "class PrintCallbacks(Callback):\n",
    "    def on_train_start(self, trainer, pl_module):\n",
    "        logging.info(\"Training is starting\")\n",
    "\n",
    "    def on_train_end(self, trainer, pl_module):\n",
    "        logging.info(\"Training is ending\")\n",
    "\n",
    "    def on_train_epoch_end(self, trainer, pl_module):\n",
    "        epoch_mean = torch.stack(pl_module.training_step_outputs).mean()\n",
    "        logging.info(f\"epoch: {pl_module.current_epoch}; train_loss: {epoch_mean}\")\n",
    "        pl_module.training_step_outputs.clear()\n",
    "\n",
    "    def on_validation_epoch_end(self, trainer, pl_module):\n",
    "        epoch_mean = torch.stack(pl_module.validation_step_outputs).mean()\n",
    "        logging.info(f\"epoch: {pl_module.current_epoch}; val_loss: {epoch_mean}\")\n",
    "        pl_module.validation_step_outputs.clear()\n",
    "\n",
    "class InterpolRegressor(pl.LightningModule):\n",
    "    def __init__(self, hyperparams):\n",
    "        super(InterpolRegressor, self).__init__()\n",
    "\n",
    "        self.train_loss, self.train_mae, self.val_loss, self.val_mae = 0,0,0,0\n",
    "        self.hyperparams = hyperparams\n",
    "        self.save_hyperparameters(self.hyperparams)\n",
    "\n",
    "        self.mae = MeanAbsoluteError()\n",
    "        self.loss_func = self.hyperparams.get('loss_func')\n",
    "\n",
    "        self.optim = self.hyperparams.get('optim_func')\n",
    "\n",
    "        self.net_architecture = self.hyperparams.get('net_architecture')\n",
    "        self.activation_function = self.hyperparams.get('activation_function')\n",
    "\n",
    "        self.training_step_outputs = []\n",
    "        self.validation_step_outputs = []\n",
    "\n",
    "        self.net = nn.Sequential()\n",
    "        for i in range(1,len(self.net_architecture)):\n",
    "            self.net.append(nn.Linear(self.net_architecture[i-1], self.net_architecture[i]))\n",
    "            if i!=len(self.net_architecture)-1:\n",
    "                self.net.append(self.activation_function)\n",
    "            else:\n",
    "                pass\n",
    "\n",
    "    def forward(self, x):\n",
    "        return self.net(x)\n",
    "\n",
    "    def training_step(self, batch, batch_idx):\n",
    "        x, y, w = batch\n",
    "        y_hat = self.forward(x)\n",
    "\n",
    "        loss = self.loss_func\n",
    "        self.train_loss = loss.forward(y_hat.reshape(-1), y, w)\n",
    "        self.train_mae = self.mae(y_hat.reshape(-1), y)\n",
    "\n",
    "        self.log('train_loss', self.train_loss, batch_size=self.hyperparams['batch_size'],\n",
    "                 on_step=False, on_epoch=True, prog_bar=True, sync_dist=True, logger=True)\n",
    "        self.log('train_mae', self.train_mae, batch_size=self.hyperparams['batch_size'],\n",
    "                 on_step=False, on_epoch=True, prog_bar=True, sync_dist=True, logger=True)\n",
    "\n",
    "        self.training_step_outputs.append(self.train_loss)\n",
    "        return self.train_loss\n",
    "\n",
    "    def validation_step(self, batch, batch_idx):\n",
    "        x, y, w = batch\n",
    "        y_hat = self.forward(x)\n",
    "\n",
    "        loss = self.loss_func\n",
    "        self.val_loss = loss.forward(y_hat.reshape(-1), y, w)\n",
    "        self.val_mae = self.mae(y_hat.reshape(-1), y)\n",
    "\n",
    "        self.log('val_loss', self.val_loss, batch_size=self.hyperparams['batch_size'],\n",
    "                 on_step=False, on_epoch=True, prog_bar=True, sync_dist=True, logger=True)\n",
    "        self.log('val_mae', self.val_mae, batch_size=self.hyperparams['batch_size'],\n",
    "                 on_step=False, on_epoch=True, prog_bar=True, sync_dist=True, logger=True)\n",
    "\n",
    "        self.validation_step_outputs.append(self.val_loss)\n",
    "        return self.val_loss\n",
    "\n",
    "    def on_validation_epoch_end(self):\n",
    "        sch = self.lr_schedulers()\n",
    "        if isinstance(sch, torch.optim.lr_scheduler.ReduceLROnPlateau) and self.trainer.current_epoch!=0:\n",
    "                sch.step(self.trainer.callback_metrics[\"val_loss\"])\n",
    "\n",
    "    def configure_callbacks(self):\n",
    "        early_stop_callback = EarlyStopping(monitor=\"val_loss\", mode=\"min\",\n",
    "                                            min_delta=self.hyperparams.get('es_min_delta'),\n",
    "                                            patience=self.hyperparams.get('es_patience'),\n",
    "                                            verbose=True)\n",
    "\n",
    "        checkpoint_callback = ModelCheckpoint(save_top_k=3,\n",
    "                                              monitor=\"val_loss\",\n",
    "                                              mode=\"min\",\n",
    "                                              dirpath=f\"{logger_full_path}/checkpoints\",\n",
    "                                              filename=\"{exp_name}{val_loss:.5f}-{epoch:02d}\")\n",
    "\n",
    "        lr_monitor = LearningRateMonitor(logging_interval='epoch')\n",
    "\n",
    "        print_callback = PrintCallbacks()\n",
    "\n",
    "        return [early_stop_callback, checkpoint_callback, print_callback, lr_monitor]\n",
    "\n",
    "    def configure_optimizers(self):\n",
    "        optimizer = self.optim(self.parameters(), lr=self.hyperparams.get('lr'))\n",
    "        lr_optim = ReduceLROnPlateau(optimizer = optimizer,\n",
    "                                     mode = 'min',\n",
    "                                     factor = self.hyperparams.get('lr_factor'),\n",
    "                                     patience = self.hyperparams.get('lr_patience'),\n",
    "                                     cooldown=self.hyperparams.get('lr_cooldown'),\n",
    "                                     threshold=0.01,\n",
    "                                     verbose= True)\n",
    "        return {\"optimizer\": optimizer,\n",
    "                \"lr_scheduler\": {\n",
    "                    \"scheduler\": lr_optim,\n",
    "                    \"interval\": \"epoch\",\n",
    "                    \"monitor\": \"val_loss\",\n",
    "                    \"frequency\": 2,\n",
    "                    \"name\": 'lr_scheduler_monitoring'}\n",
    "                }\n",
    "\n",
    "data = InterpolDataModule(hyperparams_dict)\n",
    "data.setup('test')\n",
    "df = data.df\n",
    "df_all = df[['Ebeam', 'W', 'Q2', 'cos_theta', 'phi']]\n",
    "df_target = df[['dsigma_dOmega']]\n",
    "\n",
    "model = InterpolRegressor.load_from_checkpoint(f'./wandb_local_logs/MSU_interpol/spring-feather-42/checkpoints/exp_name=0val_loss=5.32146-epoch=201.ckpt', hyperparams=hyperparams_dict)\n",
    "model.eval()\n",
    "type(model)"
   ]
  },
  {
   "cell_type": "markdown",
   "id": "9c0014b7",
   "metadata": {
    "ExecuteTime": {
     "end_time": "2024-03-07T19:19:34.043071Z",
     "start_time": "2024-03-07T19:19:34.020565Z"
    }
   },
   "source": [
    "# Checks"
   ],
   "outputs": [
    {
     "data": {
      "text/plain": "       Ebeam     W     Q2  cos_theta       phi  dsigma_dOmega    error  \\\n8314   5.754  1.11  1.715       -0.1  0.130900        0.24835  0.08115   \n8315   5.754  1.11  1.715       -0.1  0.392699        0.31508  0.08929   \n8316   5.754  1.11  1.715       -0.1  0.654498        0.33037  0.09702   \n8317   5.754  1.11  1.715       -0.1  0.916298        0.22582  0.05960   \n8318   5.754  1.11  1.715        0.1  0.130900        0.31506  0.09540   \n...      ...   ...    ...        ...       ...            ...      ...   \n13915  5.754  1.79  1.715        0.9  5.105088        1.26589  0.66304   \n13916  5.754  1.79  1.715        0.9  5.366887        1.34113  0.51332   \n13917  5.754  1.79  1.715        0.9  5.628687        1.32469  0.51314   \n13918  5.754  1.79  1.715        0.9  5.890486        1.35947  0.50051   \n13919  5.754  1.79  1.715        0.9  6.152286        1.46719  0.68719   \n\n          weight  \n8314   12.322859  \n8315   11.199462  \n8316   10.307153  \n8317   16.778523  \n8318   10.482180  \n...          ...  \n13915   1.508205  \n13916   1.948103  \n13917   1.948786  \n13918   1.997962  \n13919   1.455202  \n\n[5606 rows x 8 columns]",
      "text/html": "<div>\n<style scoped>\n    .dataframe tbody tr th:only-of-type {\n        vertical-align: middle;\n    }\n\n    .dataframe tbody tr th {\n        vertical-align: top;\n    }\n\n    .dataframe thead th {\n        text-align: right;\n    }\n</style>\n<table border=\"1\" class=\"dataframe\">\n  <thead>\n    <tr style=\"text-align: right;\">\n      <th></th>\n      <th>Ebeam</th>\n      <th>W</th>\n      <th>Q2</th>\n      <th>cos_theta</th>\n      <th>phi</th>\n      <th>dsigma_dOmega</th>\n      <th>error</th>\n      <th>weight</th>\n    </tr>\n  </thead>\n  <tbody>\n    <tr>\n      <th>8314</th>\n      <td>5.754</td>\n      <td>1.11</td>\n      <td>1.715</td>\n      <td>-0.1</td>\n      <td>0.130900</td>\n      <td>0.24835</td>\n      <td>0.08115</td>\n      <td>12.322859</td>\n    </tr>\n    <tr>\n      <th>8315</th>\n      <td>5.754</td>\n      <td>1.11</td>\n      <td>1.715</td>\n      <td>-0.1</td>\n      <td>0.392699</td>\n      <td>0.31508</td>\n      <td>0.08929</td>\n      <td>11.199462</td>\n    </tr>\n    <tr>\n      <th>8316</th>\n      <td>5.754</td>\n      <td>1.11</td>\n      <td>1.715</td>\n      <td>-0.1</td>\n      <td>0.654498</td>\n      <td>0.33037</td>\n      <td>0.09702</td>\n      <td>10.307153</td>\n    </tr>\n    <tr>\n      <th>8317</th>\n      <td>5.754</td>\n      <td>1.11</td>\n      <td>1.715</td>\n      <td>-0.1</td>\n      <td>0.916298</td>\n      <td>0.22582</td>\n      <td>0.05960</td>\n      <td>16.778523</td>\n    </tr>\n    <tr>\n      <th>8318</th>\n      <td>5.754</td>\n      <td>1.11</td>\n      <td>1.715</td>\n      <td>0.1</td>\n      <td>0.130900</td>\n      <td>0.31506</td>\n      <td>0.09540</td>\n      <td>10.482180</td>\n    </tr>\n    <tr>\n      <th>...</th>\n      <td>...</td>\n      <td>...</td>\n      <td>...</td>\n      <td>...</td>\n      <td>...</td>\n      <td>...</td>\n      <td>...</td>\n      <td>...</td>\n    </tr>\n    <tr>\n      <th>13915</th>\n      <td>5.754</td>\n      <td>1.79</td>\n      <td>1.715</td>\n      <td>0.9</td>\n      <td>5.105088</td>\n      <td>1.26589</td>\n      <td>0.66304</td>\n      <td>1.508205</td>\n    </tr>\n    <tr>\n      <th>13916</th>\n      <td>5.754</td>\n      <td>1.79</td>\n      <td>1.715</td>\n      <td>0.9</td>\n      <td>5.366887</td>\n      <td>1.34113</td>\n      <td>0.51332</td>\n      <td>1.948103</td>\n    </tr>\n    <tr>\n      <th>13917</th>\n      <td>5.754</td>\n      <td>1.79</td>\n      <td>1.715</td>\n      <td>0.9</td>\n      <td>5.628687</td>\n      <td>1.32469</td>\n      <td>0.51314</td>\n      <td>1.948786</td>\n    </tr>\n    <tr>\n      <th>13918</th>\n      <td>5.754</td>\n      <td>1.79</td>\n      <td>1.715</td>\n      <td>0.9</td>\n      <td>5.890486</td>\n      <td>1.35947</td>\n      <td>0.50051</td>\n      <td>1.997962</td>\n    </tr>\n    <tr>\n      <th>13919</th>\n      <td>5.754</td>\n      <td>1.79</td>\n      <td>1.715</td>\n      <td>0.9</td>\n      <td>6.152286</td>\n      <td>1.46719</td>\n      <td>0.68719</td>\n      <td>1.455202</td>\n    </tr>\n  </tbody>\n</table>\n<p>5606 rows × 8 columns</p>\n</div>"
     },
     "execution_count": 33,
     "metadata": {},
     "output_type": "execute_result"
    }
   ],
   "execution_count": 33
  },
  {
   "cell_type": "code",
   "execution_count": 34,
   "outputs": [
    {
     "data": {
      "text/plain": "       Ebeam     W    Q2  cos_theta       phi  dsigma_dOmega     error  \\\n48083  5.754  1.15  1.72        0.3  0.130900        0.23121  0.094731   \n48084  5.754  1.15  1.72        0.3  0.392699        0.26869  0.121521   \n48085  5.754  1.15  1.72        0.3  2.225295        0.83380  0.094940   \n48086  5.754  1.15  1.72        0.3  2.487094        0.75189  0.074243   \n48087  5.754  1.15  1.72        0.3  2.748894        0.51962  0.061812   \n...      ...   ...   ...        ...       ...            ...       ...   \n52480  5.754  1.69  1.72        0.9  5.105088        2.01824  0.097172   \n52481  5.754  1.69  1.72        0.9  5.366887        1.83657  0.082778   \n52482  5.754  1.69  1.72        0.9  5.628687        1.61440  0.071256   \n52483  5.754  1.69  1.72        0.9  5.890486        1.43218  0.065761   \n52484  5.754  1.69  1.72        0.9  6.152286        1.37394  0.060918   \n\n          weight  \n48083  10.556159  \n48084   8.229040  \n48085  10.532946  \n48086  13.469374  \n48087  16.178037  \n...          ...  \n52480  10.291046  \n52481  12.080543  \n52482  14.034003  \n52483  15.206623  \n52484  16.415566  \n\n[4402 rows x 8 columns]",
      "text/html": "<div>\n<style scoped>\n    .dataframe tbody tr th:only-of-type {\n        vertical-align: middle;\n    }\n\n    .dataframe tbody tr th {\n        vertical-align: top;\n    }\n\n    .dataframe thead th {\n        text-align: right;\n    }\n</style>\n<table border=\"1\" class=\"dataframe\">\n  <thead>\n    <tr style=\"text-align: right;\">\n      <th></th>\n      <th>Ebeam</th>\n      <th>W</th>\n      <th>Q2</th>\n      <th>cos_theta</th>\n      <th>phi</th>\n      <th>dsigma_dOmega</th>\n      <th>error</th>\n      <th>weight</th>\n    </tr>\n  </thead>\n  <tbody>\n    <tr>\n      <th>48083</th>\n      <td>5.754</td>\n      <td>1.15</td>\n      <td>1.72</td>\n      <td>0.3</td>\n      <td>0.130900</td>\n      <td>0.23121</td>\n      <td>0.094731</td>\n      <td>10.556159</td>\n    </tr>\n    <tr>\n      <th>48084</th>\n      <td>5.754</td>\n      <td>1.15</td>\n      <td>1.72</td>\n      <td>0.3</td>\n      <td>0.392699</td>\n      <td>0.26869</td>\n      <td>0.121521</td>\n      <td>8.229040</td>\n    </tr>\n    <tr>\n      <th>48085</th>\n      <td>5.754</td>\n      <td>1.15</td>\n      <td>1.72</td>\n      <td>0.3</td>\n      <td>2.225295</td>\n      <td>0.83380</td>\n      <td>0.094940</td>\n      <td>10.532946</td>\n    </tr>\n    <tr>\n      <th>48086</th>\n      <td>5.754</td>\n      <td>1.15</td>\n      <td>1.72</td>\n      <td>0.3</td>\n      <td>2.487094</td>\n      <td>0.75189</td>\n      <td>0.074243</td>\n      <td>13.469374</td>\n    </tr>\n    <tr>\n      <th>48087</th>\n      <td>5.754</td>\n      <td>1.15</td>\n      <td>1.72</td>\n      <td>0.3</td>\n      <td>2.748894</td>\n      <td>0.51962</td>\n      <td>0.061812</td>\n      <td>16.178037</td>\n    </tr>\n    <tr>\n      <th>...</th>\n      <td>...</td>\n      <td>...</td>\n      <td>...</td>\n      <td>...</td>\n      <td>...</td>\n      <td>...</td>\n      <td>...</td>\n      <td>...</td>\n    </tr>\n    <tr>\n      <th>52480</th>\n      <td>5.754</td>\n      <td>1.69</td>\n      <td>1.72</td>\n      <td>0.9</td>\n      <td>5.105088</td>\n      <td>2.01824</td>\n      <td>0.097172</td>\n      <td>10.291046</td>\n    </tr>\n    <tr>\n      <th>52481</th>\n      <td>5.754</td>\n      <td>1.69</td>\n      <td>1.72</td>\n      <td>0.9</td>\n      <td>5.366887</td>\n      <td>1.83657</td>\n      <td>0.082778</td>\n      <td>12.080543</td>\n    </tr>\n    <tr>\n      <th>52482</th>\n      <td>5.754</td>\n      <td>1.69</td>\n      <td>1.72</td>\n      <td>0.9</td>\n      <td>5.628687</td>\n      <td>1.61440</td>\n      <td>0.071256</td>\n      <td>14.034003</td>\n    </tr>\n    <tr>\n      <th>52483</th>\n      <td>5.754</td>\n      <td>1.69</td>\n      <td>1.72</td>\n      <td>0.9</td>\n      <td>5.890486</td>\n      <td>1.43218</td>\n      <td>0.065761</td>\n      <td>15.206623</td>\n    </tr>\n    <tr>\n      <th>52484</th>\n      <td>5.754</td>\n      <td>1.69</td>\n      <td>1.72</td>\n      <td>0.9</td>\n      <td>6.152286</td>\n      <td>1.37394</td>\n      <td>0.060918</td>\n      <td>16.415566</td>\n    </tr>\n  </tbody>\n</table>\n<p>4402 rows × 8 columns</p>\n</div>"
     },
     "execution_count": 34,
     "metadata": {},
     "output_type": "execute_result"
    }
   ],
   "source": [
    "plt.scatter(df[df.Ebeam == 5.754].W, df[df.Ebeam == 5.754].Q2)"
   ],
   "metadata": {
    "collapsed": false,
    "ExecuteTime": {
     "end_time": "2024-03-07T19:19:45.760633Z",
     "start_time": "2024-03-07T19:19:45.744831Z"
    }
   }
  },
  {
   "cell_type": "code",
   "execution_count": 7,
   "outputs": [],
   "source": [
    "plt.scatter(df[df.Ebeam == 5.754].W, df[df.Ebeam == 5.754].Q2)"
   ],
   "metadata": {
    "collapsed": false,
    "ExecuteTime": {
     "end_time": "2024-03-07T16:49:30.504471Z",
     "start_time": "2024-03-07T16:49:30.490684Z"
    }
   }
  },
  {
   "cell_type": "code",
   "execution_count": 35,
   "outputs": [
    {
     "data": {
      "text/plain": "       Ebeam     W   Q2  cos_theta       phi  dsigma_dOmega     error  \\\n0      1.515  1.11  0.3   0.991445  0.261799        15.3700  5.264366   \n1      1.515  1.11  0.3   0.991445  0.785398         4.5110  1.743136   \n2      1.515  1.11  0.3   0.991445  1.308997         4.4780  1.611260   \n3      1.515  1.11  0.3   0.991445  1.832596         5.1360  1.523529   \n4      1.515  1.11  0.3   0.991445  2.356194         5.0780  1.219442   \n...      ...   ...  ...        ...       ...            ...       ...   \n98022  5.499  2.01  4.0   0.975000  3.730641         0.1012  0.043165   \n98023  5.499  2.01  4.0   0.975000  3.992441         0.1199  0.076638   \n98024  5.499  2.01  4.0   0.975000  4.646939         0.1578  0.095391   \n98025  5.499  2.01  4.0   0.975000  4.777839         0.2346  0.158557   \n98026  5.499  2.01  4.0   0.975000  6.086836         0.1250  0.077753   \n\n          weight  \n0       0.189956  \n1       0.573679  \n2       0.620632  \n3       0.656371  \n4       0.820047  \n...          ...  \n98022  23.166714  \n98023  13.048361  \n98024  10.483159  \n98025   6.306878  \n98026  12.861250  \n\n[93435 rows x 8 columns]",
      "text/html": "<div>\n<style scoped>\n    .dataframe tbody tr th:only-of-type {\n        vertical-align: middle;\n    }\n\n    .dataframe tbody tr th {\n        vertical-align: top;\n    }\n\n    .dataframe thead th {\n        text-align: right;\n    }\n</style>\n<table border=\"1\" class=\"dataframe\">\n  <thead>\n    <tr style=\"text-align: right;\">\n      <th></th>\n      <th>Ebeam</th>\n      <th>W</th>\n      <th>Q2</th>\n      <th>cos_theta</th>\n      <th>phi</th>\n      <th>dsigma_dOmega</th>\n      <th>error</th>\n      <th>weight</th>\n    </tr>\n  </thead>\n  <tbody>\n    <tr>\n      <th>0</th>\n      <td>1.515</td>\n      <td>1.11</td>\n      <td>0.3</td>\n      <td>0.991445</td>\n      <td>0.261799</td>\n      <td>15.3700</td>\n      <td>5.264366</td>\n      <td>0.189956</td>\n    </tr>\n    <tr>\n      <th>1</th>\n      <td>1.515</td>\n      <td>1.11</td>\n      <td>0.3</td>\n      <td>0.991445</td>\n      <td>0.785398</td>\n      <td>4.5110</td>\n      <td>1.743136</td>\n      <td>0.573679</td>\n    </tr>\n    <tr>\n      <th>2</th>\n      <td>1.515</td>\n      <td>1.11</td>\n      <td>0.3</td>\n      <td>0.991445</td>\n      <td>1.308997</td>\n      <td>4.4780</td>\n      <td>1.611260</td>\n      <td>0.620632</td>\n    </tr>\n    <tr>\n      <th>3</th>\n      <td>1.515</td>\n      <td>1.11</td>\n      <td>0.3</td>\n      <td>0.991445</td>\n      <td>1.832596</td>\n      <td>5.1360</td>\n      <td>1.523529</td>\n      <td>0.656371</td>\n    </tr>\n    <tr>\n      <th>4</th>\n      <td>1.515</td>\n      <td>1.11</td>\n      <td>0.3</td>\n      <td>0.991445</td>\n      <td>2.356194</td>\n      <td>5.0780</td>\n      <td>1.219442</td>\n      <td>0.820047</td>\n    </tr>\n    <tr>\n      <th>...</th>\n      <td>...</td>\n      <td>...</td>\n      <td>...</td>\n      <td>...</td>\n      <td>...</td>\n      <td>...</td>\n      <td>...</td>\n      <td>...</td>\n    </tr>\n    <tr>\n      <th>98022</th>\n      <td>5.499</td>\n      <td>2.01</td>\n      <td>4.0</td>\n      <td>0.975000</td>\n      <td>3.730641</td>\n      <td>0.1012</td>\n      <td>0.043165</td>\n      <td>23.166714</td>\n    </tr>\n    <tr>\n      <th>98023</th>\n      <td>5.499</td>\n      <td>2.01</td>\n      <td>4.0</td>\n      <td>0.975000</td>\n      <td>3.992441</td>\n      <td>0.1199</td>\n      <td>0.076638</td>\n      <td>13.048361</td>\n    </tr>\n    <tr>\n      <th>98024</th>\n      <td>5.499</td>\n      <td>2.01</td>\n      <td>4.0</td>\n      <td>0.975000</td>\n      <td>4.646939</td>\n      <td>0.1578</td>\n      <td>0.095391</td>\n      <td>10.483159</td>\n    </tr>\n    <tr>\n      <th>98025</th>\n      <td>5.499</td>\n      <td>2.01</td>\n      <td>4.0</td>\n      <td>0.975000</td>\n      <td>4.777839</td>\n      <td>0.2346</td>\n      <td>0.158557</td>\n      <td>6.306878</td>\n    </tr>\n    <tr>\n      <th>98026</th>\n      <td>5.499</td>\n      <td>2.01</td>\n      <td>4.0</td>\n      <td>0.975000</td>\n      <td>6.086836</td>\n      <td>0.1250</td>\n      <td>0.077753</td>\n      <td>12.861250</td>\n    </tr>\n  </tbody>\n</table>\n<p>93435 rows × 8 columns</p>\n</div>"
     },
     "execution_count": 35,
     "metadata": {},
     "output_type": "execute_result"
    }
   ],
   "source": [
    "df[df.Ebeam == 5.754].groupby('Q2').count().sort_values('Q2')"
   ],
   "metadata": {
    "collapsed": false,
    "ExecuteTime": {
     "end_time": "2024-03-07T19:22:20.973965Z",
     "start_time": "2024-03-07T19:22:20.952154Z"
    }
   }
  },
  {
   "cell_type": "code",
   "execution_count": 18,
   "outputs": [],
   "source": [
    "sorted(df[df.Ebeam == 5.754].Q2.unique())"
   ],
   "metadata": {
    "collapsed": false,
    "ExecuteTime": {
     "end_time": "2024-03-07T17:04:15.402315Z",
     "start_time": "2024-03-07T17:04:15.396713Z"
    }
   }
  },
  {
   "cell_type": "markdown",
   "source": [
    "### Crossections"
   ],
   "metadata": {
    "collapsed": false,
    "ExecuteTime": {
     "end_time": "2024-03-07T17:06:14.867711Z",
     "start_time": "2024-03-07T17:06:14.858012Z"
    }
   },
   "outputs": [],
   "execution_count": 20
  },
  {
   "cell_type": "code",
   "execution_count": 25,
   "id": "7ad29580",
   "metadata": {
    "code_folding": [
     0
    ],
    "ExecuteTime": {
     "end_time": "2024-03-07T17:08:27.632985Z",
     "start_time": "2024-03-07T17:08:27.621277Z"
    }
   },
   "outputs": [
    {
     "data": {
      "text/plain": "1.69"
     },
     "execution_count": 25,
     "metadata": {},
     "output_type": "execute_result"
    }
   ],
   "source": [
    "def cross_sections_check(df, E_beam, W, Q2, cos_theta):\n",
    "    df_example_set = df[(df.Ebeam == E_beam)&\n",
    "                        (df.W == W)&\n",
    "                        (df.Q2 == Q2)&\n",
    "                        (df.cos_theta == cos_theta)].sort_values('phi')\n",
    "    if len(df_example_set)==0:\n",
    "        print(len(df_example_set), E_beam, W, Q2, cos_theta)\n",
    "        return None\n",
    "\n",
    "    df_example_set_for_prediction = pd.DataFrame({'Ebeam' : [E_beam for _ in np.arange(0, 2*np.pi, 0.01)],\n",
    "                                                  'W' : [W for _ in np.arange(0, 2*np.pi, 0.01)],\n",
    "                                                  'Q2' : [Q2 for _ in np.arange(0, 2*np.pi, 0.01)],\n",
    "                                                  'cos_theta' : [cos_theta for _ in np.arange(0, 2*np.pi, 0.01)],\n",
    "                                                  'phi' : [phi for phi in np.arange(0, 2*np.pi, 0.01)]})\n",
    "\n",
    "#     return df_example_set\n",
    "    with torch.no_grad():\n",
    "        dsigma_dOmega_predicted = model.forward(torch.tensor(df_example_set_for_prediction.to_numpy(),dtype=torch.float32)).detach()\n",
    "        df_example_set_for_prediction['dsigma_dOmega_predicted'] = dsigma_dOmega_predicted\n",
    "\n",
    "    def func_cos(x, a, b, c): \n",
    "        return a + b*np.cos(2*x) + c*np.cos(x) \n",
    "\n",
    "    #input data \n",
    "    xdata = df_example_set.phi\n",
    "    ydata = df_example_set.dsigma_dOmega\n",
    "    ydata_error = df_example_set.error\n",
    "\n",
    "    #fitting the data \n",
    "    popt, pcov = curve_fit(func_cos, xdata, ydata, sigma=ydata_error, absolute_sigma=True)\n",
    "\n",
    "    a, b, c = popt[0], popt[1], popt[2]\n",
    "    #print the fitted parameters \n",
    "    print(\"a = %s , b = %s, c = %s\" % (a, b, c))\n",
    "    phi_theory = [i for i in np.arange(0, 2*np.pi, 0.01)]\n",
    "    dsigma_dOmega_theory = [func_cos(x, a, b, c) for x in phi_theory]\n",
    "\n",
    "    df_theory = pd.DataFrame({'phi_theory': phi_theory,\n",
    "                              'dsigma_dOmega_theory': dsigma_dOmega_theory})\n",
    "\n",
    "    df_chi_2 = pd.merge_asof(df_example_set, df_theory, left_on='phi', right_on='phi_theory')\n",
    "    df_chi_2 = pd.merge_asof(df_chi_2, df_example_set_for_prediction, on='phi')\n",
    "    df_chi_2 = df_chi_2[['phi', 'dsigma_dOmega', 'dsigma_dOmega_theory', 'dsigma_dOmega_predicted']]\n",
    "\n",
    "    real = df_chi_2['dsigma_dOmega'].apply(lambda x: np.round(x, 6)).values\n",
    "    theory = df_chi_2['dsigma_dOmega_theory'].apply(lambda x: np.round(x, 6)).values\n",
    "    preds = df_chi_2['dsigma_dOmega_predicted'].apply(lambda x: np.round(x, 6)).values\n",
    "\n",
    "    stat_theory_chi, p_value_theory_chi = np.round(chisquare(real, np.sum(real)/np.sum(theory)*theory), 3)\n",
    "    stat_preds_chi, p_value_preds_chi = np.round(chisquare(real, np.sum(real)/np.sum(preds)*preds), 3)\n",
    "\n",
    "    stat_theory_ks, p_value_theory_ks = np.round(kstest(real, theory), 2)\n",
    "    stat_preds_ks, p_value_preds_ks = np.round(kstest(real, preds), 2)\n",
    "\n",
    "    plt.figure(figsize=(22, 6), dpi=80)\n",
    "    plt.plot(phi_theory, \n",
    "             dsigma_dOmega_theory, \n",
    "             label=f'fitted, chi^2 = {stat_theory_chi}, p_value = {p_value_theory_chi}, ks = {stat_theory_ks}, p_value = {p_value_theory_ks}')\n",
    "    plt.plot(df_example_set_for_prediction.phi, \n",
    "             dsigma_dOmega_predicted, \n",
    "             color='green',\n",
    "             label=f'predicted; chi^2 = {stat_preds_chi}, p_value = {p_value_preds_chi}, ks = {stat_preds_ks}, p_value = {p_value_preds_ks}')\n",
    "    plt.scatter(x=df_example_set.phi, \n",
    "                y=df_example_set.dsigma_dOmega,\n",
    "                color='red', marker='*', label=f\"real_data with params Ebeam: {E_beam}, W: {W}, Q2: {Q2}, cos_theta: {cos_theta}\")\n",
    "    plt.errorbar(x=df_example_set.phi,\n",
    "                 y=df_example_set.dsigma_dOmega,\n",
    "                 yerr=df_example_set.error,\n",
    "                 color='red',\n",
    "                 fmt='o')\n",
    "\n",
    "    plt.xlabel(\"phi: rad\", fontsize=\"20\")\n",
    "    plt.ylabel(\"dsigma_dOmega: barn\", fontsize=\"20\")\n",
    "    \n",
    "    plt.legend(loc =\"upper right\", fontsize=\"15\")\n",
    "    plt.savefig(f'./check_screenshots/E_beam={E_beam}/Q2={Q2}/W={W}/E_beam={E_beam}_Q2={Q2}_W={W}_cos_theta={cos_theta}.png')\n",
    "    plt.show()\n",
    "    return None"
   ]
  },
  {
   "cell_type": "code",
   "execution_count": 14,
   "id": "37b88315",
   "metadata": {
    "collapsed": false,
    "jupyter": {
     "outputs_hidden": false
    },
    "ExecuteTime": {
     "end_time": "2024-03-06T23:42:44.942449Z",
     "start_time": "2024-03-06T23:42:44.926549Z"
    }
   },
   "outputs": [],
   "source": [
    "E_beam = 5.499\n",
    "\n",
    "for Q2 in tqdm.tqdm(np.sort(df[df.Ebeam == E_beam].Q2.unique())):\n",
    "    # os.makedirs(f\"./check_screenshots/E_beam={E_beam}/Q2={Q2}\")\n",
    "    for W in tqdm.tqdm([1.23, 1.53, 1.71, 1.95]):\n",
    "        # os.makedirs(f\"./check_screenshots/E_beam={E_beam}/Q2={Q2}/W={W}\")\n",
    "        for cos_theta in [-0.9,-0.8,-0.7,-0.6,-0.5,-0.4,-0.3,-0.2,-0.1,0.1,0.2,0.3,0.4,0.5,0.6,0.7,0.8,0.9]:\n",
    "            try:\n",
    "                cross_sections_check(df, E_beam, W, Q2, cos_theta)\n",
    "            except:\n",
    "                print(E_beam, W, Q2, cos_theta)"
   ]
  },
  {
   "cell_type": "markdown",
   "source": [
    "### Structure functions"
   ],
   "metadata": {
    "collapsed": false
   }
  },
  {
   "cell_type": "code",
   "execution_count": 42,
   "id": "f205d33c",
   "metadata": {
    "collapsed": false,
    "jupyter": {
     "outputs_hidden": false
    },
    "ExecuteTime": {
     "end_time": "2024-02-15T00:10:10.727463Z",
     "start_time": "2024-02-15T00:09:44.345085Z"
    }
   },
   "outputs": [
    {
     "name": "stderr",
     "output_type": "stream",
     "text": [
      "100%|██████████| 221/221 [00:16<00:00, 13.17it/s]\n"
     ]
    }
   ],
   "source": [
    "# df_grid\n",
    "Ebeam = 5.754\n",
    "step_W = 0.005\n",
    "step_Q2 = 0.1\n",
    "step_cos_theta = 0.1\n",
    "step_phi = 0.05\n",
    "\n",
    "\n",
    "data_grid = []\n",
    "for W in tqdm.tqdm(np.arange(1.1, 2.2 + step_W, step_W)):\n",
    "    for Q2 in np.arange(1.6, 4.3 + step_Q2, step_Q2):\n",
    "         for cos_theta in np.arange(-1, 1+step_cos_theta, step_cos_theta):\n",
    "                for phi in np.arange(0, 2*np.pi, step_phi):\n",
    "                    data_grid.append([Ebeam,\n",
    "                                      W,\n",
    "                                      Q2,\n",
    "                                      cos_theta,\n",
    "                                      phi])\n",
    "\n",
    "df_grid = pd.DataFrame(data_grid)\n",
    "df_grid.columns = ['Ebeam', 'W', 'Q2', 'cos_theta', 'phi']\n",
    "\n",
    "\n",
    "df_grid.W = np.round(df_grid.W, 3)\n",
    "df_grid.Q2 = np.round(df_grid.Q2, 3)\n",
    "df_grid.cos_theta = np.round(df_grid.cos_theta, 3)\n",
    "df_grid.phi = np.round(df_grid.phi, 3)"
   ]
  }
 ],
 "metadata": {
  "kernelspec": {
   "display_name": "Python 3 (ipykernel)",
   "language": "python",
   "name": "python3"
  },
  "language_info": {
   "codemirror_mode": {
    "name": "ipython",
    "version": 3
   },
   "file_extension": ".py",
   "mimetype": "text/x-python",
   "name": "python",
   "nbconvert_exporter": "python",
   "pygments_lexer": "ipython3",
   "version": "3.11.4"
  }
 },
 "nbformat": 4,
 "nbformat_minor": 5
}
