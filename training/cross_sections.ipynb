{
 "cells": [
  {
   "cell_type": "code",
   "execution_count": 156,
   "id": "85e14e0e",
   "metadata": {
    "code_folding": [],
    "ExecuteTime": {
     "end_time": "2024-02-05T23:54:52.766780Z",
     "start_time": "2024-02-05T23:54:52.758609Z"
    }
   },
   "outputs": [],
   "source": [
    "#import\n",
    "import os\n",
    "import sys\n",
    "\n",
    "import tqdm\n",
    "import math\n",
    "import wandb\n",
    "import torch\n",
    "import pylab\n",
    "import logging\n",
    "\n",
    "import numpy as np\n",
    "import pandas as pd\n",
    "import torch.nn as nn\n",
    "import lightning.pytorch as pl\n",
    "import matplotlib.pyplot as plt\n",
    "\n",
    "from random import randint\n",
    "from scipy.stats import chisquare\n",
    "from scipy.optimize import curve_fit\n",
    "from torchmetrics import MeanAbsoluteError\n",
    "from sklearn.preprocessing import StandardScaler\n",
    "from torch.utils.data import Dataset, DataLoader\n",
    "from lightning.pytorch.loggers import WandbLogger\n",
    "from sklearn.model_selection import train_test_split\n",
    "from torch.optim.lr_scheduler import ReduceLROnPlateau\n",
    "from lightning.pytorch.callbacks.early_stopping import EarlyStopping\n",
    "from lightning.pytorch.callbacks import Callback, LearningRateMonitor, ModelCheckpoint"
   ]
  },
  {
   "cell_type": "markdown",
   "id": "94775e58",
   "metadata": {},
   "source": [
    "# Reading model and data"
   ]
  },
  {
   "cell_type": "code",
   "execution_count": null,
   "outputs": [],
   "source": [
    "class RMSELoss(torch.nn.Module):\n",
    "    def __init__(self):\n",
    "        super(RMSELoss,self).__init__()\n",
    "\n",
    "    def forward(self,x,y,w):\n",
    "        criterion = nn.MSELoss()\n",
    "        loss = torch.sqrt(criterion(x, y))*w\n",
    "        return loss.mean()\n",
    "\n",
    "#params\n",
    "project_name = \"MSU_interpol\"\n",
    "\n",
    "logger_path = './wandb_local_logs'\n",
    "data_path = '../data/clasdb_pi_plus_n.txt'\n",
    "\n",
    "hyperparams_dict = {\n",
    "    'scale_data': False,\n",
    "    'test_size': 0.1,\n",
    "    'batch_size': 32,\n",
    "    'net_architecture': [5,60,80,100,120,140,240,340,440,640,2000,1040,640,340,240,140,100,80,60,20,1],\n",
    "    'activation_function': nn.ReLU(),\n",
    "    'loss_func': RMSELoss(),\n",
    "    'optim_func': torch.optim.Adam,\n",
    "    'max_epochs': 2000,\n",
    "    'es_min_delta': 0.00001,\n",
    "    'es_patience': 20,\n",
    "    'lr': 0.001,\n",
    "    'lr_factor':0.5,\n",
    "    'lr_patience': 5,\n",
    "    'lr_cooldown': 20,\n",
    "}\n",
    "\n",
    "logger_full_path = os.path.join(logger_path, project_name, 'spring-feather-42')\n",
    "\n",
    "os.makedirs(logger_full_path, exist_ok=True)\n",
    "logging.basicConfig(encoding='utf-8',\n",
    "                    level=logging.DEBUG,\n",
    "                    format='%(asctime)s : %(levelname)s : %(message)s',\n",
    "                    handlers=[logging.FileHandler(os.path.join(logger_full_path, 'logs.log'), mode='w'),\n",
    "                              logging.StreamHandler(sys.stdout)],\n",
    "                    force=True)\n",
    "\n",
    "class InterpolDataSet(Dataset):\n",
    "    def __init__(self, features, labels, weights):\n",
    "        self.features = features\n",
    "        self.labels = labels\n",
    "        self.weights = weights\n",
    "        self.len = len(labels)\n",
    "\n",
    "    def __getitem__(self, index):\n",
    "        feature = self.features[index]\n",
    "        label = self.labels[index]\n",
    "        weights = self.weights[index]\n",
    "        return feature, label, weights\n",
    "\n",
    "    def __len__(self):\n",
    "        return self.len\n",
    "\n",
    "class InterpolDataModule(pl.LightningDataModule):\n",
    "    def __init__(self, hyperparams):\n",
    "        super().__init__()\n",
    "        self.df = None\n",
    "        self.hyperparams = hyperparams\n",
    "        self.train_dataset = None\n",
    "        self.val_dataset = None\n",
    "\n",
    "    def augment(self, new_augm):\n",
    "        augm = pd.Series({'Ebeam': np.random.normal(loc=new_augm.Ebeam, scale=new_augm.Ebeam/30),\n",
    "                           'W': np.random.normal(loc=new_augm.W, scale=new_augm.W/30),\n",
    "                           'Q2': np.random.normal(loc=new_augm.Q2, scale=new_augm.Q2/30),\n",
    "                           'cos_theta': np.clip(np.random.normal(loc=new_augm.cos_theta, scale=abs(new_augm.cos_theta/30)), -1, 1),\n",
    "                           'phi': np.clip(np.random.normal(loc=new_augm.phi, scale=new_augm.phi/30), 0, 2*np.pi),\n",
    "                           'dsigma_dOmega': np.random.normal(loc=new_augm.dsigma_dOmega, scale=new_augm.error/3),\n",
    "                           'error': new_augm.error,\n",
    "                           'weight': new_augm.weight,\n",
    "                          })\n",
    "        return augm\n",
    "\n",
    "    def setup(self, stage):\n",
    "        # data reading and preprocessing\n",
    "        df = pd.read_csv(data_path, delimiter='\\t', header=None)\n",
    "        df.columns = ['Ebeam', 'W', 'Q2', 'cos_theta', 'phi', 'dsigma_dOmega', 'error', 'id']\n",
    "        df.loc[8314:65671, 'Ebeam'] = 5.754 # peculiarity of this dataset.\n",
    "        df['phi'] = df.phi.apply(lambda x: math.radians(x))\n",
    "        df['weight'] = df['error'].apply(lambda x: x and 1 / x or 100) # x and 1 / x or 100  is just a reversed error but with validation 1/0 error in this case it will return 100\n",
    "        df = df.drop('id', axis=1)\n",
    "        df = df.iloc[df[['Ebeam', 'W', 'Q2', 'cos_theta', 'phi']].drop_duplicates().index]\n",
    "\n",
    "        #train test split\n",
    "        feature_columns = ['Ebeam', 'W', 'Q2', 'cos_theta', 'phi']\n",
    "        feature_columns_with_weights = ['Ebeam', 'W', 'Q2', 'cos_theta', 'phi', 'weight']\n",
    "\n",
    "        feature_data = df[feature_columns_with_weights]\n",
    "        label_data = df['dsigma_dOmega']\n",
    "\n",
    "        if self.hyperparams.get('scale_data'):\n",
    "            scaler_feature = StandardScaler()\n",
    "            scaler_target = StandardScaler()\n",
    "            feature_data = scaler_feature.fit_transform(feature_data)\n",
    "            label_data = scaler_target.fit_transform(label_data.values.reshape(-1,1))\n",
    "        else:\n",
    "            pass\n",
    "\n",
    "        if self.hyperparams.get('augment'):\n",
    "            aug_series_list = []\n",
    "            for i in tqdm.tqdm(df.itertuples()):\n",
    "                for _ in range(self.hyperparams.get('augment_factor')):\n",
    "                    aug_series_list.append(self.augment(i))\n",
    "\n",
    "            aug_df = pd.DataFrame(aug_series_list)\n",
    "            df = pd.concat([df, aug_df])\n",
    "        else:\n",
    "            pass\n",
    "\n",
    "        self.df = df\n",
    "\n",
    "        train_feature_data, val_feature_data, train_label_data, val_label_data = train_test_split(feature_data,\n",
    "                                                                                                  label_data,\n",
    "                                                                                                  test_size=self.hyperparams.get('test_size'),\n",
    "                                                                                                  random_state=1438)\n",
    "\n",
    "\n",
    "        self.train_dataset = InterpolDataSet(torch.tensor(train_feature_data[feature_columns].values, dtype=torch.float32),\n",
    "                                             torch.tensor(train_label_data.values, dtype=torch.float32),\n",
    "                                             torch.tensor(train_feature_data['weight'].values, dtype=torch.float32))\n",
    "\n",
    "        self.val_dataset = InterpolDataSet(torch.tensor(val_feature_data[feature_columns].values, dtype=torch.float32),\n",
    "                                           torch.tensor(val_label_data.values, dtype=torch.float32),\n",
    "                                           torch.tensor(val_feature_data['weight'].values, dtype=torch.float32))\n",
    "    def train_dataloader(self):\n",
    "        return DataLoader(dataset = self.train_dataset, batch_size = self.hyperparams.get('batch_size'), shuffle = False, num_workers=0)\n",
    "\n",
    "    def val_dataloader(self):\n",
    "        return DataLoader(dataset = self.val_dataset, batch_size = self.hyperparams.get('batch_size'), shuffle = False, num_workers=0)\n",
    "\n",
    "class PrintCallbacks(Callback):\n",
    "    def on_train_start(self, trainer, pl_module):\n",
    "        logging.info(\"Training is starting\")\n",
    "\n",
    "    def on_train_end(self, trainer, pl_module):\n",
    "        logging.info(\"Training is ending\")\n",
    "\n",
    "    def on_train_epoch_end(self, trainer, pl_module):\n",
    "        epoch_mean = torch.stack(pl_module.training_step_outputs).mean()\n",
    "        logging.info(f\"epoch: {pl_module.current_epoch}; train_loss: {epoch_mean}\")\n",
    "        pl_module.training_step_outputs.clear()\n",
    "\n",
    "    def on_validation_epoch_end(self, trainer, pl_module):\n",
    "        epoch_mean = torch.stack(pl_module.validation_step_outputs).mean()\n",
    "        logging.info(f\"epoch: {pl_module.current_epoch}; val_loss: {epoch_mean}\")\n",
    "        pl_module.validation_step_outputs.clear()\n",
    "\n",
    "class InterpolRegressor(pl.LightningModule):\n",
    "    def __init__(self, hyperparams):\n",
    "        super(InterpolRegressor, self).__init__()\n",
    "\n",
    "        self.train_loss, self.train_mae, self.val_loss, self.val_mae = 0,0,0,0\n",
    "        self.hyperparams = hyperparams\n",
    "        self.save_hyperparameters(self.hyperparams)\n",
    "\n",
    "        self.mae = MeanAbsoluteError()\n",
    "        self.loss_func = self.hyperparams.get('loss_func')\n",
    "\n",
    "        self.optim = self.hyperparams.get('optim_func')\n",
    "\n",
    "        self.net_architecture = self.hyperparams.get('net_architecture')\n",
    "        self.activation_function = self.hyperparams.get('activation_function')\n",
    "\n",
    "        self.training_step_outputs = []\n",
    "        self.validation_step_outputs = []\n",
    "\n",
    "        self.net = nn.Sequential()\n",
    "        for i in range(1,len(self.net_architecture)):\n",
    "            self.net.append(nn.Linear(self.net_architecture[i-1], self.net_architecture[i]))\n",
    "            if i!=len(self.net_architecture)-1:\n",
    "                self.net.append(self.activation_function)\n",
    "            else:\n",
    "                pass\n",
    "\n",
    "    def forward(self, x):\n",
    "        return self.net(x)\n",
    "\n",
    "    def training_step(self, batch, batch_idx):\n",
    "        x, y, w = batch\n",
    "        y_hat = self.forward(x)\n",
    "\n",
    "        loss = self.loss_func\n",
    "        self.train_loss = loss.forward(y_hat.reshape(-1), y, w)\n",
    "        self.train_mae = self.mae(y_hat.reshape(-1), y)\n",
    "\n",
    "        self.log('train_loss', self.train_loss, batch_size=self.hyperparams['batch_size'],\n",
    "                 on_step=False, on_epoch=True, prog_bar=True, sync_dist=True, logger=True)\n",
    "        self.log('train_mae', self.train_mae, batch_size=self.hyperparams['batch_size'],\n",
    "                 on_step=False, on_epoch=True, prog_bar=True, sync_dist=True, logger=True)\n",
    "\n",
    "        self.training_step_outputs.append(self.train_loss)\n",
    "        return self.train_loss\n",
    "\n",
    "    def validation_step(self, batch, batch_idx):\n",
    "        x, y, w = batch\n",
    "        y_hat = self.forward(x)\n",
    "\n",
    "        loss = self.loss_func\n",
    "        self.val_loss = loss.forward(y_hat.reshape(-1), y, w)\n",
    "        self.val_mae = self.mae(y_hat.reshape(-1), y)\n",
    "\n",
    "        self.log('val_loss', self.val_loss, batch_size=self.hyperparams['batch_size'],\n",
    "                 on_step=False, on_epoch=True, prog_bar=True, sync_dist=True, logger=True)\n",
    "        self.log('val_mae', self.val_mae, batch_size=self.hyperparams['batch_size'],\n",
    "                 on_step=False, on_epoch=True, prog_bar=True, sync_dist=True, logger=True)\n",
    "\n",
    "        self.validation_step_outputs.append(self.val_loss)\n",
    "        return self.val_loss\n",
    "\n",
    "    def on_validation_epoch_end(self):\n",
    "        sch = self.lr_schedulers()\n",
    "        if isinstance(sch, torch.optim.lr_scheduler.ReduceLROnPlateau) and self.trainer.current_epoch!=0:\n",
    "                sch.step(self.trainer.callback_metrics[\"val_loss\"])\n",
    "\n",
    "    def configure_callbacks(self):\n",
    "        early_stop_callback = EarlyStopping(monitor=\"val_loss\", mode=\"min\",\n",
    "                                            min_delta=self.hyperparams.get('es_min_delta'),\n",
    "                                            patience=self.hyperparams.get('es_patience'),\n",
    "                                            verbose=True)\n",
    "\n",
    "        checkpoint_callback = ModelCheckpoint(save_top_k=3,\n",
    "                                              monitor=\"val_loss\",\n",
    "                                              mode=\"min\",\n",
    "                                              dirpath=f\"{logger_full_path}/checkpoints\",\n",
    "                                              filename=\"{exp_name}{val_loss:.5f}-{epoch:02d}\")\n",
    "\n",
    "        lr_monitor = LearningRateMonitor(logging_interval='epoch')\n",
    "\n",
    "        print_callback = PrintCallbacks()\n",
    "\n",
    "        return [early_stop_callback, checkpoint_callback, print_callback, lr_monitor]\n",
    "\n",
    "    def configure_optimizers(self):\n",
    "        optimizer = self.optim(self.parameters(), lr=self.hyperparams.get('lr'))\n",
    "        lr_optim = ReduceLROnPlateau(optimizer = optimizer,\n",
    "                                     mode = 'min',\n",
    "                                     factor = self.hyperparams.get('lr_factor'),\n",
    "                                     patience = self.hyperparams.get('lr_patience'),\n",
    "                                     cooldown=self.hyperparams.get('lr_cooldown'),\n",
    "                                     threshold=0.01,\n",
    "                                     verbose= True)\n",
    "        return {\"optimizer\": optimizer,\n",
    "                \"lr_scheduler\": {\n",
    "                    \"scheduler\": lr_optim,\n",
    "                    \"interval\": \"epoch\",\n",
    "                    \"monitor\": \"val_loss\",\n",
    "                    \"frequency\": 2,\n",
    "                    \"name\": 'lr_scheduler_monitoring'}\n",
    "                }\n",
    "\n",
    "data = InterpolDataModule(hyperparams_dict)\n",
    "data.setup('test')\n",
    "df = data.df\n",
    "df_all = df[['Ebeam', 'W', 'Q2', 'cos_theta', 'phi']]\n",
    "df_target = df[['dsigma_dOmega']]\n",
    "\n",
    "model = InterpolRegressor.load_from_checkpoint(f'./wandb_local_logs/MSU_interpol/spring-feather-42/checkpoints/exp_name=0val_loss=5.32146-epoch=201.ckpt', hyperparams=hyperparams_dict)\n",
    "model.eval()\n",
    "type(model)"
   ],
   "metadata": {
    "collapsed": false
   }
  },
  {
   "cell_type": "markdown",
   "id": "9c0014b7",
   "metadata": {},
   "source": [
    "# Checks"
   ]
  },
  {
   "cell_type": "code",
   "execution_count": null,
   "outputs": [],
   "source": [
    "df"
   ],
   "metadata": {
    "collapsed": false
   }
  },
  {
   "cell_type": "code",
   "execution_count": null,
   "outputs": [],
   "source": [
    "E_beam = 5.754\n",
    "\n",
    "for Q2 in np.sort(df[df.Ebeam == E_beam].Q2.unique()):\n",
    "    for W in [1.23, 1.53, 1.71, 1.95]:\n",
    "        for cos_theta in [-0.9, -0.7, -0.5, -0.3, -0.1, 0.1, 0.3, 0.5, 0.7, 0.9]:"
   ],
   "metadata": {
    "collapsed": false
   }
  },
  {
   "cell_type": "code",
   "execution_count": 178,
   "id": "7ad29580",
   "metadata": {
    "code_folding": [
     0
    ],
    "ExecuteTime": {
     "end_time": "2024-02-06T00:11:26.286571Z",
     "start_time": "2024-02-06T00:11:26.273237Z"
    }
   },
   "outputs": [],
   "source": [
    "def cross_sections_check(df, E_beam, W, Q2, cos_theta):\n",
    "    df_example_set = df[(df.Ebeam == E_beam)&\n",
    "                        (df.W == W)&\n",
    "                        (df.Q2 == Q2)&\n",
    "                        (df.cos_theta == cos_theta)].sort_values('phi')\n",
    "    \n",
    "    df_example_set_for_prediction = pd.DataFrame({'Ebeam' : [E_beam for _ in np.arange(0, 2*np.pi, 0.01)],\n",
    "                                                  'W' : [W for _ in np.arange(0, 2*np.pi, 0.01)],\n",
    "                                                  'Q2' : [Q2 for _ in np.arange(0, 2*np.pi, 0.01)],\n",
    "                                                  'cos_theta' : [cos_theta for _ in np.arange(0, 2*np.pi, 0.01)],\n",
    "                                                  'phi' : [phi for phi in np.arange(0, 2*np.pi, 0.01)]})\n",
    "\n",
    "#     return df_example_set\n",
    "    with torch.no_grad():\n",
    "        dsigma_dOmega_predicted = model.forward(torch.tensor(df_example_set_for_prediction.to_numpy(),dtype=torch.float32)).detach()\n",
    "        df_example_set_for_prediction['dsigma_dOmega_predicted'] = dsigma_dOmega_predicted\n",
    "\n",
    "    def func_cos(x, a, b, c): \n",
    "        return a + b*np.cos(2*x) + c*np.cos(x) \n",
    "\n",
    "    #input data \n",
    "    xdata = df_example_set.phi\n",
    "    ydata = df_example_set.dsigma_dOmega\n",
    "    ydata_error = df_example_set.error\n",
    "\n",
    "    #fitting the data \n",
    "    popt, pcov = curve_fit(func_cos, xdata, ydata, sigma=ydata_error, absolute_sigma=True)\n",
    "\n",
    "    a, b, c = popt[0], popt[1], popt[2]\n",
    "    #print the fitted parameters \n",
    "    print(\"a = %s , b = %s, c = %s\" % (a, b, c))\n",
    "    phi_theory = [i for i in np.arange(0, 2*np.pi, 0.01)]\n",
    "    dsigma_dOmega_theory = [func_cos(x, a, b, c) for x in phi_theory]\n",
    "\n",
    "    df_theory = pd.DataFrame({'phi_theory': phi_theory,\n",
    "                              'dsigma_dOmega_theory': dsigma_dOmega_theory})\n",
    "\n",
    "    df_chi_2 = pd.merge_asof(df_example_set, df_theory, left_on='phi', right_on='phi_theory')\n",
    "    df_chi_2 = pd.merge_asof(df_chi_2, df_example_set_for_prediction, on='phi')\n",
    "    df_chi_2 = df_chi_2[['phi', 'dsigma_dOmega', 'dsigma_dOmega_theory', 'dsigma_dOmega_predicted']]\n",
    "\n",
    "    real = df_chi_2['dsigma_dOmega'].values\n",
    "    theory = df_chi_2['dsigma_dOmega_theory'].values\n",
    "    preds = df_chi_2['dsigma_dOmega_predicted'].values\n",
    "    print(df_chi_2)\n",
    "\n",
    "    stat_theory, p_value_theory = chisquare(real, np.sum(real)/np.sum(theory)*theory)\n",
    "    stat_preds, p_value_preds = chisquare(real, np.sum(real)/np.sum(preds)*preds)\n",
    "\n",
    "    plt.figure(figsize=(22, 6), dpi=80)\n",
    "    plt.plot(phi_theory, \n",
    "             dsigma_dOmega_theory, \n",
    "             label=f'fitted a + b*cos(2*x) + c*cos(x) function; chi^2 = {stat_theory}, p_value = {p_value_theory}')\n",
    "    plt.plot(df_example_set_for_prediction.phi, \n",
    "             dsigma_dOmega_predicted, \n",
    "             color='green', label=f'predicted; chi^2 = {stat_preds}, p_value = {p_value_preds}')\n",
    "    plt.scatter(x=df_example_set.phi, \n",
    "                y=df_example_set.dsigma_dOmega,\n",
    "                color='red', marker='*', label=f\"real_data with params Ebeam: {E_beam}, W: {W}, Q2: {Q2}, cos_theta: {cos_theta}\")\n",
    "    plt.errorbar(x=df_example_set.phi,\n",
    "                 y=df_example_set.dsigma_dOmega,\n",
    "                 yerr=df_example_set.error,\n",
    "                 color='red',\n",
    "                 fmt='o')\n",
    "\n",
    "    plt.xlabel(\"phi: rad\", fontsize=\"20\")\n",
    "    plt.ylabel(\"dsigma_dOmega: barn\", fontsize=\"20\")\n",
    "    \n",
    "    plt.legend(loc =\"upper right\", fontsize=\"15\")\n",
    "    plt.show()\n"
   ]
  },
  {
   "cell_type": "code",
   "execution_count": 179,
   "outputs": [
    {
     "name": "stdout",
     "output_type": "stream",
     "text": [
      "a = 1.7185332089687748 , b = -0.4612814882248366, c = 0.07355141583340039\n",
      "         phi  dsigma_dOmega  dsigma_dOmega_theory  dsigma_dOmega_predicted\n",
      "0   0.130900        1.40181              1.345686                 1.150643\n",
      "1   0.392699        1.38206              1.458630                 1.401473\n",
      "2   0.654498        1.70711              1.653694                 1.614261\n",
      "3   0.916298        1.99623              1.877442                 1.891696\n",
      "4   1.178097        2.17525              2.068080                 1.980472\n",
      "5   1.439897        2.24946              2.171968                 2.151667\n",
      "6   1.701696        2.09487              2.155023                 2.408630\n",
      "7   1.963495        2.09582              2.019072                 2.342434\n",
      "8   2.225295        1.87187              1.798168                 2.032857\n",
      "9   2.487094        1.61725              1.547445                 1.907008\n",
      "10  3.796091        1.47668              1.535102                 1.571361\n",
      "11  4.057891        1.87187              1.785641                 1.723032\n",
      "12  4.319690        1.96430              2.009522                 1.877724\n",
      "13  4.581489        2.09487              2.154030                 1.876256\n",
      "14  4.843289        2.24946              2.174233                 1.945506\n",
      "15  5.105088        2.17525              2.075812                 1.993049\n",
      "16  5.366887        1.99623              1.888420                 1.929607\n",
      "17  5.628687        1.65152              1.664865                 1.731822\n",
      "18  5.890486        1.41218              1.460614                 1.486039\n",
      "19  6.152286        1.41182              1.346420                 1.256913\n"
     ]
    },
    {
     "ename": "ValueError",
     "evalue": "For each axis slice, the sum of the observed frequencies must agree with the sum of the expected frequencies to a relative tolerance of 1e-08, but the percent differences are:\n1.622160133285814e-07",
     "output_type": "error",
     "traceback": [
      "\u001B[0;31m---------------------------------------------------------------------------\u001B[0m",
      "\u001B[0;31mValueError\u001B[0m                                Traceback (most recent call last)",
      "\u001B[0;32m/var/folders/xz/1q44kbwx25g7j6b7qsjs_x4r0000gp/T/ipykernel_34726/243145555.py\u001B[0m in \u001B[0;36m?\u001B[0;34m()\u001B[0m\n\u001B[0;32m----> 1\u001B[0;31m \u001B[0mcross_sections_check\u001B[0m\u001B[0;34m(\u001B[0m\u001B[0mdf\u001B[0m\u001B[0;34m,\u001B[0m \u001B[0;36m5.754\u001B[0m\u001B[0;34m,\u001B[0m \u001B[0;36m1.53\u001B[0m\u001B[0;34m,\u001B[0m \u001B[0;36m1.715\u001B[0m\u001B[0;34m,\u001B[0m \u001B[0;36m0.5\u001B[0m\u001B[0;34m)\u001B[0m\u001B[0;34m\u001B[0m\u001B[0;34m\u001B[0m\u001B[0m\n\u001B[0m",
      "\u001B[0;32m/var/folders/xz/1q44kbwx25g7j6b7qsjs_x4r0000gp/T/ipykernel_34726/2379478348.py\u001B[0m in \u001B[0;36m?\u001B[0;34m(df, E_beam, W, Q2, cos_theta)\u001B[0m\n\u001B[1;32m     44\u001B[0m     \u001B[0mpreds\u001B[0m \u001B[0;34m=\u001B[0m \u001B[0mdf_chi_2\u001B[0m\u001B[0;34m[\u001B[0m\u001B[0;34m'dsigma_dOmega_predicted'\u001B[0m\u001B[0;34m]\u001B[0m\u001B[0;34m.\u001B[0m\u001B[0mvalues\u001B[0m\u001B[0;34m\u001B[0m\u001B[0;34m\u001B[0m\u001B[0m\n\u001B[1;32m     45\u001B[0m     \u001B[0mprint\u001B[0m\u001B[0;34m(\u001B[0m\u001B[0mdf_chi_2\u001B[0m\u001B[0;34m)\u001B[0m\u001B[0;34m\u001B[0m\u001B[0;34m\u001B[0m\u001B[0m\n\u001B[1;32m     46\u001B[0m \u001B[0;34m\u001B[0m\u001B[0m\n\u001B[1;32m     47\u001B[0m     \u001B[0mstat_theory\u001B[0m\u001B[0;34m,\u001B[0m \u001B[0mp_value_theory\u001B[0m \u001B[0;34m=\u001B[0m \u001B[0mchisquare\u001B[0m\u001B[0;34m(\u001B[0m\u001B[0mreal\u001B[0m\u001B[0;34m,\u001B[0m \u001B[0mnp\u001B[0m\u001B[0;34m.\u001B[0m\u001B[0msum\u001B[0m\u001B[0;34m(\u001B[0m\u001B[0mreal\u001B[0m\u001B[0;34m)\u001B[0m\u001B[0;34m/\u001B[0m\u001B[0mnp\u001B[0m\u001B[0;34m.\u001B[0m\u001B[0msum\u001B[0m\u001B[0;34m(\u001B[0m\u001B[0mtheory\u001B[0m\u001B[0;34m)\u001B[0m\u001B[0;34m*\u001B[0m\u001B[0mtheory\u001B[0m\u001B[0;34m)\u001B[0m\u001B[0;34m\u001B[0m\u001B[0;34m\u001B[0m\u001B[0m\n\u001B[0;32m---> 48\u001B[0;31m     \u001B[0mstat_preds\u001B[0m\u001B[0;34m,\u001B[0m \u001B[0mp_value_preds\u001B[0m \u001B[0;34m=\u001B[0m \u001B[0mchisquare\u001B[0m\u001B[0;34m(\u001B[0m\u001B[0mreal\u001B[0m\u001B[0;34m,\u001B[0m \u001B[0mnp\u001B[0m\u001B[0;34m.\u001B[0m\u001B[0msum\u001B[0m\u001B[0;34m(\u001B[0m\u001B[0mreal\u001B[0m\u001B[0;34m)\u001B[0m\u001B[0;34m/\u001B[0m\u001B[0mnp\u001B[0m\u001B[0;34m.\u001B[0m\u001B[0msum\u001B[0m\u001B[0;34m(\u001B[0m\u001B[0mpreds\u001B[0m\u001B[0;34m)\u001B[0m\u001B[0;34m*\u001B[0m\u001B[0mpreds\u001B[0m\u001B[0;34m)\u001B[0m\u001B[0;34m\u001B[0m\u001B[0;34m\u001B[0m\u001B[0m\n\u001B[0m\u001B[1;32m     49\u001B[0m \u001B[0;34m\u001B[0m\u001B[0m\n\u001B[1;32m     50\u001B[0m     \u001B[0mplt\u001B[0m\u001B[0;34m.\u001B[0m\u001B[0mfigure\u001B[0m\u001B[0;34m(\u001B[0m\u001B[0mfigsize\u001B[0m\u001B[0;34m=\u001B[0m\u001B[0;34m(\u001B[0m\u001B[0;36m22\u001B[0m\u001B[0;34m,\u001B[0m \u001B[0;36m6\u001B[0m\u001B[0;34m)\u001B[0m\u001B[0;34m,\u001B[0m \u001B[0mdpi\u001B[0m\u001B[0;34m=\u001B[0m\u001B[0;36m80\u001B[0m\u001B[0;34m)\u001B[0m\u001B[0;34m\u001B[0m\u001B[0;34m\u001B[0m\u001B[0m\n\u001B[1;32m     51\u001B[0m     plt.plot(phi_theory, \n",
      "\u001B[0;32m~/Library/Caches/pypoetry/virtualenvs/msu-interpol--lw2ADYE-py3.11/lib/python3.11/site-packages/scipy/stats/_stats_py.py\u001B[0m in \u001B[0;36m?\u001B[0;34m(f_obs, f_exp, ddof, axis)\u001B[0m\n\u001B[1;32m   8208\u001B[0m     ...           axis=1)\n\u001B[1;32m   8209\u001B[0m     \u001B[0mPower_divergenceResult\u001B[0m\u001B[0;34m(\u001B[0m\u001B[0mstatistic\u001B[0m\u001B[0;34m=\u001B[0m\u001B[0marray\u001B[0m\u001B[0;34m(\u001B[0m\u001B[0;34m[\u001B[0m\u001B[0;36m3.5\u001B[0m \u001B[0;34m,\u001B[0m \u001B[0;36m9.25\u001B[0m\u001B[0;34m]\u001B[0m\u001B[0;34m)\u001B[0m\u001B[0;34m,\u001B[0m \u001B[0mpvalue\u001B[0m\u001B[0;34m=\u001B[0m\u001B[0marray\u001B[0m\u001B[0;34m(\u001B[0m\u001B[0;34m[\u001B[0m\u001B[0;36m0.62338763\u001B[0m\u001B[0;34m,\u001B[0m \u001B[0;36m0.09949846\u001B[0m\u001B[0;34m]\u001B[0m\u001B[0;34m)\u001B[0m\u001B[0;34m)\u001B[0m\u001B[0;34m\u001B[0m\u001B[0;34m\u001B[0m\u001B[0m\n\u001B[1;32m   8210\u001B[0m \u001B[0;34m\u001B[0m\u001B[0m\n\u001B[1;32m   8211\u001B[0m     \"\"\"  # noqa: E501\n\u001B[0;32m-> 8212\u001B[0;31m     return power_divergence(f_obs, f_exp=f_exp, ddof=ddof, axis=axis,\n\u001B[0m\u001B[1;32m   8213\u001B[0m                             lambda_=\"pearson\")\n",
      "\u001B[0;32m~/Library/Caches/pypoetry/virtualenvs/msu-interpol--lw2ADYE-py3.11/lib/python3.11/site-packages/scipy/stats/_stats_py.py\u001B[0m in \u001B[0;36m?\u001B[0;34m(f_obs, f_exp, ddof, axis, lambda_)\u001B[0m\n\u001B[1;32m   8005\u001B[0m                    \u001B[0;34mf\"frequencies must agree with the sum of the \"\u001B[0m\u001B[0;34m\u001B[0m\u001B[0;34m\u001B[0m\u001B[0m\n\u001B[1;32m   8006\u001B[0m                    \u001B[0;34mf\"expected frequencies to a relative tolerance \"\u001B[0m\u001B[0;34m\u001B[0m\u001B[0;34m\u001B[0m\u001B[0m\n\u001B[1;32m   8007\u001B[0m                    \u001B[0;34mf\"of {rtol}, but the percent differences are:\\n\"\u001B[0m\u001B[0;34m\u001B[0m\u001B[0;34m\u001B[0m\u001B[0m\n\u001B[1;32m   8008\u001B[0m                    f\"{relative_diff}\")\n\u001B[0;32m-> 8009\u001B[0;31m             \u001B[0;32mraise\u001B[0m \u001B[0mValueError\u001B[0m\u001B[0;34m(\u001B[0m\u001B[0mmsg\u001B[0m\u001B[0;34m)\u001B[0m\u001B[0;34m\u001B[0m\u001B[0;34m\u001B[0m\u001B[0m\n\u001B[0m\u001B[1;32m   8010\u001B[0m \u001B[0;34m\u001B[0m\u001B[0m\n\u001B[1;32m   8011\u001B[0m     \u001B[0;32melse\u001B[0m\u001B[0;34m:\u001B[0m\u001B[0;34m\u001B[0m\u001B[0;34m\u001B[0m\u001B[0m\n\u001B[1;32m   8012\u001B[0m         \u001B[0;31m# Ignore 'invalid' errors so the edge case of a data set with length 0\u001B[0m\u001B[0;34m\u001B[0m\u001B[0;34m\u001B[0m\u001B[0m\n",
      "\u001B[0;31mValueError\u001B[0m: For each axis slice, the sum of the observed frequencies must agree with the sum of the expected frequencies to a relative tolerance of 1e-08, but the percent differences are:\n1.622160133285814e-07"
     ]
    }
   ],
   "source": [
    "cross_sections_check(df, 5.754, 1.53, 1.715, 0.5)"
   ],
   "metadata": {
    "collapsed": false,
    "ExecuteTime": {
     "end_time": "2024-02-06T00:11:26.679785Z",
     "start_time": "2024-02-06T00:11:26.535243Z"
    }
   }
  },
  {
   "cell_type": "code",
   "execution_count": 154,
   "outputs": [
    {
     "data": {
      "text/plain": "array([83.16, 45.36, 54.81,  5.67])"
     },
     "execution_count": 154,
     "metadata": {},
     "output_type": "execute_result"
    }
   ],
   "source": [
    "np.array([44, 24, 29, 3]) / 100 * 189"
   ],
   "metadata": {
    "collapsed": false,
    "ExecuteTime": {
     "end_time": "2024-02-05T23:52:53.570565Z",
     "start_time": "2024-02-05T23:52:53.545410Z"
    }
   }
  },
  {
   "cell_type": "code",
   "execution_count": 155,
   "outputs": [
    {
     "data": {
      "text/plain": "array([43, 52, 54, 40])"
     },
     "execution_count": 155,
     "metadata": {},
     "output_type": "execute_result"
    }
   ],
   "source": [
    "np.array([43, 52, 54, 40])\n"
   ],
   "metadata": {
    "collapsed": false,
    "ExecuteTime": {
     "end_time": "2024-02-05T23:53:00.486564Z",
     "start_time": "2024-02-05T23:53:00.457810Z"
    }
   }
  },
  {
   "cell_type": "code",
   "execution_count": 172,
   "outputs": [
    {
     "ename": "ValueError",
     "evalue": "For each axis slice, the sum of the observed frequencies must agree with the sum of the expected frequencies to a relative tolerance of 1e-08, but the percent differences are:\n12.1",
     "output_type": "error",
     "traceback": [
      "\u001B[0;31m---------------------------------------------------------------------------\u001B[0m",
      "\u001B[0;31mValueError\u001B[0m                                Traceback (most recent call last)",
      "\u001B[0;32m/var/folders/xz/1q44kbwx25g7j6b7qsjs_x4r0000gp/T/ipykernel_34726/2203519396.py\u001B[0m in \u001B[0;36m?\u001B[0;34m()\u001B[0m\n\u001B[0;32m----> 1\u001B[0;31m \u001B[0ma\u001B[0m\u001B[0;34m,\u001B[0m \u001B[0mb\u001B[0m \u001B[0;34m=\u001B[0m \u001B[0mchisquare\u001B[0m\u001B[0;34m(\u001B[0m\u001B[0mf_obs\u001B[0m\u001B[0;34m=\u001B[0m\u001B[0;34m[\u001B[0m\u001B[0;36m1\u001B[0m\u001B[0;34m,\u001B[0m\u001B[0;36m2\u001B[0m\u001B[0;34m,\u001B[0m\u001B[0;36m3\u001B[0m\u001B[0;34m,\u001B[0m\u001B[0;36m125\u001B[0m\u001B[0;34m]\u001B[0m\u001B[0;34m,\u001B[0m \u001B[0mf_exp\u001B[0m\u001B[0;34m=\u001B[0m\u001B[0;34m[\u001B[0m\u001B[0;36m1\u001B[0m\u001B[0;34m,\u001B[0m\u001B[0;36m2\u001B[0m\u001B[0;34m,\u001B[0m\u001B[0;36m3\u001B[0m\u001B[0;34m,\u001B[0m\u001B[0;36m4\u001B[0m\u001B[0;34m]\u001B[0m\u001B[0;34m)\u001B[0m\u001B[0;34m\u001B[0m\u001B[0;34m\u001B[0m\u001B[0m\n\u001B[0m",
      "\u001B[0;32m~/Library/Caches/pypoetry/virtualenvs/msu-interpol--lw2ADYE-py3.11/lib/python3.11/site-packages/scipy/stats/_stats_py.py\u001B[0m in \u001B[0;36m?\u001B[0;34m(f_obs, f_exp, ddof, axis)\u001B[0m\n\u001B[1;32m   8208\u001B[0m     ...           axis=1)\n\u001B[1;32m   8209\u001B[0m     \u001B[0mPower_divergenceResult\u001B[0m\u001B[0;34m(\u001B[0m\u001B[0mstatistic\u001B[0m\u001B[0;34m=\u001B[0m\u001B[0marray\u001B[0m\u001B[0;34m(\u001B[0m\u001B[0;34m[\u001B[0m\u001B[0;36m3.5\u001B[0m \u001B[0;34m,\u001B[0m \u001B[0;36m9.25\u001B[0m\u001B[0;34m]\u001B[0m\u001B[0;34m)\u001B[0m\u001B[0;34m,\u001B[0m \u001B[0mpvalue\u001B[0m\u001B[0;34m=\u001B[0m\u001B[0marray\u001B[0m\u001B[0;34m(\u001B[0m\u001B[0;34m[\u001B[0m\u001B[0;36m0.62338763\u001B[0m\u001B[0;34m,\u001B[0m \u001B[0;36m0.09949846\u001B[0m\u001B[0;34m]\u001B[0m\u001B[0;34m)\u001B[0m\u001B[0;34m)\u001B[0m\u001B[0;34m\u001B[0m\u001B[0;34m\u001B[0m\u001B[0m\n\u001B[1;32m   8210\u001B[0m \u001B[0;34m\u001B[0m\u001B[0m\n\u001B[1;32m   8211\u001B[0m     \"\"\"  # noqa: E501\n\u001B[0;32m-> 8212\u001B[0;31m     return power_divergence(f_obs, f_exp=f_exp, ddof=ddof, axis=axis,\n\u001B[0m\u001B[1;32m   8213\u001B[0m                             lambda_=\"pearson\")\n",
      "\u001B[0;32m~/Library/Caches/pypoetry/virtualenvs/msu-interpol--lw2ADYE-py3.11/lib/python3.11/site-packages/scipy/stats/_stats_py.py\u001B[0m in \u001B[0;36m?\u001B[0;34m(f_obs, f_exp, ddof, axis, lambda_)\u001B[0m\n\u001B[1;32m   8005\u001B[0m                    \u001B[0;34mf\"frequencies must agree with the sum of the \"\u001B[0m\u001B[0;34m\u001B[0m\u001B[0;34m\u001B[0m\u001B[0m\n\u001B[1;32m   8006\u001B[0m                    \u001B[0;34mf\"expected frequencies to a relative tolerance \"\u001B[0m\u001B[0;34m\u001B[0m\u001B[0;34m\u001B[0m\u001B[0m\n\u001B[1;32m   8007\u001B[0m                    \u001B[0;34mf\"of {rtol}, but the percent differences are:\\n\"\u001B[0m\u001B[0;34m\u001B[0m\u001B[0;34m\u001B[0m\u001B[0m\n\u001B[1;32m   8008\u001B[0m                    f\"{relative_diff}\")\n\u001B[0;32m-> 8009\u001B[0;31m             \u001B[0;32mraise\u001B[0m \u001B[0mValueError\u001B[0m\u001B[0;34m(\u001B[0m\u001B[0mmsg\u001B[0m\u001B[0;34m)\u001B[0m\u001B[0;34m\u001B[0m\u001B[0;34m\u001B[0m\u001B[0m\n\u001B[0m\u001B[1;32m   8010\u001B[0m \u001B[0;34m\u001B[0m\u001B[0m\n\u001B[1;32m   8011\u001B[0m     \u001B[0;32melse\u001B[0m\u001B[0;34m:\u001B[0m\u001B[0;34m\u001B[0m\u001B[0;34m\u001B[0m\u001B[0m\n\u001B[1;32m   8012\u001B[0m         \u001B[0;31m# Ignore 'invalid' errors so the edge case of a data set with length 0\u001B[0m\u001B[0;34m\u001B[0m\u001B[0;34m\u001B[0m\u001B[0m\n",
      "\u001B[0;31mValueError\u001B[0m: For each axis slice, the sum of the observed frequencies must agree with the sum of the expected frequencies to a relative tolerance of 1e-08, but the percent differences are:\n12.1"
     ]
    }
   ],
   "source": [
    "a, b = chisquare(f_obs=[1,2,3,125], f_exp=[1,2,3,4])"
   ],
   "metadata": {
    "collapsed": false,
    "ExecuteTime": {
     "end_time": "2024-02-06T00:00:32.273094Z",
     "start_time": "2024-02-06T00:00:32.250004Z"
    }
   }
  },
  {
   "cell_type": "code",
   "execution_count": 162,
   "outputs": [
    {
     "data": {
      "text/plain": "0.0"
     },
     "execution_count": 162,
     "metadata": {},
     "output_type": "execute_result"
    }
   ],
   "source": [
    "a"
   ],
   "metadata": {
    "collapsed": false,
    "ExecuteTime": {
     "end_time": "2024-02-05T23:56:25.792973Z",
     "start_time": "2024-02-05T23:56:25.763791Z"
    }
   }
  },
  {
   "cell_type": "code",
   "execution_count": 163,
   "outputs": [
    {
     "data": {
      "text/plain": "1.0"
     },
     "execution_count": 163,
     "metadata": {},
     "output_type": "execute_result"
    }
   ],
   "source": [
    "b"
   ],
   "metadata": {
    "collapsed": false,
    "ExecuteTime": {
     "end_time": "2024-02-05T23:56:27.357552Z",
     "start_time": "2024-02-05T23:56:27.329200Z"
    }
   }
  },
  {
   "cell_type": "code",
   "execution_count": null,
   "outputs": [],
   "source": [],
   "metadata": {
    "collapsed": false
   }
  }
 ],
 "metadata": {
  "kernelspec": {
   "display_name": "Python 3",
   "language": "python",
   "name": "python3"
  },
  "language_info": {
   "codemirror_mode": {
    "name": "ipython",
    "version": 3
   },
   "file_extension": ".py",
   "mimetype": "text/x-python",
   "name": "python",
   "nbconvert_exporter": "python",
   "pygments_lexer": "ipython3",
   "version": "3.9.0"
  }
 },
 "nbformat": 4,
 "nbformat_minor": 5
}
