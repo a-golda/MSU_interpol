{
 "cells": [
  {
   "cell_type": "code",
   "execution_count": 1,
   "metadata": {
    "collapsed": true,
    "ExecuteTime": {
     "end_time": "2024-06-01T03:26:43.798760Z",
     "start_time": "2024-06-01T03:26:35.058444Z"
    }
   },
   "outputs": [
    {
     "name": "stderr",
     "output_type": "stream",
     "text": [
      "/var/folders/xz/1q44kbwx25g7j6b7qsjs_x4r0000gp/T/ipykernel_24791/1551533013.py:3: DeprecationWarning: \n",
      "Pyarrow will become a required dependency of pandas in the next major release of pandas (pandas 3.0),\n",
      "(to allow more performant data types, such as the Arrow string type, and better interoperability with other libraries)\n",
      "but was not found to be installed on your system.\n",
      "If this would cause problems for you,\n",
      "please provide us feedback at https://github.com/pandas-dev/pandas/issues/54466\n",
      "        \n",
      "  import pandas as pd\n"
     ]
    }
   ],
   "source": [
    "import math\n",
    "import numpy as np\n",
    "import pandas as pd\n",
    "\n",
    "import matplotlib.pyplot as plt"
   ]
  },
  {
   "cell_type": "code",
   "execution_count": 2,
   "outputs": [],
   "source": [
    "data_path = '../../data/clasdb_pi_plus_n.txt'"
   ],
   "metadata": {
    "collapsed": false,
    "ExecuteTime": {
     "end_time": "2024-06-01T03:26:43.802863Z",
     "start_time": "2024-06-01T03:26:43.800288Z"
    }
   }
  },
  {
   "cell_type": "code",
   "execution_count": 3,
   "outputs": [],
   "source": [
    "df = pd.read_csv(data_path, delimiter='\\t', header=None)\n",
    "df.columns = ['Ebeam', 'W', 'Q2', 'cos_theta', 'phi', 'dsigma_dOmega', 'error', 'id']\n",
    "df.loc[8314:65671, 'Ebeam'] = 5.754  # peculiarity of this dataset.\n",
    "df = df[~((df.Ebeam == 5.754) & (~df.Q2.isin([1.715, 2.050, 2.445, 2.915, 3.480, 4.155])))] # peculiarity of this dataset #2\n",
    "df['phi'] = df.phi.apply(lambda x: math.radians(x))\n",
    "df['weight'] = df['error'].apply(lambda x: x and 1 / x or 100)  # x and 1 / x or 100  is just a reversed error but with validation 1/0 error in this case it will return 100\n",
    "df = df.drop('id', axis=1)\n",
    "df = df.drop_duplicates(subset=['Ebeam', 'W', 'Q2', 'cos_theta', 'phi'])\n",
    "df['cos_theta_rounded'] = df['cos_theta'].apply(lambda x: round(x,2))"
   ],
   "metadata": {
    "collapsed": false,
    "ExecuteTime": {
     "end_time": "2024-06-01T03:26:44.032977Z",
     "start_time": "2024-06-01T03:26:43.807766Z"
    }
   }
  },
  {
   "cell_type": "code",
   "execution_count": 4,
   "outputs": [
    {
     "data": {
      "text/plain": "       Ebeam     W   Q2  cos_theta       phi  dsigma_dOmega     error  \\\n0      1.515  1.11  0.3   0.991445  0.261799        15.3700  5.264366   \n1      1.515  1.11  0.3   0.991445  0.785398         4.5110  1.743136   \n2      1.515  1.11  0.3   0.991445  1.308997         4.4780  1.611260   \n3      1.515  1.11  0.3   0.991445  1.832596         5.1360  1.523529   \n4      1.515  1.11  0.3   0.991445  2.356194         5.0780  1.219442   \n...      ...   ...  ...        ...       ...            ...       ...   \n98022  5.499  2.01  4.0   0.975000  3.730641         0.1012  0.043165   \n98023  5.499  2.01  4.0   0.975000  3.992441         0.1199  0.076638   \n98024  5.499  2.01  4.0   0.975000  4.646939         0.1578  0.095391   \n98025  5.499  2.01  4.0   0.975000  4.777839         0.2346  0.158557   \n98026  5.499  2.01  4.0   0.975000  6.086836         0.1250  0.077753   \n\n          weight  cos_theta_rounded  \n0       0.189956               0.99  \n1       0.573679               0.99  \n2       0.620632               0.99  \n3       0.656371               0.99  \n4       0.820047               0.99  \n...          ...                ...  \n98022  23.166714               0.97  \n98023  13.048361               0.97  \n98024  10.483159               0.97  \n98025   6.306878               0.97  \n98026  12.861250               0.97  \n\n[81968 rows x 9 columns]",
      "text/html": "<div>\n<style scoped>\n    .dataframe tbody tr th:only-of-type {\n        vertical-align: middle;\n    }\n\n    .dataframe tbody tr th {\n        vertical-align: top;\n    }\n\n    .dataframe thead th {\n        text-align: right;\n    }\n</style>\n<table border=\"1\" class=\"dataframe\">\n  <thead>\n    <tr style=\"text-align: right;\">\n      <th></th>\n      <th>Ebeam</th>\n      <th>W</th>\n      <th>Q2</th>\n      <th>cos_theta</th>\n      <th>phi</th>\n      <th>dsigma_dOmega</th>\n      <th>error</th>\n      <th>weight</th>\n      <th>cos_theta_rounded</th>\n    </tr>\n  </thead>\n  <tbody>\n    <tr>\n      <th>0</th>\n      <td>1.515</td>\n      <td>1.11</td>\n      <td>0.3</td>\n      <td>0.991445</td>\n      <td>0.261799</td>\n      <td>15.3700</td>\n      <td>5.264366</td>\n      <td>0.189956</td>\n      <td>0.99</td>\n    </tr>\n    <tr>\n      <th>1</th>\n      <td>1.515</td>\n      <td>1.11</td>\n      <td>0.3</td>\n      <td>0.991445</td>\n      <td>0.785398</td>\n      <td>4.5110</td>\n      <td>1.743136</td>\n      <td>0.573679</td>\n      <td>0.99</td>\n    </tr>\n    <tr>\n      <th>2</th>\n      <td>1.515</td>\n      <td>1.11</td>\n      <td>0.3</td>\n      <td>0.991445</td>\n      <td>1.308997</td>\n      <td>4.4780</td>\n      <td>1.611260</td>\n      <td>0.620632</td>\n      <td>0.99</td>\n    </tr>\n    <tr>\n      <th>3</th>\n      <td>1.515</td>\n      <td>1.11</td>\n      <td>0.3</td>\n      <td>0.991445</td>\n      <td>1.832596</td>\n      <td>5.1360</td>\n      <td>1.523529</td>\n      <td>0.656371</td>\n      <td>0.99</td>\n    </tr>\n    <tr>\n      <th>4</th>\n      <td>1.515</td>\n      <td>1.11</td>\n      <td>0.3</td>\n      <td>0.991445</td>\n      <td>2.356194</td>\n      <td>5.0780</td>\n      <td>1.219442</td>\n      <td>0.820047</td>\n      <td>0.99</td>\n    </tr>\n    <tr>\n      <th>...</th>\n      <td>...</td>\n      <td>...</td>\n      <td>...</td>\n      <td>...</td>\n      <td>...</td>\n      <td>...</td>\n      <td>...</td>\n      <td>...</td>\n      <td>...</td>\n    </tr>\n    <tr>\n      <th>98022</th>\n      <td>5.499</td>\n      <td>2.01</td>\n      <td>4.0</td>\n      <td>0.975000</td>\n      <td>3.730641</td>\n      <td>0.1012</td>\n      <td>0.043165</td>\n      <td>23.166714</td>\n      <td>0.97</td>\n    </tr>\n    <tr>\n      <th>98023</th>\n      <td>5.499</td>\n      <td>2.01</td>\n      <td>4.0</td>\n      <td>0.975000</td>\n      <td>3.992441</td>\n      <td>0.1199</td>\n      <td>0.076638</td>\n      <td>13.048361</td>\n      <td>0.97</td>\n    </tr>\n    <tr>\n      <th>98024</th>\n      <td>5.499</td>\n      <td>2.01</td>\n      <td>4.0</td>\n      <td>0.975000</td>\n      <td>4.646939</td>\n      <td>0.1578</td>\n      <td>0.095391</td>\n      <td>10.483159</td>\n      <td>0.97</td>\n    </tr>\n    <tr>\n      <th>98025</th>\n      <td>5.499</td>\n      <td>2.01</td>\n      <td>4.0</td>\n      <td>0.975000</td>\n      <td>4.777839</td>\n      <td>0.2346</td>\n      <td>0.158557</td>\n      <td>6.306878</td>\n      <td>0.97</td>\n    </tr>\n    <tr>\n      <th>98026</th>\n      <td>5.499</td>\n      <td>2.01</td>\n      <td>4.0</td>\n      <td>0.975000</td>\n      <td>6.086836</td>\n      <td>0.1250</td>\n      <td>0.077753</td>\n      <td>12.861250</td>\n      <td>0.97</td>\n    </tr>\n  </tbody>\n</table>\n<p>81968 rows × 9 columns</p>\n</div>"
     },
     "execution_count": 4,
     "metadata": {},
     "output_type": "execute_result"
    }
   ],
   "source": [
    "df_a = pd.read_csv('../../data/final_table.csv', header=None, sep='\\t',\n",
    "                    names=['Channel', 'MID', 'Wmin', 'Wmax', 'Q2min', 'Q2max', 'Cos(theta)', 'sigma_t', 'd_sigma_t',\n",
    "                    'sigma_l', 'd_sigma_l', 'sigma_tt', 'd_sigma_tt', 'sigma_lt', 'd_sigma_lt', 'eps'])\n",
    "df_a = df_a[df_a.Channel.isin([8, 14, 41, 141])]\n",
    "df_a['W'] = (df_a['Wmax'] + df_a['Wmin'])/2\n",
    "df_a['Q2'] = (df_a['Q2max'] + df_a['Q2min'])/2\n",
    "df_a['cos_theta'] = df_a['Cos(theta)']\n",
    "df_a['cos_theta_rounded'] = df_a['cos_theta'].apply(lambda x: round(x,2))"
   ],
   "metadata": {
    "collapsed": false,
    "ExecuteTime": {
     "end_time": "2024-06-01T03:26:44.051365Z",
     "start_time": "2024-06-01T03:26:44.032477Z"
    }
   }
  },
  {
   "cell_type": "code",
   "execution_count": 19,
   "outputs": [],
   "source": [
    "df_data = df.merge(df_a, how='left', on=['W', 'Q2', 'cos_theta_rounded'])\n",
    "\n",
    "df_data['A'] = df_data.sigma_t + df_data.sigma_l\n",
    "df_data['A_error'] = df_data.d_sigma_t + df_data.d_sigma_l\n",
    "\n",
    "df_data['B'] = df_data.sigma_tt\n",
    "df_data['B_error'] = df_data.d_sigma_tt\n",
    "\n",
    "df_data['C'] = df_data.sigma_lt\n",
    "df_data['C_error'] = df_data.d_sigma_lt\n",
    "\n",
    "\n",
    "df_data['cos_theta'] = df_data['cos_theta_x']\n",
    "df_data = df_data[['Ebeam', 'W', 'Q2', 'cos_theta', 'phi',\n",
    "                    'dsigma_dOmega', 'error', 'A', 'A_error',\n",
    "                    'B', 'B_error', 'C', 'C_error', 'eps']]"
   ],
   "metadata": {
    "collapsed": false,
    "ExecuteTime": {
     "end_time": "2024-05-24T11:29:10.434038Z",
     "start_time": "2024-05-24T11:29:10.345698Z"
    }
   }
  },
  {
   "cell_type": "code",
   "execution_count": 55,
   "outputs": [],
   "source": [
    "# df_data.to_csv('../../data/df_with_ABC.csv')"
   ],
   "metadata": {
    "collapsed": false,
    "ExecuteTime": {
     "end_time": "2024-05-17T22:03:57.767533Z",
     "start_time": "2024-05-17T22:03:56.773434Z"
    }
   }
  },
  {
   "cell_type": "code",
   "execution_count": 20,
   "outputs": [],
   "source": [],
   "metadata": {
    "collapsed": false,
    "ExecuteTime": {
     "end_time": "2024-05-24T11:29:32.038351Z",
     "start_time": "2024-05-24T11:29:32.031182Z"
    }
   }
  },
  {
   "cell_type": "code",
   "execution_count": 13,
   "outputs": [],
   "source": [],
   "metadata": {
    "collapsed": false,
    "ExecuteTime": {
     "end_time": "2024-05-19T22:46:53.633147Z",
     "start_time": "2024-05-19T22:46:53.626435Z"
    }
   }
  },
  {
   "cell_type": "code",
   "execution_count": null,
   "outputs": [],
   "source": [],
   "metadata": {
    "collapsed": false
   }
  }
 ],
 "metadata": {
  "kernelspec": {
   "display_name": "Python 3",
   "language": "python",
   "name": "python3"
  },
  "language_info": {
   "codemirror_mode": {
    "name": "ipython",
    "version": 2
   },
   "file_extension": ".py",
   "mimetype": "text/x-python",
   "name": "python",
   "nbconvert_exporter": "python",
   "pygments_lexer": "ipython2",
   "version": "2.7.6"
  }
 },
 "nbformat": 4,
 "nbformat_minor": 0
}
